{
  "cells": [
    {
      "cell_type": "markdown",
      "source": [
        "# Automated ML\n",
        "\n",
        "TODO: Import Dependencies. In the cell below, import all the dependencies that you will need to complete the project."
      ],
      "metadata": {}
    },
    {
      "cell_type": "code",
      "source": [
        "\r\n",
        "from azureml.core import Workspace, Experiment\r\n",
        "from azureml.core.compute import ComputeTarget, AmlCompute\r\n",
        "from azureml.core.compute_target import ComputeTargetException\r\n",
        "from azureml.widgets import RunDetails\r\n",
        "from azureml.train.hyperdrive.run import PrimaryMetricGoal\r\n",
        "import os\r\n",
        "import joblib\r\n",
        "from azureml.core.dataset import Dataset\r\n",
        "from azureml.train.automl import AutoMLConfig\r\n",
        "from azureml.core.model import Model\r\n",
        "from azureml.core.webservice import AciWebservice\r\n",
        "from azureml.core.environment import Environment\r\n",
        "from azureml.core.model import InferenceConfig\r\n",
        "import requests\r\n",
        "import json\r\n",
        "import sklearn\r\n",
        "from azureml.automl.runtime.onnx_convert import OnnxConverter\r\n",
        "import pandas as pd\r\n",
        "from pandas import DataFrame"
      ],
      "outputs": [],
      "execution_count": 1,
      "metadata": {
        "gather": {
          "logged": 1611666146297
        },
        "jupyter": {
          "outputs_hidden": false,
          "source_hidden": false
        },
        "nteract": {
          "transient": {
            "deleting": false
          }
        }
      }
    },
    {
      "cell_type": "markdown",
      "source": [
        "## Dataset\n",
        "\n",
        "### Overview\n",
        "TODO: In this markdown cell, give an overview of the dataset you are using. Also mention the task you will be performing.\n",
        "\n",
        "\n",
        "TODO: Get data. In the cell below, write code to access the data you will be using in this project. Remember that the dataset needs to be external."
      ],
      "metadata": {}
    },
    {
      "cell_type": "code",
      "source": [
        "from azureml.core import Workspace, Experiment\r\n",
        "from azureml.pipeline.steps import PythonScriptStep\r\n",
        "from azureml.train.sklearn import SKLearn\r\n",
        "\r\n",
        "ws = Workspace.get(name=\"quick-starts-ws-136122\")\r\n",
        "exp = Experiment(workspace=ws, name=\"udacity-project\")\r\n",
        "\r\n",
        "print('Workspace name: ' + ws.name, \r\n",
        "      'Azure region: ' + ws.location, \r\n",
        "      'Subscription id: ' + ws.subscription_id, \r\n",
        "      )\r\n",
        "\r\n",
        "run = exp.start_logging()"
      ],
      "outputs": [],
      "execution_count": null,
      "metadata": {
        "collapsed": true,
        "jupyter": {
          "source_hidden": false,
          "outputs_hidden": false
        },
        "nteract": {
          "transient": {
            "deleting": false
          }
        },
        "gather": {
          "logged": 1610788810416
        }
      }
    },
    {
      "cell_type": "code",
      "source": [
        "ws = Workspace.from_config()\n",
        "\n",
        "# choose a name for experiment\n",
        "experiment_name = 'udacity-capstone'\n",
        "\n",
        "experiment=Experiment(ws, experiment_name)"
      ],
      "outputs": [
        {
          "output_type": "stream",
          "name": "stdout",
          "text": [
            "Performing interactive authentication. Please follow the instructions on the terminal.\n",
            "To sign in, use a web browser to open the page https://microsoft.com/devicelogin and enter the code E9VMQZ346 to authenticate.\n",
            "You have logged in. Now let us find all the subscriptions to which you have access...\n",
            "Interactive authentication successfully completed.\n"
          ]
        }
      ],
      "execution_count": 2,
      "metadata": {
        "gather": {
          "logged": 1611666178496
        },
        "jupyter": {
          "outputs_hidden": false,
          "source_hidden": false
        },
        "nteract": {
          "transient": {
            "deleting": false
          }
        }
      }
    },
    {
      "cell_type": "code",
      "source": [
        "from azureml.core.compute import ComputeTarget, AmlCompute\r\n",
        "\r\n",
        "# TODO: Create compute cluster\r\n",
        "\r\n",
        "# Use vm_size = \"Standard_D2_V2\" in your provisioning configuration.\r\n",
        "# max_nodes should be no greater than 4.\r\n",
        "vm_size = \"Standard_DS3_V2\"\r\n",
        "compute_name=\"compute-cluster\"\r\n",
        "# create the cluster\r\n",
        "compute_min_nodes=0\r\n",
        "compute_max_nodes=4\r\n",
        "\r\n",
        "\r\n",
        "\r\n",
        "\r\n",
        "### YOUR CODE HERE ###\r\n",
        "# Checking if  compute already exist or not  if not creating a new target\r\n",
        "if compute_name in ws.compute_targets:\r\n",
        "    compute_target = ws.compute_targets[compute_name]\r\n",
        "    if compute_target and type(compute_target) is AmlCompute:\r\n",
        "        print(\"found compute target: \" + compute_name)\r\n",
        "else:\r\n",
        "    print(\"creating new compute target...\")\r\n",
        "    provisioning_config = AmlCompute.provisioning_configuration(vm_size = vm_size,\r\n",
        "                                                                min_nodes = compute_min_nodes, \r\n",
        "                                                                max_nodes = compute_max_nodes)\r\n",
        "    # if no min node count is provided it will use the scale settings for the cluster\r\n",
        "    compute_target.wait_for_completion(show_output=True, timeout_in_minutes=20)\r\n",
        "    print(compute_target.get_status().serialize())"
      ],
      "outputs": [],
      "execution_count": 3,
      "metadata": {
        "collapsed": true,
        "jupyter": {
          "source_hidden": false,
          "outputs_hidden": false
        },
        "nteract": {
          "transient": {
            "deleting": false
          }
        },
        "gather": {
          "logged": 1611666182335
        }
      }
    },
    {
      "cell_type": "markdown",
      "source": [
        "## AutoML Configuration\n",
        "\n",
        "TODO: Explain why you chose the automl settings and cofiguration you used below."
      ],
      "metadata": {}
    },
    {
      "cell_type": "code",
      "source": [
        "# azureml-core of version 1.0.72 or higher is required\r\n",
        "# azureml-dataprep[pandas] of version 1.1.34 or higher is required\r\n",
        "from azureml.core import Workspace, Dataset\r\n",
        "\r\n",
        "subscription_id = 'a0a76bad-11a1-4a2d-9887-97a29122c8ed'\r\n",
        "resource_group = 'aml-quickstarts-136122'\r\n",
        "workspace_name = 'quick-starts-ws-136122'\r\n",
        "\r\n",
        "workspace = Workspace(subscription_id, resource_group, workspace_name)\r\n",
        "\r\n",
        "dataset = Dataset.get_by_name(workspace, name='cancer-dataset')\r\n",
        "dataset.to_pandas_dataframe()\r\n",
        "df=dataset.to_pandas_dataframe()"
      ],
      "outputs": [],
      "execution_count": 4,
      "metadata": {
        "collapsed": true,
        "jupyter": {
          "source_hidden": false,
          "outputs_hidden": false
        },
        "nteract": {
          "transient": {
            "deleting": false
          }
        },
        "gather": {
          "logged": 1611666218986
        }
      }
    },
    {
      "cell_type": "code",
      "source": [
        "from sklearn.preprocessing import LabelEncoder \r\n",
        "le = LabelEncoder() \r\n",
        "df['diagnosis']= le.fit_transform(df['diagnosis']) \r\n",
        "df.head()"
      ],
      "outputs": [
        {
          "output_type": "execute_result",
          "execution_count": 5,
          "data": {
            "text/plain": "         id  diagnosis  radius_mean  texture_mean  perimeter_mean  area_mean  \\\n0    842302          1        17.99         10.38          122.80    1001.00   \n1    842517          1        20.57         17.77          132.90    1326.00   \n2  84300903          1        19.69         21.25          130.00    1203.00   \n3  84348301          1        11.42         20.38           77.58     386.10   \n4  84358402          1        20.29         14.34          135.10    1297.00   \n\n   smoothness_mean  compactness_mean  concavity_mean  concave points_mean  \\\n0             0.12              0.28            0.30                 0.15   \n1             0.08              0.08            0.09                 0.07   \n2             0.11              0.16            0.20                 0.13   \n3             0.14              0.28            0.24                 0.11   \n4             0.10              0.13            0.20                 0.10   \n\n   ...  radius_worst  texture_worst  perimeter_worst  area_worst  \\\n0  ...         25.38          17.33           184.60     2019.00   \n1  ...         24.99          23.41           158.80     1956.00   \n2  ...         23.57          25.53           152.50     1709.00   \n3  ...         14.91          26.50            98.87      567.70   \n4  ...         22.54          16.67           152.20     1575.00   \n\n   smoothness_worst  compactness_worst  concavity_worst  concave points_worst  \\\n0              0.16               0.67             0.71                  0.27   \n1              0.12               0.19             0.24                  0.19   \n2              0.14               0.42             0.45                  0.24   \n3              0.21               0.87             0.69                  0.26   \n4              0.14               0.20             0.40                  0.16   \n\n   symmetry_worst  fractal_dimension_worst  \n0            0.46                     0.12  \n1            0.28                     0.09  \n2            0.36                     0.09  \n3            0.66                     0.17  \n4            0.24                     0.08  \n\n[5 rows x 32 columns]",
            "text/html": "<div>\n<style scoped>\n    .dataframe tbody tr th:only-of-type {\n        vertical-align: middle;\n    }\n\n    .dataframe tbody tr th {\n        vertical-align: top;\n    }\n\n    .dataframe thead th {\n        text-align: right;\n    }\n</style>\n<table border=\"1\" class=\"dataframe\">\n  <thead>\n    <tr style=\"text-align: right;\">\n      <th></th>\n      <th>id</th>\n      <th>diagnosis</th>\n      <th>radius_mean</th>\n      <th>texture_mean</th>\n      <th>perimeter_mean</th>\n      <th>area_mean</th>\n      <th>smoothness_mean</th>\n      <th>compactness_mean</th>\n      <th>concavity_mean</th>\n      <th>concave points_mean</th>\n      <th>...</th>\n      <th>radius_worst</th>\n      <th>texture_worst</th>\n      <th>perimeter_worst</th>\n      <th>area_worst</th>\n      <th>smoothness_worst</th>\n      <th>compactness_worst</th>\n      <th>concavity_worst</th>\n      <th>concave points_worst</th>\n      <th>symmetry_worst</th>\n      <th>fractal_dimension_worst</th>\n    </tr>\n  </thead>\n  <tbody>\n    <tr>\n      <th>0</th>\n      <td>842302</td>\n      <td>1</td>\n      <td>17.99</td>\n      <td>10.38</td>\n      <td>122.80</td>\n      <td>1001.00</td>\n      <td>0.12</td>\n      <td>0.28</td>\n      <td>0.30</td>\n      <td>0.15</td>\n      <td>...</td>\n      <td>25.38</td>\n      <td>17.33</td>\n      <td>184.60</td>\n      <td>2019.00</td>\n      <td>0.16</td>\n      <td>0.67</td>\n      <td>0.71</td>\n      <td>0.27</td>\n      <td>0.46</td>\n      <td>0.12</td>\n    </tr>\n    <tr>\n      <th>1</th>\n      <td>842517</td>\n      <td>1</td>\n      <td>20.57</td>\n      <td>17.77</td>\n      <td>132.90</td>\n      <td>1326.00</td>\n      <td>0.08</td>\n      <td>0.08</td>\n      <td>0.09</td>\n      <td>0.07</td>\n      <td>...</td>\n      <td>24.99</td>\n      <td>23.41</td>\n      <td>158.80</td>\n      <td>1956.00</td>\n      <td>0.12</td>\n      <td>0.19</td>\n      <td>0.24</td>\n      <td>0.19</td>\n      <td>0.28</td>\n      <td>0.09</td>\n    </tr>\n    <tr>\n      <th>2</th>\n      <td>84300903</td>\n      <td>1</td>\n      <td>19.69</td>\n      <td>21.25</td>\n      <td>130.00</td>\n      <td>1203.00</td>\n      <td>0.11</td>\n      <td>0.16</td>\n      <td>0.20</td>\n      <td>0.13</td>\n      <td>...</td>\n      <td>23.57</td>\n      <td>25.53</td>\n      <td>152.50</td>\n      <td>1709.00</td>\n      <td>0.14</td>\n      <td>0.42</td>\n      <td>0.45</td>\n      <td>0.24</td>\n      <td>0.36</td>\n      <td>0.09</td>\n    </tr>\n    <tr>\n      <th>3</th>\n      <td>84348301</td>\n      <td>1</td>\n      <td>11.42</td>\n      <td>20.38</td>\n      <td>77.58</td>\n      <td>386.10</td>\n      <td>0.14</td>\n      <td>0.28</td>\n      <td>0.24</td>\n      <td>0.11</td>\n      <td>...</td>\n      <td>14.91</td>\n      <td>26.50</td>\n      <td>98.87</td>\n      <td>567.70</td>\n      <td>0.21</td>\n      <td>0.87</td>\n      <td>0.69</td>\n      <td>0.26</td>\n      <td>0.66</td>\n      <td>0.17</td>\n    </tr>\n    <tr>\n      <th>4</th>\n      <td>84358402</td>\n      <td>1</td>\n      <td>20.29</td>\n      <td>14.34</td>\n      <td>135.10</td>\n      <td>1297.00</td>\n      <td>0.10</td>\n      <td>0.13</td>\n      <td>0.20</td>\n      <td>0.10</td>\n      <td>...</td>\n      <td>22.54</td>\n      <td>16.67</td>\n      <td>152.20</td>\n      <td>1575.00</td>\n      <td>0.14</td>\n      <td>0.20</td>\n      <td>0.40</td>\n      <td>0.16</td>\n      <td>0.24</td>\n      <td>0.08</td>\n    </tr>\n  </tbody>\n</table>\n<p>5 rows × 32 columns</p>\n</div>"
          },
          "metadata": {}
        }
      ],
      "execution_count": 5,
      "metadata": {
        "collapsed": true,
        "jupyter": {
          "source_hidden": false,
          "outputs_hidden": false
        },
        "nteract": {
          "transient": {
            "deleting": false
          }
        },
        "gather": {
          "logged": 1611666220277
        }
      }
    },
    {
      "cell_type": "markdown",
      "source": [
        "1:M 0:B"
      ],
      "metadata": {
        "nteract": {
          "transient": {
            "deleting": false
          }
        }
      }
    },
    {
      "cell_type": "code",
      "source": [
        "X=df.iloc[ :,1:10]\r\n",
        "y=df.iloc[:,1]"
      ],
      "outputs": [],
      "execution_count": 46,
      "metadata": {
        "collapsed": true,
        "jupyter": {
          "source_hidden": false,
          "outputs_hidden": false
        },
        "nteract": {
          "transient": {
            "deleting": false
          }
        },
        "gather": {
          "logged": 1611674586369
        }
      }
    },
    {
      "cell_type": "code",
      "source": [
        "X"
      ],
      "outputs": [
        {
          "output_type": "execute_result",
          "execution_count": 47,
          "data": {
            "text/plain": "     diagnosis  radius_mean  texture_mean  perimeter_mean  area_mean  \\\n0            1        17.99         10.38          122.80    1001.00   \n1            1        20.57         17.77          132.90    1326.00   \n2            1        19.69         21.25          130.00    1203.00   \n3            1        11.42         20.38           77.58     386.10   \n4            1        20.29         14.34          135.10    1297.00   \n..         ...          ...           ...             ...        ...   \n564          1        21.56         22.39          142.00    1479.00   \n565          1        20.13         28.25          131.20    1261.00   \n566          1        16.60         28.08          108.30     858.10   \n567          1        20.60         29.33          140.10    1265.00   \n568          0         7.76         24.54           47.92     181.00   \n\n     smoothness_mean  compactness_mean  concavity_mean  concave points_mean  \n0               0.12              0.28            0.30                 0.15  \n1               0.08              0.08            0.09                 0.07  \n2               0.11              0.16            0.20                 0.13  \n3               0.14              0.28            0.24                 0.11  \n4               0.10              0.13            0.20                 0.10  \n..               ...               ...             ...                  ...  \n564             0.11              0.12            0.24                 0.14  \n565             0.10              0.10            0.14                 0.10  \n566             0.08              0.10            0.09                 0.05  \n567             0.12              0.28            0.35                 0.15  \n568             0.05              0.04            0.00                 0.00  \n\n[569 rows x 9 columns]",
            "text/html": "<div>\n<style scoped>\n    .dataframe tbody tr th:only-of-type {\n        vertical-align: middle;\n    }\n\n    .dataframe tbody tr th {\n        vertical-align: top;\n    }\n\n    .dataframe thead th {\n        text-align: right;\n    }\n</style>\n<table border=\"1\" class=\"dataframe\">\n  <thead>\n    <tr style=\"text-align: right;\">\n      <th></th>\n      <th>diagnosis</th>\n      <th>radius_mean</th>\n      <th>texture_mean</th>\n      <th>perimeter_mean</th>\n      <th>area_mean</th>\n      <th>smoothness_mean</th>\n      <th>compactness_mean</th>\n      <th>concavity_mean</th>\n      <th>concave points_mean</th>\n    </tr>\n  </thead>\n  <tbody>\n    <tr>\n      <th>0</th>\n      <td>1</td>\n      <td>17.99</td>\n      <td>10.38</td>\n      <td>122.80</td>\n      <td>1001.00</td>\n      <td>0.12</td>\n      <td>0.28</td>\n      <td>0.30</td>\n      <td>0.15</td>\n    </tr>\n    <tr>\n      <th>1</th>\n      <td>1</td>\n      <td>20.57</td>\n      <td>17.77</td>\n      <td>132.90</td>\n      <td>1326.00</td>\n      <td>0.08</td>\n      <td>0.08</td>\n      <td>0.09</td>\n      <td>0.07</td>\n    </tr>\n    <tr>\n      <th>2</th>\n      <td>1</td>\n      <td>19.69</td>\n      <td>21.25</td>\n      <td>130.00</td>\n      <td>1203.00</td>\n      <td>0.11</td>\n      <td>0.16</td>\n      <td>0.20</td>\n      <td>0.13</td>\n    </tr>\n    <tr>\n      <th>3</th>\n      <td>1</td>\n      <td>11.42</td>\n      <td>20.38</td>\n      <td>77.58</td>\n      <td>386.10</td>\n      <td>0.14</td>\n      <td>0.28</td>\n      <td>0.24</td>\n      <td>0.11</td>\n    </tr>\n    <tr>\n      <th>4</th>\n      <td>1</td>\n      <td>20.29</td>\n      <td>14.34</td>\n      <td>135.10</td>\n      <td>1297.00</td>\n      <td>0.10</td>\n      <td>0.13</td>\n      <td>0.20</td>\n      <td>0.10</td>\n    </tr>\n    <tr>\n      <th>...</th>\n      <td>...</td>\n      <td>...</td>\n      <td>...</td>\n      <td>...</td>\n      <td>...</td>\n      <td>...</td>\n      <td>...</td>\n      <td>...</td>\n      <td>...</td>\n    </tr>\n    <tr>\n      <th>564</th>\n      <td>1</td>\n      <td>21.56</td>\n      <td>22.39</td>\n      <td>142.00</td>\n      <td>1479.00</td>\n      <td>0.11</td>\n      <td>0.12</td>\n      <td>0.24</td>\n      <td>0.14</td>\n    </tr>\n    <tr>\n      <th>565</th>\n      <td>1</td>\n      <td>20.13</td>\n      <td>28.25</td>\n      <td>131.20</td>\n      <td>1261.00</td>\n      <td>0.10</td>\n      <td>0.10</td>\n      <td>0.14</td>\n      <td>0.10</td>\n    </tr>\n    <tr>\n      <th>566</th>\n      <td>1</td>\n      <td>16.60</td>\n      <td>28.08</td>\n      <td>108.30</td>\n      <td>858.10</td>\n      <td>0.08</td>\n      <td>0.10</td>\n      <td>0.09</td>\n      <td>0.05</td>\n    </tr>\n    <tr>\n      <th>567</th>\n      <td>1</td>\n      <td>20.60</td>\n      <td>29.33</td>\n      <td>140.10</td>\n      <td>1265.00</td>\n      <td>0.12</td>\n      <td>0.28</td>\n      <td>0.35</td>\n      <td>0.15</td>\n    </tr>\n    <tr>\n      <th>568</th>\n      <td>0</td>\n      <td>7.76</td>\n      <td>24.54</td>\n      <td>47.92</td>\n      <td>181.00</td>\n      <td>0.05</td>\n      <td>0.04</td>\n      <td>0.00</td>\n      <td>0.00</td>\n    </tr>\n  </tbody>\n</table>\n<p>569 rows × 9 columns</p>\n</div>"
          },
          "metadata": {}
        }
      ],
      "execution_count": 47,
      "metadata": {
        "collapsed": true,
        "jupyter": {
          "source_hidden": false,
          "outputs_hidden": false
        },
        "nteract": {
          "transient": {
            "deleting": false
          }
        },
        "gather": {
          "logged": 1611674587871
        }
      }
    },
    {
      "cell_type": "code",
      "source": [
        "y"
      ],
      "outputs": [
        {
          "output_type": "execute_result",
          "execution_count": 48,
          "data": {
            "text/plain": "0      1\n1      1\n2      1\n3      1\n4      1\n      ..\n564    1\n565    1\n566    1\n567    1\n568    0\nName: diagnosis, Length: 569, dtype: int64"
          },
          "metadata": {}
        }
      ],
      "execution_count": 48,
      "metadata": {
        "collapsed": true,
        "jupyter": {
          "source_hidden": false,
          "outputs_hidden": false
        },
        "nteract": {
          "transient": {
            "deleting": false
          }
        },
        "gather": {
          "logged": 1611674590897
        }
      }
    },
    {
      "cell_type": "code",
      "source": [
        "from azureml.train.automl import AutoMLConfig\n",
        "# TODO: Put your automl settings here\n",
        "#automl_settings = {}\n",
        "\n",
        "# TODO: Put your automl config here\n",
        "automl_config = AutoMLConfig(experiment_timeout_minutes=30,\n",
        "    task= 'classification',\n",
        "    primary_metric= 'accuracy',\n",
        "    training_data= X,\n",
        "    label_column_name= 'diagnosis',\n",
        "    n_cross_validations= 5)"
      ],
      "outputs": [],
      "execution_count": 53,
      "metadata": {
        "gather": {
          "logged": 1611674700284
        },
        "jupyter": {
          "outputs_hidden": false,
          "source_hidden": false
        },
        "nteract": {
          "transient": {
            "deleting": false
          }
        }
      }
    },
    {
      "cell_type": "code",
      "source": [
        "# TODO: Submit your experiment\n",
        "remote_run = experiment.submit(automl_config,show_output=True)"
      ],
      "outputs": [
        {
          "output_type": "stream",
          "name": "stdout",
          "text": [
            "No run_configuration provided, running on local with default configuration\n",
            "Running on local machine\n",
            "Parent Run ID: AutoML_e31a9a22-ba26-4e87-9253-5ad71e8fa391\n",
            "\n",
            "Current status: DatasetEvaluation. Gathering dataset statistics.\n",
            "Current status: FeaturesGeneration. Generating features for the dataset.\n",
            "Current status: DatasetFeaturization. Beginning to fit featurizers and featurize the dataset.\n",
            "Current status: DatasetFeaturizationCompleted. Completed fit featurizers and featurizing the dataset.\n",
            "Current status: DatasetCrossValidationSplit. Generating individually featurized CV splits.\n",
            "\n",
            "****************************************************************************************************\n",
            "DATA GUARDRAILS: \n",
            "\n",
            "TYPE:         Class balancing detection\n",
            "STATUS:       PASSED\n",
            "DESCRIPTION:  Your inputs were analyzed, and all classes are balanced in your training data.\n",
            "              Learn more about imbalanced data: https://aka.ms/AutomatedMLImbalancedData\n",
            "\n",
            "****************************************************************************************************\n",
            "\n",
            "TYPE:         Missing feature values imputation\n",
            "STATUS:       PASSED\n",
            "DESCRIPTION:  No feature missing values were detected in the training data.\n",
            "              Learn more about missing value imputation: https://aka.ms/AutomatedMLFeaturization\n",
            "\n",
            "****************************************************************************************************\n",
            "\n",
            "TYPE:         High cardinality feature detection\n",
            "STATUS:       PASSED\n",
            "DESCRIPTION:  Your inputs were analyzed, and no high cardinality features were detected.\n",
            "              Learn more about high cardinality feature handling: https://aka.ms/AutomatedMLFeaturization\n",
            "\n",
            "****************************************************************************************************\n",
            "Current status: ModelSelection. Beginning model selection.\n",
            "\n",
            "****************************************************************************************************\n",
            "ITERATION: The iteration being evaluated.\n",
            "PIPELINE: A summary description of the pipeline being evaluated.\n",
            "DURATION: Time taken for the current iteration.\n",
            "METRIC: The result of computing score on the fitted pipeline.\n",
            "BEST: The best observed score thus far.\n",
            "****************************************************************************************************\n",
            "\n",
            " ITERATION   PIPELINE                                       DURATION      METRIC      BEST\n",
            "         0   MaxAbsScaler LightGBM                          0:00:31       0.9472    0.9472\n",
            "         1   MaxAbsScaler XGBoostClassifier                 0:00:26       0.9437    0.9472\n",
            "         2   MinMaxScaler RandomForest                      0:00:26       0.9296    0.9472\n",
            "         3   MinMaxScaler RandomForest                      0:00:30       0.9227    0.9472\n",
            "         4   MinMaxScaler RandomForest                      0:00:25       0.9297    0.9472\n",
            "         5   MinMaxScaler SVM                               0:00:26       0.9385    0.9472\n",
            "         6   MaxAbsScaler GradientBoosting                  0:00:26       0.9402    0.9472\n",
            "         7   StandardScalerWrapper RandomForest             0:00:30       0.9261    0.9472\n",
            "         8   SparseNormalizer XGBoostClassifier             0:00:26       0.9367    0.9472\n",
            "         9   SparseNormalizer LightGBM                      0:00:25       0.9209    0.9472\n",
            "        10   RobustScaler RandomForest                      0:00:30       0.9262    0.9472\n",
            "        11   MaxAbsScaler LightGBM                          0:00:30       0.9350    0.9472\n",
            "        12   SparseNormalizer XGBoostClassifier             0:00:25       0.9279    0.9472\n",
            "        13   RobustScaler ExtremeRandomTrees                0:00:27       0.9174    0.9472\n",
            "        14   "
          ]
        }
      ],
      "execution_count": 54,
      "metadata": {
        "gather": {
          "logged": 1611668337183
        },
        "jupyter": {
          "outputs_hidden": false,
          "source_hidden": false
        },
        "nteract": {
          "transient": {
            "deleting": false
          }
        }
      }
    },
    {
      "cell_type": "markdown",
      "source": [
        "## Run Details\n",
        "\n",
        "OPTIONAL: Write about the different models trained and their performance. Why do you think some models did better than others?\n",
        "\n",
        "TODO: In the cell below, use the `RunDetails` widget to show the different experiments."
      ],
      "metadata": {}
    },
    {
      "cell_type": "code",
      "source": [
        "from azureml.widgets import RunDetails\r\n",
        "RunDetails(remote_run).show()"
      ],
      "outputs": [
        {
          "output_type": "display_data",
          "data": {
            "text/plain": "_AutoMLWidget(widget_settings={'childWidgetDisplay': 'popup', 'send_telemetry': False, 'log_level': 'INFO', 's…",
            "application/vnd.jupyter.widget-view+json": {
              "version_major": 2,
              "version_minor": 0,
              "model_id": "b06a72682da44d829cbb8b0753292de7"
            }
          },
          "metadata": {}
        },
        {
          "output_type": "display_data",
          "data": {
            "application/aml.mini.widget.v1": "{\"status\": \"Completed\", \"workbench_run_details_uri\": \"https://ml.azure.com/experiments/udacity-capstone/runs/AutoML_6b91fb92-7fea-4f50-8c43-057b987c8865?wsid=/subscriptions/a0a76bad-11a1-4a2d-9887-97a29122c8ed/resourcegroups/aml-quickstarts-136122/workspaces/quick-starts-ws-136122\", \"run_id\": \"AutoML_6b91fb92-7fea-4f50-8c43-057b987c8865\", \"run_properties\": {\"run_id\": \"AutoML_6b91fb92-7fea-4f50-8c43-057b987c8865\", \"created_utc\": \"2021-01-26T14:35:32.757127Z\", \"properties\": {\"num_iterations\": \"1000\", \"training_type\": \"TrainFull\", \"acquisition_function\": \"EI\", \"primary_metric\": \"accuracy\", \"train_split\": \"0\", \"acquisition_parameter\": \"0\", \"num_cross_validation\": \"5\", \"target\": \"local\", \"AMLSettingsJsonString\": \"{\\\"path\\\":null,\\\"name\\\":\\\"udacity-capstone\\\",\\\"subscription_id\\\":\\\"a0a76bad-11a1-4a2d-9887-97a29122c8ed\\\",\\\"resource_group\\\":\\\"aml-quickstarts-136122\\\",\\\"workspace_name\\\":\\\"quick-starts-ws-136122\\\",\\\"region\\\":\\\"southcentralus\\\",\\\"compute_target\\\":\\\"local\\\",\\\"spark_service\\\":null,\\\"azure_service\\\":\\\"Microsoft.AzureNotebookVM\\\",\\\"many_models\\\":false,\\\"pipeline_fetch_max_batch_size\\\":1,\\\"iterations\\\":1000,\\\"primary_metric\\\":\\\"accuracy\\\",\\\"task_type\\\":\\\"classification\\\",\\\"data_script\\\":null,\\\"validation_size\\\":0.0,\\\"n_cross_validations\\\":5,\\\"y_min\\\":null,\\\"y_max\\\":null,\\\"num_classes\\\":2,\\\"featurization\\\":\\\"auto\\\",\\\"_ignore_package_version_incompatibilities\\\":false,\\\"is_timeseries\\\":false,\\\"max_cores_per_iteration\\\":1,\\\"max_concurrent_iterations\\\":1,\\\"iteration_timeout_minutes\\\":null,\\\"mem_in_mb\\\":null,\\\"enforce_time_on_windows\\\":false,\\\"experiment_timeout_minutes\\\":30,\\\"experiment_exit_score\\\":null,\\\"whitelist_models\\\":null,\\\"blacklist_algos\\\":[\\\"TensorFlowLinearClassifier\\\",\\\"TensorFlowDNN\\\"],\\\"supported_models\\\":[\\\"LinearSVM\\\",\\\"DecisionTree\\\",\\\"SGD\\\",\\\"TensorFlowLinearClassifier\\\",\\\"LightGBM\\\",\\\"TensorFlowDNN\\\",\\\"MultinomialNaiveBayes\\\",\\\"ExtremeRandomTrees\\\",\\\"BernoulliNaiveBayes\\\",\\\"GradientBoosting\\\",\\\"KNN\\\",\\\"SVM\\\",\\\"LogisticRegression\\\",\\\"RandomForest\\\",\\\"XGBoostClassifier\\\",\\\"AveragedPerceptronClassifier\\\"],\\\"auto_blacklist\\\":true,\\\"blacklist_samples_reached\\\":false,\\\"exclude_nan_labels\\\":true,\\\"verbosity\\\":20,\\\"_debug_log\\\":\\\"automl.log\\\",\\\"show_warnings\\\":false,\\\"model_explainability\\\":true,\\\"service_url\\\":null,\\\"sdk_url\\\":null,\\\"sdk_packages\\\":null,\\\"enable_onnx_compatible_models\\\":false,\\\"enable_split_onnx_featurizer_estimator_models\\\":false,\\\"vm_type\\\":null,\\\"telemetry_verbosity\\\":20,\\\"send_telemetry\\\":true,\\\"enable_dnn\\\":false,\\\"scenario\\\":\\\"SDK-1.13.0\\\",\\\"environment_label\\\":null,\\\"force_text_dnn\\\":false,\\\"enable_feature_sweeping\\\":true,\\\"enable_early_stopping\\\":false,\\\"early_stopping_n_iters\\\":10,\\\"metrics\\\":null,\\\"enable_ensembling\\\":true,\\\"enable_stack_ensembling\\\":true,\\\"ensemble_iterations\\\":15,\\\"enable_tf\\\":false,\\\"enable_subsampling\\\":null,\\\"subsample_seed\\\":null,\\\"enable_nimbusml\\\":false,\\\"enable_streaming\\\":false,\\\"force_streaming\\\":false,\\\"track_child_runs\\\":true,\\\"allowed_private_models\\\":[],\\\"label_column_name\\\":\\\"diagnosis\\\",\\\"weight_column_name\\\":null,\\\"cv_split_column_names\\\":null,\\\"enable_local_managed\\\":false,\\\"_local_managed_run_id\\\":null,\\\"cost_mode\\\":1,\\\"lag_length\\\":0,\\\"metric_operation\\\":\\\"maximize\\\",\\\"preprocess\\\":true}\", \"DataPrepJsonString\": null, \"EnableSubsampling\": null, \"runTemplate\": \"AutoML\", \"azureml.runsource\": \"automl\", \"display_task_type\": \"classification\", \"dependencies_versions\": \"{\\\"azureml-widgets\\\": \\\"1.20.0\\\", \\\"azureml-train\\\": \\\"1.20.0\\\", \\\"azureml-train-restclients-hyperdrive\\\": \\\"1.20.0\\\", \\\"azureml-train-core\\\": \\\"1.20.0\\\", \\\"azureml-train-automl\\\": \\\"1.20.0\\\", \\\"azureml-train-automl-runtime\\\": \\\"1.20.0\\\", \\\"azureml-train-automl-client\\\": \\\"1.20.0\\\", \\\"azureml-tensorboard\\\": \\\"1.20.0\\\", \\\"azureml-telemetry\\\": \\\"1.20.0\\\", \\\"azureml-sdk\\\": \\\"1.20.0\\\", \\\"azureml-samples\\\": \\\"0+unknown\\\", \\\"azureml-pipeline\\\": \\\"1.20.0\\\", \\\"azureml-pipeline-steps\\\": \\\"1.20.0\\\", \\\"azureml-pipeline-core\\\": \\\"1.20.0\\\", \\\"azureml-opendatasets\\\": \\\"1.20.0\\\", \\\"azureml-model-management-sdk\\\": \\\"1.0.1b6.post1\\\", \\\"azureml-mlflow\\\": \\\"1.20.0.post1\\\", \\\"azureml-interpret\\\": \\\"1.20.0\\\", \\\"azureml-explain-model\\\": \\\"1.20.0\\\", \\\"azureml-defaults\\\": \\\"1.20.0\\\", \\\"azureml-dataset-runtime\\\": \\\"1.20.0\\\", \\\"azureml-dataprep\\\": \\\"2.7.3\\\", \\\"azureml-dataprep-rslex\\\": \\\"1.5.0\\\", \\\"azureml-dataprep-native\\\": \\\"27.0.0\\\", \\\"azureml-datadrift\\\": \\\"1.20.0\\\", \\\"azureml-core\\\": \\\"1.20.0\\\", \\\"azureml-contrib-services\\\": \\\"1.20.0\\\", \\\"azureml-contrib-server\\\": \\\"1.20.0\\\", \\\"azureml-contrib-reinforcementlearning\\\": \\\"1.20.0\\\", \\\"azureml-contrib-pipeline-steps\\\": \\\"1.20.0\\\", \\\"azureml-contrib-notebook\\\": \\\"1.20.0\\\", \\\"azureml-contrib-interpret\\\": \\\"1.20.0\\\", \\\"azureml-contrib-gbdt\\\": \\\"1.20.0\\\", \\\"azureml-contrib-fairness\\\": \\\"1.20.0\\\", \\\"azureml-contrib-dataset\\\": \\\"1.20.0\\\", \\\"azureml-cli-common\\\": \\\"1.20.0\\\", \\\"azureml-automl-runtime\\\": \\\"1.20.0\\\", \\\"azureml-automl-core\\\": \\\"1.20.0\\\", \\\"azureml-accel-models\\\": \\\"1.20.0\\\"}\", \"_aml_system_scenario_identification\": \"Local.Parent\", \"ClientSdkVersion\": \"1.20.0\", \"ClientType\": \"SDK\", \"environment_cpu_name\": \"AzureML-AutoML\", \"environment_cpu_label\": \"prod\", \"environment_gpu_name\": \"AzureML-AutoML-GPU\", \"environment_gpu_label\": \"prod\", \"root_attribution\": \"automl\", \"attribution\": \"AutoML\", \"Orchestrator\": \"AutoML\", \"_azureml.ComputeTargetType\": \"local\", \"ProblemInfoJsonString\": \"{\\\"dataset_num_categorical\\\": 0, \\\"is_sparse\\\": false, \\\"subsampling\\\": false, \\\"dataset_classes\\\": 2, \\\"dataset_features\\\": 8, \\\"dataset_samples\\\": 569, \\\"single_frequency_class_detected\\\": false}\", \"feature_skus\": \"automatedml_sdk_guardrails\"}, \"tags\": {\"model_explain_run\": \"best_run\", \"best_score\": \"0.9524918490917559\", \"best_pipeline\": \"VotingEnsemble\", \"automl_best_child_run_id\": \"AutoML_6b91fb92-7fea-4f50-8c43-057b987c8865_59\", \"model_explain_best_run_child_id\": \"AutoML_6b91fb92-7fea-4f50-8c43-057b987c8865_59\"}, \"end_time_utc\": \"2021-01-26T15:07:11.609807Z\", \"status\": \"Completed\", \"log_files\": {}, \"log_groups\": [], \"run_duration\": \"0:31:38\"}, \"child_runs\": [{\"run_id\": \"AutoML_6b91fb92-7fea-4f50-8c43-057b987c8865_0\", \"run_number\": 62, \"metric\": null, \"status\": \"Completed\", \"run_type\": null, \"training_percent\": \"100\", \"start_time\": \"2021-01-26T14:35:46.860538Z\", \"end_time\": \"2021-01-26T14:36:13.664017Z\", \"created_time\": \"2021-01-26T14:35:46.761195Z\", \"created_time_dt\": \"2021-01-26T14:35:46.761195Z\", \"duration\": \"0:00:26\", \"iteration\": \"0\", \"goal\": \"accuracy_max\", \"run_name\": \"MaxAbsScaler, LightGBM\", \"run_properties\": \"copy=True\", \"primary_metric\": 0.94722869, \"best_metric\": 0.94722869}, {\"run_id\": \"AutoML_6b91fb92-7fea-4f50-8c43-057b987c8865_1\", \"run_number\": 63, \"metric\": null, \"status\": \"Completed\", \"run_type\": null, \"training_percent\": \"100\", \"start_time\": \"2021-01-26T14:36:14.487884Z\", \"end_time\": \"2021-01-26T14:36:45.622191Z\", \"created_time\": \"2021-01-26T14:36:14.373084Z\", \"created_time_dt\": \"2021-01-26T14:36:14.373084Z\", \"duration\": \"0:00:31\", \"iteration\": \"1\", \"goal\": \"accuracy_max\", \"run_name\": \"MaxAbsScaler, XGBoostClassifier\", \"run_properties\": \"copy=True\", \"primary_metric\": 0.94370439, \"best_metric\": 0.94722869}, {\"run_id\": \"AutoML_6b91fb92-7fea-4f50-8c43-057b987c8865_2\", \"run_number\": 64, \"metric\": null, \"status\": \"Completed\", \"run_type\": null, \"training_percent\": \"100\", \"start_time\": \"2021-01-26T14:36:46.332331Z\", \"end_time\": \"2021-01-26T14:37:17.677318Z\", \"created_time\": \"2021-01-26T14:36:46.213501Z\", \"created_time_dt\": \"2021-01-26T14:36:46.213501Z\", \"duration\": \"0:00:31\", \"iteration\": \"2\", \"goal\": \"accuracy_max\", \"run_name\": \"MinMaxScaler, RandomForest\", \"run_properties\": \"copy=True, feature_range=(0, 1\", \"primary_metric\": 0.92616053, \"best_metric\": 0.94722869}, {\"run_id\": \"AutoML_6b91fb92-7fea-4f50-8c43-057b987c8865_3\", \"run_number\": 65, \"metric\": null, \"status\": \"Completed\", \"run_type\": null, \"training_percent\": \"100\", \"start_time\": \"2021-01-26T14:37:19.037387Z\", \"end_time\": \"2021-01-26T14:37:52.114051Z\", \"created_time\": \"2021-01-26T14:37:18.833689Z\", \"created_time_dt\": \"2021-01-26T14:37:18.833689Z\", \"duration\": \"0:00:33\", \"iteration\": \"3\", \"goal\": \"accuracy_max\", \"run_name\": \"MinMaxScaler, RandomForest\", \"run_properties\": \"copy=True, feature_range=(0, 1\", \"primary_metric\": 0.92442167, \"best_metric\": 0.94722869}, {\"run_id\": \"AutoML_6b91fb92-7fea-4f50-8c43-057b987c8865_4\", \"run_number\": 66, \"metric\": null, \"status\": \"Completed\", \"run_type\": null, \"training_percent\": \"100\", \"start_time\": \"2021-01-26T14:37:53.523776Z\", \"end_time\": \"2021-01-26T14:38:24.571499Z\", \"created_time\": \"2021-01-26T14:37:53.417316Z\", \"created_time_dt\": \"2021-01-26T14:37:53.417316Z\", \"duration\": \"0:00:31\", \"iteration\": \"4\", \"goal\": \"accuracy_max\", \"run_name\": \"MinMaxScaler, RandomForest\", \"run_properties\": \"copy=True, feature_range=(0, 1\", \"primary_metric\": 0.92439062, \"best_metric\": 0.94722869}, {\"run_id\": \"AutoML_6b91fb92-7fea-4f50-8c43-057b987c8865_5\", \"run_number\": 67, \"metric\": null, \"status\": \"Completed\", \"run_type\": null, \"training_percent\": \"100\", \"start_time\": \"2021-01-26T14:38:25.917663Z\", \"end_time\": \"2021-01-26T14:38:53.323109Z\", \"created_time\": \"2021-01-26T14:38:25.787499Z\", \"created_time_dt\": \"2021-01-26T14:38:25.787499Z\", \"duration\": \"0:00:27\", \"iteration\": \"5\", \"goal\": \"accuracy_max\", \"run_name\": \"MinMaxScaler, SVM\", \"run_properties\": \"copy=True, feature_range=(0, 1\", \"primary_metric\": 0.94022667, \"best_metric\": 0.94722869}, {\"run_id\": \"AutoML_6b91fb92-7fea-4f50-8c43-057b987c8865_6\", \"run_number\": 68, \"metric\": null, \"status\": \"Completed\", \"run_type\": null, \"training_percent\": \"100\", \"start_time\": \"2021-01-26T14:38:54.656574Z\", \"end_time\": \"2021-01-26T14:39:26.108929Z\", \"created_time\": \"2021-01-26T14:38:54.548435Z\", \"created_time_dt\": \"2021-01-26T14:38:54.548435Z\", \"duration\": \"0:00:31\", \"iteration\": \"6\", \"goal\": \"accuracy_max\", \"run_name\": \"MaxAbsScaler, GradientBoosting\", \"run_properties\": \"copy=True\", \"primary_metric\": 0.94019562, \"best_metric\": 0.94722869}, {\"run_id\": \"AutoML_6b91fb92-7fea-4f50-8c43-057b987c8865_7\", \"run_number\": 69, \"metric\": null, \"status\": \"Completed\", \"run_type\": null, \"training_percent\": \"100\", \"start_time\": \"2021-01-26T14:39:27.412331Z\", \"end_time\": \"2021-01-26T14:39:53.655959Z\", \"created_time\": \"2021-01-26T14:39:27.309271Z\", \"created_time_dt\": \"2021-01-26T14:39:27.309271Z\", \"duration\": \"0:00:26\", \"iteration\": \"7\", \"goal\": \"accuracy_max\", \"run_name\": \"StandardScalerWrapper, RandomForest\", \"run_properties\": \"<azureml.automl.runtime.shared.model_wrappers.StandardScalerWrapper object at 0x7f6e88f10ba8\", \"primary_metric\": 0.93137712, \"best_metric\": 0.94722869}, {\"run_id\": \"AutoML_6b91fb92-7fea-4f50-8c43-057b987c8865_8\", \"run_number\": 70, \"metric\": null, \"status\": \"Completed\", \"run_type\": null, \"training_percent\": \"100\", \"start_time\": \"2021-01-26T14:39:54.85886Z\", \"end_time\": \"2021-01-26T14:40:20.752045Z\", \"created_time\": \"2021-01-26T14:39:54.750276Z\", \"created_time_dt\": \"2021-01-26T14:39:54.750276Z\", \"duration\": \"0:00:26\", \"iteration\": \"8\", \"goal\": \"accuracy_max\", \"run_name\": \"SparseNormalizer, XGBoostClassifier\", \"run_properties\": \"<azureml.automl.runtime.shared.model_wrappers.SparseNormalizer object at 0x7f6e86d8bcf8\", \"primary_metric\": 0.93668685, \"best_metric\": 0.94722869}, {\"run_id\": \"AutoML_6b91fb92-7fea-4f50-8c43-057b987c8865_9\", \"run_number\": 71, \"metric\": null, \"status\": \"Completed\", \"run_type\": null, \"training_percent\": \"100\", \"start_time\": \"2021-01-26T14:40:21.94759Z\", \"end_time\": \"2021-01-26T14:40:49.534377Z\", \"created_time\": \"2021-01-26T14:40:21.826628Z\", \"created_time_dt\": \"2021-01-26T14:40:21.826628Z\", \"duration\": \"0:00:27\", \"iteration\": \"9\", \"goal\": \"accuracy_max\", \"run_name\": \"SparseNormalizer, LightGBM\", \"run_properties\": \"<azureml.automl.runtime.shared.model_wrappers.SparseNormalizer object at 0x7f6e86ee50f0\", \"primary_metric\": 0.92088185, \"best_metric\": 0.94722869}, {\"run_id\": \"AutoML_6b91fb92-7fea-4f50-8c43-057b987c8865_10\", \"run_number\": 72, \"metric\": null, \"status\": \"Completed\", \"run_type\": null, \"training_percent\": \"100\", \"start_time\": \"2021-01-26T14:40:50.881928Z\", \"end_time\": \"2021-01-26T14:41:16.726385Z\", \"created_time\": \"2021-01-26T14:40:50.770503Z\", \"created_time_dt\": \"2021-01-26T14:40:50.770503Z\", \"duration\": \"0:00:25\", \"iteration\": \"10\", \"goal\": \"accuracy_max\", \"run_name\": \"StandardScalerWrapper, LightGBM\", \"run_properties\": \"<azureml.automl.runtime.shared.model_wrappers.StandardScalerWrapper object at 0x7f6e885db630\", \"primary_metric\": 0.93142369, \"best_metric\": 0.94722869}, {\"run_id\": \"AutoML_6b91fb92-7fea-4f50-8c43-057b987c8865_11\", \"run_number\": 73, \"metric\": null, \"status\": \"Completed\", \"run_type\": null, \"training_percent\": \"100\", \"start_time\": \"2021-01-26T14:41:18.085305Z\", \"end_time\": \"2021-01-26T14:41:48.957427Z\", \"created_time\": \"2021-01-26T14:41:17.988157Z\", \"created_time_dt\": \"2021-01-26T14:41:17.988157Z\", \"duration\": \"0:00:30\", \"iteration\": \"11\", \"goal\": \"accuracy_max\", \"run_name\": \"RobustScaler, ExtremeRandomTrees\", \"run_properties\": \"copy=True, quantile_range=[25, 75], with_centering=True,\\n             with_scaling=False\", \"primary_metric\": 0.9173886, \"best_metric\": 0.94722869}, {\"run_id\": \"AutoML_6b91fb92-7fea-4f50-8c43-057b987c8865_12\", \"run_number\": 74, \"metric\": null, \"status\": \"Completed\", \"run_type\": null, \"training_percent\": \"100\", \"start_time\": \"2021-01-26T14:41:50.351507Z\", \"end_time\": \"2021-01-26T14:42:16.04456Z\", \"created_time\": \"2021-01-26T14:41:50.235883Z\", \"created_time_dt\": \"2021-01-26T14:41:50.235883Z\", \"duration\": \"0:00:25\", \"iteration\": \"12\", \"goal\": \"accuracy_max\", \"run_name\": \"SparseNormalizer, XGBoostClassifier\", \"run_properties\": \"<azureml.automl.runtime.shared.model_wrappers.SparseNormalizer object at 0x7f6e86e0afd0\", \"primary_metric\": 0.93491694, \"best_metric\": 0.94722869}, {\"run_id\": \"AutoML_6b91fb92-7fea-4f50-8c43-057b987c8865_13\", \"run_number\": 75, \"metric\": null, \"status\": \"Completed\", \"run_type\": null, \"training_percent\": \"100\", \"start_time\": \"2021-01-26T14:42:17.201472Z\", \"end_time\": \"2021-01-26T14:42:47.948716Z\", \"created_time\": \"2021-01-26T14:42:17.095742Z\", \"created_time_dt\": \"2021-01-26T14:42:17.095742Z\", \"duration\": \"0:00:30\", \"iteration\": \"13\", \"goal\": \"accuracy_max\", \"run_name\": \"SparseNormalizer, XGBoostClassifier\", \"run_properties\": \"<azureml.automl.runtime.shared.model_wrappers.SparseNormalizer object at 0x7f6e86ab29e8\", \"primary_metric\": 0.92791492, \"best_metric\": 0.94722869}, {\"run_id\": \"AutoML_6b91fb92-7fea-4f50-8c43-057b987c8865_14\", \"run_number\": 76, \"metric\": null, \"status\": \"Completed\", \"run_type\": null, \"training_percent\": \"100\", \"start_time\": \"2021-01-26T14:42:49.200943Z\", \"end_time\": \"2021-01-26T14:43:21.807916Z\", \"created_time\": \"2021-01-26T14:42:49.079106Z\", \"created_time_dt\": \"2021-01-26T14:42:49.079106Z\", \"duration\": \"0:00:32\", \"iteration\": \"14\", \"goal\": \"accuracy_max\", \"run_name\": \"RobustScaler, ExtremeRandomTrees\", \"run_properties\": \"copy=True, quantile_range=[25, 75], with_centering=True,\\n             with_scaling=False\", \"primary_metric\": 0.91915852, \"best_metric\": 0.94722869}, {\"run_id\": \"AutoML_6b91fb92-7fea-4f50-8c43-057b987c8865_15\", \"run_number\": 77, \"metric\": null, \"status\": \"Completed\", \"run_type\": null, \"training_percent\": \"100\", \"start_time\": \"2021-01-26T14:43:23.175097Z\", \"end_time\": \"2021-01-26T14:43:54.007131Z\", \"created_time\": \"2021-01-26T14:43:23.052675Z\", \"created_time_dt\": \"2021-01-26T14:43:23.052675Z\", \"duration\": \"0:00:30\", \"iteration\": \"15\", \"goal\": \"accuracy_max\", \"run_name\": \"MinMaxScaler, LightGBM\", \"run_properties\": \"copy=True, feature_range=(0, 1\", \"primary_metric\": 0.93142369, \"best_metric\": 0.94722869}, {\"run_id\": \"AutoML_6b91fb92-7fea-4f50-8c43-057b987c8865_16\", \"run_number\": 78, \"metric\": null, \"status\": \"Completed\", \"run_type\": null, \"training_percent\": \"100\", \"start_time\": \"2021-01-26T14:43:55.291283Z\", \"end_time\": \"2021-01-26T14:44:22.014316Z\", \"created_time\": \"2021-01-26T14:43:55.182434Z\", \"created_time_dt\": \"2021-01-26T14:43:55.182434Z\", \"duration\": \"0:00:26\", \"iteration\": \"16\", \"goal\": \"accuracy_max\", \"run_name\": \"RobustScaler, LightGBM\", \"run_properties\": \"copy=True, quantile_range=[25, 75], with_centering=False,\\n             with_scaling=False\", \"primary_metric\": 0.93667132, \"best_metric\": 0.94722869}, {\"run_id\": \"AutoML_6b91fb92-7fea-4f50-8c43-057b987c8865_17\", \"run_number\": 79, \"metric\": null, \"status\": \"Completed\", \"run_type\": null, \"training_percent\": \"100\", \"start_time\": \"2021-01-26T14:44:23.231884Z\", \"end_time\": \"2021-01-26T14:44:53.990478Z\", \"created_time\": \"2021-01-26T14:44:23.13142Z\", \"created_time_dt\": \"2021-01-26T14:44:23.13142Z\", \"duration\": \"0:00:30\", \"iteration\": \"17\", \"goal\": \"accuracy_max\", \"run_name\": \"MinMaxScaler, ExtremeRandomTrees\", \"run_properties\": \"copy=True, feature_range=(0, 1\", \"primary_metric\": 0.92088185, \"best_metric\": 0.94722869}, {\"run_id\": \"AutoML_6b91fb92-7fea-4f50-8c43-057b987c8865_18\", \"run_number\": 80, \"metric\": null, \"status\": \"Completed\", \"run_type\": null, \"training_percent\": \"100\", \"start_time\": \"2021-01-26T14:44:55.223707Z\", \"end_time\": \"2021-01-26T14:45:20.60514Z\", \"created_time\": \"2021-01-26T14:44:55.120388Z\", \"created_time_dt\": \"2021-01-26T14:44:55.120388Z\", \"duration\": \"0:00:25\", \"iteration\": \"18\", \"goal\": \"accuracy_max\", \"run_name\": \"MaxAbsScaler, LightGBM\", \"run_properties\": \"copy=True\", \"primary_metric\": 0.93842571, \"best_metric\": 0.94722869}, {\"run_id\": \"AutoML_6b91fb92-7fea-4f50-8c43-057b987c8865_19\", \"run_number\": 81, \"metric\": null, \"status\": \"Completed\", \"run_type\": null, \"training_percent\": \"100\", \"start_time\": \"2021-01-26T14:45:21.876328Z\", \"end_time\": \"2021-01-26T14:45:47.626345Z\", \"created_time\": \"2021-01-26T14:45:21.764608Z\", \"created_time_dt\": \"2021-01-26T14:45:21.764608Z\", \"duration\": \"0:00:25\", \"iteration\": \"19\", \"goal\": \"accuracy_max\", \"run_name\": \"StandardScalerWrapper, ExtremeRandomTrees\", \"run_properties\": \"<azureml.automl.runtime.shared.model_wrappers.StandardScalerWrapper object at 0x7f6e86cebba8\", \"primary_metric\": 0.91737308, \"best_metric\": 0.94722869}, {\"run_id\": \"AutoML_6b91fb92-7fea-4f50-8c43-057b987c8865_20\", \"run_number\": 82, \"metric\": null, \"status\": \"Completed\", \"run_type\": null, \"training_percent\": \"100\", \"start_time\": \"2021-01-26T14:45:48.935757Z\", \"end_time\": \"2021-01-26T14:46:14.35463Z\", \"created_time\": \"2021-01-26T14:45:48.825404Z\", \"created_time_dt\": \"2021-01-26T14:45:48.825404Z\", \"duration\": \"0:00:25\", \"iteration\": \"20\", \"goal\": \"accuracy_max\", \"run_name\": \"MaxAbsScaler, ExtremeRandomTrees\", \"run_properties\": \"copy=True\", \"primary_metric\": 0.92266729, \"best_metric\": 0.94722869}, {\"run_id\": \"AutoML_6b91fb92-7fea-4f50-8c43-057b987c8865_21\", \"run_number\": 83, \"metric\": null, \"status\": \"Completed\", \"run_type\": null, \"training_percent\": \"100\", \"start_time\": \"2021-01-26T14:46:15.8981Z\", \"end_time\": \"2021-01-26T14:46:42.402515Z\", \"created_time\": \"2021-01-26T14:46:15.553514Z\", \"created_time_dt\": \"2021-01-26T14:46:15.553514Z\", \"duration\": \"0:00:26\", \"iteration\": \"21\", \"goal\": \"accuracy_max\", \"run_name\": \"RobustScaler, KNN\", \"run_properties\": \"copy=True, quantile_range=[10, 90], with_centering=False,\\n             with_scaling=False\", \"primary_metric\": 0.89099519, \"best_metric\": 0.94722869}, {\"run_id\": \"AutoML_6b91fb92-7fea-4f50-8c43-057b987c8865_22\", \"run_number\": 84, \"metric\": null, \"status\": \"Completed\", \"run_type\": null, \"training_percent\": \"100\", \"start_time\": \"2021-01-26T14:46:43.889568Z\", \"end_time\": \"2021-01-26T14:47:14.635385Z\", \"created_time\": \"2021-01-26T14:46:43.76473Z\", \"created_time_dt\": \"2021-01-26T14:46:43.76473Z\", \"duration\": \"0:00:30\", \"iteration\": \"22\", \"goal\": \"accuracy_max\", \"run_name\": \"MinMaxScaler, LogisticRegression\", \"run_properties\": \"copy=True, feature_range=(0, 1\", \"primary_metric\": 0.94021115, \"best_metric\": 0.94722869}, {\"run_id\": \"AutoML_6b91fb92-7fea-4f50-8c43-057b987c8865_23\", \"run_number\": 85, \"metric\": null, \"status\": \"Completed\", \"run_type\": null, \"training_percent\": \"100\", \"start_time\": \"2021-01-26T14:47:15.82145Z\", \"end_time\": \"2021-01-26T14:47:41.297752Z\", \"created_time\": \"2021-01-26T14:47:15.711732Z\", \"created_time_dt\": \"2021-01-26T14:47:15.711732Z\", \"duration\": \"0:00:25\", \"iteration\": \"23\", \"goal\": \"accuracy_max\", \"run_name\": \"SparseNormalizer, XGBoostClassifier\", \"run_properties\": \"<azureml.automl.runtime.shared.model_wrappers.SparseNormalizer object at 0x7f6e862bc978\", \"primary_metric\": 0.93316255, \"best_metric\": 0.94722869}, {\"run_id\": \"AutoML_6b91fb92-7fea-4f50-8c43-057b987c8865_24\", \"run_number\": 86, \"metric\": null, \"status\": \"Completed\", \"run_type\": null, \"training_percent\": \"100\", \"start_time\": \"2021-01-26T14:47:42.481439Z\", \"end_time\": \"2021-01-26T14:48:08.537534Z\", \"created_time\": \"2021-01-26T14:47:42.370727Z\", \"created_time_dt\": \"2021-01-26T14:47:42.370727Z\", \"duration\": \"0:00:26\", \"iteration\": \"24\", \"goal\": \"accuracy_max\", \"run_name\": \"SparseNormalizer, XGBoostClassifier\", \"run_properties\": \"<azureml.automl.runtime.shared.model_wrappers.SparseNormalizer object at 0x7f6e82c6c160\", \"primary_metric\": 0.94195001, \"best_metric\": 0.94722869}, {\"run_id\": \"AutoML_6b91fb92-7fea-4f50-8c43-057b987c8865_25\", \"run_number\": 87, \"metric\": null, \"status\": \"Completed\", \"run_type\": null, \"training_percent\": \"100\", \"start_time\": \"2021-01-26T14:48:10.699025Z\", \"end_time\": \"2021-01-26T14:48:37.068386Z\", \"created_time\": \"2021-01-26T14:48:10.579355Z\", \"created_time_dt\": \"2021-01-26T14:48:10.579355Z\", \"duration\": \"0:00:26\", \"iteration\": \"25\", \"goal\": \"accuracy_max\", \"run_name\": \"MaxAbsScaler, LightGBM\", \"run_properties\": \"copy=True\", \"primary_metric\": 0.89976712, \"best_metric\": 0.94722869}, {\"run_id\": \"AutoML_6b91fb92-7fea-4f50-8c43-057b987c8865_26\", \"run_number\": 88, \"metric\": null, \"status\": \"Completed\", \"run_type\": null, \"training_percent\": \"100\", \"start_time\": \"2021-01-26T14:48:38.266445Z\", \"end_time\": \"2021-01-26T14:49:05.186313Z\", \"created_time\": \"2021-01-26T14:48:38.151805Z\", \"created_time_dt\": \"2021-01-26T14:48:38.151805Z\", \"duration\": \"0:00:27\", \"iteration\": \"26\", \"goal\": \"accuracy_max\", \"run_name\": \"MinMaxScaler, LightGBM\", \"run_properties\": \"copy=True, feature_range=(0, 1\", \"primary_metric\": 0.93491694, \"best_metric\": 0.94722869}, {\"run_id\": \"AutoML_6b91fb92-7fea-4f50-8c43-057b987c8865_27\", \"run_number\": 89, \"metric\": null, \"status\": \"Completed\", \"run_type\": null, \"training_percent\": \"100\", \"start_time\": \"2021-01-26T14:49:06.386617Z\", \"end_time\": \"2021-01-26T14:49:32.502419Z\", \"created_time\": \"2021-01-26T14:49:06.280091Z\", \"created_time_dt\": \"2021-01-26T14:49:06.280091Z\", \"duration\": \"0:00:26\", \"iteration\": \"27\", \"goal\": \"accuracy_max\", \"run_name\": \"SparseNormalizer, XGBoostClassifier\", \"run_properties\": \"<azureml.automl.runtime.shared.model_wrappers.SparseNormalizer object at 0x7f6e82aa8390\", \"primary_metric\": 0.93667132, \"best_metric\": 0.94722869}, {\"run_id\": \"AutoML_6b91fb92-7fea-4f50-8c43-057b987c8865_28\", \"run_number\": 90, \"metric\": null, \"status\": \"Completed\", \"run_type\": null, \"training_percent\": \"100\", \"start_time\": \"2021-01-26T14:49:33.726396Z\", \"end_time\": \"2021-01-26T14:50:04.550059Z\", \"created_time\": \"2021-01-26T14:49:33.56333Z\", \"created_time_dt\": \"2021-01-26T14:49:33.56333Z\", \"duration\": \"0:00:30\", \"iteration\": \"28\", \"goal\": \"accuracy_max\", \"run_name\": \"StandardScalerWrapper, XGBoostClassifier\", \"run_properties\": \"<azureml.automl.runtime.shared.model_wrappers.StandardScalerWrapper object at 0x7f6e82a5e3c8\", \"primary_metric\": 0.94195001, \"best_metric\": 0.94722869}, {\"run_id\": \"AutoML_6b91fb92-7fea-4f50-8c43-057b987c8865_29\", \"run_number\": 91, \"metric\": null, \"status\": \"Completed\", \"run_type\": null, \"training_percent\": \"100\", \"start_time\": \"2021-01-26T14:50:05.755053Z\", \"end_time\": \"2021-01-26T14:50:31.085789Z\", \"created_time\": \"2021-01-26T14:50:05.643928Z\", \"created_time_dt\": \"2021-01-26T14:50:05.643928Z\", \"duration\": \"0:00:25\", \"iteration\": \"29\", \"goal\": \"accuracy_max\", \"run_name\": \"SparseNormalizer, XGBoostClassifier\", \"run_properties\": \"<azureml.automl.runtime.shared.model_wrappers.SparseNormalizer object at 0x7f6e85f236d8\", \"primary_metric\": 0.93142369, \"best_metric\": 0.94722869}, {\"run_id\": \"AutoML_6b91fb92-7fea-4f50-8c43-057b987c8865_30\", \"run_number\": 92, \"metric\": null, \"status\": \"Completed\", \"run_type\": null, \"training_percent\": \"100\", \"start_time\": \"2021-01-26T14:50:33.100884Z\", \"end_time\": \"2021-01-26T14:51:03.636225Z\", \"created_time\": \"2021-01-26T14:50:32.987826Z\", \"created_time_dt\": \"2021-01-26T14:50:32.987826Z\", \"duration\": \"0:00:30\", \"iteration\": \"30\", \"goal\": \"accuracy_max\", \"run_name\": \"MinMaxScaler, LightGBM\", \"run_properties\": \"copy=True, feature_range=(0, 1\", \"primary_metric\": 0.9366558, \"best_metric\": 0.94722869}, {\"run_id\": \"AutoML_6b91fb92-7fea-4f50-8c43-057b987c8865_31\", \"run_number\": 93, \"metric\": null, \"status\": \"Completed\", \"run_type\": null, \"training_percent\": \"100\", \"start_time\": \"2021-01-26T14:51:04.867093Z\", \"end_time\": \"2021-01-26T14:51:35.943791Z\", \"created_time\": \"2021-01-26T14:51:04.762118Z\", \"created_time_dt\": \"2021-01-26T14:51:04.762118Z\", \"duration\": \"0:00:31\", \"iteration\": \"31\", \"goal\": \"accuracy_max\", \"run_name\": \"SparseNormalizer, XGBoostClassifier\", \"run_properties\": \"<azureml.automl.runtime.shared.model_wrappers.SparseNormalizer object at 0x7f6e85f03b70\", \"primary_metric\": 0.94370439, \"best_metric\": 0.94722869}, {\"run_id\": \"AutoML_6b91fb92-7fea-4f50-8c43-057b987c8865_32\", \"run_number\": 94, \"metric\": null, \"status\": \"Completed\", \"run_type\": null, \"training_percent\": \"100\", \"start_time\": \"2021-01-26T14:51:39.156683Z\", \"end_time\": \"2021-01-26T14:52:13.160196Z\", \"created_time\": \"2021-01-26T14:51:38.599994Z\", \"created_time_dt\": \"2021-01-26T14:51:38.599994Z\", \"duration\": \"0:00:34\", \"iteration\": \"32\", \"goal\": \"accuracy_max\", \"run_name\": \"StandardScalerWrapper, XGBoostClassifier\", \"run_properties\": \"<azureml.automl.runtime.shared.model_wrappers.StandardScalerWrapper object at 0x7f6e84157a90\", \"primary_metric\": 0.93842571, \"best_metric\": 0.94722869}, {\"run_id\": \"AutoML_6b91fb92-7fea-4f50-8c43-057b987c8865_33\", \"run_number\": 95, \"metric\": null, \"status\": \"Completed\", \"run_type\": null, \"training_percent\": \"100\", \"start_time\": \"2021-01-26T14:52:15.825624Z\", \"end_time\": \"2021-01-26T14:52:48.968117Z\", \"created_time\": \"2021-01-26T14:52:15.257723Z\", \"created_time_dt\": \"2021-01-26T14:52:15.257723Z\", \"duration\": \"0:00:33\", \"iteration\": \"33\", \"goal\": \"accuracy_max\", \"run_name\": \"StandardScalerWrapper, XGBoostClassifier\", \"run_properties\": \"<azureml.automl.runtime.shared.model_wrappers.StandardScalerWrapper object at 0x7f6e855dbc18\", \"primary_metric\": 0.93491694, \"best_metric\": 0.94722869}, {\"run_id\": \"AutoML_6b91fb92-7fea-4f50-8c43-057b987c8865_34\", \"run_number\": 96, \"metric\": null, \"status\": \"Completed\", \"run_type\": null, \"training_percent\": \"100\", \"start_time\": \"2021-01-26T14:52:50.401227Z\", \"end_time\": \"2021-01-26T14:53:21.132983Z\", \"created_time\": \"2021-01-26T14:52:50.286617Z\", \"created_time_dt\": \"2021-01-26T14:52:50.286617Z\", \"duration\": \"0:00:30\", \"iteration\": \"34\", \"goal\": \"accuracy_max\", \"run_name\": \"SparseNormalizer, XGBoostClassifier\", \"run_properties\": \"<azureml.automl.runtime.shared.model_wrappers.SparseNormalizer object at 0x7f6e82a5e978\", \"primary_metric\": 0.92617606, \"best_metric\": 0.94722869}, {\"run_id\": \"AutoML_6b91fb92-7fea-4f50-8c43-057b987c8865_35\", \"run_number\": 97, \"metric\": null, \"status\": \"Completed\", \"run_type\": null, \"training_percent\": \"100\", \"start_time\": \"2021-01-26T14:53:23.224016Z\", \"end_time\": \"2021-01-26T14:53:48.796259Z\", \"created_time\": \"2021-01-26T14:53:23.122195Z\", \"created_time_dt\": \"2021-01-26T14:53:23.122195Z\", \"duration\": \"0:00:25\", \"iteration\": \"35\", \"goal\": \"accuracy_max\", \"run_name\": \"MinMaxScaler, LightGBM\", \"run_properties\": \"copy=True, feature_range=(0, 1\", \"primary_metric\": 0.627356, \"best_metric\": 0.94722869}, {\"run_id\": \"AutoML_6b91fb92-7fea-4f50-8c43-057b987c8865_36\", \"run_number\": 98, \"metric\": null, \"status\": \"Completed\", \"run_type\": null, \"training_percent\": \"100\", \"start_time\": \"2021-01-26T14:53:50.206026Z\", \"end_time\": \"2021-01-26T14:54:16.160264Z\", \"created_time\": \"2021-01-26T14:53:50.062735Z\", \"created_time_dt\": \"2021-01-26T14:53:50.062735Z\", \"duration\": \"0:00:26\", \"iteration\": \"36\", \"goal\": \"accuracy_max\", \"run_name\": \"MinMaxScaler, LogisticRegression\", \"run_properties\": \"copy=True, feature_range=(0, 1\", \"primary_metric\": 0.9367179, \"best_metric\": 0.94722869}, {\"run_id\": \"AutoML_6b91fb92-7fea-4f50-8c43-057b987c8865_37\", \"run_number\": 99, \"metric\": null, \"status\": \"Completed\", \"run_type\": null, \"training_percent\": \"100\", \"start_time\": \"2021-01-26T14:54:17.402557Z\", \"end_time\": \"2021-01-26T14:54:42.718456Z\", \"created_time\": \"2021-01-26T14:54:17.280436Z\", \"created_time_dt\": \"2021-01-26T14:54:17.280436Z\", \"duration\": \"0:00:25\", \"iteration\": \"37\", \"goal\": \"accuracy_max\", \"run_name\": \"StandardScalerWrapper, LogisticRegression\", \"run_properties\": \"<azureml.automl.runtime.shared.model_wrappers.StandardScalerWrapper object at 0x7f6e82ace9e8\", \"primary_metric\": 0.9367179, \"best_metric\": 0.94722869}, {\"run_id\": \"AutoML_6b91fb92-7fea-4f50-8c43-057b987c8865_38\", \"run_number\": 100, \"metric\": null, \"status\": \"Completed\", \"run_type\": null, \"training_percent\": \"100\", \"start_time\": \"2021-01-26T14:54:43.936609Z\", \"end_time\": \"2021-01-26T14:55:14.867413Z\", \"created_time\": \"2021-01-26T14:54:43.810598Z\", \"created_time_dt\": \"2021-01-26T14:54:43.810598Z\", \"duration\": \"0:00:31\", \"iteration\": \"38\", \"goal\": \"accuracy_max\", \"run_name\": \"RobustScaler, LightGBM\", \"run_properties\": \"copy=True, quantile_range=[25, 75], with_centering=True,\\n             with_scaling=True\", \"primary_metric\": 0.93668685, \"best_metric\": 0.94722869}, {\"run_id\": \"AutoML_6b91fb92-7fea-4f50-8c43-057b987c8865_39\", \"run_number\": 101, \"metric\": null, \"status\": \"Completed\", \"run_type\": null, \"training_percent\": \"100\", \"start_time\": \"2021-01-26T14:55:16.075917Z\", \"end_time\": \"2021-01-26T14:55:41.616019Z\", \"created_time\": \"2021-01-26T14:55:15.937681Z\", \"created_time_dt\": \"2021-01-26T14:55:15.937681Z\", \"duration\": \"0:00:25\", \"iteration\": \"39\", \"goal\": \"accuracy_max\", \"run_name\": \"SparseNormalizer, XGBoostClassifier\", \"run_properties\": \"<azureml.automl.runtime.shared.model_wrappers.SparseNormalizer object at 0x7f6e859ef1d0\", \"primary_metric\": 0.93317808, \"best_metric\": 0.94722869}, {\"run_id\": \"AutoML_6b91fb92-7fea-4f50-8c43-057b987c8865_40\", \"run_number\": 102, \"metric\": null, \"status\": \"Completed\", \"run_type\": null, \"training_percent\": \"100\", \"start_time\": \"2021-01-26T14:55:44.338833Z\", \"end_time\": \"2021-01-26T14:56:11.411666Z\", \"created_time\": \"2021-01-26T14:55:44.191858Z\", \"created_time_dt\": \"2021-01-26T14:55:44.191858Z\", \"duration\": \"0:00:27\", \"iteration\": \"40\", \"goal\": \"accuracy_max\", \"run_name\": \"StandardScalerWrapper, LightGBM\", \"run_properties\": \"<azureml.automl.runtime.shared.model_wrappers.StandardScalerWrapper object at 0x7f6e861bb748\", \"primary_metric\": 0.93668685, \"best_metric\": 0.94722869}, {\"run_id\": \"AutoML_6b91fb92-7fea-4f50-8c43-057b987c8865_41\", \"run_number\": 103, \"metric\": null, \"status\": \"Completed\", \"run_type\": null, \"training_percent\": \"100\", \"start_time\": \"2021-01-26T14:56:12.623545Z\", \"end_time\": \"2021-01-26T14:56:38.145543Z\", \"created_time\": \"2021-01-26T14:56:12.501545Z\", \"created_time_dt\": \"2021-01-26T14:56:12.501545Z\", \"duration\": \"0:00:25\", \"iteration\": \"41\", \"goal\": \"accuracy_max\", \"run_name\": \"SparseNormalizer, XGBoostClassifier\", \"run_properties\": \"<azureml.automl.runtime.shared.model_wrappers.SparseNormalizer object at 0x7f6e861cb2b0\", \"primary_metric\": 0.94016457, \"best_metric\": 0.94722869}, {\"run_id\": \"AutoML_6b91fb92-7fea-4f50-8c43-057b987c8865_42\", \"run_number\": 104, \"metric\": null, \"status\": \"Completed\", \"run_type\": null, \"training_percent\": \"100\", \"start_time\": \"2021-01-26T14:56:39.502124Z\", \"end_time\": \"2021-01-26T14:57:10.633847Z\", \"created_time\": \"2021-01-26T14:56:39.388527Z\", \"created_time_dt\": \"2021-01-26T14:56:39.388527Z\", \"duration\": \"0:00:31\", \"iteration\": \"42\", \"goal\": \"accuracy_max\", \"run_name\": \"MinMaxScaler, LogisticRegression\", \"run_properties\": \"copy=True, feature_range=(0, 1\", \"primary_metric\": 0.9367179, \"best_metric\": 0.94722869}, {\"run_id\": \"AutoML_6b91fb92-7fea-4f50-8c43-057b987c8865_43\", \"run_number\": 105, \"metric\": null, \"status\": \"Completed\", \"run_type\": null, \"training_percent\": \"100\", \"start_time\": \"2021-01-26T14:57:12.645445Z\", \"end_time\": \"2021-01-26T14:57:44.808491Z\", \"created_time\": \"2021-01-26T14:57:12.524144Z\", \"created_time_dt\": \"2021-01-26T14:57:12.524144Z\", \"duration\": \"0:00:32\", \"iteration\": \"43\", \"goal\": \"accuracy_max\", \"run_name\": \"SparseNormalizer, XGBoostClassifier\", \"run_properties\": \"<azureml.automl.runtime.shared.model_wrappers.SparseNormalizer object at 0x7f6e8529fba8\", \"primary_metric\": 0.93844124, \"best_metric\": 0.94722869}, {\"run_id\": \"AutoML_6b91fb92-7fea-4f50-8c43-057b987c8865_44\", \"run_number\": 106, \"metric\": null, \"status\": \"Completed\", \"run_type\": null, \"training_percent\": \"100\", \"start_time\": \"2021-01-26T14:57:46.068599Z\", \"end_time\": \"2021-01-26T14:58:16.940833Z\", \"created_time\": \"2021-01-26T14:57:45.949131Z\", \"created_time_dt\": \"2021-01-26T14:57:45.949131Z\", \"duration\": \"0:00:30\", \"iteration\": \"44\", \"goal\": \"accuracy_max\", \"run_name\": \"StandardScalerWrapper, XGBoostClassifier\", \"run_properties\": \"<azureml.automl.runtime.shared.model_wrappers.StandardScalerWrapper object at 0x7f6e84120f28\", \"primary_metric\": 0.93844124, \"best_metric\": 0.94722869}, {\"run_id\": \"AutoML_6b91fb92-7fea-4f50-8c43-057b987c8865_45\", \"run_number\": 107, \"metric\": null, \"status\": \"Completed\", \"run_type\": null, \"training_percent\": \"100\", \"start_time\": \"2021-01-26T14:58:19.031803Z\", \"end_time\": \"2021-01-26T14:58:44.307419Z\", \"created_time\": \"2021-01-26T14:58:18.909336Z\", \"created_time_dt\": \"2021-01-26T14:58:18.909336Z\", \"duration\": \"0:00:25\", \"iteration\": \"45\", \"goal\": \"accuracy_max\", \"run_name\": \"StandardScalerWrapper, LightGBM\", \"run_properties\": \"<azureml.automl.runtime.shared.model_wrappers.StandardScalerWrapper object at 0x7f6e85a13d30\", \"primary_metric\": 0.93667132, \"best_metric\": 0.94722869}, {\"run_id\": \"AutoML_6b91fb92-7fea-4f50-8c43-057b987c8865_46\", \"run_number\": 108, \"metric\": null, \"status\": \"Completed\", \"run_type\": null, \"training_percent\": \"100\", \"start_time\": \"2021-01-26T14:58:45.726506Z\", \"end_time\": \"2021-01-26T14:59:16.594953Z\", \"created_time\": \"2021-01-26T14:58:45.610028Z\", \"created_time_dt\": \"2021-01-26T14:58:45.610028Z\", \"duration\": \"0:00:30\", \"iteration\": \"46\", \"goal\": \"accuracy_max\", \"run_name\": \"SparseNormalizer, XGBoostClassifier\", \"run_properties\": \"<azureml.automl.runtime.shared.model_wrappers.SparseNormalizer object at 0x7f6e84093ba8\", \"primary_metric\": 0.93667132, \"best_metric\": 0.94722869}, {\"run_id\": \"AutoML_6b91fb92-7fea-4f50-8c43-057b987c8865_47\", \"run_number\": 109, \"metric\": null, \"status\": \"Completed\", \"run_type\": null, \"training_percent\": \"100\", \"start_time\": \"2021-01-26T14:59:17.929465Z\", \"end_time\": \"2021-01-26T14:59:48.480216Z\", \"created_time\": \"2021-01-26T14:59:17.817304Z\", \"created_time_dt\": \"2021-01-26T14:59:17.817304Z\", \"duration\": \"0:00:30\", \"iteration\": \"47\", \"goal\": \"accuracy_max\", \"run_name\": \"SparseNormalizer, XGBoostClassifier\", \"run_properties\": \"<azureml.automl.runtime.shared.model_wrappers.SparseNormalizer object at 0x7f6e858464e0\", \"primary_metric\": 0.93841018, \"best_metric\": 0.94722869}, {\"run_id\": \"AutoML_6b91fb92-7fea-4f50-8c43-057b987c8865_48\", \"run_number\": 110, \"metric\": null, \"status\": \"Completed\", \"run_type\": null, \"training_percent\": \"100\", \"start_time\": \"2021-01-26T14:59:49.787751Z\", \"end_time\": \"2021-01-26T15:00:17.06004Z\", \"created_time\": \"2021-01-26T14:59:49.67655Z\", \"created_time_dt\": \"2021-01-26T14:59:49.67655Z\", \"duration\": \"0:00:27\", \"iteration\": \"48\", \"goal\": \"accuracy_max\", \"run_name\": \"SparseNormalizer, XGBoostClassifier\", \"run_properties\": \"<azureml.automl.runtime.shared.model_wrappers.SparseNormalizer object at 0x7f6e8577a518\", \"primary_metric\": 0.93317808, \"best_metric\": 0.94722869}, {\"run_id\": \"AutoML_6b91fb92-7fea-4f50-8c43-057b987c8865_49\", \"run_number\": 111, \"metric\": null, \"status\": \"Completed\", \"run_type\": null, \"training_percent\": \"100\", \"start_time\": \"2021-01-26T15:00:18.243537Z\", \"end_time\": \"2021-01-26T15:00:50.52413Z\", \"created_time\": \"2021-01-26T15:00:18.132275Z\", \"created_time_dt\": \"2021-01-26T15:00:18.132275Z\", \"duration\": \"0:00:32\", \"iteration\": \"49\", \"goal\": \"accuracy_max\", \"run_name\": \"StandardScalerWrapper, LightGBM\", \"run_properties\": \"<azureml.automl.runtime.shared.model_wrappers.StandardScalerWrapper object at 0x7f6e83e552e8\", \"primary_metric\": 0.93491694, \"best_metric\": 0.94722869}, {\"run_id\": \"AutoML_6b91fb92-7fea-4f50-8c43-057b987c8865_50\", \"run_number\": 112, \"metric\": null, \"status\": \"Completed\", \"run_type\": null, \"training_percent\": \"100\", \"start_time\": \"2021-01-26T15:00:53.953674Z\", \"end_time\": \"2021-01-26T15:01:25.882434Z\", \"created_time\": \"2021-01-26T15:00:53.808852Z\", \"created_time_dt\": \"2021-01-26T15:00:53.808852Z\", \"duration\": \"0:00:32\", \"iteration\": \"50\", \"goal\": \"accuracy_max\", \"run_name\": \"StandardScalerWrapper, LightGBM\", \"run_properties\": \"<azureml.automl.runtime.shared.model_wrappers.StandardScalerWrapper object at 0x7f6e83ee2cc0\", \"primary_metric\": 0.93140817, \"best_metric\": 0.94722869}, {\"run_id\": \"AutoML_6b91fb92-7fea-4f50-8c43-057b987c8865_51\", \"run_number\": 113, \"metric\": null, \"status\": \"Completed\", \"run_type\": null, \"training_percent\": \"100\", \"start_time\": \"2021-01-26T15:01:29.007515Z\", \"end_time\": \"2021-01-26T15:02:08.279317Z\", \"created_time\": \"2021-01-26T15:01:28.274042Z\", \"created_time_dt\": \"2021-01-26T15:01:28.274042Z\", \"duration\": \"0:00:40\", \"iteration\": \"51\", \"goal\": \"accuracy_max\", \"run_name\": \"MinMaxScaler, LogisticRegression\", \"run_properties\": \"copy=True, feature_range=(0, 1\", \"primary_metric\": 0.94375097, \"best_metric\": 0.94722869}, {\"run_id\": \"AutoML_6b91fb92-7fea-4f50-8c43-057b987c8865_52\", \"run_number\": 114, \"metric\": null, \"status\": \"Completed\", \"run_type\": null, \"training_percent\": \"100\", \"start_time\": \"2021-01-26T15:02:11.140039Z\", \"end_time\": \"2021-01-26T15:02:38.084773Z\", \"created_time\": \"2021-01-26T15:02:10.555904Z\", \"created_time_dt\": \"2021-01-26T15:02:10.555904Z\", \"duration\": \"0:00:27\", \"iteration\": \"52\", \"goal\": \"accuracy_max\", \"run_name\": \"MaxAbsScaler, LogisticRegression\", \"run_properties\": \"copy=True\", \"primary_metric\": 0.93145474, \"best_metric\": 0.94722869}, {\"run_id\": \"AutoML_6b91fb92-7fea-4f50-8c43-057b987c8865_53\", \"run_number\": 115, \"metric\": null, \"status\": \"Completed\", \"run_type\": null, \"training_percent\": \"100\", \"start_time\": \"2021-01-26T15:02:39.366706Z\", \"end_time\": \"2021-01-26T15:03:05.726511Z\", \"created_time\": \"2021-01-26T15:02:39.244252Z\", \"created_time_dt\": \"2021-01-26T15:02:39.244252Z\", \"duration\": \"0:00:26\", \"iteration\": \"53\", \"goal\": \"accuracy_max\", \"run_name\": \"MaxAbsScaler, LogisticRegression\", \"run_properties\": \"copy=True\", \"primary_metric\": 0.94021115, \"best_metric\": 0.94722869}, {\"run_id\": \"AutoML_6b91fb92-7fea-4f50-8c43-057b987c8865_54\", \"run_number\": 116, \"metric\": null, \"status\": \"Completed\", \"run_type\": null, \"training_percent\": \"100\", \"start_time\": \"2021-01-26T15:03:06.995491Z\", \"end_time\": \"2021-01-26T15:03:39.235178Z\", \"created_time\": \"2021-01-26T15:03:06.870037Z\", \"created_time_dt\": \"2021-01-26T15:03:06.870037Z\", \"duration\": \"0:00:32\", \"iteration\": \"54\", \"goal\": \"accuracy_max\", \"run_name\": \"StandardScalerWrapper, XGBoostClassifier\", \"run_properties\": \"<azureml.automl.runtime.shared.model_wrappers.StandardScalerWrapper object at 0x7f6e83c11320\", \"primary_metric\": 0.93842571, \"best_metric\": 0.94722869}, {\"run_id\": \"AutoML_6b91fb92-7fea-4f50-8c43-057b987c8865_55\", \"run_number\": 117, \"metric\": null, \"status\": \"Completed\", \"run_type\": null, \"training_percent\": \"100\", \"start_time\": \"2021-01-26T15:03:41.278205Z\", \"end_time\": \"2021-01-26T15:04:08.411319Z\", \"created_time\": \"2021-01-26T15:03:41.183384Z\", \"created_time_dt\": \"2021-01-26T15:03:41.183384Z\", \"duration\": \"0:00:27\", \"iteration\": \"55\", \"goal\": \"accuracy_max\", \"run_name\": \"MaxAbsScaler, LightGBM\", \"run_properties\": \"copy=True\", \"primary_metric\": 0.93844124, \"best_metric\": 0.94722869}, {\"run_id\": \"AutoML_6b91fb92-7fea-4f50-8c43-057b987c8865_56\", \"run_number\": 118, \"metric\": null, \"status\": \"Completed\", \"run_type\": null, \"training_percent\": \"100\", \"start_time\": \"2021-01-26T15:04:09.643298Z\", \"end_time\": \"2021-01-26T15:04:40.896246Z\", \"created_time\": \"2021-01-26T15:04:09.53344Z\", \"created_time_dt\": \"2021-01-26T15:04:09.53344Z\", \"duration\": \"0:00:31\", \"iteration\": \"56\", \"goal\": \"accuracy_max\", \"run_name\": \"SparseNormalizer, XGBoostClassifier\", \"run_properties\": \"<azureml.automl.runtime.shared.model_wrappers.SparseNormalizer object at 0x7f6e83d23940\", \"primary_metric\": 0.93317808, \"best_metric\": 0.94722869}, {\"run_id\": \"AutoML_6b91fb92-7fea-4f50-8c43-057b987c8865_57\", \"run_number\": 119, \"metric\": null, \"status\": \"Completed\", \"run_type\": null, \"training_percent\": \"100\", \"start_time\": \"2021-01-26T15:04:42.122025Z\", \"end_time\": \"2021-01-26T15:05:07.741094Z\", \"created_time\": \"2021-01-26T15:04:42.003864Z\", \"created_time_dt\": \"2021-01-26T15:04:42.003864Z\", \"duration\": \"0:00:25\", \"iteration\": \"57\", \"goal\": \"accuracy_max\", \"run_name\": \"SparseNormalizer, XGBoostClassifier\", \"run_properties\": \"<azureml.automl.runtime.shared.model_wrappers.SparseNormalizer object at 0x7f6e83d30be0\", \"primary_metric\": 0.93316255, \"best_metric\": 0.94722869}, {\"run_id\": \"AutoML_6b91fb92-7fea-4f50-8c43-057b987c8865_58\", \"run_number\": 120, \"metric\": null, \"status\": \"Completed\", \"run_type\": null, \"training_percent\": \"100\", \"start_time\": \"2021-01-26T15:05:08.967332Z\", \"end_time\": \"2021-01-26T15:05:39.396819Z\", \"created_time\": \"2021-01-26T15:05:08.838425Z\", \"created_time_dt\": \"2021-01-26T15:05:08.838425Z\", \"duration\": \"0:00:30\", \"iteration\": \"58\", \"goal\": \"accuracy_max\", \"run_name\": \"StandardScalerWrapper, LogisticRegression\", \"run_properties\": \"<azureml.automl.runtime.shared.model_wrappers.StandardScalerWrapper object at 0x7f6e83d16438\", \"primary_metric\": 0.9367179, \"best_metric\": 0.94722869}, {\"run_id\": \"AutoML_6b91fb92-7fea-4f50-8c43-057b987c8865_59\", \"run_number\": 121, \"metric\": null, \"status\": \"Completed\", \"run_type\": null, \"training_percent\": \"100\", \"start_time\": \"2021-01-26T15:05:39.697523Z\", \"end_time\": \"2021-01-26T15:06:21.611707Z\", \"created_time\": \"2021-01-26T15:05:39.598603Z\", \"created_time_dt\": \"2021-01-26T15:05:39.598603Z\", \"duration\": \"0:00:42\", \"iteration\": \"59\", \"goal\": \"accuracy_max\", \"run_name\": \"VotingEnsemble\", \"run_properties\": \"classification_labels=None,\\n                              estimators=[('0',\\n                                           Pipeline(memory=None,\\n                                                    steps=[('maxabsscaler',\\n                                                            MaxAbsScaler(copy=True\", \"primary_metric\": 0.95249185, \"best_metric\": 0.95249185}, {\"run_id\": \"AutoML_6b91fb92-7fea-4f50-8c43-057b987c8865_60\", \"run_number\": 122, \"metric\": null, \"status\": \"Completed\", \"run_type\": null, \"training_percent\": \"100\", \"start_time\": \"2021-01-26T15:06:21.971159Z\", \"end_time\": \"2021-01-26T15:07:07.265311Z\", \"created_time\": \"2021-01-26T15:06:21.864444Z\", \"created_time_dt\": \"2021-01-26T15:06:21.864444Z\", \"duration\": \"0:00:45\", \"iteration\": \"60\", \"goal\": \"accuracy_max\", \"run_name\": \"StackEnsemble\", \"run_properties\": \"base_learners=[('0',\\n                                        Pipeline(memory=None,\\n                                                 steps=[('maxabsscaler',\\n                                                         MaxAbsScaler(copy=True\", \"primary_metric\": 0.94195001, \"best_metric\": 0.95249185}], \"children_metrics\": {\"categories\": [0], \"series\": {\"average_precision_score_weighted\": [{\"categories\": [\"0\", \"1\", \"2\", \"3\", \"4\", \"5\", \"6\", \"7\", \"8\", \"9\", \"10\", \"11\", \"12\", \"13\", \"14\", \"15\", \"16\", \"17\", \"18\", \"19\", \"20\", \"21\", \"22\", \"23\", \"24\", \"25\", \"26\", \"27\", \"28\", \"29\", \"30\", \"31\", \"32\", \"33\", \"34\", \"35\", \"36\", \"37\", \"38\", \"39\", \"40\", \"41\", \"42\", \"43\", \"44\", \"45\", \"46\", \"47\", \"48\", \"49\", \"50\", \"51\", \"52\", \"53\", \"54\", \"55\", \"56\", \"57\", \"58\", \"59\", \"60\"], \"mode\": \"markers\", \"name\": \"average_precision_score_weighted\", \"stepped\": false, \"type\": \"scatter\", \"data\": [0.9890928602697009, 0.9887396292696435, 0.9774209383664347, 0.9781313439971514, 0.9842254041360082, 0.98141945967953, 0.9874474943039576, 0.981756735126942, 0.9795237569763235, 0.979338947792652, 0.9847245737173631, 0.980171668293262, 0.9873699126509772, 0.9705986327952509, 0.9806470365195109, 0.9873834271056878, 0.9880454370969091, 0.98115266906712, 0.9825687256392817, 0.9815324885088963, 0.9809596510887809, 0.9535135217416635, 0.9864470521887758, 0.9847953034219369, 0.9866409559934516, 0.9741884894465448, 0.985725381911764, 0.985199931521878, 0.984958531062658, 0.9831446551464268, 0.9876352704457025, 0.986884180921313, 0.9878442761304514, 0.9860294389289674, 0.9845907144915895, 0.9603690730024337, 0.9863092088855556, 0.9862651609833823, 0.9850853018245219, 0.9847682061086044, 0.9867756193820639, 0.9842268409925568, 0.9863668924666401, 0.9874350025533802, 0.9848938423255591, 0.9868489386507946, 0.9860472294404989, 0.9861803661701154, 0.9778437472146966, 0.9866444463230207, 0.9847026187087495, 0.9863946879830037, 0.9864273252898309, 0.9863255299210156, 0.9863135703527472, 0.9840447196236894, 0.9847230662175368, 0.985288799136986, 0.9862651609833823, 0.9905530755031593, 0.9901947189450239]}, {\"categories\": [\"0\", \"1\", \"2\", \"3\", \"4\", \"5\", \"6\", \"7\", \"8\", \"9\", \"10\", \"11\", \"12\", \"13\", \"14\", \"15\", \"16\", \"17\", \"18\", \"19\", \"20\", \"21\", \"22\", \"23\", \"24\", \"25\", \"26\", \"27\", \"28\", \"29\", \"30\", \"31\", \"32\", \"33\", \"34\", \"35\", \"36\", \"37\", \"38\", \"39\", \"40\", \"41\", \"42\", \"43\", \"44\", \"45\", \"46\", \"47\", \"48\", \"49\", \"50\", \"51\", \"52\", \"53\", \"54\", \"55\", \"56\", \"57\", \"58\", \"59\", \"60\"], \"mode\": \"lines\", \"name\": \"average_precision_score_weighted_max\", \"stepped\": true, \"type\": \"scatter\", \"data\": [0.9890928602697009, 0.9890928602697009, 0.9890928602697009, 0.9890928602697009, 0.9890928602697009, 0.9890928602697009, 0.9890928602697009, 0.9890928602697009, 0.9890928602697009, 0.9890928602697009, 0.9890928602697009, 0.9890928602697009, 0.9890928602697009, 0.9890928602697009, 0.9890928602697009, 0.9890928602697009, 0.9890928602697009, 0.9890928602697009, 0.9890928602697009, 0.9890928602697009, 0.9890928602697009, 0.9890928602697009, 0.9890928602697009, 0.9890928602697009, 0.9890928602697009, 0.9890928602697009, 0.9890928602697009, 0.9890928602697009, 0.9890928602697009, 0.9890928602697009, 0.9890928602697009, 0.9890928602697009, 0.9890928602697009, 0.9890928602697009, 0.9890928602697009, 0.9890928602697009, 0.9890928602697009, 0.9890928602697009, 0.9890928602697009, 0.9890928602697009, 0.9890928602697009, 0.9890928602697009, 0.9890928602697009, 0.9890928602697009, 0.9890928602697009, 0.9890928602697009, 0.9890928602697009, 0.9890928602697009, 0.9890928602697009, 0.9890928602697009, 0.9890928602697009, 0.9890928602697009, 0.9890928602697009, 0.9890928602697009, 0.9890928602697009, 0.9890928602697009, 0.9890928602697009, 0.9890928602697009, 0.9890928602697009, 0.9905530755031593, 0.9905530755031593]}], \"precision_score_macro\": [{\"categories\": [\"0\", \"1\", \"2\", \"3\", \"4\", \"5\", \"6\", \"7\", \"8\", \"9\", \"10\", \"11\", \"12\", \"13\", \"14\", \"15\", \"16\", \"17\", \"18\", \"19\", \"20\", \"21\", \"22\", \"23\", \"24\", \"25\", \"26\", \"27\", \"28\", \"29\", \"30\", \"31\", \"32\", \"33\", \"34\", \"35\", \"36\", \"37\", \"38\", \"39\", \"40\", \"41\", \"42\", \"43\", \"44\", \"45\", \"46\", \"47\", \"48\", \"49\", \"50\", \"51\", \"52\", \"53\", \"54\", \"55\", \"56\", \"57\", \"58\", \"59\", \"60\"], \"mode\": \"markers\", \"name\": \"precision_score_macro\", \"stepped\": false, \"type\": \"scatter\", \"data\": [0.9463624725308666, 0.9448256332558085, 0.9202609165351804, 0.9200812702478867, 0.916863974897667, 0.9386092233775789, 0.9380856478597248, 0.9275655676150002, 0.9340435552575294, 0.9169381271064256, 0.9305006515089833, 0.9160982050205456, 0.9318822695549038, 0.9212624362753316, 0.916521424312122, 0.9275617229572453, 0.9326757187323537, 0.9198483170252825, 0.9357918887665768, 0.9193164524627939, 0.916747926786291, 0.8980468718232164, 0.9386495830080136, 0.9306107272950443, 0.9394464094630717, 0.9170354394062128, 0.9335428948024855, 0.9337772959739807, 0.9411952033350094, 0.927994921892495, 0.935066976155154, 0.9404568333443015, 0.936480535489487, 0.9315634569701446, 0.9229606169011945, 0.3136780003105108, 0.9345538919944112, 0.9345538919944112, 0.9352454836410059, 0.9308735808374831, 0.9346272107461366, 0.9359320298791541, 0.9345538919944112, 0.9366480723960642, 0.9359897253801707, 0.934950271209862, 0.9339583043611567, 0.9357244068280256, 0.9289787368420732, 0.9323522376059288, 0.9273885985504966, 0.9446232808704149, 0.9244578884820518, 0.9382476093451704, 0.9365286864613825, 0.9343314398663415, 0.9279373778575181, 0.9290502892043948, 0.9345538919944112, 0.9528553851682584, 0.9439009843208479]}, {\"categories\": [\"0\", \"1\", \"2\", \"3\", \"4\", \"5\", \"6\", \"7\", \"8\", \"9\", \"10\", \"11\", \"12\", \"13\", \"14\", \"15\", \"16\", \"17\", \"18\", \"19\", \"20\", \"21\", \"22\", \"23\", \"24\", \"25\", \"26\", \"27\", \"28\", \"29\", \"30\", \"31\", \"32\", \"33\", \"34\", \"35\", \"36\", \"37\", \"38\", \"39\", \"40\", \"41\", \"42\", \"43\", \"44\", \"45\", \"46\", \"47\", \"48\", \"49\", \"50\", \"51\", \"52\", \"53\", \"54\", \"55\", \"56\", \"57\", \"58\", \"59\", \"60\"], \"mode\": \"lines\", \"name\": \"precision_score_macro_max\", \"stepped\": true, \"type\": \"scatter\", \"data\": [0.9463624725308666, 0.9463624725308666, 0.9463624725308666, 0.9463624725308666, 0.9463624725308666, 0.9463624725308666, 0.9463624725308666, 0.9463624725308666, 0.9463624725308666, 0.9463624725308666, 0.9463624725308666, 0.9463624725308666, 0.9463624725308666, 0.9463624725308666, 0.9463624725308666, 0.9463624725308666, 0.9463624725308666, 0.9463624725308666, 0.9463624725308666, 0.9463624725308666, 0.9463624725308666, 0.9463624725308666, 0.9463624725308666, 0.9463624725308666, 0.9463624725308666, 0.9463624725308666, 0.9463624725308666, 0.9463624725308666, 0.9463624725308666, 0.9463624725308666, 0.9463624725308666, 0.9463624725308666, 0.9463624725308666, 0.9463624725308666, 0.9463624725308666, 0.9463624725308666, 0.9463624725308666, 0.9463624725308666, 0.9463624725308666, 0.9463624725308666, 0.9463624725308666, 0.9463624725308666, 0.9463624725308666, 0.9463624725308666, 0.9463624725308666, 0.9463624725308666, 0.9463624725308666, 0.9463624725308666, 0.9463624725308666, 0.9463624725308666, 0.9463624725308666, 0.9463624725308666, 0.9463624725308666, 0.9463624725308666, 0.9463624725308666, 0.9463624725308666, 0.9463624725308666, 0.9463624725308666, 0.9463624725308666, 0.9528553851682584, 0.9528553851682584]}], \"balanced_accuracy\": [{\"categories\": [\"0\", \"1\", \"2\", \"3\", \"4\", \"5\", \"6\", \"7\", \"8\", \"9\", \"10\", \"11\", \"12\", \"13\", \"14\", \"15\", \"16\", \"17\", \"18\", \"19\", \"20\", \"21\", \"22\", \"23\", \"24\", \"25\", \"26\", \"27\", \"28\", \"29\", \"30\", \"31\", \"32\", \"33\", \"34\", \"35\", \"36\", \"37\", \"38\", \"39\", \"40\", \"41\", \"42\", \"43\", \"44\", \"45\", \"46\", \"47\", \"48\", \"49\", \"50\", \"51\", \"52\", \"53\", \"54\", \"55\", \"56\", \"57\", \"58\", \"59\", \"60\"], \"mode\": \"markers\", \"name\": \"balanced_accuracy\", \"stepped\": false, \"type\": \"scatter\", \"data\": [0.9403747288892879, 0.9342871488275228, 0.921779030446132, 0.9173912384375804, 0.9225940389241233, 0.9326234738309994, 0.933353001249429, 0.9254195001510427, 0.9297689069631361, 0.9134829878783002, 0.9219287674091156, 0.9049065521775322, 0.9285125145164116, 0.9242956318786841, 0.9085982948766839, 0.9248864319228589, 0.9322548008264967, 0.9093895625726569, 0.9320972157934893, 0.9030890378072721, 0.9184082319964183, 0.8703075770656928, 0.9336030444022434, 0.9252855478846109, 0.9353640147411845, 0.8744975531567831, 0.9267305368973986, 0.9309266168331746, 0.9348931846553412, 0.9241355539993229, 0.929287581447034, 0.9386770330152265, 0.9314044499408769, 0.9291285594162915, 0.9180496244561823, 0.5, 0.9302550020055314, 0.9302550020055314, 0.9288864319228589, 0.9258164297229875, 0.9290456359029584, 0.9359724544431274, 0.9302550020055314, 0.9317505237619408, 0.9325165689091601, 0.9292305368973988, 0.9303952413504689, 0.9316975643842735, 0.9276322741666565, 0.9279581791738215, 0.9258393469110429, 0.935884794220925, 0.9307256651628372, 0.9337402993042044, 0.9312220457976889, 0.9338424395559265, 0.9286870496653714, 0.9271340839256524, 0.9302550020055314, 0.9452699492749439, 0.9316800886716823]}, {\"categories\": [\"0\", \"1\", \"2\", \"3\", \"4\", \"5\", \"6\", \"7\", \"8\", \"9\", \"10\", \"11\", \"12\", \"13\", \"14\", \"15\", \"16\", \"17\", \"18\", \"19\", \"20\", \"21\", \"22\", \"23\", \"24\", \"25\", \"26\", \"27\", \"28\", \"29\", \"30\", \"31\", \"32\", \"33\", \"34\", \"35\", \"36\", \"37\", \"38\", \"39\", \"40\", \"41\", \"42\", \"43\", \"44\", \"45\", \"46\", \"47\", \"48\", \"49\", \"50\", \"51\", \"52\", \"53\", \"54\", \"55\", \"56\", \"57\", \"58\", \"59\", \"60\"], \"mode\": \"lines\", \"name\": \"balanced_accuracy_max\", \"stepped\": true, \"type\": \"scatter\", \"data\": [0.9403747288892879, 0.9403747288892879, 0.9403747288892879, 0.9403747288892879, 0.9403747288892879, 0.9403747288892879, 0.9403747288892879, 0.9403747288892879, 0.9403747288892879, 0.9403747288892879, 0.9403747288892879, 0.9403747288892879, 0.9403747288892879, 0.9403747288892879, 0.9403747288892879, 0.9403747288892879, 0.9403747288892879, 0.9403747288892879, 0.9403747288892879, 0.9403747288892879, 0.9403747288892879, 0.9403747288892879, 0.9403747288892879, 0.9403747288892879, 0.9403747288892879, 0.9403747288892879, 0.9403747288892879, 0.9403747288892879, 0.9403747288892879, 0.9403747288892879, 0.9403747288892879, 0.9403747288892879, 0.9403747288892879, 0.9403747288892879, 0.9403747288892879, 0.9403747288892879, 0.9403747288892879, 0.9403747288892879, 0.9403747288892879, 0.9403747288892879, 0.9403747288892879, 0.9403747288892879, 0.9403747288892879, 0.9403747288892879, 0.9403747288892879, 0.9403747288892879, 0.9403747288892879, 0.9403747288892879, 0.9403747288892879, 0.9403747288892879, 0.9403747288892879, 0.9403747288892879, 0.9403747288892879, 0.9403747288892879, 0.9403747288892879, 0.9403747288892879, 0.9403747288892879, 0.9403747288892879, 0.9403747288892879, 0.9452699492749439, 0.9452699492749439]}], \"f1_score_macro\": [{\"categories\": [\"0\", \"1\", \"2\", \"3\", \"4\", \"5\", \"6\", \"7\", \"8\", \"9\", \"10\", \"11\", \"12\", \"13\", \"14\", \"15\", \"16\", \"17\", \"18\", \"19\", \"20\", \"21\", \"22\", \"23\", \"24\", \"25\", \"26\", \"27\", \"28\", \"29\", \"30\", \"31\", \"32\", \"33\", \"34\", \"35\", \"36\", \"37\", \"38\", \"39\", \"40\", \"41\", \"42\", \"43\", \"44\", \"45\", \"46\", \"47\", \"48\", \"49\", \"50\", \"51\", \"52\", \"53\", \"54\", \"55\", \"56\", \"57\", \"58\", \"59\", \"60\"], \"mode\": \"markers\", \"name\": \"f1_score_macro\", \"stepped\": false, \"type\": \"scatter\", \"data\": [0.9431415382362021, 0.9388121768829363, 0.9206206779812659, 0.9183489401845852, 0.9192894868544039, 0.9352844045786851, 0.9352601157497962, 0.9259637137955217, 0.9314303860390817, 0.9146202725441801, 0.9255659538145722, 0.9096387513164549, 0.9296373088734317, 0.9225906237323283, 0.9118343216986451, 0.9260223020360969, 0.9323224487446191, 0.9137906369687301, 0.9336859294056378, 0.9095654585045387, 0.9168936360377632, 0.8794095327898963, 0.9354197931434989, 0.9273763791732733, 0.9371026203843172, 0.8873801476863603, 0.9296997723035494, 0.9315745849775215, 0.9374704476323584, 0.9255948394030001, 0.9319156889363992, 0.9391717057146843, 0.9336563307269241, 0.9301109024507195, 0.9197796437648954, 0.3853330691002781, 0.9316123974983406, 0.9316123974983406, 0.9316774051029647, 0.9275477421790168, 0.9315064327667418, 0.9358430549145312, 0.9316123974983406, 0.9334082061163702, 0.9339589548898166, 0.9317880378198387, 0.9315474244712995, 0.9334098099268008, 0.9279354777069404, 0.9300279539425954, 0.9264111808042985, 0.9389686484496054, 0.9267163352148085, 0.9353399615532343, 0.9335807449487286, 0.9339306852507002, 0.9279215485901945, 0.9277921798536205, 0.9316123974983406, 0.9486840222785473, 0.93651980633809]}, {\"categories\": [\"0\", \"1\", \"2\", \"3\", \"4\", \"5\", \"6\", \"7\", \"8\", \"9\", \"10\", \"11\", \"12\", \"13\", \"14\", \"15\", \"16\", \"17\", \"18\", \"19\", \"20\", \"21\", \"22\", \"23\", \"24\", \"25\", \"26\", \"27\", \"28\", \"29\", \"30\", \"31\", \"32\", \"33\", \"34\", \"35\", \"36\", \"37\", \"38\", \"39\", \"40\", \"41\", \"42\", \"43\", \"44\", \"45\", \"46\", \"47\", \"48\", \"49\", \"50\", \"51\", \"52\", \"53\", \"54\", \"55\", \"56\", \"57\", \"58\", \"59\", \"60\"], \"mode\": \"lines\", \"name\": \"f1_score_macro_max\", \"stepped\": true, \"type\": \"scatter\", \"data\": [0.9431415382362021, 0.9431415382362021, 0.9431415382362021, 0.9431415382362021, 0.9431415382362021, 0.9431415382362021, 0.9431415382362021, 0.9431415382362021, 0.9431415382362021, 0.9431415382362021, 0.9431415382362021, 0.9431415382362021, 0.9431415382362021, 0.9431415382362021, 0.9431415382362021, 0.9431415382362021, 0.9431415382362021, 0.9431415382362021, 0.9431415382362021, 0.9431415382362021, 0.9431415382362021, 0.9431415382362021, 0.9431415382362021, 0.9431415382362021, 0.9431415382362021, 0.9431415382362021, 0.9431415382362021, 0.9431415382362021, 0.9431415382362021, 0.9431415382362021, 0.9431415382362021, 0.9431415382362021, 0.9431415382362021, 0.9431415382362021, 0.9431415382362021, 0.9431415382362021, 0.9431415382362021, 0.9431415382362021, 0.9431415382362021, 0.9431415382362021, 0.9431415382362021, 0.9431415382362021, 0.9431415382362021, 0.9431415382362021, 0.9431415382362021, 0.9431415382362021, 0.9431415382362021, 0.9431415382362021, 0.9431415382362021, 0.9431415382362021, 0.9431415382362021, 0.9431415382362021, 0.9431415382362021, 0.9431415382362021, 0.9431415382362021, 0.9431415382362021, 0.9431415382362021, 0.9431415382362021, 0.9431415382362021, 0.9486840222785473, 0.9486840222785473]}], \"recall_score_macro\": [{\"categories\": [\"0\", \"1\", \"2\", \"3\", \"4\", \"5\", \"6\", \"7\", \"8\", \"9\", \"10\", \"11\", \"12\", \"13\", \"14\", \"15\", \"16\", \"17\", \"18\", \"19\", \"20\", \"21\", \"22\", \"23\", \"24\", \"25\", \"26\", \"27\", \"28\", \"29\", \"30\", \"31\", \"32\", \"33\", \"34\", \"35\", \"36\", \"37\", \"38\", \"39\", \"40\", \"41\", \"42\", \"43\", \"44\", \"45\", \"46\", \"47\", \"48\", \"49\", \"50\", \"51\", \"52\", \"53\", \"54\", \"55\", \"56\", \"57\", \"58\", \"59\", \"60\"], \"mode\": \"markers\", \"name\": \"recall_score_macro\", \"stepped\": false, \"type\": \"scatter\", \"data\": [0.9403747288892879, 0.9342871488275228, 0.921779030446132, 0.9173912384375804, 0.9225940389241233, 0.9326234738309994, 0.933353001249429, 0.9254195001510427, 0.9297689069631361, 0.9134829878783002, 0.9219287674091156, 0.9049065521775322, 0.9285125145164116, 0.9242956318786841, 0.9085982948766839, 0.9248864319228589, 0.9322548008264967, 0.9093895625726569, 0.9320972157934893, 0.9030890378072721, 0.9184082319964183, 0.8703075770656928, 0.9336030444022434, 0.9252855478846109, 0.9353640147411845, 0.8744975531567831, 0.9267305368973986, 0.9309266168331746, 0.9348931846553412, 0.9241355539993229, 0.929287581447034, 0.9386770330152265, 0.9314044499408769, 0.9291285594162915, 0.9180496244561823, 0.5, 0.9302550020055314, 0.9302550020055314, 0.9288864319228589, 0.9258164297229875, 0.9290456359029584, 0.9359724544431274, 0.9302550020055314, 0.9317505237619408, 0.9325165689091601, 0.9292305368973988, 0.9303952413504689, 0.9316975643842735, 0.9276322741666565, 0.9279581791738215, 0.9258393469110429, 0.935884794220925, 0.9307256651628372, 0.9337402993042044, 0.9312220457976889, 0.9338424395559265, 0.9286870496653714, 0.9271340839256524, 0.9302550020055314, 0.9452699492749439, 0.9316800886716823]}, {\"categories\": [\"0\", \"1\", \"2\", \"3\", \"4\", \"5\", \"6\", \"7\", \"8\", \"9\", \"10\", \"11\", \"12\", \"13\", \"14\", \"15\", \"16\", \"17\", \"18\", \"19\", \"20\", \"21\", \"22\", \"23\", \"24\", \"25\", \"26\", \"27\", \"28\", \"29\", \"30\", \"31\", \"32\", \"33\", \"34\", \"35\", \"36\", \"37\", \"38\", \"39\", \"40\", \"41\", \"42\", \"43\", \"44\", \"45\", \"46\", \"47\", \"48\", \"49\", \"50\", \"51\", \"52\", \"53\", \"54\", \"55\", \"56\", \"57\", \"58\", \"59\", \"60\"], \"mode\": \"lines\", \"name\": \"recall_score_macro_max\", \"stepped\": true, \"type\": \"scatter\", \"data\": [0.9403747288892879, 0.9403747288892879, 0.9403747288892879, 0.9403747288892879, 0.9403747288892879, 0.9403747288892879, 0.9403747288892879, 0.9403747288892879, 0.9403747288892879, 0.9403747288892879, 0.9403747288892879, 0.9403747288892879, 0.9403747288892879, 0.9403747288892879, 0.9403747288892879, 0.9403747288892879, 0.9403747288892879, 0.9403747288892879, 0.9403747288892879, 0.9403747288892879, 0.9403747288892879, 0.9403747288892879, 0.9403747288892879, 0.9403747288892879, 0.9403747288892879, 0.9403747288892879, 0.9403747288892879, 0.9403747288892879, 0.9403747288892879, 0.9403747288892879, 0.9403747288892879, 0.9403747288892879, 0.9403747288892879, 0.9403747288892879, 0.9403747288892879, 0.9403747288892879, 0.9403747288892879, 0.9403747288892879, 0.9403747288892879, 0.9403747288892879, 0.9403747288892879, 0.9403747288892879, 0.9403747288892879, 0.9403747288892879, 0.9403747288892879, 0.9403747288892879, 0.9403747288892879, 0.9403747288892879, 0.9403747288892879, 0.9403747288892879, 0.9403747288892879, 0.9403747288892879, 0.9403747288892879, 0.9403747288892879, 0.9403747288892879, 0.9403747288892879, 0.9403747288892879, 0.9403747288892879, 0.9403747288892879, 0.9452699492749439, 0.9452699492749439]}], \"accuracy\": [{\"categories\": [\"0\", \"1\", \"2\", \"3\", \"4\", \"5\", \"6\", \"7\", \"8\", \"9\", \"10\", \"11\", \"12\", \"13\", \"14\", \"15\", \"16\", \"17\", \"18\", \"19\", \"20\", \"21\", \"22\", \"23\", \"24\", \"25\", \"26\", \"27\", \"28\", \"29\", \"30\", \"31\", \"32\", \"33\", \"34\", \"35\", \"36\", \"37\", \"38\", \"39\", \"40\", \"41\", \"42\", \"43\", \"44\", \"45\", \"46\", \"47\", \"48\", \"49\", \"50\", \"51\", \"52\", \"53\", \"54\", \"55\", \"56\", \"57\", \"58\", \"59\", \"60\"], \"mode\": \"markers\", \"name\": \"accuracy\", \"stepped\": false, \"type\": \"scatter\", \"data\": [0.947228691197019, 0.9437043937276821, 0.9261605340785591, 0.9244216736531594, 0.9243906225741345, 0.9402266728768824, 0.9401956217978575, 0.9313771153547586, 0.936686849868033, 0.9208818506443098, 0.9314236919732961, 0.9173886042539978, 0.9349169383636081, 0.9279149200434714, 0.9191585157584227, 0.9314236919732961, 0.9366713243285204, 0.9208818506443098, 0.9384257102934328, 0.9173730787144854, 0.9226672876882471, 0.890995187082751, 0.9402111473373699, 0.9331625523986959, 0.9419500077627697, 0.8997671169073126, 0.9349169383636081, 0.9366713243285204, 0.9419500077627697, 0.9314236919732961, 0.936655798789008, 0.9437043937276821, 0.9384257102934326, 0.9349169383636081, 0.9261760596180716, 0.6273560006210216, 0.9367179009470579, 0.9367179009470579, 0.936686849868033, 0.9331780779382083, 0.936686849868033, 0.9401645707188324, 0.9367179009470579, 0.9384412358329453, 0.9384412358329453, 0.9366713243285204, 0.9366713243285204, 0.9384101847539202, 0.9331780779382084, 0.9349169383636081, 0.9314081664337834, 0.9437509703462196, 0.9314547430523211, 0.9402111473373699, 0.9384257102934328, 0.9384412358329453, 0.9331780779382083, 0.9331625523986957, 0.9367179009470579, 0.9524918490917559, 0.9419500077627697]}, {\"categories\": [\"0\", \"1\", \"2\", \"3\", \"4\", \"5\", \"6\", \"7\", \"8\", \"9\", \"10\", \"11\", \"12\", \"13\", \"14\", \"15\", \"16\", \"17\", \"18\", \"19\", \"20\", \"21\", \"22\", \"23\", \"24\", \"25\", \"26\", \"27\", \"28\", \"29\", \"30\", \"31\", \"32\", \"33\", \"34\", \"35\", \"36\", \"37\", \"38\", \"39\", \"40\", \"41\", \"42\", \"43\", \"44\", \"45\", \"46\", \"47\", \"48\", \"49\", \"50\", \"51\", \"52\", \"53\", \"54\", \"55\", \"56\", \"57\", \"58\", \"59\", \"60\"], \"mode\": \"lines\", \"name\": \"accuracy_max\", \"stepped\": true, \"type\": \"scatter\", \"data\": [0.947228691197019, 0.947228691197019, 0.947228691197019, 0.947228691197019, 0.947228691197019, 0.947228691197019, 0.947228691197019, 0.947228691197019, 0.947228691197019, 0.947228691197019, 0.947228691197019, 0.947228691197019, 0.947228691197019, 0.947228691197019, 0.947228691197019, 0.947228691197019, 0.947228691197019, 0.947228691197019, 0.947228691197019, 0.947228691197019, 0.947228691197019, 0.947228691197019, 0.947228691197019, 0.947228691197019, 0.947228691197019, 0.947228691197019, 0.947228691197019, 0.947228691197019, 0.947228691197019, 0.947228691197019, 0.947228691197019, 0.947228691197019, 0.947228691197019, 0.947228691197019, 0.947228691197019, 0.947228691197019, 0.947228691197019, 0.947228691197019, 0.947228691197019, 0.947228691197019, 0.947228691197019, 0.947228691197019, 0.947228691197019, 0.947228691197019, 0.947228691197019, 0.947228691197019, 0.947228691197019, 0.947228691197019, 0.947228691197019, 0.947228691197019, 0.947228691197019, 0.947228691197019, 0.947228691197019, 0.947228691197019, 0.947228691197019, 0.947228691197019, 0.947228691197019, 0.947228691197019, 0.947228691197019, 0.9524918490917559, 0.9524918490917559]}], \"recall_score_weighted\": [{\"categories\": [\"0\", \"1\", \"2\", \"3\", \"4\", \"5\", \"6\", \"7\", \"8\", \"9\", \"10\", \"11\", \"12\", \"13\", \"14\", \"15\", \"16\", \"17\", \"18\", \"19\", \"20\", \"21\", \"22\", \"23\", \"24\", \"25\", \"26\", \"27\", \"28\", \"29\", \"30\", \"31\", \"32\", \"33\", \"34\", \"35\", \"36\", \"37\", \"38\", \"39\", \"40\", \"41\", \"42\", \"43\", \"44\", \"45\", \"46\", \"47\", \"48\", \"49\", \"50\", \"51\", \"52\", \"53\", \"54\", \"55\", \"56\", \"57\", \"58\", \"59\", \"60\"], \"mode\": \"markers\", \"name\": \"recall_score_weighted\", \"stepped\": false, \"type\": \"scatter\", \"data\": [0.947228691197019, 0.9437043937276821, 0.9261605340785591, 0.9244216736531594, 0.9243906225741345, 0.9402266728768824, 0.9401956217978575, 0.9313771153547586, 0.936686849868033, 0.9208818506443098, 0.9314236919732961, 0.9173886042539978, 0.9349169383636081, 0.9279149200434714, 0.9191585157584227, 0.9314236919732961, 0.9366713243285204, 0.9208818506443098, 0.9384257102934328, 0.9173730787144854, 0.9226672876882471, 0.890995187082751, 0.9402111473373699, 0.9331625523986959, 0.9419500077627697, 0.8997671169073126, 0.9349169383636081, 0.9366713243285204, 0.9419500077627697, 0.9314236919732961, 0.936655798789008, 0.9437043937276821, 0.9384257102934326, 0.9349169383636081, 0.9261760596180716, 0.6273560006210216, 0.9367179009470579, 0.9367179009470579, 0.936686849868033, 0.9331780779382083, 0.936686849868033, 0.9401645707188324, 0.9367179009470579, 0.9384412358329453, 0.9384412358329453, 0.9366713243285204, 0.9366713243285204, 0.9384101847539202, 0.9331780779382084, 0.9349169383636081, 0.9314081664337834, 0.9437509703462196, 0.9314547430523211, 0.9402111473373699, 0.9384257102934328, 0.9384412358329453, 0.9331780779382083, 0.9331625523986957, 0.9367179009470579, 0.9524918490917559, 0.9419500077627697]}, {\"categories\": [\"0\", \"1\", \"2\", \"3\", \"4\", \"5\", \"6\", \"7\", \"8\", \"9\", \"10\", \"11\", \"12\", \"13\", \"14\", \"15\", \"16\", \"17\", \"18\", \"19\", \"20\", \"21\", \"22\", \"23\", \"24\", \"25\", \"26\", \"27\", \"28\", \"29\", \"30\", \"31\", \"32\", \"33\", \"34\", \"35\", \"36\", \"37\", \"38\", \"39\", \"40\", \"41\", \"42\", \"43\", \"44\", \"45\", \"46\", \"47\", \"48\", \"49\", \"50\", \"51\", \"52\", \"53\", \"54\", \"55\", \"56\", \"57\", \"58\", \"59\", \"60\"], \"mode\": \"lines\", \"name\": \"recall_score_weighted_max\", \"stepped\": true, \"type\": \"scatter\", \"data\": [0.947228691197019, 0.947228691197019, 0.947228691197019, 0.947228691197019, 0.947228691197019, 0.947228691197019, 0.947228691197019, 0.947228691197019, 0.947228691197019, 0.947228691197019, 0.947228691197019, 0.947228691197019, 0.947228691197019, 0.947228691197019, 0.947228691197019, 0.947228691197019, 0.947228691197019, 0.947228691197019, 0.947228691197019, 0.947228691197019, 0.947228691197019, 0.947228691197019, 0.947228691197019, 0.947228691197019, 0.947228691197019, 0.947228691197019, 0.947228691197019, 0.947228691197019, 0.947228691197019, 0.947228691197019, 0.947228691197019, 0.947228691197019, 0.947228691197019, 0.947228691197019, 0.947228691197019, 0.947228691197019, 0.947228691197019, 0.947228691197019, 0.947228691197019, 0.947228691197019, 0.947228691197019, 0.947228691197019, 0.947228691197019, 0.947228691197019, 0.947228691197019, 0.947228691197019, 0.947228691197019, 0.947228691197019, 0.947228691197019, 0.947228691197019, 0.947228691197019, 0.947228691197019, 0.947228691197019, 0.947228691197019, 0.947228691197019, 0.947228691197019, 0.947228691197019, 0.947228691197019, 0.947228691197019, 0.9524918490917559, 0.9524918490917559]}], \"average_precision_score_micro\": [{\"categories\": [\"0\", \"1\", \"2\", \"3\", \"4\", \"5\", \"6\", \"7\", \"8\", \"9\", \"10\", \"11\", \"12\", \"13\", \"14\", \"15\", \"16\", \"17\", \"18\", \"19\", \"20\", \"21\", \"22\", \"23\", \"24\", \"25\", \"26\", \"27\", \"28\", \"29\", \"30\", \"31\", \"32\", \"33\", \"34\", \"35\", \"36\", \"37\", \"38\", \"39\", \"40\", \"41\", \"42\", \"43\", \"44\", \"45\", \"46\", \"47\", \"48\", \"49\", \"50\", \"51\", \"52\", \"53\", \"54\", \"55\", \"56\", \"57\", \"58\", \"59\", \"60\"], \"mode\": \"markers\", \"name\": \"average_precision_score_micro\", \"stepped\": false, \"type\": \"scatter\", \"data\": [0.9890383410185679, 0.9885636389105649, 0.9779690695069043, 0.9781684903215522, 0.9843262027851452, 0.9834542533113085, 0.9862937976619073, 0.9817637113357452, 0.9796346326423262, 0.977977235379943, 0.983998374263247, 0.9797666854096144, 0.986801340590382, 0.9747823495608742, 0.980292010792937, 0.9879361774772193, 0.9876349045223696, 0.9807601544121786, 0.9814614343786658, 0.9801766162400554, 0.9800493249899486, 0.9529525505945294, 0.9861806802241391, 0.984346383110501, 0.9859352908975648, 0.9619481686259949, 0.9862107171960914, 0.9845761679433028, 0.9839879790114987, 0.982157609681078, 0.9878427722558293, 0.98643806385046, 0.9877951574875528, 0.9862978254816637, 0.9844621282500148, 0.8628420643082576, 0.9858045204361481, 0.9855364214834783, 0.9850864061286544, 0.9838008958992897, 0.9867386884385038, 0.983376316871642, 0.9858049596088705, 0.9868531154627149, 0.9843895224431229, 0.987339886083943, 0.98565220695876, 0.9857792676925424, 0.9765638544405897, 0.986953102972658, 0.9845050675036061, 0.9861713296179817, 0.9848347161924156, 0.9858963381405076, 0.9867519299128784, 0.9841919875136902, 0.9847883882977191, 0.9846667348255871, 0.985565131454627, 0.9902910309152073, 0.984699749121736]}, {\"categories\": [\"0\", \"1\", \"2\", \"3\", \"4\", \"5\", \"6\", \"7\", \"8\", \"9\", \"10\", \"11\", \"12\", \"13\", \"14\", \"15\", \"16\", \"17\", \"18\", \"19\", \"20\", \"21\", \"22\", \"23\", \"24\", \"25\", \"26\", \"27\", \"28\", \"29\", \"30\", \"31\", \"32\", \"33\", \"34\", \"35\", \"36\", \"37\", \"38\", \"39\", \"40\", \"41\", \"42\", \"43\", \"44\", \"45\", \"46\", \"47\", \"48\", \"49\", \"50\", \"51\", \"52\", \"53\", \"54\", \"55\", \"56\", \"57\", \"58\", \"59\", \"60\"], \"mode\": \"lines\", \"name\": \"average_precision_score_micro_max\", \"stepped\": true, \"type\": \"scatter\", \"data\": [0.9890383410185679, 0.9890383410185679, 0.9890383410185679, 0.9890383410185679, 0.9890383410185679, 0.9890383410185679, 0.9890383410185679, 0.9890383410185679, 0.9890383410185679, 0.9890383410185679, 0.9890383410185679, 0.9890383410185679, 0.9890383410185679, 0.9890383410185679, 0.9890383410185679, 0.9890383410185679, 0.9890383410185679, 0.9890383410185679, 0.9890383410185679, 0.9890383410185679, 0.9890383410185679, 0.9890383410185679, 0.9890383410185679, 0.9890383410185679, 0.9890383410185679, 0.9890383410185679, 0.9890383410185679, 0.9890383410185679, 0.9890383410185679, 0.9890383410185679, 0.9890383410185679, 0.9890383410185679, 0.9890383410185679, 0.9890383410185679, 0.9890383410185679, 0.9890383410185679, 0.9890383410185679, 0.9890383410185679, 0.9890383410185679, 0.9890383410185679, 0.9890383410185679, 0.9890383410185679, 0.9890383410185679, 0.9890383410185679, 0.9890383410185679, 0.9890383410185679, 0.9890383410185679, 0.9890383410185679, 0.9890383410185679, 0.9890383410185679, 0.9890383410185679, 0.9890383410185679, 0.9890383410185679, 0.9890383410185679, 0.9890383410185679, 0.9890383410185679, 0.9890383410185679, 0.9890383410185679, 0.9890383410185679, 0.9902910309152073, 0.9902910309152073]}], \"average_precision_score_macro\": [{\"categories\": [\"0\", \"1\", \"2\", \"3\", \"4\", \"5\", \"6\", \"7\", \"8\", \"9\", \"10\", \"11\", \"12\", \"13\", \"14\", \"15\", \"16\", \"17\", \"18\", \"19\", \"20\", \"21\", \"22\", \"23\", \"24\", \"25\", \"26\", \"27\", \"28\", \"29\", \"30\", \"31\", \"32\", \"33\", \"34\", \"35\", \"36\", \"37\", \"38\", \"39\", \"40\", \"41\", \"42\", \"43\", \"44\", \"45\", \"46\", \"47\", \"48\", \"49\", \"50\", \"51\", \"52\", \"53\", \"54\", \"55\", \"56\", \"57\", \"58\", \"59\", \"60\"], \"mode\": \"markers\", \"name\": \"average_precision_score_macro\", \"stepped\": false, \"type\": \"scatter\", \"data\": [0.9878618411403408, 0.9877528148983308, 0.9756576614410649, 0.975833819898145, 0.982826036547855, 0.9798355835868188, 0.986013608202375, 0.9796967405446306, 0.9780261895299489, 0.9770510788097688, 0.9834273718767257, 0.9778668860413827, 0.9857231027039062, 0.9684658962632786, 0.9784745025363814, 0.9861138889426011, 0.9870402919225926, 0.9788068839957, 0.9812087961377195, 0.9793390375682159, 0.9787494360886461, 0.94950944364666, 0.9846976985664074, 0.9829669748208218, 0.9851831065201353, 0.9717694122709739, 0.9841851634066805, 0.9835732090475808, 0.983938446674349, 0.9812590952980222, 0.9863114556743297, 0.9854793326242014, 0.9866206143312404, 0.9847763595886085, 0.9827025702999526, 0.9573342356908066, 0.9845321856360268, 0.9845188369652224, 0.9834673310643293, 0.9831222848053697, 0.9854257605404593, 0.9826731749576709, 0.9845966569214806, 0.985783359768962, 0.9836450691540588, 0.9854806651668426, 0.9844201432513635, 0.9845026497053724, 0.9759273028663346, 0.9852870360950658, 0.983299447939465, 0.9846653395042899, 0.9847392242720707, 0.9845181123260334, 0.9849761495132544, 0.9825394216974, 0.98280588674696, 0.9836067288819871, 0.9845188369652224, 0.9896657208398594, 0.9892283442962893]}, {\"categories\": [\"0\", \"1\", \"2\", \"3\", \"4\", \"5\", \"6\", \"7\", \"8\", \"9\", \"10\", \"11\", \"12\", \"13\", \"14\", \"15\", \"16\", \"17\", \"18\", \"19\", \"20\", \"21\", \"22\", \"23\", \"24\", \"25\", \"26\", \"27\", \"28\", \"29\", \"30\", \"31\", \"32\", \"33\", \"34\", \"35\", \"36\", \"37\", \"38\", \"39\", \"40\", \"41\", \"42\", \"43\", \"44\", \"45\", \"46\", \"47\", \"48\", \"49\", \"50\", \"51\", \"52\", \"53\", \"54\", \"55\", \"56\", \"57\", \"58\", \"59\", \"60\"], \"mode\": \"lines\", \"name\": \"average_precision_score_macro_max\", \"stepped\": true, \"type\": \"scatter\", \"data\": [0.9878618411403408, 0.9878618411403408, 0.9878618411403408, 0.9878618411403408, 0.9878618411403408, 0.9878618411403408, 0.9878618411403408, 0.9878618411403408, 0.9878618411403408, 0.9878618411403408, 0.9878618411403408, 0.9878618411403408, 0.9878618411403408, 0.9878618411403408, 0.9878618411403408, 0.9878618411403408, 0.9878618411403408, 0.9878618411403408, 0.9878618411403408, 0.9878618411403408, 0.9878618411403408, 0.9878618411403408, 0.9878618411403408, 0.9878618411403408, 0.9878618411403408, 0.9878618411403408, 0.9878618411403408, 0.9878618411403408, 0.9878618411403408, 0.9878618411403408, 0.9878618411403408, 0.9878618411403408, 0.9878618411403408, 0.9878618411403408, 0.9878618411403408, 0.9878618411403408, 0.9878618411403408, 0.9878618411403408, 0.9878618411403408, 0.9878618411403408, 0.9878618411403408, 0.9878618411403408, 0.9878618411403408, 0.9878618411403408, 0.9878618411403408, 0.9878618411403408, 0.9878618411403408, 0.9878618411403408, 0.9878618411403408, 0.9878618411403408, 0.9878618411403408, 0.9878618411403408, 0.9878618411403408, 0.9878618411403408, 0.9878618411403408, 0.9878618411403408, 0.9878618411403408, 0.9878618411403408, 0.9878618411403408, 0.9896657208398594, 0.9896657208398594]}], \"AUC_weighted\": [{\"categories\": [\"0\", \"1\", \"2\", \"3\", \"4\", \"5\", \"6\", \"7\", \"8\", \"9\", \"10\", \"11\", \"12\", \"13\", \"14\", \"15\", \"16\", \"17\", \"18\", \"19\", \"20\", \"21\", \"22\", \"23\", \"24\", \"25\", \"26\", \"27\", \"28\", \"29\", \"30\", \"31\", \"32\", \"33\", \"34\", \"35\", \"36\", \"37\", \"38\", \"39\", \"40\", \"41\", \"42\", \"43\", \"44\", \"45\", \"46\", \"47\", \"48\", \"49\", \"50\", \"51\", \"52\", \"53\", \"54\", \"55\", \"56\", \"57\", \"58\", \"59\", \"60\"], \"mode\": \"markers\", \"name\": \"AUC_weighted\", \"stepped\": false, \"type\": \"scatter\", \"data\": [0.9882890962634558, 0.9878949691302588, 0.977046985849136, 0.976776677619001, 0.9838416938475951, 0.979333070070029, 0.9865173412305023, 0.9804375174030625, 0.9793396465259538, 0.9778292514242741, 0.983773018820108, 0.9783023398188199, 0.986496272946988, 0.9702535441932918, 0.9788314368142407, 0.9864293582553121, 0.9869813975928944, 0.9795476767498815, 0.982076975371444, 0.9799027497740713, 0.9793091072249626, 0.9521130021308085, 0.9852014500715407, 0.9835608427968501, 0.9855514049866061, 0.9750465734462527, 0.9848076139557123, 0.9839615453541247, 0.9841599711059337, 0.9817608579924867, 0.9866557514131777, 0.9858295744165023, 0.9868615796905577, 0.984929183697244, 0.9833954405776988, 0.965471079655482, 0.984983051993464, 0.9849317017852283, 0.9842101806249781, 0.9835804398113867, 0.9858527345426289, 0.98287867107439, 0.9850498745794981, 0.9865532726252318, 0.9839649987853555, 0.9858171195220266, 0.984929864864106, 0.9849675265469701, 0.9772522789026127, 0.9857291957832649, 0.9833650483653333, 0.9851452862368335, 0.9850674969510923, 0.9850479024447327, 0.9852850064239249, 0.9826950172822737, 0.9833511296024712, 0.9839910685452802, 0.9849317017852283, 0.989755942946644, 0.9893311895102073]}, {\"categories\": [\"0\", \"1\", \"2\", \"3\", \"4\", \"5\", \"6\", \"7\", \"8\", \"9\", \"10\", \"11\", \"12\", \"13\", \"14\", \"15\", \"16\", \"17\", \"18\", \"19\", \"20\", \"21\", \"22\", \"23\", \"24\", \"25\", \"26\", \"27\", \"28\", \"29\", \"30\", \"31\", \"32\", \"33\", \"34\", \"35\", \"36\", \"37\", \"38\", \"39\", \"40\", \"41\", \"42\", \"43\", \"44\", \"45\", \"46\", \"47\", \"48\", \"49\", \"50\", \"51\", \"52\", \"53\", \"54\", \"55\", \"56\", \"57\", \"58\", \"59\", \"60\"], \"mode\": \"lines\", \"name\": \"AUC_weighted_max\", \"stepped\": true, \"type\": \"scatter\", \"data\": [0.9882890962634558, 0.9882890962634558, 0.9882890962634558, 0.9882890962634558, 0.9882890962634558, 0.9882890962634558, 0.9882890962634558, 0.9882890962634558, 0.9882890962634558, 0.9882890962634558, 0.9882890962634558, 0.9882890962634558, 0.9882890962634558, 0.9882890962634558, 0.9882890962634558, 0.9882890962634558, 0.9882890962634558, 0.9882890962634558, 0.9882890962634558, 0.9882890962634558, 0.9882890962634558, 0.9882890962634558, 0.9882890962634558, 0.9882890962634558, 0.9882890962634558, 0.9882890962634558, 0.9882890962634558, 0.9882890962634558, 0.9882890962634558, 0.9882890962634558, 0.9882890962634558, 0.9882890962634558, 0.9882890962634558, 0.9882890962634558, 0.9882890962634558, 0.9882890962634558, 0.9882890962634558, 0.9882890962634558, 0.9882890962634558, 0.9882890962634558, 0.9882890962634558, 0.9882890962634558, 0.9882890962634558, 0.9882890962634558, 0.9882890962634558, 0.9882890962634558, 0.9882890962634558, 0.9882890962634558, 0.9882890962634558, 0.9882890962634558, 0.9882890962634558, 0.9882890962634558, 0.9882890962634558, 0.9882890962634558, 0.9882890962634558, 0.9882890962634558, 0.9882890962634558, 0.9882890962634558, 0.9882890962634558, 0.989755942946644, 0.989755942946644]}], \"precision_score_weighted\": [{\"categories\": [\"0\", \"1\", \"2\", \"3\", \"4\", \"5\", \"6\", \"7\", \"8\", \"9\", \"10\", \"11\", \"12\", \"13\", \"14\", \"15\", \"16\", \"17\", \"18\", \"19\", \"20\", \"21\", \"22\", \"23\", \"24\", \"25\", \"26\", \"27\", \"28\", \"29\", \"30\", \"31\", \"32\", \"33\", \"34\", \"35\", \"36\", \"37\", \"38\", \"39\", \"40\", \"41\", \"42\", \"43\", \"44\", \"45\", \"46\", \"47\", \"48\", \"49\", \"50\", \"51\", \"52\", \"53\", \"54\", \"55\", \"56\", \"57\", \"58\", \"59\", \"60\"], \"mode\": \"markers\", \"name\": \"precision_score_weighted\", \"stepped\": false, \"type\": \"scatter\", \"data\": [0.9471855038419299, 0.94409011550692, 0.9268301531319508, 0.9246182126396751, 0.9256244369388398, 0.9403937786777693, 0.9404285952909548, 0.931775543236121, 0.937052827874626, 0.921617598467782, 0.9316397877939835, 0.9177045718043821, 0.9354930601449325, 0.9284357194956232, 0.9194924770148989, 0.9313770910170842, 0.9368572474781025, 0.921293431220828, 0.9384800106006324, 0.9185213955706759, 0.9241392485330719, 0.8951317299577719, 0.9410312169025306, 0.9334886691049613, 0.9421120150667581, 0.9079649121382134, 0.9349579651533159, 0.9376046327686909, 0.9424190407024527, 0.9318276122282125, 0.9367079108355798, 0.944077056929571, 0.9384203820253438, 0.9351054510494838, 0.9268684535529884, 0.3943182961215727, 0.9377905714662675, 0.9377905714662675, 0.936763955614475, 0.9340331584808981, 0.9366341235655851, 0.9403256467981077, 0.9377905714662675, 0.9392875478488609, 0.9386820877664152, 0.9366507405303018, 0.9373354635774331, 0.9385430433177172, 0.9335792052258178, 0.9347688585583921, 0.9315881916855011, 0.9454901324006151, 0.9335503354037111, 0.9410019061409545, 0.9384931730607387, 0.9385764551046055, 0.9337633482676988, 0.9334321461536217, 0.9377905714662675, 0.9526456393574672, 0.9428809426779013]}, {\"categories\": [\"0\", \"1\", \"2\", \"3\", \"4\", \"5\", \"6\", \"7\", \"8\", \"9\", \"10\", \"11\", \"12\", \"13\", \"14\", \"15\", \"16\", \"17\", \"18\", \"19\", \"20\", \"21\", \"22\", \"23\", \"24\", \"25\", \"26\", \"27\", \"28\", \"29\", \"30\", \"31\", \"32\", \"33\", \"34\", \"35\", \"36\", \"37\", \"38\", \"39\", \"40\", \"41\", \"42\", \"43\", \"44\", \"45\", \"46\", \"47\", \"48\", \"49\", \"50\", \"51\", \"52\", \"53\", \"54\", \"55\", \"56\", \"57\", \"58\", \"59\", \"60\"], \"mode\": \"lines\", \"name\": \"precision_score_weighted_max\", \"stepped\": true, \"type\": \"scatter\", \"data\": [0.9471855038419299, 0.9471855038419299, 0.9471855038419299, 0.9471855038419299, 0.9471855038419299, 0.9471855038419299, 0.9471855038419299, 0.9471855038419299, 0.9471855038419299, 0.9471855038419299, 0.9471855038419299, 0.9471855038419299, 0.9471855038419299, 0.9471855038419299, 0.9471855038419299, 0.9471855038419299, 0.9471855038419299, 0.9471855038419299, 0.9471855038419299, 0.9471855038419299, 0.9471855038419299, 0.9471855038419299, 0.9471855038419299, 0.9471855038419299, 0.9471855038419299, 0.9471855038419299, 0.9471855038419299, 0.9471855038419299, 0.9471855038419299, 0.9471855038419299, 0.9471855038419299, 0.9471855038419299, 0.9471855038419299, 0.9471855038419299, 0.9471855038419299, 0.9471855038419299, 0.9471855038419299, 0.9471855038419299, 0.9471855038419299, 0.9471855038419299, 0.9471855038419299, 0.9471855038419299, 0.9471855038419299, 0.9471855038419299, 0.9471855038419299, 0.9471855038419299, 0.9471855038419299, 0.9471855038419299, 0.9471855038419299, 0.9471855038419299, 0.9471855038419299, 0.9471855038419299, 0.9471855038419299, 0.9471855038419299, 0.9471855038419299, 0.9471855038419299, 0.9471855038419299, 0.9471855038419299, 0.9471855038419299, 0.9526456393574672, 0.9526456393574672]}], \"precision_score_micro\": [{\"categories\": [\"0\", \"1\", \"2\", \"3\", \"4\", \"5\", \"6\", \"7\", \"8\", \"9\", \"10\", \"11\", \"12\", \"13\", \"14\", \"15\", \"16\", \"17\", \"18\", \"19\", \"20\", \"21\", \"22\", \"23\", \"24\", \"25\", \"26\", \"27\", \"28\", \"29\", \"30\", \"31\", \"32\", \"33\", \"34\", \"35\", \"36\", \"37\", \"38\", \"39\", \"40\", \"41\", \"42\", \"43\", \"44\", \"45\", \"46\", \"47\", \"48\", \"49\", \"50\", \"51\", \"52\", \"53\", \"54\", \"55\", \"56\", \"57\", \"58\", \"59\", \"60\"], \"mode\": \"markers\", \"name\": \"precision_score_micro\", \"stepped\": false, \"type\": \"scatter\", \"data\": [0.947228691197019, 0.9437043937276821, 0.9261605340785591, 0.9244216736531594, 0.9243906225741345, 0.9402266728768824, 0.9401956217978575, 0.9313771153547586, 0.936686849868033, 0.9208818506443098, 0.9314236919732961, 0.9173886042539978, 0.9349169383636081, 0.9279149200434714, 0.9191585157584227, 0.9314236919732961, 0.9366713243285204, 0.9208818506443098, 0.9384257102934328, 0.9173730787144854, 0.9226672876882471, 0.890995187082751, 0.9402111473373699, 0.9331625523986959, 0.9419500077627697, 0.8997671169073126, 0.9349169383636081, 0.9366713243285204, 0.9419500077627697, 0.9314236919732961, 0.936655798789008, 0.9437043937276821, 0.9384257102934326, 0.9349169383636081, 0.9261760596180716, 0.6273560006210216, 0.9367179009470579, 0.9367179009470579, 0.936686849868033, 0.9331780779382083, 0.936686849868033, 0.9401645707188324, 0.9367179009470579, 0.9384412358329453, 0.9384412358329453, 0.9366713243285204, 0.9366713243285204, 0.9384101847539202, 0.9331780779382084, 0.9349169383636081, 0.9314081664337834, 0.9437509703462196, 0.9314547430523211, 0.9402111473373699, 0.9384257102934328, 0.9384412358329453, 0.9331780779382083, 0.9331625523986957, 0.9367179009470579, 0.9524918490917559, 0.9419500077627697]}, {\"categories\": [\"0\", \"1\", \"2\", \"3\", \"4\", \"5\", \"6\", \"7\", \"8\", \"9\", \"10\", \"11\", \"12\", \"13\", \"14\", \"15\", \"16\", \"17\", \"18\", \"19\", \"20\", \"21\", \"22\", \"23\", \"24\", \"25\", \"26\", \"27\", \"28\", \"29\", \"30\", \"31\", \"32\", \"33\", \"34\", \"35\", \"36\", \"37\", \"38\", \"39\", \"40\", \"41\", \"42\", \"43\", \"44\", \"45\", \"46\", \"47\", \"48\", \"49\", \"50\", \"51\", \"52\", \"53\", \"54\", \"55\", \"56\", \"57\", \"58\", \"59\", \"60\"], \"mode\": \"lines\", \"name\": \"precision_score_micro_max\", \"stepped\": true, \"type\": \"scatter\", \"data\": [0.947228691197019, 0.947228691197019, 0.947228691197019, 0.947228691197019, 0.947228691197019, 0.947228691197019, 0.947228691197019, 0.947228691197019, 0.947228691197019, 0.947228691197019, 0.947228691197019, 0.947228691197019, 0.947228691197019, 0.947228691197019, 0.947228691197019, 0.947228691197019, 0.947228691197019, 0.947228691197019, 0.947228691197019, 0.947228691197019, 0.947228691197019, 0.947228691197019, 0.947228691197019, 0.947228691197019, 0.947228691197019, 0.947228691197019, 0.947228691197019, 0.947228691197019, 0.947228691197019, 0.947228691197019, 0.947228691197019, 0.947228691197019, 0.947228691197019, 0.947228691197019, 0.947228691197019, 0.947228691197019, 0.947228691197019, 0.947228691197019, 0.947228691197019, 0.947228691197019, 0.947228691197019, 0.947228691197019, 0.947228691197019, 0.947228691197019, 0.947228691197019, 0.947228691197019, 0.947228691197019, 0.947228691197019, 0.947228691197019, 0.947228691197019, 0.947228691197019, 0.947228691197019, 0.947228691197019, 0.947228691197019, 0.947228691197019, 0.947228691197019, 0.947228691197019, 0.947228691197019, 0.947228691197019, 0.9524918490917559, 0.9524918490917559]}], \"AUC_micro\": [{\"categories\": [\"0\", \"1\", \"2\", \"3\", \"4\", \"5\", \"6\", \"7\", \"8\", \"9\", \"10\", \"11\", \"12\", \"13\", \"14\", \"15\", \"16\", \"17\", \"18\", \"19\", \"20\", \"21\", \"22\", \"23\", \"24\", \"25\", \"26\", \"27\", \"28\", \"29\", \"30\", \"31\", \"32\", \"33\", \"34\", \"35\", \"36\", \"37\", \"38\", \"39\", \"40\", \"41\", \"42\", \"43\", \"44\", \"45\", \"46\", \"47\", \"48\", \"49\", \"50\", \"51\", \"52\", \"53\", \"54\", \"55\", \"56\", \"57\", \"58\", \"59\", \"60\"], \"mode\": \"markers\", \"name\": \"AUC_micro\", \"stepped\": false, \"type\": \"scatter\", \"data\": [0.9886020327923208, 0.9882533445051654, 0.9788626950548058, 0.9778635502972642, 0.9848250759084628, 0.9830562587364303, 0.9859844752800315, 0.9812884328511737, 0.9814176008324254, 0.9773882593223562, 0.9842848758370227, 0.9790412797364038, 0.9862651088676332, 0.9754455071761811, 0.9797093142221438, 0.9876593835471368, 0.9875522739564243, 0.9800022590491588, 0.9824554582009497, 0.9795043281689763, 0.9791492787734877, 0.9551307448804829, 0.9855647903711091, 0.9838781867278644, 0.9857658100719606, 0.9629610510951748, 0.9858786649077322, 0.9842969821904152, 0.9846668737702771, 0.9820103987609844, 0.9873700639974743, 0.986147808005215, 0.9875061059047164, 0.9860161434275423, 0.9839622466412612, 0.8442725752034741, 0.9851660351717948, 0.9848868381967609, 0.9848069507269127, 0.9835492651208474, 0.9864813118278217, 0.9834349736725079, 0.985166035171795, 0.9862983498166547, 0.9847765143059494, 0.9869383414322368, 0.9853780668936466, 0.9854002958216677, 0.9777160865969808, 0.9866616067050854, 0.9844195498287742, 0.9855636960387167, 0.984136043016037, 0.9852591920245055, 0.9864860314375663, 0.984118602394838, 0.9842098441658621, 0.9843953371219893, 0.9849176168978999, 0.9900002750293524, 0.9846892400924533]}, {\"categories\": [\"0\", \"1\", \"2\", \"3\", \"4\", \"5\", \"6\", \"7\", \"8\", \"9\", \"10\", \"11\", \"12\", \"13\", \"14\", \"15\", \"16\", \"17\", \"18\", \"19\", \"20\", \"21\", \"22\", \"23\", \"24\", \"25\", \"26\", \"27\", \"28\", \"29\", \"30\", \"31\", \"32\", \"33\", \"34\", \"35\", \"36\", \"37\", \"38\", \"39\", \"40\", \"41\", \"42\", \"43\", \"44\", \"45\", \"46\", \"47\", \"48\", \"49\", \"50\", \"51\", \"52\", \"53\", \"54\", \"55\", \"56\", \"57\", \"58\", \"59\", \"60\"], \"mode\": \"lines\", \"name\": \"AUC_micro_max\", \"stepped\": true, \"type\": \"scatter\", \"data\": [0.9886020327923208, 0.9886020327923208, 0.9886020327923208, 0.9886020327923208, 0.9886020327923208, 0.9886020327923208, 0.9886020327923208, 0.9886020327923208, 0.9886020327923208, 0.9886020327923208, 0.9886020327923208, 0.9886020327923208, 0.9886020327923208, 0.9886020327923208, 0.9886020327923208, 0.9886020327923208, 0.9886020327923208, 0.9886020327923208, 0.9886020327923208, 0.9886020327923208, 0.9886020327923208, 0.9886020327923208, 0.9886020327923208, 0.9886020327923208, 0.9886020327923208, 0.9886020327923208, 0.9886020327923208, 0.9886020327923208, 0.9886020327923208, 0.9886020327923208, 0.9886020327923208, 0.9886020327923208, 0.9886020327923208, 0.9886020327923208, 0.9886020327923208, 0.9886020327923208, 0.9886020327923208, 0.9886020327923208, 0.9886020327923208, 0.9886020327923208, 0.9886020327923208, 0.9886020327923208, 0.9886020327923208, 0.9886020327923208, 0.9886020327923208, 0.9886020327923208, 0.9886020327923208, 0.9886020327923208, 0.9886020327923208, 0.9886020327923208, 0.9886020327923208, 0.9886020327923208, 0.9886020327923208, 0.9886020327923208, 0.9886020327923208, 0.9886020327923208, 0.9886020327923208, 0.9886020327923208, 0.9886020327923208, 0.9900002750293524, 0.9900002750293524]}], \"log_loss\": [{\"categories\": [\"0\", \"1\", \"2\", \"3\", \"4\", \"5\", \"6\", \"7\", \"8\", \"9\", \"10\", \"11\", \"12\", \"13\", \"14\", \"15\", \"16\", \"17\", \"18\", \"19\", \"20\", \"21\", \"22\", \"23\", \"24\", \"25\", \"26\", \"27\", \"28\", \"29\", \"30\", \"31\", \"32\", \"33\", \"34\", \"35\", \"36\", \"37\", \"38\", \"39\", \"40\", \"41\", \"42\", \"43\", \"44\", \"45\", \"46\", \"47\", \"48\", \"49\", \"50\", \"51\", \"52\", \"53\", \"54\", \"55\", \"56\", \"57\", \"58\", \"59\", \"60\"], \"mode\": \"markers\", \"name\": \"log_loss\", \"stepped\": false, \"type\": \"scatter\", \"data\": [0.17697879692813806, 0.13932204662050746, 0.24205852185070292, 0.195503849478605, 0.21240759691753236, 0.16866122682775345, 0.1574176943863524, 0.18660331687428725, 0.18989241634906687, 0.19808583514141537, 0.18811330881025307, 0.21446180594036973, 0.15478121763590938, 0.31425696680129567, 0.21030010479597858, 0.14122391338477008, 0.14164698864846798, 0.20951173558033584, 0.1989520927780668, 0.237885238746341, 0.2449379462052308, 0.47946883974845644, 0.15571623714445404, 0.16095036980403907, 0.1541764663391228, 0.4221553735061181, 0.15161028014833358, 0.16048402821257696, 0.15040039130217644, 0.17072468936848192, 0.14465730328824278, 0.15368098801799124, 0.14141271142710812, 0.15256384716524635, 0.1661436409942961, 0.6598815883147756, 0.15599101405496824, 0.15844937515622984, 0.157199591028389, 0.1657768367291997, 0.14912974992585828, 0.16217843042529836, 0.15605234181997224, 0.15307488832406507, 0.15428925784450145, 0.14782453878159513, 0.1543594444074755, 0.16010706592575646, 0.21652470523960377, 0.14824086469163178, 0.16526801911726172, 0.15461797686886708, 0.16190740882495533, 0.15675241679982724, 0.15019785480109663, 0.16384916690528623, 0.16539318430925795, 0.1574177176298328, 0.15839363932565573, 0.12665444858682665, 0.1934535978411917]}, {\"categories\": [\"0\", \"1\", \"2\", \"3\", \"4\", \"5\", \"6\", \"7\", \"8\", \"9\", \"10\", \"11\", \"12\", \"13\", \"14\", \"15\", \"16\", \"17\", \"18\", \"19\", \"20\", \"21\", \"22\", \"23\", \"24\", \"25\", \"26\", \"27\", \"28\", \"29\", \"30\", \"31\", \"32\", \"33\", \"34\", \"35\", \"36\", \"37\", \"38\", \"39\", \"40\", \"41\", \"42\", \"43\", \"44\", \"45\", \"46\", \"47\", \"48\", \"49\", \"50\", \"51\", \"52\", \"53\", \"54\", \"55\", \"56\", \"57\", \"58\", \"59\", \"60\"], \"mode\": \"lines\", \"name\": \"log_loss_min\", \"stepped\": true, \"type\": \"scatter\", \"data\": [0.17697879692813806, 0.13932204662050746, 0.13932204662050746, 0.13932204662050746, 0.13932204662050746, 0.13932204662050746, 0.13932204662050746, 0.13932204662050746, 0.13932204662050746, 0.13932204662050746, 0.13932204662050746, 0.13932204662050746, 0.13932204662050746, 0.13932204662050746, 0.13932204662050746, 0.13932204662050746, 0.13932204662050746, 0.13932204662050746, 0.13932204662050746, 0.13932204662050746, 0.13932204662050746, 0.13932204662050746, 0.13932204662050746, 0.13932204662050746, 0.13932204662050746, 0.13932204662050746, 0.13932204662050746, 0.13932204662050746, 0.13932204662050746, 0.13932204662050746, 0.13932204662050746, 0.13932204662050746, 0.13932204662050746, 0.13932204662050746, 0.13932204662050746, 0.13932204662050746, 0.13932204662050746, 0.13932204662050746, 0.13932204662050746, 0.13932204662050746, 0.13932204662050746, 0.13932204662050746, 0.13932204662050746, 0.13932204662050746, 0.13932204662050746, 0.13932204662050746, 0.13932204662050746, 0.13932204662050746, 0.13932204662050746, 0.13932204662050746, 0.13932204662050746, 0.13932204662050746, 0.13932204662050746, 0.13932204662050746, 0.13932204662050746, 0.13932204662050746, 0.13932204662050746, 0.13932204662050746, 0.13932204662050746, 0.12665444858682665, 0.12665444858682665]}], \"AUC_macro\": [{\"categories\": [\"0\", \"1\", \"2\", \"3\", \"4\", \"5\", \"6\", \"7\", \"8\", \"9\", \"10\", \"11\", \"12\", \"13\", \"14\", \"15\", \"16\", \"17\", \"18\", \"19\", \"20\", \"21\", \"22\", \"23\", \"24\", \"25\", \"26\", \"27\", \"28\", \"29\", \"30\", \"31\", \"32\", \"33\", \"34\", \"35\", \"36\", \"37\", \"38\", \"39\", \"40\", \"41\", \"42\", \"43\", \"44\", \"45\", \"46\", \"47\", \"48\", \"49\", \"50\", \"51\", \"52\", \"53\", \"54\", \"55\", \"56\", \"57\", \"58\", \"59\", \"60\"], \"mode\": \"markers\", \"name\": \"AUC_macro\", \"stepped\": false, \"type\": \"scatter\", \"data\": [0.9882890962634558, 0.9878949691302588, 0.977046985849136, 0.976776677619001, 0.9838416938475951, 0.979333070070029, 0.9865173412305023, 0.9804406021609932, 0.9793396465259541, 0.9778292514242741, 0.9837730188201081, 0.9783023398188199, 0.986496272946988, 0.970253544193292, 0.9788314368142406, 0.9864293582553121, 0.9869813975928944, 0.9795476767498817, 0.982076975371444, 0.9799027497740713, 0.9793091072249623, 0.9521130021308085, 0.9852014500715407, 0.9835608427968501, 0.9855514049866061, 0.9750465734462525, 0.9848076139557123, 0.9839615453541246, 0.9841599711059337, 0.9817608579924867, 0.986655751413178, 0.9858295744165023, 0.9868615796905577, 0.9849291836972442, 0.9833954405776986, 0.965471079655482, 0.984983051993464, 0.9849317017852283, 0.9842101806249779, 0.9835804398113867, 0.9858527345426291, 0.98287867107439, 0.9850498745794981, 0.9865532726252318, 0.9839649987853554, 0.9858171195220266, 0.984929864864106, 0.9849675265469701, 0.9772522789026127, 0.9857291957832649, 0.9833650483653333, 0.9851452862368337, 0.9850674969510923, 0.9850479024447327, 0.9852850064239249, 0.9826950172822736, 0.9833511296024714, 0.98399106854528, 0.9849317017852283, 0.989755942946644, 0.9893311895102073]}, {\"categories\": [\"0\", \"1\", \"2\", \"3\", \"4\", \"5\", \"6\", \"7\", \"8\", \"9\", \"10\", \"11\", \"12\", \"13\", \"14\", \"15\", \"16\", \"17\", \"18\", \"19\", \"20\", \"21\", \"22\", \"23\", \"24\", \"25\", \"26\", \"27\", \"28\", \"29\", \"30\", \"31\", \"32\", \"33\", \"34\", \"35\", \"36\", \"37\", \"38\", \"39\", \"40\", \"41\", \"42\", \"43\", \"44\", \"45\", \"46\", \"47\", \"48\", \"49\", \"50\", \"51\", \"52\", \"53\", \"54\", \"55\", \"56\", \"57\", \"58\", \"59\", \"60\"], \"mode\": \"lines\", \"name\": \"AUC_macro_max\", \"stepped\": true, \"type\": \"scatter\", \"data\": [0.9882890962634558, 0.9882890962634558, 0.9882890962634558, 0.9882890962634558, 0.9882890962634558, 0.9882890962634558, 0.9882890962634558, 0.9882890962634558, 0.9882890962634558, 0.9882890962634558, 0.9882890962634558, 0.9882890962634558, 0.9882890962634558, 0.9882890962634558, 0.9882890962634558, 0.9882890962634558, 0.9882890962634558, 0.9882890962634558, 0.9882890962634558, 0.9882890962634558, 0.9882890962634558, 0.9882890962634558, 0.9882890962634558, 0.9882890962634558, 0.9882890962634558, 0.9882890962634558, 0.9882890962634558, 0.9882890962634558, 0.9882890962634558, 0.9882890962634558, 0.9882890962634558, 0.9882890962634558, 0.9882890962634558, 0.9882890962634558, 0.9882890962634558, 0.9882890962634558, 0.9882890962634558, 0.9882890962634558, 0.9882890962634558, 0.9882890962634558, 0.9882890962634558, 0.9882890962634558, 0.9882890962634558, 0.9882890962634558, 0.9882890962634558, 0.9882890962634558, 0.9882890962634558, 0.9882890962634558, 0.9882890962634558, 0.9882890962634558, 0.9882890962634558, 0.9882890962634558, 0.9882890962634558, 0.9882890962634558, 0.9882890962634558, 0.9882890962634558, 0.9882890962634558, 0.9882890962634558, 0.9882890962634558, 0.989755942946644, 0.989755942946644]}], \"weighted_accuracy\": [{\"categories\": [\"0\", \"1\", \"2\", \"3\", \"4\", \"5\", \"6\", \"7\", \"8\", \"9\", \"10\", \"11\", \"12\", \"13\", \"14\", \"15\", \"16\", \"17\", \"18\", \"19\", \"20\", \"21\", \"22\", \"23\", \"24\", \"25\", \"26\", \"27\", \"28\", \"29\", \"30\", \"31\", \"32\", \"33\", \"34\", \"35\", \"36\", \"37\", \"38\", \"39\", \"40\", \"41\", \"42\", \"43\", \"44\", \"45\", \"46\", \"47\", \"48\", \"49\", \"50\", \"51\", \"52\", \"53\", \"54\", \"55\", \"56\", \"57\", \"58\", \"59\", \"60\"], \"mode\": \"markers\", \"name\": \"weighted_accuracy\", \"stepped\": false, \"type\": \"scatter\", \"data\": [0.9530714523271362, 0.9516946736754026, 0.9299235079364543, 0.9304509603168316, 0.9257882185870777, 0.9467141018701491, 0.945955156744073, 0.9365561685293444, 0.9427205918253201, 0.9273519459787856, 0.939543524053283, 0.9281141689588484, 0.940354584943152, 0.9310402788791767, 0.9282873317050819, 0.937000391232725, 0.9404397232458596, 0.9308530234669223, 0.943932730475838, 0.9298018018340531, 0.9262304611685103, 0.9090496596458895, 0.9459685989367962, 0.9398901089016061, 0.9476056381601035, 0.9219520383600044, 0.9418972370290735, 0.9417178110588414, 0.9478936032450438, 0.9377060959841964, 0.9429701828633515, 0.9480141145996566, 0.9443928044421369, 0.9399103124142512, 0.9331778140773037, 0.7373853936974661, 0.9424342270471275, 0.9424342270471275, 0.9432976204518686, 0.9395551713675099, 0.943199411116338, 0.9437524038143812, 0.9424342270471275, 0.9441920249204927, 0.9434760460072209, 0.9430278192789322, 0.9420819865821158, 0.9441839878951527, 0.9379658907618236, 0.9408895676331086, 0.9361260441024442, 0.9506789501004909, 0.9322175042620952, 0.9458873266847178, 0.9445305965701207, 0.9424093425151675, 0.9369114958062295, 0.9382843938637071, 0.9424342270471275, 0.9586012187874386, 0.9506348299393841]}, {\"categories\": [\"0\", \"1\", \"2\", \"3\", \"4\", \"5\", \"6\", \"7\", \"8\", \"9\", \"10\", \"11\", \"12\", \"13\", \"14\", \"15\", \"16\", \"17\", \"18\", \"19\", \"20\", \"21\", \"22\", \"23\", \"24\", \"25\", \"26\", \"27\", \"28\", \"29\", \"30\", \"31\", \"32\", \"33\", \"34\", \"35\", \"36\", \"37\", \"38\", \"39\", \"40\", \"41\", \"42\", \"43\", \"44\", \"45\", \"46\", \"47\", \"48\", \"49\", \"50\", \"51\", \"52\", \"53\", \"54\", \"55\", \"56\", \"57\", \"58\", \"59\", \"60\"], \"mode\": \"lines\", \"name\": \"weighted_accuracy_max\", \"stepped\": true, \"type\": \"scatter\", \"data\": [0.9530714523271362, 0.9530714523271362, 0.9530714523271362, 0.9530714523271362, 0.9530714523271362, 0.9530714523271362, 0.9530714523271362, 0.9530714523271362, 0.9530714523271362, 0.9530714523271362, 0.9530714523271362, 0.9530714523271362, 0.9530714523271362, 0.9530714523271362, 0.9530714523271362, 0.9530714523271362, 0.9530714523271362, 0.9530714523271362, 0.9530714523271362, 0.9530714523271362, 0.9530714523271362, 0.9530714523271362, 0.9530714523271362, 0.9530714523271362, 0.9530714523271362, 0.9530714523271362, 0.9530714523271362, 0.9530714523271362, 0.9530714523271362, 0.9530714523271362, 0.9530714523271362, 0.9530714523271362, 0.9530714523271362, 0.9530714523271362, 0.9530714523271362, 0.9530714523271362, 0.9530714523271362, 0.9530714523271362, 0.9530714523271362, 0.9530714523271362, 0.9530714523271362, 0.9530714523271362, 0.9530714523271362, 0.9530714523271362, 0.9530714523271362, 0.9530714523271362, 0.9530714523271362, 0.9530714523271362, 0.9530714523271362, 0.9530714523271362, 0.9530714523271362, 0.9530714523271362, 0.9530714523271362, 0.9530714523271362, 0.9530714523271362, 0.9530714523271362, 0.9530714523271362, 0.9530714523271362, 0.9530714523271362, 0.9586012187874386, 0.9586012187874386]}], \"f1_score_weighted\": [{\"categories\": [\"0\", \"1\", \"2\", \"3\", \"4\", \"5\", \"6\", \"7\", \"8\", \"9\", \"10\", \"11\", \"12\", \"13\", \"14\", \"15\", \"16\", \"17\", \"18\", \"19\", \"20\", \"21\", \"22\", \"23\", \"24\", \"25\", \"26\", \"27\", \"28\", \"29\", \"30\", \"31\", \"32\", \"33\", \"34\", \"35\", \"36\", \"37\", \"38\", \"39\", \"40\", \"41\", \"42\", \"43\", \"44\", \"45\", \"46\", \"47\", \"48\", \"49\", \"50\", \"51\", \"52\", \"53\", \"54\", \"55\", \"56\", \"57\", \"58\", \"59\", \"60\"], \"mode\": \"markers\", \"name\": \"f1_score_weighted\", \"stepped\": false, \"type\": \"scatter\", \"data\": [0.9470166503756123, 0.9432801203077101, 0.9261597931059764, 0.9241967462193973, 0.9246086884507934, 0.9400235147535222, 0.9399303387070896, 0.9311270462504343, 0.936440832256733, 0.9207156806896514, 0.9309822151279852, 0.9167869552024073, 0.9347258292474582, 0.9280080430268685, 0.9186840513856215, 0.9312303571965547, 0.936640094601844, 0.920338724911374, 0.9382216670193948, 0.9164833474689692, 0.9227921101819803, 0.8889031643634944, 0.9399961337829396, 0.9328317100039051, 0.9417654555847061, 0.8965168288473274, 0.9345728815061495, 0.9364408999056453, 0.9417107055167866, 0.931208252282236, 0.9364587964103637, 0.9435499248839958, 0.9381844119250264, 0.9348069489500936, 0.9258803821204442, 0.48404586304148695, 0.9365340819031538, 0.9365340819031538, 0.936404075806806, 0.932900769269736, 0.9363804030355706, 0.9401505898784108, 0.9365340819031538, 0.9381720420538162, 0.9383170009231975, 0.9364073696562436, 0.9364533711054769, 0.9382123293194506, 0.9330427355254007, 0.9347339668803076, 0.9313251660727462, 0.9434675855842176, 0.9317318270446382, 0.9400180748095435, 0.9382160385449856, 0.9383704485550105, 0.9331337036964193, 0.9330452806015547, 0.9365340819031538, 0.9522566430373212, 0.9413713403749291]}, {\"categories\": [\"0\", \"1\", \"2\", \"3\", \"4\", \"5\", \"6\", \"7\", \"8\", \"9\", \"10\", \"11\", \"12\", \"13\", \"14\", \"15\", \"16\", \"17\", \"18\", \"19\", \"20\", \"21\", \"22\", \"23\", \"24\", \"25\", \"26\", \"27\", \"28\", \"29\", \"30\", \"31\", \"32\", \"33\", \"34\", \"35\", \"36\", \"37\", \"38\", \"39\", \"40\", \"41\", \"42\", \"43\", \"44\", \"45\", \"46\", \"47\", \"48\", \"49\", \"50\", \"51\", \"52\", \"53\", \"54\", \"55\", \"56\", \"57\", \"58\", \"59\", \"60\"], \"mode\": \"lines\", \"name\": \"f1_score_weighted_max\", \"stepped\": true, \"type\": \"scatter\", \"data\": [0.9470166503756123, 0.9470166503756123, 0.9470166503756123, 0.9470166503756123, 0.9470166503756123, 0.9470166503756123, 0.9470166503756123, 0.9470166503756123, 0.9470166503756123, 0.9470166503756123, 0.9470166503756123, 0.9470166503756123, 0.9470166503756123, 0.9470166503756123, 0.9470166503756123, 0.9470166503756123, 0.9470166503756123, 0.9470166503756123, 0.9470166503756123, 0.9470166503756123, 0.9470166503756123, 0.9470166503756123, 0.9470166503756123, 0.9470166503756123, 0.9470166503756123, 0.9470166503756123, 0.9470166503756123, 0.9470166503756123, 0.9470166503756123, 0.9470166503756123, 0.9470166503756123, 0.9470166503756123, 0.9470166503756123, 0.9470166503756123, 0.9470166503756123, 0.9470166503756123, 0.9470166503756123, 0.9470166503756123, 0.9470166503756123, 0.9470166503756123, 0.9470166503756123, 0.9470166503756123, 0.9470166503756123, 0.9470166503756123, 0.9470166503756123, 0.9470166503756123, 0.9470166503756123, 0.9470166503756123, 0.9470166503756123, 0.9470166503756123, 0.9470166503756123, 0.9470166503756123, 0.9470166503756123, 0.9470166503756123, 0.9470166503756123, 0.9470166503756123, 0.9470166503756123, 0.9470166503756123, 0.9470166503756123, 0.9522566430373212, 0.9522566430373212]}], \"norm_macro_recall\": [{\"categories\": [\"0\", \"1\", \"2\", \"3\", \"4\", \"5\", \"6\", \"7\", \"8\", \"9\", \"10\", \"11\", \"12\", \"13\", \"14\", \"15\", \"16\", \"17\", \"18\", \"19\", \"20\", \"21\", \"22\", \"23\", \"24\", \"25\", \"26\", \"27\", \"28\", \"29\", \"30\", \"31\", \"32\", \"33\", \"34\", \"35\", \"36\", \"37\", \"38\", \"39\", \"40\", \"41\", \"42\", \"43\", \"44\", \"45\", \"46\", \"47\", \"48\", \"49\", \"50\", \"51\", \"52\", \"53\", \"54\", \"55\", \"56\", \"57\", \"58\", \"59\", \"60\"], \"mode\": \"markers\", \"name\": \"norm_macro_recall\", \"stepped\": false, \"type\": \"scatter\", \"data\": [0.8807494577785757, 0.8685742976550459, 0.8435580608922638, 0.8347824768751609, 0.8451880778482463, 0.8652469476619988, 0.866706002498858, 0.8508390003020851, 0.8595378139262719, 0.8269659757566004, 0.8438575348182311, 0.8098131043550645, 0.8570250290328232, 0.848591263757368, 0.8171965897533682, 0.8497728638457179, 0.8645096016529934, 0.8187791251453138, 0.8641944315869787, 0.8061780756145442, 0.8368164639928363, 0.740615154131386, 0.8672060888044871, 0.850571095769222, 0.8707280294823689, 0.7489951063135666, 0.8534610737947975, 0.8618532336663494, 0.8697863693106825, 0.848271107998646, 0.8585751628940681, 0.877354066030453, 0.8628088998817539, 0.8582571188325829, 0.8360992489123646, 0.0, 0.8605100040110628, 0.8605100040110628, 0.8577728638457177, 0.851632859445975, 0.8580912718059169, 0.8719449088862546, 0.8605100040110628, 0.8635010475238817, 0.8650331378183207, 0.8584610737947974, 0.8607904827009376, 0.8633951287685468, 0.8552645483333132, 0.855916358347643, 0.8516786938220855, 0.87176958844185, 0.8614513303256743, 0.8674805986084086, 0.8624440915953775, 0.867684879111853, 0.8573740993307428, 0.8542681678513044, 0.8605100040110628, 0.8905398985498876, 0.8633601773433647]}, {\"categories\": [\"0\", \"1\", \"2\", \"3\", \"4\", \"5\", \"6\", \"7\", \"8\", \"9\", \"10\", \"11\", \"12\", \"13\", \"14\", \"15\", \"16\", \"17\", \"18\", \"19\", \"20\", \"21\", \"22\", \"23\", \"24\", \"25\", \"26\", \"27\", \"28\", \"29\", \"30\", \"31\", \"32\", \"33\", \"34\", \"35\", \"36\", \"37\", \"38\", \"39\", \"40\", \"41\", \"42\", \"43\", \"44\", \"45\", \"46\", \"47\", \"48\", \"49\", \"50\", \"51\", \"52\", \"53\", \"54\", \"55\", \"56\", \"57\", \"58\", \"59\", \"60\"], \"mode\": \"lines\", \"name\": \"norm_macro_recall_max\", \"stepped\": true, \"type\": \"scatter\", \"data\": [0.8807494577785757, 0.8807494577785757, 0.8807494577785757, 0.8807494577785757, 0.8807494577785757, 0.8807494577785757, 0.8807494577785757, 0.8807494577785757, 0.8807494577785757, 0.8807494577785757, 0.8807494577785757, 0.8807494577785757, 0.8807494577785757, 0.8807494577785757, 0.8807494577785757, 0.8807494577785757, 0.8807494577785757, 0.8807494577785757, 0.8807494577785757, 0.8807494577785757, 0.8807494577785757, 0.8807494577785757, 0.8807494577785757, 0.8807494577785757, 0.8807494577785757, 0.8807494577785757, 0.8807494577785757, 0.8807494577785757, 0.8807494577785757, 0.8807494577785757, 0.8807494577785757, 0.8807494577785757, 0.8807494577785757, 0.8807494577785757, 0.8807494577785757, 0.8807494577785757, 0.8807494577785757, 0.8807494577785757, 0.8807494577785757, 0.8807494577785757, 0.8807494577785757, 0.8807494577785757, 0.8807494577785757, 0.8807494577785757, 0.8807494577785757, 0.8807494577785757, 0.8807494577785757, 0.8807494577785757, 0.8807494577785757, 0.8807494577785757, 0.8807494577785757, 0.8807494577785757, 0.8807494577785757, 0.8807494577785757, 0.8807494577785757, 0.8807494577785757, 0.8807494577785757, 0.8807494577785757, 0.8807494577785757, 0.8905398985498876, 0.8905398985498876]}], \"recall_score_micro\": [{\"categories\": [\"0\", \"1\", \"2\", \"3\", \"4\", \"5\", \"6\", \"7\", \"8\", \"9\", \"10\", \"11\", \"12\", \"13\", \"14\", \"15\", \"16\", \"17\", \"18\", \"19\", \"20\", \"21\", \"22\", \"23\", \"24\", \"25\", \"26\", \"27\", \"28\", \"29\", \"30\", \"31\", \"32\", \"33\", \"34\", \"35\", \"36\", \"37\", \"38\", \"39\", \"40\", \"41\", \"42\", \"43\", \"44\", \"45\", \"46\", \"47\", \"48\", \"49\", \"50\", \"51\", \"52\", \"53\", \"54\", \"55\", \"56\", \"57\", \"58\", \"59\", \"60\"], \"mode\": \"markers\", \"name\": \"recall_score_micro\", \"stepped\": false, \"type\": \"scatter\", \"data\": [0.947228691197019, 0.9437043937276821, 0.9261605340785591, 0.9244216736531594, 0.9243906225741345, 0.9402266728768824, 0.9401956217978575, 0.9313771153547586, 0.936686849868033, 0.9208818506443098, 0.9314236919732961, 0.9173886042539978, 0.9349169383636081, 0.9279149200434714, 0.9191585157584227, 0.9314236919732961, 0.9366713243285204, 0.9208818506443098, 0.9384257102934328, 0.9173730787144854, 0.9226672876882471, 0.890995187082751, 0.9402111473373699, 0.9331625523986959, 0.9419500077627697, 0.8997671169073126, 0.9349169383636081, 0.9366713243285204, 0.9419500077627697, 0.9314236919732961, 0.936655798789008, 0.9437043937276821, 0.9384257102934326, 0.9349169383636081, 0.9261760596180716, 0.6273560006210216, 0.9367179009470579, 0.9367179009470579, 0.936686849868033, 0.9331780779382083, 0.936686849868033, 0.9401645707188324, 0.9367179009470579, 0.9384412358329453, 0.9384412358329453, 0.9366713243285204, 0.9366713243285204, 0.9384101847539202, 0.9331780779382084, 0.9349169383636081, 0.9314081664337834, 0.9437509703462196, 0.9314547430523211, 0.9402111473373699, 0.9384257102934328, 0.9384412358329453, 0.9331780779382083, 0.9331625523986957, 0.9367179009470579, 0.9524918490917559, 0.9419500077627697]}, {\"categories\": [\"0\", \"1\", \"2\", \"3\", \"4\", \"5\", \"6\", \"7\", \"8\", \"9\", \"10\", \"11\", \"12\", \"13\", \"14\", \"15\", \"16\", \"17\", \"18\", \"19\", \"20\", \"21\", \"22\", \"23\", \"24\", \"25\", \"26\", \"27\", \"28\", \"29\", \"30\", \"31\", \"32\", \"33\", \"34\", \"35\", \"36\", \"37\", \"38\", \"39\", \"40\", \"41\", \"42\", \"43\", \"44\", \"45\", \"46\", \"47\", \"48\", \"49\", \"50\", \"51\", \"52\", \"53\", \"54\", \"55\", \"56\", \"57\", \"58\", \"59\", \"60\"], \"mode\": \"lines\", \"name\": \"recall_score_micro_max\", \"stepped\": true, \"type\": \"scatter\", \"data\": [0.947228691197019, 0.947228691197019, 0.947228691197019, 0.947228691197019, 0.947228691197019, 0.947228691197019, 0.947228691197019, 0.947228691197019, 0.947228691197019, 0.947228691197019, 0.947228691197019, 0.947228691197019, 0.947228691197019, 0.947228691197019, 0.947228691197019, 0.947228691197019, 0.947228691197019, 0.947228691197019, 0.947228691197019, 0.947228691197019, 0.947228691197019, 0.947228691197019, 0.947228691197019, 0.947228691197019, 0.947228691197019, 0.947228691197019, 0.947228691197019, 0.947228691197019, 0.947228691197019, 0.947228691197019, 0.947228691197019, 0.947228691197019, 0.947228691197019, 0.947228691197019, 0.947228691197019, 0.947228691197019, 0.947228691197019, 0.947228691197019, 0.947228691197019, 0.947228691197019, 0.947228691197019, 0.947228691197019, 0.947228691197019, 0.947228691197019, 0.947228691197019, 0.947228691197019, 0.947228691197019, 0.947228691197019, 0.947228691197019, 0.947228691197019, 0.947228691197019, 0.947228691197019, 0.947228691197019, 0.947228691197019, 0.947228691197019, 0.947228691197019, 0.947228691197019, 0.947228691197019, 0.947228691197019, 0.9524918490917559, 0.9524918490917559]}], \"matthews_correlation\": [{\"categories\": [\"0\", \"1\", \"2\", \"3\", \"4\", \"5\", \"6\", \"7\", \"8\", \"9\", \"10\", \"11\", \"12\", \"13\", \"14\", \"15\", \"16\", \"17\", \"18\", \"19\", \"20\", \"21\", \"22\", \"23\", \"24\", \"25\", \"26\", \"27\", \"28\", \"29\", \"30\", \"31\", \"32\", \"33\", \"34\", \"35\", \"36\", \"37\", \"38\", \"39\", \"40\", \"41\", \"42\", \"43\", \"44\", \"45\", \"46\", \"47\", \"48\", \"49\", \"50\", \"51\", \"52\", \"53\", \"54\", \"55\", \"56\", \"57\", \"58\", \"59\", \"60\"], \"mode\": \"markers\", \"name\": \"matthews_correlation\", \"stepped\": false, \"type\": \"scatter\", \"data\": [0.8866993268925161, 0.8789747056615331, 0.8419795374980208, 0.8374070459356003, 0.8394222662934994, 0.8711852026982957, 0.8713582874813628, 0.8529045339705462, 0.8637633832065695, 0.8303632919134643, 0.8523218336624196, 0.8208914199495732, 0.860317684770765, 0.8455380942843045, 0.8250298074483062, 0.8524157630463847, 0.8649128066983973, 0.8291497821941067, 0.8678605625669137, 0.8222040573345147, 0.8350937703058425, 0.76758307784641, 0.8721645377424787, 0.8558187207334906, 0.8747734099640665, 0.7900818782842828, 0.8601974681823004, 0.8646232898835844, 0.8759829736145204, 0.8520783364724409, 0.8643141698800602, 0.8790804876930173, 0.867836035845387, 0.8606612677023187, 0.8409295975394603, 0.0, 0.8647257525429085, 0.8647257525429085, 0.8640619304206666, 0.856598738822133, 0.8636217412961893, 0.8718905878065119, 0.8647257525429085, 0.8683009170768099, 0.868455479028367, 0.8641306709743967, 0.8642774367445016, 0.8673851658182118, 0.8565751775832503, 0.8602919024337083, 0.8531987366694006, 0.8803520657314954, 0.8550874779155679, 0.8719168452427196, 0.8676974958866085, 0.8681566569758766, 0.8565759303921421, 0.8561362440622519, 0.8647257525429085, 0.8980551025885533, 0.8753227572534984]}, {\"categories\": [\"0\", \"1\", \"2\", \"3\", \"4\", \"5\", \"6\", \"7\", \"8\", \"9\", \"10\", \"11\", \"12\", \"13\", \"14\", \"15\", \"16\", \"17\", \"18\", \"19\", \"20\", \"21\", \"22\", \"23\", \"24\", \"25\", \"26\", \"27\", \"28\", \"29\", \"30\", \"31\", \"32\", \"33\", \"34\", \"35\", \"36\", \"37\", \"38\", \"39\", \"40\", \"41\", \"42\", \"43\", \"44\", \"45\", \"46\", \"47\", \"48\", \"49\", \"50\", \"51\", \"52\", \"53\", \"54\", \"55\", \"56\", \"57\", \"58\", \"59\", \"60\"], \"mode\": \"lines\", \"name\": \"matthews_correlation_max\", \"stepped\": true, \"type\": \"scatter\", \"data\": [0.8866993268925161, 0.8866993268925161, 0.8866993268925161, 0.8866993268925161, 0.8866993268925161, 0.8866993268925161, 0.8866993268925161, 0.8866993268925161, 0.8866993268925161, 0.8866993268925161, 0.8866993268925161, 0.8866993268925161, 0.8866993268925161, 0.8866993268925161, 0.8866993268925161, 0.8866993268925161, 0.8866993268925161, 0.8866993268925161, 0.8866993268925161, 0.8866993268925161, 0.8866993268925161, 0.8866993268925161, 0.8866993268925161, 0.8866993268925161, 0.8866993268925161, 0.8866993268925161, 0.8866993268925161, 0.8866993268925161, 0.8866993268925161, 0.8866993268925161, 0.8866993268925161, 0.8866993268925161, 0.8866993268925161, 0.8866993268925161, 0.8866993268925161, 0.8866993268925161, 0.8866993268925161, 0.8866993268925161, 0.8866993268925161, 0.8866993268925161, 0.8866993268925161, 0.8866993268925161, 0.8866993268925161, 0.8866993268925161, 0.8866993268925161, 0.8866993268925161, 0.8866993268925161, 0.8866993268925161, 0.8866993268925161, 0.8866993268925161, 0.8866993268925161, 0.8866993268925161, 0.8866993268925161, 0.8866993268925161, 0.8866993268925161, 0.8866993268925161, 0.8866993268925161, 0.8866993268925161, 0.8866993268925161, 0.8980551025885533, 0.8980551025885533]}], \"f1_score_micro\": [{\"categories\": [\"0\", \"1\", \"2\", \"3\", \"4\", \"5\", \"6\", \"7\", \"8\", \"9\", \"10\", \"11\", \"12\", \"13\", \"14\", \"15\", \"16\", \"17\", \"18\", \"19\", \"20\", \"21\", \"22\", \"23\", \"24\", \"25\", \"26\", \"27\", \"28\", \"29\", \"30\", \"31\", \"32\", \"33\", \"34\", \"35\", \"36\", \"37\", \"38\", \"39\", \"40\", \"41\", \"42\", \"43\", \"44\", \"45\", \"46\", \"47\", \"48\", \"49\", \"50\", \"51\", \"52\", \"53\", \"54\", \"55\", \"56\", \"57\", \"58\", \"59\", \"60\"], \"mode\": \"markers\", \"name\": \"f1_score_micro\", \"stepped\": false, \"type\": \"scatter\", \"data\": [0.947228691197019, 0.9437043937276821, 0.9261605340785591, 0.9244216736531594, 0.9243906225741345, 0.9402266728768824, 0.9401956217978575, 0.9313771153547586, 0.936686849868033, 0.9208818506443098, 0.9314236919732961, 0.9173886042539978, 0.9349169383636081, 0.9279149200434714, 0.9191585157584227, 0.9314236919732961, 0.9366713243285204, 0.9208818506443098, 0.9384257102934328, 0.9173730787144854, 0.9226672876882471, 0.890995187082751, 0.9402111473373699, 0.9331625523986959, 0.9419500077627697, 0.8997671169073126, 0.9349169383636081, 0.9366713243285204, 0.9419500077627697, 0.9314236919732961, 0.936655798789008, 0.9437043937276821, 0.9384257102934326, 0.9349169383636081, 0.9261760596180716, 0.6273560006210216, 0.9367179009470579, 0.9367179009470579, 0.936686849868033, 0.9331780779382083, 0.936686849868033, 0.9401645707188324, 0.9367179009470579, 0.9384412358329453, 0.9384412358329453, 0.9366713243285204, 0.9366713243285204, 0.9384101847539202, 0.9331780779382084, 0.9349169383636081, 0.9314081664337834, 0.9437509703462196, 0.9314547430523211, 0.9402111473373699, 0.9384257102934328, 0.9384412358329453, 0.9331780779382083, 0.9331625523986957, 0.9367179009470579, 0.9524918490917559, 0.9419500077627697]}, {\"categories\": [\"0\", \"1\", \"2\", \"3\", \"4\", \"5\", \"6\", \"7\", \"8\", \"9\", \"10\", \"11\", \"12\", \"13\", \"14\", \"15\", \"16\", \"17\", \"18\", \"19\", \"20\", \"21\", \"22\", \"23\", \"24\", \"25\", \"26\", \"27\", \"28\", \"29\", \"30\", \"31\", \"32\", \"33\", \"34\", \"35\", \"36\", \"37\", \"38\", \"39\", \"40\", \"41\", \"42\", \"43\", \"44\", \"45\", \"46\", \"47\", \"48\", \"49\", \"50\", \"51\", \"52\", \"53\", \"54\", \"55\", \"56\", \"57\", \"58\", \"59\", \"60\"], \"mode\": \"lines\", \"name\": \"f1_score_micro_max\", \"stepped\": true, \"type\": \"scatter\", \"data\": [0.947228691197019, 0.947228691197019, 0.947228691197019, 0.947228691197019, 0.947228691197019, 0.947228691197019, 0.947228691197019, 0.947228691197019, 0.947228691197019, 0.947228691197019, 0.947228691197019, 0.947228691197019, 0.947228691197019, 0.947228691197019, 0.947228691197019, 0.947228691197019, 0.947228691197019, 0.947228691197019, 0.947228691197019, 0.947228691197019, 0.947228691197019, 0.947228691197019, 0.947228691197019, 0.947228691197019, 0.947228691197019, 0.947228691197019, 0.947228691197019, 0.947228691197019, 0.947228691197019, 0.947228691197019, 0.947228691197019, 0.947228691197019, 0.947228691197019, 0.947228691197019, 0.947228691197019, 0.947228691197019, 0.947228691197019, 0.947228691197019, 0.947228691197019, 0.947228691197019, 0.947228691197019, 0.947228691197019, 0.947228691197019, 0.947228691197019, 0.947228691197019, 0.947228691197019, 0.947228691197019, 0.947228691197019, 0.947228691197019, 0.947228691197019, 0.947228691197019, 0.947228691197019, 0.947228691197019, 0.947228691197019, 0.947228691197019, 0.947228691197019, 0.947228691197019, 0.947228691197019, 0.947228691197019, 0.9524918490917559, 0.9524918490917559]}]}, \"metricName\": null, \"primaryMetricName\": \"accuracy\", \"showLegend\": false}, \"run_metrics\": [{\"name\": \"f1_score_micro\", \"run_id\": \"AutoML_6b91fb92-7fea-4f50-8c43-057b987c8865\", \"categories\": [0], \"series\": [{\"data\": [0.9524918490917559]}]}, {\"name\": \"average_precision_score_micro\", \"run_id\": \"AutoML_6b91fb92-7fea-4f50-8c43-057b987c8865\", \"categories\": [0], \"series\": [{\"data\": [0.9902910309152073]}]}, {\"name\": \"balanced_accuracy\", \"run_id\": \"AutoML_6b91fb92-7fea-4f50-8c43-057b987c8865\", \"categories\": [0], \"series\": [{\"data\": [0.9452699492749439]}]}, {\"name\": \"f1_score_weighted\", \"run_id\": \"AutoML_6b91fb92-7fea-4f50-8c43-057b987c8865\", \"categories\": [0], \"series\": [{\"data\": [0.9522566430373212]}]}, {\"name\": \"recall_score_micro\", \"run_id\": \"AutoML_6b91fb92-7fea-4f50-8c43-057b987c8865\", \"categories\": [0], \"series\": [{\"data\": [0.9524918490917559]}]}, {\"name\": \"precision_score_macro\", \"run_id\": \"AutoML_6b91fb92-7fea-4f50-8c43-057b987c8865\", \"categories\": [0], \"series\": [{\"data\": [0.9528553851682584]}]}, {\"name\": \"AUC_macro\", \"run_id\": \"AutoML_6b91fb92-7fea-4f50-8c43-057b987c8865\", \"categories\": [0], \"series\": [{\"data\": [0.989755942946644]}]}, {\"name\": \"AUC_micro\", \"run_id\": \"AutoML_6b91fb92-7fea-4f50-8c43-057b987c8865\", \"categories\": [0], \"series\": [{\"data\": [0.9900002750293524]}]}, {\"name\": \"precision_score_micro\", \"run_id\": \"AutoML_6b91fb92-7fea-4f50-8c43-057b987c8865\", \"categories\": [0], \"series\": [{\"data\": [0.9524918490917559]}]}, {\"name\": \"log_loss\", \"run_id\": \"AutoML_6b91fb92-7fea-4f50-8c43-057b987c8865\", \"categories\": [0], \"series\": [{\"data\": [0.12665444858682665]}]}, {\"name\": \"average_precision_score_weighted\", \"run_id\": \"AutoML_6b91fb92-7fea-4f50-8c43-057b987c8865\", \"categories\": [0], \"series\": [{\"data\": [0.9905530755031593]}]}, {\"name\": \"weighted_accuracy\", \"run_id\": \"AutoML_6b91fb92-7fea-4f50-8c43-057b987c8865\", \"categories\": [0], \"series\": [{\"data\": [0.9586012187874386]}]}, {\"name\": \"accuracy\", \"run_id\": \"AutoML_6b91fb92-7fea-4f50-8c43-057b987c8865\", \"categories\": [0], \"series\": [{\"data\": [0.9524918490917559]}]}, {\"name\": \"matthews_correlation\", \"run_id\": \"AutoML_6b91fb92-7fea-4f50-8c43-057b987c8865\", \"categories\": [0], \"series\": [{\"data\": [0.8980551025885533]}]}, {\"name\": \"AUC_weighted\", \"run_id\": \"AutoML_6b91fb92-7fea-4f50-8c43-057b987c8865\", \"categories\": [0], \"series\": [{\"data\": [0.989755942946644]}]}, {\"name\": \"average_precision_score_macro\", \"run_id\": \"AutoML_6b91fb92-7fea-4f50-8c43-057b987c8865\", \"categories\": [0], \"series\": [{\"data\": [0.9896657208398594]}]}, {\"name\": \"precision_score_weighted\", \"run_id\": \"AutoML_6b91fb92-7fea-4f50-8c43-057b987c8865\", \"categories\": [0], \"series\": [{\"data\": [0.9526456393574672]}]}, {\"name\": \"f1_score_macro\", \"run_id\": \"AutoML_6b91fb92-7fea-4f50-8c43-057b987c8865\", \"categories\": [0], \"series\": [{\"data\": [0.9486840222785473]}]}, {\"name\": \"recall_score_weighted\", \"run_id\": \"AutoML_6b91fb92-7fea-4f50-8c43-057b987c8865\", \"categories\": [0], \"series\": [{\"data\": [0.9524918490917559]}]}, {\"name\": \"norm_macro_recall\", \"run_id\": \"AutoML_6b91fb92-7fea-4f50-8c43-057b987c8865\", \"categories\": [0], \"series\": [{\"data\": [0.8905398985498876]}]}, {\"name\": \"recall_score_macro\", \"run_id\": \"AutoML_6b91fb92-7fea-4f50-8c43-057b987c8865\", \"categories\": [0], \"series\": [{\"data\": [0.9452699492749439]}]}], \"run_logs\": \"\\nRun is completed.\", \"graph\": {}, \"widget_settings\": {\"childWidgetDisplay\": \"popup\", \"send_telemetry\": false, \"log_level\": \"INFO\", \"sdk_version\": \"1.20.0\"}, \"loading\": false}"
          },
          "metadata": {}
        }
      ],
      "execution_count": 29,
      "metadata": {
        "gather": {
          "logged": 1611673867316
        },
        "jupyter": {
          "outputs_hidden": false,
          "source_hidden": false
        },
        "nteract": {
          "transient": {
            "deleting": false
          }
        }
      }
    },
    {
      "cell_type": "markdown",
      "source": [
        "## Best Model\n",
        "\n",
        "TODO: In the cell below, get the best model from the automl experiments and display all the properties of the model.\n",
        "\n"
      ],
      "metadata": {}
    },
    {
      "cell_type": "code",
      "source": [
        "best_run, fitted_model = remote_run.get_output()\r\n",
        "print('Best-run model: ',best_run)\r\n",
        "print('\\n fitted model: ',fitted_model)"
      ],
      "outputs": [
        {
          "output_type": "stream",
          "name": "stdout",
          "text": [
            "Best-run model:  Run(Experiment: udacity-capstone,\n",
            "Id: AutoML_6b91fb92-7fea-4f50-8c43-057b987c8865_59,\n",
            "Type: None,\n",
            "Status: Completed)\n",
            "\n",
            " fitted model:  Pipeline(memory=None,\n",
            "         steps=[('datatransformer',\n",
            "                 DataTransformer(enable_dnn=None, enable_feature_sweeping=None,\n",
            "                                 feature_sweeping_config=None,\n",
            "                                 feature_sweeping_timeout=None,\n",
            "                                 featurization_config=None, force_text_dnn=None,\n",
            "                                 is_cross_validation=None,\n",
            "                                 is_onnx_compatible=None, logger=None,\n",
            "                                 observer=None, task=None, working_dir=None)),\n",
            "                ('prefittedsoftvotingclassifier',...\n",
            "                                                                                        coef0=0.0,\n",
            "                                                                                        decision_function_shape='ovr',\n",
            "                                                                                        degree=3,\n",
            "                                                                                        gamma='scale',\n",
            "                                                                                        kernel='rbf',\n",
            "                                                                                        max_iter=-1,\n",
            "                                                                                        probability=True,\n",
            "                                                                                        random_state=None,\n",
            "                                                                                        shrinking=True,\n",
            "                                                                                        tol=0.001,\n",
            "                                                                                        verbose=False))],\n",
            "                                                                     verbose=False))],\n",
            "                                               flatten_transform=None,\n",
            "                                               weights=[0.2857142857142857,\n",
            "                                                        0.14285714285714285,\n",
            "                                                        0.14285714285714285,\n",
            "                                                        0.14285714285714285,\n",
            "                                                        0.14285714285714285,\n",
            "                                                        0.14285714285714285]))],\n",
            "         verbose=False)\n"
          ]
        }
      ],
      "execution_count": 30,
      "metadata": {
        "gather": {
          "logged": 1611673867621
        },
        "jupyter": {
          "outputs_hidden": false,
          "source_hidden": false
        },
        "nteract": {
          "transient": {
            "deleting": false
          }
        }
      }
    },
    {
      "cell_type": "code",
      "source": [
        "#TODO: Save the best model\r\n",
        "import joblib\r\n",
        "joblib.dump(fitted_model,\"best_model.pkl\")"
      ],
      "outputs": [
        {
          "output_type": "execute_result",
          "execution_count": 31,
          "data": {
            "text/plain": "['best_model.pkl']",
            "text/html": "['best_model.pkl']"
          },
          "metadata": {}
        }
      ],
      "execution_count": 31,
      "metadata": {
        "gather": {
          "logged": 1611673871299
        },
        "jupyter": {
          "outputs_hidden": false,
          "source_hidden": false
        },
        "nteract": {
          "transient": {
            "deleting": false
          }
        }
      }
    },
    {
      "cell_type": "markdown",
      "source": [
        "## Model Deployment\n",
        "\n",
        "Remember you have to deploy only one of the two models you trained.. Perform the steps in the rest of this notebook only if you wish to deploy this model.\n",
        "\n",
        "TODO: In the cell below, register the model, create an inference config and deploy the model as a web service."
      ],
      "metadata": {}
    },
    {
      "cell_type": "code",
      "source": [
        "automl_model =remote_run.register_model(model_name = 'automl_best_model')"
      ],
      "outputs": [],
      "execution_count": 32,
      "metadata": {
        "collapsed": true,
        "jupyter": {
          "source_hidden": false,
          "outputs_hidden": false
        },
        "nteract": {
          "transient": {
            "deleting": false
          }
        },
        "gather": {
          "logged": 1611673876419
        }
      }
    },
    {
      "cell_type": "code",
      "source": [
        "script_file_name ='score.py'\r\n",
        "best_run.download_file('outputs/scoring_file_v_1_0_0.py','score.py')\r\n",
        "env=Environment.get(workspace=ws,name=\"AzureML-AutoML\")"
      ],
      "outputs": [],
      "execution_count": 33,
      "metadata": {
        "collapsed": true,
        "jupyter": {
          "source_hidden": false,
          "outputs_hidden": false
        },
        "nteract": {
          "transient": {
            "deleting": false
          }
        },
        "gather": {
          "logged": 1611673879127
        }
      }
    },
    {
      "cell_type": "code",
      "source": [
        "inference_config = InferenceConfig(entry_script=script_file_name, environment=env)"
      ],
      "outputs": [],
      "execution_count": 34,
      "metadata": {
        "collapsed": true,
        "jupyter": {
          "source_hidden": false,
          "outputs_hidden": false
        },
        "nteract": {
          "transient": {
            "deleting": false
          }
        },
        "gather": {
          "logged": 1611673881727
        }
      }
    },
    {
      "cell_type": "code",
      "source": [
        "from azureml.core.model import Model\r\n",
        "import joblib\r\n",
        "model = Model.register(workspace=ws, model_path=\"best_model.pkl\", model_name=\"automl-test-model\")"
      ],
      "outputs": [
        {
          "output_type": "stream",
          "name": "stdout",
          "text": [
            "Registering model automl-test-model\n"
          ]
        }
      ],
      "execution_count": 35,
      "metadata": {
        "gather": {
          "logged": 1611673884560
        },
        "jupyter": {
          "outputs_hidden": false,
          "source_hidden": false
        },
        "nteract": {
          "transient": {
            "deleting": false
          }
        }
      }
    },
    {
      "cell_type": "code",
      "source": [
        "from azureml.core import Workspace, Environment\r\n",
        "\r\n",
        "ws = Workspace.from_config()\r\n",
        "env = Environment.get(workspace=ws, name=\"AzureML-Minimal\")"
      ],
      "outputs": [],
      "execution_count": 25,
      "metadata": {
        "collapsed": true,
        "jupyter": {
          "source_hidden": false,
          "outputs_hidden": false
        },
        "nteract": {
          "transient": {
            "deleting": false
          }
        },
        "gather": {
          "logged": 1611644351283
        }
      }
    },
    {
      "cell_type": "code",
      "source": [
        "\r\n",
        "\r\n",
        "aci_config = AciWebservice.deploy_configuration(cpu_cores = 1, memory_gb = 1)\r\n",
        "\r\n",
        "aci_service_name = 'automl-cancer'\r\n",
        "print(aci_service_name)"
      ],
      "outputs": [
        {
          "output_type": "stream",
          "name": "stdout",
          "text": [
            "automl-cancer\n"
          ]
        }
      ],
      "execution_count": 36,
      "metadata": {
        "collapsed": true,
        "jupyter": {
          "source_hidden": false,
          "outputs_hidden": false
        },
        "nteract": {
          "transient": {
            "deleting": false
          }
        },
        "gather": {
          "logged": 1611673904508
        }
      }
    },
    {
      "cell_type": "code",
      "source": [
        "from azureml.core.model import InferenceConfig\r\n",
        "from azureml.core.webservice import AciWebservice\r\n",
        "\r\n",
        "\r\n",
        "\r\n",
        "service_name = 'custom-env-service'\r\n",
        "\r\n",
        "\r\n",
        "\r\n",
        "service = Model.deploy(workspace=ws,\r\n",
        "                       name=service_name,\r\n",
        "                       models=[automl_model],\r\n",
        "                       inference_config=inference_config,\r\n",
        "                       deployment_config=aci_config,\r\n",
        "                       overwrite=True)\r\n",
        "service.wait_for_deployment(show_output=True)"
      ],
      "outputs": [
        {
          "output_type": "stream",
          "name": "stdout",
          "text": [
            "Tips: You can try get_logs(): https://aka.ms/debugimage#dockerlog or local deployment: https://aka.ms/debugimage#debug-locally to debug if deployment takes longer than 10 minutes.\n",
            "Running....\n",
            "Succeeded\n",
            "ACI service creation operation finished, operation \"Succeeded\"\n"
          ]
        }
      ],
      "execution_count": 37,
      "metadata": {
        "collapsed": true,
        "jupyter": {
          "source_hidden": false,
          "outputs_hidden": false
        },
        "nteract": {
          "transient": {
            "deleting": false
          }
        },
        "gather": {
          "logged": 1611673935310
        }
      }
    },
    {
      "cell_type": "code",
      "source": [
        "\r\n",
        "print(\"Scoring uri:\" , service.scoring_uri)"
      ],
      "outputs": [
        {
          "output_type": "stream",
          "name": "stdout",
          "text": [
            "Scoring uri: http://11523847-bae9-4645-8c9a-8152cdbfb714.southcentralus.azurecontainer.io/score\n"
          ]
        }
      ],
      "execution_count": 38,
      "metadata": {
        "collapsed": true,
        "jupyter": {
          "source_hidden": false,
          "outputs_hidden": false
        },
        "nteract": {
          "transient": {
            "deleting": false
          }
        },
        "gather": {
          "logged": 1611673942553
        }
      }
    },
    {
      "cell_type": "markdown",
      "source": [
        "TODO: In the cell below, send a request to the web service you deployed to test it."
      ],
      "metadata": {
        "collapsed": true,
        "gather": {
          "logged": 1598431657736
        },
        "jupyter": {
          "outputs_hidden": false,
          "source_hidden": false
        },
        "nteract": {
          "transient": {
            "deleting": false
          }
        }
      }
    },
    {
      "cell_type": "code",
      "source": [
        "scoring_uri = 'http://11523847-bae9-4645-8c9a-8152cdbfb714.southcentralus.azurecontainer.io/score'\r\n",
        "headers = {'Content-Type':'application/json'}\r\n",
        "\r\n",
        "input_data = json.dumps({'data':[{\r\n",
        "    \t\t\t\t\t\t\t\t\r\n",
        "    'radius_mean':17.99,\r\n",
        "    'texture_mean':10.38,\r\n",
        "    'perimeter_mean':122.80,\t\r\n",
        "    'area_mean':1001.00,\t\r\n",
        "    'smoothness_mean':0.12,\t\r\n",
        "    'compactness_mean':0.28,\r\n",
        "    'concavity_mean':0.30,\t\r\n",
        "    'concave points_mean':0.15\t\r\n",
        "    }\r\n",
        "    ]\r\n",
        "        })\r\n",
        "response = requests.post(scoring_uri, data=input_data, headers=headers)\r\n",
        "\r\n",
        "print(\"Result:\",response.text)"
      ],
      "outputs": [
        {
          "output_type": "stream",
          "name": "stdout",
          "text": [
            "Result: \"{\\\"result\\\": [1]}\"\n"
          ]
        }
      ],
      "execution_count": 49,
      "metadata": {
        "gather": {
          "logged": 1611674609168
        },
        "jupyter": {
          "outputs_hidden": false,
          "source_hidden": false
        },
        "nteract": {
          "transient": {
            "deleting": false
          }
        }
      }
    },
    {
      "cell_type": "markdown",
      "source": [
        "TODO: In the cell below, print the logs of the web service and delete the service"
      ],
      "metadata": {
        "collapsed": true,
        "gather": {
          "logged": 1598432765711
        },
        "jupyter": {
          "outputs_hidden": false,
          "source_hidden": false
        },
        "nteract": {
          "transient": {
            "deleting": false
          }
        }
      }
    },
    {
      "cell_type": "code",
      "source": [
        "print(service.get_logs())"
      ],
      "outputs": [
        {
          "output_type": "stream",
          "name": "stdout",
          "text": [
            "2021-01-26T15:12:02,932379673+00:00 - rsyslog/run \n",
            "/usr/sbin/nginx: /azureml-envs/azureml_265db83b0c6014ce472c5de2f0b97e04/lib/libcrypto.so.1.0.0: no version information available (required by /usr/sbin/nginx)\n",
            "/usr/sbin/nginx: /azureml-envs/azureml_265db83b0c6014ce472c5de2f0b97e04/lib/libcrypto.so.1.0.0: no version information available (required by /usr/sbin/nginx)\n",
            "/usr/sbin/nginx: /azureml-envs/azureml_265db83b0c6014ce472c5de2f0b97e04/lib/libssl.so.1.0.0: no version information available (required by /usr/sbin/nginx)\n",
            "/usr/sbin/nginx: /azureml-envs/azureml_265db83b0c6014ce472c5de2f0b97e04/lib/libssl.so.1.0.0: no version information available (required by /usr/sbin/nginx)\n",
            "/usr/sbin/nginx: /azureml-envs/azureml_265db83b0c6014ce472c5de2f0b97e04/lib/libssl.so.1.0.0: no version information available (required by /usr/sbin/nginx)\n",
            "2021-01-26T15:12:02,933294580+00:00 - iot-server/run \n",
            "2021-01-26T15:12:02,933950184+00:00 - gunicorn/run \n",
            "2021-01-26T15:12:02,937858311+00:00 - nginx/run \n",
            "rsyslogd: /azureml-envs/azureml_265db83b0c6014ce472c5de2f0b97e04/lib/libuuid.so.1: no version information available (required by rsyslogd)\n",
            "EdgeHubConnectionString and IOTEDGE_IOTHUBHOSTNAME are not set. Exiting...\n",
            "2021-01-26T15:12:03,078218784+00:00 - iot-server/finish 1 0\n",
            "2021-01-26T15:12:03,079473593+00:00 - Exit code 1 is normal. Not restarting iot-server.\n",
            "Starting gunicorn 19.9.0\n",
            "Listening at: http://127.0.0.1:31311 (13)\n",
            "Using worker: sync\n",
            "worker timeout is set to 300\n",
            "Booting worker with pid: 42\n",
            "SPARK_HOME not set. Skipping PySpark Initialization.\n",
            "Generating new fontManager, this may take some time...\n",
            "Initializing logger\n",
            "2021-01-26 15:12:04,344 | root | INFO | Starting up app insights client\n",
            "2021-01-26 15:12:04,344 | root | INFO | Starting up request id generator\n",
            "2021-01-26 15:12:04,344 | root | INFO | Starting up app insight hooks\n",
            "2021-01-26 15:12:04,344 | root | INFO | Invoking user's init function\n",
            "2021-01-26 15:12:06,466 | azureml.core | WARNING | Failure while loading azureml_run_type_providers. Failed to load entrypoint automl = azureml.train.automl.run:AutoMLRun._from_run_dto with exception cannot import name 'RunType'.\n",
            "Failure while loading azureml_run_type_providers. Failed to load entrypoint automl = azureml.train.automl.run:AutoMLRun._from_run_dto with exception cannot import name 'RunType'.\n",
            "2021-01-26 15:12:06,555 | root | INFO | Users's init has completed successfully\n",
            "2021-01-26 15:12:06,637 | root | INFO | Skipping middleware: dbg_model_info as it's not enabled.\n",
            "2021-01-26 15:12:06,637 | root | INFO | Skipping middleware: dbg_resource_usage as it's not enabled.\n",
            "2021-01-26 15:12:06,639 | root | INFO | Scoring timeout is found from os.environ: 60000 ms\n",
            "2021-01-26 15:12:09,327 | root | INFO | 200\n",
            "127.0.0.1 - - [26/Jan/2021:15:12:09 +0000] \"GET /swagger.json HTTP/1.0\" 200 2616 \"-\" \"Go-http-client/1.1\"\n",
            "2021-01-26 15:12:15,111 | root | INFO | 200\n",
            "127.0.0.1 - - [26/Jan/2021:15:12:15 +0000] \"GET /swagger.json HTTP/1.0\" 200 2616 \"-\" \"Go-http-client/1.1\"\n",
            "2021-01-26 15:16:11,020 | root | ERROR | Encountered Exception: Traceback (most recent call last):\n",
            "  File \"/var/azureml-server/synchronous/routes.py\", line 64, in run_scoring\n",
            "    response = invoke_user_with_timer(service_input, request_headers)\n",
            "  File \"/var/azureml-server/synchronous/routes.py\", line 89, in invoke_user_with_timer\n",
            "    params = prepare_user_params(input, headers, aml_request._rawHttpRequested)\n",
            "  File \"/var/azureml-server/routes_common.py\", line 141, in prepare_user_params\n",
            "    params = {main.run_input_parameter_name: input[main.wrapped_parameter_name]}\n",
            "KeyError: 'data'\n",
            "\n",
            "During handling of the above exception, another exception occurred:\n",
            "\n",
            "Traceback (most recent call last):\n",
            "  File \"/azureml-envs/azureml_265db83b0c6014ce472c5de2f0b97e04/lib/python3.6/site-packages/flask/app.py\", line 1832, in full_dispatch_request\n",
            "    rv = self.dispatch_request()\n",
            "  File \"/azureml-envs/azureml_265db83b0c6014ce472c5de2f0b97e04/lib/python3.6/site-packages/flask/app.py\", line 1818, in dispatch_request\n",
            "    return self.view_functions[rule.endpoint](**req.view_args)\n",
            "  File \"/var/azureml-server/synchronous/routes.py\", line 20, in get_prediction_realtime\n",
            "    return run_scoring(service_input, request.headers, request.environ.get('REQUEST_ID', '00000000-0000-0000-0000-000000000000'))\n",
            "  File \"/var/azureml-server/synchronous/routes.py\", line 77, in run_scoring\n",
            "    raise RunFunctionException(str(exc))\n",
            "run_function_exception.RunFunctionException\n",
            "\n",
            "2021-01-26 15:16:11,021 | root | INFO | 500\n",
            "127.0.0.1 - - [26/Jan/2021:15:16:11 +0000] \"GET /score HTTP/1.0\" 500 6 \"-\" \"Mozilla/5.0 (Windows NT 10.0; Win64; x64) AppleWebKit/537.36 (KHTML, like Gecko) Chrome/86.0.4240.75 Safari/537.36\"\n",
            "127.0.0.1 - - [26/Jan/2021:15:16:11 +0000] \"GET /favicon.ico HTTP/1.0\" 404 232 \"http://11523847-bae9-4645-8c9a-8152cdbfb714.southcentralus.azurecontainer.io/score\" \"Mozilla/5.0 (Windows NT 10.0; Win64; x64) AppleWebKit/537.36 (KHTML, like Gecko) Chrome/86.0.4240.75 Safari/537.36\"\n",
            "2021-01-26 15:17:05,497 | root | INFO | Validation Request Content-Type\n",
            "2021-01-26 15:17:05,497 | root | INFO | Scoring Timer is set to 60.0 seconds\n",
            "2021-01-26 15:17:05,505 | root | ERROR | Encountered Exception: Traceback (most recent call last):\n",
            "  File \"/var/azureml-server/synchronous/routes.py\", line 64, in run_scoring\n",
            "    response = invoke_user_with_timer(service_input, request_headers)\n",
            "  File \"/var/azureml-server/synchronous/routes.py\", line 97, in invoke_user_with_timer\n",
            "    result = user_main.run(**params)\n",
            "  File \"/var/azureml-app/main.py\", line 21, in run\n",
            "    return_obj = driver_module.run(**arguments)\n",
            "  File \"/azureml-envs/azureml_265db83b0c6014ce472c5de2f0b97e04/lib/python3.6/site-packages/wrapt/wrappers.py\", line 564, in __call__\n",
            "    args, kwargs)\n",
            "  File \"/azureml-envs/azureml_265db83b0c6014ce472c5de2f0b97e04/lib/python3.6/site-packages/inference_schema/schema_decorators.py\", line 57, in decorator_input\n",
            "    kwargs[param_name] = _deserialize_input_argument(kwargs[param_name], param_type, param_name)\n",
            "  File \"/azureml-envs/azureml_265db83b0c6014ce472c5de2f0b97e04/lib/python3.6/site-packages/inference_schema/schema_decorators.py\", line 285, in _deserialize_input_argument\n",
            "    input_data = param_type.deserialize_input(input_data)\n",
            "  File \"/azureml-envs/azureml_265db83b0c6014ce472c5de2f0b97e04/lib/python3.6/site-packages/inference_schema/parameter_types/pandas_parameter_type.py\", line 79, in deserialize_input\n",
            "    data_frame.shape[dim], dim, expected_shape[dim]))\n",
            "ValueError: Invalid input data frame: data frame has size 9 on dimension #1, while expected value is 8\n",
            "\n",
            "During handling of the above exception, another exception occurred:\n",
            "\n",
            "Traceback (most recent call last):\n",
            "  File \"/azureml-envs/azureml_265db83b0c6014ce472c5de2f0b97e04/lib/python3.6/site-packages/flask/app.py\", line 1832, in full_dispatch_request\n",
            "    rv = self.dispatch_request()\n",
            "  File \"/azureml-envs/azureml_265db83b0c6014ce472c5de2f0b97e04/lib/python3.6/site-packages/flask/app.py\", line 1818, in dispatch_request\n",
            "    return self.view_functions[rule.endpoint](**req.view_args)\n",
            "  File \"/var/azureml-server/synchronous/routes.py\", line 43, in score_realtime\n",
            "    return run_scoring(service_input, request.headers, request.environ.get('REQUEST_ID', '00000000-0000-0000-0000-000000000000'))\n",
            "  File \"/var/azureml-server/synchronous/routes.py\", line 77, in run_scoring\n",
            "    raise RunFunctionException(str(exc))\n",
            "run_function_exception.RunFunctionException\n",
            "\n",
            "2021-01-26 15:17:05,505 | root | INFO | 500\n",
            "127.0.0.1 - - [26/Jan/2021:15:17:05 +0000] \"POST /score HTTP/1.0\" 500 90 \"-\" \"python-requests/2.25.1\"\n",
            "Exception in worker process\n",
            "Traceback (most recent call last):\n",
            "  File \"/azureml-envs/azureml_265db83b0c6014ce472c5de2f0b97e04/lib/python3.6/site-packages/gunicorn/arbiter.py\", line 583, in spawn_worker\n",
            "    worker.init_process()\n",
            "  File \"/azureml-envs/azureml_265db83b0c6014ce472c5de2f0b97e04/lib/python3.6/site-packages/gunicorn/workers/base.py\", line 134, in init_process\n",
            "    self.run()\n",
            "  File \"/azureml-envs/azureml_265db83b0c6014ce472c5de2f0b97e04/lib/python3.6/site-packages/gunicorn/workers/sync.py\", line 124, in run\n",
            "    self.run_for_one(timeout)\n",
            "  File \"/azureml-envs/azureml_265db83b0c6014ce472c5de2f0b97e04/lib/python3.6/site-packages/gunicorn/workers/sync.py\", line 83, in run_for_one\n",
            "    self.wait(timeout)\n",
            "  File \"/azureml-envs/azureml_265db83b0c6014ce472c5de2f0b97e04/lib/python3.6/site-packages/gunicorn/workers/sync.py\", line 35, in wait\n",
            "    ret = select.select(self.wait_fds, [], [], timeout)\n",
            "  File \"/var/azureml-server/routes_common.py\", line 162, in alarm_handler\n",
            "    raise TimeoutException(error_message)\n",
            "timeout_exception.TimeoutException\n",
            "Worker exiting (pid: 42)\n",
            "worker timeout is set to 300\n",
            "Booting worker with pid: 65\n",
            "SPARK_HOME not set. Skipping PySpark Initialization.\n",
            "Initializing logger\n",
            "2021-01-26 15:18:07,731 | root | INFO | Starting up app insights client\n",
            "2021-01-26 15:18:07,731 | root | INFO | Starting up request id generator\n",
            "2021-01-26 15:18:07,731 | root | INFO | Starting up app insight hooks\n",
            "2021-01-26 15:18:07,731 | root | INFO | Invoking user's init function\n",
            "2021-01-26 15:18:09,727 | azureml.core | WARNING | Failure while loading azureml_run_type_providers. Failed to load entrypoint automl = azureml.train.automl.run:AutoMLRun._from_run_dto with exception cannot import name 'RunType'.\n",
            "Failure while loading azureml_run_type_providers. Failed to load entrypoint automl = azureml.train.automl.run:AutoMLRun._from_run_dto with exception cannot import name 'RunType'.\n",
            "2021-01-26 15:18:09,799 | root | INFO | Users's init has completed successfully\n",
            "2021-01-26 15:18:09,800 | root | INFO | Skipping middleware: dbg_model_info as it's not enabled.\n",
            "2021-01-26 15:18:09,800 | root | INFO | Skipping middleware: dbg_resource_usage as it's not enabled.\n",
            "2021-01-26 15:18:09,839 | root | INFO | Scoring timeout is found from os.environ: 60000 ms\n",
            "2021-01-26 15:23:28,880 | root | INFO | Validation Request Content-Type\n",
            "2021-01-26 15:23:28,881 | root | INFO | Scoring Timer is set to 60.0 seconds\n",
            "2021-01-26 15:23:28,926 | root | INFO | 200\n",
            "127.0.0.1 - - [26/Jan/2021:15:23:28 +0000] \"POST /score HTTP/1.0\" 200 19 \"-\" \"python-requests/2.25.1\"\n",
            "\n"
          ]
        }
      ],
      "execution_count": 50,
      "metadata": {
        "jupyter": {
          "outputs_hidden": false,
          "source_hidden": false
        },
        "nteract": {
          "transient": {
            "deleting": false
          }
        },
        "gather": {
          "logged": 1611674661400
        }
      }
    },
    {
      "cell_type": "code",
      "source": [
        "service.delete()"
      ],
      "outputs": [],
      "execution_count": 51,
      "metadata": {
        "collapsed": true,
        "jupyter": {
          "source_hidden": false,
          "outputs_hidden": false
        },
        "nteract": {
          "transient": {
            "deleting": false
          }
        },
        "gather": {
          "logged": 1611674676729
        }
      }
    }
  ],
  "metadata": {
    "kernel_info": {
      "name": "python3"
    },
    "kernelspec": {
      "name": "python3",
      "language": "python",
      "display_name": "Python 3"
    },
    "language_info": {
      "name": "python",
      "version": "3.6.9",
      "mimetype": "text/x-python",
      "codemirror_mode": {
        "name": "ipython",
        "version": 3
      },
      "pygments_lexer": "ipython3",
      "nbconvert_exporter": "python",
      "file_extension": ".py"
    },
    "nteract": {
      "version": "nteract-front-end@1.0.0"
    }
  },
  "nbformat": 4,
  "nbformat_minor": 2
}