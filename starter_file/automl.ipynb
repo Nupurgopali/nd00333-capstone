{
  "cells": [
    {
      "cell_type": "markdown",
      "source": [
        "# Automated ML\n",
        "\n",
        "TODO: Import Dependencies. In the cell below, import all the dependencies that you will need to complete the project."
      ],
      "metadata": {}
    },
    {
      "cell_type": "code",
      "source": [
        "\r\n",
        "from azureml.core import Workspace, Experiment\r\n",
        "from azureml.core.compute import ComputeTarget, AmlCompute\r\n",
        "from azureml.core.compute_target import ComputeTargetException\r\n",
        "from azureml.widgets import RunDetails\r\n",
        "from azureml.train.hyperdrive.run import PrimaryMetricGoal\r\n",
        "import os\r\n",
        "import joblib\r\n",
        "from azureml.core.dataset import Dataset\r\n",
        "from azureml.train.automl import AutoMLConfig\r\n",
        "from azureml.core.model import Model\r\n",
        "from azureml.core.webservice import AciWebservice\r\n",
        "from azureml.core.environment import Environment\r\n",
        "from azureml.core.model import InferenceConfig\r\n",
        "import requests\r\n",
        "import json\r\n",
        "import sklearn\r\n",
        "from azureml.automl.runtime.onnx_convert import OnnxConverter\r\n",
        "import pandas as pd\r\n",
        "from pandas import DataFrame"
      ],
      "outputs": [],
      "execution_count": 31,
      "metadata": {
        "gather": {
          "logged": 1611644816870
        },
        "jupyter": {
          "outputs_hidden": false,
          "source_hidden": false
        },
        "nteract": {
          "transient": {
            "deleting": false
          }
        }
      }
    },
    {
      "cell_type": "markdown",
      "source": [
        "## Dataset\n",
        "\n",
        "### Overview\n",
        "TODO: In this markdown cell, give an overview of the dataset you are using. Also mention the task you will be performing.\n",
        "\n",
        "\n",
        "TODO: Get data. In the cell below, write code to access the data you will be using in this project. Remember that the dataset needs to be external."
      ],
      "metadata": {}
    },
    {
      "cell_type": "code",
      "source": [
        "from azureml.core import Workspace, Experiment\r\n",
        "from azureml.pipeline.steps import PythonScriptStep\r\n",
        "from azureml.train.sklearn import SKLearn\r\n",
        "\r\n",
        "ws = Workspace.get(name=\"quick-starts-ws-136075\")\r\n",
        "exp = Experiment(workspace=ws, name=\"udacity-project\")\r\n",
        "\r\n",
        "print('Workspace name: ' + ws.name, \r\n",
        "      'Azure region: ' + ws.location, \r\n",
        "      'Subscription id: ' + ws.subscription_id, \r\n",
        "      )\r\n",
        "\r\n",
        "run = exp.start_logging()"
      ],
      "outputs": [
        {
          "output_type": "error",
          "ename": "ValidationError",
          "evalue": "Parameter 'resource_group_name' can not be None.",
          "traceback": [
            "\u001b[0;31m---------------------------------------------------------------------------\u001b[0m",
            "\u001b[0;31mValidationError\u001b[0m                           Traceback (most recent call last)",
            "\u001b[0;32m<ipython-input-6-61e217cc3cb0>\u001b[0m in \u001b[0;36m<module>\u001b[0;34m\u001b[0m\n\u001b[1;32m      3\u001b[0m \u001b[0;32mfrom\u001b[0m \u001b[0mazureml\u001b[0m\u001b[0;34m.\u001b[0m\u001b[0mtrain\u001b[0m\u001b[0;34m.\u001b[0m\u001b[0msklearn\u001b[0m \u001b[0;32mimport\u001b[0m \u001b[0mSKLearn\u001b[0m\u001b[0;34m\u001b[0m\u001b[0;34m\u001b[0m\u001b[0m\n\u001b[1;32m      4\u001b[0m \u001b[0;34m\u001b[0m\u001b[0m\n\u001b[0;32m----> 5\u001b[0;31m \u001b[0mws\u001b[0m \u001b[0;34m=\u001b[0m \u001b[0mWorkspace\u001b[0m\u001b[0;34m.\u001b[0m\u001b[0mget\u001b[0m\u001b[0;34m(\u001b[0m\u001b[0mname\u001b[0m\u001b[0;34m=\u001b[0m\u001b[0;34m\"quick-starts-ws-136075\"\u001b[0m\u001b[0;34m)\u001b[0m\u001b[0;34m\u001b[0m\u001b[0;34m\u001b[0m\u001b[0m\n\u001b[0m\u001b[1;32m      6\u001b[0m \u001b[0mexp\u001b[0m \u001b[0;34m=\u001b[0m \u001b[0mExperiment\u001b[0m\u001b[0;34m(\u001b[0m\u001b[0mworkspace\u001b[0m\u001b[0;34m=\u001b[0m\u001b[0mws\u001b[0m\u001b[0;34m,\u001b[0m \u001b[0mname\u001b[0m\u001b[0;34m=\u001b[0m\u001b[0;34m\"udacity-project\"\u001b[0m\u001b[0;34m)\u001b[0m\u001b[0;34m\u001b[0m\u001b[0;34m\u001b[0m\u001b[0m\n\u001b[1;32m      7\u001b[0m \u001b[0;34m\u001b[0m\u001b[0m\n",
            "\u001b[0;32m/anaconda/envs/azureml_py36/lib/python3.6/site-packages/azureml/core/workspace.py\u001b[0m in \u001b[0;36mget\u001b[0;34m(name, auth, subscription_id, resource_group)\u001b[0m\n\u001b[1;32m    579\u001b[0m             \u001b[0msubscription_id\u001b[0m\u001b[0;34m=\u001b[0m\u001b[0msubscription_id\u001b[0m\u001b[0;34m,\u001b[0m\u001b[0;34m\u001b[0m\u001b[0;34m\u001b[0m\u001b[0m\n\u001b[1;32m    580\u001b[0m             \u001b[0mresource_group_name\u001b[0m\u001b[0;34m=\u001b[0m\u001b[0mresource_group\u001b[0m\u001b[0;34m,\u001b[0m\u001b[0;34m\u001b[0m\u001b[0;34m\u001b[0m\u001b[0m\n\u001b[0;32m--> 581\u001b[0;31m             workspace_name=name)\n\u001b[0m\u001b[1;32m    582\u001b[0m         return Workspace(\n\u001b[1;32m    583\u001b[0m             \u001b[0msubscription_id\u001b[0m\u001b[0;34m,\u001b[0m\u001b[0;34m\u001b[0m\u001b[0;34m\u001b[0m\u001b[0m\n",
            "\u001b[0;32m/anaconda/envs/azureml_py36/lib/python3.6/site-packages/azureml/_project/_commands.py\u001b[0m in \u001b[0;36mget_workspace\u001b[0;34m(auth, subscription_id, resource_group_name, workspace_name)\u001b[0m\n\u001b[1;32m    379\u001b[0m             \u001b[0mworkspaces\u001b[0m\u001b[0;34m,\u001b[0m\u001b[0;34m\u001b[0m\u001b[0;34m\u001b[0m\u001b[0m\n\u001b[1;32m    380\u001b[0m             \u001b[0mresource_group_name\u001b[0m\u001b[0;34m,\u001b[0m\u001b[0;34m\u001b[0m\u001b[0;34m\u001b[0m\u001b[0m\n\u001b[0;32m--> 381\u001b[0;31m             workspace_name)\n\u001b[0m\u001b[1;32m    382\u001b[0m     \u001b[0;32mexcept\u001b[0m \u001b[0mErrorResponseWrapperException\u001b[0m \u001b[0;32mas\u001b[0m \u001b[0mresponse_exception\u001b[0m\u001b[0;34m:\u001b[0m\u001b[0;34m\u001b[0m\u001b[0;34m\u001b[0m\u001b[0m\n\u001b[1;32m    383\u001b[0m         module_logger.error(\n",
            "\u001b[0;32m/anaconda/envs/azureml_py36/lib/python3.6/site-packages/azureml/_base_sdk_common/workspace/operations/workspaces_operations.py\u001b[0m in \u001b[0;36mget\u001b[0;34m(self, resource_group_name, workspace_name, custom_headers, raw, **operation_config)\u001b[0m\n\u001b[1;32m     64\u001b[0m         path_format_arguments = {\n\u001b[1;32m     65\u001b[0m             \u001b[0;34m'subscriptionId'\u001b[0m\u001b[0;34m:\u001b[0m \u001b[0mself\u001b[0m\u001b[0;34m.\u001b[0m\u001b[0m_serialize\u001b[0m\u001b[0;34m.\u001b[0m\u001b[0murl\u001b[0m\u001b[0;34m(\u001b[0m\u001b[0;34m\"self.config.subscription_id\"\u001b[0m\u001b[0;34m,\u001b[0m \u001b[0mself\u001b[0m\u001b[0;34m.\u001b[0m\u001b[0mconfig\u001b[0m\u001b[0;34m.\u001b[0m\u001b[0msubscription_id\u001b[0m\u001b[0;34m,\u001b[0m \u001b[0;34m'str'\u001b[0m\u001b[0;34m)\u001b[0m\u001b[0;34m,\u001b[0m\u001b[0;34m\u001b[0m\u001b[0;34m\u001b[0m\u001b[0m\n\u001b[0;32m---> 66\u001b[0;31m             \u001b[0;34m'resourceGroupName'\u001b[0m\u001b[0;34m:\u001b[0m \u001b[0mself\u001b[0m\u001b[0;34m.\u001b[0m\u001b[0m_serialize\u001b[0m\u001b[0;34m.\u001b[0m\u001b[0murl\u001b[0m\u001b[0;34m(\u001b[0m\u001b[0;34m\"resource_group_name\"\u001b[0m\u001b[0;34m,\u001b[0m \u001b[0mresource_group_name\u001b[0m\u001b[0;34m,\u001b[0m \u001b[0;34m'str'\u001b[0m\u001b[0;34m)\u001b[0m\u001b[0;34m,\u001b[0m\u001b[0;34m\u001b[0m\u001b[0;34m\u001b[0m\u001b[0m\n\u001b[0m\u001b[1;32m     67\u001b[0m             \u001b[0;34m'workspaceName'\u001b[0m\u001b[0;34m:\u001b[0m \u001b[0mself\u001b[0m\u001b[0;34m.\u001b[0m\u001b[0m_serialize\u001b[0m\u001b[0;34m.\u001b[0m\u001b[0murl\u001b[0m\u001b[0;34m(\u001b[0m\u001b[0;34m\"workspace_name\"\u001b[0m\u001b[0;34m,\u001b[0m \u001b[0mworkspace_name\u001b[0m\u001b[0;34m,\u001b[0m \u001b[0;34m'str'\u001b[0m\u001b[0;34m)\u001b[0m\u001b[0;34m\u001b[0m\u001b[0;34m\u001b[0m\u001b[0m\n\u001b[1;32m     68\u001b[0m         }\n",
            "\u001b[0;32m/anaconda/envs/azureml_py36/lib/python3.6/site-packages/msrest/serialization.py\u001b[0m in \u001b[0;36murl\u001b[0;34m(self, name, data, data_type, **kwargs)\u001b[0m\n\u001b[1;32m    646\u001b[0m         \u001b[0;34m:\u001b[0m\u001b[0mraises\u001b[0m\u001b[0;34m:\u001b[0m \u001b[0mValueError\u001b[0m \u001b[0;32mif\u001b[0m \u001b[0mdata\u001b[0m \u001b[0;32mis\u001b[0m \u001b[0;32mNone\u001b[0m\u001b[0;34m\u001b[0m\u001b[0;34m\u001b[0m\u001b[0m\n\u001b[1;32m    647\u001b[0m         \"\"\"\n\u001b[0;32m--> 648\u001b[0;31m         \u001b[0mdata\u001b[0m \u001b[0;34m=\u001b[0m \u001b[0mself\u001b[0m\u001b[0;34m.\u001b[0m\u001b[0m_http_component_validation\u001b[0m\u001b[0;34m(\u001b[0m\u001b[0mdata\u001b[0m\u001b[0;34m,\u001b[0m \u001b[0mdata_type\u001b[0m\u001b[0;34m,\u001b[0m \u001b[0mname\u001b[0m\u001b[0;34m,\u001b[0m \u001b[0;34m**\u001b[0m\u001b[0mkwargs\u001b[0m\u001b[0;34m)\u001b[0m\u001b[0;34m\u001b[0m\u001b[0;34m\u001b[0m\u001b[0m\n\u001b[0m\u001b[1;32m    649\u001b[0m         \u001b[0;32mtry\u001b[0m\u001b[0;34m:\u001b[0m\u001b[0;34m\u001b[0m\u001b[0;34m\u001b[0m\u001b[0m\n\u001b[1;32m    650\u001b[0m             \u001b[0moutput\u001b[0m \u001b[0;34m=\u001b[0m \u001b[0mself\u001b[0m\u001b[0;34m.\u001b[0m\u001b[0mserialize_data\u001b[0m\u001b[0;34m(\u001b[0m\u001b[0mdata\u001b[0m\u001b[0;34m,\u001b[0m \u001b[0mdata_type\u001b[0m\u001b[0;34m,\u001b[0m \u001b[0;34m**\u001b[0m\u001b[0mkwargs\u001b[0m\u001b[0;34m)\u001b[0m\u001b[0;34m\u001b[0m\u001b[0;34m\u001b[0m\u001b[0m\n",
            "\u001b[0;32m/anaconda/envs/azureml_py36/lib/python3.6/site-packages/msrest/serialization.py\u001b[0m in \u001b[0;36m_http_component_validation\u001b[0;34m(self, data, data_type, name, **kwargs)\u001b[0m\n\u001b[1;32m    634\u001b[0m             \u001b[0;32mif\u001b[0m \u001b[0mdata\u001b[0m \u001b[0;32mis\u001b[0m \u001b[0;32mnot\u001b[0m \u001b[0;32mNone\u001b[0m \u001b[0;32mand\u001b[0m \u001b[0mdata_type\u001b[0m \u001b[0;32min\u001b[0m \u001b[0mself\u001b[0m\u001b[0;34m.\u001b[0m\u001b[0mbasic_types\u001b[0m\u001b[0;34m.\u001b[0m\u001b[0mvalues\u001b[0m\u001b[0;34m(\u001b[0m\u001b[0;34m)\u001b[0m\u001b[0;34m:\u001b[0m\u001b[0;34m\u001b[0m\u001b[0;34m\u001b[0m\u001b[0m\n\u001b[1;32m    635\u001b[0m                 \u001b[0mdata\u001b[0m \u001b[0;34m=\u001b[0m \u001b[0mself\u001b[0m\u001b[0;34m.\u001b[0m\u001b[0mserialize_basic\u001b[0m\u001b[0;34m(\u001b[0m\u001b[0mdata\u001b[0m\u001b[0;34m,\u001b[0m \u001b[0mdata_type\u001b[0m\u001b[0;34m,\u001b[0m \u001b[0;34m**\u001b[0m\u001b[0mkwargs\u001b[0m\u001b[0;34m)\u001b[0m\u001b[0;34m\u001b[0m\u001b[0;34m\u001b[0m\u001b[0m\n\u001b[0;32m--> 636\u001b[0;31m             \u001b[0mdata\u001b[0m \u001b[0;34m=\u001b[0m \u001b[0mself\u001b[0m\u001b[0;34m.\u001b[0m\u001b[0mvalidate\u001b[0m\u001b[0;34m(\u001b[0m\u001b[0mdata\u001b[0m\u001b[0;34m,\u001b[0m \u001b[0mname\u001b[0m\u001b[0;34m,\u001b[0m \u001b[0mrequired\u001b[0m\u001b[0;34m=\u001b[0m\u001b[0;32mTrue\u001b[0m\u001b[0;34m,\u001b[0m \u001b[0;34m**\u001b[0m\u001b[0mkwargs\u001b[0m\u001b[0;34m)\u001b[0m\u001b[0;34m\u001b[0m\u001b[0;34m\u001b[0m\u001b[0m\n\u001b[0m\u001b[1;32m    637\u001b[0m         \u001b[0;32mreturn\u001b[0m \u001b[0mdata\u001b[0m\u001b[0;34m\u001b[0m\u001b[0;34m\u001b[0m\u001b[0m\n\u001b[1;32m    638\u001b[0m \u001b[0;34m\u001b[0m\u001b[0m\n",
            "\u001b[0;32m/anaconda/envs/azureml_py36/lib/python3.6/site-packages/msrest/serialization.py\u001b[0m in \u001b[0;36mvalidate\u001b[0;34m(cls, data, name, **kwargs)\u001b[0m\n\u001b[1;32m    728\u001b[0m         \u001b[0mrequired\u001b[0m \u001b[0;34m=\u001b[0m \u001b[0mkwargs\u001b[0m\u001b[0;34m.\u001b[0m\u001b[0mget\u001b[0m\u001b[0;34m(\u001b[0m\u001b[0;34m'required'\u001b[0m\u001b[0;34m,\u001b[0m \u001b[0;32mFalse\u001b[0m\u001b[0;34m)\u001b[0m\u001b[0;34m\u001b[0m\u001b[0;34m\u001b[0m\u001b[0m\n\u001b[1;32m    729\u001b[0m         \u001b[0;32mif\u001b[0m \u001b[0mrequired\u001b[0m \u001b[0;32mand\u001b[0m \u001b[0mdata\u001b[0m \u001b[0;32mis\u001b[0m \u001b[0;32mNone\u001b[0m\u001b[0;34m:\u001b[0m\u001b[0;34m\u001b[0m\u001b[0;34m\u001b[0m\u001b[0m\n\u001b[0;32m--> 730\u001b[0;31m             \u001b[0;32mraise\u001b[0m \u001b[0mValidationError\u001b[0m\u001b[0;34m(\u001b[0m\u001b[0;34m\"required\"\u001b[0m\u001b[0;34m,\u001b[0m \u001b[0mname\u001b[0m\u001b[0;34m,\u001b[0m \u001b[0;32mTrue\u001b[0m\u001b[0;34m)\u001b[0m\u001b[0;34m\u001b[0m\u001b[0;34m\u001b[0m\u001b[0m\n\u001b[0m\u001b[1;32m    731\u001b[0m         \u001b[0;32melif\u001b[0m \u001b[0mdata\u001b[0m \u001b[0;32mis\u001b[0m \u001b[0;32mNone\u001b[0m\u001b[0;34m:\u001b[0m\u001b[0;34m\u001b[0m\u001b[0;34m\u001b[0m\u001b[0m\n\u001b[1;32m    732\u001b[0m             \u001b[0;32mreturn\u001b[0m\u001b[0;34m\u001b[0m\u001b[0;34m\u001b[0m\u001b[0m\n",
            "\u001b[0;31mValidationError\u001b[0m: Parameter 'resource_group_name' can not be None."
          ]
        }
      ],
      "execution_count": 6,
      "metadata": {
        "collapsed": true,
        "jupyter": {
          "source_hidden": false,
          "outputs_hidden": false
        },
        "nteract": {
          "transient": {
            "deleting": false
          }
        },
        "gather": {
          "logged": 1610788810416
        }
      }
    },
    {
      "cell_type": "code",
      "source": [
        "ws = Workspace.from_config()\n",
        "\n",
        "# choose a name for experiment\n",
        "experiment_name = 'udacity-capstone'\n",
        "\n",
        "experiment=Experiment(ws, experiment_name)"
      ],
      "outputs": [],
      "execution_count": 7,
      "metadata": {
        "gather": {
          "logged": 1611640450024
        },
        "jupyter": {
          "outputs_hidden": false,
          "source_hidden": false
        },
        "nteract": {
          "transient": {
            "deleting": false
          }
        }
      }
    },
    {
      "cell_type": "code",
      "source": [
        "from azureml.core.compute import ComputeTarget, AmlCompute\r\n",
        "\r\n",
        "# TODO: Create compute cluster\r\n",
        "\r\n",
        "# Use vm_size = \"Standard_D2_V2\" in your provisioning configuration.\r\n",
        "# max_nodes should be no greater than 4.\r\n",
        "vm_size = \"Standard_DS3_V2\"\r\n",
        "compute_name=\"compute-cluster\"\r\n",
        "# create the cluster\r\n",
        "compute_min_nodes=0\r\n",
        "compute_max_nodes=4\r\n",
        "\r\n",
        "\r\n",
        "\r\n",
        "\r\n",
        "### YOUR CODE HERE ###\r\n",
        "# Checking if  compute already exist or not  if not creating a new target\r\n",
        "if compute_name in ws.compute_targets:\r\n",
        "    compute_target = ws.compute_targets[compute_name]\r\n",
        "    if compute_target and type(compute_target) is AmlCompute:\r\n",
        "        print(\"found compute target: \" + compute_name)\r\n",
        "else:\r\n",
        "    print(\"creating new compute target...\")\r\n",
        "    provisioning_config = AmlCompute.provisioning_configuration(vm_size = vm_size,\r\n",
        "                                                                min_nodes = compute_min_nodes, \r\n",
        "                                                                max_nodes = compute_max_nodes)\r\n",
        "    # if no min node count is provided it will use the scale settings for the cluster\r\n",
        "    compute_target.wait_for_completion(show_output=True, timeout_in_minutes=20)\r\n",
        "    print(compute_target.get_status().serialize())"
      ],
      "outputs": [],
      "execution_count": 8,
      "metadata": {
        "collapsed": true,
        "jupyter": {
          "source_hidden": false,
          "outputs_hidden": false
        },
        "nteract": {
          "transient": {
            "deleting": false
          }
        },
        "gather": {
          "logged": 1611640458955
        }
      }
    },
    {
      "cell_type": "markdown",
      "source": [
        "## AutoML Configuration\n",
        "\n",
        "TODO: Explain why you chose the automl settings and cofiguration you used below."
      ],
      "metadata": {}
    },
    {
      "cell_type": "code",
      "source": [
        "\r\n",
        "from azureml.core import Workspace, Dataset\r\n",
        "\r\n",
        "subscription_id = 'b968fb36-f06a-4c76-a15f-afab68ae7667'\r\n",
        "resource_group = 'aml-quickstarts-136075'\r\n",
        "workspace_name = 'quick-starts-ws-136075'\r\n",
        "\r\n",
        "workspace = Workspace(subscription_id, resource_group, workspace_name)\r\n",
        "\r\n",
        "dataset = Dataset.get_by_name(workspace, name='cancer_dataset')\r\n",
        "dataset.to_pandas_dataframe()\r\n",
        "df=dataset.to_pandas_dataframe()"
      ],
      "outputs": [],
      "execution_count": 9,
      "metadata": {
        "collapsed": true,
        "jupyter": {
          "source_hidden": false,
          "outputs_hidden": false
        },
        "nteract": {
          "transient": {
            "deleting": false
          }
        },
        "gather": {
          "logged": 1611640511138
        }
      }
    },
    {
      "cell_type": "code",
      "source": [
        "from sklearn.preprocessing import LabelEncoder \r\n",
        "le = LabelEncoder() \r\n",
        "df['diagnosis']= le.fit_transform(df['diagnosis']) \r\n",
        "df.head()"
      ],
      "outputs": [
        {
          "output_type": "execute_result",
          "execution_count": 10,
          "data": {
            "text/plain": "         id  diagnosis  radius_mean  texture_mean  perimeter_mean  area_mean  \\\n0    842302          1        17.99         10.38          122.80     1001.0   \n1    842517          1        20.57         17.77          132.90     1326.0   \n2  84300903          1        19.69         21.25          130.00     1203.0   \n3  84348301          1        11.42         20.38           77.58      386.1   \n4  84358402          1        20.29         14.34          135.10     1297.0   \n\n   smoothness_mean  compactness_mean  concavity_mean  concave points_mean  \\\n0          0.11840           0.27760          0.3001              0.14710   \n1          0.08474           0.07864          0.0869              0.07017   \n2          0.10960           0.15990          0.1974              0.12790   \n3          0.14250           0.28390          0.2414              0.10520   \n4          0.10030           0.13280          0.1980              0.10430   \n\n   ...  radius_worst  texture_worst  perimeter_worst  area_worst  \\\n0  ...         25.38          17.33           184.60      2019.0   \n1  ...         24.99          23.41           158.80      1956.0   \n2  ...         23.57          25.53           152.50      1709.0   \n3  ...         14.91          26.50            98.87       567.7   \n4  ...         22.54          16.67           152.20      1575.0   \n\n   smoothness_worst  compactness_worst  concavity_worst  concave points_worst  \\\n0            0.1622             0.6656           0.7119                0.2654   \n1            0.1238             0.1866           0.2416                0.1860   \n2            0.1444             0.4245           0.4504                0.2430   \n3            0.2098             0.8663           0.6869                0.2575   \n4            0.1374             0.2050           0.4000                0.1625   \n\n   symmetry_worst  fractal_dimension_worst  \n0          0.4601                  0.11890  \n1          0.2750                  0.08902  \n2          0.3613                  0.08758  \n3          0.6638                  0.17300  \n4          0.2364                  0.07678  \n\n[5 rows x 32 columns]",
            "text/html": "<div>\n<style scoped>\n    .dataframe tbody tr th:only-of-type {\n        vertical-align: middle;\n    }\n\n    .dataframe tbody tr th {\n        vertical-align: top;\n    }\n\n    .dataframe thead th {\n        text-align: right;\n    }\n</style>\n<table border=\"1\" class=\"dataframe\">\n  <thead>\n    <tr style=\"text-align: right;\">\n      <th></th>\n      <th>id</th>\n      <th>diagnosis</th>\n      <th>radius_mean</th>\n      <th>texture_mean</th>\n      <th>perimeter_mean</th>\n      <th>area_mean</th>\n      <th>smoothness_mean</th>\n      <th>compactness_mean</th>\n      <th>concavity_mean</th>\n      <th>concave points_mean</th>\n      <th>...</th>\n      <th>radius_worst</th>\n      <th>texture_worst</th>\n      <th>perimeter_worst</th>\n      <th>area_worst</th>\n      <th>smoothness_worst</th>\n      <th>compactness_worst</th>\n      <th>concavity_worst</th>\n      <th>concave points_worst</th>\n      <th>symmetry_worst</th>\n      <th>fractal_dimension_worst</th>\n    </tr>\n  </thead>\n  <tbody>\n    <tr>\n      <th>0</th>\n      <td>842302</td>\n      <td>1</td>\n      <td>17.99</td>\n      <td>10.38</td>\n      <td>122.80</td>\n      <td>1001.0</td>\n      <td>0.11840</td>\n      <td>0.27760</td>\n      <td>0.3001</td>\n      <td>0.14710</td>\n      <td>...</td>\n      <td>25.38</td>\n      <td>17.33</td>\n      <td>184.60</td>\n      <td>2019.0</td>\n      <td>0.1622</td>\n      <td>0.6656</td>\n      <td>0.7119</td>\n      <td>0.2654</td>\n      <td>0.4601</td>\n      <td>0.11890</td>\n    </tr>\n    <tr>\n      <th>1</th>\n      <td>842517</td>\n      <td>1</td>\n      <td>20.57</td>\n      <td>17.77</td>\n      <td>132.90</td>\n      <td>1326.0</td>\n      <td>0.08474</td>\n      <td>0.07864</td>\n      <td>0.0869</td>\n      <td>0.07017</td>\n      <td>...</td>\n      <td>24.99</td>\n      <td>23.41</td>\n      <td>158.80</td>\n      <td>1956.0</td>\n      <td>0.1238</td>\n      <td>0.1866</td>\n      <td>0.2416</td>\n      <td>0.1860</td>\n      <td>0.2750</td>\n      <td>0.08902</td>\n    </tr>\n    <tr>\n      <th>2</th>\n      <td>84300903</td>\n      <td>1</td>\n      <td>19.69</td>\n      <td>21.25</td>\n      <td>130.00</td>\n      <td>1203.0</td>\n      <td>0.10960</td>\n      <td>0.15990</td>\n      <td>0.1974</td>\n      <td>0.12790</td>\n      <td>...</td>\n      <td>23.57</td>\n      <td>25.53</td>\n      <td>152.50</td>\n      <td>1709.0</td>\n      <td>0.1444</td>\n      <td>0.4245</td>\n      <td>0.4504</td>\n      <td>0.2430</td>\n      <td>0.3613</td>\n      <td>0.08758</td>\n    </tr>\n    <tr>\n      <th>3</th>\n      <td>84348301</td>\n      <td>1</td>\n      <td>11.42</td>\n      <td>20.38</td>\n      <td>77.58</td>\n      <td>386.1</td>\n      <td>0.14250</td>\n      <td>0.28390</td>\n      <td>0.2414</td>\n      <td>0.10520</td>\n      <td>...</td>\n      <td>14.91</td>\n      <td>26.50</td>\n      <td>98.87</td>\n      <td>567.7</td>\n      <td>0.2098</td>\n      <td>0.8663</td>\n      <td>0.6869</td>\n      <td>0.2575</td>\n      <td>0.6638</td>\n      <td>0.17300</td>\n    </tr>\n    <tr>\n      <th>4</th>\n      <td>84358402</td>\n      <td>1</td>\n      <td>20.29</td>\n      <td>14.34</td>\n      <td>135.10</td>\n      <td>1297.0</td>\n      <td>0.10030</td>\n      <td>0.13280</td>\n      <td>0.1980</td>\n      <td>0.10430</td>\n      <td>...</td>\n      <td>22.54</td>\n      <td>16.67</td>\n      <td>152.20</td>\n      <td>1575.0</td>\n      <td>0.1374</td>\n      <td>0.2050</td>\n      <td>0.4000</td>\n      <td>0.1625</td>\n      <td>0.2364</td>\n      <td>0.07678</td>\n    </tr>\n  </tbody>\n</table>\n<p>5 rows × 32 columns</p>\n</div>"
          },
          "metadata": {}
        }
      ],
      "execution_count": 10,
      "metadata": {
        "collapsed": true,
        "jupyter": {
          "source_hidden": false,
          "outputs_hidden": false
        },
        "nteract": {
          "transient": {
            "deleting": false
          }
        },
        "gather": {
          "logged": 1611640516637
        }
      }
    },
    {
      "cell_type": "markdown",
      "source": [
        "1:M 0:B"
      ],
      "metadata": {
        "nteract": {
          "transient": {
            "deleting": false
          }
        }
      }
    },
    {
      "cell_type": "code",
      "source": [
        "X=df.iloc[ :,1:32]\r\n",
        "y=df.iloc[:,1]"
      ],
      "outputs": [],
      "execution_count": 11,
      "metadata": {
        "collapsed": true,
        "jupyter": {
          "source_hidden": false,
          "outputs_hidden": false
        },
        "nteract": {
          "transient": {
            "deleting": false
          }
        },
        "gather": {
          "logged": 1611640525211
        }
      }
    },
    {
      "cell_type": "code",
      "source": [
        "X"
      ],
      "outputs": [
        {
          "output_type": "execute_result",
          "execution_count": 12,
          "data": {
            "text/plain": "     diagnosis  radius_mean  texture_mean  perimeter_mean  area_mean  \\\n0            1        17.99         10.38          122.80     1001.0   \n1            1        20.57         17.77          132.90     1326.0   \n2            1        19.69         21.25          130.00     1203.0   \n3            1        11.42         20.38           77.58      386.1   \n4            1        20.29         14.34          135.10     1297.0   \n..         ...          ...           ...             ...        ...   \n564          1        21.56         22.39          142.00     1479.0   \n565          1        20.13         28.25          131.20     1261.0   \n566          1        16.60         28.08          108.30      858.1   \n567          1        20.60         29.33          140.10     1265.0   \n568          0         7.76         24.54           47.92      181.0   \n\n     smoothness_mean  compactness_mean  concavity_mean  concave points_mean  \\\n0            0.11840           0.27760         0.30010              0.14710   \n1            0.08474           0.07864         0.08690              0.07017   \n2            0.10960           0.15990         0.19740              0.12790   \n3            0.14250           0.28390         0.24140              0.10520   \n4            0.10030           0.13280         0.19800              0.10430   \n..               ...               ...             ...                  ...   \n564          0.11100           0.11590         0.24390              0.13890   \n565          0.09780           0.10340         0.14400              0.09791   \n566          0.08455           0.10230         0.09251              0.05302   \n567          0.11780           0.27700         0.35140              0.15200   \n568          0.05263           0.04362         0.00000              0.00000   \n\n     symmetry_mean  ...  radius_worst  texture_worst  perimeter_worst  \\\n0           0.2419  ...        25.380          17.33           184.60   \n1           0.1812  ...        24.990          23.41           158.80   \n2           0.2069  ...        23.570          25.53           152.50   \n3           0.2597  ...        14.910          26.50            98.87   \n4           0.1809  ...        22.540          16.67           152.20   \n..             ...  ...           ...            ...              ...   \n564         0.1726  ...        25.450          26.40           166.10   \n565         0.1752  ...        23.690          38.25           155.00   \n566         0.1590  ...        18.980          34.12           126.70   \n567         0.2397  ...        25.740          39.42           184.60   \n568         0.1587  ...         9.456          30.37            59.16   \n\n     area_worst  smoothness_worst  compactness_worst  concavity_worst  \\\n0        2019.0           0.16220            0.66560           0.7119   \n1        1956.0           0.12380            0.18660           0.2416   \n2        1709.0           0.14440            0.42450           0.4504   \n3         567.7           0.20980            0.86630           0.6869   \n4        1575.0           0.13740            0.20500           0.4000   \n..          ...               ...                ...              ...   \n564      2027.0           0.14100            0.21130           0.4107   \n565      1731.0           0.11660            0.19220           0.3215   \n566      1124.0           0.11390            0.30940           0.3403   \n567      1821.0           0.16500            0.86810           0.9387   \n568       268.6           0.08996            0.06444           0.0000   \n\n     concave points_worst  symmetry_worst  fractal_dimension_worst  \n0                  0.2654          0.4601                  0.11890  \n1                  0.1860          0.2750                  0.08902  \n2                  0.2430          0.3613                  0.08758  \n3                  0.2575          0.6638                  0.17300  \n4                  0.1625          0.2364                  0.07678  \n..                    ...             ...                      ...  \n564                0.2216          0.2060                  0.07115  \n565                0.1628          0.2572                  0.06637  \n566                0.1418          0.2218                  0.07820  \n567                0.2650          0.4087                  0.12400  \n568                0.0000          0.2871                  0.07039  \n\n[569 rows x 31 columns]",
            "text/html": "<div>\n<style scoped>\n    .dataframe tbody tr th:only-of-type {\n        vertical-align: middle;\n    }\n\n    .dataframe tbody tr th {\n        vertical-align: top;\n    }\n\n    .dataframe thead th {\n        text-align: right;\n    }\n</style>\n<table border=\"1\" class=\"dataframe\">\n  <thead>\n    <tr style=\"text-align: right;\">\n      <th></th>\n      <th>diagnosis</th>\n      <th>radius_mean</th>\n      <th>texture_mean</th>\n      <th>perimeter_mean</th>\n      <th>area_mean</th>\n      <th>smoothness_mean</th>\n      <th>compactness_mean</th>\n      <th>concavity_mean</th>\n      <th>concave points_mean</th>\n      <th>symmetry_mean</th>\n      <th>...</th>\n      <th>radius_worst</th>\n      <th>texture_worst</th>\n      <th>perimeter_worst</th>\n      <th>area_worst</th>\n      <th>smoothness_worst</th>\n      <th>compactness_worst</th>\n      <th>concavity_worst</th>\n      <th>concave points_worst</th>\n      <th>symmetry_worst</th>\n      <th>fractal_dimension_worst</th>\n    </tr>\n  </thead>\n  <tbody>\n    <tr>\n      <th>0</th>\n      <td>1</td>\n      <td>17.99</td>\n      <td>10.38</td>\n      <td>122.80</td>\n      <td>1001.0</td>\n      <td>0.11840</td>\n      <td>0.27760</td>\n      <td>0.30010</td>\n      <td>0.14710</td>\n      <td>0.2419</td>\n      <td>...</td>\n      <td>25.380</td>\n      <td>17.33</td>\n      <td>184.60</td>\n      <td>2019.0</td>\n      <td>0.16220</td>\n      <td>0.66560</td>\n      <td>0.7119</td>\n      <td>0.2654</td>\n      <td>0.4601</td>\n      <td>0.11890</td>\n    </tr>\n    <tr>\n      <th>1</th>\n      <td>1</td>\n      <td>20.57</td>\n      <td>17.77</td>\n      <td>132.90</td>\n      <td>1326.0</td>\n      <td>0.08474</td>\n      <td>0.07864</td>\n      <td>0.08690</td>\n      <td>0.07017</td>\n      <td>0.1812</td>\n      <td>...</td>\n      <td>24.990</td>\n      <td>23.41</td>\n      <td>158.80</td>\n      <td>1956.0</td>\n      <td>0.12380</td>\n      <td>0.18660</td>\n      <td>0.2416</td>\n      <td>0.1860</td>\n      <td>0.2750</td>\n      <td>0.08902</td>\n    </tr>\n    <tr>\n      <th>2</th>\n      <td>1</td>\n      <td>19.69</td>\n      <td>21.25</td>\n      <td>130.00</td>\n      <td>1203.0</td>\n      <td>0.10960</td>\n      <td>0.15990</td>\n      <td>0.19740</td>\n      <td>0.12790</td>\n      <td>0.2069</td>\n      <td>...</td>\n      <td>23.570</td>\n      <td>25.53</td>\n      <td>152.50</td>\n      <td>1709.0</td>\n      <td>0.14440</td>\n      <td>0.42450</td>\n      <td>0.4504</td>\n      <td>0.2430</td>\n      <td>0.3613</td>\n      <td>0.08758</td>\n    </tr>\n    <tr>\n      <th>3</th>\n      <td>1</td>\n      <td>11.42</td>\n      <td>20.38</td>\n      <td>77.58</td>\n      <td>386.1</td>\n      <td>0.14250</td>\n      <td>0.28390</td>\n      <td>0.24140</td>\n      <td>0.10520</td>\n      <td>0.2597</td>\n      <td>...</td>\n      <td>14.910</td>\n      <td>26.50</td>\n      <td>98.87</td>\n      <td>567.7</td>\n      <td>0.20980</td>\n      <td>0.86630</td>\n      <td>0.6869</td>\n      <td>0.2575</td>\n      <td>0.6638</td>\n      <td>0.17300</td>\n    </tr>\n    <tr>\n      <th>4</th>\n      <td>1</td>\n      <td>20.29</td>\n      <td>14.34</td>\n      <td>135.10</td>\n      <td>1297.0</td>\n      <td>0.10030</td>\n      <td>0.13280</td>\n      <td>0.19800</td>\n      <td>0.10430</td>\n      <td>0.1809</td>\n      <td>...</td>\n      <td>22.540</td>\n      <td>16.67</td>\n      <td>152.20</td>\n      <td>1575.0</td>\n      <td>0.13740</td>\n      <td>0.20500</td>\n      <td>0.4000</td>\n      <td>0.1625</td>\n      <td>0.2364</td>\n      <td>0.07678</td>\n    </tr>\n    <tr>\n      <th>...</th>\n      <td>...</td>\n      <td>...</td>\n      <td>...</td>\n      <td>...</td>\n      <td>...</td>\n      <td>...</td>\n      <td>...</td>\n      <td>...</td>\n      <td>...</td>\n      <td>...</td>\n      <td>...</td>\n      <td>...</td>\n      <td>...</td>\n      <td>...</td>\n      <td>...</td>\n      <td>...</td>\n      <td>...</td>\n      <td>...</td>\n      <td>...</td>\n      <td>...</td>\n      <td>...</td>\n    </tr>\n    <tr>\n      <th>564</th>\n      <td>1</td>\n      <td>21.56</td>\n      <td>22.39</td>\n      <td>142.00</td>\n      <td>1479.0</td>\n      <td>0.11100</td>\n      <td>0.11590</td>\n      <td>0.24390</td>\n      <td>0.13890</td>\n      <td>0.1726</td>\n      <td>...</td>\n      <td>25.450</td>\n      <td>26.40</td>\n      <td>166.10</td>\n      <td>2027.0</td>\n      <td>0.14100</td>\n      <td>0.21130</td>\n      <td>0.4107</td>\n      <td>0.2216</td>\n      <td>0.2060</td>\n      <td>0.07115</td>\n    </tr>\n    <tr>\n      <th>565</th>\n      <td>1</td>\n      <td>20.13</td>\n      <td>28.25</td>\n      <td>131.20</td>\n      <td>1261.0</td>\n      <td>0.09780</td>\n      <td>0.10340</td>\n      <td>0.14400</td>\n      <td>0.09791</td>\n      <td>0.1752</td>\n      <td>...</td>\n      <td>23.690</td>\n      <td>38.25</td>\n      <td>155.00</td>\n      <td>1731.0</td>\n      <td>0.11660</td>\n      <td>0.19220</td>\n      <td>0.3215</td>\n      <td>0.1628</td>\n      <td>0.2572</td>\n      <td>0.06637</td>\n    </tr>\n    <tr>\n      <th>566</th>\n      <td>1</td>\n      <td>16.60</td>\n      <td>28.08</td>\n      <td>108.30</td>\n      <td>858.1</td>\n      <td>0.08455</td>\n      <td>0.10230</td>\n      <td>0.09251</td>\n      <td>0.05302</td>\n      <td>0.1590</td>\n      <td>...</td>\n      <td>18.980</td>\n      <td>34.12</td>\n      <td>126.70</td>\n      <td>1124.0</td>\n      <td>0.11390</td>\n      <td>0.30940</td>\n      <td>0.3403</td>\n      <td>0.1418</td>\n      <td>0.2218</td>\n      <td>0.07820</td>\n    </tr>\n    <tr>\n      <th>567</th>\n      <td>1</td>\n      <td>20.60</td>\n      <td>29.33</td>\n      <td>140.10</td>\n      <td>1265.0</td>\n      <td>0.11780</td>\n      <td>0.27700</td>\n      <td>0.35140</td>\n      <td>0.15200</td>\n      <td>0.2397</td>\n      <td>...</td>\n      <td>25.740</td>\n      <td>39.42</td>\n      <td>184.60</td>\n      <td>1821.0</td>\n      <td>0.16500</td>\n      <td>0.86810</td>\n      <td>0.9387</td>\n      <td>0.2650</td>\n      <td>0.4087</td>\n      <td>0.12400</td>\n    </tr>\n    <tr>\n      <th>568</th>\n      <td>0</td>\n      <td>7.76</td>\n      <td>24.54</td>\n      <td>47.92</td>\n      <td>181.0</td>\n      <td>0.05263</td>\n      <td>0.04362</td>\n      <td>0.00000</td>\n      <td>0.00000</td>\n      <td>0.1587</td>\n      <td>...</td>\n      <td>9.456</td>\n      <td>30.37</td>\n      <td>59.16</td>\n      <td>268.6</td>\n      <td>0.08996</td>\n      <td>0.06444</td>\n      <td>0.0000</td>\n      <td>0.0000</td>\n      <td>0.2871</td>\n      <td>0.07039</td>\n    </tr>\n  </tbody>\n</table>\n<p>569 rows × 31 columns</p>\n</div>"
          },
          "metadata": {}
        }
      ],
      "execution_count": 12,
      "metadata": {
        "collapsed": true,
        "jupyter": {
          "source_hidden": false,
          "outputs_hidden": false
        },
        "nteract": {
          "transient": {
            "deleting": false
          }
        },
        "gather": {
          "logged": 1611640528937
        }
      }
    },
    {
      "cell_type": "code",
      "source": [
        "y"
      ],
      "outputs": [
        {
          "output_type": "execute_result",
          "execution_count": 13,
          "data": {
            "text/plain": "0      1\n1      1\n2      1\n3      1\n4      1\n      ..\n564    1\n565    1\n566    1\n567    1\n568    0\nName: diagnosis, Length: 569, dtype: int64"
          },
          "metadata": {}
        }
      ],
      "execution_count": 13,
      "metadata": {
        "collapsed": true,
        "jupyter": {
          "source_hidden": false,
          "outputs_hidden": false
        },
        "nteract": {
          "transient": {
            "deleting": false
          }
        },
        "gather": {
          "logged": 1611640534725
        }
      }
    },
    {
      "cell_type": "code",
      "source": [
        "from azureml.train.automl import AutoMLConfig\n",
        "# TODO: Put your automl settings here\n",
        "#automl_settings = {}\n",
        "\n",
        "# TODO: Put your automl config here\n",
        "automl_config = AutoMLConfig(experiment_timeout_minutes=30,\n",
        "    task= 'classification',\n",
        "    primary_metric= 'accuracy',\n",
        "    training_data= X,\n",
        "    label_column_name= 'diagnosis',\n",
        "    n_cross_validations= 5)"
      ],
      "outputs": [],
      "execution_count": 14,
      "metadata": {
        "gather": {
          "logged": 1611640539461
        },
        "jupyter": {
          "outputs_hidden": false,
          "source_hidden": false
        },
        "nteract": {
          "transient": {
            "deleting": false
          }
        }
      }
    },
    {
      "cell_type": "code",
      "source": [
        "# TODO: Submit your experiment\n",
        "remote_run = experiment.submit(automl_config,show_output=True)"
      ],
      "outputs": [
        {
          "output_type": "stream",
          "name": "stdout",
          "text": [
            "No run_configuration provided, running on local with default configuration\n",
            "Running on local machine\n",
            "Parent Run ID: AutoML_68e8e59f-94d3-404f-8a26-0d72b5307a69\n",
            "\n",
            "Current status: DatasetEvaluation. Gathering dataset statistics.\n",
            "Current status: FeaturesGeneration. Generating features for the dataset.\n",
            "Current status: DatasetFeaturization. Beginning to fit featurizers and featurize the dataset.\n",
            "Current status: DatasetFeaturizationCompleted. Completed fit featurizers and featurizing the dataset.\n",
            "Current status: DatasetCrossValidationSplit. Generating individually featurized CV splits.\n",
            "\n",
            "****************************************************************************************************\n",
            "DATA GUARDRAILS: \n",
            "\n",
            "TYPE:         Class balancing detection\n",
            "STATUS:       PASSED\n",
            "DESCRIPTION:  Your inputs were analyzed, and all classes are balanced in your training data.\n",
            "              Learn more about imbalanced data: https://aka.ms/AutomatedMLImbalancedData\n",
            "\n",
            "****************************************************************************************************\n",
            "\n",
            "TYPE:         Missing feature values imputation\n",
            "STATUS:       PASSED\n",
            "DESCRIPTION:  No feature missing values were detected in the training data.\n",
            "              Learn more about missing value imputation: https://aka.ms/AutomatedMLFeaturization\n",
            "\n",
            "****************************************************************************************************\n",
            "\n",
            "TYPE:         High cardinality feature detection\n",
            "STATUS:       PASSED\n",
            "DESCRIPTION:  Your inputs were analyzed, and no high cardinality features were detected.\n",
            "              Learn more about high cardinality feature handling: https://aka.ms/AutomatedMLFeaturization\n",
            "\n",
            "****************************************************************************************************\n",
            "Current status: ModelSelection. Beginning model selection.\n",
            "\n",
            "****************************************************************************************************\n",
            "ITERATION: The iteration being evaluated.\n",
            "PIPELINE: A summary description of the pipeline being evaluated.\n",
            "DURATION: Time taken for the current iteration.\n",
            "METRIC: The result of computing score on the fitted pipeline.\n",
            "BEST: The best observed score thus far.\n",
            "****************************************************************************************************\n",
            "\n",
            " ITERATION   PIPELINE                                       DURATION      METRIC      BEST\n",
            "         0   MaxAbsScaler LightGBM                          0:00:34       0.9701    0.9701\n",
            "         1   MaxAbsScaler XGBoostClassifier                 0:00:31       0.9595    0.9701\n",
            "         2   MinMaxScaler RandomForest                      0:00:30       0.9490    0.9701\n",
            "         3   MinMaxScaler RandomForest                      0:00:30       0.9297    0.9701\n",
            "         4   MinMaxScaler RandomForest                      0:00:25       0.9578    0.9701\n",
            "         5   MinMaxScaler SVM                               0:00:26       0.9631    0.9701\n",
            "         6   MaxAbsScaler GradientBoosting                  0:00:34       0.9578    0.9701\n",
            "         7   StandardScalerWrapper RandomForest             0:00:26       0.9454    0.9701\n",
            "         8   SparseNormalizer LightGBM                      0:00:26       0.9525    0.9701\n",
            "         9   SparseNormalizer XGBoostClassifier             0:00:31       0.9595    0.9701\n",
            "        10   RobustScaler RandomForest                      0:00:25       0.9402    0.9701\n",
            "        11   MaxAbsScaler LightGBM                          0:00:27       0.9490    0.9701\n",
            "        12   SparseNormalizer XGBoostClassifier             0:00:31       0.9525    0.9701\n",
            "        13   StandardScalerWrapper ExtremeRandomTrees       0:00:33       0.9420    0.9701\n",
            "        14   SparseNormalizer XGBoostClassifier             0:00:27       0.9666    0.9701\n",
            "        15   StandardScalerWrapper XGBoostClassifier        0:00:31       0.9455    0.9701\n",
            "        16   RobustScaler ExtremeRandomTrees                0:00:31       0.9455    0.9701\n",
            "        17   SparseNormalizer XGBoostClassifier             0:00:25       0.9331    0.9701\n",
            "        18   MinMaxScaler RandomForest                      0:00:31       0.9367    0.9701\n",
            "        19   SparseNormalizer XGBoostClassifier             0:00:27       0.9648    0.9701\n",
            "        20   MaxAbsScaler ExtremeRandomTrees                0:00:28       0.9472    0.9701\n",
            "        21   RobustScaler KNN                               0:00:31       0.9331    0.9701\n",
            "        22   MinMaxScaler LogisticRegression                0:00:26       0.9736    0.9736\n",
            "        23   RobustScaler LogisticRegression                0:00:27       0.9701    0.9736\n",
            "        24   StandardScalerWrapper LogisticRegression       0:00:39       0.9736    0.9736\n",
            "        25   MinMaxScaler LogisticRegression                0:00:31       0.9385    0.9736\n",
            "        26   StandardScalerWrapper LogisticRegression       0:00:32       0.9824    0.9824\n",
            "        27   MinMaxScaler LogisticRegression                0:00:26       0.9754    0.9824\n",
            "        28   SparseNormalizer XGBoostClassifier             0:00:27       0.9683    0.9824\n",
            "        29   MaxAbsScaler LogisticRegression                0:00:30       0.9719    0.9824\n",
            "        30   StandardScalerWrapper LogisticRegression       0:00:26       0.9701    0.9824\n",
            "        31   SparseNormalizer XGBoostClassifier             0:00:26       0.9578    0.9824\n",
            "        32   MinMaxScaler LogisticRegression                0:00:31       0.9736    0.9824\n",
            "        33   MinMaxScaler LogisticRegression                0:00:26       0.9824    0.9824\n",
            "        34   StandardScalerWrapper XGBoostClassifier        0:04:30       0.9596    0.9824\n",
            "        35   PCA LogisticRegression                         0:00:33       0.9068    0.9824\n",
            "        36   StandardScalerWrapper LogisticRegression       0:00:31       0.9841    0.9841\n",
            "        37   MinMaxScaler LogisticRegression                0:00:32       0.9806    0.9841\n",
            "        38   StandardScalerWrapper LightGBM                 0:00:33       0.9666    0.9841\n",
            "        39   StandardScalerWrapper XGBoostClassifier        0:00:32       0.9560    0.9841\n",
            "        40   StandardScalerWrapper LogisticRegression       0:00:25       0.9560    0.9841\n",
            "        41   StandardScalerWrapper SGD                      0:00:30       0.9841    0.9841\n",
            "        42   StandardScalerWrapper LogisticRegression       0:00:25       0.9824    0.9841\n",
            "        43   MaxAbsScaler LightGBM                          0:00:30       0.9613    0.9841\n",
            "        44   MaxAbsScaler LogisticRegression                0:00:30       0.9736    0.9841\n",
            "        45   MaxAbsScaler LogisticRegression                0:00:30       0.9736    0.9841\n",
            "        46   MaxAbsScaler LogisticRegression                0:00:30       0.9736    0.9841\n",
            "        47   MaxAbsScaler LogisticRegression                0:00:26       0.9789    0.9841\n",
            "        48   SparseNormalizer XGBoostClassifier             0:00:25       0.9666    0.9841\n",
            "        49   StandardScalerWrapper XGBoostClassifier        0:00:31       0.9560    0.9841\n",
            "        50   VotingEnsemble                                 0:00:40       0.9877    0.9877\n",
            "        51   StackEnsemble                                  0:00:43       0.9859    0.9877\n",
            "Stopping criteria reached at iteration 52. Ending experiment.\n",
            "****************************************************************************************************\n",
            "Current status: BestRunExplainModel. Best run model explanations started\n",
            "Current status: ModelExplanationDataSetSetup. Model explanations data setup completed\n",
            "Current status: PickSurrogateModel. Choosing LightGBM as the surrogate model for explanations\n",
            "Current status: EngineeredFeatureExplanations. Computation of engineered features started\n",
            "Current status: EngineeredFeatureExplanations. Computation of engineered features completed\n",
            "Current status: RawFeaturesExplanations. Computation of raw features started\n",
            "Current status: RawFeaturesExplanations. Computation of raw features completed\n",
            "Current status: BestRunExplainModel. Best run model explanations completed\n",
            "****************************************************************************************************\n"
          ]
        }
      ],
      "execution_count": 15,
      "metadata": {
        "gather": {
          "logged": 1611642731308
        },
        "jupyter": {
          "outputs_hidden": false,
          "source_hidden": false
        },
        "nteract": {
          "transient": {
            "deleting": false
          }
        }
      }
    },
    {
      "cell_type": "markdown",
      "source": [
        "## Run Details\n",
        "\n",
        "OPTIONAL: Write about the different models trained and their performance. Why do you think some models did better than others?\n",
        "\n",
        "TODO: In the cell below, use the `RunDetails` widget to show the different experiments."
      ],
      "metadata": {}
    },
    {
      "cell_type": "code",
      "source": [
        "from azureml.widgets import RunDetails\r\n",
        "RunDetails(remote_run).show()"
      ],
      "outputs": [
        {
          "output_type": "display_data",
          "data": {
            "text/plain": "_AutoMLWidget(widget_settings={'childWidgetDisplay': 'popup', 'send_telemetry': False, 'log_level': 'INFO', 's…",
            "application/vnd.jupyter.widget-view+json": {
              "version_major": 2,
              "version_minor": 0,
              "model_id": "441becbefff64c74974897d322072d0c"
            }
          },
          "metadata": {}
        },
        {
          "output_type": "display_data",
          "data": {
            "application/aml.mini.widget.v1": "{\"status\": \"Completed\", \"workbench_run_details_uri\": \"https://ml.azure.com/experiments/udacity-capstone/runs/AutoML_68e8e59f-94d3-404f-8a26-0d72b5307a69?wsid=/subscriptions/b968fb36-f06a-4c76-a15f-afab68ae7667/resourcegroups/aml-quickstarts-136075/workspaces/quick-starts-ws-136075\", \"run_id\": \"AutoML_68e8e59f-94d3-404f-8a26-0d72b5307a69\", \"run_properties\": {\"run_id\": \"AutoML_68e8e59f-94d3-404f-8a26-0d72b5307a69\", \"created_utc\": \"2021-01-26T05:56:26.490361Z\", \"properties\": {\"num_iterations\": \"1000\", \"training_type\": \"TrainFull\", \"acquisition_function\": \"EI\", \"primary_metric\": \"accuracy\", \"train_split\": \"0\", \"acquisition_parameter\": \"0\", \"num_cross_validation\": \"5\", \"target\": \"local\", \"AMLSettingsJsonString\": \"{\\\"path\\\":null,\\\"name\\\":\\\"udacity-capstone\\\",\\\"subscription_id\\\":\\\"b968fb36-f06a-4c76-a15f-afab68ae7667\\\",\\\"resource_group\\\":\\\"aml-quickstarts-136075\\\",\\\"workspace_name\\\":\\\"quick-starts-ws-136075\\\",\\\"region\\\":\\\"southcentralus\\\",\\\"compute_target\\\":\\\"local\\\",\\\"spark_service\\\":null,\\\"azure_service\\\":\\\"Microsoft.AzureNotebookVM\\\",\\\"many_models\\\":false,\\\"pipeline_fetch_max_batch_size\\\":1,\\\"iterations\\\":1000,\\\"primary_metric\\\":\\\"accuracy\\\",\\\"task_type\\\":\\\"classification\\\",\\\"data_script\\\":null,\\\"validation_size\\\":0.0,\\\"n_cross_validations\\\":5,\\\"y_min\\\":null,\\\"y_max\\\":null,\\\"num_classes\\\":2,\\\"featurization\\\":\\\"auto\\\",\\\"_ignore_package_version_incompatibilities\\\":false,\\\"is_timeseries\\\":false,\\\"max_cores_per_iteration\\\":1,\\\"max_concurrent_iterations\\\":1,\\\"iteration_timeout_minutes\\\":null,\\\"mem_in_mb\\\":null,\\\"enforce_time_on_windows\\\":false,\\\"experiment_timeout_minutes\\\":30,\\\"experiment_exit_score\\\":null,\\\"whitelist_models\\\":null,\\\"blacklist_algos\\\":[\\\"TensorFlowLinearClassifier\\\",\\\"TensorFlowDNN\\\"],\\\"supported_models\\\":[\\\"BernoulliNaiveBayes\\\",\\\"DecisionTree\\\",\\\"LogisticRegression\\\",\\\"TensorFlowLinearClassifier\\\",\\\"SVM\\\",\\\"MultinomialNaiveBayes\\\",\\\"XGBoostClassifier\\\",\\\"GradientBoosting\\\",\\\"TensorFlowDNN\\\",\\\"KNN\\\",\\\"LinearSVM\\\",\\\"ExtremeRandomTrees\\\",\\\"LightGBM\\\",\\\"RandomForest\\\",\\\"SGD\\\",\\\"AveragedPerceptronClassifier\\\"],\\\"auto_blacklist\\\":true,\\\"blacklist_samples_reached\\\":false,\\\"exclude_nan_labels\\\":true,\\\"verbosity\\\":20,\\\"_debug_log\\\":\\\"automl.log\\\",\\\"show_warnings\\\":false,\\\"model_explainability\\\":true,\\\"service_url\\\":null,\\\"sdk_url\\\":null,\\\"sdk_packages\\\":null,\\\"enable_onnx_compatible_models\\\":false,\\\"enable_split_onnx_featurizer_estimator_models\\\":false,\\\"vm_type\\\":null,\\\"telemetry_verbosity\\\":20,\\\"send_telemetry\\\":true,\\\"enable_dnn\\\":false,\\\"scenario\\\":\\\"SDK-1.13.0\\\",\\\"environment_label\\\":null,\\\"force_text_dnn\\\":false,\\\"enable_feature_sweeping\\\":true,\\\"enable_early_stopping\\\":false,\\\"early_stopping_n_iters\\\":10,\\\"metrics\\\":null,\\\"enable_ensembling\\\":true,\\\"enable_stack_ensembling\\\":true,\\\"ensemble_iterations\\\":15,\\\"enable_tf\\\":false,\\\"enable_subsampling\\\":null,\\\"subsample_seed\\\":null,\\\"enable_nimbusml\\\":false,\\\"enable_streaming\\\":false,\\\"force_streaming\\\":false,\\\"track_child_runs\\\":true,\\\"allowed_private_models\\\":[],\\\"label_column_name\\\":\\\"diagnosis\\\",\\\"weight_column_name\\\":null,\\\"cv_split_column_names\\\":null,\\\"enable_local_managed\\\":false,\\\"_local_managed_run_id\\\":null,\\\"cost_mode\\\":1,\\\"lag_length\\\":0,\\\"metric_operation\\\":\\\"maximize\\\",\\\"preprocess\\\":true}\", \"DataPrepJsonString\": null, \"EnableSubsampling\": null, \"runTemplate\": \"AutoML\", \"azureml.runsource\": \"automl\", \"display_task_type\": \"classification\", \"dependencies_versions\": \"{\\\"azureml-widgets\\\": \\\"1.20.0\\\", \\\"azureml-train\\\": \\\"1.20.0\\\", \\\"azureml-train-restclients-hyperdrive\\\": \\\"1.20.0\\\", \\\"azureml-train-core\\\": \\\"1.20.0\\\", \\\"azureml-train-automl\\\": \\\"1.20.0\\\", \\\"azureml-train-automl-runtime\\\": \\\"1.20.0\\\", \\\"azureml-train-automl-client\\\": \\\"1.20.0\\\", \\\"azureml-tensorboard\\\": \\\"1.20.0\\\", \\\"azureml-telemetry\\\": \\\"1.20.0\\\", \\\"azureml-sdk\\\": \\\"1.20.0\\\", \\\"azureml-samples\\\": \\\"0+unknown\\\", \\\"azureml-pipeline\\\": \\\"1.20.0\\\", \\\"azureml-pipeline-steps\\\": \\\"1.20.0\\\", \\\"azureml-pipeline-core\\\": \\\"1.20.0\\\", \\\"azureml-opendatasets\\\": \\\"1.20.0\\\", \\\"azureml-model-management-sdk\\\": \\\"1.0.1b6.post1\\\", \\\"azureml-mlflow\\\": \\\"1.20.0.post1\\\", \\\"azureml-interpret\\\": \\\"1.20.0\\\", \\\"azureml-explain-model\\\": \\\"1.20.0\\\", \\\"azureml-defaults\\\": \\\"1.20.0\\\", \\\"azureml-dataset-runtime\\\": \\\"1.20.0\\\", \\\"azureml-dataprep\\\": \\\"2.7.3\\\", \\\"azureml-dataprep-rslex\\\": \\\"1.5.0\\\", \\\"azureml-dataprep-native\\\": \\\"27.0.0\\\", \\\"azureml-datadrift\\\": \\\"1.20.0\\\", \\\"azureml-core\\\": \\\"1.20.0\\\", \\\"azureml-contrib-services\\\": \\\"1.20.0\\\", \\\"azureml-contrib-server\\\": \\\"1.20.0\\\", \\\"azureml-contrib-reinforcementlearning\\\": \\\"1.20.0\\\", \\\"azureml-contrib-pipeline-steps\\\": \\\"1.20.0\\\", \\\"azureml-contrib-notebook\\\": \\\"1.20.0\\\", \\\"azureml-contrib-interpret\\\": \\\"1.20.0\\\", \\\"azureml-contrib-gbdt\\\": \\\"1.20.0\\\", \\\"azureml-contrib-fairness\\\": \\\"1.20.0\\\", \\\"azureml-contrib-dataset\\\": \\\"1.20.0\\\", \\\"azureml-cli-common\\\": \\\"1.20.0\\\", \\\"azureml-automl-runtime\\\": \\\"1.20.0\\\", \\\"azureml-automl-core\\\": \\\"1.20.0\\\", \\\"azureml-accel-models\\\": \\\"1.20.0\\\"}\", \"_aml_system_scenario_identification\": \"Local.Parent\", \"ClientSdkVersion\": \"1.20.0\", \"ClientType\": \"SDK\", \"environment_cpu_name\": \"AzureML-AutoML\", \"environment_cpu_label\": \"prod\", \"environment_gpu_name\": \"AzureML-AutoML-GPU\", \"environment_gpu_label\": \"prod\", \"root_attribution\": \"automl\", \"attribution\": \"AutoML\", \"Orchestrator\": \"AutoML\", \"_azureml.ComputeTargetType\": \"local\", \"ProblemInfoJsonString\": \"{\\\"dataset_num_categorical\\\": 0, \\\"is_sparse\\\": false, \\\"subsampling\\\": false, \\\"dataset_classes\\\": 2, \\\"dataset_features\\\": 30, \\\"dataset_samples\\\": 569, \\\"single_frequency_class_detected\\\": false}\", \"feature_skus\": \"automatedml_sdk_guardrails\"}, \"tags\": {\"model_explain_run\": \"best_run\", \"best_score\": \"0.9876727216270765\", \"best_pipeline\": \"VotingEnsemble\", \"automl_best_child_run_id\": \"AutoML_68e8e59f-94d3-404f-8a26-0d72b5307a69_50\", \"model_explain_best_run_child_id\": \"AutoML_68e8e59f-94d3-404f-8a26-0d72b5307a69_50\"}, \"end_time_utc\": \"2021-01-26T06:28:12.118526Z\", \"status\": \"Completed\", \"log_files\": {}, \"log_groups\": [], \"run_duration\": \"0:31:45\"}, \"child_runs\": [{\"run_id\": \"AutoML_68e8e59f-94d3-404f-8a26-0d72b5307a69_0\", \"run_number\": 2, \"metric\": null, \"status\": \"Completed\", \"run_type\": null, \"training_percent\": \"100\", \"start_time\": \"2021-01-26T05:56:42.492163Z\", \"end_time\": \"2021-01-26T05:57:16.788669Z\", \"created_time\": \"2021-01-26T05:56:42.387588Z\", \"created_time_dt\": \"2021-01-26T05:56:42.387588Z\", \"duration\": \"0:00:34\", \"iteration\": \"0\", \"goal\": \"accuracy_max\", \"run_name\": \"MaxAbsScaler, LightGBM\", \"run_properties\": \"copy=True\", \"primary_metric\": 0.97009781, \"best_metric\": 0.97009781}, {\"run_id\": \"AutoML_68e8e59f-94d3-404f-8a26-0d72b5307a69_1\", \"run_number\": 3, \"metric\": null, \"status\": \"Completed\", \"run_type\": null, \"training_percent\": \"100\", \"start_time\": \"2021-01-26T05:57:17.160022Z\", \"end_time\": \"2021-01-26T05:57:48.72902Z\", \"created_time\": \"2021-01-26T05:57:17.037687Z\", \"created_time_dt\": \"2021-01-26T05:57:17.037687Z\", \"duration\": \"0:00:31\", \"iteration\": \"1\", \"goal\": \"accuracy_max\", \"run_name\": \"MaxAbsScaler, XGBoostClassifier\", \"run_properties\": \"copy=True\", \"primary_metric\": 0.95954044, \"best_metric\": 0.97009781}, {\"run_id\": \"AutoML_68e8e59f-94d3-404f-8a26-0d72b5307a69_2\", \"run_number\": 4, \"metric\": null, \"status\": \"Completed\", \"run_type\": null, \"training_percent\": \"100\", \"start_time\": \"2021-01-26T05:57:49.329636Z\", \"end_time\": \"2021-01-26T05:58:19.971071Z\", \"created_time\": \"2021-01-26T05:57:49.213196Z\", \"created_time_dt\": \"2021-01-26T05:57:49.213196Z\", \"duration\": \"0:00:30\", \"iteration\": \"2\", \"goal\": \"accuracy_max\", \"run_name\": \"MinMaxScaler, RandomForest\", \"run_properties\": \"copy=True, feature_range=(0, 1\", \"primary_metric\": 0.9489986, \"best_metric\": 0.97009781}, {\"run_id\": \"AutoML_68e8e59f-94d3-404f-8a26-0d72b5307a69_3\", \"run_number\": 5, \"metric\": null, \"status\": \"Completed\", \"run_type\": null, \"training_percent\": \"100\", \"start_time\": \"2021-01-26T05:58:21.326823Z\", \"end_time\": \"2021-01-26T05:58:51.313491Z\", \"created_time\": \"2021-01-26T05:58:21.214872Z\", \"created_time_dt\": \"2021-01-26T05:58:21.214872Z\", \"duration\": \"0:00:30\", \"iteration\": \"3\", \"goal\": \"accuracy_max\", \"run_name\": \"MinMaxScaler, RandomForest\", \"run_properties\": \"copy=True, feature_range=(0, 1\", \"primary_metric\": 0.92966931, \"best_metric\": 0.97009781}, {\"run_id\": \"AutoML_68e8e59f-94d3-404f-8a26-0d72b5307a69_4\", \"run_number\": 6, \"metric\": null, \"status\": \"Completed\", \"run_type\": null, \"training_percent\": \"100\", \"start_time\": \"2021-01-26T05:58:52.71802Z\", \"end_time\": \"2021-01-26T05:59:17.649107Z\", \"created_time\": \"2021-01-26T05:58:52.60785Z\", \"created_time_dt\": \"2021-01-26T05:58:52.60785Z\", \"duration\": \"0:00:25\", \"iteration\": \"4\", \"goal\": \"accuracy_max\", \"run_name\": \"MinMaxScaler, RandomForest\", \"run_properties\": \"copy=True, feature_range=(0, 1\", \"primary_metric\": 0.95778606, \"best_metric\": 0.97009781}, {\"run_id\": \"AutoML_68e8e59f-94d3-404f-8a26-0d72b5307a69_5\", \"run_number\": 7, \"metric\": null, \"status\": \"Completed\", \"run_type\": null, \"training_percent\": \"100\", \"start_time\": \"2021-01-26T05:59:19.099998Z\", \"end_time\": \"2021-01-26T05:59:45.063169Z\", \"created_time\": \"2021-01-26T05:59:18.942228Z\", \"created_time_dt\": \"2021-01-26T05:59:18.942228Z\", \"duration\": \"0:00:26\", \"iteration\": \"5\", \"goal\": \"accuracy_max\", \"run_name\": \"MinMaxScaler, SVM\", \"run_properties\": \"copy=True, feature_range=(0, 1\", \"primary_metric\": 0.96309579, \"best_metric\": 0.97009781}, {\"run_id\": \"AutoML_68e8e59f-94d3-404f-8a26-0d72b5307a69_6\", \"run_number\": 8, \"metric\": null, \"status\": \"Completed\", \"run_type\": null, \"training_percent\": \"100\", \"start_time\": \"2021-01-26T05:59:47.790934Z\", \"end_time\": \"2021-01-26T06:00:21.859937Z\", \"created_time\": \"2021-01-26T05:59:47.191968Z\", \"created_time_dt\": \"2021-01-26T05:59:47.191968Z\", \"duration\": \"0:00:34\", \"iteration\": \"6\", \"goal\": \"accuracy_max\", \"run_name\": \"MaxAbsScaler, GradientBoosting\", \"run_properties\": \"copy=True\", \"primary_metric\": 0.95780158, \"best_metric\": 0.97009781}, {\"run_id\": \"AutoML_68e8e59f-94d3-404f-8a26-0d72b5307a69_7\", \"run_number\": 9, \"metric\": null, \"status\": \"Completed\", \"run_type\": null, \"training_percent\": \"100\", \"start_time\": \"2021-01-26T06:00:24.285904Z\", \"end_time\": \"2021-01-26T06:00:51.070443Z\", \"created_time\": \"2021-01-26T06:00:23.830118Z\", \"created_time_dt\": \"2021-01-26T06:00:23.830118Z\", \"duration\": \"0:00:27\", \"iteration\": \"7\", \"goal\": \"accuracy_max\", \"run_name\": \"StandardScalerWrapper, RandomForest\", \"run_properties\": \"<azureml.automl.runtime.shared.model_wrappers.StandardScalerWrapper object at 0x7fdb47e4c320\", \"primary_metric\": 0.94544325, \"best_metric\": 0.97009781}, {\"run_id\": \"AutoML_68e8e59f-94d3-404f-8a26-0d72b5307a69_8\", \"run_number\": 10, \"metric\": null, \"status\": \"Completed\", \"run_type\": null, \"training_percent\": \"100\", \"start_time\": \"2021-01-26T06:00:52.37574Z\", \"end_time\": \"2021-01-26T06:01:18.888875Z\", \"created_time\": \"2021-01-26T06:00:52.261057Z\", \"created_time_dt\": \"2021-01-26T06:00:52.261057Z\", \"duration\": \"0:00:26\", \"iteration\": \"8\", \"goal\": \"accuracy_max\", \"run_name\": \"SparseNormalizer, LightGBM\", \"run_properties\": \"<azureml.automl.runtime.shared.model_wrappers.SparseNormalizer object at 0x7fdc29bb7828\", \"primary_metric\": 0.95250737, \"best_metric\": 0.97009781}, {\"run_id\": \"AutoML_68e8e59f-94d3-404f-8a26-0d72b5307a69_9\", \"run_number\": 11, \"metric\": null, \"status\": \"Completed\", \"run_type\": null, \"training_percent\": \"100\", \"start_time\": \"2021-01-26T06:01:20.076534Z\", \"end_time\": \"2021-01-26T06:01:51.503171Z\", \"created_time\": \"2021-01-26T06:01:19.941917Z\", \"created_time_dt\": \"2021-01-26T06:01:19.941917Z\", \"duration\": \"0:00:31\", \"iteration\": \"9\", \"goal\": \"accuracy_max\", \"run_name\": \"SparseNormalizer, XGBoostClassifier\", \"run_properties\": \"<azureml.automl.runtime.shared.model_wrappers.SparseNormalizer object at 0x7fdb47f3e5c0\", \"primary_metric\": 0.95954044, \"best_metric\": 0.97009781}, {\"run_id\": \"AutoML_68e8e59f-94d3-404f-8a26-0d72b5307a69_10\", \"run_number\": 12, \"metric\": null, \"status\": \"Completed\", \"run_type\": null, \"training_percent\": \"100\", \"start_time\": \"2021-01-26T06:01:52.930566Z\", \"end_time\": \"2021-01-26T06:02:18.714032Z\", \"created_time\": \"2021-01-26T06:01:52.826474Z\", \"created_time_dt\": \"2021-01-26T06:01:52.826474Z\", \"duration\": \"0:00:25\", \"iteration\": \"10\", \"goal\": \"accuracy_max\", \"run_name\": \"RobustScaler, RandomForest\", \"run_properties\": \"copy=True, quantile_range=[10, 90], with_centering=True,\\n             with_scaling=True\", \"primary_metric\": 0.94021115, \"best_metric\": 0.97009781}, {\"run_id\": \"AutoML_68e8e59f-94d3-404f-8a26-0d72b5307a69_11\", \"run_number\": 13, \"metric\": null, \"status\": \"Completed\", \"run_type\": null, \"training_percent\": \"100\", \"start_time\": \"2021-01-26T06:02:20.041025Z\", \"end_time\": \"2021-01-26T06:02:47.120989Z\", \"created_time\": \"2021-01-26T06:02:19.914562Z\", \"created_time_dt\": \"2021-01-26T06:02:19.914562Z\", \"duration\": \"0:00:27\", \"iteration\": \"11\", \"goal\": \"accuracy_max\", \"run_name\": \"MaxAbsScaler, LightGBM\", \"run_properties\": \"copy=True\", \"primary_metric\": 0.9489986, \"best_metric\": 0.97009781}, {\"run_id\": \"AutoML_68e8e59f-94d3-404f-8a26-0d72b5307a69_12\", \"run_number\": 14, \"metric\": null, \"status\": \"Completed\", \"run_type\": null, \"training_percent\": \"100\", \"start_time\": \"2021-01-26T06:02:48.306779Z\", \"end_time\": \"2021-01-26T06:03:19.520147Z\", \"created_time\": \"2021-01-26T06:02:48.202361Z\", \"created_time_dt\": \"2021-01-26T06:02:48.202361Z\", \"duration\": \"0:00:31\", \"iteration\": \"12\", \"goal\": \"accuracy_max\", \"run_name\": \"SparseNormalizer, XGBoostClassifier\", \"run_properties\": \"<azureml.automl.runtime.shared.model_wrappers.SparseNormalizer object at 0x7fdb47e9ce80\", \"primary_metric\": 0.9524608, \"best_metric\": 0.97009781}, {\"run_id\": \"AutoML_68e8e59f-94d3-404f-8a26-0d72b5307a69_13\", \"run_number\": 15, \"metric\": null, \"status\": \"Completed\", \"run_type\": null, \"training_percent\": \"100\", \"start_time\": \"2021-01-26T06:03:20.712618Z\", \"end_time\": \"2021-01-26T06:03:53.629603Z\", \"created_time\": \"2021-01-26T06:03:20.592152Z\", \"created_time_dt\": \"2021-01-26T06:03:20.592152Z\", \"duration\": \"0:00:33\", \"iteration\": \"13\", \"goal\": \"accuracy_max\", \"run_name\": \"StandardScalerWrapper, ExtremeRandomTrees\", \"run_properties\": \"<azureml.automl.runtime.shared.model_wrappers.StandardScalerWrapper object at 0x7fdc29bd8780\", \"primary_metric\": 0.94199658, \"best_metric\": 0.97009781}, {\"run_id\": \"AutoML_68e8e59f-94d3-404f-8a26-0d72b5307a69_14\", \"run_number\": 16, \"metric\": null, \"status\": \"Completed\", \"run_type\": null, \"training_percent\": \"100\", \"start_time\": \"2021-01-26T06:03:54.837358Z\", \"end_time\": \"2021-01-26T06:04:22.357421Z\", \"created_time\": \"2021-01-26T06:03:54.704152Z\", \"created_time_dt\": \"2021-01-26T06:03:54.704152Z\", \"duration\": \"0:00:27\", \"iteration\": \"14\", \"goal\": \"accuracy_max\", \"run_name\": \"SparseNormalizer, XGBoostClassifier\", \"run_properties\": \"<azureml.automl.runtime.shared.model_wrappers.SparseNormalizer object at 0x7fdc29be8d30\", \"primary_metric\": 0.96657351, \"best_metric\": 0.97009781}, {\"run_id\": \"AutoML_68e8e59f-94d3-404f-8a26-0d72b5307a69_15\", \"run_number\": 17, \"metric\": null, \"status\": \"Completed\", \"run_type\": null, \"training_percent\": \"100\", \"start_time\": \"2021-01-26T06:04:23.664387Z\", \"end_time\": \"2021-01-26T06:04:55.177519Z\", \"created_time\": \"2021-01-26T06:04:23.564853Z\", \"created_time_dt\": \"2021-01-26T06:04:23.564853Z\", \"duration\": \"0:00:31\", \"iteration\": \"15\", \"goal\": \"accuracy_max\", \"run_name\": \"StandardScalerWrapper, XGBoostClassifier\", \"run_properties\": \"<azureml.automl.runtime.shared.model_wrappers.StandardScalerWrapper object at 0x7fdc29ad3390\", \"primary_metric\": 0.94547431, \"best_metric\": 0.97009781}, {\"run_id\": \"AutoML_68e8e59f-94d3-404f-8a26-0d72b5307a69_16\", \"run_number\": 18, \"metric\": null, \"status\": \"Completed\", \"run_type\": null, \"training_percent\": \"100\", \"start_time\": \"2021-01-26T06:04:56.407313Z\", \"end_time\": \"2021-01-26T06:05:28.227205Z\", \"created_time\": \"2021-01-26T06:04:56.262578Z\", \"created_time_dt\": \"2021-01-26T06:04:56.262578Z\", \"duration\": \"0:00:31\", \"iteration\": \"16\", \"goal\": \"accuracy_max\", \"run_name\": \"RobustScaler, ExtremeRandomTrees\", \"run_properties\": \"copy=True, quantile_range=[25, 75], with_centering=True,\\n             with_scaling=False\", \"primary_metric\": 0.94548983, \"best_metric\": 0.97009781}, {\"run_id\": \"AutoML_68e8e59f-94d3-404f-8a26-0d72b5307a69_17\", \"run_number\": 19, \"metric\": null, \"status\": \"Completed\", \"run_type\": null, \"training_percent\": \"100\", \"start_time\": \"2021-01-26T06:05:29.481305Z\", \"end_time\": \"2021-01-26T06:05:55.183627Z\", \"created_time\": \"2021-01-26T06:05:29.379879Z\", \"created_time_dt\": \"2021-01-26T06:05:29.379879Z\", \"duration\": \"0:00:25\", \"iteration\": \"17\", \"goal\": \"accuracy_max\", \"run_name\": \"SparseNormalizer, XGBoostClassifier\", \"run_properties\": \"<azureml.automl.runtime.shared.model_wrappers.SparseNormalizer object at 0x7fdc29aef588\", \"primary_metric\": 0.93314703, \"best_metric\": 0.97009781}, {\"run_id\": \"AutoML_68e8e59f-94d3-404f-8a26-0d72b5307a69_18\", \"run_number\": 20, \"metric\": null, \"status\": \"Completed\", \"run_type\": null, \"training_percent\": \"100\", \"start_time\": \"2021-01-26T06:05:56.561921Z\", \"end_time\": \"2021-01-26T06:06:27.995744Z\", \"created_time\": \"2021-01-26T06:05:56.457734Z\", \"created_time_dt\": \"2021-01-26T06:05:56.457734Z\", \"duration\": \"0:00:31\", \"iteration\": \"18\", \"goal\": \"accuracy_max\", \"run_name\": \"MinMaxScaler, RandomForest\", \"run_properties\": \"copy=True, feature_range=(0, 1\", \"primary_metric\": 0.9367179, \"best_metric\": 0.97009781}, {\"run_id\": \"AutoML_68e8e59f-94d3-404f-8a26-0d72b5307a69_19\", \"run_number\": 21, \"metric\": null, \"status\": \"Completed\", \"run_type\": null, \"training_percent\": \"100\", \"start_time\": \"2021-01-26T06:06:29.265787Z\", \"end_time\": \"2021-01-26T06:06:56.662046Z\", \"created_time\": \"2021-01-26T06:06:29.127602Z\", \"created_time_dt\": \"2021-01-26T06:06:29.127602Z\", \"duration\": \"0:00:27\", \"iteration\": \"19\", \"goal\": \"accuracy_max\", \"run_name\": \"SparseNormalizer, XGBoostClassifier\", \"run_properties\": \"<azureml.automl.runtime.shared.model_wrappers.SparseNormalizer object at 0x7fdc29a0fdd8\", \"primary_metric\": 0.96481913, \"best_metric\": 0.97009781}, {\"run_id\": \"AutoML_68e8e59f-94d3-404f-8a26-0d72b5307a69_20\", \"run_number\": 22, \"metric\": null, \"status\": \"Completed\", \"run_type\": null, \"training_percent\": \"100\", \"start_time\": \"2021-01-26T06:06:57.84837Z\", \"end_time\": \"2021-01-26T06:07:26.350878Z\", \"created_time\": \"2021-01-26T06:06:57.73015Z\", \"created_time_dt\": \"2021-01-26T06:06:57.73015Z\", \"duration\": \"0:00:28\", \"iteration\": \"20\", \"goal\": \"accuracy_max\", \"run_name\": \"MaxAbsScaler, ExtremeRandomTrees\", \"run_properties\": \"copy=True\", \"primary_metric\": 0.94724422, \"best_metric\": 0.97009781}, {\"run_id\": \"AutoML_68e8e59f-94d3-404f-8a26-0d72b5307a69_21\", \"run_number\": 23, \"metric\": null, \"status\": \"Completed\", \"run_type\": null, \"training_percent\": \"100\", \"start_time\": \"2021-01-26T06:07:27.67315Z\", \"end_time\": \"2021-01-26T06:07:59.240033Z\", \"created_time\": \"2021-01-26T06:07:27.54384Z\", \"created_time_dt\": \"2021-01-26T06:07:27.54384Z\", \"duration\": \"0:00:31\", \"iteration\": \"21\", \"goal\": \"accuracy_max\", \"run_name\": \"RobustScaler, KNN\", \"run_properties\": \"copy=True, quantile_range=[25, 75], with_centering=True,\\n             with_scaling=False\", \"primary_metric\": 0.93314703, \"best_metric\": 0.97009781}, {\"run_id\": \"AutoML_68e8e59f-94d3-404f-8a26-0d72b5307a69_22\", \"run_number\": 24, \"metric\": null, \"status\": \"Completed\", \"run_type\": null, \"training_percent\": \"100\", \"start_time\": \"2021-01-26T06:08:00.43472Z\", \"end_time\": \"2021-01-26T06:08:26.930413Z\", \"created_time\": \"2021-01-26T06:08:00.324805Z\", \"created_time_dt\": \"2021-01-26T06:08:00.324805Z\", \"duration\": \"0:00:26\", \"iteration\": \"22\", \"goal\": \"accuracy_max\", \"run_name\": \"MinMaxScaler, LogisticRegression\", \"run_properties\": \"copy=True, feature_range=(0, 1\", \"primary_metric\": 0.97362211, \"best_metric\": 0.97362211}, {\"run_id\": \"AutoML_68e8e59f-94d3-404f-8a26-0d72b5307a69_23\", \"run_number\": 25, \"metric\": null, \"status\": \"Completed\", \"run_type\": null, \"training_percent\": \"100\", \"start_time\": \"2021-01-26T06:08:28.176966Z\", \"end_time\": \"2021-01-26T06:08:55.17271Z\", \"created_time\": \"2021-01-26T06:08:28.078442Z\", \"created_time_dt\": \"2021-01-26T06:08:28.078442Z\", \"duration\": \"0:00:27\", \"iteration\": \"23\", \"goal\": \"accuracy_max\", \"run_name\": \"RobustScaler, LogisticRegression\", \"run_properties\": \"copy=True, quantile_range=[10, 90], with_centering=True,\\n             with_scaling=True\", \"primary_metric\": 0.97009781, \"best_metric\": 0.97362211}, {\"run_id\": \"AutoML_68e8e59f-94d3-404f-8a26-0d72b5307a69_24\", \"run_number\": 26, \"metric\": null, \"status\": \"Completed\", \"run_type\": null, \"training_percent\": \"100\", \"start_time\": \"2021-01-26T06:08:57.621872Z\", \"end_time\": \"2021-01-26T06:09:36.684627Z\", \"created_time\": \"2021-01-26T06:08:57.159293Z\", \"created_time_dt\": \"2021-01-26T06:08:57.159293Z\", \"duration\": \"0:00:39\", \"iteration\": \"24\", \"goal\": \"accuracy_max\", \"run_name\": \"StandardScalerWrapper, LogisticRegression\", \"run_properties\": \"<azureml.automl.runtime.shared.model_wrappers.StandardScalerWrapper object at 0x7fdc29763438\", \"primary_metric\": 0.97363763, \"best_metric\": 0.97363763}, {\"run_id\": \"AutoML_68e8e59f-94d3-404f-8a26-0d72b5307a69_25\", \"run_number\": 27, \"metric\": null, \"status\": \"Completed\", \"run_type\": null, \"training_percent\": \"100\", \"start_time\": \"2021-01-26T06:09:40.136943Z\", \"end_time\": \"2021-01-26T06:10:11.860244Z\", \"created_time\": \"2021-01-26T06:09:39.636907Z\", \"created_time_dt\": \"2021-01-26T06:09:39.636907Z\", \"duration\": \"0:00:32\", \"iteration\": \"25\", \"goal\": \"accuracy_max\", \"run_name\": \"MinMaxScaler, LogisticRegression\", \"run_properties\": \"copy=True, feature_range=(0, 1\", \"primary_metric\": 0.93848781, \"best_metric\": 0.97363763}, {\"run_id\": \"AutoML_68e8e59f-94d3-404f-8a26-0d72b5307a69_26\", \"run_number\": 28, \"metric\": null, \"status\": \"Completed\", \"run_type\": null, \"training_percent\": \"100\", \"start_time\": \"2021-01-26T06:10:13.155693Z\", \"end_time\": \"2021-01-26T06:10:45.777573Z\", \"created_time\": \"2021-01-26T06:10:13.050814Z\", \"created_time_dt\": \"2021-01-26T06:10:13.050814Z\", \"duration\": \"0:00:32\", \"iteration\": \"26\", \"goal\": \"accuracy_max\", \"run_name\": \"StandardScalerWrapper, LogisticRegression\", \"run_properties\": \"<azureml.automl.runtime.shared.model_wrappers.StandardScalerWrapper object at 0x7fdc29bd44e0\", \"primary_metric\": 0.98237851, \"best_metric\": 0.98237851}, {\"run_id\": \"AutoML_68e8e59f-94d3-404f-8a26-0d72b5307a69_27\", \"run_number\": 29, \"metric\": null, \"status\": \"Completed\", \"run_type\": null, \"training_percent\": \"100\", \"start_time\": \"2021-01-26T06:10:47.008718Z\", \"end_time\": \"2021-01-26T06:11:13.26222Z\", \"created_time\": \"2021-01-26T06:10:46.889029Z\", \"created_time_dt\": \"2021-01-26T06:10:46.889029Z\", \"duration\": \"0:00:26\", \"iteration\": \"27\", \"goal\": \"accuracy_max\", \"run_name\": \"MinMaxScaler, LogisticRegression\", \"run_properties\": \"copy=True, feature_range=(0, 1\", \"primary_metric\": 0.97539202, \"best_metric\": 0.98237851}, {\"run_id\": \"AutoML_68e8e59f-94d3-404f-8a26-0d72b5307a69_28\", \"run_number\": 30, \"metric\": null, \"status\": \"Completed\", \"run_type\": null, \"training_percent\": \"100\", \"start_time\": \"2021-01-26T06:11:14.55538Z\", \"end_time\": \"2021-01-26T06:11:42.223972Z\", \"created_time\": \"2021-01-26T06:11:14.444662Z\", \"created_time_dt\": \"2021-01-26T06:11:14.444662Z\", \"duration\": \"0:00:27\", \"iteration\": \"28\", \"goal\": \"accuracy_max\", \"run_name\": \"SparseNormalizer, XGBoostClassifier\", \"run_properties\": \"<azureml.automl.runtime.shared.model_wrappers.SparseNormalizer object at 0x7fdc297ca470\", \"primary_metric\": 0.96834342, \"best_metric\": 0.98237851}, {\"run_id\": \"AutoML_68e8e59f-94d3-404f-8a26-0d72b5307a69_29\", \"run_number\": 31, \"metric\": null, \"status\": \"Completed\", \"run_type\": null, \"training_percent\": \"100\", \"start_time\": \"2021-01-26T06:11:43.432416Z\", \"end_time\": \"2021-01-26T06:12:13.857399Z\", \"created_time\": \"2021-01-26T06:11:43.330444Z\", \"created_time_dt\": \"2021-01-26T06:11:43.330444Z\", \"duration\": \"0:00:30\", \"iteration\": \"29\", \"goal\": \"accuracy_max\", \"run_name\": \"MaxAbsScaler, LogisticRegression\", \"run_properties\": \"copy=True\", \"primary_metric\": 0.9718522, \"best_metric\": 0.98237851}, {\"run_id\": \"AutoML_68e8e59f-94d3-404f-8a26-0d72b5307a69_30\", \"run_number\": 32, \"metric\": null, \"status\": \"Completed\", \"run_type\": null, \"training_percent\": \"100\", \"start_time\": \"2021-01-26T06:12:15.966135Z\", \"end_time\": \"2021-01-26T06:12:42.693639Z\", \"created_time\": \"2021-01-26T06:12:15.857274Z\", \"created_time_dt\": \"2021-01-26T06:12:15.857274Z\", \"duration\": \"0:00:26\", \"iteration\": \"30\", \"goal\": \"accuracy_max\", \"run_name\": \"StandardScalerWrapper, LogisticRegression\", \"run_properties\": \"<azureml.automl.runtime.shared.model_wrappers.StandardScalerWrapper object at 0x7fdc297bb160\", \"primary_metric\": 0.97009781, \"best_metric\": 0.98237851}, {\"run_id\": \"AutoML_68e8e59f-94d3-404f-8a26-0d72b5307a69_31\", \"run_number\": 33, \"metric\": null, \"status\": \"Completed\", \"run_type\": null, \"training_percent\": \"100\", \"start_time\": \"2021-01-26T06:12:43.86886Z\", \"end_time\": \"2021-01-26T06:13:10.514796Z\", \"created_time\": \"2021-01-26T06:12:43.766124Z\", \"created_time_dt\": \"2021-01-26T06:12:43.766124Z\", \"duration\": \"0:00:26\", \"iteration\": \"31\", \"goal\": \"accuracy_max\", \"run_name\": \"SparseNormalizer, XGBoostClassifier\", \"run_properties\": \"<azureml.automl.runtime.shared.model_wrappers.SparseNormalizer object at 0x7fdc29861b38\", \"primary_metric\": 0.95778606, \"best_metric\": 0.98237851}, {\"run_id\": \"AutoML_68e8e59f-94d3-404f-8a26-0d72b5307a69_32\", \"run_number\": 34, \"metric\": null, \"status\": \"Completed\", \"run_type\": null, \"training_percent\": \"100\", \"start_time\": \"2021-01-26T06:13:11.692392Z\", \"end_time\": \"2021-01-26T06:13:43.484216Z\", \"created_time\": \"2021-01-26T06:13:11.575521Z\", \"created_time_dt\": \"2021-01-26T06:13:11.575521Z\", \"duration\": \"0:00:31\", \"iteration\": \"32\", \"goal\": \"accuracy_max\", \"run_name\": \"MinMaxScaler, LogisticRegression\", \"run_properties\": \"copy=True, feature_range=(0, 1\", \"primary_metric\": 0.97362211, \"best_metric\": 0.98237851}, {\"run_id\": \"AutoML_68e8e59f-94d3-404f-8a26-0d72b5307a69_33\", \"run_number\": 35, \"metric\": null, \"status\": \"Completed\", \"run_type\": null, \"training_percent\": \"100\", \"start_time\": \"2021-01-26T06:13:44.802749Z\", \"end_time\": \"2021-01-26T06:14:10.963715Z\", \"created_time\": \"2021-01-26T06:13:44.687262Z\", \"created_time_dt\": \"2021-01-26T06:13:44.687262Z\", \"duration\": \"0:00:26\", \"iteration\": \"33\", \"goal\": \"accuracy_max\", \"run_name\": \"MinMaxScaler, LogisticRegression\", \"run_properties\": \"copy=True, feature_range=(0, 1\", \"primary_metric\": 0.98239404, \"best_metric\": 0.98239404}, {\"run_id\": \"AutoML_68e8e59f-94d3-404f-8a26-0d72b5307a69_34\", \"run_number\": 36, \"metric\": null, \"status\": \"Completed\", \"run_type\": null, \"training_percent\": \"100\", \"start_time\": \"2021-01-26T06:14:12.239572Z\", \"end_time\": \"2021-01-26T06:18:42.522361Z\", \"created_time\": \"2021-01-26T06:14:12.122912Z\", \"created_time_dt\": \"2021-01-26T06:14:12.122912Z\", \"duration\": \"0:04:30\", \"iteration\": \"34\", \"goal\": \"accuracy_max\", \"run_name\": \"StandardScalerWrapper, XGBoostClassifier\", \"run_properties\": \"<azureml.automl.runtime.shared.model_wrappers.StandardScalerWrapper object at 0x7fdb47f1ce48\", \"primary_metric\": 0.95955597, \"best_metric\": 0.98239404}, {\"run_id\": \"AutoML_68e8e59f-94d3-404f-8a26-0d72b5307a69_35\", \"run_number\": 37, \"metric\": null, \"status\": \"Completed\", \"run_type\": null, \"training_percent\": \"100\", \"start_time\": \"2021-01-26T06:18:44.958055Z\", \"end_time\": \"2021-01-26T06:19:18.705215Z\", \"created_time\": \"2021-01-26T06:18:44.84896Z\", \"created_time_dt\": \"2021-01-26T06:18:44.84896Z\", \"duration\": \"0:00:33\", \"iteration\": \"35\", \"goal\": \"accuracy_max\", \"run_name\": \"PCA, LogisticRegression\", \"run_properties\": \"copy=True, iterated_power='auto', n_components=0.95, random_state=None,\\n    svd_solver='auto', tol=0.0, whiten=False\", \"primary_metric\": 0.90680019, \"best_metric\": 0.98239404}, {\"run_id\": \"AutoML_68e8e59f-94d3-404f-8a26-0d72b5307a69_36\", \"run_number\": 38, \"metric\": null, \"status\": \"Completed\", \"run_type\": null, \"training_percent\": \"100\", \"start_time\": \"2021-01-26T06:19:19.920041Z\", \"end_time\": \"2021-01-26T06:19:51.409049Z\", \"created_time\": \"2021-01-26T06:19:19.78565Z\", \"created_time_dt\": \"2021-01-26T06:19:19.78565Z\", \"duration\": \"0:00:31\", \"iteration\": \"36\", \"goal\": \"accuracy_max\", \"run_name\": \"StandardScalerWrapper, LogisticRegression\", \"run_properties\": \"<azureml.automl.runtime.shared.model_wrappers.StandardScalerWrapper object at 0x7fdc2960fe48\", \"primary_metric\": 0.98414842, \"best_metric\": 0.98414842}, {\"run_id\": \"AutoML_68e8e59f-94d3-404f-8a26-0d72b5307a69_37\", \"run_number\": 39, \"metric\": null, \"status\": \"Completed\", \"run_type\": null, \"training_percent\": \"100\", \"start_time\": \"2021-01-26T06:19:52.662805Z\", \"end_time\": \"2021-01-26T06:20:24.110743Z\", \"created_time\": \"2021-01-26T06:19:52.540376Z\", \"created_time_dt\": \"2021-01-26T06:19:52.540376Z\", \"duration\": \"0:00:31\", \"iteration\": \"37\", \"goal\": \"accuracy_max\", \"run_name\": \"MinMaxScaler, LogisticRegression\", \"run_properties\": \"copy=True, feature_range=(0, 1\", \"primary_metric\": 0.98063965, \"best_metric\": 0.98414842}, {\"run_id\": \"AutoML_68e8e59f-94d3-404f-8a26-0d72b5307a69_38\", \"run_number\": 40, \"metric\": null, \"status\": \"Completed\", \"run_type\": null, \"training_percent\": \"100\", \"start_time\": \"2021-01-26T06:20:27.566723Z\", \"end_time\": \"2021-01-26T06:21:00.705359Z\", \"created_time\": \"2021-01-26T06:20:27.105413Z\", \"created_time_dt\": \"2021-01-26T06:20:27.105413Z\", \"duration\": \"0:00:33\", \"iteration\": \"38\", \"goal\": \"accuracy_max\", \"run_name\": \"StandardScalerWrapper, LightGBM\", \"run_properties\": \"<azureml.automl.runtime.shared.model_wrappers.StandardScalerWrapper object at 0x7fdc297bb320\", \"primary_metric\": 0.96657351, \"best_metric\": 0.98414842}, {\"run_id\": \"AutoML_68e8e59f-94d3-404f-8a26-0d72b5307a69_39\", \"run_number\": 41, \"metric\": null, \"status\": \"Completed\", \"run_type\": null, \"training_percent\": \"100\", \"start_time\": \"2021-01-26T06:21:03.110299Z\", \"end_time\": \"2021-01-26T06:21:35.502106Z\", \"created_time\": \"2021-01-26T06:21:02.683286Z\", \"created_time_dt\": \"2021-01-26T06:21:02.683286Z\", \"duration\": \"0:00:32\", \"iteration\": \"39\", \"goal\": \"accuracy_max\", \"run_name\": \"StandardScalerWrapper, XGBoostClassifier\", \"run_properties\": \"<azureml.automl.runtime.shared.model_wrappers.StandardScalerWrapper object at 0x7fdc2965d6a0\", \"primary_metric\": 0.95603167, \"best_metric\": 0.98414842}, {\"run_id\": \"AutoML_68e8e59f-94d3-404f-8a26-0d72b5307a69_40\", \"run_number\": 42, \"metric\": null, \"status\": \"Completed\", \"run_type\": null, \"training_percent\": \"100\", \"start_time\": \"2021-01-26T06:21:39.681741Z\", \"end_time\": \"2021-01-26T06:22:04.665028Z\", \"created_time\": \"2021-01-26T06:21:39.458749Z\", \"created_time_dt\": \"2021-01-26T06:21:39.458749Z\", \"duration\": \"0:00:25\", \"iteration\": \"40\", \"goal\": \"accuracy_max\", \"run_name\": \"StandardScalerWrapper, LogisticRegression\", \"run_properties\": \"<azureml.automl.runtime.shared.model_wrappers.StandardScalerWrapper object at 0x7fdb41dcaa58\", \"primary_metric\": 0.95601615, \"best_metric\": 0.98414842}, {\"run_id\": \"AutoML_68e8e59f-94d3-404f-8a26-0d72b5307a69_41\", \"run_number\": 43, \"metric\": null, \"status\": \"Completed\", \"run_type\": null, \"training_percent\": \"100\", \"start_time\": \"2021-01-26T06:22:05.946631Z\", \"end_time\": \"2021-01-26T06:22:36.72276Z\", \"created_time\": \"2021-01-26T06:22:05.835767Z\", \"created_time_dt\": \"2021-01-26T06:22:05.835767Z\", \"duration\": \"0:00:30\", \"iteration\": \"41\", \"goal\": \"accuracy_max\", \"run_name\": \"StandardScalerWrapper, SGD\", \"run_properties\": \"<azureml.automl.runtime.shared.model_wrappers.StandardScalerWrapper object at 0x7fdc298ca080\", \"primary_metric\": 0.98414842, \"best_metric\": 0.98414842}, {\"run_id\": \"AutoML_68e8e59f-94d3-404f-8a26-0d72b5307a69_42\", \"run_number\": 44, \"metric\": null, \"status\": \"Completed\", \"run_type\": null, \"training_percent\": \"100\", \"start_time\": \"2021-01-26T06:22:37.992663Z\", \"end_time\": \"2021-01-26T06:23:03.461819Z\", \"created_time\": \"2021-01-26T06:22:37.873281Z\", \"created_time_dt\": \"2021-01-26T06:22:37.873281Z\", \"duration\": \"0:00:25\", \"iteration\": \"42\", \"goal\": \"accuracy_max\", \"run_name\": \"StandardScalerWrapper, LogisticRegression\", \"run_properties\": \"<azureml.automl.runtime.shared.model_wrappers.StandardScalerWrapper object at 0x7fdb3edb6048\", \"primary_metric\": 0.98239404, \"best_metric\": 0.98414842}, {\"run_id\": \"AutoML_68e8e59f-94d3-404f-8a26-0d72b5307a69_43\", \"run_number\": 45, \"metric\": null, \"status\": \"Completed\", \"run_type\": null, \"training_percent\": \"100\", \"start_time\": \"2021-01-26T06:23:04.734519Z\", \"end_time\": \"2021-01-26T06:23:35.180511Z\", \"created_time\": \"2021-01-26T06:23:04.623892Z\", \"created_time_dt\": \"2021-01-26T06:23:04.623892Z\", \"duration\": \"0:00:30\", \"iteration\": \"43\", \"goal\": \"accuracy_max\", \"run_name\": \"MaxAbsScaler, LightGBM\", \"run_properties\": \"copy=True\", \"primary_metric\": 0.9612793, \"best_metric\": 0.98414842}, {\"run_id\": \"AutoML_68e8e59f-94d3-404f-8a26-0d72b5307a69_44\", \"run_number\": 46, \"metric\": null, \"status\": \"Completed\", \"run_type\": null, \"training_percent\": \"100\", \"start_time\": \"2021-01-26T06:23:36.379834Z\", \"end_time\": \"2021-01-26T06:24:06.742102Z\", \"created_time\": \"2021-01-26T06:23:36.274733Z\", \"created_time_dt\": \"2021-01-26T06:23:36.274733Z\", \"duration\": \"0:00:30\", \"iteration\": \"44\", \"goal\": \"accuracy_max\", \"run_name\": \"MaxAbsScaler, LogisticRegression\", \"run_properties\": \"copy=True\", \"primary_metric\": 0.97360658, \"best_metric\": 0.98414842}, {\"run_id\": \"AutoML_68e8e59f-94d3-404f-8a26-0d72b5307a69_45\", \"run_number\": 47, \"metric\": null, \"status\": \"Completed\", \"run_type\": null, \"training_percent\": \"100\", \"start_time\": \"2021-01-26T06:24:09.076167Z\", \"end_time\": \"2021-01-26T06:24:39.337684Z\", \"created_time\": \"2021-01-26T06:24:08.953374Z\", \"created_time_dt\": \"2021-01-26T06:24:08.953374Z\", \"duration\": \"0:00:30\", \"iteration\": \"45\", \"goal\": \"accuracy_max\", \"run_name\": \"MaxAbsScaler, LogisticRegression\", \"run_properties\": \"copy=True\", \"primary_metric\": 0.97360658, \"best_metric\": 0.98414842}, {\"run_id\": \"AutoML_68e8e59f-94d3-404f-8a26-0d72b5307a69_46\", \"run_number\": 48, \"metric\": null, \"status\": \"Completed\", \"run_type\": null, \"training_percent\": \"100\", \"start_time\": \"2021-01-26T06:24:40.569821Z\", \"end_time\": \"2021-01-26T06:25:10.970244Z\", \"created_time\": \"2021-01-26T06:24:40.404275Z\", \"created_time_dt\": \"2021-01-26T06:24:40.404275Z\", \"duration\": \"0:00:30\", \"iteration\": \"46\", \"goal\": \"accuracy_max\", \"run_name\": \"MaxAbsScaler, LogisticRegression\", \"run_properties\": \"copy=True\", \"primary_metric\": 0.97359106, \"best_metric\": 0.98414842}, {\"run_id\": \"AutoML_68e8e59f-94d3-404f-8a26-0d72b5307a69_47\", \"run_number\": 49, \"metric\": null, \"status\": \"Completed\", \"run_type\": null, \"training_percent\": \"100\", \"start_time\": \"2021-01-26T06:25:12.189896Z\", \"end_time\": \"2021-01-26T06:25:38.513363Z\", \"created_time\": \"2021-01-26T06:25:12.050213Z\", \"created_time_dt\": \"2021-01-26T06:25:12.050213Z\", \"duration\": \"0:00:26\", \"iteration\": \"47\", \"goal\": \"accuracy_max\", \"run_name\": \"MaxAbsScaler, LogisticRegression\", \"run_properties\": \"copy=True\", \"primary_metric\": 0.97888527, \"best_metric\": 0.98414842}, {\"run_id\": \"AutoML_68e8e59f-94d3-404f-8a26-0d72b5307a69_48\", \"run_number\": 50, \"metric\": null, \"status\": \"Completed\", \"run_type\": null, \"training_percent\": \"100\", \"start_time\": \"2021-01-26T06:25:39.761705Z\", \"end_time\": \"2021-01-26T06:26:05.499526Z\", \"created_time\": \"2021-01-26T06:25:39.650795Z\", \"created_time_dt\": \"2021-01-26T06:25:39.650795Z\", \"duration\": \"0:00:25\", \"iteration\": \"48\", \"goal\": \"accuracy_max\", \"run_name\": \"SparseNormalizer, XGBoostClassifier\", \"run_properties\": \"<azureml.automl.runtime.shared.model_wrappers.SparseNormalizer object at 0x7fdc29649ac8\", \"primary_metric\": 0.96657351, \"best_metric\": 0.98414842}, {\"run_id\": \"AutoML_68e8e59f-94d3-404f-8a26-0d72b5307a69_49\", \"run_number\": 51, \"metric\": null, \"status\": \"Completed\", \"run_type\": null, \"training_percent\": \"100\", \"start_time\": \"2021-01-26T06:26:07.675716Z\", \"end_time\": \"2021-01-26T06:26:39.415693Z\", \"created_time\": \"2021-01-26T06:26:07.56308Z\", \"created_time_dt\": \"2021-01-26T06:26:07.56308Z\", \"duration\": \"0:00:31\", \"iteration\": \"49\", \"goal\": \"accuracy_max\", \"run_name\": \"StandardScalerWrapper, XGBoostClassifier\", \"run_properties\": \"<azureml.automl.runtime.shared.model_wrappers.StandardScalerWrapper object at 0x7fdc2963fb70\", \"primary_metric\": 0.95601615, \"best_metric\": 0.98414842}, {\"run_id\": \"AutoML_68e8e59f-94d3-404f-8a26-0d72b5307a69_50\", \"run_number\": 52, \"metric\": null, \"status\": \"Completed\", \"run_type\": null, \"training_percent\": \"100\", \"start_time\": \"2021-01-26T06:26:39.727396Z\", \"end_time\": \"2021-01-26T06:27:20.233657Z\", \"created_time\": \"2021-01-26T06:26:39.628816Z\", \"created_time_dt\": \"2021-01-26T06:26:39.628816Z\", \"duration\": \"0:00:40\", \"iteration\": \"50\", \"goal\": \"accuracy_max\", \"run_name\": \"VotingEnsemble\", \"run_properties\": \"classification_labels=None,\\n                              estimators=[('41',\\n                                           Pipeline(memory=None,\\n                                                    steps=[('standardscalerwrapper',\\n                                                            <azureml.automl.runtime.shared.model_wrappers.StandardScalerWrapper object at 0x7fdb417af4a8>\", \"primary_metric\": 0.98767272, \"best_metric\": 0.98767272}, {\"run_id\": \"AutoML_68e8e59f-94d3-404f-8a26-0d72b5307a69_51\", \"run_number\": 53, \"metric\": null, \"status\": \"Completed\", \"run_type\": null, \"training_percent\": \"100\", \"start_time\": \"2021-01-26T06:27:20.591964Z\", \"end_time\": \"2021-01-26T06:28:04.257954Z\", \"created_time\": \"2021-01-26T06:27:20.477663Z\", \"created_time_dt\": \"2021-01-26T06:27:20.477663Z\", \"duration\": \"0:00:43\", \"iteration\": \"51\", \"goal\": \"accuracy_max\", \"run_name\": \"StackEnsemble\", \"run_properties\": \"base_learners=[('41',\\n                                        Pipeline(memory=None,\\n                                                 steps=[('standardscalerwrapper',\\n                                                         <azureml.automl.runtime.shared.model_wrappers.StandardScalerWrapper object at 0x7fdb3ed1e1d0>\", \"primary_metric\": 0.98590281, \"best_metric\": 0.98767272}], \"children_metrics\": {\"categories\": [0], \"series\": {\"precision_score_macro\": [{\"categories\": [\"0\", \"1\", \"2\", \"3\", \"4\", \"5\", \"6\", \"7\", \"8\", \"9\", \"10\", \"11\", \"12\", \"13\", \"14\", \"15\", \"16\", \"17\", \"18\", \"19\", \"20\", \"21\", \"22\", \"23\", \"24\", \"25\", \"26\", \"27\", \"28\", \"29\", \"30\", \"31\", \"32\", \"33\", \"34\", \"35\", \"36\", \"37\", \"38\", \"39\", \"40\", \"41\", \"42\", \"43\", \"44\", \"45\", \"46\", \"47\", \"48\", \"49\", \"50\", \"51\"], \"mode\": \"markers\", \"name\": \"precision_score_macro\", \"stepped\": false, \"type\": \"scatter\", \"data\": [0.9712406282116202, 0.9601306739002782, 0.9466747105739757, 0.9275710530073246, 0.956025541209805, 0.9628178593456092, 0.956725846630605, 0.9450014459826775, 0.9502381096021051, 0.9635111824162458, 0.939549443164907, 0.949723598611486, 0.9511059688450991, 0.9393822177959954, 0.9686671500569968, 0.9432418752921217, 0.9454148801732162, 0.9369988929199456, 0.9317966355998033, 0.9664327488175186, 0.9465450532653283, 0.9362838764783789, 0.9712156426195004, 0.9672775932078258, 0.9739410463094673, 0.9404715148319799, 0.983903577490534, 0.9742771672771673, 0.9678528428935407, 0.9726869076869077, 0.9704865890735455, 0.9574611040021154, 0.9712156426195004, 0.9827871821910401, 0.9593727870440982, 0.9146692210137333, 0.9863204305927097, 0.980390621748205, 0.9661626764705847, 0.953486275719934, 0.9657392349879869, 0.9841875216889406, 0.9827796541941165, 0.9599440968029764, 0.9754395604395605, 0.9754395604395605, 0.9761776518553201, 0.9800545007805053, 0.9677948392107029, 0.9544389977329997, 0.9890342411211976, 0.9876861525900106]}, {\"categories\": [\"0\", \"1\", \"2\", \"3\", \"4\", \"5\", \"6\", \"7\", \"8\", \"9\", \"10\", \"11\", \"12\", \"13\", \"14\", \"15\", \"16\", \"17\", \"18\", \"19\", \"20\", \"21\", \"22\", \"23\", \"24\", \"25\", \"26\", \"27\", \"28\", \"29\", \"30\", \"31\", \"32\", \"33\", \"34\", \"35\", \"36\", \"37\", \"38\", \"39\", \"40\", \"41\", \"42\", \"43\", \"44\", \"45\", \"46\", \"47\", \"48\", \"49\", \"50\", \"51\"], \"mode\": \"lines\", \"name\": \"precision_score_macro_max\", \"stepped\": true, \"type\": \"scatter\", \"data\": [0.9712406282116202, 0.9712406282116202, 0.9712406282116202, 0.9712406282116202, 0.9712406282116202, 0.9712406282116202, 0.9712406282116202, 0.9712406282116202, 0.9712406282116202, 0.9712406282116202, 0.9712406282116202, 0.9712406282116202, 0.9712406282116202, 0.9712406282116202, 0.9712406282116202, 0.9712406282116202, 0.9712406282116202, 0.9712406282116202, 0.9712406282116202, 0.9712406282116202, 0.9712406282116202, 0.9712406282116202, 0.9712406282116202, 0.9712406282116202, 0.9739410463094673, 0.9739410463094673, 0.983903577490534, 0.983903577490534, 0.983903577490534, 0.983903577490534, 0.983903577490534, 0.983903577490534, 0.983903577490534, 0.983903577490534, 0.983903577490534, 0.983903577490534, 0.9863204305927097, 0.9863204305927097, 0.9863204305927097, 0.9863204305927097, 0.9863204305927097, 0.9863204305927097, 0.9863204305927097, 0.9863204305927097, 0.9863204305927097, 0.9863204305927097, 0.9863204305927097, 0.9863204305927097, 0.9863204305927097, 0.9863204305927097, 0.9890342411211976, 0.9890342411211976]}], \"accuracy\": [{\"categories\": [\"0\", \"1\", \"2\", \"3\", \"4\", \"5\", \"6\", \"7\", \"8\", \"9\", \"10\", \"11\", \"12\", \"13\", \"14\", \"15\", \"16\", \"17\", \"18\", \"19\", \"20\", \"21\", \"22\", \"23\", \"24\", \"25\", \"26\", \"27\", \"28\", \"29\", \"30\", \"31\", \"32\", \"33\", \"34\", \"35\", \"36\", \"37\", \"38\", \"39\", \"40\", \"41\", \"42\", \"43\", \"44\", \"45\", \"46\", \"47\", \"48\", \"49\", \"50\", \"51\"], \"mode\": \"markers\", \"name\": \"accuracy\", \"stepped\": false, \"type\": \"scatter\", \"data\": [0.9700978108989287, 0.95954044403043, 0.9489986027014439, 0.9296693060083838, 0.9577860580655176, 0.9630957925787922, 0.9578015836050303, 0.9454432541530817, 0.9525073746312683, 0.95954044403043, 0.9402111473373699, 0.9489986027014439, 0.9524607980127309, 0.9419965843813072, 0.9665735134295916, 0.9454743052321067, 0.9454898307716192, 0.9331470268591833, 0.9367179009470579, 0.9648191274646795, 0.9472442167365316, 0.9331470268591835, 0.9736221083682658, 0.9700978108989288, 0.9736376339077782, 0.9384878124514827, 0.9823785126533148, 0.9753920198726906, 0.9683434249340165, 0.971852196863841, 0.9700978108989288, 0.9577860580655176, 0.9736221083682658, 0.9823940381928271, 0.9595559695699425, 0.9068001863064742, 0.9841484241577394, 0.9806396522279149, 0.9665735134295919, 0.9560316721006055, 0.956016146561093, 0.9841484241577394, 0.9823940381928271, 0.9612793044558299, 0.9736065828287532, 0.9736065828287532, 0.9735910572892408, 0.9788852662630025, 0.9665735134295919, 0.956016146561093, 0.9876727216270765, 0.9859028101226517]}, {\"categories\": [\"0\", \"1\", \"2\", \"3\", \"4\", \"5\", \"6\", \"7\", \"8\", \"9\", \"10\", \"11\", \"12\", \"13\", \"14\", \"15\", \"16\", \"17\", \"18\", \"19\", \"20\", \"21\", \"22\", \"23\", \"24\", \"25\", \"26\", \"27\", \"28\", \"29\", \"30\", \"31\", \"32\", \"33\", \"34\", \"35\", \"36\", \"37\", \"38\", \"39\", \"40\", \"41\", \"42\", \"43\", \"44\", \"45\", \"46\", \"47\", \"48\", \"49\", \"50\", \"51\"], \"mode\": \"lines\", \"name\": \"accuracy_max\", \"stepped\": true, \"type\": \"scatter\", \"data\": [0.9700978108989287, 0.9700978108989287, 0.9700978108989287, 0.9700978108989287, 0.9700978108989287, 0.9700978108989287, 0.9700978108989287, 0.9700978108989287, 0.9700978108989287, 0.9700978108989287, 0.9700978108989287, 0.9700978108989287, 0.9700978108989287, 0.9700978108989287, 0.9700978108989287, 0.9700978108989287, 0.9700978108989287, 0.9700978108989287, 0.9700978108989287, 0.9700978108989287, 0.9700978108989287, 0.9700978108989287, 0.9736221083682658, 0.9736221083682658, 0.9736376339077782, 0.9736376339077782, 0.9823785126533148, 0.9823785126533148, 0.9823785126533148, 0.9823785126533148, 0.9823785126533148, 0.9823785126533148, 0.9823785126533148, 0.9823940381928271, 0.9823940381928271, 0.9823940381928271, 0.9841484241577394, 0.9841484241577394, 0.9841484241577394, 0.9841484241577394, 0.9841484241577394, 0.9841484241577394, 0.9841484241577394, 0.9841484241577394, 0.9841484241577394, 0.9841484241577394, 0.9841484241577394, 0.9841484241577394, 0.9841484241577394, 0.9841484241577394, 0.9876727216270765, 0.9876727216270765]}], \"weighted_accuracy\": [{\"categories\": [\"0\", \"1\", \"2\", \"3\", \"4\", \"5\", \"6\", \"7\", \"8\", \"9\", \"10\", \"11\", \"12\", \"13\", \"14\", \"15\", \"16\", \"17\", \"18\", \"19\", \"20\", \"21\", \"22\", \"23\", \"24\", \"25\", \"26\", \"27\", \"28\", \"29\", \"30\", \"31\", \"32\", \"33\", \"34\", \"35\", \"36\", \"37\", \"38\", \"39\", \"40\", \"41\", \"42\", \"43\", \"44\", \"45\", \"46\", \"47\", \"48\", \"49\", \"50\", \"51\"], \"mode\": \"markers\", \"name\": \"weighted_accuracy\", \"stepped\": false, \"type\": \"scatter\", \"data\": [0.9746140149263331, 0.9635880008829553, 0.9529679388296677, 0.9354144063242226, 0.9619014782495133, 0.9674058643253678, 0.9609627341103675, 0.9508569140288881, 0.9555321815058054, 0.9669599053825998, 0.9459064548150972, 0.9552987941719678, 0.9556042238530645, 0.9476035188567978, 0.9718258085629069, 0.9497191066549513, 0.951578885025207, 0.9427453042803773, 0.9395090029390868, 0.9697430696185416, 0.9536766224578574, 0.9428637244522491, 0.9741202750084346, 0.970631948538933, 0.9770120306306428, 0.9487463007859424, 0.9851796006357532, 0.9771602318853277, 0.9710428826592737, 0.9754439204990526, 0.9736044226859069, 0.9626349698712537, 0.9741202750084346, 0.9845679836280231, 0.9646442512805382, 0.9234678443182824, 0.9876507800033089, 0.9824764064657847, 0.970525234952194, 0.9576795361022548, 0.9680897867845818, 0.9856431658973255, 0.9842781807341208, 0.96367428922443, 0.9775429969054338, 0.9775429969054338, 0.9784988178588903, 0.9822978681895307, 0.9711641671046409, 0.9594588194165452, 0.9901351839132795, 0.988742299734627]}, {\"categories\": [\"0\", \"1\", \"2\", \"3\", \"4\", \"5\", \"6\", \"7\", \"8\", \"9\", \"10\", \"11\", \"12\", \"13\", \"14\", \"15\", \"16\", \"17\", \"18\", \"19\", \"20\", \"21\", \"22\", \"23\", \"24\", \"25\", \"26\", \"27\", \"28\", \"29\", \"30\", \"31\", \"32\", \"33\", \"34\", \"35\", \"36\", \"37\", \"38\", \"39\", \"40\", \"41\", \"42\", \"43\", \"44\", \"45\", \"46\", \"47\", \"48\", \"49\", \"50\", \"51\"], \"mode\": \"lines\", \"name\": \"weighted_accuracy_max\", \"stepped\": true, \"type\": \"scatter\", \"data\": [0.9746140149263331, 0.9746140149263331, 0.9746140149263331, 0.9746140149263331, 0.9746140149263331, 0.9746140149263331, 0.9746140149263331, 0.9746140149263331, 0.9746140149263331, 0.9746140149263331, 0.9746140149263331, 0.9746140149263331, 0.9746140149263331, 0.9746140149263331, 0.9746140149263331, 0.9746140149263331, 0.9746140149263331, 0.9746140149263331, 0.9746140149263331, 0.9746140149263331, 0.9746140149263331, 0.9746140149263331, 0.9746140149263331, 0.9746140149263331, 0.9770120306306428, 0.9770120306306428, 0.9851796006357532, 0.9851796006357532, 0.9851796006357532, 0.9851796006357532, 0.9851796006357532, 0.9851796006357532, 0.9851796006357532, 0.9851796006357532, 0.9851796006357532, 0.9851796006357532, 0.9876507800033089, 0.9876507800033089, 0.9876507800033089, 0.9876507800033089, 0.9876507800033089, 0.9876507800033089, 0.9876507800033089, 0.9876507800033089, 0.9876507800033089, 0.9876507800033089, 0.9876507800033089, 0.9876507800033089, 0.9876507800033089, 0.9876507800033089, 0.9901351839132795, 0.9901351839132795]}], \"average_precision_score_macro\": [{\"categories\": [\"0\", \"1\", \"2\", \"3\", \"4\", \"5\", \"6\", \"7\", \"8\", \"9\", \"10\", \"11\", \"12\", \"13\", \"14\", \"15\", \"16\", \"17\", \"18\", \"19\", \"20\", \"21\", \"22\", \"23\", \"24\", \"25\", \"26\", \"27\", \"28\", \"29\", \"30\", \"31\", \"32\", \"33\", \"34\", \"35\", \"36\", \"37\", \"38\", \"39\", \"40\", \"41\", \"42\", \"43\", \"44\", \"45\", \"46\", \"47\", \"48\", \"49\", \"50\", \"51\"], \"mode\": \"markers\", \"name\": \"average_precision_score_macro\", \"stepped\": false, \"type\": \"scatter\", \"data\": [0.993406982280314, 0.9931354720351269, 0.985282744549705, 0.9804026171868386, 0.9894692427205793, 0.9935201174073404, 0.9912512401783381, 0.9845626800542402, 0.9909402993350513, 0.9884146928801864, 0.9834230193575253, 0.985959833798756, 0.9825916618224756, 0.9870822366420743, 0.9923822388340179, 0.9865107510529251, 0.9870963788481761, 0.9738181540373795, 0.9709580228780055, 0.9901146209007043, 0.9896665892002672, 0.9653872326814612, 0.9965231402388122, 0.9941634774615202, 0.9952306242555279, 0.9829061773178868, 0.996461103731343, 0.9940959565150479, 0.9942396992248449, 0.9963902878162758, 0.9930040075867332, 0.9893357687725354, 0.9965231402388122, 0.9959992198622402, 0.99202205678429, 0.9654378336471934, 0.9959716263833241, 0.9963936290140325, 0.9940298443620943, 0.9929822879095053, 0.9909855929904676, 0.9968262533945639, 0.9970978207224649, 0.9917671987539171, 0.9962836597268886, 0.9964171011375049, 0.9955991782953559, 0.9956651336249056, 0.9921795929208124, 0.992218004324472, 0.9968463777945553, 0.9968463777945553]}, {\"categories\": [\"0\", \"1\", \"2\", \"3\", \"4\", \"5\", \"6\", \"7\", \"8\", \"9\", \"10\", \"11\", \"12\", \"13\", \"14\", \"15\", \"16\", \"17\", \"18\", \"19\", \"20\", \"21\", \"22\", \"23\", \"24\", \"25\", \"26\", \"27\", \"28\", \"29\", \"30\", \"31\", \"32\", \"33\", \"34\", \"35\", \"36\", \"37\", \"38\", \"39\", \"40\", \"41\", \"42\", \"43\", \"44\", \"45\", \"46\", \"47\", \"48\", \"49\", \"50\", \"51\"], \"mode\": \"lines\", \"name\": \"average_precision_score_macro_max\", \"stepped\": true, \"type\": \"scatter\", \"data\": [0.993406982280314, 0.993406982280314, 0.993406982280314, 0.993406982280314, 0.993406982280314, 0.9935201174073404, 0.9935201174073404, 0.9935201174073404, 0.9935201174073404, 0.9935201174073404, 0.9935201174073404, 0.9935201174073404, 0.9935201174073404, 0.9935201174073404, 0.9935201174073404, 0.9935201174073404, 0.9935201174073404, 0.9935201174073404, 0.9935201174073404, 0.9935201174073404, 0.9935201174073404, 0.9935201174073404, 0.9965231402388122, 0.9965231402388122, 0.9965231402388122, 0.9965231402388122, 0.9965231402388122, 0.9965231402388122, 0.9965231402388122, 0.9965231402388122, 0.9965231402388122, 0.9965231402388122, 0.9965231402388122, 0.9965231402388122, 0.9965231402388122, 0.9965231402388122, 0.9965231402388122, 0.9965231402388122, 0.9965231402388122, 0.9965231402388122, 0.9965231402388122, 0.9968262533945639, 0.9970978207224649, 0.9970978207224649, 0.9970978207224649, 0.9970978207224649, 0.9970978207224649, 0.9970978207224649, 0.9970978207224649, 0.9970978207224649, 0.9970978207224649, 0.9970978207224649]}], \"recall_score_micro\": [{\"categories\": [\"0\", \"1\", \"2\", \"3\", \"4\", \"5\", \"6\", \"7\", \"8\", \"9\", \"10\", \"11\", \"12\", \"13\", \"14\", \"15\", \"16\", \"17\", \"18\", \"19\", \"20\", \"21\", \"22\", \"23\", \"24\", \"25\", \"26\", \"27\", \"28\", \"29\", \"30\", \"31\", \"32\", \"33\", \"34\", \"35\", \"36\", \"37\", \"38\", \"39\", \"40\", \"41\", \"42\", \"43\", \"44\", \"45\", \"46\", \"47\", \"48\", \"49\", \"50\", \"51\"], \"mode\": \"markers\", \"name\": \"recall_score_micro\", \"stepped\": false, \"type\": \"scatter\", \"data\": [0.9700978108989287, 0.95954044403043, 0.9489986027014439, 0.9296693060083838, 0.9577860580655176, 0.9630957925787922, 0.9578015836050303, 0.9454432541530817, 0.9525073746312683, 0.95954044403043, 0.9402111473373699, 0.9489986027014439, 0.9524607980127309, 0.9419965843813072, 0.9665735134295916, 0.9454743052321067, 0.9454898307716192, 0.9331470268591833, 0.9367179009470579, 0.9648191274646795, 0.9472442167365316, 0.9331470268591835, 0.9736221083682658, 0.9700978108989288, 0.9736376339077782, 0.9384878124514827, 0.9823785126533148, 0.9753920198726906, 0.9683434249340165, 0.971852196863841, 0.9700978108989288, 0.9577860580655176, 0.9736221083682658, 0.9823940381928271, 0.9595559695699425, 0.9068001863064742, 0.9841484241577394, 0.9806396522279149, 0.9665735134295919, 0.9560316721006055, 0.956016146561093, 0.9841484241577394, 0.9823940381928271, 0.9612793044558299, 0.9736065828287532, 0.9736065828287532, 0.9735910572892408, 0.9788852662630025, 0.9665735134295919, 0.956016146561093, 0.9876727216270765, 0.9859028101226517]}, {\"categories\": [\"0\", \"1\", \"2\", \"3\", \"4\", \"5\", \"6\", \"7\", \"8\", \"9\", \"10\", \"11\", \"12\", \"13\", \"14\", \"15\", \"16\", \"17\", \"18\", \"19\", \"20\", \"21\", \"22\", \"23\", \"24\", \"25\", \"26\", \"27\", \"28\", \"29\", \"30\", \"31\", \"32\", \"33\", \"34\", \"35\", \"36\", \"37\", \"38\", \"39\", \"40\", \"41\", \"42\", \"43\", \"44\", \"45\", \"46\", \"47\", \"48\", \"49\", \"50\", \"51\"], \"mode\": \"lines\", \"name\": \"recall_score_micro_max\", \"stepped\": true, \"type\": \"scatter\", \"data\": [0.9700978108989287, 0.9700978108989287, 0.9700978108989287, 0.9700978108989287, 0.9700978108989287, 0.9700978108989287, 0.9700978108989287, 0.9700978108989287, 0.9700978108989287, 0.9700978108989287, 0.9700978108989287, 0.9700978108989287, 0.9700978108989287, 0.9700978108989287, 0.9700978108989287, 0.9700978108989287, 0.9700978108989287, 0.9700978108989287, 0.9700978108989287, 0.9700978108989287, 0.9700978108989287, 0.9700978108989287, 0.9736221083682658, 0.9736221083682658, 0.9736376339077782, 0.9736376339077782, 0.9823785126533148, 0.9823785126533148, 0.9823785126533148, 0.9823785126533148, 0.9823785126533148, 0.9823785126533148, 0.9823785126533148, 0.9823940381928271, 0.9823940381928271, 0.9823940381928271, 0.9841484241577394, 0.9841484241577394, 0.9841484241577394, 0.9841484241577394, 0.9841484241577394, 0.9841484241577394, 0.9841484241577394, 0.9841484241577394, 0.9841484241577394, 0.9841484241577394, 0.9841484241577394, 0.9841484241577394, 0.9841484241577394, 0.9841484241577394, 0.9876727216270765, 0.9876727216270765]}], \"f1_score_micro\": [{\"categories\": [\"0\", \"1\", \"2\", \"3\", \"4\", \"5\", \"6\", \"7\", \"8\", \"9\", \"10\", \"11\", \"12\", \"13\", \"14\", \"15\", \"16\", \"17\", \"18\", \"19\", \"20\", \"21\", \"22\", \"23\", \"24\", \"25\", \"26\", \"27\", \"28\", \"29\", \"30\", \"31\", \"32\", \"33\", \"34\", \"35\", \"36\", \"37\", \"38\", \"39\", \"40\", \"41\", \"42\", \"43\", \"44\", \"45\", \"46\", \"47\", \"48\", \"49\", \"50\", \"51\"], \"mode\": \"markers\", \"name\": \"f1_score_micro\", \"stepped\": false, \"type\": \"scatter\", \"data\": [0.9700978108989287, 0.95954044403043, 0.9489986027014439, 0.9296693060083838, 0.9577860580655176, 0.9630957925787922, 0.9578015836050303, 0.9454432541530817, 0.9525073746312683, 0.95954044403043, 0.9402111473373699, 0.9489986027014439, 0.9524607980127309, 0.9419965843813072, 0.9665735134295916, 0.9454743052321067, 0.9454898307716192, 0.9331470268591833, 0.9367179009470579, 0.9648191274646795, 0.9472442167365316, 0.9331470268591835, 0.9736221083682658, 0.9700978108989288, 0.9736376339077782, 0.9384878124514827, 0.9823785126533148, 0.9753920198726906, 0.9683434249340165, 0.971852196863841, 0.9700978108989288, 0.9577860580655176, 0.9736221083682658, 0.9823940381928271, 0.9595559695699425, 0.9068001863064742, 0.9841484241577394, 0.9806396522279149, 0.9665735134295919, 0.9560316721006055, 0.956016146561093, 0.9841484241577394, 0.9823940381928271, 0.9612793044558299, 0.9736065828287532, 0.9736065828287532, 0.9735910572892408, 0.9788852662630025, 0.9665735134295919, 0.956016146561093, 0.9876727216270765, 0.9859028101226517]}, {\"categories\": [\"0\", \"1\", \"2\", \"3\", \"4\", \"5\", \"6\", \"7\", \"8\", \"9\", \"10\", \"11\", \"12\", \"13\", \"14\", \"15\", \"16\", \"17\", \"18\", \"19\", \"20\", \"21\", \"22\", \"23\", \"24\", \"25\", \"26\", \"27\", \"28\", \"29\", \"30\", \"31\", \"32\", \"33\", \"34\", \"35\", \"36\", \"37\", \"38\", \"39\", \"40\", \"41\", \"42\", \"43\", \"44\", \"45\", \"46\", \"47\", \"48\", \"49\", \"50\", \"51\"], \"mode\": \"lines\", \"name\": \"f1_score_micro_max\", \"stepped\": true, \"type\": \"scatter\", \"data\": [0.9700978108989287, 0.9700978108989287, 0.9700978108989287, 0.9700978108989287, 0.9700978108989287, 0.9700978108989287, 0.9700978108989287, 0.9700978108989287, 0.9700978108989287, 0.9700978108989287, 0.9700978108989287, 0.9700978108989287, 0.9700978108989287, 0.9700978108989287, 0.9700978108989287, 0.9700978108989287, 0.9700978108989287, 0.9700978108989287, 0.9700978108989287, 0.9700978108989287, 0.9700978108989287, 0.9700978108989287, 0.9736221083682658, 0.9736221083682658, 0.9736376339077782, 0.9736376339077782, 0.9823785126533148, 0.9823785126533148, 0.9823785126533148, 0.9823785126533148, 0.9823785126533148, 0.9823785126533148, 0.9823785126533148, 0.9823940381928271, 0.9823940381928271, 0.9823940381928271, 0.9841484241577394, 0.9841484241577394, 0.9841484241577394, 0.9841484241577394, 0.9841484241577394, 0.9841484241577394, 0.9841484241577394, 0.9841484241577394, 0.9841484241577394, 0.9841484241577394, 0.9841484241577394, 0.9841484241577394, 0.9841484241577394, 0.9841484241577394, 0.9876727216270765, 0.9876727216270765]}], \"f1_score_weighted\": [{\"categories\": [\"0\", \"1\", \"2\", \"3\", \"4\", \"5\", \"6\", \"7\", \"8\", \"9\", \"10\", \"11\", \"12\", \"13\", \"14\", \"15\", \"16\", \"17\", \"18\", \"19\", \"20\", \"21\", \"22\", \"23\", \"24\", \"25\", \"26\", \"27\", \"28\", \"29\", \"30\", \"31\", \"32\", \"33\", \"34\", \"35\", \"36\", \"37\", \"38\", \"39\", \"40\", \"41\", \"42\", \"43\", \"44\", \"45\", \"46\", \"47\", \"48\", \"49\", \"50\", \"51\"], \"mode\": \"markers\", \"name\": \"f1_score_weighted\", \"stepped\": false, \"type\": \"scatter\", \"data\": [0.9699360976126726, 0.9594159238849299, 0.9488120024083736, 0.9293567150289114, 0.9576949569923358, 0.9630031135835523, 0.9577655448000343, 0.9451468250121173, 0.9524879196060132, 0.9591887618867428, 0.9400094337621001, 0.9486985966977658, 0.9522565716154743, 0.9418715205550956, 0.9663849670911443, 0.9453188808656725, 0.9452074885310934, 0.9324354074417258, 0.9367883355898032, 0.964651833421444, 0.9469180302913338, 0.932433895872065, 0.9736514095365727, 0.970126825125919, 0.9736273800411537, 0.9379653228490727, 0.9822804973757865, 0.9753981766576677, 0.9682806116435385, 0.971739368832235, 0.9699909446130922, 0.9575949894280535, 0.9736514095365727, 0.9823370230809803, 0.959373157337394, 0.9050680694831191, 0.9840649248802862, 0.9805972238474467, 0.9664358564289082, 0.9560317737686372, 0.9553210704047619, 0.984107041793196, 0.9823423319718959, 0.961163582127984, 0.9734862592781639, 0.9734862592781639, 0.9733700815779146, 0.9788167079805493, 0.9664320175623295, 0.9559002048092109, 0.9876329143766391, 0.9858360595200162]}, {\"categories\": [\"0\", \"1\", \"2\", \"3\", \"4\", \"5\", \"6\", \"7\", \"8\", \"9\", \"10\", \"11\", \"12\", \"13\", \"14\", \"15\", \"16\", \"17\", \"18\", \"19\", \"20\", \"21\", \"22\", \"23\", \"24\", \"25\", \"26\", \"27\", \"28\", \"29\", \"30\", \"31\", \"32\", \"33\", \"34\", \"35\", \"36\", \"37\", \"38\", \"39\", \"40\", \"41\", \"42\", \"43\", \"44\", \"45\", \"46\", \"47\", \"48\", \"49\", \"50\", \"51\"], \"mode\": \"lines\", \"name\": \"f1_score_weighted_max\", \"stepped\": true, \"type\": \"scatter\", \"data\": [0.9699360976126726, 0.9699360976126726, 0.9699360976126726, 0.9699360976126726, 0.9699360976126726, 0.9699360976126726, 0.9699360976126726, 0.9699360976126726, 0.9699360976126726, 0.9699360976126726, 0.9699360976126726, 0.9699360976126726, 0.9699360976126726, 0.9699360976126726, 0.9699360976126726, 0.9699360976126726, 0.9699360976126726, 0.9699360976126726, 0.9699360976126726, 0.9699360976126726, 0.9699360976126726, 0.9699360976126726, 0.9736514095365727, 0.9736514095365727, 0.9736514095365727, 0.9736514095365727, 0.9822804973757865, 0.9822804973757865, 0.9822804973757865, 0.9822804973757865, 0.9822804973757865, 0.9822804973757865, 0.9822804973757865, 0.9823370230809803, 0.9823370230809803, 0.9823370230809803, 0.9840649248802862, 0.9840649248802862, 0.9840649248802862, 0.9840649248802862, 0.9840649248802862, 0.984107041793196, 0.984107041793196, 0.984107041793196, 0.984107041793196, 0.984107041793196, 0.984107041793196, 0.984107041793196, 0.984107041793196, 0.984107041793196, 0.9876329143766391, 0.9876329143766391]}], \"average_precision_score_weighted\": [{\"categories\": [\"0\", \"1\", \"2\", \"3\", \"4\", \"5\", \"6\", \"7\", \"8\", \"9\", \"10\", \"11\", \"12\", \"13\", \"14\", \"15\", \"16\", \"17\", \"18\", \"19\", \"20\", \"21\", \"22\", \"23\", \"24\", \"25\", \"26\", \"27\", \"28\", \"29\", \"30\", \"31\", \"32\", \"33\", \"34\", \"35\", \"36\", \"37\", \"38\", \"39\", \"40\", \"41\", \"42\", \"43\", \"44\", \"45\", \"46\", \"47\", \"48\", \"49\", \"50\", \"51\"], \"mode\": \"markers\", \"name\": \"average_precision_score_weighted\", \"stepped\": false, \"type\": \"scatter\", \"data\": [0.9939804659278815, 0.99380313200893, 0.9861876911360762, 0.981434173650469, 0.9900111622321308, 0.9939285143788975, 0.9919547218275635, 0.9851520872437319, 0.9916339834328932, 0.9893034880650895, 0.9848956119657301, 0.9866237403373439, 0.9830976599337979, 0.9883545114135279, 0.9929520805689153, 0.9875327591680316, 0.9882670399359664, 0.9766815770614553, 0.9731952703515606, 0.9909826103451961, 0.9906338174657181, 0.9669983590919786, 0.9967454768632408, 0.9944770994945547, 0.9955834778547589, 0.984750454200082, 0.9966844101670118, 0.9945118326879678, 0.9946185049317023, 0.9966649031338004, 0.9934355527313826, 0.9902787769028585, 0.9967454768632408, 0.9962786053482494, 0.9927552896056046, 0.9683619133551431, 0.9962603676967904, 0.9966322755949377, 0.9944548628851082, 0.9936139011552685, 0.9915990946270645, 0.9970333503499866, 0.9972379133187607, 0.9922764242119688, 0.996581239805806, 0.9967051479160439, 0.9959204859603409, 0.9959848683442818, 0.9925878020255423, 0.992888199510827, 0.9970042352311147, 0.9970042352311147]}, {\"categories\": [\"0\", \"1\", \"2\", \"3\", \"4\", \"5\", \"6\", \"7\", \"8\", \"9\", \"10\", \"11\", \"12\", \"13\", \"14\", \"15\", \"16\", \"17\", \"18\", \"19\", \"20\", \"21\", \"22\", \"23\", \"24\", \"25\", \"26\", \"27\", \"28\", \"29\", \"30\", \"31\", \"32\", \"33\", \"34\", \"35\", \"36\", \"37\", \"38\", \"39\", \"40\", \"41\", \"42\", \"43\", \"44\", \"45\", \"46\", \"47\", \"48\", \"49\", \"50\", \"51\"], \"mode\": \"lines\", \"name\": \"average_precision_score_weighted_max\", \"stepped\": true, \"type\": \"scatter\", \"data\": [0.9939804659278815, 0.9939804659278815, 0.9939804659278815, 0.9939804659278815, 0.9939804659278815, 0.9939804659278815, 0.9939804659278815, 0.9939804659278815, 0.9939804659278815, 0.9939804659278815, 0.9939804659278815, 0.9939804659278815, 0.9939804659278815, 0.9939804659278815, 0.9939804659278815, 0.9939804659278815, 0.9939804659278815, 0.9939804659278815, 0.9939804659278815, 0.9939804659278815, 0.9939804659278815, 0.9939804659278815, 0.9967454768632408, 0.9967454768632408, 0.9967454768632408, 0.9967454768632408, 0.9967454768632408, 0.9967454768632408, 0.9967454768632408, 0.9967454768632408, 0.9967454768632408, 0.9967454768632408, 0.9967454768632408, 0.9967454768632408, 0.9967454768632408, 0.9967454768632408, 0.9967454768632408, 0.9967454768632408, 0.9967454768632408, 0.9967454768632408, 0.9967454768632408, 0.9970333503499866, 0.9972379133187607, 0.9972379133187607, 0.9972379133187607, 0.9972379133187607, 0.9972379133187607, 0.9972379133187607, 0.9972379133187607, 0.9972379133187607, 0.9972379133187607, 0.9972379133187607]}], \"matthews_correlation\": [{\"categories\": [\"0\", \"1\", \"2\", \"3\", \"4\", \"5\", \"6\", \"7\", \"8\", \"9\", \"10\", \"11\", \"12\", \"13\", \"14\", \"15\", \"16\", \"17\", \"18\", \"19\", \"20\", \"21\", \"22\", \"23\", \"24\", \"25\", \"26\", \"27\", \"28\", \"29\", \"30\", \"31\", \"32\", \"33\", \"34\", \"35\", \"36\", \"37\", \"38\", \"39\", \"40\", \"41\", \"42\", \"43\", \"44\", \"45\", \"46\", \"47\", \"48\", \"49\", \"50\", \"51\"], \"mode\": \"markers\", \"name\": \"matthews_correlation\", \"stepped\": false, \"type\": \"scatter\", \"data\": [0.9360838365893713, 0.9149436900767333, 0.8910768829654103, 0.8506980126008756, 0.9090574193193666, 0.9208939366476019, 0.9108150555742209, 0.8842328235073286, 0.8992164264387863, 0.9143669396541874, 0.8731070192579443, 0.8914194187857303, 0.9000169937179814, 0.8748771236305893, 0.9291803878517151, 0.8837747397088747, 0.883699566466315, 0.8589629071190533, 0.865260547890586, 0.9255695143670927, 0.8862796423056825, 0.8581372678087092, 0.944391769563987, 0.9369510815148481, 0.9437295668447394, 0.8668810234655142, 0.9631862816898172, 0.9477453044220159, 0.9329840153648904, 0.9404427547521212, 0.9365261791377282, 0.9096035822334911, 0.944391769563987, 0.962769777282281, 0.9130478000730031, 0.8017658006952593, 0.9664554588894372, 0.9590189684475264, 0.9281447810993904, 0.9076509836950516, 0.9073982487623317, 0.9667606484261742, 0.9631744418255493, 0.918530445678727, 0.9445054625210751, 0.9445054625210751, 0.944060868721694, 0.9550453595072632, 0.9290288576666157, 0.9064882312540868, 0.9739231327696732, 0.9703890973619087]}, {\"categories\": [\"0\", \"1\", \"2\", \"3\", \"4\", \"5\", \"6\", \"7\", \"8\", \"9\", \"10\", \"11\", \"12\", \"13\", \"14\", \"15\", \"16\", \"17\", \"18\", \"19\", \"20\", \"21\", \"22\", \"23\", \"24\", \"25\", \"26\", \"27\", \"28\", \"29\", \"30\", \"31\", \"32\", \"33\", \"34\", \"35\", \"36\", \"37\", \"38\", \"39\", \"40\", \"41\", \"42\", \"43\", \"44\", \"45\", \"46\", \"47\", \"48\", \"49\", \"50\", \"51\"], \"mode\": \"lines\", \"name\": \"matthews_correlation_max\", \"stepped\": true, \"type\": \"scatter\", \"data\": [0.9360838365893713, 0.9360838365893713, 0.9360838365893713, 0.9360838365893713, 0.9360838365893713, 0.9360838365893713, 0.9360838365893713, 0.9360838365893713, 0.9360838365893713, 0.9360838365893713, 0.9360838365893713, 0.9360838365893713, 0.9360838365893713, 0.9360838365893713, 0.9360838365893713, 0.9360838365893713, 0.9360838365893713, 0.9360838365893713, 0.9360838365893713, 0.9360838365893713, 0.9360838365893713, 0.9360838365893713, 0.944391769563987, 0.944391769563987, 0.944391769563987, 0.944391769563987, 0.9631862816898172, 0.9631862816898172, 0.9631862816898172, 0.9631862816898172, 0.9631862816898172, 0.9631862816898172, 0.9631862816898172, 0.9631862816898172, 0.9631862816898172, 0.9631862816898172, 0.9664554588894372, 0.9664554588894372, 0.9664554588894372, 0.9664554588894372, 0.9664554588894372, 0.9667606484261742, 0.9667606484261742, 0.9667606484261742, 0.9667606484261742, 0.9667606484261742, 0.9667606484261742, 0.9667606484261742, 0.9667606484261742, 0.9667606484261742, 0.9739231327696732, 0.9739231327696732]}], \"recall_score_weighted\": [{\"categories\": [\"0\", \"1\", \"2\", \"3\", \"4\", \"5\", \"6\", \"7\", \"8\", \"9\", \"10\", \"11\", \"12\", \"13\", \"14\", \"15\", \"16\", \"17\", \"18\", \"19\", \"20\", \"21\", \"22\", \"23\", \"24\", \"25\", \"26\", \"27\", \"28\", \"29\", \"30\", \"31\", \"32\", \"33\", \"34\", \"35\", \"36\", \"37\", \"38\", \"39\", \"40\", \"41\", \"42\", \"43\", \"44\", \"45\", \"46\", \"47\", \"48\", \"49\", \"50\", \"51\"], \"mode\": \"markers\", \"name\": \"recall_score_weighted\", \"stepped\": false, \"type\": \"scatter\", \"data\": [0.9700978108989287, 0.95954044403043, 0.9489986027014439, 0.9296693060083838, 0.9577860580655176, 0.9630957925787922, 0.9578015836050303, 0.9454432541530817, 0.9525073746312683, 0.95954044403043, 0.9402111473373699, 0.9489986027014439, 0.9524607980127309, 0.9419965843813072, 0.9665735134295916, 0.9454743052321067, 0.9454898307716192, 0.9331470268591833, 0.9367179009470579, 0.9648191274646795, 0.9472442167365316, 0.9331470268591835, 0.9736221083682658, 0.9700978108989288, 0.9736376339077782, 0.9384878124514827, 0.9823785126533148, 0.9753920198726906, 0.9683434249340165, 0.971852196863841, 0.9700978108989288, 0.9577860580655176, 0.9736221083682658, 0.9823940381928271, 0.9595559695699425, 0.9068001863064742, 0.9841484241577394, 0.9806396522279149, 0.9665735134295919, 0.9560316721006055, 0.956016146561093, 0.9841484241577394, 0.9823940381928271, 0.9612793044558299, 0.9736065828287532, 0.9736065828287532, 0.9735910572892408, 0.9788852662630025, 0.9665735134295919, 0.956016146561093, 0.9876727216270765, 0.9859028101226517]}, {\"categories\": [\"0\", \"1\", \"2\", \"3\", \"4\", \"5\", \"6\", \"7\", \"8\", \"9\", \"10\", \"11\", \"12\", \"13\", \"14\", \"15\", \"16\", \"17\", \"18\", \"19\", \"20\", \"21\", \"22\", \"23\", \"24\", \"25\", \"26\", \"27\", \"28\", \"29\", \"30\", \"31\", \"32\", \"33\", \"34\", \"35\", \"36\", \"37\", \"38\", \"39\", \"40\", \"41\", \"42\", \"43\", \"44\", \"45\", \"46\", \"47\", \"48\", \"49\", \"50\", \"51\"], \"mode\": \"lines\", \"name\": \"recall_score_weighted_max\", \"stepped\": true, \"type\": \"scatter\", \"data\": [0.9700978108989287, 0.9700978108989287, 0.9700978108989287, 0.9700978108989287, 0.9700978108989287, 0.9700978108989287, 0.9700978108989287, 0.9700978108989287, 0.9700978108989287, 0.9700978108989287, 0.9700978108989287, 0.9700978108989287, 0.9700978108989287, 0.9700978108989287, 0.9700978108989287, 0.9700978108989287, 0.9700978108989287, 0.9700978108989287, 0.9700978108989287, 0.9700978108989287, 0.9700978108989287, 0.9700978108989287, 0.9736221083682658, 0.9736221083682658, 0.9736376339077782, 0.9736376339077782, 0.9823785126533148, 0.9823785126533148, 0.9823785126533148, 0.9823785126533148, 0.9823785126533148, 0.9823785126533148, 0.9823785126533148, 0.9823940381928271, 0.9823940381928271, 0.9823940381928271, 0.9841484241577394, 0.9841484241577394, 0.9841484241577394, 0.9841484241577394, 0.9841484241577394, 0.9841484241577394, 0.9841484241577394, 0.9841484241577394, 0.9841484241577394, 0.9841484241577394, 0.9841484241577394, 0.9841484241577394, 0.9841484241577394, 0.9841484241577394, 0.9876727216270765, 0.9876727216270765]}], \"AUC_weighted\": [{\"categories\": [\"0\", \"1\", \"2\", \"3\", \"4\", \"5\", \"6\", \"7\", \"8\", \"9\", \"10\", \"11\", \"12\", \"13\", \"14\", \"15\", \"16\", \"17\", \"18\", \"19\", \"20\", \"21\", \"22\", \"23\", \"24\", \"25\", \"26\", \"27\", \"28\", \"29\", \"30\", \"31\", \"32\", \"33\", \"34\", \"35\", \"36\", \"37\", \"38\", \"39\", \"40\", \"41\", \"42\", \"43\", \"44\", \"45\", \"46\", \"47\", \"48\", \"49\", \"50\", \"51\"], \"mode\": \"markers\", \"name\": \"AUC_weighted\", \"stepped\": false, \"type\": \"scatter\", \"data\": [0.9934316269208624, 0.9933679623492558, 0.9862331611347134, 0.9820487835613708, 0.9902641987387734, 0.9935271543101868, 0.9911197209664901, 0.9856858378367093, 0.9908050477737446, 0.9883193493034709, 0.9836298359672471, 0.9868425425086397, 0.9840768743316446, 0.9872909836306288, 0.9920915657059224, 0.9875017131518551, 0.9873029588077011, 0.9788628332562354, 0.9764487216979875, 0.9900375956882306, 0.9897671077466702, 0.970872750730815, 0.9964182374519245, 0.9939895265548369, 0.9951633952094475, 0.9836575446849782, 0.9963598733878536, 0.9938865829644901, 0.9940593879575823, 0.9963381660368148, 0.9924795221604672, 0.9891315241240435, 0.9964182374519245, 0.995882341023903, 0.9920065293338626, 0.9647510802278141, 0.9958856783586715, 0.9962814853151724, 0.9939262463887422, 0.9931138857313018, 0.9904831547324123, 0.9967492309478796, 0.9969631915765061, 0.9916890754248747, 0.9962731273032072, 0.996402913156549, 0.9954808137056105, 0.9955447523245361, 0.9919577649089375, 0.9923069577169696, 0.9966994740342454, 0.9966994740342454]}, {\"categories\": [\"0\", \"1\", \"2\", \"3\", \"4\", \"5\", \"6\", \"7\", \"8\", \"9\", \"10\", \"11\", \"12\", \"13\", \"14\", \"15\", \"16\", \"17\", \"18\", \"19\", \"20\", \"21\", \"22\", \"23\", \"24\", \"25\", \"26\", \"27\", \"28\", \"29\", \"30\", \"31\", \"32\", \"33\", \"34\", \"35\", \"36\", \"37\", \"38\", \"39\", \"40\", \"41\", \"42\", \"43\", \"44\", \"45\", \"46\", \"47\", \"48\", \"49\", \"50\", \"51\"], \"mode\": \"lines\", \"name\": \"AUC_weighted_max\", \"stepped\": true, \"type\": \"scatter\", \"data\": [0.9934316269208624, 0.9934316269208624, 0.9934316269208624, 0.9934316269208624, 0.9934316269208624, 0.9935271543101868, 0.9935271543101868, 0.9935271543101868, 0.9935271543101868, 0.9935271543101868, 0.9935271543101868, 0.9935271543101868, 0.9935271543101868, 0.9935271543101868, 0.9935271543101868, 0.9935271543101868, 0.9935271543101868, 0.9935271543101868, 0.9935271543101868, 0.9935271543101868, 0.9935271543101868, 0.9935271543101868, 0.9964182374519245, 0.9964182374519245, 0.9964182374519245, 0.9964182374519245, 0.9964182374519245, 0.9964182374519245, 0.9964182374519245, 0.9964182374519245, 0.9964182374519245, 0.9964182374519245, 0.9964182374519245, 0.9964182374519245, 0.9964182374519245, 0.9964182374519245, 0.9964182374519245, 0.9964182374519245, 0.9964182374519245, 0.9964182374519245, 0.9964182374519245, 0.9967492309478796, 0.9969631915765061, 0.9969631915765061, 0.9969631915765061, 0.9969631915765061, 0.9969631915765061, 0.9969631915765061, 0.9969631915765061, 0.9969631915765061, 0.9969631915765061, 0.9969631915765061]}], \"AUC_macro\": [{\"categories\": [\"0\", \"1\", \"2\", \"3\", \"4\", \"5\", \"6\", \"7\", \"8\", \"9\", \"10\", \"11\", \"12\", \"13\", \"14\", \"15\", \"16\", \"17\", \"18\", \"19\", \"20\", \"21\", \"22\", \"23\", \"24\", \"25\", \"26\", \"27\", \"28\", \"29\", \"30\", \"31\", \"32\", \"33\", \"34\", \"35\", \"36\", \"37\", \"38\", \"39\", \"40\", \"41\", \"42\", \"43\", \"44\", \"45\", \"46\", \"47\", \"48\", \"49\", \"50\", \"51\"], \"mode\": \"markers\", \"name\": \"AUC_macro\", \"stepped\": false, \"type\": \"scatter\", \"data\": [0.9934316269208624, 0.9933679623492558, 0.9862331611347134, 0.9820487835613708, 0.9902641987387735, 0.9935271543101866, 0.9911197209664901, 0.9856858378367095, 0.9908050477737446, 0.9883193493034709, 0.9836298359672471, 0.9868425425086397, 0.9840768743316446, 0.9872909836306288, 0.9920915657059224, 0.9875017131518551, 0.987302958807701, 0.9788628332562354, 0.9764487216979875, 0.9900375956882306, 0.9897671077466702, 0.970872750730815, 0.9964182374519245, 0.9939895265548367, 0.9951633952094475, 0.9836575446849782, 0.9963598733878536, 0.9938865829644901, 0.9940593879575823, 0.9963381660368148, 0.9924795221604672, 0.9891315241240435, 0.9964182374519245, 0.995882341023903, 0.9920065293338626, 0.9647510802278141, 0.9958856783586715, 0.9962814853151724, 0.9939262463887422, 0.993113885731302, 0.9904831547324123, 0.9967492309478796, 0.996963191576506, 0.9916890754248747, 0.9962731273032072, 0.996402913156549, 0.9954808137056105, 0.9955447523245364, 0.9919577649089375, 0.9923069577169696, 0.9966994740342452, 0.9966994740342452]}, {\"categories\": [\"0\", \"1\", \"2\", \"3\", \"4\", \"5\", \"6\", \"7\", \"8\", \"9\", \"10\", \"11\", \"12\", \"13\", \"14\", \"15\", \"16\", \"17\", \"18\", \"19\", \"20\", \"21\", \"22\", \"23\", \"24\", \"25\", \"26\", \"27\", \"28\", \"29\", \"30\", \"31\", \"32\", \"33\", \"34\", \"35\", \"36\", \"37\", \"38\", \"39\", \"40\", \"41\", \"42\", \"43\", \"44\", \"45\", \"46\", \"47\", \"48\", \"49\", \"50\", \"51\"], \"mode\": \"lines\", \"name\": \"AUC_macro_max\", \"stepped\": true, \"type\": \"scatter\", \"data\": [0.9934316269208624, 0.9934316269208624, 0.9934316269208624, 0.9934316269208624, 0.9934316269208624, 0.9935271543101866, 0.9935271543101866, 0.9935271543101866, 0.9935271543101866, 0.9935271543101866, 0.9935271543101866, 0.9935271543101866, 0.9935271543101866, 0.9935271543101866, 0.9935271543101866, 0.9935271543101866, 0.9935271543101866, 0.9935271543101866, 0.9935271543101866, 0.9935271543101866, 0.9935271543101866, 0.9935271543101866, 0.9964182374519245, 0.9964182374519245, 0.9964182374519245, 0.9964182374519245, 0.9964182374519245, 0.9964182374519245, 0.9964182374519245, 0.9964182374519245, 0.9964182374519245, 0.9964182374519245, 0.9964182374519245, 0.9964182374519245, 0.9964182374519245, 0.9964182374519245, 0.9964182374519245, 0.9964182374519245, 0.9964182374519245, 0.9964182374519245, 0.9964182374519245, 0.9967492309478796, 0.996963191576506, 0.996963191576506, 0.996963191576506, 0.996963191576506, 0.996963191576506, 0.996963191576506, 0.996963191576506, 0.996963191576506, 0.996963191576506, 0.996963191576506]}], \"precision_score_weighted\": [{\"categories\": [\"0\", \"1\", \"2\", \"3\", \"4\", \"5\", \"6\", \"7\", \"8\", \"9\", \"10\", \"11\", \"12\", \"13\", \"14\", \"15\", \"16\", \"17\", \"18\", \"19\", \"20\", \"21\", \"22\", \"23\", \"24\", \"25\", \"26\", \"27\", \"28\", \"29\", \"30\", \"31\", \"32\", \"33\", \"34\", \"35\", \"36\", \"37\", \"38\", \"39\", \"40\", \"41\", \"42\", \"43\", \"44\", \"45\", \"46\", \"47\", \"48\", \"49\", \"50\", \"51\"], \"mode\": \"markers\", \"name\": \"precision_score_weighted\", \"stepped\": false, \"type\": \"scatter\", \"data\": [0.9707772186248885, 0.9612093744102488, 0.9499629405125581, 0.9316902250455072, 0.9581072768622765, 0.9635892837840354, 0.9592779163063486, 0.9469368281855726, 0.9528810016466233, 0.9614270242346066, 0.9419805429487742, 0.9502595177302279, 0.9544172724440843, 0.9423965400265996, 0.9675866397072227, 0.9467426000281014, 0.9471496742895835, 0.9356029128523797, 0.9378181797431757, 0.9659684567439004, 0.947845984281584, 0.9355138428717676, 0.9746711442259753, 0.9710150019179112, 0.9742258553716402, 0.9390631995916546, 0.9830860587101349, 0.9759808998898425, 0.9690577479655532, 0.9728525385395436, 0.9711385147889067, 0.9584799730187743, 0.9746711442259753, 0.9828600884675511, 0.9604441521636753, 0.9102710848667318, 0.9845960951509263, 0.9811672496213545, 0.9669009194630498, 0.957961447393511, 0.9588062668155697, 0.9847438629443935, 0.9830643017224983, 0.9627418671363998, 0.9747674799281691, 0.9747674799281691, 0.9746745700648353, 0.9793948004804843, 0.9675445934252833, 0.9568700704958655, 0.9879490993740603, 0.9863504811158386]}, {\"categories\": [\"0\", \"1\", \"2\", \"3\", \"4\", \"5\", \"6\", \"7\", \"8\", \"9\", \"10\", \"11\", \"12\", \"13\", \"14\", \"15\", \"16\", \"17\", \"18\", \"19\", \"20\", \"21\", \"22\", \"23\", \"24\", \"25\", \"26\", \"27\", \"28\", \"29\", \"30\", \"31\", \"32\", \"33\", \"34\", \"35\", \"36\", \"37\", \"38\", \"39\", \"40\", \"41\", \"42\", \"43\", \"44\", \"45\", \"46\", \"47\", \"48\", \"49\", \"50\", \"51\"], \"mode\": \"lines\", \"name\": \"precision_score_weighted_max\", \"stepped\": true, \"type\": \"scatter\", \"data\": [0.9707772186248885, 0.9707772186248885, 0.9707772186248885, 0.9707772186248885, 0.9707772186248885, 0.9707772186248885, 0.9707772186248885, 0.9707772186248885, 0.9707772186248885, 0.9707772186248885, 0.9707772186248885, 0.9707772186248885, 0.9707772186248885, 0.9707772186248885, 0.9707772186248885, 0.9707772186248885, 0.9707772186248885, 0.9707772186248885, 0.9707772186248885, 0.9707772186248885, 0.9707772186248885, 0.9707772186248885, 0.9746711442259753, 0.9746711442259753, 0.9746711442259753, 0.9746711442259753, 0.9830860587101349, 0.9830860587101349, 0.9830860587101349, 0.9830860587101349, 0.9830860587101349, 0.9830860587101349, 0.9830860587101349, 0.9830860587101349, 0.9830860587101349, 0.9830860587101349, 0.9845960951509263, 0.9845960951509263, 0.9845960951509263, 0.9845960951509263, 0.9845960951509263, 0.9847438629443935, 0.9847438629443935, 0.9847438629443935, 0.9847438629443935, 0.9847438629443935, 0.9847438629443935, 0.9847438629443935, 0.9847438629443935, 0.9847438629443935, 0.9879490993740603, 0.9879490993740603]}], \"recall_score_macro\": [{\"categories\": [\"0\", \"1\", \"2\", \"3\", \"4\", \"5\", \"6\", \"7\", \"8\", \"9\", \"10\", \"11\", \"12\", \"13\", \"14\", \"15\", \"16\", \"17\", \"18\", \"19\", \"20\", \"21\", \"22\", \"23\", \"24\", \"25\", \"26\", \"27\", \"28\", \"29\", \"30\", \"31\", \"32\", \"33\", \"34\", \"35\", \"36\", \"37\", \"38\", \"39\", \"40\", \"41\", \"42\", \"43\", \"44\", \"45\", \"46\", \"47\", \"48\", \"49\", \"50\", \"51\"], \"mode\": \"markers\", \"name\": \"recall_score_macro\", \"stepped\": false, \"type\": \"scatter\", \"data\": [0.9649057447798122, 0.9549372806759795, 0.9444913215529604, 0.9232948509136085, 0.9530643529662799, 0.9581163729539698, 0.9541889705717447, 0.9393723545179139, 0.9490078096470516, 0.9510637244987468, 0.933705909289527, 0.941817590509775, 0.9490494874928661, 0.9355334327318486, 0.9606003826402644, 0.9406363496029332, 0.9384948188699441, 0.9222601538030961, 0.9335185377556844, 0.9592305196265656, 0.9398286458476066, 0.9221264560683753, 0.9732360224566895, 0.9697311799540023, 0.9698244665254208, 0.926542787838525, 0.9793328126642018, 0.9735001944134776, 0.9651915349410244, 0.9678330506022583, 0.9661185889696908, 0.9522091926539084, 0.9732360224566895, 0.9800117845201228, 0.9537473094214622, 0.8877119500530573, 0.9801688963210701, 0.9786604331687714, 0.9620157715689434, 0.9542693972338256, 0.9420370435693872, 0.9826124167645907, 0.9804385037211125, 0.9586865615690959, 0.9691663839355918, 0.9691663839355918, 0.9679901624032059, 0.9750271692281236, 0.961321507982149, 0.9521119036735426, 0.9849069119286511, 0.9827329988851728]}, {\"categories\": [\"0\", \"1\", \"2\", \"3\", \"4\", \"5\", \"6\", \"7\", \"8\", \"9\", \"10\", \"11\", \"12\", \"13\", \"14\", \"15\", \"16\", \"17\", \"18\", \"19\", \"20\", \"21\", \"22\", \"23\", \"24\", \"25\", \"26\", \"27\", \"28\", \"29\", \"30\", \"31\", \"32\", \"33\", \"34\", \"35\", \"36\", \"37\", \"38\", \"39\", \"40\", \"41\", \"42\", \"43\", \"44\", \"45\", \"46\", \"47\", \"48\", \"49\", \"50\", \"51\"], \"mode\": \"lines\", \"name\": \"recall_score_macro_max\", \"stepped\": true, \"type\": \"scatter\", \"data\": [0.9649057447798122, 0.9649057447798122, 0.9649057447798122, 0.9649057447798122, 0.9649057447798122, 0.9649057447798122, 0.9649057447798122, 0.9649057447798122, 0.9649057447798122, 0.9649057447798122, 0.9649057447798122, 0.9649057447798122, 0.9649057447798122, 0.9649057447798122, 0.9649057447798122, 0.9649057447798122, 0.9649057447798122, 0.9649057447798122, 0.9649057447798122, 0.9649057447798122, 0.9649057447798122, 0.9649057447798122, 0.9732360224566895, 0.9732360224566895, 0.9732360224566895, 0.9732360224566895, 0.9793328126642018, 0.9793328126642018, 0.9793328126642018, 0.9793328126642018, 0.9793328126642018, 0.9793328126642018, 0.9793328126642018, 0.9800117845201228, 0.9800117845201228, 0.9800117845201228, 0.9801688963210701, 0.9801688963210701, 0.9801688963210701, 0.9801688963210701, 0.9801688963210701, 0.9826124167645907, 0.9826124167645907, 0.9826124167645907, 0.9826124167645907, 0.9826124167645907, 0.9826124167645907, 0.9826124167645907, 0.9826124167645907, 0.9826124167645907, 0.9849069119286511, 0.9849069119286511]}], \"f1_score_macro\": [{\"categories\": [\"0\", \"1\", \"2\", \"3\", \"4\", \"5\", \"6\", \"7\", \"8\", \"9\", \"10\", \"11\", \"12\", \"13\", \"14\", \"15\", \"16\", \"17\", \"18\", \"19\", \"20\", \"21\", \"22\", \"23\", \"24\", \"25\", \"26\", \"27\", \"28\", \"29\", \"30\", \"31\", \"32\", \"33\", \"34\", \"35\", \"36\", \"37\", \"38\", \"39\", \"40\", \"41\", \"42\", \"43\", \"44\", \"45\", \"46\", \"47\", \"48\", \"49\", \"50\", \"51\"], \"mode\": \"markers\", \"name\": \"f1_score_macro\", \"stepped\": false, \"type\": \"scatter\", \"data\": [0.9675171389662415, 0.9564507180846779, 0.9448240457310548, 0.9239488809095985, 0.9542620371916526, 0.9600915602545015, 0.9545793382309788, 0.9410210680543543, 0.9493872651348931, 0.9558182977269695, 0.9353949922293381, 0.9447301016455916, 0.9487657140118589, 0.937094992566186, 0.9638654331919833, 0.9410483379412483, 0.940650614026573, 0.927463801317965, 0.9321138708493304, 0.9620091740008675, 0.9424716595380211, 0.9271027579876734, 0.9716711867799921, 0.9680151716641866, 0.9715435737918101, 0.9325735260991458, 0.9811237680690228, 0.9735693008228197, 0.9660444217319075, 0.9695772675770066, 0.9676021697474437, 0.9542367954830693, 0.9716711867799921, 0.981083904925398, 0.9558740107817956, 0.8972295388496401, 0.9829073440363085, 0.979190736246515, 0.9637574545130316, 0.9528000171387413, 0.9514783581576566, 0.9830244639210047, 0.981181794442664, 0.9583751134311387, 0.9715112201053863, 0.9715112201053863, 0.9712295528689288, 0.9771849477204038, 0.9638475570130691, 0.9526678575483768, 0.9867762047332045, 0.9848927670018641]}, {\"categories\": [\"0\", \"1\", \"2\", \"3\", \"4\", \"5\", \"6\", \"7\", \"8\", \"9\", \"10\", \"11\", \"12\", \"13\", \"14\", \"15\", \"16\", \"17\", \"18\", \"19\", \"20\", \"21\", \"22\", \"23\", \"24\", \"25\", \"26\", \"27\", \"28\", \"29\", \"30\", \"31\", \"32\", \"33\", \"34\", \"35\", \"36\", \"37\", \"38\", \"39\", \"40\", \"41\", \"42\", \"43\", \"44\", \"45\", \"46\", \"47\", \"48\", \"49\", \"50\", \"51\"], \"mode\": \"lines\", \"name\": \"f1_score_macro_max\", \"stepped\": true, \"type\": \"scatter\", \"data\": [0.9675171389662415, 0.9675171389662415, 0.9675171389662415, 0.9675171389662415, 0.9675171389662415, 0.9675171389662415, 0.9675171389662415, 0.9675171389662415, 0.9675171389662415, 0.9675171389662415, 0.9675171389662415, 0.9675171389662415, 0.9675171389662415, 0.9675171389662415, 0.9675171389662415, 0.9675171389662415, 0.9675171389662415, 0.9675171389662415, 0.9675171389662415, 0.9675171389662415, 0.9675171389662415, 0.9675171389662415, 0.9716711867799921, 0.9716711867799921, 0.9716711867799921, 0.9716711867799921, 0.9811237680690228, 0.9811237680690228, 0.9811237680690228, 0.9811237680690228, 0.9811237680690228, 0.9811237680690228, 0.9811237680690228, 0.9811237680690228, 0.9811237680690228, 0.9811237680690228, 0.9829073440363085, 0.9829073440363085, 0.9829073440363085, 0.9829073440363085, 0.9829073440363085, 0.9830244639210047, 0.9830244639210047, 0.9830244639210047, 0.9830244639210047, 0.9830244639210047, 0.9830244639210047, 0.9830244639210047, 0.9830244639210047, 0.9830244639210047, 0.9867762047332045, 0.9867762047332045]}], \"log_loss\": [{\"categories\": [\"0\", \"1\", \"2\", \"3\", \"4\", \"5\", \"6\", \"7\", \"8\", \"9\", \"10\", \"11\", \"12\", \"13\", \"14\", \"15\", \"16\", \"17\", \"18\", \"19\", \"20\", \"21\", \"22\", \"23\", \"24\", \"25\", \"26\", \"27\", \"28\", \"29\", \"30\", \"31\", \"32\", \"33\", \"34\", \"35\", \"36\", \"37\", \"38\", \"39\", \"40\", \"41\", \"42\", \"43\", \"44\", \"45\", \"46\", \"47\", \"48\", \"49\", \"50\", \"51\"], \"mode\": \"markers\", \"name\": \"log_loss\", \"stepped\": false, \"type\": \"scatter\", \"data\": [0.13059455672786643, 0.10704128151419853, 0.20269954906747048, 0.2191904965328227, 0.18213576799405296, 0.09872034361040807, 0.12190072253979829, 0.20373959599335745, 0.13127660603942032, 0.14654266691372891, 0.15675784259026657, 0.2076574247914312, 0.27477884609611924, 0.17431517370798932, 0.10817853768952146, 0.28545163174413374, 0.17167637826425716, 0.3149390368843742, 0.3962847101758348, 0.11693782006873472, 0.1598427799875988, 0.652167131570418, 0.07595039393141464, 0.10625328922965833, 0.148284819282616, 0.6677229111198894, 0.07832546205294547, 0.13310879923298763, 0.10102605843724063, 0.08247684449391987, 0.13919646138692576, 0.11932407201958617, 0.07569696284888969, 0.07465524647926998, 0.11124120003610771, 0.2284093777402499, 0.08385969019897292, 0.07318105142404678, 0.09621358466339144, 0.10496741169803854, 0.1898484188852036, 0.0706349202359263, 0.06826235906414486, 0.1111750380694229, 0.08041365956475571, 0.08039276244086628, 0.09567457027996222, 0.08924709823860004, 0.10846835132182504, 0.1135491741182439, 0.07430002052598664, 0.12102511287319115]}, {\"categories\": [\"0\", \"1\", \"2\", \"3\", \"4\", \"5\", \"6\", \"7\", \"8\", \"9\", \"10\", \"11\", \"12\", \"13\", \"14\", \"15\", \"16\", \"17\", \"18\", \"19\", \"20\", \"21\", \"22\", \"23\", \"24\", \"25\", \"26\", \"27\", \"28\", \"29\", \"30\", \"31\", \"32\", \"33\", \"34\", \"35\", \"36\", \"37\", \"38\", \"39\", \"40\", \"41\", \"42\", \"43\", \"44\", \"45\", \"46\", \"47\", \"48\", \"49\", \"50\", \"51\"], \"mode\": \"lines\", \"name\": \"log_loss_min\", \"stepped\": true, \"type\": \"scatter\", \"data\": [0.13059455672786643, 0.10704128151419853, 0.10704128151419853, 0.10704128151419853, 0.10704128151419853, 0.09872034361040807, 0.09872034361040807, 0.09872034361040807, 0.09872034361040807, 0.09872034361040807, 0.09872034361040807, 0.09872034361040807, 0.09872034361040807, 0.09872034361040807, 0.09872034361040807, 0.09872034361040807, 0.09872034361040807, 0.09872034361040807, 0.09872034361040807, 0.09872034361040807, 0.09872034361040807, 0.09872034361040807, 0.07595039393141464, 0.07595039393141464, 0.07595039393141464, 0.07595039393141464, 0.07595039393141464, 0.07595039393141464, 0.07595039393141464, 0.07595039393141464, 0.07595039393141464, 0.07595039393141464, 0.07569696284888969, 0.07465524647926998, 0.07465524647926998, 0.07465524647926998, 0.07465524647926998, 0.07318105142404678, 0.07318105142404678, 0.07318105142404678, 0.07318105142404678, 0.0706349202359263, 0.06826235906414486, 0.06826235906414486, 0.06826235906414486, 0.06826235906414486, 0.06826235906414486, 0.06826235906414486, 0.06826235906414486, 0.06826235906414486, 0.06826235906414486, 0.06826235906414486]}], \"AUC_micro\": [{\"categories\": [\"0\", \"1\", \"2\", \"3\", \"4\", \"5\", \"6\", \"7\", \"8\", \"9\", \"10\", \"11\", \"12\", \"13\", \"14\", \"15\", \"16\", \"17\", \"18\", \"19\", \"20\", \"21\", \"22\", \"23\", \"24\", \"25\", \"26\", \"27\", \"28\", \"29\", \"30\", \"31\", \"32\", \"33\", \"34\", \"35\", \"36\", \"37\", \"38\", \"39\", \"40\", \"41\", \"42\", \"43\", \"44\", \"45\", \"46\", \"47\", \"48\", \"49\", \"50\", \"51\"], \"mode\": \"markers\", \"name\": \"AUC_micro\", \"stepped\": false, \"type\": \"scatter\", \"data\": [0.9933495443973663, 0.9937507618445632, 0.9868632422692105, 0.9830905940178442, 0.9911630260951754, 0.9943252971974171, 0.9905830865722256, 0.9867406059337739, 0.9908942252778683, 0.9890659706712652, 0.9853472881925078, 0.9859859118925994, 0.9842786521228446, 0.9879677864217985, 0.9924166079547696, 0.9878105412218501, 0.9878065061724566, 0.9803638069471352, 0.977056806770379, 0.990915086290399, 0.9899993855829805, 0.9738489147826253, 0.996610034242239, 0.9942636036061965, 0.9954951614237901, 0.9842490352459636, 0.996557026613079, 0.9948361551802863, 0.9939123843740807, 0.9963745430710308, 0.9939292778290836, 0.9902151100740504, 0.996610034242239, 0.9963742694879327, 0.9921549202980122, 0.9696078139285904, 0.996172019265746, 0.9965138679754496, 0.9939648448370446, 0.992851066350988, 0.9900009583844916, 0.996976642824924, 0.9971113168166758, 0.9914514561984662, 0.9965130472261553, 0.9965141415585477, 0.9957405702836064, 0.9958493900699844, 0.9920297542228275, 0.9918483650131714, 0.9966949836020076, 0.9936236119906144]}, {\"categories\": [\"0\", \"1\", \"2\", \"3\", \"4\", \"5\", \"6\", \"7\", \"8\", \"9\", \"10\", \"11\", \"12\", \"13\", \"14\", \"15\", \"16\", \"17\", \"18\", \"19\", \"20\", \"21\", \"22\", \"23\", \"24\", \"25\", \"26\", \"27\", \"28\", \"29\", \"30\", \"31\", \"32\", \"33\", \"34\", \"35\", \"36\", \"37\", \"38\", \"39\", \"40\", \"41\", \"42\", \"43\", \"44\", \"45\", \"46\", \"47\", \"48\", \"49\", \"50\", \"51\"], \"mode\": \"lines\", \"name\": \"AUC_micro_max\", \"stepped\": true, \"type\": \"scatter\", \"data\": [0.9933495443973663, 0.9937507618445632, 0.9937507618445632, 0.9937507618445632, 0.9937507618445632, 0.9943252971974171, 0.9943252971974171, 0.9943252971974171, 0.9943252971974171, 0.9943252971974171, 0.9943252971974171, 0.9943252971974171, 0.9943252971974171, 0.9943252971974171, 0.9943252971974171, 0.9943252971974171, 0.9943252971974171, 0.9943252971974171, 0.9943252971974171, 0.9943252971974171, 0.9943252971974171, 0.9943252971974171, 0.996610034242239, 0.996610034242239, 0.996610034242239, 0.996610034242239, 0.996610034242239, 0.996610034242239, 0.996610034242239, 0.996610034242239, 0.996610034242239, 0.996610034242239, 0.996610034242239, 0.996610034242239, 0.996610034242239, 0.996610034242239, 0.996610034242239, 0.996610034242239, 0.996610034242239, 0.996610034242239, 0.996610034242239, 0.996976642824924, 0.9971113168166758, 0.9971113168166758, 0.9971113168166758, 0.9971113168166758, 0.9971113168166758, 0.9971113168166758, 0.9971113168166758, 0.9971113168166758, 0.9971113168166758, 0.9971113168166758]}], \"norm_macro_recall\": [{\"categories\": [\"0\", \"1\", \"2\", \"3\", \"4\", \"5\", \"6\", \"7\", \"8\", \"9\", \"10\", \"11\", \"12\", \"13\", \"14\", \"15\", \"16\", \"17\", \"18\", \"19\", \"20\", \"21\", \"22\", \"23\", \"24\", \"25\", \"26\", \"27\", \"28\", \"29\", \"30\", \"31\", \"32\", \"33\", \"34\", \"35\", \"36\", \"37\", \"38\", \"39\", \"40\", \"41\", \"42\", \"43\", \"44\", \"45\", \"46\", \"47\", \"48\", \"49\", \"50\", \"51\"], \"mode\": \"markers\", \"name\": \"norm_macro_recall\", \"stepped\": false, \"type\": \"scatter\", \"data\": [0.9298114895596239, 0.909874561351959, 0.8889826431059207, 0.8465897018272169, 0.9061287059325597, 0.9162327459079396, 0.9083779411434894, 0.8787447090358276, 0.8980156192941029, 0.9021274489974935, 0.867411818579054, 0.8836351810195499, 0.8980989749857322, 0.8710668654636973, 0.9212007652805287, 0.8812726992058666, 0.8769896377398883, 0.8445203076061922, 0.8670370755113691, 0.9184610392531312, 0.8796572916952133, 0.8442529121367508, 0.946472044913379, 0.9394623599080045, 0.9396489330508417, 0.8530855756770499, 0.9586656253284037, 0.9470003888269553, 0.9303830698820488, 0.9356661012045169, 0.9322371779393815, 0.9044183853078167, 0.946472044913379, 0.9600235690402457, 0.9074946188429243, 0.7754239001061146, 0.9603377926421406, 0.9573208663375429, 0.9240315431378864, 0.9085387944676512, 0.8840740871387744, 0.9652248335291812, 0.9608770074422249, 0.9173731231381919, 0.9383327678711837, 0.9383327678711837, 0.9359803248064118, 0.9500543384562473, 0.922643015964298, 0.9042238073470852, 0.9698138238573023, 0.9654659977703457]}, {\"categories\": [\"0\", \"1\", \"2\", \"3\", \"4\", \"5\", \"6\", \"7\", \"8\", \"9\", \"10\", \"11\", \"12\", \"13\", \"14\", \"15\", \"16\", \"17\", \"18\", \"19\", \"20\", \"21\", \"22\", \"23\", \"24\", \"25\", \"26\", \"27\", \"28\", \"29\", \"30\", \"31\", \"32\", \"33\", \"34\", \"35\", \"36\", \"37\", \"38\", \"39\", \"40\", \"41\", \"42\", \"43\", \"44\", \"45\", \"46\", \"47\", \"48\", \"49\", \"50\", \"51\"], \"mode\": \"lines\", \"name\": \"norm_macro_recall_max\", \"stepped\": true, \"type\": \"scatter\", \"data\": [0.9298114895596239, 0.9298114895596239, 0.9298114895596239, 0.9298114895596239, 0.9298114895596239, 0.9298114895596239, 0.9298114895596239, 0.9298114895596239, 0.9298114895596239, 0.9298114895596239, 0.9298114895596239, 0.9298114895596239, 0.9298114895596239, 0.9298114895596239, 0.9298114895596239, 0.9298114895596239, 0.9298114895596239, 0.9298114895596239, 0.9298114895596239, 0.9298114895596239, 0.9298114895596239, 0.9298114895596239, 0.946472044913379, 0.946472044913379, 0.946472044913379, 0.946472044913379, 0.9586656253284037, 0.9586656253284037, 0.9586656253284037, 0.9586656253284037, 0.9586656253284037, 0.9586656253284037, 0.9586656253284037, 0.9600235690402457, 0.9600235690402457, 0.9600235690402457, 0.9603377926421406, 0.9603377926421406, 0.9603377926421406, 0.9603377926421406, 0.9603377926421406, 0.9652248335291812, 0.9652248335291812, 0.9652248335291812, 0.9652248335291812, 0.9652248335291812, 0.9652248335291812, 0.9652248335291812, 0.9652248335291812, 0.9652248335291812, 0.9698138238573023, 0.9698138238573023]}], \"balanced_accuracy\": [{\"categories\": [\"0\", \"1\", \"2\", \"3\", \"4\", \"5\", \"6\", \"7\", \"8\", \"9\", \"10\", \"11\", \"12\", \"13\", \"14\", \"15\", \"16\", \"17\", \"18\", \"19\", \"20\", \"21\", \"22\", \"23\", \"24\", \"25\", \"26\", \"27\", \"28\", \"29\", \"30\", \"31\", \"32\", \"33\", \"34\", \"35\", \"36\", \"37\", \"38\", \"39\", \"40\", \"41\", \"42\", \"43\", \"44\", \"45\", \"46\", \"47\", \"48\", \"49\", \"50\", \"51\"], \"mode\": \"markers\", \"name\": \"balanced_accuracy\", \"stepped\": false, \"type\": \"scatter\", \"data\": [0.9649057447798122, 0.9549372806759795, 0.9444913215529604, 0.9232948509136085, 0.9530643529662799, 0.9581163729539698, 0.9541889705717447, 0.9393723545179139, 0.9490078096470516, 0.9510637244987468, 0.933705909289527, 0.941817590509775, 0.9490494874928661, 0.9355334327318486, 0.9606003826402644, 0.9406363496029332, 0.9384948188699441, 0.9222601538030961, 0.9335185377556844, 0.9592305196265656, 0.9398286458476066, 0.9221264560683753, 0.9732360224566895, 0.9697311799540023, 0.9698244665254208, 0.926542787838525, 0.9793328126642018, 0.9735001944134776, 0.9651915349410244, 0.9678330506022583, 0.9661185889696908, 0.9522091926539084, 0.9732360224566895, 0.9800117845201228, 0.9537473094214622, 0.8877119500530573, 0.9801688963210701, 0.9786604331687714, 0.9620157715689434, 0.9542693972338256, 0.9420370435693872, 0.9826124167645907, 0.9804385037211125, 0.9586865615690959, 0.9691663839355918, 0.9691663839355918, 0.9679901624032059, 0.9750271692281236, 0.961321507982149, 0.9521119036735426, 0.9849069119286511, 0.9827329988851728]}, {\"categories\": [\"0\", \"1\", \"2\", \"3\", \"4\", \"5\", \"6\", \"7\", \"8\", \"9\", \"10\", \"11\", \"12\", \"13\", \"14\", \"15\", \"16\", \"17\", \"18\", \"19\", \"20\", \"21\", \"22\", \"23\", \"24\", \"25\", \"26\", \"27\", \"28\", \"29\", \"30\", \"31\", \"32\", \"33\", \"34\", \"35\", \"36\", \"37\", \"38\", \"39\", \"40\", \"41\", \"42\", \"43\", \"44\", \"45\", \"46\", \"47\", \"48\", \"49\", \"50\", \"51\"], \"mode\": \"lines\", \"name\": \"balanced_accuracy_max\", \"stepped\": true, \"type\": \"scatter\", \"data\": [0.9649057447798122, 0.9649057447798122, 0.9649057447798122, 0.9649057447798122, 0.9649057447798122, 0.9649057447798122, 0.9649057447798122, 0.9649057447798122, 0.9649057447798122, 0.9649057447798122, 0.9649057447798122, 0.9649057447798122, 0.9649057447798122, 0.9649057447798122, 0.9649057447798122, 0.9649057447798122, 0.9649057447798122, 0.9649057447798122, 0.9649057447798122, 0.9649057447798122, 0.9649057447798122, 0.9649057447798122, 0.9732360224566895, 0.9732360224566895, 0.9732360224566895, 0.9732360224566895, 0.9793328126642018, 0.9793328126642018, 0.9793328126642018, 0.9793328126642018, 0.9793328126642018, 0.9793328126642018, 0.9793328126642018, 0.9800117845201228, 0.9800117845201228, 0.9800117845201228, 0.9801688963210701, 0.9801688963210701, 0.9801688963210701, 0.9801688963210701, 0.9801688963210701, 0.9826124167645907, 0.9826124167645907, 0.9826124167645907, 0.9826124167645907, 0.9826124167645907, 0.9826124167645907, 0.9826124167645907, 0.9826124167645907, 0.9826124167645907, 0.9849069119286511, 0.9849069119286511]}], \"precision_score_micro\": [{\"categories\": [\"0\", \"1\", \"2\", \"3\", \"4\", \"5\", \"6\", \"7\", \"8\", \"9\", \"10\", \"11\", \"12\", \"13\", \"14\", \"15\", \"16\", \"17\", \"18\", \"19\", \"20\", \"21\", \"22\", \"23\", \"24\", \"25\", \"26\", \"27\", \"28\", \"29\", \"30\", \"31\", \"32\", \"33\", \"34\", \"35\", \"36\", \"37\", \"38\", \"39\", \"40\", \"41\", \"42\", \"43\", \"44\", \"45\", \"46\", \"47\", \"48\", \"49\", \"50\", \"51\"], \"mode\": \"markers\", \"name\": \"precision_score_micro\", \"stepped\": false, \"type\": \"scatter\", \"data\": [0.9700978108989287, 0.95954044403043, 0.9489986027014439, 0.9296693060083838, 0.9577860580655176, 0.9630957925787922, 0.9578015836050303, 0.9454432541530817, 0.9525073746312683, 0.95954044403043, 0.9402111473373699, 0.9489986027014439, 0.9524607980127309, 0.9419965843813072, 0.9665735134295916, 0.9454743052321067, 0.9454898307716192, 0.9331470268591833, 0.9367179009470579, 0.9648191274646795, 0.9472442167365316, 0.9331470268591835, 0.9736221083682658, 0.9700978108989288, 0.9736376339077782, 0.9384878124514827, 0.9823785126533148, 0.9753920198726906, 0.9683434249340165, 0.971852196863841, 0.9700978108989288, 0.9577860580655176, 0.9736221083682658, 0.9823940381928271, 0.9595559695699425, 0.9068001863064742, 0.9841484241577394, 0.9806396522279149, 0.9665735134295919, 0.9560316721006055, 0.956016146561093, 0.9841484241577394, 0.9823940381928271, 0.9612793044558299, 0.9736065828287532, 0.9736065828287532, 0.9735910572892408, 0.9788852662630025, 0.9665735134295919, 0.956016146561093, 0.9876727216270765, 0.9859028101226517]}, {\"categories\": [\"0\", \"1\", \"2\", \"3\", \"4\", \"5\", \"6\", \"7\", \"8\", \"9\", \"10\", \"11\", \"12\", \"13\", \"14\", \"15\", \"16\", \"17\", \"18\", \"19\", \"20\", \"21\", \"22\", \"23\", \"24\", \"25\", \"26\", \"27\", \"28\", \"29\", \"30\", \"31\", \"32\", \"33\", \"34\", \"35\", \"36\", \"37\", \"38\", \"39\", \"40\", \"41\", \"42\", \"43\", \"44\", \"45\", \"46\", \"47\", \"48\", \"49\", \"50\", \"51\"], \"mode\": \"lines\", \"name\": \"precision_score_micro_max\", \"stepped\": true, \"type\": \"scatter\", \"data\": [0.9700978108989287, 0.9700978108989287, 0.9700978108989287, 0.9700978108989287, 0.9700978108989287, 0.9700978108989287, 0.9700978108989287, 0.9700978108989287, 0.9700978108989287, 0.9700978108989287, 0.9700978108989287, 0.9700978108989287, 0.9700978108989287, 0.9700978108989287, 0.9700978108989287, 0.9700978108989287, 0.9700978108989287, 0.9700978108989287, 0.9700978108989287, 0.9700978108989287, 0.9700978108989287, 0.9700978108989287, 0.9736221083682658, 0.9736221083682658, 0.9736376339077782, 0.9736376339077782, 0.9823785126533148, 0.9823785126533148, 0.9823785126533148, 0.9823785126533148, 0.9823785126533148, 0.9823785126533148, 0.9823785126533148, 0.9823940381928271, 0.9823940381928271, 0.9823940381928271, 0.9841484241577394, 0.9841484241577394, 0.9841484241577394, 0.9841484241577394, 0.9841484241577394, 0.9841484241577394, 0.9841484241577394, 0.9841484241577394, 0.9841484241577394, 0.9841484241577394, 0.9841484241577394, 0.9841484241577394, 0.9841484241577394, 0.9841484241577394, 0.9876727216270765, 0.9876727216270765]}], \"average_precision_score_micro\": [{\"categories\": [\"0\", \"1\", \"2\", \"3\", \"4\", \"5\", \"6\", \"7\", \"8\", \"9\", \"10\", \"11\", \"12\", \"13\", \"14\", \"15\", \"16\", \"17\", \"18\", \"19\", \"20\", \"21\", \"22\", \"23\", \"24\", \"25\", \"26\", \"27\", \"28\", \"29\", \"30\", \"31\", \"32\", \"33\", \"34\", \"35\", \"36\", \"37\", \"38\", \"39\", \"40\", \"41\", \"42\", \"43\", \"44\", \"45\", \"46\", \"47\", \"48\", \"49\", \"50\", \"51\"], \"mode\": \"markers\", \"name\": \"average_precision_score_micro\", \"stepped\": false, \"type\": \"scatter\", \"data\": [0.9935690122899178, 0.9939774647145972, 0.9859654195866192, 0.9815710304711194, 0.9901128081300546, 0.994397155124048, 0.9905647921762893, 0.9851960796981478, 0.9910515158934269, 0.9887766241744671, 0.9855554014377862, 0.9838752798504068, 0.9814106680960526, 0.9882094538566099, 0.9926160473021973, 0.9868366419921722, 0.9878541983952905, 0.9785366125143151, 0.9729372284460744, 0.9911595901321238, 0.9901793160920167, 0.9666124677560226, 0.996708884061426, 0.9944366106820752, 0.9956070657471805, 0.9847205062418997, 0.9966521575149118, 0.9949284212831021, 0.9940959617727418, 0.996484380195616, 0.9940016343376239, 0.9904649422536942, 0.996708884061426, 0.9964765051459754, 0.9923654528317402, 0.9706783653763011, 0.9962734691033154, 0.9966098348154555, 0.9941297438864638, 0.9930793476334431, 0.9900571982375945, 0.9970681256518763, 0.9972071324712652, 0.9909776859776015, 0.9966216733424194, 0.9966217316337478, 0.9958576949399776, 0.9959541912522741, 0.9915779692655511, 0.9918751153581962, 0.9967798422288936, 0.9934810327504209]}, {\"categories\": [\"0\", \"1\", \"2\", \"3\", \"4\", \"5\", \"6\", \"7\", \"8\", \"9\", \"10\", \"11\", \"12\", \"13\", \"14\", \"15\", \"16\", \"17\", \"18\", \"19\", \"20\", \"21\", \"22\", \"23\", \"24\", \"25\", \"26\", \"27\", \"28\", \"29\", \"30\", \"31\", \"32\", \"33\", \"34\", \"35\", \"36\", \"37\", \"38\", \"39\", \"40\", \"41\", \"42\", \"43\", \"44\", \"45\", \"46\", \"47\", \"48\", \"49\", \"50\", \"51\"], \"mode\": \"lines\", \"name\": \"average_precision_score_micro_max\", \"stepped\": true, \"type\": \"scatter\", \"data\": [0.9935690122899178, 0.9939774647145972, 0.9939774647145972, 0.9939774647145972, 0.9939774647145972, 0.994397155124048, 0.994397155124048, 0.994397155124048, 0.994397155124048, 0.994397155124048, 0.994397155124048, 0.994397155124048, 0.994397155124048, 0.994397155124048, 0.994397155124048, 0.994397155124048, 0.994397155124048, 0.994397155124048, 0.994397155124048, 0.994397155124048, 0.994397155124048, 0.994397155124048, 0.996708884061426, 0.996708884061426, 0.996708884061426, 0.996708884061426, 0.996708884061426, 0.996708884061426, 0.996708884061426, 0.996708884061426, 0.996708884061426, 0.996708884061426, 0.996708884061426, 0.996708884061426, 0.996708884061426, 0.996708884061426, 0.996708884061426, 0.996708884061426, 0.996708884061426, 0.996708884061426, 0.996708884061426, 0.9970681256518763, 0.9972071324712652, 0.9972071324712652, 0.9972071324712652, 0.9972071324712652, 0.9972071324712652, 0.9972071324712652, 0.9972071324712652, 0.9972071324712652, 0.9972071324712652, 0.9972071324712652]}]}, \"metricName\": null, \"primaryMetricName\": \"accuracy\", \"showLegend\": false}, \"run_metrics\": [{\"name\": \"f1_score_macro\", \"run_id\": \"AutoML_68e8e59f-94d3-404f-8a26-0d72b5307a69\", \"categories\": [0], \"series\": [{\"data\": [0.9867762047332045]}]}, {\"name\": \"AUC_weighted\", \"run_id\": \"AutoML_68e8e59f-94d3-404f-8a26-0d72b5307a69\", \"categories\": [0], \"series\": [{\"data\": [0.9966994740342454]}]}, {\"name\": \"log_loss\", \"run_id\": \"AutoML_68e8e59f-94d3-404f-8a26-0d72b5307a69\", \"categories\": [0], \"series\": [{\"data\": [0.07430002052598664]}]}, {\"name\": \"AUC_micro\", \"run_id\": \"AutoML_68e8e59f-94d3-404f-8a26-0d72b5307a69\", \"categories\": [0], \"series\": [{\"data\": [0.9966949836020076]}]}, {\"name\": \"balanced_accuracy\", \"run_id\": \"AutoML_68e8e59f-94d3-404f-8a26-0d72b5307a69\", \"categories\": [0], \"series\": [{\"data\": [0.9849069119286511]}]}, {\"name\": \"precision_score_micro\", \"run_id\": \"AutoML_68e8e59f-94d3-404f-8a26-0d72b5307a69\", \"categories\": [0], \"series\": [{\"data\": [0.9876727216270765]}]}, {\"name\": \"average_precision_score_micro\", \"run_id\": \"AutoML_68e8e59f-94d3-404f-8a26-0d72b5307a69\", \"categories\": [0], \"series\": [{\"data\": [0.9967798422288936]}]}, {\"name\": \"norm_macro_recall\", \"run_id\": \"AutoML_68e8e59f-94d3-404f-8a26-0d72b5307a69\", \"categories\": [0], \"series\": [{\"data\": [0.9698138238573023]}]}, {\"name\": \"precision_score_weighted\", \"run_id\": \"AutoML_68e8e59f-94d3-404f-8a26-0d72b5307a69\", \"categories\": [0], \"series\": [{\"data\": [0.9879490993740603]}]}, {\"name\": \"recall_score_macro\", \"run_id\": \"AutoML_68e8e59f-94d3-404f-8a26-0d72b5307a69\", \"categories\": [0], \"series\": [{\"data\": [0.9849069119286511]}]}, {\"name\": \"average_precision_score_weighted\", \"run_id\": \"AutoML_68e8e59f-94d3-404f-8a26-0d72b5307a69\", \"categories\": [0], \"series\": [{\"data\": [0.9970042352311147]}]}, {\"name\": \"recall_score_weighted\", \"run_id\": \"AutoML_68e8e59f-94d3-404f-8a26-0d72b5307a69\", \"categories\": [0], \"series\": [{\"data\": [0.9876727216270765]}]}, {\"name\": \"matthews_correlation\", \"run_id\": \"AutoML_68e8e59f-94d3-404f-8a26-0d72b5307a69\", \"categories\": [0], \"series\": [{\"data\": [0.9739231327696732]}]}, {\"name\": \"weighted_accuracy\", \"run_id\": \"AutoML_68e8e59f-94d3-404f-8a26-0d72b5307a69\", \"categories\": [0], \"series\": [{\"data\": [0.9901351839132795]}]}, {\"name\": \"AUC_macro\", \"run_id\": \"AutoML_68e8e59f-94d3-404f-8a26-0d72b5307a69\", \"categories\": [0], \"series\": [{\"data\": [0.9966994740342452]}]}, {\"name\": \"recall_score_micro\", \"run_id\": \"AutoML_68e8e59f-94d3-404f-8a26-0d72b5307a69\", \"categories\": [0], \"series\": [{\"data\": [0.9876727216270765]}]}, {\"name\": \"accuracy\", \"run_id\": \"AutoML_68e8e59f-94d3-404f-8a26-0d72b5307a69\", \"categories\": [0], \"series\": [{\"data\": [0.9876727216270765]}]}, {\"name\": \"f1_score_weighted\", \"run_id\": \"AutoML_68e8e59f-94d3-404f-8a26-0d72b5307a69\", \"categories\": [0], \"series\": [{\"data\": [0.9876329143766391]}]}, {\"name\": \"f1_score_micro\", \"run_id\": \"AutoML_68e8e59f-94d3-404f-8a26-0d72b5307a69\", \"categories\": [0], \"series\": [{\"data\": [0.9876727216270765]}]}, {\"name\": \"average_precision_score_macro\", \"run_id\": \"AutoML_68e8e59f-94d3-404f-8a26-0d72b5307a69\", \"categories\": [0], \"series\": [{\"data\": [0.9968463777945553]}]}, {\"name\": \"precision_score_macro\", \"run_id\": \"AutoML_68e8e59f-94d3-404f-8a26-0d72b5307a69\", \"categories\": [0], \"series\": [{\"data\": [0.9890342411211976]}]}], \"run_logs\": \"\\nRun is completed.\", \"graph\": {}, \"widget_settings\": {\"childWidgetDisplay\": \"popup\", \"send_telemetry\": false, \"log_level\": \"INFO\", \"sdk_version\": \"1.20.0\"}, \"loading\": false}"
          },
          "metadata": {}
        }
      ],
      "execution_count": 16,
      "metadata": {
        "gather": {
          "logged": 1611643031405
        },
        "jupyter": {
          "outputs_hidden": false,
          "source_hidden": false
        },
        "nteract": {
          "transient": {
            "deleting": false
          }
        }
      }
    },
    {
      "cell_type": "markdown",
      "source": [
        "## Best Model\n",
        "\n",
        "TODO: In the cell below, get the best model from the automl experiments and display all the properties of the model.\n",
        "\n"
      ],
      "metadata": {}
    },
    {
      "cell_type": "code",
      "source": [
        "best_run, fitted_model = remote_run.get_output()\r\n",
        "print('Best-run model: ',best_run)\r\n",
        "print('\\n fitted model: ',fitted_model)"
      ],
      "outputs": [
        {
          "output_type": "stream",
          "name": "stdout",
          "text": [
            "Best-run model:  Run(Experiment: udacity-capstone,\n",
            "Id: AutoML_68e8e59f-94d3-404f-8a26-0d72b5307a69_50,\n",
            "Type: None,\n",
            "Status: Completed)\n",
            "\n",
            " fitted model:  Pipeline(memory=None,\n",
            "         steps=[('datatransformer',\n",
            "                 DataTransformer(enable_dnn=None, enable_feature_sweeping=None,\n",
            "                                 feature_sweeping_config=None,\n",
            "                                 feature_sweeping_timeout=None,\n",
            "                                 featurization_config=None, force_text_dnn=None,\n",
            "                                 is_cross_validation=None,\n",
            "                                 is_onnx_compatible=None, logger=None,\n",
            "                                 observer=None, task=None, working_dir=None)),\n",
            "                ('prefittedsoftvotingclassifier',...\n",
            "                                                                                               objective='reg:logistic',\n",
            "                                                                                               random_state=0,\n",
            "                                                                                               reg_alpha=0,\n",
            "                                                                                               reg_lambda=1.3541666666666667,\n",
            "                                                                                               scale_pos_weight=1,\n",
            "                                                                                               seed=None,\n",
            "                                                                                               silent=None,\n",
            "                                                                                               subsample=1,\n",
            "                                                                                               tree_method='auto',\n",
            "                                                                                               verbose=-10,\n",
            "                                                                                               verbosity=0))],\n",
            "                                                                     verbose=False))],\n",
            "                                               flatten_transform=None,\n",
            "                                               weights=[0.16666666666666666,\n",
            "                                                        0.16666666666666666,\n",
            "                                                        0.16666666666666666,\n",
            "                                                        0.16666666666666666,\n",
            "                                                        0.16666666666666666,\n",
            "                                                        0.16666666666666666]))],\n",
            "         verbose=False)\n"
          ]
        }
      ],
      "execution_count": 17,
      "metadata": {
        "gather": {
          "logged": 1611643041490
        },
        "jupyter": {
          "outputs_hidden": false,
          "source_hidden": false
        },
        "nteract": {
          "transient": {
            "deleting": false
          }
        }
      }
    },
    {
      "cell_type": "code",
      "source": [
        "#TODO: Save the best model\r\n",
        "import joblib\r\n",
        "joblib.dump(fitted_model,\"best_model.pkl\")"
      ],
      "outputs": [
        {
          "output_type": "execute_result",
          "execution_count": 18,
          "data": {
            "text/plain": "['best_model.pkl']",
            "text/html": "['best_model.pkl']"
          },
          "metadata": {}
        }
      ],
      "execution_count": 18,
      "metadata": {
        "gather": {
          "logged": 1611643050140
        },
        "jupyter": {
          "outputs_hidden": false,
          "source_hidden": false
        },
        "nteract": {
          "transient": {
            "deleting": false
          }
        }
      }
    },
    {
      "cell_type": "markdown",
      "source": [
        "## Model Deployment\n",
        "\n",
        "Remember you have to deploy only one of the two models you trained.. Perform the steps in the rest of this notebook only if you wish to deploy this model.\n",
        "\n",
        "TODO: In the cell below, register the model, create an inference config and deploy the model as a web service."
      ],
      "metadata": {}
    },
    {
      "cell_type": "code",
      "source": [
        "automl_model =remote_run.register_model(model_name = 'automl_best_model')"
      ],
      "outputs": [],
      "execution_count": 32,
      "metadata": {
        "collapsed": true,
        "jupyter": {
          "source_hidden": false,
          "outputs_hidden": false
        },
        "nteract": {
          "transient": {
            "deleting": false
          }
        },
        "gather": {
          "logged": 1611644905956
        }
      }
    },
    {
      "cell_type": "code",
      "source": [
        "script_file_name ='score.py'\r\n",
        "best_run.download_file('outputs/scoring_file_v_1_0_0.py','score.py')"
      ],
      "outputs": [],
      "execution_count": 37,
      "metadata": {
        "collapsed": true,
        "jupyter": {
          "source_hidden": false,
          "outputs_hidden": false
        },
        "nteract": {
          "transient": {
            "deleting": false
          }
        },
        "gather": {
          "logged": 1611645098012
        }
      }
    },
    {
      "cell_type": "code",
      "source": [
        "inference_config = InferenceConfig(entry_script=script_file_name, environment=best_run.get_environment())"
      ],
      "outputs": [
        {
          "output_type": "error",
          "ename": "UserErrorException",
          "evalue": "UserErrorException:\n\tMessage: There is no run definition or environment specified for the run.\n\tInnerException None\n\tErrorResponse \n{\n    \"error\": {\n        \"code\": \"UserError\",\n        \"message\": \"There is no run definition or environment specified for the run.\"\n    }\n}",
          "traceback": [
            "\u001b[0;31m---------------------------------------------------------------------------\u001b[0m",
            "\u001b[0;31mUserErrorException\u001b[0m                        Traceback (most recent call last)",
            "\u001b[0;32m<ipython-input-38-0e37ce4ffb61>\u001b[0m in \u001b[0;36m<module>\u001b[0;34m\u001b[0m\n\u001b[0;32m----> 1\u001b[0;31m \u001b[0minference_config\u001b[0m \u001b[0;34m=\u001b[0m \u001b[0mInferenceConfig\u001b[0m\u001b[0;34m(\u001b[0m\u001b[0mentry_script\u001b[0m\u001b[0;34m=\u001b[0m\u001b[0mscript_file_name\u001b[0m\u001b[0;34m,\u001b[0m \u001b[0menvironment\u001b[0m\u001b[0;34m=\u001b[0m\u001b[0mbest_run\u001b[0m\u001b[0;34m.\u001b[0m\u001b[0mget_environment\u001b[0m\u001b[0;34m(\u001b[0m\u001b[0;34m)\u001b[0m\u001b[0;34m)\u001b[0m\u001b[0;34m\u001b[0m\u001b[0;34m\u001b[0m\u001b[0m\n\u001b[0m",
            "\u001b[0;32m/anaconda/envs/azureml_py36/lib/python3.6/site-packages/azureml/core/run.py\u001b[0m in \u001b[0;36mget_environment\u001b[0;34m(self)\u001b[0m\n\u001b[1;32m   1044\u001b[0m         \u001b[0mrun_def\u001b[0m \u001b[0;34m=\u001b[0m \u001b[0mrun_details\u001b[0m\u001b[0;34m.\u001b[0m\u001b[0mget\u001b[0m\u001b[0;34m(\u001b[0m\u001b[0;34m\"runDefinition\"\u001b[0m\u001b[0;34m)\u001b[0m\u001b[0;34m\u001b[0m\u001b[0;34m\u001b[0m\u001b[0m\n\u001b[1;32m   1045\u001b[0m         \u001b[0;32mif\u001b[0m \u001b[0mrun_def\u001b[0m \u001b[0;32mis\u001b[0m \u001b[0;32mNone\u001b[0m\u001b[0;34m:\u001b[0m\u001b[0;34m\u001b[0m\u001b[0;34m\u001b[0m\u001b[0m\n\u001b[0;32m-> 1046\u001b[0;31m             \u001b[0;32mraise\u001b[0m \u001b[0mUserErrorException\u001b[0m\u001b[0;34m(\u001b[0m\u001b[0;34m\"There is no run definition or environment specified for the run.\"\u001b[0m\u001b[0;34m)\u001b[0m\u001b[0;34m\u001b[0m\u001b[0;34m\u001b[0m\u001b[0m\n\u001b[0m\u001b[1;32m   1047\u001b[0m \u001b[0;34m\u001b[0m\u001b[0m\n\u001b[1;32m   1048\u001b[0m         \u001b[0;31m# For parent run there can be a case when there is no environment\u001b[0m\u001b[0;34m\u001b[0m\u001b[0;34m\u001b[0m\u001b[0;34m\u001b[0m\u001b[0m\n",
            "\u001b[0;31mUserErrorException\u001b[0m: UserErrorException:\n\tMessage: There is no run definition or environment specified for the run.\n\tInnerException None\n\tErrorResponse \n{\n    \"error\": {\n        \"code\": \"UserError\",\n        \"message\": \"There is no run definition or environment specified for the run.\"\n    }\n}"
          ]
        }
      ],
      "execution_count": 38,
      "metadata": {
        "collapsed": true,
        "jupyter": {
          "source_hidden": false,
          "outputs_hidden": false
        },
        "nteract": {
          "transient": {
            "deleting": false
          }
        }
      }
    },
    {
      "cell_type": "code",
      "source": [
        "from azureml.core.model import Model\r\n",
        "import joblib\r\n",
        "model = Model.register(workspace=ws, model_path=\"best_model.pkl\", model_name=\"automl-test-model\")"
      ],
      "outputs": [
        {
          "output_type": "stream",
          "name": "stdout",
          "text": [
            "Registering model automl-test-model\n"
          ]
        }
      ],
      "execution_count": 19,
      "metadata": {
        "gather": {
          "logged": 1611643057164
        },
        "jupyter": {
          "outputs_hidden": false,
          "source_hidden": false
        },
        "nteract": {
          "transient": {
            "deleting": false
          }
        }
      }
    },
    {
      "cell_type": "code",
      "source": [
        "from azureml.core import Workspace, Environment\r\n",
        "\r\n",
        "ws = Workspace.from_config()\r\n",
        "env = Environment.get(workspace=ws, name=\"AzureML-Minimal\")"
      ],
      "outputs": [],
      "execution_count": 25,
      "metadata": {
        "collapsed": true,
        "jupyter": {
          "source_hidden": false,
          "outputs_hidden": false
        },
        "nteract": {
          "transient": {
            "deleting": false
          }
        },
        "gather": {
          "logged": 1611644351283
        }
      }
    },
    {
      "cell_type": "code",
      "source": [
        "# From a Conda specification file\r\n",
        "myenv = Environment.from_conda_specification(name = \"myenv\",\r\n",
        "                                             file_path = \"odl_user_136075\")\r\n",
        "\r\n",
        "# From a pip requirements file\r\n",
        "myenv = Environment.from_pip_requirements(name = \"myenv\",\r\n",
        "                                          file_path = \"odl_user_136075\")"
      ],
      "outputs": [
        {
          "output_type": "error",
          "ename": "FileNotFoundError",
          "evalue": "[Errno 2] No such file or directory: 'odl_user_136075'",
          "traceback": [
            "\u001b[0;31m---------------------------------------------------------------------------\u001b[0m",
            "\u001b[0;31mFileNotFoundError\u001b[0m                         Traceback (most recent call last)",
            "\u001b[0;32m<ipython-input-29-c1bc2a79e8c6>\u001b[0m in \u001b[0;36m<module>\u001b[0;34m\u001b[0m\n\u001b[1;32m      1\u001b[0m \u001b[0;31m# From a Conda specification file\u001b[0m\u001b[0;34m\u001b[0m\u001b[0;34m\u001b[0m\u001b[0;34m\u001b[0m\u001b[0m\n\u001b[1;32m      2\u001b[0m myenv = Environment.from_conda_specification(name = \"myenv\",\n\u001b[0;32m----> 3\u001b[0;31m                                              file_path = \"odl_user_136075\")\n\u001b[0m\u001b[1;32m      4\u001b[0m \u001b[0;34m\u001b[0m\u001b[0m\n\u001b[1;32m      5\u001b[0m \u001b[0;31m# From a pip requirements file\u001b[0m\u001b[0;34m\u001b[0m\u001b[0;34m\u001b[0m\u001b[0;34m\u001b[0m\u001b[0m\n",
            "\u001b[0;32m/anaconda/envs/azureml_py36/lib/python3.6/site-packages/azureml/core/environment.py\u001b[0m in \u001b[0;36mfrom_conda_specification\u001b[0;34m(name, file_path)\u001b[0m\n\u001b[1;32m   1007\u001b[0m         \u001b[0;34m:\u001b[0m\u001b[0mrtype\u001b[0m\u001b[0;34m:\u001b[0m \u001b[0mazureml\u001b[0m\u001b[0;34m.\u001b[0m\u001b[0mcore\u001b[0m\u001b[0;34m.\u001b[0m\u001b[0menvironment\u001b[0m\u001b[0;34m.\u001b[0m\u001b[0mEnvironment\u001b[0m\u001b[0;34m\u001b[0m\u001b[0;34m\u001b[0m\u001b[0m\n\u001b[1;32m   1008\u001b[0m         \"\"\"  # noqa: E501\n\u001b[0;32m-> 1009\u001b[0;31m         \u001b[0mconda_dependencies\u001b[0m \u001b[0;34m=\u001b[0m \u001b[0mCondaDependencies\u001b[0m\u001b[0;34m(\u001b[0m\u001b[0mconda_dependencies_file_path\u001b[0m\u001b[0;34m=\u001b[0m\u001b[0mfile_path\u001b[0m\u001b[0;34m)\u001b[0m\u001b[0;34m\u001b[0m\u001b[0;34m\u001b[0m\u001b[0m\n\u001b[0m\u001b[1;32m   1010\u001b[0m         \u001b[0;32mif\u001b[0m \u001b[0;32mnot\u001b[0m \u001b[0mconda_dependencies\u001b[0m\u001b[0;34m.\u001b[0m\u001b[0m_python_version\u001b[0m\u001b[0;34m:\u001b[0m\u001b[0;34m\u001b[0m\u001b[0;34m\u001b[0m\u001b[0m\n\u001b[1;32m   1011\u001b[0m             \u001b[0mmodule_logger\u001b[0m\u001b[0;34m.\u001b[0m\u001b[0mwarning\u001b[0m\u001b[0;34m(\u001b[0m\u001b[0;34m'No Python version provided, defaulting to \"{}\"'\u001b[0m\u001b[0;34m.\u001b[0m\u001b[0mformat\u001b[0m\u001b[0;34m(\u001b[0m\u001b[0mPYTHON_DEFAULT_VERSION\u001b[0m\u001b[0;34m)\u001b[0m\u001b[0;34m)\u001b[0m\u001b[0;34m\u001b[0m\u001b[0;34m\u001b[0m\u001b[0m\n",
            "\u001b[0;32m/anaconda/envs/azureml_py36/lib/python3.6/site-packages/azureml/core/conda_dependencies.py\u001b[0m in \u001b[0;36m__init__\u001b[0;34m(self, conda_dependencies_file_path, _underlying_structure)\u001b[0m\n\u001b[1;32m    120\u001b[0m         \u001b[0;34m\"\"\"Initialize a new object to manage dependencies.\"\"\"\u001b[0m\u001b[0;34m\u001b[0m\u001b[0;34m\u001b[0m\u001b[0m\n\u001b[1;32m    121\u001b[0m         \u001b[0;32mif\u001b[0m \u001b[0mconda_dependencies_file_path\u001b[0m\u001b[0;34m:\u001b[0m\u001b[0;34m\u001b[0m\u001b[0;34m\u001b[0m\u001b[0m\n\u001b[0;32m--> 122\u001b[0;31m             \u001b[0;32mwith\u001b[0m \u001b[0mopen\u001b[0m\u001b[0;34m(\u001b[0m\u001b[0mconda_dependencies_file_path\u001b[0m\u001b[0;34m,\u001b[0m \u001b[0;34m\"r\"\u001b[0m\u001b[0;34m)\u001b[0m \u001b[0;32mas\u001b[0m \u001b[0minput\u001b[0m\u001b[0;34m:\u001b[0m\u001b[0;34m\u001b[0m\u001b[0;34m\u001b[0m\u001b[0m\n\u001b[0m\u001b[1;32m    123\u001b[0m                 \u001b[0mself\u001b[0m\u001b[0;34m.\u001b[0m\u001b[0m_conda_dependencies\u001b[0m \u001b[0;34m=\u001b[0m \u001b[0mruamel\u001b[0m\u001b[0;34m.\u001b[0m\u001b[0myaml\u001b[0m\u001b[0;34m.\u001b[0m\u001b[0mround_trip_load\u001b[0m\u001b[0;34m(\u001b[0m\u001b[0minput\u001b[0m\u001b[0;34m)\u001b[0m\u001b[0;34m\u001b[0m\u001b[0;34m\u001b[0m\u001b[0m\n\u001b[1;32m    124\u001b[0m         \u001b[0;32melif\u001b[0m \u001b[0m_underlying_structure\u001b[0m\u001b[0;34m:\u001b[0m\u001b[0;34m\u001b[0m\u001b[0;34m\u001b[0m\u001b[0m\n",
            "\u001b[0;31mFileNotFoundError\u001b[0m: [Errno 2] No such file or directory: 'odl_user_136075'"
          ]
        }
      ],
      "execution_count": 29,
      "metadata": {
        "collapsed": true,
        "jupyter": {
          "source_hidden": false,
          "outputs_hidden": false
        },
        "nteract": {
          "transient": {
            "deleting": false
          }
        }
      }
    },
    {
      "cell_type": "code",
      "source": [
        "remote_run.get_portal_url()\r\n",
        "env = best_run.get_environment()\r\n",
        "\r\n",
        "script_file = 'script.py'\r\n",
        "\r\n",
        "inference_config = InferenceConfig(entry_script = script_file, environment = env)\r\n",
        "\r\n",
        "aci_config = AciWebservice.deploy_configuration(cpu_cores = 1, memory_gb = 1)\r\n",
        "\r\n",
        "aci_service_name = 'automl-mnist-classifier'\r\n",
        "print(aci_service_name)"
      ],
      "outputs": [
        {
          "output_type": "error",
          "ename": "UserErrorException",
          "evalue": "UserErrorException:\n\tMessage: There is no run definition or environment specified for the run.\n\tInnerException None\n\tErrorResponse \n{\n    \"error\": {\n        \"code\": \"UserError\",\n        \"message\": \"There is no run definition or environment specified for the run.\"\n    }\n}",
          "traceback": [
            "\u001b[0;31m---------------------------------------------------------------------------\u001b[0m",
            "\u001b[0;31mUserErrorException\u001b[0m                        Traceback (most recent call last)",
            "\u001b[0;32m<ipython-input-30-0167713c1ffb>\u001b[0m in \u001b[0;36m<module>\u001b[0;34m\u001b[0m\n\u001b[1;32m      1\u001b[0m \u001b[0mremote_run\u001b[0m\u001b[0;34m.\u001b[0m\u001b[0mget_portal_url\u001b[0m\u001b[0;34m(\u001b[0m\u001b[0;34m)\u001b[0m\u001b[0;34m\u001b[0m\u001b[0;34m\u001b[0m\u001b[0m\n\u001b[0;32m----> 2\u001b[0;31m \u001b[0menv\u001b[0m \u001b[0;34m=\u001b[0m \u001b[0mbest_run\u001b[0m\u001b[0;34m.\u001b[0m\u001b[0mget_environment\u001b[0m\u001b[0;34m(\u001b[0m\u001b[0;34m)\u001b[0m\u001b[0;34m\u001b[0m\u001b[0;34m\u001b[0m\u001b[0m\n\u001b[0m\u001b[1;32m      3\u001b[0m \u001b[0;34m\u001b[0m\u001b[0m\n\u001b[1;32m      4\u001b[0m \u001b[0mscript_file\u001b[0m \u001b[0;34m=\u001b[0m \u001b[0;34m'script.py'\u001b[0m\u001b[0;34m\u001b[0m\u001b[0;34m\u001b[0m\u001b[0m\n\u001b[1;32m      5\u001b[0m \u001b[0;34m\u001b[0m\u001b[0m\n",
            "\u001b[0;32m/anaconda/envs/azureml_py36/lib/python3.6/site-packages/azureml/core/run.py\u001b[0m in \u001b[0;36mget_environment\u001b[0;34m(self)\u001b[0m\n\u001b[1;32m   1044\u001b[0m         \u001b[0mrun_def\u001b[0m \u001b[0;34m=\u001b[0m \u001b[0mrun_details\u001b[0m\u001b[0;34m.\u001b[0m\u001b[0mget\u001b[0m\u001b[0;34m(\u001b[0m\u001b[0;34m\"runDefinition\"\u001b[0m\u001b[0;34m)\u001b[0m\u001b[0;34m\u001b[0m\u001b[0;34m\u001b[0m\u001b[0m\n\u001b[1;32m   1045\u001b[0m         \u001b[0;32mif\u001b[0m \u001b[0mrun_def\u001b[0m \u001b[0;32mis\u001b[0m \u001b[0;32mNone\u001b[0m\u001b[0;34m:\u001b[0m\u001b[0;34m\u001b[0m\u001b[0;34m\u001b[0m\u001b[0m\n\u001b[0;32m-> 1046\u001b[0;31m             \u001b[0;32mraise\u001b[0m \u001b[0mUserErrorException\u001b[0m\u001b[0;34m(\u001b[0m\u001b[0;34m\"There is no run definition or environment specified for the run.\"\u001b[0m\u001b[0;34m)\u001b[0m\u001b[0;34m\u001b[0m\u001b[0;34m\u001b[0m\u001b[0m\n\u001b[0m\u001b[1;32m   1047\u001b[0m \u001b[0;34m\u001b[0m\u001b[0m\n\u001b[1;32m   1048\u001b[0m         \u001b[0;31m# For parent run there can be a case when there is no environment\u001b[0m\u001b[0;34m\u001b[0m\u001b[0;34m\u001b[0m\u001b[0;34m\u001b[0m\u001b[0m\n",
            "\u001b[0;31mUserErrorException\u001b[0m: UserErrorException:\n\tMessage: There is no run definition or environment specified for the run.\n\tInnerException None\n\tErrorResponse \n{\n    \"error\": {\n        \"code\": \"UserError\",\n        \"message\": \"There is no run definition or environment specified for the run.\"\n    }\n}"
          ]
        }
      ],
      "execution_count": 30,
      "metadata": {
        "collapsed": true,
        "jupyter": {
          "source_hidden": false,
          "outputs_hidden": false
        },
        "nteract": {
          "transient": {
            "deleting": false
          }
        }
      }
    },
    {
      "cell_type": "code",
      "source": [
        "from azureml.core.model import InferenceConfig\r\n",
        "from azureml.core.webservice import AciWebservice\r\n",
        "\r\n",
        "\r\n",
        "\r\n",
        "inference_config = InferenceConfig(entry_script='script.py', environment=best_run.get_context().get_environment())\r\n",
        "\r\n",
        "service_name = 'custom-env-service'\r\n",
        "\r\n",
        "aci_config = AciWebservice.deploy_configuration(cpu_cores=1, memory_gb=1)\r\n",
        "\r\n",
        "service = Model.deploy(workspace=ws,\r\n",
        "                       name=service_name,\r\n",
        "                       models=[model],\r\n",
        "                       inference_config=inference_config,\r\n",
        "                       deployment_config=aci_config,\r\n",
        "                       overwrite=True)\r\n",
        "service.wait_for_deployment(show_output=True)"
      ],
      "outputs": [
        {
          "output_type": "error",
          "ename": "UserErrorException",
          "evalue": "UserErrorException:\n\tMessage: There is no run definition or environment specified for the run.\n\tInnerException None\n\tErrorResponse \n{\n    \"error\": {\n        \"code\": \"UserError\",\n        \"message\": \"There is no run definition or environment specified for the run.\"\n    }\n}",
          "traceback": [
            "\u001b[0;31m---------------------------------------------------------------------------\u001b[0m",
            "\u001b[0;31mUserErrorException\u001b[0m                        Traceback (most recent call last)",
            "\u001b[0;32m<ipython-input-20-cf3b642fcaeb>\u001b[0m in \u001b[0;36m<module>\u001b[0;34m\u001b[0m\n\u001b[1;32m      4\u001b[0m \u001b[0;34m\u001b[0m\u001b[0m\n\u001b[1;32m      5\u001b[0m \u001b[0;34m\u001b[0m\u001b[0m\n\u001b[0;32m----> 6\u001b[0;31m \u001b[0minference_config\u001b[0m \u001b[0;34m=\u001b[0m \u001b[0mInferenceConfig\u001b[0m\u001b[0;34m(\u001b[0m\u001b[0mentry_script\u001b[0m\u001b[0;34m=\u001b[0m\u001b[0;34m'script.py'\u001b[0m\u001b[0;34m,\u001b[0m \u001b[0menvironment\u001b[0m\u001b[0;34m=\u001b[0m\u001b[0mbest_run\u001b[0m\u001b[0;34m.\u001b[0m\u001b[0mget_context\u001b[0m\u001b[0;34m(\u001b[0m\u001b[0;34m)\u001b[0m\u001b[0;34m.\u001b[0m\u001b[0mget_environment\u001b[0m\u001b[0;34m(\u001b[0m\u001b[0;34m)\u001b[0m\u001b[0;34m)\u001b[0m\u001b[0;34m\u001b[0m\u001b[0;34m\u001b[0m\u001b[0m\n\u001b[0m\u001b[1;32m      7\u001b[0m \u001b[0;34m\u001b[0m\u001b[0m\n\u001b[1;32m      8\u001b[0m \u001b[0mservice_name\u001b[0m \u001b[0;34m=\u001b[0m \u001b[0;34m'custom-env-service'\u001b[0m\u001b[0;34m\u001b[0m\u001b[0;34m\u001b[0m\u001b[0m\n",
            "\u001b[0;32m/anaconda/envs/azureml_py36/lib/python3.6/site-packages/azureml/core/run.py\u001b[0m in \u001b[0;36mget_environment\u001b[0;34m(self)\u001b[0m\n\u001b[1;32m   1044\u001b[0m         \u001b[0mrun_def\u001b[0m \u001b[0;34m=\u001b[0m \u001b[0mrun_details\u001b[0m\u001b[0;34m.\u001b[0m\u001b[0mget\u001b[0m\u001b[0;34m(\u001b[0m\u001b[0;34m\"runDefinition\"\u001b[0m\u001b[0;34m)\u001b[0m\u001b[0;34m\u001b[0m\u001b[0;34m\u001b[0m\u001b[0m\n\u001b[1;32m   1045\u001b[0m         \u001b[0;32mif\u001b[0m \u001b[0mrun_def\u001b[0m \u001b[0;32mis\u001b[0m \u001b[0;32mNone\u001b[0m\u001b[0;34m:\u001b[0m\u001b[0;34m\u001b[0m\u001b[0;34m\u001b[0m\u001b[0m\n\u001b[0;32m-> 1046\u001b[0;31m             \u001b[0;32mraise\u001b[0m \u001b[0mUserErrorException\u001b[0m\u001b[0;34m(\u001b[0m\u001b[0;34m\"There is no run definition or environment specified for the run.\"\u001b[0m\u001b[0;34m)\u001b[0m\u001b[0;34m\u001b[0m\u001b[0;34m\u001b[0m\u001b[0m\n\u001b[0m\u001b[1;32m   1047\u001b[0m \u001b[0;34m\u001b[0m\u001b[0m\n\u001b[1;32m   1048\u001b[0m         \u001b[0;31m# For parent run there can be a case when there is no environment\u001b[0m\u001b[0;34m\u001b[0m\u001b[0;34m\u001b[0m\u001b[0;34m\u001b[0m\u001b[0m\n",
            "\u001b[0;31mUserErrorException\u001b[0m: UserErrorException:\n\tMessage: There is no run definition or environment specified for the run.\n\tInnerException None\n\tErrorResponse \n{\n    \"error\": {\n        \"code\": \"UserError\",\n        \"message\": \"There is no run definition or environment specified for the run.\"\n    }\n}"
          ]
        }
      ],
      "execution_count": 20,
      "metadata": {
        "collapsed": true,
        "jupyter": {
          "source_hidden": false,
          "outputs_hidden": false
        },
        "nteract": {
          "transient": {
            "deleting": false
          }
        }
      }
    },
    {
      "cell_type": "markdown",
      "source": [
        "TODO: In the cell below, send a request to the web service you deployed to test it."
      ],
      "metadata": {
        "collapsed": true,
        "gather": {
          "logged": 1598431657736
        },
        "jupyter": {
          "outputs_hidden": false,
          "source_hidden": false
        },
        "nteract": {
          "transient": {
            "deleting": false
          }
        }
      }
    },
    {
      "cell_type": "code",
      "source": [],
      "outputs": [],
      "execution_count": null,
      "metadata": {
        "gather": {
          "logged": 1598432707604
        },
        "jupyter": {
          "outputs_hidden": false,
          "source_hidden": false
        },
        "nteract": {
          "transient": {
            "deleting": false
          }
        }
      }
    },
    {
      "cell_type": "markdown",
      "source": [
        "TODO: In the cell below, print the logs of the web service and delete the service"
      ],
      "metadata": {
        "collapsed": true,
        "gather": {
          "logged": 1598432765711
        },
        "jupyter": {
          "outputs_hidden": false,
          "source_hidden": false
        },
        "nteract": {
          "transient": {
            "deleting": false
          }
        }
      }
    },
    {
      "cell_type": "code",
      "source": [],
      "outputs": [],
      "execution_count": null,
      "metadata": {
        "jupyter": {
          "outputs_hidden": false,
          "source_hidden": false
        },
        "nteract": {
          "transient": {
            "deleting": false
          }
        }
      }
    }
  ],
  "metadata": {
    "kernel_info": {
      "name": "python3"
    },
    "kernelspec": {
      "name": "python3",
      "language": "python",
      "display_name": "Python 3"
    },
    "language_info": {
      "name": "python",
      "version": "3.6.9",
      "mimetype": "text/x-python",
      "codemirror_mode": {
        "name": "ipython",
        "version": 3
      },
      "pygments_lexer": "ipython3",
      "nbconvert_exporter": "python",
      "file_extension": ".py"
    },
    "nteract": {
      "version": "nteract-front-end@1.0.0"
    }
  },
  "nbformat": 4,
  "nbformat_minor": 2
}