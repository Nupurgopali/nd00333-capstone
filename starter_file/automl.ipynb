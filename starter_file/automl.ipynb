{
  "cells": [
    {
      "cell_type": "markdown",
      "source": [
        "# Automated ML\n",
        "\n",
        "TODO: Import Dependencies. In the cell below, import all the dependencies that you will need to complete the project."
      ],
      "metadata": {}
    },
    {
      "cell_type": "code",
      "source": [
        "import azureml.core\r\n",
        "print(azureml.core.VERSION)"
      ],
      "outputs": [
        {
          "output_type": "stream",
          "name": "stdout",
          "text": [
            "1.21.0\n"
          ]
        }
      ],
      "execution_count": 1,
      "metadata": {
        "collapsed": true,
        "jupyter": {
          "source_hidden": false,
          "outputs_hidden": false
        },
        "nteract": {
          "transient": {
            "deleting": false
          }
        },
        "gather": {
          "logged": 1612184967843
        }
      }
    },
    {
      "cell_type": "code",
      "source": [
        "!pip install --upgrade --upgrade-strategy eager azureml-sdk[automl,widgets]"
      ],
      "outputs": [],
      "execution_count": null,
      "metadata": {
        "collapsed": true,
        "jupyter": {
          "source_hidden": false,
          "outputs_hidden": false
        },
        "nteract": {
          "transient": {
            "deleting": false
          }
        }
      }
    },
    {
      "cell_type": "code",
      "source": [
        "\r\n",
        "from azureml.core import Workspace, Experiment\r\n",
        "from azureml.core.compute import ComputeTarget, AmlCompute\r\n",
        "from azureml.core.compute_target import ComputeTargetException\r\n",
        "from azureml.widgets import RunDetails\r\n",
        "from azureml.train.hyperdrive.run import PrimaryMetricGoal\r\n",
        "import os\r\n",
        "import joblib\r\n",
        "from azureml.core.dataset import Dataset\r\n",
        "from azureml.train.automl import AutoMLConfig\r\n",
        "from azureml.core.model import Model\r\n",
        "from azureml.core.webservice import AciWebservice\r\n",
        "from azureml.core.environment import Environment\r\n",
        "from azureml.core.model import InferenceConfig\r\n",
        "import requests\r\n",
        "import json\r\n",
        "import sklearn\r\n",
        "\r\n",
        "import pandas as pd\r\n",
        "from pandas import DataFrame"
      ],
      "outputs": [],
      "execution_count": 2,
      "metadata": {
        "gather": {
          "logged": 1612184978154
        },
        "jupyter": {
          "outputs_hidden": false,
          "source_hidden": false
        },
        "nteract": {
          "transient": {
            "deleting": false
          }
        }
      }
    },
    {
      "cell_type": "markdown",
      "source": [
        "## Dataset\n",
        "\n",
        "### Overview\n",
        "TODO: In this markdown cell, give an overview of the dataset you are using. Also mention the task you will be performing.\n",
        "\n",
        "\n",
        "TODO: Get data. In the cell below, write code to access the data you will be using in this project. Remember that the dataset needs to be external."
      ],
      "metadata": {}
    },
    {
      "cell_type": "code",
      "source": [
        "ws = Workspace.from_config()\n",
        "\n",
        "# choose a name for experiment\n",
        "experiment_name = 'udacity-capstone'\n",
        "\n",
        "experiment=Experiment(ws, experiment_name)"
      ],
      "outputs": [],
      "execution_count": 3,
      "metadata": {
        "gather": {
          "logged": 1612184983334
        },
        "jupyter": {
          "outputs_hidden": false,
          "source_hidden": false
        },
        "nteract": {
          "transient": {
            "deleting": false
          }
        }
      }
    },
    {
      "cell_type": "code",
      "source": [
        "from azureml.core.compute import ComputeTarget, AmlCompute\r\n",
        "\r\n",
        "# TODO: Create compute cluster\r\n",
        "\r\n",
        "# Use vm_size = \"Standard_D2_V2\" in your provisioning configuration.\r\n",
        "# max_nodes should be no greater than 4.\r\n",
        "vm_size = \"Standard_DS3_V2\"\r\n",
        "compute_name=\"compute-cluster\"\r\n",
        "# create the cluster\r\n",
        "compute_min_nodes=0\r\n",
        "compute_max_nodes=4\r\n",
        "\r\n",
        "\r\n",
        "\r\n",
        "\r\n",
        "### YOUR CODE HERE ###\r\n",
        "# Checking if  compute already exist or not  if not creating a new target\r\n",
        "if compute_name in ws.compute_targets:\r\n",
        "    compute_target = ws.compute_targets[compute_name]\r\n",
        "    if compute_target and type(compute_target) is AmlCompute:\r\n",
        "        print(\"found compute target: \" + compute_name)\r\n",
        "else:\r\n",
        "    print(\"creating new compute target...\")\r\n",
        "    provisioning_config = AmlCompute.provisioning_configuration(vm_size = vm_size,\r\n",
        "                                                                min_nodes = compute_min_nodes, \r\n",
        "                                                                max_nodes = compute_max_nodes)\r\n",
        "    # if no min node count is provided it will use the scale settings for the cluster\r\n",
        "    compute_target.wait_for_completion(show_output=True, timeout_in_minutes=20)\r\n",
        "    print(compute_target.get_status().serialize())"
      ],
      "outputs": [],
      "execution_count": 4,
      "metadata": {
        "collapsed": true,
        "jupyter": {
          "source_hidden": false,
          "outputs_hidden": false
        },
        "nteract": {
          "transient": {
            "deleting": false
          }
        },
        "gather": {
          "logged": 1612184991408
        }
      }
    },
    {
      "cell_type": "markdown",
      "source": [
        "## AutoML Configuration\n",
        "\n",
        "TODO: Explain why you chose the automl settings and cofiguration you used below."
      ],
      "metadata": {}
    },
    {
      "cell_type": "markdown",
      "source": [
        "<p>For automl conofiguration I chose:</p>\r\n",
        "<p>Task as 'Classification' since the problem statement involves binary classfication (Malignant or Benign tumour)</p>\r\n",
        "<p>The primary metric is accuracy as accuracy is a good parameter to learn about the model's performance</p>\r\n",
        "<p>The training data is X which contains all the necessary features to identify the type of cancer</p>\r\n",
        "<p>The test column is the target column :'Diagnosis' which tells about the type of tumour the patient has</p>\r\n"
      ],
      "metadata": {
        "nteract": {
          "transient": {
            "deleting": false
          }
        }
      }
    },
    {
      "cell_type": "code",
      "source": [
        "# azureml-core of version 1.0.72 or higher is required\r\n",
        "# azureml-dataprep[pandas] of version 1.1.34 or higher is required\r\n",
        "from azureml.core import Workspace, Dataset\r\n",
        "#run = Run.get_context()\r\n",
        "#ws = run.experiment.workspace\r\n",
        "dataset = Dataset.get_by_name(ws, name='cancer')\r\n",
        "dataset.to_pandas_dataframe()\r\n",
        "df=dataset.to_pandas_dataframe()\r\n",
        "df.head()"
      ],
      "outputs": [],
      "execution_count": null,
      "metadata": {
        "collapsed": true,
        "jupyter": {
          "source_hidden": false,
          "outputs_hidden": false
        },
        "nteract": {
          "transient": {
            "deleting": false
          }
        },
        "gather": {
          "logged": 1612185003213
        }
      }
    },
    {
      "cell_type": "code",
      "source": [
        "from sklearn.preprocessing import LabelEncoder \r\n",
        "le = LabelEncoder() \r\n",
        "df['diagnosis']= le.fit_transform(df['diagnosis']) \r\n",
        "df.head()"
      ],
      "outputs": [],
      "execution_count": null,
      "metadata": {
        "collapsed": true,
        "jupyter": {
          "source_hidden": false,
          "outputs_hidden": false
        },
        "nteract": {
          "transient": {
            "deleting": false
          }
        },
        "gather": {
          "logged": 1612185015147
        }
      }
    },
    {
      "cell_type": "markdown",
      "source": [
        "After using labelencoder on dignosis column the letter M which idicated malignant tumour is encoded with number 1 and benign tumour with 0."
      ],
      "metadata": {
        "nteract": {
          "transient": {
            "deleting": false
          }
        }
      }
    },
    {
      "cell_type": "code",
      "source": [
        "#Splitting the dataset into X and y,X contains the first 10 columns which is used for training.\r\n",
        "#y is the target column,which the model will predict\r\n",
        "X=df.iloc[ :,1:10]\r\n",
        "y=df.iloc[:,1]"
      ],
      "outputs": [],
      "execution_count": 7,
      "metadata": {
        "collapsed": true,
        "jupyter": {
          "source_hidden": false,
          "outputs_hidden": false
        },
        "nteract": {
          "transient": {
            "deleting": false
          }
        },
        "gather": {
          "logged": 1612185022109
        }
      }
    },
    {
      "cell_type": "code",
      "source": [
        "X"
      ],
      "outputs": [],
      "execution_count": null,
      "metadata": {
        "collapsed": true,
        "jupyter": {
          "source_hidden": false,
          "outputs_hidden": false
        },
        "nteract": {
          "transient": {
            "deleting": false
          }
        },
        "gather": {
          "logged": 1612185024740
        }
      }
    },
    {
      "cell_type": "code",
      "source": [
        "y"
      ],
      "outputs": [],
      "execution_count": null,
      "metadata": {
        "collapsed": true,
        "jupyter": {
          "source_hidden": false,
          "outputs_hidden": false
        },
        "nteract": {
          "transient": {
            "deleting": false
          }
        },
        "gather": {
          "logged": 1612185030169
        }
      }
    },
    {
      "cell_type": "code",
      "source": [
        "from azureml.train.automl import AutoMLConfig\n",
        "# TODO: Put your automl settings here\n",
        "automl_settings = {\n",
        "    \"experiment_timeout_minutes\":30,\n",
        "    \"max_concurrent_iterations\": 5,\n",
        "                   \"primary_metric\" : 'accuracy'\n",
        "}\n",
        "\n",
        "# TODO: Put your automl config here\n",
        "automl_config = AutoMLConfig(\n",
        "    task= 'classification',\n",
        "    training_data= X,\n",
        "    label_column_name= 'diagnosis',\n",
        "    n_cross_validations= 5)"
      ],
      "outputs": [],
      "execution_count": 10,
      "metadata": {
        "gather": {
          "logged": 1612185036760
        },
        "jupyter": {
          "outputs_hidden": false,
          "source_hidden": false
        },
        "nteract": {
          "transient": {
            "deleting": false
          }
        }
      }
    },
    {
      "cell_type": "code",
      "source": [
        "! pip install none"
      ],
      "outputs": [],
      "execution_count": null,
      "metadata": {
        "collapsed": true,
        "jupyter": {
          "source_hidden": false,
          "outputs_hidden": false
        },
        "nteract": {
          "transient": {
            "deleting": false
          }
        }
      }
    },
    {
      "cell_type": "code",
      "source": [
        "!pip install -r /anaconda/envs/azureml_py36/lib/python3.6/site-packages/azureml/automl/core/validated_linux_requirements.txt"
      ],
      "outputs": [],
      "execution_count": null,
      "metadata": {
        "collapsed": true,
        "jupyter": {
          "source_hidden": false,
          "outputs_hidden": false
        },
        "nteract": {
          "transient": {
            "deleting": false
          }
        }
      }
    },
    {
      "cell_type": "code",
      "source": [
        "# TODO: Submit your experiment\n",
        "remote_run = experiment.submit(automl_config,show_output=True)\n"
      ],
      "outputs": [
        {
          "output_type": "error",
          "ename": "ValidationException",
          "evalue": "ValidationException:\n\tMessage: Install the required versions of packages using the requirements file. Requirements file location: /anaconda/envs/azureml_py36/lib/python3.6/site-packages/azureml/automl/core/validated_linux_requirements.txt. Alternatively, use remote target to avoid dependency management. \nPackage name/Required version/Installed version\nazureml-widgets/azureml-core~=1.20.0/azureml-core 1.21.0.post1\nazureml-widgets/azureml-telemetry~=1.20.0/azureml-telemetry 1.21.0\n\tInnerException: None\n\tErrorResponse \n{\n    \"error\": {\n        \"code\": \"UserError\",\n        \"message\": \"Install the required versions of packages using the requirements file. Requirements file location: /anaconda/envs/azureml_py36/lib/python3.6/site-packages/azureml/automl/core/validated_linux_requirements.txt. Alternatively, use remote target to avoid dependency management. \\nPackage name/Required version/Installed version\\nazureml-widgets/azureml-core~=1.20.0/azureml-core 1.21.0.post1\\nazureml-widgets/azureml-telemetry~=1.20.0/azureml-telemetry 1.21.0\",\n        \"target\": \"azureml-widgets\",\n        \"inner_error\": {\n            \"code\": \"NotSupported\",\n            \"inner_error\": {\n                \"code\": \"IncompatibleOrMissingDependency\"\n            }\n        },\n        \"reference_code\": \"435ab938-fd87-49bc-932e-6eec0d6aee4f\"\n    }\n}",
          "traceback": [
            "\u001b[0;31m---------------------------------------------------------------------------\u001b[0m",
            "\u001b[0;31mValidationException\u001b[0m                       Traceback (most recent call last)",
            "\u001b[0;32m<ipython-input-11-eae8eb95e472>\u001b[0m in \u001b[0;36m<module>\u001b[0;34m\u001b[0m\n\u001b[1;32m      1\u001b[0m \u001b[0;31m# TODO: Submit your experiment\u001b[0m\u001b[0;34m\u001b[0m\u001b[0;34m\u001b[0m\u001b[0;34m\u001b[0m\u001b[0m\n\u001b[0;32m----> 2\u001b[0;31m \u001b[0mremote_run\u001b[0m \u001b[0;34m=\u001b[0m \u001b[0mexperiment\u001b[0m\u001b[0;34m.\u001b[0m\u001b[0msubmit\u001b[0m\u001b[0;34m(\u001b[0m\u001b[0mautoml_config\u001b[0m\u001b[0;34m,\u001b[0m\u001b[0mshow_output\u001b[0m\u001b[0;34m=\u001b[0m\u001b[0;32mTrue\u001b[0m\u001b[0;34m)\u001b[0m\u001b[0;34m\u001b[0m\u001b[0;34m\u001b[0m\u001b[0m\n\u001b[0m",
            "\u001b[0;32m/anaconda/envs/azureml_py36/lib/python3.6/site-packages/azureml/core/experiment.py\u001b[0m in \u001b[0;36msubmit\u001b[0;34m(self, config, tags, **kwargs)\u001b[0m\n\u001b[1;32m    218\u001b[0m         \u001b[0msubmit_func\u001b[0m \u001b[0;34m=\u001b[0m \u001b[0mget_experiment_submit\u001b[0m\u001b[0;34m(\u001b[0m\u001b[0mconfig\u001b[0m\u001b[0;34m)\u001b[0m\u001b[0;34m\u001b[0m\u001b[0;34m\u001b[0m\u001b[0m\n\u001b[1;32m    219\u001b[0m         \u001b[0;32mwith\u001b[0m \u001b[0mself\u001b[0m\u001b[0;34m.\u001b[0m\u001b[0m_log_context\u001b[0m\u001b[0;34m(\u001b[0m\u001b[0;34m\"submit config {}\"\u001b[0m\u001b[0;34m.\u001b[0m\u001b[0mformat\u001b[0m\u001b[0;34m(\u001b[0m\u001b[0mconfig\u001b[0m\u001b[0;34m.\u001b[0m\u001b[0m__class__\u001b[0m\u001b[0;34m.\u001b[0m\u001b[0m__name__\u001b[0m\u001b[0;34m)\u001b[0m\u001b[0;34m)\u001b[0m\u001b[0;34m:\u001b[0m\u001b[0;34m\u001b[0m\u001b[0;34m\u001b[0m\u001b[0m\n\u001b[0;32m--> 220\u001b[0;31m             \u001b[0mrun\u001b[0m \u001b[0;34m=\u001b[0m \u001b[0msubmit_func\u001b[0m\u001b[0;34m(\u001b[0m\u001b[0mconfig\u001b[0m\u001b[0;34m,\u001b[0m \u001b[0mself\u001b[0m\u001b[0;34m.\u001b[0m\u001b[0mworkspace\u001b[0m\u001b[0;34m,\u001b[0m \u001b[0mself\u001b[0m\u001b[0;34m.\u001b[0m\u001b[0mname\u001b[0m\u001b[0;34m,\u001b[0m \u001b[0;34m**\u001b[0m\u001b[0mkwargs\u001b[0m\u001b[0;34m)\u001b[0m\u001b[0;34m\u001b[0m\u001b[0;34m\u001b[0m\u001b[0m\n\u001b[0m\u001b[1;32m    221\u001b[0m         \u001b[0;32mif\u001b[0m \u001b[0mtags\u001b[0m \u001b[0;32mis\u001b[0m \u001b[0;32mnot\u001b[0m \u001b[0;32mNone\u001b[0m\u001b[0;34m:\u001b[0m\u001b[0;34m\u001b[0m\u001b[0;34m\u001b[0m\u001b[0m\n\u001b[1;32m    222\u001b[0m             \u001b[0mrun\u001b[0m\u001b[0;34m.\u001b[0m\u001b[0mset_tags\u001b[0m\u001b[0;34m(\u001b[0m\u001b[0mtags\u001b[0m\u001b[0;34m)\u001b[0m\u001b[0;34m\u001b[0m\u001b[0;34m\u001b[0m\u001b[0m\n",
            "\u001b[0;32m/anaconda/envs/azureml_py36/lib/python3.6/site-packages/azureml/train/automl/automlconfig.py\u001b[0m in \u001b[0;36m_automl_static_submit\u001b[0;34m(automl_config_object, workspace, experiment_name, **kwargs)\u001b[0m\n\u001b[1;32m    100\u001b[0m             \u001b[0mcompute_target\u001b[0m\u001b[0;34m,\u001b[0m\u001b[0;34m\u001b[0m\u001b[0;34m\u001b[0m\u001b[0m\n\u001b[1;32m    101\u001b[0m             \u001b[0mparent_run_id\u001b[0m\u001b[0;34m,\u001b[0m\u001b[0;34m\u001b[0m\u001b[0;34m\u001b[0m\u001b[0m\n\u001b[0;32m--> 102\u001b[0;31m             show_output)\n\u001b[0m\u001b[1;32m    103\u001b[0m \u001b[0;34m\u001b[0m\u001b[0m\n\u001b[1;32m    104\u001b[0m         \u001b[0mautoml_run\u001b[0m\u001b[0;34m.\u001b[0m\u001b[0madd_properties\u001b[0m\u001b[0;34m(\u001b[0m\u001b[0mglobal_tracking_info_registry\u001b[0m\u001b[0;34m.\u001b[0m\u001b[0mgather_all\u001b[0m\u001b[0;34m(\u001b[0m\u001b[0msettings\u001b[0m\u001b[0;34m.\u001b[0m\u001b[0mpath\u001b[0m\u001b[0;34m)\u001b[0m\u001b[0;34m)\u001b[0m\u001b[0;34m\u001b[0m\u001b[0;34m\u001b[0m\u001b[0m\n",
            "\u001b[0;32m/anaconda/envs/azureml_py36/lib/python3.6/site-packages/azureml/train/automl/automlconfig.py\u001b[0m in \u001b[0;36m_start_execution\u001b[0;34m(experiment, settings_obj, fit_params, run_config, compute_target, parent_run_id, show_output)\u001b[0m\n\u001b[1;32m    200\u001b[0m             package_utilities._get_package_incompatibilities(\n\u001b[1;32m    201\u001b[0m                 \u001b[0mpackages\u001b[0m\u001b[0;34m=\u001b[0m\u001b[0mpackage_utilities\u001b[0m\u001b[0;34m.\u001b[0m\u001b[0mAUTOML_PACKAGES\u001b[0m\u001b[0;34m,\u001b[0m\u001b[0;34m\u001b[0m\u001b[0;34m\u001b[0m\u001b[0m\n\u001b[0;32m--> 202\u001b[0;31m                 \u001b[0mignored_dependencies\u001b[0m\u001b[0;34m=\u001b[0m\u001b[0mpackage_utilities\u001b[0m\u001b[0;34m.\u001b[0m\u001b[0m_PACKAGES_TO_IGNORE_VERSIONS\u001b[0m\u001b[0;34m\u001b[0m\u001b[0;34m\u001b[0m\u001b[0m\n\u001b[0m\u001b[1;32m    203\u001b[0m             )\n\u001b[1;32m    204\u001b[0m         \u001b[0mautoml_run\u001b[0m \u001b[0;34m=\u001b[0m \u001b[0m_default_execution\u001b[0m\u001b[0;34m(\u001b[0m\u001b[0mexperiment\u001b[0m\u001b[0;34m,\u001b[0m \u001b[0msettings_obj\u001b[0m\u001b[0;34m,\u001b[0m \u001b[0mfit_params\u001b[0m\u001b[0;34m,\u001b[0m \u001b[0;32mTrue\u001b[0m\u001b[0;34m,\u001b[0m \u001b[0mshow_output\u001b[0m\u001b[0;34m,\u001b[0m \u001b[0mparent_run_id\u001b[0m\u001b[0;34m)\u001b[0m\u001b[0;34m\u001b[0m\u001b[0;34m\u001b[0m\u001b[0m\n",
            "\u001b[0;32m/anaconda/envs/azureml_py36/lib/python3.6/site-packages/azureml/automl/core/package_utilities.py\u001b[0m in \u001b[0;36m_get_package_incompatibilities\u001b[0;34m(packages, ignored_dependencies, is_databricks_run)\u001b[0m\n\u001b[1;32m    428\u001b[0m                         \u001b[0mmissing_packages_message\u001b[0m\u001b[0;34m=\u001b[0m\u001b[0;34m'\\n'\u001b[0m\u001b[0;34m.\u001b[0m\u001b[0mjoin\u001b[0m\u001b[0;34m(\u001b[0m\u001b[0mmessages\u001b[0m\u001b[0;34m)\u001b[0m\u001b[0;34m,\u001b[0m\u001b[0;34m\u001b[0m\u001b[0;34m\u001b[0m\u001b[0m\n\u001b[1;32m    429\u001b[0m                         \u001b[0mreference_code\u001b[0m\u001b[0;34m=\u001b[0m\u001b[0mReferenceCodes\u001b[0m\u001b[0;34m.\u001b[0m\u001b[0m_PACKAGE_INCOMPATIBILITIES_FOUND\u001b[0m\u001b[0;34m,\u001b[0m\u001b[0;34m\u001b[0m\u001b[0;34m\u001b[0m\u001b[0m\n\u001b[0;32m--> 430\u001b[0;31m                         \u001b[0mvalidated_requirements_file_path\u001b[0m\u001b[0;34m=\u001b[0m\u001b[0mVALIDATED_REQ_FILE_PATH\u001b[0m\u001b[0;34m\u001b[0m\u001b[0;34m\u001b[0m\u001b[0m\n\u001b[0m\u001b[1;32m    431\u001b[0m                     )\n\u001b[1;32m    432\u001b[0m                 )\n",
            "\u001b[0;31mValidationException\u001b[0m: ValidationException:\n\tMessage: Install the required versions of packages using the requirements file. Requirements file location: /anaconda/envs/azureml_py36/lib/python3.6/site-packages/azureml/automl/core/validated_linux_requirements.txt. Alternatively, use remote target to avoid dependency management. \nPackage name/Required version/Installed version\nazureml-widgets/azureml-core~=1.20.0/azureml-core 1.21.0.post1\nazureml-widgets/azureml-telemetry~=1.20.0/azureml-telemetry 1.21.0\n\tInnerException: None\n\tErrorResponse \n{\n    \"error\": {\n        \"code\": \"UserError\",\n        \"message\": \"Install the required versions of packages using the requirements file. Requirements file location: /anaconda/envs/azureml_py36/lib/python3.6/site-packages/azureml/automl/core/validated_linux_requirements.txt. Alternatively, use remote target to avoid dependency management. \\nPackage name/Required version/Installed version\\nazureml-widgets/azureml-core~=1.20.0/azureml-core 1.21.0.post1\\nazureml-widgets/azureml-telemetry~=1.20.0/azureml-telemetry 1.21.0\",\n        \"target\": \"azureml-widgets\",\n        \"inner_error\": {\n            \"code\": \"NotSupported\",\n            \"inner_error\": {\n                \"code\": \"IncompatibleOrMissingDependency\"\n            }\n        },\n        \"reference_code\": \"435ab938-fd87-49bc-932e-6eec0d6aee4f\"\n    }\n}"
          ]
        }
      ],
      "execution_count": 11,
      "metadata": {
        "gather": {
          "logged": 1612158933626
        },
        "jupyter": {
          "outputs_hidden": false,
          "source_hidden": false
        },
        "nteract": {
          "transient": {
            "deleting": false
          }
        }
      }
    },
    {
      "cell_type": "code",
      "source": [
        "from azureml.widgets import RunDetails\r\n",
        "RunDetails(remote_run).show()"
      ],
      "outputs": [],
      "execution_count": null,
      "metadata": {
        "collapsed": true,
        "jupyter": {
          "source_hidden": false,
          "outputs_hidden": false
        },
        "nteract": {
          "transient": {
            "deleting": false
          }
        }
      }
    },
    {
      "cell_type": "markdown",
      "source": [
        "## Run Details\n",
        "\n",
        "OPTIONAL: Write about the different models trained and their performance. Why do you think some models did better than others?\n",
        "\n",
        "TODO: In the cell below, use the `RunDetails` widget to show the different experiments."
      ],
      "metadata": {}
    },
    {
      "cell_type": "code",
      "source": [
        "from azureml.widgets import RunDetails\r\n",
        "RunDetails(remote_run).show()"
      ],
      "outputs": [
        {
          "output_type": "display_data",
          "data": {
            "text/plain": "_AutoMLWidget(widget_settings={'childWidgetDisplay': 'popup', 'send_telemetry': False, 'log_level': 'INFO', 's…",
            "application/vnd.jupyter.widget-view+json": {
              "version_major": 2,
              "version_minor": 0,
              "model_id": "7a37b0f90acb4f888224bc91ed302676"
            }
          },
          "metadata": {}
        },
        {
          "output_type": "display_data",
          "data": {
            "application/aml.mini.widget.v1": "{\"status\": \"Completed\", \"workbench_run_details_uri\": \"https://ml.azure.com/experiments/udacity-capstone/runs/AutoML_749f6e53-0471-4c90-be45-05db93f30f23?wsid=/subscriptions/6b4af8be-9931-443e-90f6-c4c34a1f9737/resourcegroups/aml-quickstarts-136794/workspaces/quick-starts-ws-136794\", \"run_id\": \"AutoML_749f6e53-0471-4c90-be45-05db93f30f23\", \"run_properties\": {\"run_id\": \"AutoML_749f6e53-0471-4c90-be45-05db93f30f23\", \"created_utc\": \"2021-02-01T05:20:18.601956Z\", \"properties\": {\"num_iterations\": \"1000\", \"training_type\": \"TrainFull\", \"acquisition_function\": \"EI\", \"primary_metric\": \"accuracy\", \"train_split\": \"0\", \"acquisition_parameter\": \"0\", \"num_cross_validation\": \"5\", \"target\": \"local\", \"AMLSettingsJsonString\": \"{\\\"path\\\":null,\\\"name\\\":\\\"udacity-capstone\\\",\\\"subscription_id\\\":\\\"6b4af8be-9931-443e-90f6-c4c34a1f9737\\\",\\\"resource_group\\\":\\\"aml-quickstarts-136794\\\",\\\"workspace_name\\\":\\\"quick-starts-ws-136794\\\",\\\"region\\\":\\\"southcentralus\\\",\\\"compute_target\\\":\\\"local\\\",\\\"spark_service\\\":null,\\\"azure_service\\\":\\\"Microsoft.AzureNotebookVM\\\",\\\"many_models\\\":false,\\\"pipeline_fetch_max_batch_size\\\":1,\\\"iterations\\\":1000,\\\"primary_metric\\\":\\\"accuracy\\\",\\\"task_type\\\":\\\"classification\\\",\\\"data_script\\\":null,\\\"validation_size\\\":0.0,\\\"n_cross_validations\\\":5,\\\"y_min\\\":null,\\\"y_max\\\":null,\\\"num_classes\\\":2,\\\"featurization\\\":\\\"auto\\\",\\\"_ignore_package_version_incompatibilities\\\":false,\\\"is_timeseries\\\":false,\\\"max_cores_per_iteration\\\":1,\\\"max_concurrent_iterations\\\":1,\\\"iteration_timeout_minutes\\\":null,\\\"mem_in_mb\\\":null,\\\"enforce_time_on_windows\\\":false,\\\"experiment_timeout_minutes\\\":30,\\\"experiment_exit_score\\\":null,\\\"whitelist_models\\\":null,\\\"blacklist_algos\\\":[\\\"TensorFlowLinearClassifier\\\",\\\"TensorFlowDNN\\\"],\\\"supported_models\\\":[\\\"BernoulliNaiveBayes\\\",\\\"RandomForest\\\",\\\"DecisionTree\\\",\\\"AveragedPerceptronClassifier\\\",\\\"SVM\\\",\\\"KNN\\\",\\\"ExtremeRandomTrees\\\",\\\"TensorFlowDNN\\\",\\\"XGBoostClassifier\\\",\\\"SGD\\\",\\\"LinearSVM\\\",\\\"GradientBoosting\\\",\\\"LightGBM\\\",\\\"TensorFlowLinearClassifier\\\",\\\"LogisticRegression\\\",\\\"MultinomialNaiveBayes\\\"],\\\"auto_blacklist\\\":true,\\\"blacklist_samples_reached\\\":false,\\\"exclude_nan_labels\\\":true,\\\"verbosity\\\":20,\\\"_debug_log\\\":\\\"automl.log\\\",\\\"show_warnings\\\":false,\\\"model_explainability\\\":true,\\\"service_url\\\":null,\\\"sdk_url\\\":null,\\\"sdk_packages\\\":null,\\\"enable_onnx_compatible_models\\\":false,\\\"enable_split_onnx_featurizer_estimator_models\\\":false,\\\"vm_type\\\":null,\\\"telemetry_verbosity\\\":20,\\\"send_telemetry\\\":true,\\\"enable_dnn\\\":false,\\\"scenario\\\":\\\"SDK-1.13.0\\\",\\\"environment_label\\\":null,\\\"force_text_dnn\\\":false,\\\"enable_feature_sweeping\\\":true,\\\"enable_early_stopping\\\":false,\\\"early_stopping_n_iters\\\":10,\\\"metrics\\\":null,\\\"enable_ensembling\\\":true,\\\"enable_stack_ensembling\\\":true,\\\"ensemble_iterations\\\":15,\\\"enable_tf\\\":false,\\\"enable_subsampling\\\":null,\\\"subsample_seed\\\":null,\\\"enable_nimbusml\\\":false,\\\"enable_streaming\\\":false,\\\"force_streaming\\\":false,\\\"track_child_runs\\\":true,\\\"allowed_private_models\\\":[],\\\"label_column_name\\\":\\\"diagnosis\\\",\\\"weight_column_name\\\":null,\\\"cv_split_column_names\\\":null,\\\"enable_local_managed\\\":false,\\\"_local_managed_run_id\\\":null,\\\"cost_mode\\\":1,\\\"lag_length\\\":0,\\\"metric_operation\\\":\\\"maximize\\\",\\\"preprocess\\\":true}\", \"DataPrepJsonString\": null, \"EnableSubsampling\": null, \"runTemplate\": \"AutoML\", \"azureml.runsource\": \"automl\", \"display_task_type\": \"classification\", \"dependencies_versions\": \"{\\\"azureml-widgets\\\": \\\"1.20.0\\\", \\\"azureml-train\\\": \\\"1.20.0\\\", \\\"azureml-train-restclients-hyperdrive\\\": \\\"1.20.0\\\", \\\"azureml-train-core\\\": \\\"1.20.0\\\", \\\"azureml-train-automl\\\": \\\"1.20.0\\\", \\\"azureml-train-automl-runtime\\\": \\\"1.20.0\\\", \\\"azureml-train-automl-client\\\": \\\"1.20.0\\\", \\\"azureml-tensorboard\\\": \\\"1.20.0\\\", \\\"azureml-telemetry\\\": \\\"1.20.0\\\", \\\"azureml-sdk\\\": \\\"1.20.0\\\", \\\"azureml-samples\\\": \\\"0+unknown\\\", \\\"azureml-pipeline\\\": \\\"1.20.0\\\", \\\"azureml-pipeline-steps\\\": \\\"1.20.0\\\", \\\"azureml-pipeline-core\\\": \\\"1.20.0\\\", \\\"azureml-opendatasets\\\": \\\"1.20.0\\\", \\\"azureml-model-management-sdk\\\": \\\"1.0.1b6.post1\\\", \\\"azureml-mlflow\\\": \\\"1.20.0.post1\\\", \\\"azureml-interpret\\\": \\\"1.20.0\\\", \\\"azureml-explain-model\\\": \\\"1.20.0\\\", \\\"azureml-defaults\\\": \\\"1.20.0\\\", \\\"azureml-dataset-runtime\\\": \\\"1.20.0\\\", \\\"azureml-dataprep\\\": \\\"2.7.3\\\", \\\"azureml-dataprep-rslex\\\": \\\"1.5.0\\\", \\\"azureml-dataprep-native\\\": \\\"27.0.0\\\", \\\"azureml-datadrift\\\": \\\"1.20.0\\\", \\\"azureml-core\\\": \\\"1.20.0\\\", \\\"azureml-contrib-services\\\": \\\"1.20.0\\\", \\\"azureml-contrib-server\\\": \\\"1.20.0\\\", \\\"azureml-contrib-reinforcementlearning\\\": \\\"1.20.0\\\", \\\"azureml-contrib-pipeline-steps\\\": \\\"1.20.0\\\", \\\"azureml-contrib-notebook\\\": \\\"1.20.0\\\", \\\"azureml-contrib-interpret\\\": \\\"1.20.0\\\", \\\"azureml-contrib-gbdt\\\": \\\"1.20.0\\\", \\\"azureml-contrib-fairness\\\": \\\"1.20.0\\\", \\\"azureml-contrib-dataset\\\": \\\"1.20.0\\\", \\\"azureml-cli-common\\\": \\\"1.20.0\\\", \\\"azureml-automl-runtime\\\": \\\"1.20.0\\\", \\\"azureml-automl-core\\\": \\\"1.20.0\\\", \\\"azureml-accel-models\\\": \\\"1.20.0\\\"}\", \"_aml_system_scenario_identification\": \"Local.Parent\", \"ClientSdkVersion\": \"1.20.0\", \"ClientType\": \"SDK\", \"environment_cpu_name\": \"AzureML-AutoML\", \"environment_cpu_label\": \"prod\", \"environment_gpu_name\": \"AzureML-AutoML-GPU\", \"environment_gpu_label\": \"prod\", \"root_attribution\": \"automl\", \"attribution\": \"AutoML\", \"Orchestrator\": \"AutoML\", \"_azureml.ComputeTargetType\": \"local\", \"ProblemInfoJsonString\": \"{\\\"dataset_num_categorical\\\": 0, \\\"is_sparse\\\": false, \\\"subsampling\\\": false, \\\"dataset_classes\\\": 2, \\\"dataset_features\\\": 8, \\\"dataset_samples\\\": 569, \\\"single_frequency_class_detected\\\": false}\", \"feature_skus\": \"automatedml_sdk_guardrails\"}, \"tags\": {\"model_explain_run\": \"best_run\", \"best_score\": \"0.9560006210215806\", \"best_pipeline\": \"VotingEnsemble\", \"automl_best_child_run_id\": \"AutoML_749f6e53-0471-4c90-be45-05db93f30f23_56\", \"model_explain_best_run_child_id\": \"AutoML_749f6e53-0471-4c90-be45-05db93f30f23_56\"}, \"end_time_utc\": \"2021-02-01T05:52:27.263682Z\", \"status\": \"Completed\", \"log_files\": {}, \"log_groups\": [], \"run_duration\": \"0:32:08\"}, \"child_runs\": [{\"run_id\": \"AutoML_749f6e53-0471-4c90-be45-05db93f30f23_0\", \"run_number\": 63, \"metric\": null, \"status\": \"Completed\", \"run_type\": null, \"training_percent\": \"100\", \"start_time\": \"2021-02-01T05:20:31.446608Z\", \"end_time\": \"2021-02-01T05:21:03.202872Z\", \"created_time\": \"2021-02-01T05:20:31.352535Z\", \"created_time_dt\": \"2021-02-01T05:20:31.352535Z\", \"duration\": \"0:00:31\", \"iteration\": \"0\", \"goal\": \"accuracy_max\", \"run_name\": \"MaxAbsScaler, LightGBM\", \"run_properties\": \"copy=True\", \"primary_metric\": 0.94722869, \"best_metric\": 0.94722869}, {\"run_id\": \"AutoML_749f6e53-0471-4c90-be45-05db93f30f23_1\", \"run_number\": 64, \"metric\": null, \"status\": \"Completed\", \"run_type\": null, \"training_percent\": \"100\", \"start_time\": \"2021-02-01T05:21:03.526917Z\", \"end_time\": \"2021-02-01T05:21:35.009301Z\", \"created_time\": \"2021-02-01T05:21:03.425297Z\", \"created_time_dt\": \"2021-02-01T05:21:03.425297Z\", \"duration\": \"0:00:31\", \"iteration\": \"1\", \"goal\": \"accuracy_max\", \"run_name\": \"MaxAbsScaler, XGBoostClassifier\", \"run_properties\": \"copy=True\", \"primary_metric\": 0.94370439, \"best_metric\": 0.94722869}, {\"run_id\": \"AutoML_749f6e53-0471-4c90-be45-05db93f30f23_2\", \"run_number\": 65, \"metric\": null, \"status\": \"Completed\", \"run_type\": null, \"training_percent\": \"100\", \"start_time\": \"2021-02-01T05:21:35.757822Z\", \"end_time\": \"2021-02-01T05:22:02.836332Z\", \"created_time\": \"2021-02-01T05:21:35.658201Z\", \"created_time_dt\": \"2021-02-01T05:21:35.658201Z\", \"duration\": \"0:00:27\", \"iteration\": \"2\", \"goal\": \"accuracy_max\", \"run_name\": \"MinMaxScaler, RandomForest\", \"run_properties\": \"copy=True, feature_range=(0, 1\", \"primary_metric\": 0.93496351, \"best_metric\": 0.94722869}, {\"run_id\": \"AutoML_749f6e53-0471-4c90-be45-05db93f30f23_3\", \"run_number\": 66, \"metric\": null, \"status\": \"Completed\", \"run_type\": null, \"training_percent\": \"100\", \"start_time\": \"2021-02-01T05:22:04.218693Z\", \"end_time\": \"2021-02-01T05:22:36.024415Z\", \"created_time\": \"2021-02-01T05:22:04.092542Z\", \"created_time_dt\": \"2021-02-01T05:22:04.092542Z\", \"duration\": \"0:00:31\", \"iteration\": \"3\", \"goal\": \"accuracy_max\", \"run_name\": \"MinMaxScaler, RandomForest\", \"run_properties\": \"copy=True, feature_range=(0, 1\", \"primary_metric\": 0.92794597, \"best_metric\": 0.94722869}, {\"run_id\": \"AutoML_749f6e53-0471-4c90-be45-05db93f30f23_4\", \"run_number\": 67, \"metric\": null, \"status\": \"Completed\", \"run_type\": null, \"training_percent\": \"100\", \"start_time\": \"2021-02-01T05:22:37.754493Z\", \"end_time\": \"2021-02-01T05:23:05.275107Z\", \"created_time\": \"2021-02-01T05:22:37.639001Z\", \"created_time_dt\": \"2021-02-01T05:22:37.639001Z\", \"duration\": \"0:00:27\", \"iteration\": \"4\", \"goal\": \"accuracy_max\", \"run_name\": \"MinMaxScaler, RandomForest\", \"run_properties\": \"copy=True, feature_range=(0, 1\", \"primary_metric\": 0.92616053, \"best_metric\": 0.94722869}, {\"run_id\": \"AutoML_749f6e53-0471-4c90-be45-05db93f30f23_5\", \"run_number\": 68, \"metric\": null, \"status\": \"Completed\", \"run_type\": null, \"training_percent\": \"100\", \"start_time\": \"2021-02-01T05:23:06.389293Z\", \"end_time\": \"2021-02-01T05:23:38.664749Z\", \"created_time\": \"2021-02-01T05:23:06.243561Z\", \"created_time_dt\": \"2021-02-01T05:23:06.243561Z\", \"duration\": \"0:00:32\", \"iteration\": \"5\", \"goal\": \"accuracy_max\", \"run_name\": \"MinMaxScaler, SVM\", \"run_properties\": \"copy=True, feature_range=(0, 1\", \"primary_metric\": 0.94022667, \"best_metric\": 0.94722869}, {\"run_id\": \"AutoML_749f6e53-0471-4c90-be45-05db93f30f23_6\", \"run_number\": 69, \"metric\": null, \"status\": \"Completed\", \"run_type\": null, \"training_percent\": \"100\", \"start_time\": \"2021-02-01T05:23:41.409607Z\", \"end_time\": \"2021-02-01T05:24:17.30082Z\", \"created_time\": \"2021-02-01T05:23:40.787586Z\", \"created_time_dt\": \"2021-02-01T05:23:40.787586Z\", \"duration\": \"0:00:36\", \"iteration\": \"6\", \"goal\": \"accuracy_max\", \"run_name\": \"MaxAbsScaler, GradientBoosting\", \"run_properties\": \"copy=True\", \"primary_metric\": 0.94019562, \"best_metric\": 0.94722869}, {\"run_id\": \"AutoML_749f6e53-0471-4c90-be45-05db93f30f23_7\", \"run_number\": 70, \"metric\": null, \"status\": \"Completed\", \"run_type\": null, \"training_percent\": \"100\", \"start_time\": \"2021-02-01T05:24:19.720331Z\", \"end_time\": \"2021-02-01T05:24:47.516473Z\", \"created_time\": \"2021-02-01T05:24:19.214445Z\", \"created_time_dt\": \"2021-02-01T05:24:19.214445Z\", \"duration\": \"0:00:28\", \"iteration\": \"7\", \"goal\": \"accuracy_max\", \"run_name\": \"StandardScalerWrapper, RandomForest\", \"run_properties\": \"<azureml.automl.runtime.shared.model_wrappers.StandardScalerWrapper object at 0x7fba3eed1710\", \"primary_metric\": 0.92614501, \"best_metric\": 0.94722869}, {\"run_id\": \"AutoML_749f6e53-0471-4c90-be45-05db93f30f23_8\", \"run_number\": 71, \"metric\": null, \"status\": \"Completed\", \"run_type\": null, \"training_percent\": \"100\", \"start_time\": \"2021-02-01T05:24:48.76225Z\", \"end_time\": \"2021-02-01T05:25:15.057259Z\", \"created_time\": \"2021-02-01T05:24:48.658078Z\", \"created_time_dt\": \"2021-02-01T05:24:48.658078Z\", \"duration\": \"0:00:26\", \"iteration\": \"8\", \"goal\": \"accuracy_max\", \"run_name\": \"SparseNormalizer, XGBoostClassifier\", \"run_properties\": \"<azureml.automl.runtime.shared.model_wrappers.SparseNormalizer object at 0x7fba410ea6d8\", \"primary_metric\": 0.93668685, \"best_metric\": 0.94722869}, {\"run_id\": \"AutoML_749f6e53-0471-4c90-be45-05db93f30f23_9\", \"run_number\": 72, \"metric\": null, \"status\": \"Completed\", \"run_type\": null, \"training_percent\": \"100\", \"start_time\": \"2021-02-01T05:25:16.280975Z\", \"end_time\": \"2021-02-01T05:25:49.012929Z\", \"created_time\": \"2021-02-01T05:25:16.168121Z\", \"created_time_dt\": \"2021-02-01T05:25:16.168121Z\", \"duration\": \"0:00:32\", \"iteration\": \"9\", \"goal\": \"accuracy_max\", \"run_name\": \"SparseNormalizer, LightGBM\", \"run_properties\": \"<azureml.automl.runtime.shared.model_wrappers.SparseNormalizer object at 0x7fba33a97400\", \"primary_metric\": 0.92088185, \"best_metric\": 0.94722869}, {\"run_id\": \"AutoML_749f6e53-0471-4c90-be45-05db93f30f23_10\", \"run_number\": 73, \"metric\": null, \"status\": \"Completed\", \"run_type\": null, \"training_percent\": \"100\", \"start_time\": \"2021-02-01T05:25:51.982152Z\", \"end_time\": \"2021-02-01T05:26:25.698307Z\", \"created_time\": \"2021-02-01T05:25:51.505607Z\", \"created_time_dt\": \"2021-02-01T05:25:51.505607Z\", \"duration\": \"0:00:34\", \"iteration\": \"10\", \"goal\": \"accuracy_max\", \"run_name\": \"StandardScalerWrapper, LightGBM\", \"run_properties\": \"<azureml.automl.runtime.shared.model_wrappers.StandardScalerWrapper object at 0x7fba40bfe400\", \"primary_metric\": 0.93142369, \"best_metric\": 0.94722869}, {\"run_id\": \"AutoML_749f6e53-0471-4c90-be45-05db93f30f23_11\", \"run_number\": 74, \"metric\": null, \"status\": \"Completed\", \"run_type\": null, \"training_percent\": \"100\", \"start_time\": \"2021-02-01T05:26:28.133364Z\", \"end_time\": \"2021-02-01T05:26:56.628132Z\", \"created_time\": \"2021-02-01T05:26:27.71366Z\", \"created_time_dt\": \"2021-02-01T05:26:27.71366Z\", \"duration\": \"0:00:28\", \"iteration\": \"11\", \"goal\": \"accuracy_max\", \"run_name\": \"RobustScaler, ExtremeRandomTrees\", \"run_properties\": \"copy=True, quantile_range=[25, 75], with_centering=True,\\n             with_scaling=False\", \"primary_metric\": 0.91563422, \"best_metric\": 0.94722869}, {\"run_id\": \"AutoML_749f6e53-0471-4c90-be45-05db93f30f23_12\", \"run_number\": 75, \"metric\": null, \"status\": \"Completed\", \"run_type\": null, \"training_percent\": \"100\", \"start_time\": \"2021-02-01T05:26:57.833184Z\", \"end_time\": \"2021-02-01T05:27:25.57118Z\", \"created_time\": \"2021-02-01T05:26:57.692382Z\", \"created_time_dt\": \"2021-02-01T05:26:57.692382Z\", \"duration\": \"0:00:27\", \"iteration\": \"12\", \"goal\": \"accuracy_max\", \"run_name\": \"SparseNormalizer, XGBoostClassifier\", \"run_properties\": \"<azureml.automl.runtime.shared.model_wrappers.SparseNormalizer object at 0x7fba33a07c18\", \"primary_metric\": 0.93491694, \"best_metric\": 0.94722869}, {\"run_id\": \"AutoML_749f6e53-0471-4c90-be45-05db93f30f23_13\", \"run_number\": 76, \"metric\": null, \"status\": \"Completed\", \"run_type\": null, \"training_percent\": \"100\", \"start_time\": \"2021-02-01T05:27:27.374159Z\", \"end_time\": \"2021-02-01T05:27:53.9043Z\", \"created_time\": \"2021-02-01T05:27:27.069298Z\", \"created_time_dt\": \"2021-02-01T05:27:27.069298Z\", \"duration\": \"0:00:26\", \"iteration\": \"13\", \"goal\": \"accuracy_max\", \"run_name\": \"SparseNormalizer, XGBoostClassifier\", \"run_properties\": \"<azureml.automl.runtime.shared.model_wrappers.SparseNormalizer object at 0x7fba340f9a58\", \"primary_metric\": 0.92791492, \"best_metric\": 0.94722869}, {\"run_id\": \"AutoML_749f6e53-0471-4c90-be45-05db93f30f23_14\", \"run_number\": 77, \"metric\": null, \"status\": \"Completed\", \"run_type\": null, \"training_percent\": \"100\", \"start_time\": \"2021-02-01T05:27:55.084455Z\", \"end_time\": \"2021-02-01T05:28:22.686056Z\", \"created_time\": \"2021-02-01T05:27:54.971477Z\", \"created_time_dt\": \"2021-02-01T05:27:54.971477Z\", \"duration\": \"0:00:27\", \"iteration\": \"14\", \"goal\": \"accuracy_max\", \"run_name\": \"RobustScaler, ExtremeRandomTrees\", \"run_properties\": \"copy=True, quantile_range=[25, 75], with_centering=True,\\n             with_scaling=False\", \"primary_metric\": 0.92266729, \"best_metric\": 0.94722869}, {\"run_id\": \"AutoML_749f6e53-0471-4c90-be45-05db93f30f23_15\", \"run_number\": 78, \"metric\": null, \"status\": \"Completed\", \"run_type\": null, \"training_percent\": \"100\", \"start_time\": \"2021-02-01T05:28:23.769179Z\", \"end_time\": \"2021-02-01T05:28:50.019741Z\", \"created_time\": \"2021-02-01T05:28:23.668597Z\", \"created_time_dt\": \"2021-02-01T05:28:23.668597Z\", \"duration\": \"0:00:26\", \"iteration\": \"15\", \"goal\": \"accuracy_max\", \"run_name\": \"MinMaxScaler, LightGBM\", \"run_properties\": \"copy=True, feature_range=(0, 1\", \"primary_metric\": 0.93142369, \"best_metric\": 0.94722869}, {\"run_id\": \"AutoML_749f6e53-0471-4c90-be45-05db93f30f23_16\", \"run_number\": 79, \"metric\": null, \"status\": \"Completed\", \"run_type\": null, \"training_percent\": \"100\", \"start_time\": \"2021-02-01T05:28:51.153671Z\", \"end_time\": \"2021-02-01T05:29:18.627585Z\", \"created_time\": \"2021-02-01T05:28:51.054781Z\", \"created_time_dt\": \"2021-02-01T05:28:51.054781Z\", \"duration\": \"0:00:27\", \"iteration\": \"16\", \"goal\": \"accuracy_max\", \"run_name\": \"StandardScalerWrapper, GradientBoosting\", \"run_properties\": \"<azureml.automl.runtime.shared.model_wrappers.StandardScalerWrapper object at 0x7fba3eeb1ba8\", \"primary_metric\": 0.94542773, \"best_metric\": 0.94722869}, {\"run_id\": \"AutoML_749f6e53-0471-4c90-be45-05db93f30f23_17\", \"run_number\": 80, \"metric\": null, \"status\": \"Completed\", \"run_type\": null, \"training_percent\": \"100\", \"start_time\": \"2021-02-01T05:29:19.834937Z\", \"end_time\": \"2021-02-01T05:29:46.259076Z\", \"created_time\": \"2021-02-01T05:29:19.73251Z\", \"created_time_dt\": \"2021-02-01T05:29:19.73251Z\", \"duration\": \"0:00:26\", \"iteration\": \"17\", \"goal\": \"accuracy_max\", \"run_name\": \"RobustScaler, KNN\", \"run_properties\": \"copy=True, quantile_range=[25, 75], with_centering=True,\\n             with_scaling=False\", \"primary_metric\": 0.89624282, \"best_metric\": 0.94722869}, {\"run_id\": \"AutoML_749f6e53-0471-4c90-be45-05db93f30f23_18\", \"run_number\": 81, \"metric\": null, \"status\": \"Completed\", \"run_type\": null, \"training_percent\": \"100\", \"start_time\": \"2021-02-01T05:29:47.450215Z\", \"end_time\": \"2021-02-01T05:30:14.114668Z\", \"created_time\": \"2021-02-01T05:29:47.348941Z\", \"created_time_dt\": \"2021-02-01T05:29:47.348941Z\", \"duration\": \"0:00:26\", \"iteration\": \"18\", \"goal\": \"accuracy_max\", \"run_name\": \"MaxAbsScaler, GradientBoosting\", \"run_properties\": \"copy=True\", \"primary_metric\": 0.93320913, \"best_metric\": 0.94722869}, {\"run_id\": \"AutoML_749f6e53-0471-4c90-be45-05db93f30f23_19\", \"run_number\": 82, \"metric\": null, \"status\": \"Completed\", \"run_type\": null, \"training_percent\": \"100\", \"start_time\": \"2021-02-01T05:30:16.282141Z\", \"end_time\": \"2021-02-01T05:30:42.954694Z\", \"created_time\": \"2021-02-01T05:30:16.15293Z\", \"created_time_dt\": \"2021-02-01T05:30:16.15293Z\", \"duration\": \"0:00:26\", \"iteration\": \"19\", \"goal\": \"accuracy_max\", \"run_name\": \"SparseNormalizer, XGBoostClassifier\", \"run_properties\": \"<azureml.automl.runtime.shared.model_wrappers.SparseNormalizer object at 0x7fbaa099aba8\", \"primary_metric\": 0.93316255, \"best_metric\": 0.94722869}, {\"run_id\": \"AutoML_749f6e53-0471-4c90-be45-05db93f30f23_20\", \"run_number\": 83, \"metric\": null, \"status\": \"Completed\", \"run_type\": null, \"training_percent\": \"100\", \"start_time\": \"2021-02-01T05:30:44.576483Z\", \"end_time\": \"2021-02-01T05:31:16.364488Z\", \"created_time\": \"2021-02-01T05:30:44.464819Z\", \"created_time_dt\": \"2021-02-01T05:30:44.464819Z\", \"duration\": \"0:00:31\", \"iteration\": \"20\", \"goal\": \"accuracy_max\", \"run_name\": \"StandardScalerWrapper, LightGBM\", \"run_properties\": \"<azureml.automl.runtime.shared.model_wrappers.StandardScalerWrapper object at 0x7fba3ebc6da0\", \"primary_metric\": 0.93493246, \"best_metric\": 0.94722869}, {\"run_id\": \"AutoML_749f6e53-0471-4c90-be45-05db93f30f23_21\", \"run_number\": 84, \"metric\": null, \"status\": \"Completed\", \"run_type\": null, \"training_percent\": \"100\", \"start_time\": \"2021-02-01T05:31:17.720541Z\", \"end_time\": \"2021-02-01T05:31:47.175513Z\", \"created_time\": \"2021-02-01T05:31:17.608278Z\", \"created_time_dt\": \"2021-02-01T05:31:17.608278Z\", \"duration\": \"0:00:29\", \"iteration\": \"21\", \"goal\": \"accuracy_max\", \"run_name\": \"SparseNormalizer, ExtremeRandomTrees\", \"run_properties\": \"<azureml.automl.runtime.shared.model_wrappers.SparseNormalizer object at 0x7fba3f1c8cf8\", \"primary_metric\": 0.91384878, \"best_metric\": 0.94722869}, {\"run_id\": \"AutoML_749f6e53-0471-4c90-be45-05db93f30f23_22\", \"run_number\": 85, \"metric\": null, \"status\": \"Completed\", \"run_type\": null, \"training_percent\": \"100\", \"start_time\": \"2021-02-01T05:31:51.189435Z\", \"end_time\": \"2021-02-01T05:32:23.76053Z\", \"created_time\": \"2021-02-01T05:31:51.072624Z\", \"created_time_dt\": \"2021-02-01T05:31:51.072624Z\", \"duration\": \"0:00:32\", \"iteration\": \"22\", \"goal\": \"accuracy_max\", \"run_name\": \"StandardScalerWrapper, ExtremeRandomTrees\", \"run_properties\": \"<azureml.automl.runtime.shared.model_wrappers.StandardScalerWrapper object at 0x7fba40e46cc0\", \"primary_metric\": 0.89451948, \"best_metric\": 0.94722869}, {\"run_id\": \"AutoML_749f6e53-0471-4c90-be45-05db93f30f23_23\", \"run_number\": 86, \"metric\": null, \"status\": \"Completed\", \"run_type\": null, \"training_percent\": \"100\", \"start_time\": \"2021-02-01T05:32:25.482721Z\", \"end_time\": \"2021-02-01T05:32:52.41461Z\", \"created_time\": \"2021-02-01T05:32:25.15415Z\", \"created_time_dt\": \"2021-02-01T05:32:25.15415Z\", \"duration\": \"0:00:27\", \"iteration\": \"23\", \"goal\": \"accuracy_max\", \"run_name\": \"StandardScalerWrapper, LogisticRegression\", \"run_properties\": \"<azureml.automl.runtime.shared.model_wrappers.StandardScalerWrapper object at 0x7fba33fe8128\", \"primary_metric\": 0.9402422, \"best_metric\": 0.94722869}, {\"run_id\": \"AutoML_749f6e53-0471-4c90-be45-05db93f30f23_24\", \"run_number\": 87, \"metric\": null, \"status\": \"Completed\", \"run_type\": null, \"training_percent\": \"100\", \"start_time\": \"2021-02-01T05:32:53.774292Z\", \"end_time\": \"2021-02-01T05:33:27.74746Z\", \"created_time\": \"2021-02-01T05:32:53.6505Z\", \"created_time_dt\": \"2021-02-01T05:32:53.6505Z\", \"duration\": \"0:00:34\", \"iteration\": \"24\", \"goal\": \"accuracy_max\", \"run_name\": \"SparseNormalizer, XGBoostClassifier\", \"run_properties\": \"<azureml.automl.runtime.shared.model_wrappers.SparseNormalizer object at 0x7fba33f856a0\", \"primary_metric\": 0.92966931, \"best_metric\": 0.94722869}, {\"run_id\": \"AutoML_749f6e53-0471-4c90-be45-05db93f30f23_25\", \"run_number\": 88, \"metric\": null, \"status\": \"Completed\", \"run_type\": null, \"training_percent\": \"100\", \"start_time\": \"2021-02-01T05:33:31.077771Z\", \"end_time\": \"2021-02-01T05:34:05.07872Z\", \"created_time\": \"2021-02-01T05:33:30.633703Z\", \"created_time_dt\": \"2021-02-01T05:33:30.633703Z\", \"duration\": \"0:00:34\", \"iteration\": \"25\", \"goal\": \"accuracy_max\", \"run_name\": \"MaxAbsScaler, LightGBM\", \"run_properties\": \"copy=True\", \"primary_metric\": 0.627356, \"best_metric\": 0.94722869}, {\"run_id\": \"AutoML_749f6e53-0471-4c90-be45-05db93f30f23_26\", \"run_number\": 89, \"metric\": null, \"status\": \"Completed\", \"run_type\": null, \"training_percent\": \"100\", \"start_time\": \"2021-02-01T05:34:07.521949Z\", \"end_time\": \"2021-02-01T05:34:40.664581Z\", \"created_time\": \"2021-02-01T05:34:07.106628Z\", \"created_time_dt\": \"2021-02-01T05:34:07.106628Z\", \"duration\": \"0:00:33\", \"iteration\": \"26\", \"goal\": \"accuracy_max\", \"run_name\": \"SparseNormalizer, XGBoostClassifier\", \"run_properties\": \"<azureml.automl.runtime.shared.model_wrappers.SparseNormalizer object at 0x7fba49d22d68\", \"primary_metric\": 0.93668685, \"best_metric\": 0.94722869}, {\"run_id\": \"AutoML_749f6e53-0471-4c90-be45-05db93f30f23_27\", \"run_number\": 90, \"metric\": null, \"status\": \"Completed\", \"run_type\": null, \"training_percent\": \"100\", \"start_time\": \"2021-02-01T05:34:41.89289Z\", \"end_time\": \"2021-02-01T05:35:10.851792Z\", \"created_time\": \"2021-02-01T05:34:41.782293Z\", \"created_time_dt\": \"2021-02-01T05:34:41.782293Z\", \"duration\": \"0:00:29\", \"iteration\": \"27\", \"goal\": \"accuracy_max\", \"run_name\": \"StandardScalerWrapper, XGBoostClassifier\", \"run_properties\": \"<azureml.automl.runtime.shared.model_wrappers.StandardScalerWrapper object at 0x7fbaa0608cf8\", \"primary_metric\": 0.93491694, \"best_metric\": 0.94722869}, {\"run_id\": \"AutoML_749f6e53-0471-4c90-be45-05db93f30f23_28\", \"run_number\": 91, \"metric\": null, \"status\": \"Completed\", \"run_type\": null, \"training_percent\": \"100\", \"start_time\": \"2021-02-01T05:35:12.110685Z\", \"end_time\": \"2021-02-01T05:35:45.145225Z\", \"created_time\": \"2021-02-01T05:35:12.004494Z\", \"created_time_dt\": \"2021-02-01T05:35:12.004494Z\", \"duration\": \"0:00:33\", \"iteration\": \"28\", \"goal\": \"accuracy_max\", \"run_name\": \"RobustScaler, ExtremeRandomTrees\", \"run_properties\": \"copy=True, quantile_range=[10, 90], with_centering=False,\\n             with_scaling=False\", \"primary_metric\": 0.93142369, \"best_metric\": 0.94722869}, {\"run_id\": \"AutoML_749f6e53-0471-4c90-be45-05db93f30f23_29\", \"run_number\": 92, \"metric\": null, \"status\": \"Completed\", \"run_type\": null, \"training_percent\": \"100\", \"start_time\": \"2021-02-01T05:35:49.49715Z\", \"end_time\": \"2021-02-01T05:36:22.560059Z\", \"created_time\": \"2021-02-01T05:35:49.38016Z\", \"created_time_dt\": \"2021-02-01T05:35:49.38016Z\", \"duration\": \"0:00:33\", \"iteration\": \"29\", \"goal\": \"accuracy_max\", \"run_name\": \"RobustScaler, RandomForest\", \"run_properties\": \"copy=True, quantile_range=[25, 75], with_centering=True,\\n             with_scaling=False\", \"primary_metric\": 0.92266729, \"best_metric\": 0.94722869}, {\"run_id\": \"AutoML_749f6e53-0471-4c90-be45-05db93f30f23_30\", \"run_number\": 93, \"metric\": null, \"status\": \"Completed\", \"run_type\": null, \"training_percent\": \"100\", \"start_time\": \"2021-02-01T05:36:25.234889Z\", \"end_time\": \"2021-02-01T05:36:53.110706Z\", \"created_time\": \"2021-02-01T05:36:24.931901Z\", \"created_time_dt\": \"2021-02-01T05:36:24.931901Z\", \"duration\": \"0:00:28\", \"iteration\": \"30\", \"goal\": \"accuracy_max\", \"run_name\": \"MinMaxScaler, LightGBM\", \"run_properties\": \"copy=True, feature_range=(0, 1\", \"primary_metric\": 0.93142369, \"best_metric\": 0.94722869}, {\"run_id\": \"AutoML_749f6e53-0471-4c90-be45-05db93f30f23_31\", \"run_number\": 94, \"metric\": null, \"status\": \"Completed\", \"run_type\": null, \"training_percent\": \"100\", \"start_time\": \"2021-02-01T05:36:54.326104Z\", \"end_time\": \"2021-02-01T05:37:29.974447Z\", \"created_time\": \"2021-02-01T05:36:54.22076Z\", \"created_time_dt\": \"2021-02-01T05:36:54.22076Z\", \"duration\": \"0:00:35\", \"iteration\": \"31\", \"goal\": \"accuracy_max\", \"run_name\": \"MaxAbsScaler, ExtremeRandomTrees\", \"run_properties\": \"copy=True\", \"primary_metric\": 0.92619159, \"best_metric\": 0.94722869}, {\"run_id\": \"AutoML_749f6e53-0471-4c90-be45-05db93f30f23_32\", \"run_number\": 95, \"metric\": null, \"status\": \"Completed\", \"run_type\": null, \"training_percent\": \"100\", \"start_time\": \"2021-02-01T05:37:31.21163Z\", \"end_time\": \"2021-02-01T05:38:03.031078Z\", \"created_time\": \"2021-02-01T05:37:31.099531Z\", \"created_time_dt\": \"2021-02-01T05:37:31.099531Z\", \"duration\": \"0:00:31\", \"iteration\": \"32\", \"goal\": \"accuracy_max\", \"run_name\": \"SparseNormalizer, XGBoostClassifier\", \"run_properties\": \"<azureml.automl.runtime.shared.model_wrappers.SparseNormalizer object at 0x7fba33f865f8\", \"primary_metric\": 0.92965378, \"best_metric\": 0.94722869}, {\"run_id\": \"AutoML_749f6e53-0471-4c90-be45-05db93f30f23_33\", \"run_number\": 96, \"metric\": null, \"status\": \"Completed\", \"run_type\": null, \"training_percent\": \"100\", \"start_time\": \"2021-02-01T05:38:04.097891Z\", \"end_time\": \"2021-02-01T05:38:35.987024Z\", \"created_time\": \"2021-02-01T05:38:04.002358Z\", \"created_time_dt\": \"2021-02-01T05:38:04.002358Z\", \"duration\": \"0:00:31\", \"iteration\": \"33\", \"goal\": \"accuracy_max\", \"run_name\": \"StandardScalerWrapper, XGBoostClassifier\", \"run_properties\": \"<azureml.automl.runtime.shared.model_wrappers.StandardScalerWrapper object at 0x7fba33ea2c50\", \"primary_metric\": 0.93317808, \"best_metric\": 0.94722869}, {\"run_id\": \"AutoML_749f6e53-0471-4c90-be45-05db93f30f23_34\", \"run_number\": 97, \"metric\": null, \"status\": \"Completed\", \"run_type\": null, \"training_percent\": \"100\", \"start_time\": \"2021-02-01T05:38:37.436708Z\", \"end_time\": \"2021-02-01T05:39:03.78434Z\", \"created_time\": \"2021-02-01T05:38:37.104425Z\", \"created_time_dt\": \"2021-02-01T05:38:37.104425Z\", \"duration\": \"0:00:26\", \"iteration\": \"34\", \"goal\": \"accuracy_max\", \"run_name\": \"SparseNormalizer, XGBoostClassifier\", \"run_properties\": \"<azureml.automl.runtime.shared.model_wrappers.SparseNormalizer object at 0x7fba370d8160\", \"primary_metric\": 0.93845676, \"best_metric\": 0.94722869}, {\"run_id\": \"AutoML_749f6e53-0471-4c90-be45-05db93f30f23_35\", \"run_number\": 98, \"metric\": null, \"status\": \"Completed\", \"run_type\": null, \"training_percent\": \"100\", \"start_time\": \"2021-02-01T05:39:05.954616Z\", \"end_time\": \"2021-02-01T05:39:39.310424Z\", \"created_time\": \"2021-02-01T05:39:05.850046Z\", \"created_time_dt\": \"2021-02-01T05:39:05.850046Z\", \"duration\": \"0:00:33\", \"iteration\": \"35\", \"goal\": \"accuracy_max\", \"run_name\": \"StandardScalerWrapper, LightGBM\", \"run_properties\": \"<azureml.automl.runtime.shared.model_wrappers.StandardScalerWrapper object at 0x7fba33f15c50\", \"primary_metric\": 0.93142369, \"best_metric\": 0.94722869}, {\"run_id\": \"AutoML_749f6e53-0471-4c90-be45-05db93f30f23_36\", \"run_number\": 99, \"metric\": null, \"status\": \"Completed\", \"run_type\": null, \"training_percent\": \"100\", \"start_time\": \"2021-02-01T05:39:40.716284Z\", \"end_time\": \"2021-02-01T05:40:14.257961Z\", \"created_time\": \"2021-02-01T05:39:40.560074Z\", \"created_time_dt\": \"2021-02-01T05:39:40.560074Z\", \"duration\": \"0:00:33\", \"iteration\": \"36\", \"goal\": \"accuracy_max\", \"run_name\": \"StandardScalerWrapper, ExtremeRandomTrees\", \"run_properties\": \"<azureml.automl.runtime.shared.model_wrappers.StandardScalerWrapper object at 0x7fba36b35e48\", \"primary_metric\": 0.92619159, \"best_metric\": 0.94722869}, {\"run_id\": \"AutoML_749f6e53-0471-4c90-be45-05db93f30f23_37\", \"run_number\": 100, \"metric\": null, \"status\": \"Completed\", \"run_type\": null, \"training_percent\": \"100\", \"start_time\": \"2021-02-01T05:40:15.495782Z\", \"end_time\": \"2021-02-01T05:40:47.644935Z\", \"created_time\": \"2021-02-01T05:40:15.376736Z\", \"created_time_dt\": \"2021-02-01T05:40:15.376736Z\", \"duration\": \"0:00:32\", \"iteration\": \"37\", \"goal\": \"accuracy_max\", \"run_name\": \"SparseNormalizer, XGBoostClassifier\", \"run_properties\": \"<azureml.automl.runtime.shared.model_wrappers.SparseNormalizer object at 0x7fba36b38be0\", \"primary_metric\": 0.92789939, \"best_metric\": 0.94722869}, {\"run_id\": \"AutoML_749f6e53-0471-4c90-be45-05db93f30f23_38\", \"run_number\": 101, \"metric\": null, \"status\": \"Completed\", \"run_type\": null, \"training_percent\": \"100\", \"start_time\": \"2021-02-01T05:40:48.732469Z\", \"end_time\": \"2021-02-01T05:41:15.6918Z\", \"created_time\": \"2021-02-01T05:40:48.621882Z\", \"created_time_dt\": \"2021-02-01T05:40:48.621882Z\", \"duration\": \"0:00:27\", \"iteration\": \"38\", \"goal\": \"accuracy_max\", \"run_name\": \"StandardScalerWrapper, XGBoostClassifier\", \"run_properties\": \"<azureml.automl.runtime.shared.model_wrappers.StandardScalerWrapper object at 0x7fbaa051d828\", \"primary_metric\": 0.92791492, \"best_metric\": 0.94722869}, {\"run_id\": \"AutoML_749f6e53-0471-4c90-be45-05db93f30f23_39\", \"run_number\": 102, \"metric\": null, \"status\": \"Completed\", \"run_type\": null, \"training_percent\": \"100\", \"start_time\": \"2021-02-01T05:41:16.902644Z\", \"end_time\": \"2021-02-01T05:41:49.740242Z\", \"created_time\": \"2021-02-01T05:41:16.80913Z\", \"created_time_dt\": \"2021-02-01T05:41:16.80913Z\", \"duration\": \"0:00:32\", \"iteration\": \"39\", \"goal\": \"accuracy_max\", \"run_name\": \"SparseNormalizer, XGBoostClassifier\", \"run_properties\": \"<azureml.automl.runtime.shared.model_wrappers.SparseNormalizer object at 0x7fba370f6ac8\", \"primary_metric\": 0.93317808, \"best_metric\": 0.94722869}, {\"run_id\": \"AutoML_749f6e53-0471-4c90-be45-05db93f30f23_40\", \"run_number\": 103, \"metric\": null, \"status\": \"Completed\", \"run_type\": null, \"training_percent\": \"100\", \"start_time\": \"2021-02-01T05:41:52.022112Z\", \"end_time\": \"2021-02-01T05:42:18.486595Z\", \"created_time\": \"2021-02-01T05:41:51.90633Z\", \"created_time_dt\": \"2021-02-01T05:41:51.90633Z\", \"duration\": \"0:00:26\", \"iteration\": \"40\", \"goal\": \"accuracy_max\", \"run_name\": \"MaxAbsScaler, LightGBM\", \"run_properties\": \"copy=True\", \"primary_metric\": 0.92963825, \"best_metric\": 0.94722869}, {\"run_id\": \"AutoML_749f6e53-0471-4c90-be45-05db93f30f23_41\", \"run_number\": 104, \"metric\": null, \"status\": \"Completed\", \"run_type\": null, \"training_percent\": \"100\", \"start_time\": \"2021-02-01T05:42:19.693202Z\", \"end_time\": \"2021-02-01T05:42:53.279915Z\", \"created_time\": \"2021-02-01T05:42:19.590892Z\", \"created_time_dt\": \"2021-02-01T05:42:19.590892Z\", \"duration\": \"0:00:33\", \"iteration\": \"41\", \"goal\": \"accuracy_max\", \"run_name\": \"StandardScalerWrapper, RandomForest\", \"run_properties\": \"<azureml.automl.runtime.shared.model_wrappers.StandardScalerWrapper object at 0x7fba36fcfe48\", \"primary_metric\": 0.91737308, \"best_metric\": 0.94722869}, {\"run_id\": \"AutoML_749f6e53-0471-4c90-be45-05db93f30f23_42\", \"run_number\": 105, \"metric\": null, \"status\": \"Completed\", \"run_type\": null, \"training_percent\": \"100\", \"start_time\": \"2021-02-01T05:42:54.565108Z\", \"end_time\": \"2021-02-01T05:43:33.174905Z\", \"created_time\": \"2021-02-01T05:42:54.446721Z\", \"created_time_dt\": \"2021-02-01T05:42:54.446721Z\", \"duration\": \"0:00:38\", \"iteration\": \"42\", \"goal\": \"accuracy_max\", \"run_name\": \"SparseNormalizer, XGBoostClassifier\", \"run_properties\": \"<azureml.automl.runtime.shared.model_wrappers.SparseNormalizer object at 0x7fba3714b710\", \"primary_metric\": 0.93491694, \"best_metric\": 0.94722869}, {\"run_id\": \"AutoML_749f6e53-0471-4c90-be45-05db93f30f23_43\", \"run_number\": 106, \"metric\": null, \"status\": \"Completed\", \"run_type\": null, \"training_percent\": \"100\", \"start_time\": \"2021-02-01T05:43:35.57183Z\", \"end_time\": \"2021-02-01T05:44:09.892624Z\", \"created_time\": \"2021-02-01T05:43:35.165819Z\", \"created_time_dt\": \"2021-02-01T05:43:35.165819Z\", \"duration\": \"0:00:34\", \"iteration\": \"43\", \"goal\": \"accuracy_max\", \"run_name\": \"SparseNormalizer, XGBoostClassifier\", \"run_properties\": \"<azureml.automl.runtime.shared.model_wrappers.SparseNormalizer object at 0x7fba3b7c0ef0\", \"primary_metric\": 0.93844124, \"best_metric\": 0.94722869}, {\"run_id\": \"AutoML_749f6e53-0471-4c90-be45-05db93f30f23_44\", \"run_number\": 107, \"metric\": null, \"status\": \"Completed\", \"run_type\": null, \"training_percent\": \"100\", \"start_time\": \"2021-02-01T05:44:12.120428Z\", \"end_time\": \"2021-02-01T05:44:40.159236Z\", \"created_time\": \"2021-02-01T05:44:11.716809Z\", \"created_time_dt\": \"2021-02-01T05:44:11.716809Z\", \"duration\": \"0:00:28\", \"iteration\": \"44\", \"goal\": \"accuracy_max\", \"run_name\": \"SparseNormalizer, XGBoostClassifier\", \"run_properties\": \"<azureml.automl.runtime.shared.model_wrappers.SparseNormalizer object at 0x7fba36bc08d0\", \"primary_metric\": 0.93668685, \"best_metric\": 0.94722869}, {\"run_id\": \"AutoML_749f6e53-0471-4c90-be45-05db93f30f23_45\", \"run_number\": 108, \"metric\": null, \"status\": \"Completed\", \"run_type\": null, \"training_percent\": \"100\", \"start_time\": \"2021-02-01T05:44:42.625266Z\", \"end_time\": \"2021-02-01T05:45:14.420201Z\", \"created_time\": \"2021-02-01T05:44:42.510265Z\", \"created_time_dt\": \"2021-02-01T05:44:42.510265Z\", \"duration\": \"0:00:31\", \"iteration\": \"45\", \"goal\": \"accuracy_max\", \"run_name\": \"MinMaxScaler, LightGBM\", \"run_properties\": \"copy=True, feature_range=(0, 1\", \"primary_metric\": 0.92966931, \"best_metric\": 0.94722869}, {\"run_id\": \"AutoML_749f6e53-0471-4c90-be45-05db93f30f23_46\", \"run_number\": 109, \"metric\": null, \"status\": \"Completed\", \"run_type\": null, \"training_percent\": \"100\", \"start_time\": \"2021-02-01T05:45:15.551984Z\", \"end_time\": \"2021-02-01T05:45:47.974422Z\", \"created_time\": \"2021-02-01T05:45:15.43702Z\", \"created_time_dt\": \"2021-02-01T05:45:15.43702Z\", \"duration\": \"0:00:32\", \"iteration\": \"46\", \"goal\": \"accuracy_max\", \"run_name\": \"SparseNormalizer, XGBoostClassifier\", \"run_properties\": \"<azureml.automl.runtime.shared.model_wrappers.SparseNormalizer object at 0x7fba3b675f60\", \"primary_metric\": 0.93845676, \"best_metric\": 0.94722869}, {\"run_id\": \"AutoML_749f6e53-0471-4c90-be45-05db93f30f23_47\", \"run_number\": 110, \"metric\": null, \"status\": \"Completed\", \"run_type\": null, \"training_percent\": \"100\", \"start_time\": \"2021-02-01T05:45:50.751511Z\", \"end_time\": \"2021-02-01T05:46:25.779207Z\", \"created_time\": \"2021-02-01T05:45:50.32616Z\", \"created_time_dt\": \"2021-02-01T05:45:50.32616Z\", \"duration\": \"0:00:35\", \"iteration\": \"47\", \"goal\": \"accuracy_max\", \"run_name\": \"StandardScalerWrapper, XGBoostClassifier\", \"run_properties\": \"<azureml.automl.runtime.shared.model_wrappers.StandardScalerWrapper object at 0x7fba3b66d438\", \"primary_metric\": 0.92793045, \"best_metric\": 0.94722869}, {\"run_id\": \"AutoML_749f6e53-0471-4c90-be45-05db93f30f23_48\", \"run_number\": 111, \"metric\": null, \"status\": \"Completed\", \"run_type\": null, \"training_percent\": \"100\", \"start_time\": \"2021-02-01T05:46:28.153747Z\", \"end_time\": \"2021-02-01T05:46:56.868345Z\", \"created_time\": \"2021-02-01T05:46:27.731162Z\", \"created_time_dt\": \"2021-02-01T05:46:27.731162Z\", \"duration\": \"0:00:29\", \"iteration\": \"48\", \"goal\": \"accuracy_max\", \"run_name\": \"SparseNormalizer, XGBoostClassifier\", \"run_properties\": \"<azureml.automl.runtime.shared.model_wrappers.SparseNormalizer object at 0x7fba3edbfc50\", \"primary_metric\": 0.93842571, \"best_metric\": 0.94722869}, {\"run_id\": \"AutoML_749f6e53-0471-4c90-be45-05db93f30f23_49\", \"run_number\": 112, \"metric\": null, \"status\": \"Completed\", \"run_type\": null, \"training_percent\": \"100\", \"start_time\": \"2021-02-01T05:46:58.150199Z\", \"end_time\": \"2021-02-01T05:47:29.935008Z\", \"created_time\": \"2021-02-01T05:46:58.03435Z\", \"created_time_dt\": \"2021-02-01T05:46:58.03435Z\", \"duration\": \"0:00:31\", \"iteration\": \"49\", \"goal\": \"accuracy_max\", \"run_name\": \"SparseNormalizer, XGBoostClassifier\", \"run_properties\": \"<azureml.automl.runtime.shared.model_wrappers.SparseNormalizer object at 0x7fba33d56080\", \"primary_metric\": 0.92614501, \"best_metric\": 0.94722869}, {\"run_id\": \"AutoML_749f6e53-0471-4c90-be45-05db93f30f23_50\", \"run_number\": 113, \"metric\": null, \"status\": \"Completed\", \"run_type\": null, \"training_percent\": \"100\", \"start_time\": \"2021-02-01T05:47:32.107925Z\", \"end_time\": \"2021-02-01T05:48:09.225343Z\", \"created_time\": \"2021-02-01T05:47:32.004676Z\", \"created_time_dt\": \"2021-02-01T05:47:32.004676Z\", \"duration\": \"0:00:37\", \"iteration\": \"50\", \"goal\": \"accuracy_max\", \"run_name\": \"StandardScalerWrapper, LightGBM\", \"run_properties\": \"<azureml.automl.runtime.shared.model_wrappers.StandardScalerWrapper object at 0x7fba33e26a58\", \"primary_metric\": 0.93314703, \"best_metric\": 0.94722869}, {\"run_id\": \"AutoML_749f6e53-0471-4c90-be45-05db93f30f23_51\", \"run_number\": 114, \"metric\": null, \"status\": \"Completed\", \"run_type\": null, \"training_percent\": \"100\", \"start_time\": \"2021-02-01T05:48:10.534843Z\", \"end_time\": \"2021-02-01T05:48:37.401081Z\", \"created_time\": \"2021-02-01T05:48:10.427912Z\", \"created_time_dt\": \"2021-02-01T05:48:10.427912Z\", \"duration\": \"0:00:26\", \"iteration\": \"51\", \"goal\": \"accuracy_max\", \"run_name\": \"SparseNormalizer, XGBoostClassifier\", \"run_properties\": \"<azureml.automl.runtime.shared.model_wrappers.SparseNormalizer object at 0x7fba33e427b8\", \"primary_metric\": 0.93140817, \"best_metric\": 0.94722869}, {\"run_id\": \"AutoML_749f6e53-0471-4c90-be45-05db93f30f23_52\", \"run_number\": 115, \"metric\": null, \"status\": \"Completed\", \"run_type\": null, \"training_percent\": \"100\", \"start_time\": \"2021-02-01T05:48:38.644769Z\", \"end_time\": \"2021-02-01T05:49:10.024485Z\", \"created_time\": \"2021-02-01T05:48:38.534953Z\", \"created_time_dt\": \"2021-02-01T05:48:38.534953Z\", \"duration\": \"0:00:31\", \"iteration\": \"52\", \"goal\": \"accuracy_max\", \"run_name\": \"MaxAbsScaler, LogisticRegression\", \"run_properties\": \"copy=True\", \"primary_metric\": 0.94021115, \"best_metric\": 0.94722869}, {\"run_id\": \"AutoML_749f6e53-0471-4c90-be45-05db93f30f23_53\", \"run_number\": 116, \"metric\": null, \"status\": \"Completed\", \"run_type\": null, \"training_percent\": \"100\", \"start_time\": \"2021-02-01T05:49:11.281068Z\", \"end_time\": \"2021-02-01T05:49:48.440005Z\", \"created_time\": \"2021-02-01T05:49:11.181483Z\", \"created_time_dt\": \"2021-02-01T05:49:11.181483Z\", \"duration\": \"0:00:37\", \"iteration\": \"53\", \"goal\": \"accuracy_max\", \"run_name\": \"MaxAbsScaler, ExtremeRandomTrees\", \"run_properties\": \"copy=True\", \"primary_metric\": 0.92089738, \"best_metric\": 0.94722869}, {\"run_id\": \"AutoML_749f6e53-0471-4c90-be45-05db93f30f23_54\", \"run_number\": 117, \"metric\": null, \"status\": \"Completed\", \"run_type\": null, \"training_percent\": \"100\", \"start_time\": \"2021-02-01T05:49:49.562319Z\", \"end_time\": \"2021-02-01T05:50:16.24274Z\", \"created_time\": \"2021-02-01T05:49:49.447529Z\", \"created_time_dt\": \"2021-02-01T05:49:49.447529Z\", \"duration\": \"0:00:26\", \"iteration\": \"54\", \"goal\": \"accuracy_max\", \"run_name\": \"SparseNormalizer, XGBoostClassifier\", \"run_properties\": \"<azureml.automl.runtime.shared.model_wrappers.SparseNormalizer object at 0x7fba36c485f8\", \"primary_metric\": 0.94371992, \"best_metric\": 0.94722869}, {\"run_id\": \"AutoML_749f6e53-0471-4c90-be45-05db93f30f23_55\", \"run_number\": 118, \"metric\": null, \"status\": \"Completed\", \"run_type\": null, \"training_percent\": \"100\", \"start_time\": \"2021-02-01T05:50:18.169449Z\", \"end_time\": \"2021-02-01T05:50:52.120332Z\", \"created_time\": \"2021-02-01T05:50:18.070801Z\", \"created_time_dt\": \"2021-02-01T05:50:18.070801Z\", \"duration\": \"0:00:34\", \"iteration\": \"55\", \"goal\": \"accuracy_max\", \"run_name\": \"SparseNormalizer, LightGBM\", \"run_properties\": \"<azureml.automl.runtime.shared.model_wrappers.SparseNormalizer object at 0x7fba2ad84ef0\", \"primary_metric\": 0.92088185, \"best_metric\": 0.94722869}, {\"run_id\": \"AutoML_749f6e53-0471-4c90-be45-05db93f30f23_56\", \"run_number\": 119, \"metric\": null, \"status\": \"Completed\", \"run_type\": null, \"training_percent\": \"100\", \"start_time\": \"2021-02-01T05:50:52.45047Z\", \"end_time\": \"2021-02-01T05:51:36.875208Z\", \"created_time\": \"2021-02-01T05:50:52.340588Z\", \"created_time_dt\": \"2021-02-01T05:50:52.340588Z\", \"duration\": \"0:00:44\", \"iteration\": \"56\", \"goal\": \"accuracy_max\", \"run_name\": \"VotingEnsemble\", \"run_properties\": \"classification_labels=None,\\n                              estimators=[('0',\\n                                           Pipeline(memory=None,\\n                                                    steps=[('maxabsscaler',\\n                                                            MaxAbsScaler(copy=True\", \"primary_metric\": 0.95600062, \"best_metric\": 0.95600062}, {\"run_id\": \"AutoML_749f6e53-0471-4c90-be45-05db93f30f23_57\", \"run_number\": 120, \"metric\": null, \"status\": \"Completed\", \"run_type\": null, \"training_percent\": \"100\", \"start_time\": \"2021-02-01T05:51:37.167901Z\", \"end_time\": \"2021-02-01T05:52:23.54137Z\", \"created_time\": \"2021-02-01T05:51:37.068074Z\", \"created_time_dt\": \"2021-02-01T05:51:37.068074Z\", \"duration\": \"0:00:46\", \"iteration\": \"57\", \"goal\": \"accuracy_max\", \"run_name\": \"StackEnsemble\", \"run_properties\": \"base_learners=[('0',\\n                                        Pipeline(memory=None,\\n                                                 steps=[('maxabsscaler',\\n                                                         MaxAbsScaler(copy=True\", \"primary_metric\": 0.95073746, \"best_metric\": 0.95600062}], \"children_metrics\": {\"categories\": [0], \"series\": {\"recall_score_micro\": [{\"categories\": [\"0\", \"1\", \"2\", \"3\", \"4\", \"5\", \"6\", \"7\", \"8\", \"9\", \"10\", \"11\", \"12\", \"13\", \"14\", \"15\", \"16\", \"17\", \"18\", \"19\", \"20\", \"21\", \"22\", \"23\", \"24\", \"25\", \"26\", \"27\", \"28\", \"29\", \"30\", \"31\", \"32\", \"33\", \"34\", \"35\", \"36\", \"37\", \"38\", \"39\", \"40\", \"41\", \"42\", \"43\", \"44\", \"45\", \"46\", \"47\", \"48\", \"49\", \"50\", \"51\", \"52\", \"53\", \"54\", \"55\", \"56\", \"57\"], \"mode\": \"markers\", \"name\": \"recall_score_micro\", \"stepped\": false, \"type\": \"scatter\", \"data\": [0.947228691197019, 0.9437043937276821, 0.9349635149821456, 0.9279459711224964, 0.9261605340785592, 0.9402266728768826, 0.9401956217978575, 0.9261450085390468, 0.936686849868033, 0.9208818506443098, 0.9314236919732961, 0.9156342182890855, 0.9349169383636081, 0.9279149200434714, 0.9226672876882471, 0.9314236919732961, 0.9454277286135694, 0.8962428194379756, 0.9332091290172333, 0.9331625523986959, 0.9349324639031206, 0.9138487812451481, 0.8945194845520883, 0.9402421984163951, 0.9296693060083838, 0.6273560006210216, 0.936686849868033, 0.9349169383636081, 0.9314236919732961, 0.9226672876882471, 0.9314236919732961, 0.9261915851575842, 0.9296537804688713, 0.9331780779382084, 0.9384567613724576, 0.9314236919732961, 0.9261915851575843, 0.927899394503959, 0.9279149200434714, 0.9331780779382084, 0.9296382549293588, 0.9173730787144854, 0.9349169383636081, 0.9384412358329453, 0.936686849868033, 0.9296693060083838, 0.9384567613724576, 0.927930445582984, 0.9384257102934328, 0.9261450085390466, 0.9331470268591833, 0.9314081664337837, 0.9402111473373699, 0.9208973761838225, 0.9437199192671946, 0.9208818506443098, 0.9560006210215806, 0.9507374631268437]}, {\"categories\": [\"0\", \"1\", \"2\", \"3\", \"4\", \"5\", \"6\", \"7\", \"8\", \"9\", \"10\", \"11\", \"12\", \"13\", \"14\", \"15\", \"16\", \"17\", \"18\", \"19\", \"20\", \"21\", \"22\", \"23\", \"24\", \"25\", \"26\", \"27\", \"28\", \"29\", \"30\", \"31\", \"32\", \"33\", \"34\", \"35\", \"36\", \"37\", \"38\", \"39\", \"40\", \"41\", \"42\", \"43\", \"44\", \"45\", \"46\", \"47\", \"48\", \"49\", \"50\", \"51\", \"52\", \"53\", \"54\", \"55\", \"56\", \"57\"], \"mode\": \"lines\", \"name\": \"recall_score_micro_max\", \"stepped\": true, \"type\": \"scatter\", \"data\": [0.947228691197019, 0.947228691197019, 0.947228691197019, 0.947228691197019, 0.947228691197019, 0.947228691197019, 0.947228691197019, 0.947228691197019, 0.947228691197019, 0.947228691197019, 0.947228691197019, 0.947228691197019, 0.947228691197019, 0.947228691197019, 0.947228691197019, 0.947228691197019, 0.947228691197019, 0.947228691197019, 0.947228691197019, 0.947228691197019, 0.947228691197019, 0.947228691197019, 0.947228691197019, 0.947228691197019, 0.947228691197019, 0.947228691197019, 0.947228691197019, 0.947228691197019, 0.947228691197019, 0.947228691197019, 0.947228691197019, 0.947228691197019, 0.947228691197019, 0.947228691197019, 0.947228691197019, 0.947228691197019, 0.947228691197019, 0.947228691197019, 0.947228691197019, 0.947228691197019, 0.947228691197019, 0.947228691197019, 0.947228691197019, 0.947228691197019, 0.947228691197019, 0.947228691197019, 0.947228691197019, 0.947228691197019, 0.947228691197019, 0.947228691197019, 0.947228691197019, 0.947228691197019, 0.947228691197019, 0.947228691197019, 0.947228691197019, 0.947228691197019, 0.9560006210215806, 0.9560006210215806]}], \"precision_score_weighted\": [{\"categories\": [\"0\", \"1\", \"2\", \"3\", \"4\", \"5\", \"6\", \"7\", \"8\", \"9\", \"10\", \"11\", \"12\", \"13\", \"14\", \"15\", \"16\", \"17\", \"18\", \"19\", \"20\", \"21\", \"22\", \"23\", \"24\", \"25\", \"26\", \"27\", \"28\", \"29\", \"30\", \"31\", \"32\", \"33\", \"34\", \"35\", \"36\", \"37\", \"38\", \"39\", \"40\", \"41\", \"42\", \"43\", \"44\", \"45\", \"46\", \"47\", \"48\", \"49\", \"50\", \"51\", \"52\", \"53\", \"54\", \"55\", \"56\", \"57\"], \"mode\": \"markers\", \"name\": \"precision_score_weighted\", \"stepped\": false, \"type\": \"scatter\", \"data\": [0.9471855038419299, 0.94409011550692, 0.9354799503624855, 0.9282565394679724, 0.9270044112245601, 0.9402680017253713, 0.9404285952909548, 0.9262246645485602, 0.937052827874626, 0.921617598467782, 0.9316397877939835, 0.9165298186701948, 0.9354930601449325, 0.9284357194956232, 0.9228827786896747, 0.9313770910170842, 0.9455953555031641, 0.8984784751548311, 0.9332967348778085, 0.9334886691049613, 0.9350049326654373, 0.9153195614850616, 0.9082780071332259, 0.9417466182300835, 0.9301935070917804, 0.3943182961215727, 0.9375287993827512, 0.935407563902025, 0.9315929101656648, 0.9238041837307105, 0.9319370811182642, 0.9294986776666999, 0.9302794722505079, 0.9334867246002926, 0.9389603960354493, 0.9313021089444581, 0.9268097231054645, 0.9291810905219762, 0.9279700995481039, 0.9337182199641049, 0.9295999153733749, 0.9219152336434646, 0.9351395125867601, 0.938860528672812, 0.9372722263032301, 0.9301808868287276, 0.9387889911401371, 0.928002424454025, 0.938673082922089, 0.9269151815960409, 0.933091221461634, 0.9319742458628492, 0.9410019061409545, 0.921998680434438, 0.9440838648803608, 0.9236146902540396, 0.9561563185260409, 0.95204078651358]}, {\"categories\": [\"0\", \"1\", \"2\", \"3\", \"4\", \"5\", \"6\", \"7\", \"8\", \"9\", \"10\", \"11\", \"12\", \"13\", \"14\", \"15\", \"16\", \"17\", \"18\", \"19\", \"20\", \"21\", \"22\", \"23\", \"24\", \"25\", \"26\", \"27\", \"28\", \"29\", \"30\", \"31\", \"32\", \"33\", \"34\", \"35\", \"36\", \"37\", \"38\", \"39\", \"40\", \"41\", \"42\", \"43\", \"44\", \"45\", \"46\", \"47\", \"48\", \"49\", \"50\", \"51\", \"52\", \"53\", \"54\", \"55\", \"56\", \"57\"], \"mode\": \"lines\", \"name\": \"precision_score_weighted_max\", \"stepped\": true, \"type\": \"scatter\", \"data\": [0.9471855038419299, 0.9471855038419299, 0.9471855038419299, 0.9471855038419299, 0.9471855038419299, 0.9471855038419299, 0.9471855038419299, 0.9471855038419299, 0.9471855038419299, 0.9471855038419299, 0.9471855038419299, 0.9471855038419299, 0.9471855038419299, 0.9471855038419299, 0.9471855038419299, 0.9471855038419299, 0.9471855038419299, 0.9471855038419299, 0.9471855038419299, 0.9471855038419299, 0.9471855038419299, 0.9471855038419299, 0.9471855038419299, 0.9471855038419299, 0.9471855038419299, 0.9471855038419299, 0.9471855038419299, 0.9471855038419299, 0.9471855038419299, 0.9471855038419299, 0.9471855038419299, 0.9471855038419299, 0.9471855038419299, 0.9471855038419299, 0.9471855038419299, 0.9471855038419299, 0.9471855038419299, 0.9471855038419299, 0.9471855038419299, 0.9471855038419299, 0.9471855038419299, 0.9471855038419299, 0.9471855038419299, 0.9471855038419299, 0.9471855038419299, 0.9471855038419299, 0.9471855038419299, 0.9471855038419299, 0.9471855038419299, 0.9471855038419299, 0.9471855038419299, 0.9471855038419299, 0.9471855038419299, 0.9471855038419299, 0.9471855038419299, 0.9471855038419299, 0.9561563185260409, 0.9561563185260409]}], \"f1_score_weighted\": [{\"categories\": [\"0\", \"1\", \"2\", \"3\", \"4\", \"5\", \"6\", \"7\", \"8\", \"9\", \"10\", \"11\", \"12\", \"13\", \"14\", \"15\", \"16\", \"17\", \"18\", \"19\", \"20\", \"21\", \"22\", \"23\", \"24\", \"25\", \"26\", \"27\", \"28\", \"29\", \"30\", \"31\", \"32\", \"33\", \"34\", \"35\", \"36\", \"37\", \"38\", \"39\", \"40\", \"41\", \"42\", \"43\", \"44\", \"45\", \"46\", \"47\", \"48\", \"49\", \"50\", \"51\", \"52\", \"53\", \"54\", \"55\", \"56\", \"57\"], \"mode\": \"markers\", \"name\": \"f1_score_weighted\", \"stepped\": false, \"type\": \"scatter\", \"data\": [0.9470166503756123, 0.9432801203077101, 0.934901846817217, 0.9274989560301468, 0.9262491173078174, 0.9399922675895018, 0.9399303387070896, 0.9258452880026542, 0.936440832256733, 0.9207156806896514, 0.9309822151279852, 0.9150096396372385, 0.9347258292474582, 0.9280080430268685, 0.922133662279786, 0.9312303571965547, 0.9453291899753369, 0.8951828208951426, 0.9329774089289128, 0.9328317100039051, 0.9348593208050009, 0.9137352185409295, 0.8899424767454007, 0.94000419153626, 0.929658218475125, 0.48404586304148695, 0.9364792606880806, 0.9348667756511311, 0.9308128283075625, 0.9227024753453769, 0.9314503310145849, 0.9266638023062189, 0.9294497293723575, 0.9330418957971325, 0.9383545424468235, 0.9312265571741714, 0.9259795241771973, 0.9276913940577268, 0.9278039915587435, 0.9327990458812006, 0.9295876841674591, 0.9178556111942443, 0.9347333589633349, 0.938299725503151, 0.9365229283912433, 0.9293577250481869, 0.9383918619951424, 0.9275503954795115, 0.9383170148424927, 0.9259233936983028, 0.932960713214649, 0.9311894430532144, 0.9400180748095435, 0.9209571765706557, 0.9435244787372341, 0.9200797780409907, 0.9558962126409931, 0.9501238839172872]}, {\"categories\": [\"0\", \"1\", \"2\", \"3\", \"4\", \"5\", \"6\", \"7\", \"8\", \"9\", \"10\", \"11\", \"12\", \"13\", \"14\", \"15\", \"16\", \"17\", \"18\", \"19\", \"20\", \"21\", \"22\", \"23\", \"24\", \"25\", \"26\", \"27\", \"28\", \"29\", \"30\", \"31\", \"32\", \"33\", \"34\", \"35\", \"36\", \"37\", \"38\", \"39\", \"40\", \"41\", \"42\", \"43\", \"44\", \"45\", \"46\", \"47\", \"48\", \"49\", \"50\", \"51\", \"52\", \"53\", \"54\", \"55\", \"56\", \"57\"], \"mode\": \"lines\", \"name\": \"f1_score_weighted_max\", \"stepped\": true, \"type\": \"scatter\", \"data\": [0.9470166503756123, 0.9470166503756123, 0.9470166503756123, 0.9470166503756123, 0.9470166503756123, 0.9470166503756123, 0.9470166503756123, 0.9470166503756123, 0.9470166503756123, 0.9470166503756123, 0.9470166503756123, 0.9470166503756123, 0.9470166503756123, 0.9470166503756123, 0.9470166503756123, 0.9470166503756123, 0.9470166503756123, 0.9470166503756123, 0.9470166503756123, 0.9470166503756123, 0.9470166503756123, 0.9470166503756123, 0.9470166503756123, 0.9470166503756123, 0.9470166503756123, 0.9470166503756123, 0.9470166503756123, 0.9470166503756123, 0.9470166503756123, 0.9470166503756123, 0.9470166503756123, 0.9470166503756123, 0.9470166503756123, 0.9470166503756123, 0.9470166503756123, 0.9470166503756123, 0.9470166503756123, 0.9470166503756123, 0.9470166503756123, 0.9470166503756123, 0.9470166503756123, 0.9470166503756123, 0.9470166503756123, 0.9470166503756123, 0.9470166503756123, 0.9470166503756123, 0.9470166503756123, 0.9470166503756123, 0.9470166503756123, 0.9470166503756123, 0.9470166503756123, 0.9470166503756123, 0.9470166503756123, 0.9470166503756123, 0.9470166503756123, 0.9470166503756123, 0.9558962126409931, 0.9558962126409931]}], \"balanced_accuracy\": [{\"categories\": [\"0\", \"1\", \"2\", \"3\", \"4\", \"5\", \"6\", \"7\", \"8\", \"9\", \"10\", \"11\", \"12\", \"13\", \"14\", \"15\", \"16\", \"17\", \"18\", \"19\", \"20\", \"21\", \"22\", \"23\", \"24\", \"25\", \"26\", \"27\", \"28\", \"29\", \"30\", \"31\", \"32\", \"33\", \"34\", \"35\", \"36\", \"37\", \"38\", \"39\", \"40\", \"41\", \"42\", \"43\", \"44\", \"45\", \"46\", \"47\", \"48\", \"49\", \"50\", \"51\", \"52\", \"53\", \"54\", \"55\", \"56\", \"57\"], \"mode\": \"markers\", \"name\": \"balanced_accuracy\", \"stepped\": false, \"type\": \"scatter\", \"data\": [0.9403747288892879, 0.9342871488275228, 0.9301976049968224, 0.918231437892793, 0.9234108243131092, 0.9318560464587128, 0.933353001249429, 0.9188426558656821, 0.9297689069631361, 0.9134829878783002, 0.9219287674091156, 0.9038052379263906, 0.9285125145164116, 0.9242956318786841, 0.9119804630796369, 0.9248864319228589, 0.9404226842686505, 0.8833494950122235, 0.9259712033581774, 0.9252855478846109, 0.9298959867885783, 0.9075138721662359, 0.8633462054897505, 0.9330808726522977, 0.9251798032885598, 0.5, 0.929863865867763, 0.9305606861131241, 0.9199048737917188, 0.9182797479368302, 0.927491653197731, 0.9269550396227249, 0.9235386109644267, 0.9270753924385721, 0.9328661069203366, 0.9242660318025695, 0.9187072134016822, 0.9213721569833947, 0.9219122829391454, 0.9246041721545655, 0.9238090237037705, 0.9202850739446499, 0.9284849416326744, 0.9331555712193655, 0.9312819056066983, 0.9215367390075228, 0.9341315705746235, 0.9189707262136249, 0.9332229572402554, 0.9201488795611656, 0.9263866482326145, 0.9250091991997207, 0.9337402993042044, 0.9170134813928008, 0.9374462637844573, 0.9078313412483927, 0.9514000862612452, 0.9386943245030013]}, {\"categories\": [\"0\", \"1\", \"2\", \"3\", \"4\", \"5\", \"6\", \"7\", \"8\", \"9\", \"10\", \"11\", \"12\", \"13\", \"14\", \"15\", \"16\", \"17\", \"18\", \"19\", \"20\", \"21\", \"22\", \"23\", \"24\", \"25\", \"26\", \"27\", \"28\", \"29\", \"30\", \"31\", \"32\", \"33\", \"34\", \"35\", \"36\", \"37\", \"38\", \"39\", \"40\", \"41\", \"42\", \"43\", \"44\", \"45\", \"46\", \"47\", \"48\", \"49\", \"50\", \"51\", \"52\", \"53\", \"54\", \"55\", \"56\", \"57\"], \"mode\": \"lines\", \"name\": \"balanced_accuracy_max\", \"stepped\": true, \"type\": \"scatter\", \"data\": [0.9403747288892879, 0.9403747288892879, 0.9403747288892879, 0.9403747288892879, 0.9403747288892879, 0.9403747288892879, 0.9403747288892879, 0.9403747288892879, 0.9403747288892879, 0.9403747288892879, 0.9403747288892879, 0.9403747288892879, 0.9403747288892879, 0.9403747288892879, 0.9403747288892879, 0.9403747288892879, 0.9404226842686505, 0.9404226842686505, 0.9404226842686505, 0.9404226842686505, 0.9404226842686505, 0.9404226842686505, 0.9404226842686505, 0.9404226842686505, 0.9404226842686505, 0.9404226842686505, 0.9404226842686505, 0.9404226842686505, 0.9404226842686505, 0.9404226842686505, 0.9404226842686505, 0.9404226842686505, 0.9404226842686505, 0.9404226842686505, 0.9404226842686505, 0.9404226842686505, 0.9404226842686505, 0.9404226842686505, 0.9404226842686505, 0.9404226842686505, 0.9404226842686505, 0.9404226842686505, 0.9404226842686505, 0.9404226842686505, 0.9404226842686505, 0.9404226842686505, 0.9404226842686505, 0.9404226842686505, 0.9404226842686505, 0.9404226842686505, 0.9404226842686505, 0.9404226842686505, 0.9404226842686505, 0.9404226842686505, 0.9404226842686505, 0.9404226842686505, 0.9514000862612452, 0.9514000862612452]}], \"AUC_macro\": [{\"categories\": [\"0\", \"1\", \"2\", \"3\", \"4\", \"5\", \"6\", \"7\", \"8\", \"9\", \"10\", \"11\", \"12\", \"13\", \"14\", \"15\", \"16\", \"17\", \"18\", \"19\", \"20\", \"21\", \"22\", \"23\", \"24\", \"25\", \"26\", \"27\", \"28\", \"29\", \"30\", \"31\", \"32\", \"33\", \"34\", \"35\", \"36\", \"37\", \"38\", \"39\", \"40\", \"41\", \"42\", \"43\", \"44\", \"45\", \"46\", \"47\", \"48\", \"49\", \"50\", \"51\", \"52\", \"53\", \"54\", \"55\", \"56\", \"57\"], \"mode\": \"markers\", \"name\": \"AUC_macro\", \"stepped\": false, \"type\": \"scatter\", \"data\": [0.9882890962634558, 0.9878949691302588, 0.9779569766321027, 0.9802263378567858, 0.9819054895852994, 0.979333070070029, 0.9857340908141451, 0.9810550212901779, 0.9793396465259541, 0.9778292514242741, 0.9837730188201081, 0.976875600279549, 0.986496272946988, 0.970253544193292, 0.9785964962379634, 0.9864293582553121, 0.9877812081128688, 0.947901318398506, 0.9806183896690136, 0.9835608427968501, 0.985039152046651, 0.9760559182357644, 0.9806611667186622, 0.9851378876296358, 0.9836475025854851, 0.9819497917534944, 0.9822386563993089, 0.9798118802070052, 0.9829519103153807, 0.9780935116111207, 0.9850830057993626, 0.9808961427738984, 0.9815371457355105, 0.9795519753122581, 0.9831141791996896, 0.9854423818245529, 0.9819322083273978, 0.978429099283751, 0.9792474387221197, 0.982868768542081, 0.9830695404967477, 0.9765771279920971, 0.9855240563522442, 0.9796762957830204, 0.9848053009406478, 0.9841506549328392, 0.9838399063375693, 0.9768892191286929, 0.9871180220080431, 0.9681618008828291, 0.9841162152908656, 0.9819562302359645, 0.9849825698217656, 0.9830874992058327, 0.985148239235167, 0.9776462355964778, 0.9892923170086185, 0.9890276451586123]}, {\"categories\": [\"0\", \"1\", \"2\", \"3\", \"4\", \"5\", \"6\", \"7\", \"8\", \"9\", \"10\", \"11\", \"12\", \"13\", \"14\", \"15\", \"16\", \"17\", \"18\", \"19\", \"20\", \"21\", \"22\", \"23\", \"24\", \"25\", \"26\", \"27\", \"28\", \"29\", \"30\", \"31\", \"32\", \"33\", \"34\", \"35\", \"36\", \"37\", \"38\", \"39\", \"40\", \"41\", \"42\", \"43\", \"44\", \"45\", \"46\", \"47\", \"48\", \"49\", \"50\", \"51\", \"52\", \"53\", \"54\", \"55\", \"56\", \"57\"], \"mode\": \"lines\", \"name\": \"AUC_macro_max\", \"stepped\": true, \"type\": \"scatter\", \"data\": [0.9882890962634558, 0.9882890962634558, 0.9882890962634558, 0.9882890962634558, 0.9882890962634558, 0.9882890962634558, 0.9882890962634558, 0.9882890962634558, 0.9882890962634558, 0.9882890962634558, 0.9882890962634558, 0.9882890962634558, 0.9882890962634558, 0.9882890962634558, 0.9882890962634558, 0.9882890962634558, 0.9882890962634558, 0.9882890962634558, 0.9882890962634558, 0.9882890962634558, 0.9882890962634558, 0.9882890962634558, 0.9882890962634558, 0.9882890962634558, 0.9882890962634558, 0.9882890962634558, 0.9882890962634558, 0.9882890962634558, 0.9882890962634558, 0.9882890962634558, 0.9882890962634558, 0.9882890962634558, 0.9882890962634558, 0.9882890962634558, 0.9882890962634558, 0.9882890962634558, 0.9882890962634558, 0.9882890962634558, 0.9882890962634558, 0.9882890962634558, 0.9882890962634558, 0.9882890962634558, 0.9882890962634558, 0.9882890962634558, 0.9882890962634558, 0.9882890962634558, 0.9882890962634558, 0.9882890962634558, 0.9882890962634558, 0.9882890962634558, 0.9882890962634558, 0.9882890962634558, 0.9882890962634558, 0.9882890962634558, 0.9882890962634558, 0.9882890962634558, 0.9892923170086185, 0.9892923170086185]}], \"average_precision_score_weighted\": [{\"categories\": [\"0\", \"1\", \"2\", \"3\", \"4\", \"5\", \"6\", \"7\", \"8\", \"9\", \"10\", \"11\", \"12\", \"13\", \"14\", \"15\", \"16\", \"17\", \"18\", \"19\", \"20\", \"21\", \"22\", \"23\", \"24\", \"25\", \"26\", \"27\", \"28\", \"29\", \"30\", \"31\", \"32\", \"33\", \"34\", \"35\", \"36\", \"37\", \"38\", \"39\", \"40\", \"41\", \"42\", \"43\", \"44\", \"45\", \"46\", \"47\", \"48\", \"49\", \"50\", \"51\", \"52\", \"53\", \"54\", \"55\", \"56\", \"57\"], \"mode\": \"markers\", \"name\": \"average_precision_score_weighted\", \"stepped\": false, \"type\": \"scatter\", \"data\": [0.9890928602697009, 0.9887396292696435, 0.9792617429486471, 0.9817414218715662, 0.9822558253483479, 0.98141945967953, 0.9865873339066615, 0.9823311608363727, 0.9795237569763235, 0.979338947792652, 0.9847245737173631, 0.9788175745522698, 0.9873699126509772, 0.9705986327952509, 0.9804238005027109, 0.9873834271056878, 0.9887376800601306, 0.9450470810055887, 0.9819435414093387, 0.9847953034219369, 0.9861575832393117, 0.9779862455092074, 0.9821553020049769, 0.9864377849123281, 0.9850007494125649, 0.9817482993967028, 0.983466016057206, 0.9792861930813512, 0.984446712268835, 0.9779869361388618, 0.9862934297559189, 0.9824487360545404, 0.9829638011127326, 0.9792414084446122, 0.9841451449440543, 0.9863852881905248, 0.983424487316301, 0.9778042413391533, 0.9788824313819602, 0.9840195450140259, 0.9843827854711049, 0.9781740028630803, 0.9865829380708421, 0.980019450376032, 0.985925509914809, 0.9851338442092002, 0.9851045564995771, 0.9758035419861286, 0.9881048402545464, 0.9654786845962431, 0.985352512097846, 0.9829796405982381, 0.986295922375757, 0.984522459549523, 0.986300137183387, 0.9790217271462843, 0.9901614502530471, 0.9899279971821315]}, {\"categories\": [\"0\", \"1\", \"2\", \"3\", \"4\", \"5\", \"6\", \"7\", \"8\", \"9\", \"10\", \"11\", \"12\", \"13\", \"14\", \"15\", \"16\", \"17\", \"18\", \"19\", \"20\", \"21\", \"22\", \"23\", \"24\", \"25\", \"26\", \"27\", \"28\", \"29\", \"30\", \"31\", \"32\", \"33\", \"34\", \"35\", \"36\", \"37\", \"38\", \"39\", \"40\", \"41\", \"42\", \"43\", \"44\", \"45\", \"46\", \"47\", \"48\", \"49\", \"50\", \"51\", \"52\", \"53\", \"54\", \"55\", \"56\", \"57\"], \"mode\": \"lines\", \"name\": \"average_precision_score_weighted_max\", \"stepped\": true, \"type\": \"scatter\", \"data\": [0.9890928602697009, 0.9890928602697009, 0.9890928602697009, 0.9890928602697009, 0.9890928602697009, 0.9890928602697009, 0.9890928602697009, 0.9890928602697009, 0.9890928602697009, 0.9890928602697009, 0.9890928602697009, 0.9890928602697009, 0.9890928602697009, 0.9890928602697009, 0.9890928602697009, 0.9890928602697009, 0.9890928602697009, 0.9890928602697009, 0.9890928602697009, 0.9890928602697009, 0.9890928602697009, 0.9890928602697009, 0.9890928602697009, 0.9890928602697009, 0.9890928602697009, 0.9890928602697009, 0.9890928602697009, 0.9890928602697009, 0.9890928602697009, 0.9890928602697009, 0.9890928602697009, 0.9890928602697009, 0.9890928602697009, 0.9890928602697009, 0.9890928602697009, 0.9890928602697009, 0.9890928602697009, 0.9890928602697009, 0.9890928602697009, 0.9890928602697009, 0.9890928602697009, 0.9890928602697009, 0.9890928602697009, 0.9890928602697009, 0.9890928602697009, 0.9890928602697009, 0.9890928602697009, 0.9890928602697009, 0.9890928602697009, 0.9890928602697009, 0.9890928602697009, 0.9890928602697009, 0.9890928602697009, 0.9890928602697009, 0.9890928602697009, 0.9890928602697009, 0.9901614502530471, 0.9901614502530471]}], \"norm_macro_recall\": [{\"categories\": [\"0\", \"1\", \"2\", \"3\", \"4\", \"5\", \"6\", \"7\", \"8\", \"9\", \"10\", \"11\", \"12\", \"13\", \"14\", \"15\", \"16\", \"17\", \"18\", \"19\", \"20\", \"21\", \"22\", \"23\", \"24\", \"25\", \"26\", \"27\", \"28\", \"29\", \"30\", \"31\", \"32\", \"33\", \"34\", \"35\", \"36\", \"37\", \"38\", \"39\", \"40\", \"41\", \"42\", \"43\", \"44\", \"45\", \"46\", \"47\", \"48\", \"49\", \"50\", \"51\", \"52\", \"53\", \"54\", \"55\", \"56\", \"57\"], \"mode\": \"markers\", \"name\": \"norm_macro_recall\", \"stepped\": false, \"type\": \"scatter\", \"data\": [0.8807494577785757, 0.8685742976550459, 0.8603952099936446, 0.8364628757855863, 0.8468216486262182, 0.8637120929174256, 0.866706002498858, 0.8376853117313641, 0.8595378139262719, 0.8269659757566004, 0.8438575348182311, 0.8076104758527812, 0.8570250290328232, 0.848591263757368, 0.823960926159274, 0.8497728638457179, 0.880845368537301, 0.766698990024447, 0.8519424067163548, 0.850571095769222, 0.8597919735771564, 0.8150277443324716, 0.7266924109795012, 0.8661617453045951, 0.8503596065771196, 0.0, 0.8597277317355261, 0.8611213722262481, 0.8398097475834378, 0.8365594958736604, 0.8549833063954619, 0.8539100792454496, 0.8470772219288534, 0.8541507848771441, 0.8657322138406733, 0.8485320636051392, 0.8374144268033643, 0.8427443139667894, 0.8438245658782908, 0.8492083443091312, 0.847618047407541, 0.8405701478892997, 0.8569698832653488, 0.866311142438731, 0.8625638112133966, 0.8430734780150454, 0.868263141149247, 0.8379414524272498, 0.8664459144805106, 0.8402977591223311, 0.852773296465229, 0.8500183983994415, 0.8674805986084086, 0.8340269627856017, 0.8748925275689146, 0.8156626824967855, 0.9028001725224902, 0.8773886490060023]}, {\"categories\": [\"0\", \"1\", \"2\", \"3\", \"4\", \"5\", \"6\", \"7\", \"8\", \"9\", \"10\", \"11\", \"12\", \"13\", \"14\", \"15\", \"16\", \"17\", \"18\", \"19\", \"20\", \"21\", \"22\", \"23\", \"24\", \"25\", \"26\", \"27\", \"28\", \"29\", \"30\", \"31\", \"32\", \"33\", \"34\", \"35\", \"36\", \"37\", \"38\", \"39\", \"40\", \"41\", \"42\", \"43\", \"44\", \"45\", \"46\", \"47\", \"48\", \"49\", \"50\", \"51\", \"52\", \"53\", \"54\", \"55\", \"56\", \"57\"], \"mode\": \"lines\", \"name\": \"norm_macro_recall_max\", \"stepped\": true, \"type\": \"scatter\", \"data\": [0.8807494577785757, 0.8807494577785757, 0.8807494577785757, 0.8807494577785757, 0.8807494577785757, 0.8807494577785757, 0.8807494577785757, 0.8807494577785757, 0.8807494577785757, 0.8807494577785757, 0.8807494577785757, 0.8807494577785757, 0.8807494577785757, 0.8807494577785757, 0.8807494577785757, 0.8807494577785757, 0.880845368537301, 0.880845368537301, 0.880845368537301, 0.880845368537301, 0.880845368537301, 0.880845368537301, 0.880845368537301, 0.880845368537301, 0.880845368537301, 0.880845368537301, 0.880845368537301, 0.880845368537301, 0.880845368537301, 0.880845368537301, 0.880845368537301, 0.880845368537301, 0.880845368537301, 0.880845368537301, 0.880845368537301, 0.880845368537301, 0.880845368537301, 0.880845368537301, 0.880845368537301, 0.880845368537301, 0.880845368537301, 0.880845368537301, 0.880845368537301, 0.880845368537301, 0.880845368537301, 0.880845368537301, 0.880845368537301, 0.880845368537301, 0.880845368537301, 0.880845368537301, 0.880845368537301, 0.880845368537301, 0.880845368537301, 0.880845368537301, 0.880845368537301, 0.880845368537301, 0.9028001725224902, 0.9028001725224902]}], \"weighted_accuracy\": [{\"categories\": [\"0\", \"1\", \"2\", \"3\", \"4\", \"5\", \"6\", \"7\", \"8\", \"9\", \"10\", \"11\", \"12\", \"13\", \"14\", \"15\", \"16\", \"17\", \"18\", \"19\", \"20\", \"21\", \"22\", \"23\", \"24\", \"25\", \"26\", \"27\", \"28\", \"29\", \"30\", \"31\", \"32\", \"33\", \"34\", \"35\", \"36\", \"37\", \"38\", \"39\", \"40\", \"41\", \"42\", \"43\", \"44\", \"45\", \"46\", \"47\", \"48\", \"49\", \"50\", \"51\", \"52\", \"53\", \"54\", \"55\", \"56\", \"57\"], \"mode\": \"markers\", \"name\": \"weighted_accuracy\", \"stepped\": false, \"type\": \"scatter\", \"data\": [0.9530714523271362, 0.9516946736754026, 0.9389606616638329, 0.9363110368848611, 0.9284470786079494, 0.9474059833797875, 0.945955156744073, 0.9323941858598486, 0.9427205918253201, 0.9273519459787856, 0.939543524053283, 0.9258281034750006, 0.940354584943152, 0.9310402788791767, 0.9318296310326508, 0.937000391232725, 0.9497120357606883, 0.9075928780610776, 0.9393643165857386, 0.9398901089016061, 0.9392463299200606, 0.9193088456988251, 0.9217429666661854, 0.9465620695398069, 0.9334474342366434, 0.7373853936974661, 0.9424740611208382, 0.9387824209685691, 0.9412884457244116, 0.9263371906341094, 0.934888667097237, 0.9255789575450798, 0.9348632813799538, 0.9383098554487568, 0.9433219492148762, 0.9375970979009285, 0.9326202877607959, 0.9336835419974054, 0.9330182683059292, 0.9405538898246997, 0.9346460839479354, 0.9147835424953208, 0.9403773099996764, 0.9430855195576046, 0.9413442310799895, 0.9366454216136628, 0.9421070213240685, 0.9355768278085298, 0.9428338148941995, 0.9314793326363672, 0.9389074760303954, 0.9368810855342566, 0.9458873266847178, 0.9241163654108853, 0.9490495702901673, 0.932219366318221, 0.9599102265926496, 0.9609628915585487]}, {\"categories\": [\"0\", \"1\", \"2\", \"3\", \"4\", \"5\", \"6\", \"7\", \"8\", \"9\", \"10\", \"11\", \"12\", \"13\", \"14\", \"15\", \"16\", \"17\", \"18\", \"19\", \"20\", \"21\", \"22\", \"23\", \"24\", \"25\", \"26\", \"27\", \"28\", \"29\", \"30\", \"31\", \"32\", \"33\", \"34\", \"35\", \"36\", \"37\", \"38\", \"39\", \"40\", \"41\", \"42\", \"43\", \"44\", \"45\", \"46\", \"47\", \"48\", \"49\", \"50\", \"51\", \"52\", \"53\", \"54\", \"55\", \"56\", \"57\"], \"mode\": \"lines\", \"name\": \"weighted_accuracy_max\", \"stepped\": true, \"type\": \"scatter\", \"data\": [0.9530714523271362, 0.9530714523271362, 0.9530714523271362, 0.9530714523271362, 0.9530714523271362, 0.9530714523271362, 0.9530714523271362, 0.9530714523271362, 0.9530714523271362, 0.9530714523271362, 0.9530714523271362, 0.9530714523271362, 0.9530714523271362, 0.9530714523271362, 0.9530714523271362, 0.9530714523271362, 0.9530714523271362, 0.9530714523271362, 0.9530714523271362, 0.9530714523271362, 0.9530714523271362, 0.9530714523271362, 0.9530714523271362, 0.9530714523271362, 0.9530714523271362, 0.9530714523271362, 0.9530714523271362, 0.9530714523271362, 0.9530714523271362, 0.9530714523271362, 0.9530714523271362, 0.9530714523271362, 0.9530714523271362, 0.9530714523271362, 0.9530714523271362, 0.9530714523271362, 0.9530714523271362, 0.9530714523271362, 0.9530714523271362, 0.9530714523271362, 0.9530714523271362, 0.9530714523271362, 0.9530714523271362, 0.9530714523271362, 0.9530714523271362, 0.9530714523271362, 0.9530714523271362, 0.9530714523271362, 0.9530714523271362, 0.9530714523271362, 0.9530714523271362, 0.9530714523271362, 0.9530714523271362, 0.9530714523271362, 0.9530714523271362, 0.9530714523271362, 0.9599102265926496, 0.9609628915585487]}], \"AUC_micro\": [{\"categories\": [\"0\", \"1\", \"2\", \"3\", \"4\", \"5\", \"6\", \"7\", \"8\", \"9\", \"10\", \"11\", \"12\", \"13\", \"14\", \"15\", \"16\", \"17\", \"18\", \"19\", \"20\", \"21\", \"22\", \"23\", \"24\", \"25\", \"26\", \"27\", \"28\", \"29\", \"30\", \"31\", \"32\", \"33\", \"34\", \"35\", \"36\", \"37\", \"38\", \"39\", \"40\", \"41\", \"42\", \"43\", \"44\", \"45\", \"46\", \"47\", \"48\", \"49\", \"50\", \"51\", \"52\", \"53\", \"54\", \"55\", \"56\", \"57\"], \"mode\": \"markers\", \"name\": \"AUC_micro\", \"stepped\": false, \"type\": \"scatter\", \"data\": [0.9886020327923208, 0.9882533445051654, 0.9790085859535786, 0.9813054293517929, 0.9824268681645958, 0.9832738983091867, 0.9853370282237242, 0.9818550686427224, 0.9814176008324254, 0.9773882593223562, 0.9842848758370227, 0.9780283871268811, 0.9862651088676332, 0.9754455071761811, 0.9795768975922542, 0.9876593835471368, 0.9889425822836119, 0.9514678745589438, 0.9810506499695648, 0.9838781867278644, 0.9859938458024434, 0.9764108638185052, 0.9607005279623498, 0.9854730014338887, 0.9848891642557005, 0.8518759400200754, 0.9836990548800705, 0.9795576093812344, 0.9842614838795318, 0.979013305563323, 0.9854756010759264, 0.9807626296383152, 0.9821721574794451, 0.981069322317311, 0.9832961959342852, 0.9865689970185709, 0.9833968757195869, 0.9787776782031719, 0.9800736654429668, 0.9829490804486406, 0.9840452122222658, 0.9770006523329853, 0.9855473497499101, 0.9805032005486318, 0.9848364302096385, 0.9843755704418508, 0.9836468680002047, 0.9796700544449649, 0.9871895642341899, 0.9713990673250883, 0.9852909288690934, 0.9825135277200301, 0.9850750669838687, 0.9833435945073287, 0.9855616447680873, 0.9774007754477898, 0.9899387176270746, 0.9816263483518884]}, {\"categories\": [\"0\", \"1\", \"2\", \"3\", \"4\", \"5\", \"6\", \"7\", \"8\", \"9\", \"10\", \"11\", \"12\", \"13\", \"14\", \"15\", \"16\", \"17\", \"18\", \"19\", \"20\", \"21\", \"22\", \"23\", \"24\", \"25\", \"26\", \"27\", \"28\", \"29\", \"30\", \"31\", \"32\", \"33\", \"34\", \"35\", \"36\", \"37\", \"38\", \"39\", \"40\", \"41\", \"42\", \"43\", \"44\", \"45\", \"46\", \"47\", \"48\", \"49\", \"50\", \"51\", \"52\", \"53\", \"54\", \"55\", \"56\", \"57\"], \"mode\": \"lines\", \"name\": \"AUC_micro_max\", \"stepped\": true, \"type\": \"scatter\", \"data\": [0.9886020327923208, 0.9886020327923208, 0.9886020327923208, 0.9886020327923208, 0.9886020327923208, 0.9886020327923208, 0.9886020327923208, 0.9886020327923208, 0.9886020327923208, 0.9886020327923208, 0.9886020327923208, 0.9886020327923208, 0.9886020327923208, 0.9886020327923208, 0.9886020327923208, 0.9886020327923208, 0.9889425822836119, 0.9889425822836119, 0.9889425822836119, 0.9889425822836119, 0.9889425822836119, 0.9889425822836119, 0.9889425822836119, 0.9889425822836119, 0.9889425822836119, 0.9889425822836119, 0.9889425822836119, 0.9889425822836119, 0.9889425822836119, 0.9889425822836119, 0.9889425822836119, 0.9889425822836119, 0.9889425822836119, 0.9889425822836119, 0.9889425822836119, 0.9889425822836119, 0.9889425822836119, 0.9889425822836119, 0.9889425822836119, 0.9889425822836119, 0.9889425822836119, 0.9889425822836119, 0.9889425822836119, 0.9889425822836119, 0.9889425822836119, 0.9889425822836119, 0.9889425822836119, 0.9889425822836119, 0.9889425822836119, 0.9889425822836119, 0.9889425822836119, 0.9889425822836119, 0.9889425822836119, 0.9889425822836119, 0.9889425822836119, 0.9889425822836119, 0.9899387176270746, 0.9899387176270746]}], \"f1_score_micro\": [{\"categories\": [\"0\", \"1\", \"2\", \"3\", \"4\", \"5\", \"6\", \"7\", \"8\", \"9\", \"10\", \"11\", \"12\", \"13\", \"14\", \"15\", \"16\", \"17\", \"18\", \"19\", \"20\", \"21\", \"22\", \"23\", \"24\", \"25\", \"26\", \"27\", \"28\", \"29\", \"30\", \"31\", \"32\", \"33\", \"34\", \"35\", \"36\", \"37\", \"38\", \"39\", \"40\", \"41\", \"42\", \"43\", \"44\", \"45\", \"46\", \"47\", \"48\", \"49\", \"50\", \"51\", \"52\", \"53\", \"54\", \"55\", \"56\", \"57\"], \"mode\": \"markers\", \"name\": \"f1_score_micro\", \"stepped\": false, \"type\": \"scatter\", \"data\": [0.947228691197019, 0.9437043937276821, 0.9349635149821456, 0.9279459711224964, 0.9261605340785592, 0.9402266728768826, 0.9401956217978575, 0.9261450085390468, 0.936686849868033, 0.9208818506443098, 0.9314236919732961, 0.9156342182890855, 0.9349169383636081, 0.9279149200434714, 0.9226672876882471, 0.9314236919732961, 0.9454277286135694, 0.8962428194379756, 0.9332091290172333, 0.9331625523986959, 0.9349324639031206, 0.9138487812451481, 0.8945194845520881, 0.9402421984163951, 0.9296693060083838, 0.6273560006210216, 0.936686849868033, 0.9349169383636081, 0.9314236919732961, 0.9226672876882471, 0.9314236919732961, 0.9261915851575842, 0.9296537804688713, 0.9331780779382084, 0.9384567613724576, 0.9314236919732961, 0.9261915851575843, 0.927899394503959, 0.9279149200434714, 0.9331780779382084, 0.9296382549293588, 0.9173730787144854, 0.9349169383636081, 0.9384412358329453, 0.936686849868033, 0.9296693060083838, 0.9384567613724576, 0.927930445582984, 0.9384257102934328, 0.9261450085390466, 0.9331470268591833, 0.9314081664337837, 0.9402111473373699, 0.9208973761838225, 0.9437199192671946, 0.9208818506443098, 0.9560006210215806, 0.9507374631268437]}, {\"categories\": [\"0\", \"1\", \"2\", \"3\", \"4\", \"5\", \"6\", \"7\", \"8\", \"9\", \"10\", \"11\", \"12\", \"13\", \"14\", \"15\", \"16\", \"17\", \"18\", \"19\", \"20\", \"21\", \"22\", \"23\", \"24\", \"25\", \"26\", \"27\", \"28\", \"29\", \"30\", \"31\", \"32\", \"33\", \"34\", \"35\", \"36\", \"37\", \"38\", \"39\", \"40\", \"41\", \"42\", \"43\", \"44\", \"45\", \"46\", \"47\", \"48\", \"49\", \"50\", \"51\", \"52\", \"53\", \"54\", \"55\", \"56\", \"57\"], \"mode\": \"lines\", \"name\": \"f1_score_micro_max\", \"stepped\": true, \"type\": \"scatter\", \"data\": [0.947228691197019, 0.947228691197019, 0.947228691197019, 0.947228691197019, 0.947228691197019, 0.947228691197019, 0.947228691197019, 0.947228691197019, 0.947228691197019, 0.947228691197019, 0.947228691197019, 0.947228691197019, 0.947228691197019, 0.947228691197019, 0.947228691197019, 0.947228691197019, 0.947228691197019, 0.947228691197019, 0.947228691197019, 0.947228691197019, 0.947228691197019, 0.947228691197019, 0.947228691197019, 0.947228691197019, 0.947228691197019, 0.947228691197019, 0.947228691197019, 0.947228691197019, 0.947228691197019, 0.947228691197019, 0.947228691197019, 0.947228691197019, 0.947228691197019, 0.947228691197019, 0.947228691197019, 0.947228691197019, 0.947228691197019, 0.947228691197019, 0.947228691197019, 0.947228691197019, 0.947228691197019, 0.947228691197019, 0.947228691197019, 0.947228691197019, 0.947228691197019, 0.947228691197019, 0.947228691197019, 0.947228691197019, 0.947228691197019, 0.947228691197019, 0.947228691197019, 0.947228691197019, 0.947228691197019, 0.947228691197019, 0.947228691197019, 0.947228691197019, 0.9560006210215806, 0.9560006210215806]}], \"accuracy\": [{\"categories\": [\"0\", \"1\", \"2\", \"3\", \"4\", \"5\", \"6\", \"7\", \"8\", \"9\", \"10\", \"11\", \"12\", \"13\", \"14\", \"15\", \"16\", \"17\", \"18\", \"19\", \"20\", \"21\", \"22\", \"23\", \"24\", \"25\", \"26\", \"27\", \"28\", \"29\", \"30\", \"31\", \"32\", \"33\", \"34\", \"35\", \"36\", \"37\", \"38\", \"39\", \"40\", \"41\", \"42\", \"43\", \"44\", \"45\", \"46\", \"47\", \"48\", \"49\", \"50\", \"51\", \"52\", \"53\", \"54\", \"55\", \"56\", \"57\"], \"mode\": \"markers\", \"name\": \"accuracy\", \"stepped\": false, \"type\": \"scatter\", \"data\": [0.947228691197019, 0.9437043937276821, 0.9349635149821456, 0.9279459711224964, 0.9261605340785592, 0.9402266728768826, 0.9401956217978575, 0.9261450085390468, 0.936686849868033, 0.9208818506443098, 0.9314236919732961, 0.9156342182890855, 0.9349169383636081, 0.9279149200434714, 0.9226672876882471, 0.9314236919732961, 0.9454277286135694, 0.8962428194379756, 0.9332091290172333, 0.9331625523986959, 0.9349324639031206, 0.9138487812451481, 0.8945194845520883, 0.9402421984163951, 0.9296693060083838, 0.6273560006210216, 0.936686849868033, 0.9349169383636081, 0.9314236919732961, 0.9226672876882471, 0.9314236919732961, 0.9261915851575842, 0.9296537804688713, 0.9331780779382084, 0.9384567613724576, 0.9314236919732961, 0.9261915851575843, 0.927899394503959, 0.9279149200434714, 0.9331780779382084, 0.9296382549293588, 0.9173730787144854, 0.9349169383636081, 0.9384412358329453, 0.936686849868033, 0.9296693060083838, 0.9384567613724576, 0.927930445582984, 0.9384257102934328, 0.9261450085390466, 0.9331470268591833, 0.9314081664337837, 0.9402111473373699, 0.9208973761838225, 0.9437199192671946, 0.9208818506443098, 0.9560006210215806, 0.9507374631268437]}, {\"categories\": [\"0\", \"1\", \"2\", \"3\", \"4\", \"5\", \"6\", \"7\", \"8\", \"9\", \"10\", \"11\", \"12\", \"13\", \"14\", \"15\", \"16\", \"17\", \"18\", \"19\", \"20\", \"21\", \"22\", \"23\", \"24\", \"25\", \"26\", \"27\", \"28\", \"29\", \"30\", \"31\", \"32\", \"33\", \"34\", \"35\", \"36\", \"37\", \"38\", \"39\", \"40\", \"41\", \"42\", \"43\", \"44\", \"45\", \"46\", \"47\", \"48\", \"49\", \"50\", \"51\", \"52\", \"53\", \"54\", \"55\", \"56\", \"57\"], \"mode\": \"lines\", \"name\": \"accuracy_max\", \"stepped\": true, \"type\": \"scatter\", \"data\": [0.947228691197019, 0.947228691197019, 0.947228691197019, 0.947228691197019, 0.947228691197019, 0.947228691197019, 0.947228691197019, 0.947228691197019, 0.947228691197019, 0.947228691197019, 0.947228691197019, 0.947228691197019, 0.947228691197019, 0.947228691197019, 0.947228691197019, 0.947228691197019, 0.947228691197019, 0.947228691197019, 0.947228691197019, 0.947228691197019, 0.947228691197019, 0.947228691197019, 0.947228691197019, 0.947228691197019, 0.947228691197019, 0.947228691197019, 0.947228691197019, 0.947228691197019, 0.947228691197019, 0.947228691197019, 0.947228691197019, 0.947228691197019, 0.947228691197019, 0.947228691197019, 0.947228691197019, 0.947228691197019, 0.947228691197019, 0.947228691197019, 0.947228691197019, 0.947228691197019, 0.947228691197019, 0.947228691197019, 0.947228691197019, 0.947228691197019, 0.947228691197019, 0.947228691197019, 0.947228691197019, 0.947228691197019, 0.947228691197019, 0.947228691197019, 0.947228691197019, 0.947228691197019, 0.947228691197019, 0.947228691197019, 0.947228691197019, 0.947228691197019, 0.9560006210215806, 0.9560006210215806]}], \"AUC_weighted\": [{\"categories\": [\"0\", \"1\", \"2\", \"3\", \"4\", \"5\", \"6\", \"7\", \"8\", \"9\", \"10\", \"11\", \"12\", \"13\", \"14\", \"15\", \"16\", \"17\", \"18\", \"19\", \"20\", \"21\", \"22\", \"23\", \"24\", \"25\", \"26\", \"27\", \"28\", \"29\", \"30\", \"31\", \"32\", \"33\", \"34\", \"35\", \"36\", \"37\", \"38\", \"39\", \"40\", \"41\", \"42\", \"43\", \"44\", \"45\", \"46\", \"47\", \"48\", \"49\", \"50\", \"51\", \"52\", \"53\", \"54\", \"55\", \"56\", \"57\"], \"mode\": \"markers\", \"name\": \"AUC_weighted\", \"stepped\": false, \"type\": \"scatter\", \"data\": [0.9882890962634558, 0.9878949691302588, 0.9779569766321027, 0.9802263378567858, 0.9819054895852994, 0.979333070070029, 0.9857340908141451, 0.9810550212901779, 0.9793396465259538, 0.9778292514242741, 0.983773018820108, 0.976875600279549, 0.986496272946988, 0.9702535441932918, 0.9785964962379632, 0.9864293582553121, 0.9877812081128688, 0.947901318398506, 0.9806183896690136, 0.9835608427968501, 0.985039152046651, 0.9760559182357642, 0.9806611667186622, 0.9851378876296358, 0.9836475025854853, 0.9819497917534944, 0.9822386563993089, 0.9798118802070052, 0.9829519103153807, 0.9780935116111207, 0.9850830057993626, 0.9808961427738984, 0.9815371457355105, 0.9795519753122581, 0.9831141791996896, 0.9854423818245529, 0.9819322083273978, 0.978429099283751, 0.9792474387221197, 0.982868768542081, 0.9830695404967477, 0.9765771279920971, 0.9855240563522439, 0.9796762957830204, 0.9848053009406478, 0.9841506549328392, 0.9838399063375695, 0.9768892191286929, 0.9871180220080429, 0.9681618008828291, 0.9841162152908656, 0.9819562302359645, 0.9849825698217656, 0.9830874992058327, 0.985148239235167, 0.9776462355964778, 0.9892923170086185, 0.9890276451586125]}, {\"categories\": [\"0\", \"1\", \"2\", \"3\", \"4\", \"5\", \"6\", \"7\", \"8\", \"9\", \"10\", \"11\", \"12\", \"13\", \"14\", \"15\", \"16\", \"17\", \"18\", \"19\", \"20\", \"21\", \"22\", \"23\", \"24\", \"25\", \"26\", \"27\", \"28\", \"29\", \"30\", \"31\", \"32\", \"33\", \"34\", \"35\", \"36\", \"37\", \"38\", \"39\", \"40\", \"41\", \"42\", \"43\", \"44\", \"45\", \"46\", \"47\", \"48\", \"49\", \"50\", \"51\", \"52\", \"53\", \"54\", \"55\", \"56\", \"57\"], \"mode\": \"lines\", \"name\": \"AUC_weighted_max\", \"stepped\": true, \"type\": \"scatter\", \"data\": [0.9882890962634558, 0.9882890962634558, 0.9882890962634558, 0.9882890962634558, 0.9882890962634558, 0.9882890962634558, 0.9882890962634558, 0.9882890962634558, 0.9882890962634558, 0.9882890962634558, 0.9882890962634558, 0.9882890962634558, 0.9882890962634558, 0.9882890962634558, 0.9882890962634558, 0.9882890962634558, 0.9882890962634558, 0.9882890962634558, 0.9882890962634558, 0.9882890962634558, 0.9882890962634558, 0.9882890962634558, 0.9882890962634558, 0.9882890962634558, 0.9882890962634558, 0.9882890962634558, 0.9882890962634558, 0.9882890962634558, 0.9882890962634558, 0.9882890962634558, 0.9882890962634558, 0.9882890962634558, 0.9882890962634558, 0.9882890962634558, 0.9882890962634558, 0.9882890962634558, 0.9882890962634558, 0.9882890962634558, 0.9882890962634558, 0.9882890962634558, 0.9882890962634558, 0.9882890962634558, 0.9882890962634558, 0.9882890962634558, 0.9882890962634558, 0.9882890962634558, 0.9882890962634558, 0.9882890962634558, 0.9882890962634558, 0.9882890962634558, 0.9882890962634558, 0.9882890962634558, 0.9882890962634558, 0.9882890962634558, 0.9882890962634558, 0.9882890962634558, 0.9892923170086185, 0.9892923170086185]}], \"average_precision_score_macro\": [{\"categories\": [\"0\", \"1\", \"2\", \"3\", \"4\", \"5\", \"6\", \"7\", \"8\", \"9\", \"10\", \"11\", \"12\", \"13\", \"14\", \"15\", \"16\", \"17\", \"18\", \"19\", \"20\", \"21\", \"22\", \"23\", \"24\", \"25\", \"26\", \"27\", \"28\", \"29\", \"30\", \"31\", \"32\", \"33\", \"34\", \"35\", \"36\", \"37\", \"38\", \"39\", \"40\", \"41\", \"42\", \"43\", \"44\", \"45\", \"46\", \"47\", \"48\", \"49\", \"50\", \"51\", \"52\", \"53\", \"54\", \"55\", \"56\", \"57\"], \"mode\": \"markers\", \"name\": \"average_precision_score_macro\", \"stepped\": false, \"type\": \"scatter\", \"data\": [0.9878618411403408, 0.9877528148983308, 0.9769079728876197, 0.9796212873998517, 0.9806855874234299, 0.9798355835868188, 0.9851156392415577, 0.9804967661259765, 0.9780261895299489, 0.9770510788097688, 0.9834273718767257, 0.9764425502740242, 0.9857231027039062, 0.9684658962632786, 0.9783634130293827, 0.9861138889426011, 0.9876322279767006, 0.940756064538388, 0.9801558247444164, 0.9829669748208218, 0.9848933924749737, 0.9753847779496112, 0.9799266537504681, 0.9847216048323689, 0.9832589596921775, 0.9802544517714761, 0.9819416430161534, 0.9775746856613508, 0.9827227178330998, 0.976190600963978, 0.9850370870454228, 0.9804474238290568, 0.9809253016961316, 0.9780137539698248, 0.9821829719878352, 0.9850414906447155, 0.9814148772458516, 0.9757748143696532, 0.9771455785698693, 0.9822405583191373, 0.9829080652385631, 0.975926820796136, 0.9850053863751201, 0.9783368050299176, 0.9844014135597934, 0.9837236623321617, 0.9834806086956837, 0.9742961949150029, 0.9867190306153144, 0.9632795639829623, 0.9839226693849886, 0.9812853865028286, 0.9845075742074485, 0.9828025412909855, 0.9847722921577526, 0.9765731966499962, 0.9892476128516868, 0.9890069852234861]}, {\"categories\": [\"0\", \"1\", \"2\", \"3\", \"4\", \"5\", \"6\", \"7\", \"8\", \"9\", \"10\", \"11\", \"12\", \"13\", \"14\", \"15\", \"16\", \"17\", \"18\", \"19\", \"20\", \"21\", \"22\", \"23\", \"24\", \"25\", \"26\", \"27\", \"28\", \"29\", \"30\", \"31\", \"32\", \"33\", \"34\", \"35\", \"36\", \"37\", \"38\", \"39\", \"40\", \"41\", \"42\", \"43\", \"44\", \"45\", \"46\", \"47\", \"48\", \"49\", \"50\", \"51\", \"52\", \"53\", \"54\", \"55\", \"56\", \"57\"], \"mode\": \"lines\", \"name\": \"average_precision_score_macro_max\", \"stepped\": true, \"type\": \"scatter\", \"data\": [0.9878618411403408, 0.9878618411403408, 0.9878618411403408, 0.9878618411403408, 0.9878618411403408, 0.9878618411403408, 0.9878618411403408, 0.9878618411403408, 0.9878618411403408, 0.9878618411403408, 0.9878618411403408, 0.9878618411403408, 0.9878618411403408, 0.9878618411403408, 0.9878618411403408, 0.9878618411403408, 0.9878618411403408, 0.9878618411403408, 0.9878618411403408, 0.9878618411403408, 0.9878618411403408, 0.9878618411403408, 0.9878618411403408, 0.9878618411403408, 0.9878618411403408, 0.9878618411403408, 0.9878618411403408, 0.9878618411403408, 0.9878618411403408, 0.9878618411403408, 0.9878618411403408, 0.9878618411403408, 0.9878618411403408, 0.9878618411403408, 0.9878618411403408, 0.9878618411403408, 0.9878618411403408, 0.9878618411403408, 0.9878618411403408, 0.9878618411403408, 0.9878618411403408, 0.9878618411403408, 0.9878618411403408, 0.9878618411403408, 0.9878618411403408, 0.9878618411403408, 0.9878618411403408, 0.9878618411403408, 0.9878618411403408, 0.9878618411403408, 0.9878618411403408, 0.9878618411403408, 0.9878618411403408, 0.9878618411403408, 0.9878618411403408, 0.9878618411403408, 0.9892476128516868, 0.9892476128516868]}], \"log_loss\": [{\"categories\": [\"0\", \"1\", \"2\", \"3\", \"4\", \"5\", \"6\", \"7\", \"8\", \"9\", \"10\", \"11\", \"12\", \"13\", \"14\", \"15\", \"16\", \"17\", \"18\", \"19\", \"20\", \"21\", \"22\", \"23\", \"24\", \"25\", \"26\", \"27\", \"28\", \"29\", \"30\", \"31\", \"32\", \"33\", \"34\", \"35\", \"36\", \"37\", \"38\", \"39\", \"40\", \"41\", \"42\", \"43\", \"44\", \"45\", \"46\", \"47\", \"48\", \"49\", \"50\", \"51\", \"52\", \"53\", \"54\", \"55\", \"56\", \"57\"], \"mode\": \"markers\", \"name\": \"log_loss\", \"stepped\": false, \"type\": \"scatter\", \"data\": [0.17697879692813806, 0.13932204662050746, 0.1887571643038153, 0.19398394526811477, 0.22281310136750115, 0.16663626295991535, 0.15851918243500135, 0.18392349064882846, 0.18989241634906687, 0.19808583514141537, 0.18811330881025307, 0.22081753874606586, 0.15478121763590938, 0.31425696680129567, 0.2106285607226229, 0.14122391338477008, 0.1429258461449651, 0.7514057495277966, 0.19646769034388994, 0.16095036980403907, 0.15045050221559542, 0.31835518420310693, 0.39198724110953964, 0.15539565428682142, 0.15972263132877237, 0.660103428418816, 0.16594460140356934, 0.32418802594272783, 0.1722994782899307, 0.24870770923274646, 0.15832460493369446, 0.24048371604027624, 0.17049248569043643, 0.19603824016842053, 0.17302830965709998, 0.14477940353866967, 0.4155652395370157, 0.1964610847693569, 0.3257272760490521, 0.16922259139038542, 0.16211095032001274, 0.20613457318216066, 0.15794071020760972, 0.19896392878746108, 0.15971318431377604, 0.1948507845090078, 0.1801713442141783, 0.32441082096393836, 0.1527974133534749, 0.33285256966800975, 0.15728006235381792, 0.1703200384432525, 0.15663802847078467, 0.1973944403873579, 0.15601162570714414, 0.22734533074450775, 0.1599926718139313, 0.3334748625471534]}, {\"categories\": [\"0\", \"1\", \"2\", \"3\", \"4\", \"5\", \"6\", \"7\", \"8\", \"9\", \"10\", \"11\", \"12\", \"13\", \"14\", \"15\", \"16\", \"17\", \"18\", \"19\", \"20\", \"21\", \"22\", \"23\", \"24\", \"25\", \"26\", \"27\", \"28\", \"29\", \"30\", \"31\", \"32\", \"33\", \"34\", \"35\", \"36\", \"37\", \"38\", \"39\", \"40\", \"41\", \"42\", \"43\", \"44\", \"45\", \"46\", \"47\", \"48\", \"49\", \"50\", \"51\", \"52\", \"53\", \"54\", \"55\", \"56\", \"57\"], \"mode\": \"lines\", \"name\": \"log_loss_min\", \"stepped\": true, \"type\": \"scatter\", \"data\": [0.17697879692813806, 0.13932204662050746, 0.13932204662050746, 0.13932204662050746, 0.13932204662050746, 0.13932204662050746, 0.13932204662050746, 0.13932204662050746, 0.13932204662050746, 0.13932204662050746, 0.13932204662050746, 0.13932204662050746, 0.13932204662050746, 0.13932204662050746, 0.13932204662050746, 0.13932204662050746, 0.13932204662050746, 0.13932204662050746, 0.13932204662050746, 0.13932204662050746, 0.13932204662050746, 0.13932204662050746, 0.13932204662050746, 0.13932204662050746, 0.13932204662050746, 0.13932204662050746, 0.13932204662050746, 0.13932204662050746, 0.13932204662050746, 0.13932204662050746, 0.13932204662050746, 0.13932204662050746, 0.13932204662050746, 0.13932204662050746, 0.13932204662050746, 0.13932204662050746, 0.13932204662050746, 0.13932204662050746, 0.13932204662050746, 0.13932204662050746, 0.13932204662050746, 0.13932204662050746, 0.13932204662050746, 0.13932204662050746, 0.13932204662050746, 0.13932204662050746, 0.13932204662050746, 0.13932204662050746, 0.13932204662050746, 0.13932204662050746, 0.13932204662050746, 0.13932204662050746, 0.13932204662050746, 0.13932204662050746, 0.13932204662050746, 0.13932204662050746, 0.13932204662050746, 0.13932204662050746]}], \"recall_score_macro\": [{\"categories\": [\"0\", \"1\", \"2\", \"3\", \"4\", \"5\", \"6\", \"7\", \"8\", \"9\", \"10\", \"11\", \"12\", \"13\", \"14\", \"15\", \"16\", \"17\", \"18\", \"19\", \"20\", \"21\", \"22\", \"23\", \"24\", \"25\", \"26\", \"27\", \"28\", \"29\", \"30\", \"31\", \"32\", \"33\", \"34\", \"35\", \"36\", \"37\", \"38\", \"39\", \"40\", \"41\", \"42\", \"43\", \"44\", \"45\", \"46\", \"47\", \"48\", \"49\", \"50\", \"51\", \"52\", \"53\", \"54\", \"55\", \"56\", \"57\"], \"mode\": \"markers\", \"name\": \"recall_score_macro\", \"stepped\": false, \"type\": \"scatter\", \"data\": [0.9403747288892879, 0.9342871488275228, 0.9301976049968224, 0.918231437892793, 0.9234108243131092, 0.9318560464587128, 0.933353001249429, 0.9188426558656821, 0.9297689069631361, 0.9134829878783002, 0.9219287674091156, 0.9038052379263906, 0.9285125145164116, 0.9242956318786841, 0.9119804630796369, 0.9248864319228589, 0.9404226842686505, 0.8833494950122235, 0.9259712033581774, 0.9252855478846109, 0.9298959867885783, 0.9075138721662359, 0.8633462054897505, 0.9330808726522977, 0.9251798032885598, 0.5, 0.929863865867763, 0.9305606861131241, 0.9199048737917188, 0.9182797479368302, 0.927491653197731, 0.9269550396227249, 0.9235386109644267, 0.9270753924385721, 0.9328661069203366, 0.9242660318025695, 0.9187072134016822, 0.9213721569833947, 0.9219122829391454, 0.9246041721545655, 0.9238090237037705, 0.9202850739446499, 0.9284849416326744, 0.9331555712193655, 0.9312819056066983, 0.9215367390075228, 0.9341315705746235, 0.9189707262136249, 0.9332229572402554, 0.9201488795611656, 0.9263866482326145, 0.9250091991997207, 0.9337402993042044, 0.9170134813928008, 0.9374462637844573, 0.9078313412483927, 0.9514000862612452, 0.9386943245030013]}, {\"categories\": [\"0\", \"1\", \"2\", \"3\", \"4\", \"5\", \"6\", \"7\", \"8\", \"9\", \"10\", \"11\", \"12\", \"13\", \"14\", \"15\", \"16\", \"17\", \"18\", \"19\", \"20\", \"21\", \"22\", \"23\", \"24\", \"25\", \"26\", \"27\", \"28\", \"29\", \"30\", \"31\", \"32\", \"33\", \"34\", \"35\", \"36\", \"37\", \"38\", \"39\", \"40\", \"41\", \"42\", \"43\", \"44\", \"45\", \"46\", \"47\", \"48\", \"49\", \"50\", \"51\", \"52\", \"53\", \"54\", \"55\", \"56\", \"57\"], \"mode\": \"lines\", \"name\": \"recall_score_macro_max\", \"stepped\": true, \"type\": \"scatter\", \"data\": [0.9403747288892879, 0.9403747288892879, 0.9403747288892879, 0.9403747288892879, 0.9403747288892879, 0.9403747288892879, 0.9403747288892879, 0.9403747288892879, 0.9403747288892879, 0.9403747288892879, 0.9403747288892879, 0.9403747288892879, 0.9403747288892879, 0.9403747288892879, 0.9403747288892879, 0.9403747288892879, 0.9404226842686505, 0.9404226842686505, 0.9404226842686505, 0.9404226842686505, 0.9404226842686505, 0.9404226842686505, 0.9404226842686505, 0.9404226842686505, 0.9404226842686505, 0.9404226842686505, 0.9404226842686505, 0.9404226842686505, 0.9404226842686505, 0.9404226842686505, 0.9404226842686505, 0.9404226842686505, 0.9404226842686505, 0.9404226842686505, 0.9404226842686505, 0.9404226842686505, 0.9404226842686505, 0.9404226842686505, 0.9404226842686505, 0.9404226842686505, 0.9404226842686505, 0.9404226842686505, 0.9404226842686505, 0.9404226842686505, 0.9404226842686505, 0.9404226842686505, 0.9404226842686505, 0.9404226842686505, 0.9404226842686505, 0.9404226842686505, 0.9404226842686505, 0.9404226842686505, 0.9404226842686505, 0.9404226842686505, 0.9404226842686505, 0.9404226842686505, 0.9514000862612452, 0.9514000862612452]}], \"recall_score_weighted\": [{\"categories\": [\"0\", \"1\", \"2\", \"3\", \"4\", \"5\", \"6\", \"7\", \"8\", \"9\", \"10\", \"11\", \"12\", \"13\", \"14\", \"15\", \"16\", \"17\", \"18\", \"19\", \"20\", \"21\", \"22\", \"23\", \"24\", \"25\", \"26\", \"27\", \"28\", \"29\", \"30\", \"31\", \"32\", \"33\", \"34\", \"35\", \"36\", \"37\", \"38\", \"39\", \"40\", \"41\", \"42\", \"43\", \"44\", \"45\", \"46\", \"47\", \"48\", \"49\", \"50\", \"51\", \"52\", \"53\", \"54\", \"55\", \"56\", \"57\"], \"mode\": \"markers\", \"name\": \"recall_score_weighted\", \"stepped\": false, \"type\": \"scatter\", \"data\": [0.947228691197019, 0.9437043937276821, 0.9349635149821456, 0.9279459711224964, 0.9261605340785592, 0.9402266728768826, 0.9401956217978575, 0.9261450085390468, 0.936686849868033, 0.9208818506443098, 0.9314236919732961, 0.9156342182890855, 0.9349169383636081, 0.9279149200434714, 0.9226672876882471, 0.9314236919732961, 0.9454277286135694, 0.8962428194379756, 0.9332091290172333, 0.9331625523986959, 0.9349324639031206, 0.9138487812451481, 0.8945194845520883, 0.9402421984163951, 0.9296693060083838, 0.6273560006210216, 0.936686849868033, 0.9349169383636081, 0.9314236919732961, 0.9226672876882471, 0.9314236919732961, 0.9261915851575842, 0.9296537804688713, 0.9331780779382084, 0.9384567613724576, 0.9314236919732961, 0.9261915851575843, 0.927899394503959, 0.9279149200434714, 0.9331780779382084, 0.9296382549293588, 0.9173730787144854, 0.9349169383636081, 0.9384412358329453, 0.936686849868033, 0.9296693060083838, 0.9384567613724576, 0.927930445582984, 0.9384257102934328, 0.9261450085390466, 0.9331470268591833, 0.9314081664337837, 0.9402111473373699, 0.9208973761838225, 0.9437199192671946, 0.9208818506443098, 0.9560006210215806, 0.9507374631268437]}, {\"categories\": [\"0\", \"1\", \"2\", \"3\", \"4\", \"5\", \"6\", \"7\", \"8\", \"9\", \"10\", \"11\", \"12\", \"13\", \"14\", \"15\", \"16\", \"17\", \"18\", \"19\", \"20\", \"21\", \"22\", \"23\", \"24\", \"25\", \"26\", \"27\", \"28\", \"29\", \"30\", \"31\", \"32\", \"33\", \"34\", \"35\", \"36\", \"37\", \"38\", \"39\", \"40\", \"41\", \"42\", \"43\", \"44\", \"45\", \"46\", \"47\", \"48\", \"49\", \"50\", \"51\", \"52\", \"53\", \"54\", \"55\", \"56\", \"57\"], \"mode\": \"lines\", \"name\": \"recall_score_weighted_max\", \"stepped\": true, \"type\": \"scatter\", \"data\": [0.947228691197019, 0.947228691197019, 0.947228691197019, 0.947228691197019, 0.947228691197019, 0.947228691197019, 0.947228691197019, 0.947228691197019, 0.947228691197019, 0.947228691197019, 0.947228691197019, 0.947228691197019, 0.947228691197019, 0.947228691197019, 0.947228691197019, 0.947228691197019, 0.947228691197019, 0.947228691197019, 0.947228691197019, 0.947228691197019, 0.947228691197019, 0.947228691197019, 0.947228691197019, 0.947228691197019, 0.947228691197019, 0.947228691197019, 0.947228691197019, 0.947228691197019, 0.947228691197019, 0.947228691197019, 0.947228691197019, 0.947228691197019, 0.947228691197019, 0.947228691197019, 0.947228691197019, 0.947228691197019, 0.947228691197019, 0.947228691197019, 0.947228691197019, 0.947228691197019, 0.947228691197019, 0.947228691197019, 0.947228691197019, 0.947228691197019, 0.947228691197019, 0.947228691197019, 0.947228691197019, 0.947228691197019, 0.947228691197019, 0.947228691197019, 0.947228691197019, 0.947228691197019, 0.947228691197019, 0.947228691197019, 0.947228691197019, 0.947228691197019, 0.9560006210215806, 0.9560006210215806]}], \"f1_score_macro\": [{\"categories\": [\"0\", \"1\", \"2\", \"3\", \"4\", \"5\", \"6\", \"7\", \"8\", \"9\", \"10\", \"11\", \"12\", \"13\", \"14\", \"15\", \"16\", \"17\", \"18\", \"19\", \"20\", \"21\", \"22\", \"23\", \"24\", \"25\", \"26\", \"27\", \"28\", \"29\", \"30\", \"31\", \"32\", \"33\", \"34\", \"35\", \"36\", \"37\", \"38\", \"39\", \"40\", \"41\", \"42\", \"43\", \"44\", \"45\", \"46\", \"47\", \"48\", \"49\", \"50\", \"51\", \"52\", \"53\", \"54\", \"55\", \"56\", \"57\"], \"mode\": \"markers\", \"name\": \"f1_score_macro\", \"stepped\": false, \"type\": \"scatter\", \"data\": [0.9431415382362021, 0.9388121768829363, 0.9297073436399348, 0.9213242572487148, 0.9209050004185858, 0.9351924763570695, 0.9352601157497962, 0.9201485063647953, 0.9314303860390817, 0.9146202725441801, 0.9255659538145722, 0.9078372416683091, 0.9296373088734317, 0.9225906237323283, 0.9154252526913412, 0.9260223020360969, 0.9418787345409857, 0.8871503870861843, 0.9274626205071408, 0.9273763791732733, 0.9302149031922253, 0.9073474651743988, 0.8793749614131583, 0.9352882785740458, 0.9242214718017214, 0.3853330691002781, 0.9315437093792187, 0.9301485023714731, 0.9248626533803102, 0.9168329943998259, 0.9264704021751816, 0.921431472348172, 0.9240524550980723, 0.9283621596442012, 0.9333715988032983, 0.9260394530842075, 0.919764552493303, 0.9221725688761586, 0.9221121302729653, 0.9272986027896515, 0.9246688534274854, 0.9124499229256917, 0.9295720133126519, 0.9334984729271518, 0.9315845769051523, 0.9236913934675914, 0.9335394152547852, 0.9214592105617339, 0.9335022618687698, 0.9205124589591541, 0.9281867930162268, 0.925843500330253, 0.9353399615532343, 0.9149701298252035, 0.9390872008348106, 0.9137896347625404, 0.9528334543115335, 0.9458598927945936]}, {\"categories\": [\"0\", \"1\", \"2\", \"3\", \"4\", \"5\", \"6\", \"7\", \"8\", \"9\", \"10\", \"11\", \"12\", \"13\", \"14\", \"15\", \"16\", \"17\", \"18\", \"19\", \"20\", \"21\", \"22\", \"23\", \"24\", \"25\", \"26\", \"27\", \"28\", \"29\", \"30\", \"31\", \"32\", \"33\", \"34\", \"35\", \"36\", \"37\", \"38\", \"39\", \"40\", \"41\", \"42\", \"43\", \"44\", \"45\", \"46\", \"47\", \"48\", \"49\", \"50\", \"51\", \"52\", \"53\", \"54\", \"55\", \"56\", \"57\"], \"mode\": \"lines\", \"name\": \"f1_score_macro_max\", \"stepped\": true, \"type\": \"scatter\", \"data\": [0.9431415382362021, 0.9431415382362021, 0.9431415382362021, 0.9431415382362021, 0.9431415382362021, 0.9431415382362021, 0.9431415382362021, 0.9431415382362021, 0.9431415382362021, 0.9431415382362021, 0.9431415382362021, 0.9431415382362021, 0.9431415382362021, 0.9431415382362021, 0.9431415382362021, 0.9431415382362021, 0.9431415382362021, 0.9431415382362021, 0.9431415382362021, 0.9431415382362021, 0.9431415382362021, 0.9431415382362021, 0.9431415382362021, 0.9431415382362021, 0.9431415382362021, 0.9431415382362021, 0.9431415382362021, 0.9431415382362021, 0.9431415382362021, 0.9431415382362021, 0.9431415382362021, 0.9431415382362021, 0.9431415382362021, 0.9431415382362021, 0.9431415382362021, 0.9431415382362021, 0.9431415382362021, 0.9431415382362021, 0.9431415382362021, 0.9431415382362021, 0.9431415382362021, 0.9431415382362021, 0.9431415382362021, 0.9431415382362021, 0.9431415382362021, 0.9431415382362021, 0.9431415382362021, 0.9431415382362021, 0.9431415382362021, 0.9431415382362021, 0.9431415382362021, 0.9431415382362021, 0.9431415382362021, 0.9431415382362021, 0.9431415382362021, 0.9431415382362021, 0.9528334543115335, 0.9528334543115335]}], \"matthews_correlation\": [{\"categories\": [\"0\", \"1\", \"2\", \"3\", \"4\", \"5\", \"6\", \"7\", \"8\", \"9\", \"10\", \"11\", \"12\", \"13\", \"14\", \"15\", \"16\", \"17\", \"18\", \"19\", \"20\", \"21\", \"22\", \"23\", \"24\", \"25\", \"26\", \"27\", \"28\", \"29\", \"30\", \"31\", \"32\", \"33\", \"34\", \"35\", \"36\", \"37\", \"38\", \"39\", \"40\", \"41\", \"42\", \"43\", \"44\", \"45\", \"46\", \"47\", \"48\", \"49\", \"50\", \"51\", \"52\", \"53\", \"54\", \"55\", \"56\", \"57\"], \"mode\": \"markers\", \"name\": \"matthews_correlation\", \"stepped\": false, \"type\": \"scatter\", \"data\": [0.8866993268925161, 0.8789747056615331, 0.8601104946848229, 0.8439467025766042, 0.8425306300442441, 0.8709322740156743, 0.8713582874813628, 0.8410372500105803, 0.8637633832065695, 0.8303632919134643, 0.8523218336624196, 0.8179664401235787, 0.860317684770765, 0.8455380942843045, 0.8322251346647068, 0.8524157630463847, 0.8841594498608091, 0.7788930311814359, 0.855521666877015, 0.8558187207334906, 0.8606669929529825, 0.8165137637501925, 0.7826408514317771, 0.872641383408969, 0.8490362143741234, 0.0, 0.8644544023902891, 0.8609271319703694, 0.8512182414510054, 0.8348229091150184, 0.853441433151118, 0.8454088903954837, 0.8492161490494476, 0.8573626039734485, 0.867492216534081, 0.8523691147075938, 0.8406549325086733, 0.8461374407795251, 0.8445249896291829, 0.8559846682166494, 0.849405301668585, 0.8287478373244049, 0.8597856759518256, 0.8677345754751385, 0.864155505962693, 0.8486110948752943, 0.8675786304401866, 0.8438134151137648, 0.8675095881023912, 0.8422989619238009, 0.8567209254993824, 0.8527668059004286, 0.8719168452427196, 0.8309992406324863, 0.8789972422624202, 0.8321898878950901, 0.9060686062527346, 0.8944795503426282]}, {\"categories\": [\"0\", \"1\", \"2\", \"3\", \"4\", \"5\", \"6\", \"7\", \"8\", \"9\", \"10\", \"11\", \"12\", \"13\", \"14\", \"15\", \"16\", \"17\", \"18\", \"19\", \"20\", \"21\", \"22\", \"23\", \"24\", \"25\", \"26\", \"27\", \"28\", \"29\", \"30\", \"31\", \"32\", \"33\", \"34\", \"35\", \"36\", \"37\", \"38\", \"39\", \"40\", \"41\", \"42\", \"43\", \"44\", \"45\", \"46\", \"47\", \"48\", \"49\", \"50\", \"51\", \"52\", \"53\", \"54\", \"55\", \"56\", \"57\"], \"mode\": \"lines\", \"name\": \"matthews_correlation_max\", \"stepped\": true, \"type\": \"scatter\", \"data\": [0.8866993268925161, 0.8866993268925161, 0.8866993268925161, 0.8866993268925161, 0.8866993268925161, 0.8866993268925161, 0.8866993268925161, 0.8866993268925161, 0.8866993268925161, 0.8866993268925161, 0.8866993268925161, 0.8866993268925161, 0.8866993268925161, 0.8866993268925161, 0.8866993268925161, 0.8866993268925161, 0.8866993268925161, 0.8866993268925161, 0.8866993268925161, 0.8866993268925161, 0.8866993268925161, 0.8866993268925161, 0.8866993268925161, 0.8866993268925161, 0.8866993268925161, 0.8866993268925161, 0.8866993268925161, 0.8866993268925161, 0.8866993268925161, 0.8866993268925161, 0.8866993268925161, 0.8866993268925161, 0.8866993268925161, 0.8866993268925161, 0.8866993268925161, 0.8866993268925161, 0.8866993268925161, 0.8866993268925161, 0.8866993268925161, 0.8866993268925161, 0.8866993268925161, 0.8866993268925161, 0.8866993268925161, 0.8866993268925161, 0.8866993268925161, 0.8866993268925161, 0.8866993268925161, 0.8866993268925161, 0.8866993268925161, 0.8866993268925161, 0.8866993268925161, 0.8866993268925161, 0.8866993268925161, 0.8866993268925161, 0.8866993268925161, 0.8866993268925161, 0.9060686062527346, 0.9060686062527346]}], \"average_precision_score_micro\": [{\"categories\": [\"0\", \"1\", \"2\", \"3\", \"4\", \"5\", \"6\", \"7\", \"8\", \"9\", \"10\", \"11\", \"12\", \"13\", \"14\", \"15\", \"16\", \"17\", \"18\", \"19\", \"20\", \"21\", \"22\", \"23\", \"24\", \"25\", \"26\", \"27\", \"28\", \"29\", \"30\", \"31\", \"32\", \"33\", \"34\", \"35\", \"36\", \"37\", \"38\", \"39\", \"40\", \"41\", \"42\", \"43\", \"44\", \"45\", \"46\", \"47\", \"48\", \"49\", \"50\", \"51\", \"52\", \"53\", \"54\", \"55\", \"56\", \"57\"], \"mode\": \"markers\", \"name\": \"average_precision_score_micro\", \"stepped\": false, \"type\": \"scatter\", \"data\": [0.9890383410185679, 0.9885636389105649, 0.9794439962581635, 0.9820375322014183, 0.9818238874716979, 0.9836657731977716, 0.985373396796555, 0.9823018333976685, 0.9796346326423262, 0.977977235379943, 0.983998374263247, 0.9787597865200797, 0.986801340590382, 0.9747823495608742, 0.9799575657944768, 0.9879361774772193, 0.989344360277722, 0.9444259675702833, 0.9808096580746648, 0.984346383110501, 0.9859254945818836, 0.9774749101069602, 0.9624277740758256, 0.9860970824322507, 0.9854093414943182, 0.8730828385535542, 0.9836971447881713, 0.9776479128965517, 0.9847946026528271, 0.9778366717792079, 0.9855724439188517, 0.9815322980843666, 0.9825745387806515, 0.9787042926731457, 0.9839169576439211, 0.9867589196771901, 0.9840607779188542, 0.9768038747515881, 0.9782585188271105, 0.9831267581813667, 0.9841313626570131, 0.9777618203873384, 0.9860066471201032, 0.9794223308221627, 0.9851047074665715, 0.9843135182752185, 0.9841066275855208, 0.9772636196312895, 0.9875078988996819, 0.9666548048048454, 0.9856607633031272, 0.9823227021302813, 0.9857033297596669, 0.9839857201463819, 0.9859186488613378, 0.9778376129429116, 0.9902299039835851, 0.9815590682929436]}, {\"categories\": [\"0\", \"1\", \"2\", \"3\", \"4\", \"5\", \"6\", \"7\", \"8\", \"9\", \"10\", \"11\", \"12\", \"13\", \"14\", \"15\", \"16\", \"17\", \"18\", \"19\", \"20\", \"21\", \"22\", \"23\", \"24\", \"25\", \"26\", \"27\", \"28\", \"29\", \"30\", \"31\", \"32\", \"33\", \"34\", \"35\", \"36\", \"37\", \"38\", \"39\", \"40\", \"41\", \"42\", \"43\", \"44\", \"45\", \"46\", \"47\", \"48\", \"49\", \"50\", \"51\", \"52\", \"53\", \"54\", \"55\", \"56\", \"57\"], \"mode\": \"lines\", \"name\": \"average_precision_score_micro_max\", \"stepped\": true, \"type\": \"scatter\", \"data\": [0.9890383410185679, 0.9890383410185679, 0.9890383410185679, 0.9890383410185679, 0.9890383410185679, 0.9890383410185679, 0.9890383410185679, 0.9890383410185679, 0.9890383410185679, 0.9890383410185679, 0.9890383410185679, 0.9890383410185679, 0.9890383410185679, 0.9890383410185679, 0.9890383410185679, 0.9890383410185679, 0.989344360277722, 0.989344360277722, 0.989344360277722, 0.989344360277722, 0.989344360277722, 0.989344360277722, 0.989344360277722, 0.989344360277722, 0.989344360277722, 0.989344360277722, 0.989344360277722, 0.989344360277722, 0.989344360277722, 0.989344360277722, 0.989344360277722, 0.989344360277722, 0.989344360277722, 0.989344360277722, 0.989344360277722, 0.989344360277722, 0.989344360277722, 0.989344360277722, 0.989344360277722, 0.989344360277722, 0.989344360277722, 0.989344360277722, 0.989344360277722, 0.989344360277722, 0.989344360277722, 0.989344360277722, 0.989344360277722, 0.989344360277722, 0.989344360277722, 0.989344360277722, 0.989344360277722, 0.989344360277722, 0.989344360277722, 0.989344360277722, 0.989344360277722, 0.989344360277722, 0.9902299039835851, 0.9902299039835851]}], \"precision_score_micro\": [{\"categories\": [\"0\", \"1\", \"2\", \"3\", \"4\", \"5\", \"6\", \"7\", \"8\", \"9\", \"10\", \"11\", \"12\", \"13\", \"14\", \"15\", \"16\", \"17\", \"18\", \"19\", \"20\", \"21\", \"22\", \"23\", \"24\", \"25\", \"26\", \"27\", \"28\", \"29\", \"30\", \"31\", \"32\", \"33\", \"34\", \"35\", \"36\", \"37\", \"38\", \"39\", \"40\", \"41\", \"42\", \"43\", \"44\", \"45\", \"46\", \"47\", \"48\", \"49\", \"50\", \"51\", \"52\", \"53\", \"54\", \"55\", \"56\", \"57\"], \"mode\": \"markers\", \"name\": \"precision_score_micro\", \"stepped\": false, \"type\": \"scatter\", \"data\": [0.947228691197019, 0.9437043937276821, 0.9349635149821456, 0.9279459711224964, 0.9261605340785592, 0.9402266728768826, 0.9401956217978575, 0.9261450085390468, 0.936686849868033, 0.9208818506443098, 0.9314236919732961, 0.9156342182890855, 0.9349169383636081, 0.9279149200434714, 0.9226672876882471, 0.9314236919732961, 0.9454277286135694, 0.8962428194379756, 0.9332091290172333, 0.9331625523986959, 0.9349324639031206, 0.9138487812451481, 0.8945194845520883, 0.9402421984163951, 0.9296693060083838, 0.6273560006210216, 0.936686849868033, 0.9349169383636081, 0.9314236919732961, 0.9226672876882471, 0.9314236919732961, 0.9261915851575842, 0.9296537804688713, 0.9331780779382084, 0.9384567613724576, 0.9314236919732961, 0.9261915851575843, 0.927899394503959, 0.9279149200434714, 0.9331780779382084, 0.9296382549293588, 0.9173730787144854, 0.9349169383636081, 0.9384412358329453, 0.936686849868033, 0.9296693060083838, 0.9384567613724576, 0.927930445582984, 0.9384257102934328, 0.9261450085390466, 0.9331470268591833, 0.9314081664337837, 0.9402111473373699, 0.9208973761838225, 0.9437199192671946, 0.9208818506443098, 0.9560006210215806, 0.9507374631268437]}, {\"categories\": [\"0\", \"1\", \"2\", \"3\", \"4\", \"5\", \"6\", \"7\", \"8\", \"9\", \"10\", \"11\", \"12\", \"13\", \"14\", \"15\", \"16\", \"17\", \"18\", \"19\", \"20\", \"21\", \"22\", \"23\", \"24\", \"25\", \"26\", \"27\", \"28\", \"29\", \"30\", \"31\", \"32\", \"33\", \"34\", \"35\", \"36\", \"37\", \"38\", \"39\", \"40\", \"41\", \"42\", \"43\", \"44\", \"45\", \"46\", \"47\", \"48\", \"49\", \"50\", \"51\", \"52\", \"53\", \"54\", \"55\", \"56\", \"57\"], \"mode\": \"lines\", \"name\": \"precision_score_micro_max\", \"stepped\": true, \"type\": \"scatter\", \"data\": [0.947228691197019, 0.947228691197019, 0.947228691197019, 0.947228691197019, 0.947228691197019, 0.947228691197019, 0.947228691197019, 0.947228691197019, 0.947228691197019, 0.947228691197019, 0.947228691197019, 0.947228691197019, 0.947228691197019, 0.947228691197019, 0.947228691197019, 0.947228691197019, 0.947228691197019, 0.947228691197019, 0.947228691197019, 0.947228691197019, 0.947228691197019, 0.947228691197019, 0.947228691197019, 0.947228691197019, 0.947228691197019, 0.947228691197019, 0.947228691197019, 0.947228691197019, 0.947228691197019, 0.947228691197019, 0.947228691197019, 0.947228691197019, 0.947228691197019, 0.947228691197019, 0.947228691197019, 0.947228691197019, 0.947228691197019, 0.947228691197019, 0.947228691197019, 0.947228691197019, 0.947228691197019, 0.947228691197019, 0.947228691197019, 0.947228691197019, 0.947228691197019, 0.947228691197019, 0.947228691197019, 0.947228691197019, 0.947228691197019, 0.947228691197019, 0.947228691197019, 0.947228691197019, 0.947228691197019, 0.947228691197019, 0.947228691197019, 0.947228691197019, 0.9560006210215806, 0.9560006210215806]}], \"precision_score_macro\": [{\"categories\": [\"0\", \"1\", \"2\", \"3\", \"4\", \"5\", \"6\", \"7\", \"8\", \"9\", \"10\", \"11\", \"12\", \"13\", \"14\", \"15\", \"16\", \"17\", \"18\", \"19\", \"20\", \"21\", \"22\", \"23\", \"24\", \"25\", \"26\", \"27\", \"28\", \"29\", \"30\", \"31\", \"32\", \"33\", \"34\", \"35\", \"36\", \"37\", \"38\", \"39\", \"40\", \"41\", \"42\", \"43\", \"44\", \"45\", \"46\", \"47\", \"48\", \"49\", \"50\", \"51\", \"52\", \"53\", \"54\", \"55\", \"56\", \"57\"], \"mode\": \"markers\", \"name\": \"precision_score_macro\", \"stepped\": false, \"type\": \"scatter\", \"data\": [0.9463624725308666, 0.9448256332558085, 0.9299584937519072, 0.9258230130488782, 0.9191652910435554, 0.939117529813182, 0.9380856478597248, 0.9222591315136454, 0.9340435552575294, 0.9169381271064256, 0.9305006515089833, 0.9143265180852094, 0.9318822695549038, 0.9212624362753316, 0.9203428470100595, 0.9275617229572453, 0.9437780504831121, 0.8958875935916117, 0.9295955113841019, 0.9306107272950443, 0.9307877460729284, 0.9090963740050546, 0.9219510349843352, 0.9396871221871222, 0.9238925832060622, 0.3136780003105108, 0.9346994423340952, 0.9304044439657165, 0.9314286091680763, 0.9166177519653497, 0.9259843205320168, 0.9185678563199327, 0.9257465673617112, 0.9303470706615389, 0.9346649474556452, 0.9281210995900283, 0.922031942466725, 0.9248654977699958, 0.9226346822539606, 0.9314733721924234, 0.9256011205108088, 0.9086389409508765, 0.9313484031972387, 0.9346174532158666, 0.9329382517208605, 0.9271843128272443, 0.9334800367314685, 0.9249074483259759, 0.9343224303104503, 0.9222167293630708, 0.9303654728600081, 0.9278256181544364, 0.9382476093451704, 0.9140429829738619, 0.9416173899677736, 0.9247582170756387, 0.9547096881176165, 0.9560883634492401]}, {\"categories\": [\"0\", \"1\", \"2\", \"3\", \"4\", \"5\", \"6\", \"7\", \"8\", \"9\", \"10\", \"11\", \"12\", \"13\", \"14\", \"15\", \"16\", \"17\", \"18\", \"19\", \"20\", \"21\", \"22\", \"23\", \"24\", \"25\", \"26\", \"27\", \"28\", \"29\", \"30\", \"31\", \"32\", \"33\", \"34\", \"35\", \"36\", \"37\", \"38\", \"39\", \"40\", \"41\", \"42\", \"43\", \"44\", \"45\", \"46\", \"47\", \"48\", \"49\", \"50\", \"51\", \"52\", \"53\", \"54\", \"55\", \"56\", \"57\"], \"mode\": \"lines\", \"name\": \"precision_score_macro_max\", \"stepped\": true, \"type\": \"scatter\", \"data\": [0.9463624725308666, 0.9463624725308666, 0.9463624725308666, 0.9463624725308666, 0.9463624725308666, 0.9463624725308666, 0.9463624725308666, 0.9463624725308666, 0.9463624725308666, 0.9463624725308666, 0.9463624725308666, 0.9463624725308666, 0.9463624725308666, 0.9463624725308666, 0.9463624725308666, 0.9463624725308666, 0.9463624725308666, 0.9463624725308666, 0.9463624725308666, 0.9463624725308666, 0.9463624725308666, 0.9463624725308666, 0.9463624725308666, 0.9463624725308666, 0.9463624725308666, 0.9463624725308666, 0.9463624725308666, 0.9463624725308666, 0.9463624725308666, 0.9463624725308666, 0.9463624725308666, 0.9463624725308666, 0.9463624725308666, 0.9463624725308666, 0.9463624725308666, 0.9463624725308666, 0.9463624725308666, 0.9463624725308666, 0.9463624725308666, 0.9463624725308666, 0.9463624725308666, 0.9463624725308666, 0.9463624725308666, 0.9463624725308666, 0.9463624725308666, 0.9463624725308666, 0.9463624725308666, 0.9463624725308666, 0.9463624725308666, 0.9463624725308666, 0.9463624725308666, 0.9463624725308666, 0.9463624725308666, 0.9463624725308666, 0.9463624725308666, 0.9463624725308666, 0.9547096881176165, 0.9560883634492401]}]}, \"metricName\": null, \"primaryMetricName\": \"accuracy\", \"showLegend\": false}, \"run_metrics\": [{\"name\": \"AUC_macro\", \"run_id\": \"AutoML_749f6e53-0471-4c90-be45-05db93f30f23\", \"categories\": [0], \"series\": [{\"data\": [0.9892923170086185]}]}, {\"name\": \"log_loss\", \"run_id\": \"AutoML_749f6e53-0471-4c90-be45-05db93f30f23\", \"categories\": [0], \"series\": [{\"data\": [0.1599926718139313]}]}, {\"name\": \"f1_score_macro\", \"run_id\": \"AutoML_749f6e53-0471-4c90-be45-05db93f30f23\", \"categories\": [0], \"series\": [{\"data\": [0.9528334543115335]}]}, {\"name\": \"f1_score_micro\", \"run_id\": \"AutoML_749f6e53-0471-4c90-be45-05db93f30f23\", \"categories\": [0], \"series\": [{\"data\": [0.9560006210215806]}]}, {\"name\": \"average_precision_score_macro\", \"run_id\": \"AutoML_749f6e53-0471-4c90-be45-05db93f30f23\", \"categories\": [0], \"series\": [{\"data\": [0.9892476128516868]}]}, {\"name\": \"matthews_correlation\", \"run_id\": \"AutoML_749f6e53-0471-4c90-be45-05db93f30f23\", \"categories\": [0], \"series\": [{\"data\": [0.9060686062527346]}]}, {\"name\": \"precision_score_macro\", \"run_id\": \"AutoML_749f6e53-0471-4c90-be45-05db93f30f23\", \"categories\": [0], \"series\": [{\"data\": [0.9547096881176165]}]}, {\"name\": \"average_precision_score_weighted\", \"run_id\": \"AutoML_749f6e53-0471-4c90-be45-05db93f30f23\", \"categories\": [0], \"series\": [{\"data\": [0.9901614502530471]}]}, {\"name\": \"f1_score_weighted\", \"run_id\": \"AutoML_749f6e53-0471-4c90-be45-05db93f30f23\", \"categories\": [0], \"series\": [{\"data\": [0.9558962126409931]}]}, {\"name\": \"weighted_accuracy\", \"run_id\": \"AutoML_749f6e53-0471-4c90-be45-05db93f30f23\", \"categories\": [0], \"series\": [{\"data\": [0.9599102265926496]}]}, {\"name\": \"precision_score_weighted\", \"run_id\": \"AutoML_749f6e53-0471-4c90-be45-05db93f30f23\", \"categories\": [0], \"series\": [{\"data\": [0.9561563185260409]}]}, {\"name\": \"precision_score_micro\", \"run_id\": \"AutoML_749f6e53-0471-4c90-be45-05db93f30f23\", \"categories\": [0], \"series\": [{\"data\": [0.9560006210215806]}]}, {\"name\": \"balanced_accuracy\", \"run_id\": \"AutoML_749f6e53-0471-4c90-be45-05db93f30f23\", \"categories\": [0], \"series\": [{\"data\": [0.9514000862612452]}]}, {\"name\": \"AUC_weighted\", \"run_id\": \"AutoML_749f6e53-0471-4c90-be45-05db93f30f23\", \"categories\": [0], \"series\": [{\"data\": [0.9892923170086185]}]}, {\"name\": \"norm_macro_recall\", \"run_id\": \"AutoML_749f6e53-0471-4c90-be45-05db93f30f23\", \"categories\": [0], \"series\": [{\"data\": [0.9028001725224902]}]}, {\"name\": \"AUC_micro\", \"run_id\": \"AutoML_749f6e53-0471-4c90-be45-05db93f30f23\", \"categories\": [0], \"series\": [{\"data\": [0.9899387176270746]}]}, {\"name\": \"recall_score_macro\", \"run_id\": \"AutoML_749f6e53-0471-4c90-be45-05db93f30f23\", \"categories\": [0], \"series\": [{\"data\": [0.9514000862612452]}]}, {\"name\": \"average_precision_score_micro\", \"run_id\": \"AutoML_749f6e53-0471-4c90-be45-05db93f30f23\", \"categories\": [0], \"series\": [{\"data\": [0.9902299039835851]}]}, {\"name\": \"recall_score_weighted\", \"run_id\": \"AutoML_749f6e53-0471-4c90-be45-05db93f30f23\", \"categories\": [0], \"series\": [{\"data\": [0.9560006210215806]}]}, {\"name\": \"accuracy\", \"run_id\": \"AutoML_749f6e53-0471-4c90-be45-05db93f30f23\", \"categories\": [0], \"series\": [{\"data\": [0.9560006210215806]}]}, {\"name\": \"recall_score_micro\", \"run_id\": \"AutoML_749f6e53-0471-4c90-be45-05db93f30f23\", \"categories\": [0], \"series\": [{\"data\": [0.9560006210215806]}]}], \"run_logs\": \"\\nRun is completed.\", \"graph\": {}, \"widget_settings\": {\"childWidgetDisplay\": \"popup\", \"send_telemetry\": false, \"log_level\": \"INFO\", \"sdk_version\": \"1.20.0\"}, \"loading\": false}"
          },
          "metadata": {}
        }
      ],
      "execution_count": 13,
      "metadata": {
        "gather": {
          "logged": 1612159970682
        },
        "jupyter": {
          "outputs_hidden": false,
          "source_hidden": false
        },
        "nteract": {
          "transient": {
            "deleting": false
          }
        }
      }
    },
    {
      "cell_type": "markdown",
      "source": [
        "## Best Model\n",
        "\n",
        "TODO: In the cell below, get the best model from the automl experiments and display all the properties of the model.\n",
        "\n"
      ],
      "metadata": {}
    },
    {
      "cell_type": "code",
      "source": [
        "best_run, fitted_model = remote_run.get_output()\r\n",
        "print('Best-run model: ',best_run)\r\n",
        "print('\\n fitted model: ',fitted_model)"
      ],
      "outputs": [
        {
          "output_type": "stream",
          "name": "stdout",
          "text": [
            "Best-run model:  Run(Experiment: udacity-capstone,\n",
            "Id: AutoML_749f6e53-0471-4c90-be45-05db93f30f23_56,\n",
            "Type: None,\n",
            "Status: Completed)\n",
            "\n",
            " fitted model:  Pipeline(memory=None,\n",
            "         steps=[('datatransformer',\n",
            "                 DataTransformer(enable_dnn=None, enable_feature_sweeping=None,\n",
            "                                 feature_sweeping_config=None,\n",
            "                                 feature_sweeping_timeout=None,\n",
            "                                 featurization_config=None, force_text_dnn=None,\n",
            "                                 is_cross_validation=None,\n",
            "                                 is_onnx_compatible=None, logger=None,\n",
            "                                 observer=None, task=None, working_dir=None)),\n",
            "                ('prefittedsoftvotingclassifier',...\n",
            "                                                                                                  min_samples_split=0.01,\n",
            "                                                                                                  min_weight_fraction_leaf=0.0,\n",
            "                                                                                                  n_estimators=200,\n",
            "                                                                                                  n_jobs=1,\n",
            "                                                                                                  oob_score=False,\n",
            "                                                                                                  random_state=None,\n",
            "                                                                                                  verbose=0,\n",
            "                                                                                                  warm_start=False))],\n",
            "                                                                     verbose=False))],\n",
            "                                               flatten_transform=None,\n",
            "                                               weights=[0.18181818181818182,\n",
            "                                                        0.18181818181818182,\n",
            "                                                        0.09090909090909091,\n",
            "                                                        0.09090909090909091,\n",
            "                                                        0.09090909090909091,\n",
            "                                                        0.18181818181818182,\n",
            "                                                        0.09090909090909091,\n",
            "                                                        0.09090909090909091]))],\n",
            "         verbose=False)\n"
          ]
        }
      ],
      "execution_count": 14,
      "metadata": {
        "gather": {
          "logged": 1612159977180
        },
        "jupyter": {
          "outputs_hidden": false,
          "source_hidden": false
        },
        "nteract": {
          "transient": {
            "deleting": false
          }
        }
      }
    },
    {
      "cell_type": "code",
      "source": [
        "#TODO: Save the best model\r\n",
        "import joblib\r\n",
        "joblib.dump(fitted_model,\"best_model.pkl\")"
      ],
      "outputs": [
        {
          "output_type": "execute_result",
          "execution_count": 15,
          "data": {
            "text/plain": "['best_model.pkl']",
            "text/html": "['best_model.pkl']"
          },
          "metadata": {}
        }
      ],
      "execution_count": 15,
      "metadata": {
        "gather": {
          "logged": 1612159983670
        },
        "jupyter": {
          "outputs_hidden": false,
          "source_hidden": false
        },
        "nteract": {
          "transient": {
            "deleting": false
          }
        }
      }
    },
    {
      "cell_type": "markdown",
      "source": [
        "## Model Deployment\n",
        "\n",
        "Remember you have to deploy only one of the two models you trained.. Perform the steps in the rest of this notebook only if you wish to deploy this model.\n",
        "\n",
        "TODO: In the cell below, register the model, create an inference config and deploy the model as a web service."
      ],
      "metadata": {}
    },
    {
      "cell_type": "code",
      "source": [
        "automl_model =remote_run.register_model(model_name = 'automl_best_model')"
      ],
      "outputs": [],
      "execution_count": 16,
      "metadata": {
        "collapsed": true,
        "jupyter": {
          "source_hidden": false,
          "outputs_hidden": false
        },
        "nteract": {
          "transient": {
            "deleting": false
          }
        },
        "gather": {
          "logged": 1612159986983
        }
      }
    },
    {
      "cell_type": "code",
      "source": [
        "script_file_name ='score.py'\r\n",
        "best_run.download_file('outputs/scoring_file_v_1_0_0.py','score.py')\r\n",
        "env=Environment.get(workspace=ws,name=\"AzureML-AutoML\")"
      ],
      "outputs": [],
      "execution_count": 17,
      "metadata": {
        "collapsed": true,
        "jupyter": {
          "source_hidden": false,
          "outputs_hidden": false
        },
        "nteract": {
          "transient": {
            "deleting": false
          }
        },
        "gather": {
          "logged": 1612159988101
        }
      }
    },
    {
      "cell_type": "code",
      "source": [
        "inference_config = InferenceConfig(entry_script=script_file_name, environment=env)"
      ],
      "outputs": [],
      "execution_count": 18,
      "metadata": {
        "collapsed": true,
        "jupyter": {
          "source_hidden": false,
          "outputs_hidden": false
        },
        "nteract": {
          "transient": {
            "deleting": false
          }
        },
        "gather": {
          "logged": 1612159990809
        }
      }
    },
    {
      "cell_type": "code",
      "source": [
        "from azureml.core.model import Model\r\n",
        "import joblib\r\n",
        "model = Model.register(workspace=ws, model_path=\"best_model.pkl\", model_name=\"automl-test-model\")"
      ],
      "outputs": [
        {
          "output_type": "stream",
          "name": "stdout",
          "text": [
            "Registering model automl-test-model\n"
          ]
        }
      ],
      "execution_count": 20,
      "metadata": {
        "gather": {
          "logged": 1612160000797
        },
        "jupyter": {
          "outputs_hidden": false,
          "source_hidden": false
        },
        "nteract": {
          "transient": {
            "deleting": false
          }
        }
      }
    },
    {
      "cell_type": "code",
      "source": [
        "from azureml.core import Workspace, Environment\r\n",
        "\r\n",
        "ws = Workspace.from_config()\r\n",
        "env = Environment.get(workspace=ws, name=\"AzureML-Minimal\")"
      ],
      "outputs": [],
      "execution_count": 21,
      "metadata": {
        "collapsed": true,
        "jupyter": {
          "source_hidden": false,
          "outputs_hidden": false
        },
        "nteract": {
          "transient": {
            "deleting": false
          }
        },
        "gather": {
          "logged": 1612160003708
        }
      }
    },
    {
      "cell_type": "code",
      "source": [
        "\r\n",
        "\r\n",
        "aci_config = AciWebservice.deploy_configuration(cpu_cores = 1, memory_gb = 1)\r\n",
        "\r\n",
        "aci_service_name = 'automl-cancer'\r\n",
        "print(aci_service_name)"
      ],
      "outputs": [
        {
          "output_type": "stream",
          "name": "stdout",
          "text": [
            "automl-cancer\n"
          ]
        }
      ],
      "execution_count": 22,
      "metadata": {
        "collapsed": true,
        "jupyter": {
          "source_hidden": false,
          "outputs_hidden": false
        },
        "nteract": {
          "transient": {
            "deleting": false
          }
        },
        "gather": {
          "logged": 1612160004952
        }
      }
    },
    {
      "cell_type": "code",
      "source": [
        "from azureml.core.model import InferenceConfig\r\n",
        "from azureml.core.webservice import AciWebservice\r\n",
        "\r\n",
        "\r\n",
        "\r\n",
        "service_name = 'custom-env-service'\r\n",
        "\r\n",
        "\r\n",
        "\r\n",
        "service = Model.deploy(workspace=ws,\r\n",
        "                       name=service_name,\r\n",
        "                       models=[automl_model],\r\n",
        "                       inference_config=inference_config,\r\n",
        "                       deployment_config=aci_config,\r\n",
        "                       overwrite=True)\r\n",
        "service.wait_for_deployment(show_output=True)"
      ],
      "outputs": [
        {
          "output_type": "stream",
          "name": "stdout",
          "text": [
            "Tips: You can try get_logs(): https://aka.ms/debugimage#dockerlog or local deployment: https://aka.ms/debugimage#debug-locally to debug if deployment takes longer than 10 minutes.\n",
            "Running..............................................\n",
            "Succeeded\n",
            "ACI service creation operation finished, operation \"Succeeded\"\n"
          ]
        }
      ],
      "execution_count": 23,
      "metadata": {
        "collapsed": true,
        "jupyter": {
          "source_hidden": false,
          "outputs_hidden": false
        },
        "nteract": {
          "transient": {
            "deleting": false
          }
        },
        "gather": {
          "logged": 1612160245207
        }
      }
    },
    {
      "cell_type": "code",
      "source": [
        "\r\n",
        "print(\"Scoring uri:\" , service.scoring_uri)"
      ],
      "outputs": [
        {
          "output_type": "stream",
          "name": "stdout",
          "text": [
            "Scoring uri: http://653b647c-cacf-4b6b-839e-86a815e7771e.southcentralus.azurecontainer.io/score\n"
          ]
        }
      ],
      "execution_count": 24,
      "metadata": {
        "collapsed": true,
        "jupyter": {
          "source_hidden": false,
          "outputs_hidden": false
        },
        "nteract": {
          "transient": {
            "deleting": false
          }
        },
        "gather": {
          "logged": 1612160347710
        }
      }
    },
    {
      "cell_type": "markdown",
      "source": [
        "TODO: In the cell below, send a request to the web service you deployed to test it."
      ],
      "metadata": {
        "collapsed": true,
        "gather": {
          "logged": 1598431657736
        },
        "jupyter": {
          "outputs_hidden": false,
          "source_hidden": false
        },
        "nteract": {
          "transient": {
            "deleting": false
          }
        }
      }
    },
    {
      "cell_type": "code",
      "source": [
        "scoring_uri = 'http://653b647c-cacf-4b6b-839e-86a815e7771e.southcentralus.azurecontainer.io/score'\r\n",
        "headers = {'Content-Type':'application/json'}\r\n",
        "\r\n",
        "input_data = json.dumps({'data':[{\r\n",
        "    \t\t\t\t\t\t\t\t\r\n",
        "    'radius_mean':17.99,\r\n",
        "    'texture_mean':10.38,\r\n",
        "    'perimeter_mean':122.80,\t\r\n",
        "    'area_mean':1001.00,\t\r\n",
        "    'smoothness_mean':0.12,\t\r\n",
        "    'compactness_mean':0.28,\r\n",
        "    'concavity_mean':0.30,\t\r\n",
        "    'concave points_mean':0.15\t\r\n",
        "    }\r\n",
        "    ]\r\n",
        "        })\r\n",
        "response = requests.post(scoring_uri, data=input_data, headers=headers)\r\n",
        "\r\n",
        "print(\"Result:\",response.text)"
      ],
      "outputs": [
        {
          "output_type": "stream",
          "name": "stdout",
          "text": [
            "Result: \"{\\\"result\\\": [1]}\"\n"
          ]
        }
      ],
      "execution_count": 25,
      "metadata": {
        "gather": {
          "logged": 1612160364951
        },
        "jupyter": {
          "outputs_hidden": false,
          "source_hidden": false
        },
        "nteract": {
          "transient": {
            "deleting": false
          }
        }
      }
    },
    {
      "cell_type": "markdown",
      "source": [
        "TODO: In the cell below, print the logs of the web service and delete the service"
      ],
      "metadata": {
        "collapsed": true,
        "gather": {
          "logged": 1598432765711
        },
        "jupyter": {
          "outputs_hidden": false,
          "source_hidden": false
        },
        "nteract": {
          "transient": {
            "deleting": false
          }
        }
      }
    },
    {
      "cell_type": "code",
      "source": [
        "print(service.get_logs())"
      ],
      "outputs": [
        {
          "output_type": "stream",
          "name": "stdout",
          "text": [
            "2021-01-30T14:26:42,218472904+00:00 - iot-server/run \n",
            "2021-01-30T14:26:42,220589920+00:00 - rsyslog/run \n",
            "2021-01-30T14:26:42,220615920+00:00 - gunicorn/run \n",
            "2021-01-30T14:26:42,221779129+00:00 - nginx/run \n",
            "/usr/sbin/nginx: /azureml-envs/azureml_7ade26eb614f97df8030bc480da59236/lib/libcrypto.so.1.0.0: no version information available (required by /usr/sbin/nginx)\n",
            "/usr/sbin/nginx: /azureml-envs/azureml_7ade26eb614f97df8030bc480da59236/lib/libcrypto.so.1.0.0: no version information available (required by /usr/sbin/nginx)\n",
            "/usr/sbin/nginx: /azureml-envs/azureml_7ade26eb614f97df8030bc480da59236/lib/libssl.so.1.0.0: no version information available (required by /usr/sbin/nginx)\n",
            "/usr/sbin/nginx: /azureml-envs/azureml_7ade26eb614f97df8030bc480da59236/lib/libssl.so.1.0.0: no version information available (required by /usr/sbin/nginx)\n",
            "/usr/sbin/nginx: /azureml-envs/azureml_7ade26eb614f97df8030bc480da59236/lib/libssl.so.1.0.0: no version information available (required by /usr/sbin/nginx)\n",
            "rsyslogd: /azureml-envs/azureml_7ade26eb614f97df8030bc480da59236/lib/libuuid.so.1: no version information available (required by rsyslogd)\n",
            "EdgeHubConnectionString and IOTEDGE_IOTHUBHOSTNAME are not set. Exiting...\n",
            "2021-01-30T14:26:42,345350141+00:00 - iot-server/finish 1 0\n",
            "2021-01-30T14:26:42,346746652+00:00 - Exit code 1 is normal. Not restarting iot-server.\n",
            "Starting gunicorn 19.9.0\n",
            "Listening at: http://127.0.0.1:31311 (11)\n",
            "Using worker: sync\n",
            "worker timeout is set to 300\n",
            "Booting worker with pid: 41\n",
            "SPARK_HOME not set. Skipping PySpark Initialization.\n",
            "Generating new fontManager, this may take some time...\n",
            "Initializing logger\n",
            "2021-01-30 14:26:43,485 | root | INFO | Starting up app insights client\n",
            "2021-01-30 14:26:43,485 | root | INFO | Starting up request id generator\n",
            "2021-01-30 14:26:43,486 | root | INFO | Starting up app insight hooks\n",
            "2021-01-30 14:26:43,486 | root | INFO | Invoking user's init function\n",
            "2021-01-30 14:26:45,813 | root | INFO | Users's init has completed successfully\n",
            "2021-01-30 14:26:45,818 | root | INFO | Skipping middleware: dbg_model_info as it's not enabled.\n",
            "2021-01-30 14:26:45,818 | root | INFO | Skipping middleware: dbg_resource_usage as it's not enabled.\n",
            "2021-01-30 14:26:45,820 | root | INFO | Scoring timeout is found from os.environ: 60000 ms\n",
            "2021-01-30 14:26:47,690 | root | INFO | 200\n",
            "127.0.0.1 - - [30/Jan/2021:14:26:47 +0000] \"GET /swagger.json HTTP/1.0\" 200 2616 \"-\" \"Go-http-client/1.1\"\n",
            "2021-01-30 14:26:49,386 | root | INFO | 200\n",
            "127.0.0.1 - - [30/Jan/2021:14:26:49 +0000] \"GET /swagger.json HTTP/1.0\" 200 2616 \"-\" \"Go-http-client/1.1\"\n",
            "2021-01-30 14:27:34,904 | root | INFO | Validation Request Content-Type\n",
            "2021-01-30 14:27:34,904 | root | INFO | Scoring Timer is set to 60.0 seconds\n",
            "2021-01-30 14:27:34,957 | root | INFO | 200\n",
            "127.0.0.1 - - [30/Jan/2021:14:27:34 +0000] \"POST /score HTTP/1.0\" 200 23 \"-\" \"python-requests/2.25.1\"\n",
            "\n"
          ]
        }
      ],
      "execution_count": 34,
      "metadata": {
        "jupyter": {
          "outputs_hidden": false,
          "source_hidden": false
        },
        "nteract": {
          "transient": {
            "deleting": false
          }
        },
        "gather": {
          "logged": 1612016872568
        }
      }
    },
    {
      "cell_type": "code",
      "source": [
        "service.delete()"
      ],
      "outputs": [],
      "execution_count": 51,
      "metadata": {
        "collapsed": true,
        "jupyter": {
          "source_hidden": false,
          "outputs_hidden": false
        },
        "nteract": {
          "transient": {
            "deleting": false
          }
        },
        "gather": {
          "logged": 1611674676729
        }
      }
    }
  ],
  "metadata": {
    "kernel_info": {
      "name": "python3"
    },
    "kernelspec": {
      "name": "python3",
      "language": "python",
      "display_name": "Python 3"
    },
    "language_info": {
      "name": "python",
      "version": "3.6.9",
      "mimetype": "text/x-python",
      "codemirror_mode": {
        "name": "ipython",
        "version": 3
      },
      "pygments_lexer": "ipython3",
      "nbconvert_exporter": "python",
      "file_extension": ".py"
    },
    "nteract": {
      "version": "nteract-front-end@1.0.0"
    }
  },
  "nbformat": 4,
  "nbformat_minor": 2
}