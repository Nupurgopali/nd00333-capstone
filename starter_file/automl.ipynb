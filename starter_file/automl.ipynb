{
  "cells": [
    {
      "cell_type": "markdown",
      "source": [
        "# Automated ML\n",
        "\n",
        "TODO: Import Dependencies. In the cell below, import all the dependencies that you will need to complete the project."
      ],
      "metadata": {}
    },
    {
      "cell_type": "code",
      "source": [
        "\r\n",
        "from azureml.core import Workspace, Experiment\r\n",
        "from azureml.core.compute import ComputeTarget, AmlCompute\r\n",
        "from azureml.core.compute_target import ComputeTargetException\r\n",
        "from azureml.widgets import RunDetails\r\n",
        "from azureml.train.hyperdrive.run import PrimaryMetricGoal\r\n",
        "import os\r\n",
        "import joblib\r\n",
        "from azureml.core.dataset import Dataset\r\n",
        "from azureml.train.automl import AutoMLConfig\r\n",
        "from azureml.core.model import Model\r\n",
        "from azureml.core.webservice import AciWebservice\r\n",
        "from azureml.core.environment import Environment\r\n",
        "from azureml.core.model import InferenceConfig\r\n",
        "import requests\r\n",
        "import json\r\n",
        "import sklearn\r\n",
        "from azureml.automl.runtime.onnx_convert import OnnxConverter\r\n",
        "import pandas as pd\r\n",
        "from pandas import DataFrame"
      ],
      "outputs": [],
      "execution_count": 1,
      "metadata": {
        "gather": {
          "logged": 1612011659527
        },
        "jupyter": {
          "outputs_hidden": false,
          "source_hidden": false
        },
        "nteract": {
          "transient": {
            "deleting": false
          }
        }
      }
    },
    {
      "cell_type": "markdown",
      "source": [
        "## Dataset\n",
        "\n",
        "### Overview\n",
        "TODO: In this markdown cell, give an overview of the dataset you are using. Also mention the task you will be performing.\n",
        "\n",
        "\n",
        "TODO: Get data. In the cell below, write code to access the data you will be using in this project. Remember that the dataset needs to be external."
      ],
      "metadata": {}
    },
    {
      "cell_type": "code",
      "source": [
        "from azureml.core import Workspace, Experiment\r\n",
        "from azureml.pipeline.steps import PythonScriptStep\r\n",
        "from azureml.train.sklearn import SKLearn\r\n",
        "\r\n",
        "ws = Workspace.get(name=\"quick-starts-ws-136122\")\r\n",
        "exp = Experiment(workspace=ws, name=\"udacity-project\")\r\n",
        "\r\n",
        "print('Workspace name: ' + ws.name, \r\n",
        "      'Azure region: ' + ws.location, \r\n",
        "      'Subscription id: ' + ws.subscription_id, \r\n",
        "      )\r\n",
        "\r\n",
        "run = exp.start_logging()"
      ],
      "outputs": [],
      "execution_count": null,
      "metadata": {
        "collapsed": true,
        "jupyter": {
          "source_hidden": false,
          "outputs_hidden": false
        },
        "nteract": {
          "transient": {
            "deleting": false
          }
        },
        "gather": {
          "logged": 1610788810416
        }
      }
    },
    {
      "cell_type": "code",
      "source": [
        "ws = Workspace.from_config()\n",
        "\n",
        "# choose a name for experiment\n",
        "experiment_name = 'udacity-capstone'\n",
        "\n",
        "experiment=Experiment(ws, experiment_name)"
      ],
      "outputs": [
        {
          "output_type": "stream",
          "name": "stdout",
          "text": [
            "Performing interactive authentication. Please follow the instructions on the terminal.\n",
            "To sign in, use a web browser to open the page https://microsoft.com/devicelogin and enter the code FC9TAE3S4 to authenticate.\n",
            "You have logged in. Now let us find all the subscriptions to which you have access...\n",
            "Interactive authentication successfully completed.\n"
          ]
        }
      ],
      "execution_count": 2,
      "metadata": {
        "gather": {
          "logged": 1612011724400
        },
        "jupyter": {
          "outputs_hidden": false,
          "source_hidden": false
        },
        "nteract": {
          "transient": {
            "deleting": false
          }
        }
      }
    },
    {
      "cell_type": "code",
      "source": [
        "from azureml.core.compute import ComputeTarget, AmlCompute\r\n",
        "\r\n",
        "# TODO: Create compute cluster\r\n",
        "\r\n",
        "# Use vm_size = \"Standard_D2_V2\" in your provisioning configuration.\r\n",
        "# max_nodes should be no greater than 4.\r\n",
        "vm_size = \"Standard_DS3_V2\"\r\n",
        "compute_name=\"compute-clusters\"\r\n",
        "# create the cluster\r\n",
        "compute_min_nodes=0\r\n",
        "compute_max_nodes=4\r\n",
        "\r\n",
        "\r\n",
        "\r\n",
        "\r\n",
        "### YOUR CODE HERE ###\r\n",
        "# Checking if  compute already exist or not  if not creating a new target\r\n",
        "if compute_name in ws.compute_targets:\r\n",
        "    compute_target = ws.compute_targets[compute_name]\r\n",
        "    if compute_target and type(compute_target) is AmlCompute:\r\n",
        "        print(\"found compute target: \" + compute_name)\r\n",
        "else:\r\n",
        "    print(\"creating new compute target...\")\r\n",
        "    provisioning_config = AmlCompute.provisioning_configuration(vm_size = vm_size,\r\n",
        "                                                                min_nodes = compute_min_nodes, \r\n",
        "                                                                max_nodes = compute_max_nodes)\r\n",
        "    # if no min node count is provided it will use the scale settings for the cluster\r\n",
        "    compute_target.wait_for_completion(show_output=True, timeout_in_minutes=20)\r\n",
        "    print(compute_target.get_status().serialize())"
      ],
      "outputs": [],
      "execution_count": 4,
      "metadata": {
        "collapsed": true,
        "jupyter": {
          "source_hidden": false,
          "outputs_hidden": false
        },
        "nteract": {
          "transient": {
            "deleting": false
          }
        },
        "gather": {
          "logged": 1612011759910
        }
      }
    },
    {
      "cell_type": "markdown",
      "source": [
        "## AutoML Configuration\n",
        "\n",
        "TODO: Explain why you chose the automl settings and cofiguration you used below."
      ],
      "metadata": {}
    },
    {
      "cell_type": "code",
      "source": [
        "# azureml-core of version 1.0.72 or higher is required\r\n",
        "# azureml-dataprep[pandas] of version 1.1.34 or higher is required\r\n",
        "from azureml.core import Workspace, Dataset\r\n",
        "run = Run.get_context()\r\n",
        "#ws = run.experiment.workspace\r\n",
        "dataset = Dataset.get_by_name(ws, name='cancer')\r\n",
        "dataset.to_pandas_dataframe()\r\n",
        "df=dataset.to_pandas_dataframe()\r\n",
        "df.head()"
      ],
      "outputs": [
        {
          "output_type": "execute_result",
          "execution_count": 8,
          "data": {
            "text/plain": "         id diagnosis  radius_mean  texture_mean  perimeter_mean  area_mean  \\\n0    842302         M        17.99         10.38          122.80    1001.00   \n1    842517         M        20.57         17.77          132.90    1326.00   \n2  84300903         M        19.69         21.25          130.00    1203.00   \n3  84348301         M        11.42         20.38           77.58     386.10   \n4  84358402         M        20.29         14.34          135.10    1297.00   \n\n   smoothness_mean  compactness_mean  concavity_mean  concave points_mean  \\\n0             0.12              0.28            0.30                 0.15   \n1             0.08              0.08            0.09                 0.07   \n2             0.11              0.16            0.20                 0.13   \n3             0.14              0.28            0.24                 0.11   \n4             0.10              0.13            0.20                 0.10   \n\n   ...  radius_worst  texture_worst  perimeter_worst  area_worst  \\\n0  ...         25.38          17.33           184.60     2019.00   \n1  ...         24.99          23.41           158.80     1956.00   \n2  ...         23.57          25.53           152.50     1709.00   \n3  ...         14.91          26.50            98.87      567.70   \n4  ...         22.54          16.67           152.20     1575.00   \n\n   smoothness_worst  compactness_worst  concavity_worst  concave points_worst  \\\n0              0.16               0.67             0.71                  0.27   \n1              0.12               0.19             0.24                  0.19   \n2              0.14               0.42             0.45                  0.24   \n3              0.21               0.87             0.69                  0.26   \n4              0.14               0.20             0.40                  0.16   \n\n   symmetry_worst  fractal_dimension_worst  \n0            0.46                     0.12  \n1            0.28                     0.09  \n2            0.36                     0.09  \n3            0.66                     0.17  \n4            0.24                     0.08  \n\n[5 rows x 32 columns]",
            "text/html": "<div>\n<style scoped>\n    .dataframe tbody tr th:only-of-type {\n        vertical-align: middle;\n    }\n\n    .dataframe tbody tr th {\n        vertical-align: top;\n    }\n\n    .dataframe thead th {\n        text-align: right;\n    }\n</style>\n<table border=\"1\" class=\"dataframe\">\n  <thead>\n    <tr style=\"text-align: right;\">\n      <th></th>\n      <th>id</th>\n      <th>diagnosis</th>\n      <th>radius_mean</th>\n      <th>texture_mean</th>\n      <th>perimeter_mean</th>\n      <th>area_mean</th>\n      <th>smoothness_mean</th>\n      <th>compactness_mean</th>\n      <th>concavity_mean</th>\n      <th>concave points_mean</th>\n      <th>...</th>\n      <th>radius_worst</th>\n      <th>texture_worst</th>\n      <th>perimeter_worst</th>\n      <th>area_worst</th>\n      <th>smoothness_worst</th>\n      <th>compactness_worst</th>\n      <th>concavity_worst</th>\n      <th>concave points_worst</th>\n      <th>symmetry_worst</th>\n      <th>fractal_dimension_worst</th>\n    </tr>\n  </thead>\n  <tbody>\n    <tr>\n      <th>0</th>\n      <td>842302</td>\n      <td>M</td>\n      <td>17.99</td>\n      <td>10.38</td>\n      <td>122.80</td>\n      <td>1001.00</td>\n      <td>0.12</td>\n      <td>0.28</td>\n      <td>0.30</td>\n      <td>0.15</td>\n      <td>...</td>\n      <td>25.38</td>\n      <td>17.33</td>\n      <td>184.60</td>\n      <td>2019.00</td>\n      <td>0.16</td>\n      <td>0.67</td>\n      <td>0.71</td>\n      <td>0.27</td>\n      <td>0.46</td>\n      <td>0.12</td>\n    </tr>\n    <tr>\n      <th>1</th>\n      <td>842517</td>\n      <td>M</td>\n      <td>20.57</td>\n      <td>17.77</td>\n      <td>132.90</td>\n      <td>1326.00</td>\n      <td>0.08</td>\n      <td>0.08</td>\n      <td>0.09</td>\n      <td>0.07</td>\n      <td>...</td>\n      <td>24.99</td>\n      <td>23.41</td>\n      <td>158.80</td>\n      <td>1956.00</td>\n      <td>0.12</td>\n      <td>0.19</td>\n      <td>0.24</td>\n      <td>0.19</td>\n      <td>0.28</td>\n      <td>0.09</td>\n    </tr>\n    <tr>\n      <th>2</th>\n      <td>84300903</td>\n      <td>M</td>\n      <td>19.69</td>\n      <td>21.25</td>\n      <td>130.00</td>\n      <td>1203.00</td>\n      <td>0.11</td>\n      <td>0.16</td>\n      <td>0.20</td>\n      <td>0.13</td>\n      <td>...</td>\n      <td>23.57</td>\n      <td>25.53</td>\n      <td>152.50</td>\n      <td>1709.00</td>\n      <td>0.14</td>\n      <td>0.42</td>\n      <td>0.45</td>\n      <td>0.24</td>\n      <td>0.36</td>\n      <td>0.09</td>\n    </tr>\n    <tr>\n      <th>3</th>\n      <td>84348301</td>\n      <td>M</td>\n      <td>11.42</td>\n      <td>20.38</td>\n      <td>77.58</td>\n      <td>386.10</td>\n      <td>0.14</td>\n      <td>0.28</td>\n      <td>0.24</td>\n      <td>0.11</td>\n      <td>...</td>\n      <td>14.91</td>\n      <td>26.50</td>\n      <td>98.87</td>\n      <td>567.70</td>\n      <td>0.21</td>\n      <td>0.87</td>\n      <td>0.69</td>\n      <td>0.26</td>\n      <td>0.66</td>\n      <td>0.17</td>\n    </tr>\n    <tr>\n      <th>4</th>\n      <td>84358402</td>\n      <td>M</td>\n      <td>20.29</td>\n      <td>14.34</td>\n      <td>135.10</td>\n      <td>1297.00</td>\n      <td>0.10</td>\n      <td>0.13</td>\n      <td>0.20</td>\n      <td>0.10</td>\n      <td>...</td>\n      <td>22.54</td>\n      <td>16.67</td>\n      <td>152.20</td>\n      <td>1575.00</td>\n      <td>0.14</td>\n      <td>0.20</td>\n      <td>0.40</td>\n      <td>0.16</td>\n      <td>0.24</td>\n      <td>0.08</td>\n    </tr>\n  </tbody>\n</table>\n<p>5 rows × 32 columns</p>\n</div>"
          },
          "metadata": {}
        }
      ],
      "execution_count": 8,
      "metadata": {
        "collapsed": true,
        "jupyter": {
          "source_hidden": false,
          "outputs_hidden": false
        },
        "nteract": {
          "transient": {
            "deleting": false
          }
        },
        "gather": {
          "logged": 1612011922575
        }
      }
    },
    {
      "cell_type": "code",
      "source": [
        "from sklearn.preprocessing import LabelEncoder \r\n",
        "le = LabelEncoder() \r\n",
        "df['diagnosis']= le.fit_transform(df['diagnosis']) \r\n",
        "df.head()"
      ],
      "outputs": [
        {
          "output_type": "execute_result",
          "execution_count": 7,
          "data": {
            "text/plain": "         id  diagnosis  radius_mean  texture_mean  perimeter_mean  area_mean  \\\n0    842302          1        17.99         10.38          122.80    1001.00   \n1    842517          1        20.57         17.77          132.90    1326.00   \n2  84300903          1        19.69         21.25          130.00    1203.00   \n3  84348301          1        11.42         20.38           77.58     386.10   \n4  84358402          1        20.29         14.34          135.10    1297.00   \n\n   smoothness_mean  compactness_mean  concavity_mean  concave points_mean  \\\n0             0.12              0.28            0.30                 0.15   \n1             0.08              0.08            0.09                 0.07   \n2             0.11              0.16            0.20                 0.13   \n3             0.14              0.28            0.24                 0.11   \n4             0.10              0.13            0.20                 0.10   \n\n   ...  radius_worst  texture_worst  perimeter_worst  area_worst  \\\n0  ...         25.38          17.33           184.60     2019.00   \n1  ...         24.99          23.41           158.80     1956.00   \n2  ...         23.57          25.53           152.50     1709.00   \n3  ...         14.91          26.50            98.87      567.70   \n4  ...         22.54          16.67           152.20     1575.00   \n\n   smoothness_worst  compactness_worst  concavity_worst  concave points_worst  \\\n0              0.16               0.67             0.71                  0.27   \n1              0.12               0.19             0.24                  0.19   \n2              0.14               0.42             0.45                  0.24   \n3              0.21               0.87             0.69                  0.26   \n4              0.14               0.20             0.40                  0.16   \n\n   symmetry_worst  fractal_dimension_worst  \n0            0.46                     0.12  \n1            0.28                     0.09  \n2            0.36                     0.09  \n3            0.66                     0.17  \n4            0.24                     0.08  \n\n[5 rows x 32 columns]",
            "text/html": "<div>\n<style scoped>\n    .dataframe tbody tr th:only-of-type {\n        vertical-align: middle;\n    }\n\n    .dataframe tbody tr th {\n        vertical-align: top;\n    }\n\n    .dataframe thead th {\n        text-align: right;\n    }\n</style>\n<table border=\"1\" class=\"dataframe\">\n  <thead>\n    <tr style=\"text-align: right;\">\n      <th></th>\n      <th>id</th>\n      <th>diagnosis</th>\n      <th>radius_mean</th>\n      <th>texture_mean</th>\n      <th>perimeter_mean</th>\n      <th>area_mean</th>\n      <th>smoothness_mean</th>\n      <th>compactness_mean</th>\n      <th>concavity_mean</th>\n      <th>concave points_mean</th>\n      <th>...</th>\n      <th>radius_worst</th>\n      <th>texture_worst</th>\n      <th>perimeter_worst</th>\n      <th>area_worst</th>\n      <th>smoothness_worst</th>\n      <th>compactness_worst</th>\n      <th>concavity_worst</th>\n      <th>concave points_worst</th>\n      <th>symmetry_worst</th>\n      <th>fractal_dimension_worst</th>\n    </tr>\n  </thead>\n  <tbody>\n    <tr>\n      <th>0</th>\n      <td>842302</td>\n      <td>1</td>\n      <td>17.99</td>\n      <td>10.38</td>\n      <td>122.80</td>\n      <td>1001.00</td>\n      <td>0.12</td>\n      <td>0.28</td>\n      <td>0.30</td>\n      <td>0.15</td>\n      <td>...</td>\n      <td>25.38</td>\n      <td>17.33</td>\n      <td>184.60</td>\n      <td>2019.00</td>\n      <td>0.16</td>\n      <td>0.67</td>\n      <td>0.71</td>\n      <td>0.27</td>\n      <td>0.46</td>\n      <td>0.12</td>\n    </tr>\n    <tr>\n      <th>1</th>\n      <td>842517</td>\n      <td>1</td>\n      <td>20.57</td>\n      <td>17.77</td>\n      <td>132.90</td>\n      <td>1326.00</td>\n      <td>0.08</td>\n      <td>0.08</td>\n      <td>0.09</td>\n      <td>0.07</td>\n      <td>...</td>\n      <td>24.99</td>\n      <td>23.41</td>\n      <td>158.80</td>\n      <td>1956.00</td>\n      <td>0.12</td>\n      <td>0.19</td>\n      <td>0.24</td>\n      <td>0.19</td>\n      <td>0.28</td>\n      <td>0.09</td>\n    </tr>\n    <tr>\n      <th>2</th>\n      <td>84300903</td>\n      <td>1</td>\n      <td>19.69</td>\n      <td>21.25</td>\n      <td>130.00</td>\n      <td>1203.00</td>\n      <td>0.11</td>\n      <td>0.16</td>\n      <td>0.20</td>\n      <td>0.13</td>\n      <td>...</td>\n      <td>23.57</td>\n      <td>25.53</td>\n      <td>152.50</td>\n      <td>1709.00</td>\n      <td>0.14</td>\n      <td>0.42</td>\n      <td>0.45</td>\n      <td>0.24</td>\n      <td>0.36</td>\n      <td>0.09</td>\n    </tr>\n    <tr>\n      <th>3</th>\n      <td>84348301</td>\n      <td>1</td>\n      <td>11.42</td>\n      <td>20.38</td>\n      <td>77.58</td>\n      <td>386.10</td>\n      <td>0.14</td>\n      <td>0.28</td>\n      <td>0.24</td>\n      <td>0.11</td>\n      <td>...</td>\n      <td>14.91</td>\n      <td>26.50</td>\n      <td>98.87</td>\n      <td>567.70</td>\n      <td>0.21</td>\n      <td>0.87</td>\n      <td>0.69</td>\n      <td>0.26</td>\n      <td>0.66</td>\n      <td>0.17</td>\n    </tr>\n    <tr>\n      <th>4</th>\n      <td>84358402</td>\n      <td>1</td>\n      <td>20.29</td>\n      <td>14.34</td>\n      <td>135.10</td>\n      <td>1297.00</td>\n      <td>0.10</td>\n      <td>0.13</td>\n      <td>0.20</td>\n      <td>0.10</td>\n      <td>...</td>\n      <td>22.54</td>\n      <td>16.67</td>\n      <td>152.20</td>\n      <td>1575.00</td>\n      <td>0.14</td>\n      <td>0.20</td>\n      <td>0.40</td>\n      <td>0.16</td>\n      <td>0.24</td>\n      <td>0.08</td>\n    </tr>\n  </tbody>\n</table>\n<p>5 rows × 32 columns</p>\n</div>"
          },
          "metadata": {}
        }
      ],
      "execution_count": 7,
      "metadata": {
        "collapsed": true,
        "jupyter": {
          "source_hidden": false,
          "outputs_hidden": false
        },
        "nteract": {
          "transient": {
            "deleting": false
          }
        },
        "gather": {
          "logged": 1612011877585
        }
      }
    },
    {
      "cell_type": "markdown",
      "source": [
        "After using labelencoder on dignosis column the letter M which idicated malignant tumour is encoded with number 1 and benign tumour with 0."
      ],
      "metadata": {
        "nteract": {
          "transient": {
            "deleting": false
          }
        }
      }
    },
    {
      "cell_type": "code",
      "source": [
        "#Splitting the dataset into X and y,X contains the first 10 columns which is used for training.\r\n",
        "#y is the target column,which the model will predict\r\n",
        "X=df.iloc[ :,1:10]\r\n",
        "y=df.iloc[:,1]"
      ],
      "outputs": [],
      "execution_count": 9,
      "metadata": {
        "collapsed": true,
        "jupyter": {
          "source_hidden": false,
          "outputs_hidden": false
        },
        "nteract": {
          "transient": {
            "deleting": false
          }
        },
        "gather": {
          "logged": 1612012018198
        }
      }
    },
    {
      "cell_type": "code",
      "source": [
        "X"
      ],
      "outputs": [
        {
          "output_type": "execute_result",
          "execution_count": 10,
          "data": {
            "text/plain": "    diagnosis  radius_mean  texture_mean  perimeter_mean  area_mean  \\\n0           M        17.99         10.38          122.80    1001.00   \n1           M        20.57         17.77          132.90    1326.00   \n2           M        19.69         21.25          130.00    1203.00   \n3           M        11.42         20.38           77.58     386.10   \n4           M        20.29         14.34          135.10    1297.00   \n..        ...          ...           ...             ...        ...   \n564         M        21.56         22.39          142.00    1479.00   \n565         M        20.13         28.25          131.20    1261.00   \n566         M        16.60         28.08          108.30     858.10   \n567         M        20.60         29.33          140.10    1265.00   \n568         B         7.76         24.54           47.92     181.00   \n\n     smoothness_mean  compactness_mean  concavity_mean  concave points_mean  \n0               0.12              0.28            0.30                 0.15  \n1               0.08              0.08            0.09                 0.07  \n2               0.11              0.16            0.20                 0.13  \n3               0.14              0.28            0.24                 0.11  \n4               0.10              0.13            0.20                 0.10  \n..               ...               ...             ...                  ...  \n564             0.11              0.12            0.24                 0.14  \n565             0.10              0.10            0.14                 0.10  \n566             0.08              0.10            0.09                 0.05  \n567             0.12              0.28            0.35                 0.15  \n568             0.05              0.04            0.00                 0.00  \n\n[569 rows x 9 columns]",
            "text/html": "<div>\n<style scoped>\n    .dataframe tbody tr th:only-of-type {\n        vertical-align: middle;\n    }\n\n    .dataframe tbody tr th {\n        vertical-align: top;\n    }\n\n    .dataframe thead th {\n        text-align: right;\n    }\n</style>\n<table border=\"1\" class=\"dataframe\">\n  <thead>\n    <tr style=\"text-align: right;\">\n      <th></th>\n      <th>diagnosis</th>\n      <th>radius_mean</th>\n      <th>texture_mean</th>\n      <th>perimeter_mean</th>\n      <th>area_mean</th>\n      <th>smoothness_mean</th>\n      <th>compactness_mean</th>\n      <th>concavity_mean</th>\n      <th>concave points_mean</th>\n    </tr>\n  </thead>\n  <tbody>\n    <tr>\n      <th>0</th>\n      <td>M</td>\n      <td>17.99</td>\n      <td>10.38</td>\n      <td>122.80</td>\n      <td>1001.00</td>\n      <td>0.12</td>\n      <td>0.28</td>\n      <td>0.30</td>\n      <td>0.15</td>\n    </tr>\n    <tr>\n      <th>1</th>\n      <td>M</td>\n      <td>20.57</td>\n      <td>17.77</td>\n      <td>132.90</td>\n      <td>1326.00</td>\n      <td>0.08</td>\n      <td>0.08</td>\n      <td>0.09</td>\n      <td>0.07</td>\n    </tr>\n    <tr>\n      <th>2</th>\n      <td>M</td>\n      <td>19.69</td>\n      <td>21.25</td>\n      <td>130.00</td>\n      <td>1203.00</td>\n      <td>0.11</td>\n      <td>0.16</td>\n      <td>0.20</td>\n      <td>0.13</td>\n    </tr>\n    <tr>\n      <th>3</th>\n      <td>M</td>\n      <td>11.42</td>\n      <td>20.38</td>\n      <td>77.58</td>\n      <td>386.10</td>\n      <td>0.14</td>\n      <td>0.28</td>\n      <td>0.24</td>\n      <td>0.11</td>\n    </tr>\n    <tr>\n      <th>4</th>\n      <td>M</td>\n      <td>20.29</td>\n      <td>14.34</td>\n      <td>135.10</td>\n      <td>1297.00</td>\n      <td>0.10</td>\n      <td>0.13</td>\n      <td>0.20</td>\n      <td>0.10</td>\n    </tr>\n    <tr>\n      <th>...</th>\n      <td>...</td>\n      <td>...</td>\n      <td>...</td>\n      <td>...</td>\n      <td>...</td>\n      <td>...</td>\n      <td>...</td>\n      <td>...</td>\n      <td>...</td>\n    </tr>\n    <tr>\n      <th>564</th>\n      <td>M</td>\n      <td>21.56</td>\n      <td>22.39</td>\n      <td>142.00</td>\n      <td>1479.00</td>\n      <td>0.11</td>\n      <td>0.12</td>\n      <td>0.24</td>\n      <td>0.14</td>\n    </tr>\n    <tr>\n      <th>565</th>\n      <td>M</td>\n      <td>20.13</td>\n      <td>28.25</td>\n      <td>131.20</td>\n      <td>1261.00</td>\n      <td>0.10</td>\n      <td>0.10</td>\n      <td>0.14</td>\n      <td>0.10</td>\n    </tr>\n    <tr>\n      <th>566</th>\n      <td>M</td>\n      <td>16.60</td>\n      <td>28.08</td>\n      <td>108.30</td>\n      <td>858.10</td>\n      <td>0.08</td>\n      <td>0.10</td>\n      <td>0.09</td>\n      <td>0.05</td>\n    </tr>\n    <tr>\n      <th>567</th>\n      <td>M</td>\n      <td>20.60</td>\n      <td>29.33</td>\n      <td>140.10</td>\n      <td>1265.00</td>\n      <td>0.12</td>\n      <td>0.28</td>\n      <td>0.35</td>\n      <td>0.15</td>\n    </tr>\n    <tr>\n      <th>568</th>\n      <td>B</td>\n      <td>7.76</td>\n      <td>24.54</td>\n      <td>47.92</td>\n      <td>181.00</td>\n      <td>0.05</td>\n      <td>0.04</td>\n      <td>0.00</td>\n      <td>0.00</td>\n    </tr>\n  </tbody>\n</table>\n<p>569 rows × 9 columns</p>\n</div>"
          },
          "metadata": {}
        }
      ],
      "execution_count": 10,
      "metadata": {
        "collapsed": true,
        "jupyter": {
          "source_hidden": false,
          "outputs_hidden": false
        },
        "nteract": {
          "transient": {
            "deleting": false
          }
        },
        "gather": {
          "logged": 1612012081996
        }
      }
    },
    {
      "cell_type": "code",
      "source": [
        "y"
      ],
      "outputs": [
        {
          "output_type": "execute_result",
          "execution_count": 11,
          "data": {
            "text/plain": "0      M\n1      M\n2      M\n3      M\n4      M\n      ..\n564    M\n565    M\n566    M\n567    M\n568    B\nName: diagnosis, Length: 569, dtype: object"
          },
          "metadata": {}
        }
      ],
      "execution_count": 11,
      "metadata": {
        "collapsed": true,
        "jupyter": {
          "source_hidden": false,
          "outputs_hidden": false
        },
        "nteract": {
          "transient": {
            "deleting": false
          }
        },
        "gather": {
          "logged": 1612012082193
        }
      }
    },
    {
      "cell_type": "code",
      "source": [
        "from azureml.train.automl import AutoMLConfig\n",
        "# TODO: Put your automl settings here\n",
        "#automl_settings = {}\n",
        "\n",
        "# TODO: Put your automl config here\n",
        "automl_config = AutoMLConfig(experiment_timeout_minutes=30,\n",
        "    task= 'classification',\n",
        "    primary_metric= 'accuracy',\n",
        "    training_data= X,\n",
        "    label_column_name= 'diagnosis',\n",
        "    n_cross_validations= 5)"
      ],
      "outputs": [],
      "execution_count": 12,
      "metadata": {
        "gather": {
          "logged": 1612012088526
        },
        "jupyter": {
          "outputs_hidden": false,
          "source_hidden": false
        },
        "nteract": {
          "transient": {
            "deleting": false
          }
        }
      }
    },
    {
      "cell_type": "code",
      "source": [
        "# TODO: Submit your experiment\n",
        "remote_run = experiment.submit(automl_config,show_output=True)"
      ],
      "outputs": [
        {
          "output_type": "stream",
          "name": "stdout",
          "text": [
            "No run_configuration provided, running on local with default configuration\n",
            "Running on local machine\n",
            "Parent Run ID: AutoML_fba1e8bc-dc8d-4760-847e-5bac45aa1792\n",
            "\n",
            "Current status: DatasetEvaluation. Gathering dataset statistics.\n",
            "Current status: FeaturesGeneration. Generating features for the dataset.\n",
            "Current status: DatasetFeaturization. Beginning to fit featurizers and featurize the dataset.\n",
            "Current status: DatasetFeaturizationCompleted. Completed fit featurizers and featurizing the dataset.\n",
            "Current status: DatasetCrossValidationSplit. Generating individually featurized CV splits.\n",
            "\n",
            "****************************************************************************************************\n",
            "DATA GUARDRAILS: \n",
            "\n",
            "TYPE:         Class balancing detection\n",
            "STATUS:       PASSED\n",
            "DESCRIPTION:  Your inputs were analyzed, and all classes are balanced in your training data.\n",
            "              Learn more about imbalanced data: https://aka.ms/AutomatedMLImbalancedData\n",
            "\n",
            "****************************************************************************************************\n",
            "\n",
            "TYPE:         Missing feature values imputation\n",
            "STATUS:       PASSED\n",
            "DESCRIPTION:  No feature missing values were detected in the training data.\n",
            "              Learn more about missing value imputation: https://aka.ms/AutomatedMLFeaturization\n",
            "\n",
            "****************************************************************************************************\n",
            "\n",
            "TYPE:         High cardinality feature detection\n",
            "STATUS:       PASSED\n",
            "DESCRIPTION:  Your inputs were analyzed, and no high cardinality features were detected.\n",
            "              Learn more about high cardinality feature handling: https://aka.ms/AutomatedMLFeaturization\n",
            "\n",
            "****************************************************************************************************\n",
            "Current status: ModelSelection. Beginning model selection.\n",
            "\n",
            "****************************************************************************************************\n",
            "ITERATION: The iteration being evaluated.\n",
            "PIPELINE: A summary description of the pipeline being evaluated.\n",
            "DURATION: Time taken for the current iteration.\n",
            "METRIC: The result of computing score on the fitted pipeline.\n",
            "BEST: The best observed score thus far.\n",
            "****************************************************************************************************\n",
            "\n",
            " ITERATION   PIPELINE                                       DURATION      METRIC      BEST\n",
            "         0   MaxAbsScaler LightGBM                          0:00:29       0.9472    0.9472\n",
            "         1   MaxAbsScaler XGBoostClassifier                 0:00:33       0.9437    0.9472\n",
            "         2   MinMaxScaler RandomForest                      0:00:26       0.9331    0.9472\n",
            "         3   MinMaxScaler RandomForest                      0:00:31       0.9209    0.9472\n",
            "         4   MinMaxScaler RandomForest                      0:00:25       0.9332    0.9472\n",
            "         5   MinMaxScaler SVM                               0:00:25       0.9402    0.9472\n",
            "         6   MaxAbsScaler GradientBoosting                  0:00:32       0.9367    0.9472\n",
            "         7   StandardScalerWrapper RandomForest             0:00:25       0.9314    0.9472\n",
            "         8   SparseNormalizer XGBoostClassifier             0:00:30       0.9367    0.9472\n",
            "         9   SparseNormalizer LightGBM                      0:00:30       0.9209    0.9472\n",
            "        10   RobustScaler RandomForest                      0:00:25       0.9174    0.9472\n",
            "        11   MaxAbsScaler LightGBM                          0:00:34       0.9350    0.9472\n",
            "        12   SparseNormalizer XGBoostClassifier             0:00:31       0.9279    0.9472\n",
            "        13   RobustScaler ExtremeRandomTrees                0:00:26       0.9244    0.9472\n",
            "        14   StandardScalerWrapper ExtremeRandomTrees       0:00:26       0.9156    0.9472\n",
            "        15   StandardScalerWrapper XGBoostClassifier        0:00:26       0.9350    0.9472\n",
            "        16   SparseNormalizer XGBoostClassifier             0:00:26       0.9297    0.9472\n",
            "        17   SparseNormalizer XGBoostClassifier             0:00:31       0.9226    0.9472\n",
            "        18   SparseNormalizer XGBoostClassifier             0:00:31       0.9314    0.9472\n",
            "        19   MaxAbsScaler LogisticRegression                0:00:32       0.9402    0.9472\n",
            "        20   StandardScalerWrapper KNN                      0:00:34       0.8910    0.9472\n",
            "        21   SparseNormalizer RandomForest                  0:00:33       0.9261    0.9472\n",
            "        22   MinMaxScaler LightGBM                          0:00:37       0.9402    0.9472\n",
            "        23   StandardScalerWrapper XGBoostClassifier        0:00:25       0.9349    0.9472\n",
            "        24   StandardScalerWrapper LightGBM                 0:00:30       0.9384    0.9472\n",
            "        25   MaxAbsScaler LightGBM                          0:00:25       0.9297    0.9472\n",
            "        26   SparseNormalizer XGBoostClassifier             0:00:25       0.9314    0.9472\n",
            "        27   StandardScalerWrapper LogisticRegression       0:00:24       0.9367    0.9472\n",
            "        28   SparseNormalizer XGBoostClassifier             0:00:24       0.9367    0.9472\n",
            "        29   StandardScalerWrapper GradientBoosting         0:00:27       0.9297    0.9472\n",
            "        30   MinMaxScaler LightGBM                          0:00:26       0.9384    0.9472\n",
            "        31   StandardScalerWrapper XGBoostClassifier        0:00:31       0.9367    0.9472\n",
            "        32   StandardScalerWrapper XGBoostClassifier        0:00:32       0.9402    0.9472\n",
            "        33   StandardScalerWrapper XGBoostClassifier        0:00:25       0.9420    0.9472\n",
            "        34   StandardScalerWrapper XGBoostClassifier        0:00:25       0.9314    0.9472\n",
            "        35   RobustScaler LightGBM                          0:00:26       0.9349    0.9472\n",
            "        36   SparseNormalizer XGBoostClassifier             0:00:27       0.9349    0.9472\n",
            "        37   StandardScalerWrapper XGBoostClassifier        0:00:25       0.9384    0.9472\n",
            "        38   StandardScalerWrapper LogisticRegression       0:00:27       0.9332    0.9472\n",
            "        39   SparseNormalizer XGBoostClassifier             0:00:25       0.9331    0.9472\n",
            "        40   MinMaxScaler LightGBM                          0:00:26       0.9420    0.9472\n",
            "        41   StandardScalerWrapper XGBoostClassifier        0:00:30       0.9402    0.9472\n",
            "        42   SparseNormalizer XGBoostClassifier             0:00:26       0.9384    0.9472\n",
            "        43   StandardScalerWrapper XGBoostClassifier        0:00:25       0.9332    0.9472\n",
            "        44   StandardScalerWrapper LightGBM                 0:00:32       0.9332    0.9472\n",
            "        45   PCA LightGBM                                   0:00:24       0.8910    0.9472\n",
            "        46   SparseNormalizer XGBoostClassifier             0:00:25       0.9314    0.9472\n",
            "        47   SparseNormalizer XGBoostClassifier             0:00:25       0.9332    0.9472\n",
            "        48   MaxAbsScaler RandomForest                      0:00:25       0.9332    0.9472\n",
            "        49   StandardScalerWrapper XGBoostClassifier        0:00:25       0.9314    0.9472\n",
            "        50   StandardScalerWrapper LightGBM                 0:00:26       0.9349    0.9472\n",
            "        51   SparseNormalizer XGBoostClassifier             0:00:25       0.9437    0.9472\n",
            "        52   SparseNormalizer XGBoostClassifier             0:00:25       0.9384    0.9472\n",
            "        53   SparseNormalizer XGBoostClassifier             0:00:25       0.9401    0.9472\n",
            "        54   SparseNormalizer XGBoostClassifier             0:00:26       0.9349    0.9472\n",
            "        55   SparseNormalizer LightGBM                      0:00:26       0.9297    0.9472\n",
            "        56   StandardScalerWrapper XGBoostClassifier        0:00:26       0.9332    0.9472\n",
            "        57   SparseNormalizer XGBoostClassifier             0:00:31       0.9332    0.9472\n",
            "        58   MinMaxScaler LogisticRegression                0:00:25       0.9420    0.9472\n",
            "        59   MinMaxScaler LogisticRegression                0:00:31       0.9367    0.9472\n",
            "        60   StandardScalerWrapper LightGBM                 0:00:31       0.9402    0.9472\n",
            "        61   VotingEnsemble                                 0:00:38       0.9542    0.9542\n",
            "        62   StackEnsemble                                  0:00:39       0.9455    0.9542\n",
            "Stopping criteria reached at iteration 63. Ending experiment.\n",
            "****************************************************************************************************\n",
            "Current status: BestRunExplainModel. Best run model explanations started\n",
            "Current status: ModelExplanationDataSetSetup. Model explanations data setup completed\n",
            "Current status: PickSurrogateModel. Choosing LightGBM as the surrogate model for explanations\n",
            "Current status: EngineeredFeatureExplanations. Computation of engineered features started\n",
            "Current status: EngineeredFeatureExplanations. Computation of engineered features completed\n",
            "Current status: RawFeaturesExplanations. Computation of raw features started\n",
            "Current status: RawFeaturesExplanations. Computation of raw features completed\n",
            "Current status: BestRunExplainModel. Best run model explanations completed\n",
            "****************************************************************************************************\n"
          ]
        }
      ],
      "execution_count": 13,
      "metadata": {
        "gather": {
          "logged": 1612014382703
        },
        "jupyter": {
          "outputs_hidden": false,
          "source_hidden": false
        },
        "nteract": {
          "transient": {
            "deleting": false
          }
        }
      }
    },
    {
      "cell_type": "markdown",
      "source": [
        "## Run Details\n",
        "\n",
        "OPTIONAL: Write about the different models trained and their performance. Why do you think some models did better than others?\n",
        "\n",
        "TODO: In the cell below, use the `RunDetails` widget to show the different experiments."
      ],
      "metadata": {}
    },
    {
      "cell_type": "code",
      "source": [
        "from azureml.widgets import RunDetails\r\n",
        "RunDetails(remote_run).show()"
      ],
      "outputs": [
        {
          "output_type": "display_data",
          "data": {
            "text/plain": "_AutoMLWidget(widget_settings={'childWidgetDisplay': 'popup', 'send_telemetry': False, 'log_level': 'INFO', 's…",
            "application/vnd.jupyter.widget-view+json": {
              "version_major": 2,
              "version_minor": 0,
              "model_id": "908252db5d494015ac23f75edebd2d57"
            }
          },
          "metadata": {}
        },
        {
          "output_type": "display_data",
          "data": {
            "application/aml.mini.widget.v1": "{\"status\": \"Completed\", \"workbench_run_details_uri\": \"https://ml.azure.com/experiments/udacity-capstone/runs/AutoML_fba1e8bc-dc8d-4760-847e-5bac45aa1792?wsid=/subscriptions/f9d5a085-54dc-4215-9ba6-dad5d86e60a0/resourcegroups/aml-quickstarts-136594/workspaces/quick-starts-ws-136594\", \"run_id\": \"AutoML_fba1e8bc-dc8d-4760-847e-5bac45aa1792\", \"run_properties\": {\"run_id\": \"AutoML_fba1e8bc-dc8d-4760-847e-5bac45aa1792\", \"created_utc\": \"2021-01-30T13:08:42.190242Z\", \"properties\": {\"num_iterations\": \"1000\", \"training_type\": \"TrainFull\", \"acquisition_function\": \"EI\", \"primary_metric\": \"accuracy\", \"train_split\": \"0\", \"acquisition_parameter\": \"0\", \"num_cross_validation\": \"5\", \"target\": \"local\", \"AMLSettingsJsonString\": \"{\\\"path\\\":null,\\\"name\\\":\\\"udacity-capstone\\\",\\\"subscription_id\\\":\\\"f9d5a085-54dc-4215-9ba6-dad5d86e60a0\\\",\\\"resource_group\\\":\\\"aml-quickstarts-136594\\\",\\\"workspace_name\\\":\\\"quick-starts-ws-136594\\\",\\\"region\\\":\\\"southcentralus\\\",\\\"compute_target\\\":\\\"local\\\",\\\"spark_service\\\":null,\\\"azure_service\\\":\\\"Microsoft.AzureNotebookVM\\\",\\\"many_models\\\":false,\\\"pipeline_fetch_max_batch_size\\\":1,\\\"iterations\\\":1000,\\\"primary_metric\\\":\\\"accuracy\\\",\\\"task_type\\\":\\\"classification\\\",\\\"data_script\\\":null,\\\"validation_size\\\":0.0,\\\"n_cross_validations\\\":5,\\\"y_min\\\":null,\\\"y_max\\\":null,\\\"num_classes\\\":2,\\\"featurization\\\":\\\"auto\\\",\\\"_ignore_package_version_incompatibilities\\\":false,\\\"is_timeseries\\\":false,\\\"max_cores_per_iteration\\\":1,\\\"max_concurrent_iterations\\\":1,\\\"iteration_timeout_minutes\\\":null,\\\"mem_in_mb\\\":null,\\\"enforce_time_on_windows\\\":false,\\\"experiment_timeout_minutes\\\":30,\\\"experiment_exit_score\\\":null,\\\"whitelist_models\\\":null,\\\"blacklist_algos\\\":[\\\"TensorFlowLinearClassifier\\\",\\\"TensorFlowDNN\\\"],\\\"supported_models\\\":[\\\"ExtremeRandomTrees\\\",\\\"XGBoostClassifier\\\",\\\"TensorFlowDNN\\\",\\\"LightGBM\\\",\\\"BernoulliNaiveBayes\\\",\\\"SVM\\\",\\\"LogisticRegression\\\",\\\"KNN\\\",\\\"MultinomialNaiveBayes\\\",\\\"DecisionTree\\\",\\\"RandomForest\\\",\\\"AveragedPerceptronClassifier\\\",\\\"GradientBoosting\\\",\\\"LinearSVM\\\",\\\"SGD\\\",\\\"TensorFlowLinearClassifier\\\"],\\\"auto_blacklist\\\":true,\\\"blacklist_samples_reached\\\":false,\\\"exclude_nan_labels\\\":true,\\\"verbosity\\\":20,\\\"_debug_log\\\":\\\"automl.log\\\",\\\"show_warnings\\\":false,\\\"model_explainability\\\":true,\\\"service_url\\\":null,\\\"sdk_url\\\":null,\\\"sdk_packages\\\":null,\\\"enable_onnx_compatible_models\\\":false,\\\"enable_split_onnx_featurizer_estimator_models\\\":false,\\\"vm_type\\\":null,\\\"telemetry_verbosity\\\":20,\\\"send_telemetry\\\":true,\\\"enable_dnn\\\":false,\\\"scenario\\\":\\\"SDK-1.13.0\\\",\\\"environment_label\\\":null,\\\"force_text_dnn\\\":false,\\\"enable_feature_sweeping\\\":true,\\\"enable_early_stopping\\\":false,\\\"early_stopping_n_iters\\\":10,\\\"metrics\\\":null,\\\"enable_ensembling\\\":true,\\\"enable_stack_ensembling\\\":true,\\\"ensemble_iterations\\\":15,\\\"enable_tf\\\":false,\\\"enable_subsampling\\\":null,\\\"subsample_seed\\\":null,\\\"enable_nimbusml\\\":false,\\\"enable_streaming\\\":false,\\\"force_streaming\\\":false,\\\"track_child_runs\\\":true,\\\"allowed_private_models\\\":[],\\\"label_column_name\\\":\\\"diagnosis\\\",\\\"weight_column_name\\\":null,\\\"cv_split_column_names\\\":null,\\\"enable_local_managed\\\":false,\\\"_local_managed_run_id\\\":null,\\\"cost_mode\\\":1,\\\"lag_length\\\":0,\\\"metric_operation\\\":\\\"maximize\\\",\\\"preprocess\\\":true}\", \"DataPrepJsonString\": null, \"EnableSubsampling\": null, \"runTemplate\": \"AutoML\", \"azureml.runsource\": \"automl\", \"display_task_type\": \"classification\", \"dependencies_versions\": \"{\\\"azureml-widgets\\\": \\\"1.20.0\\\", \\\"azureml-train\\\": \\\"1.20.0\\\", \\\"azureml-train-restclients-hyperdrive\\\": \\\"1.20.0\\\", \\\"azureml-train-core\\\": \\\"1.20.0\\\", \\\"azureml-train-automl\\\": \\\"1.20.0\\\", \\\"azureml-train-automl-runtime\\\": \\\"1.20.0\\\", \\\"azureml-train-automl-client\\\": \\\"1.20.0\\\", \\\"azureml-tensorboard\\\": \\\"1.20.0\\\", \\\"azureml-telemetry\\\": \\\"1.20.0\\\", \\\"azureml-sdk\\\": \\\"1.20.0\\\", \\\"azureml-samples\\\": \\\"0+unknown\\\", \\\"azureml-pipeline\\\": \\\"1.20.0\\\", \\\"azureml-pipeline-steps\\\": \\\"1.20.0\\\", \\\"azureml-pipeline-core\\\": \\\"1.20.0\\\", \\\"azureml-opendatasets\\\": \\\"1.20.0\\\", \\\"azureml-model-management-sdk\\\": \\\"1.0.1b6.post1\\\", \\\"azureml-mlflow\\\": \\\"1.20.0.post1\\\", \\\"azureml-interpret\\\": \\\"1.20.0\\\", \\\"azureml-explain-model\\\": \\\"1.20.0\\\", \\\"azureml-defaults\\\": \\\"1.20.0\\\", \\\"azureml-dataset-runtime\\\": \\\"1.20.0\\\", \\\"azureml-dataprep\\\": \\\"2.7.3\\\", \\\"azureml-dataprep-rslex\\\": \\\"1.5.0\\\", \\\"azureml-dataprep-native\\\": \\\"27.0.0\\\", \\\"azureml-datadrift\\\": \\\"1.20.0\\\", \\\"azureml-core\\\": \\\"1.20.0\\\", \\\"azureml-contrib-services\\\": \\\"1.20.0\\\", \\\"azureml-contrib-server\\\": \\\"1.20.0\\\", \\\"azureml-contrib-reinforcementlearning\\\": \\\"1.20.0\\\", \\\"azureml-contrib-pipeline-steps\\\": \\\"1.20.0\\\", \\\"azureml-contrib-notebook\\\": \\\"1.20.0\\\", \\\"azureml-contrib-interpret\\\": \\\"1.20.0\\\", \\\"azureml-contrib-gbdt\\\": \\\"1.20.0\\\", \\\"azureml-contrib-fairness\\\": \\\"1.20.0\\\", \\\"azureml-contrib-dataset\\\": \\\"1.20.0\\\", \\\"azureml-cli-common\\\": \\\"1.20.0\\\", \\\"azureml-automl-runtime\\\": \\\"1.20.0\\\", \\\"azureml-automl-core\\\": \\\"1.20.0\\\", \\\"azureml-accel-models\\\": \\\"1.20.0\\\"}\", \"_aml_system_scenario_identification\": \"Local.Parent\", \"ClientSdkVersion\": \"1.20.0\", \"ClientType\": \"SDK\", \"environment_cpu_name\": \"AzureML-AutoML\", \"environment_cpu_label\": \"prod\", \"environment_gpu_name\": \"AzureML-AutoML-GPU\", \"environment_gpu_label\": \"prod\", \"root_attribution\": \"automl\", \"attribution\": \"AutoML\", \"Orchestrator\": \"AutoML\", \"_azureml.ComputeTargetType\": \"local\", \"ProblemInfoJsonString\": \"{\\\"dataset_num_categorical\\\": 0, \\\"is_sparse\\\": false, \\\"subsampling\\\": false, \\\"dataset_classes\\\": 2, \\\"dataset_features\\\": 8, \\\"dataset_samples\\\": 569, \\\"single_frequency_class_detected\\\": false}\", \"feature_skus\": \"automatedml_sdk_guardrails\"}, \"tags\": {\"model_explain_run\": \"best_run\", \"best_score\": \"0.9542462350566682\", \"best_pipeline\": \"VotingEnsemble\", \"automl_best_child_run_id\": \"AutoML_fba1e8bc-dc8d-4760-847e-5bac45aa1792_61\", \"model_explain_best_run_child_id\": \"AutoML_fba1e8bc-dc8d-4760-847e-5bac45aa1792_61\"}, \"end_time_utc\": \"2021-01-30T13:40:21.032731Z\", \"status\": \"Completed\", \"log_files\": {}, \"log_groups\": [], \"run_duration\": \"0:31:38\"}, \"child_runs\": [{\"run_id\": \"AutoML_fba1e8bc-dc8d-4760-847e-5bac45aa1792_0\", \"run_number\": 3, \"metric\": null, \"status\": \"Completed\", \"run_type\": null, \"training_percent\": \"100\", \"start_time\": \"2021-01-30T13:08:59.403957Z\", \"end_time\": \"2021-01-30T13:09:28.96325Z\", \"created_time\": \"2021-01-30T13:08:59.310257Z\", \"created_time_dt\": \"2021-01-30T13:08:59.310257Z\", \"duration\": \"0:00:29\", \"iteration\": \"0\", \"goal\": \"accuracy_max\", \"run_name\": \"MaxAbsScaler, LightGBM\", \"run_properties\": \"copy=True\", \"primary_metric\": 0.94722869, \"best_metric\": 0.94722869}, {\"run_id\": \"AutoML_fba1e8bc-dc8d-4760-847e-5bac45aa1792_1\", \"run_number\": 4, \"metric\": null, \"status\": \"Completed\", \"run_type\": null, \"training_percent\": \"100\", \"start_time\": \"2021-01-30T13:09:29.71966Z\", \"end_time\": \"2021-01-30T13:10:03.60339Z\", \"created_time\": \"2021-01-30T13:09:29.425766Z\", \"created_time_dt\": \"2021-01-30T13:09:29.425766Z\", \"duration\": \"0:00:34\", \"iteration\": \"1\", \"goal\": \"accuracy_max\", \"run_name\": \"MaxAbsScaler, XGBoostClassifier\", \"run_properties\": \"copy=True\", \"primary_metric\": 0.94370439, \"best_metric\": 0.94722869}, {\"run_id\": \"AutoML_fba1e8bc-dc8d-4760-847e-5bac45aa1792_2\", \"run_number\": 5, \"metric\": null, \"status\": \"Completed\", \"run_type\": null, \"training_percent\": \"100\", \"start_time\": \"2021-01-30T13:10:04.447874Z\", \"end_time\": \"2021-01-30T13:10:30.982922Z\", \"created_time\": \"2021-01-30T13:10:04.311345Z\", \"created_time_dt\": \"2021-01-30T13:10:04.311345Z\", \"duration\": \"0:00:26\", \"iteration\": \"2\", \"goal\": \"accuracy_max\", \"run_name\": \"MinMaxScaler, RandomForest\", \"run_properties\": \"copy=True, feature_range=(0, 1\", \"primary_metric\": 0.93314703, \"best_metric\": 0.94722869}, {\"run_id\": \"AutoML_fba1e8bc-dc8d-4760-847e-5bac45aa1792_3\", \"run_number\": 6, \"metric\": null, \"status\": \"Completed\", \"run_type\": null, \"training_percent\": \"100\", \"start_time\": \"2021-01-30T13:10:32.828059Z\", \"end_time\": \"2021-01-30T13:11:03.919592Z\", \"created_time\": \"2021-01-30T13:10:32.502989Z\", \"created_time_dt\": \"2021-01-30T13:10:32.502989Z\", \"duration\": \"0:00:31\", \"iteration\": \"3\", \"goal\": \"accuracy_max\", \"run_name\": \"MinMaxScaler, RandomForest\", \"run_properties\": \"copy=True, feature_range=(0, 1\", \"primary_metric\": 0.9209129, \"best_metric\": 0.94722869}, {\"run_id\": \"AutoML_fba1e8bc-dc8d-4760-847e-5bac45aa1792_4\", \"run_number\": 7, \"metric\": null, \"status\": \"Completed\", \"run_type\": null, \"training_percent\": \"100\", \"start_time\": \"2021-01-30T13:11:05.686265Z\", \"end_time\": \"2021-01-30T13:11:31.022249Z\", \"created_time\": \"2021-01-30T13:11:05.410142Z\", \"created_time_dt\": \"2021-01-30T13:11:05.410142Z\", \"duration\": \"0:00:25\", \"iteration\": \"4\", \"goal\": \"accuracy_max\", \"run_name\": \"MinMaxScaler, RandomForest\", \"run_properties\": \"copy=True, feature_range=(0, 1\", \"primary_metric\": 0.93317808, \"best_metric\": 0.94722869}, {\"run_id\": \"AutoML_fba1e8bc-dc8d-4760-847e-5bac45aa1792_5\", \"run_number\": 8, \"metric\": null, \"status\": \"Completed\", \"run_type\": null, \"training_percent\": \"100\", \"start_time\": \"2021-01-30T13:11:32.339494Z\", \"end_time\": \"2021-01-30T13:11:57.845753Z\", \"created_time\": \"2021-01-30T13:11:32.220007Z\", \"created_time_dt\": \"2021-01-30T13:11:32.220007Z\", \"duration\": \"0:00:25\", \"iteration\": \"5\", \"goal\": \"accuracy_max\", \"run_name\": \"MinMaxScaler, SVM\", \"run_properties\": \"copy=True, feature_range=(0, 1\", \"primary_metric\": 0.94022667, \"best_metric\": 0.94722869}, {\"run_id\": \"AutoML_fba1e8bc-dc8d-4760-847e-5bac45aa1792_6\", \"run_number\": 9, \"metric\": null, \"status\": \"Completed\", \"run_type\": null, \"training_percent\": \"100\", \"start_time\": \"2021-01-30T13:11:59.124411Z\", \"end_time\": \"2021-01-30T13:12:31.102693Z\", \"created_time\": \"2021-01-30T13:11:59.028953Z\", \"created_time_dt\": \"2021-01-30T13:11:59.028953Z\", \"duration\": \"0:00:32\", \"iteration\": \"6\", \"goal\": \"accuracy_max\", \"run_name\": \"MaxAbsScaler, GradientBoosting\", \"run_properties\": \"copy=True\", \"primary_metric\": 0.93667132, \"best_metric\": 0.94722869}, {\"run_id\": \"AutoML_fba1e8bc-dc8d-4760-847e-5bac45aa1792_7\", \"run_number\": 10, \"metric\": null, \"status\": \"Completed\", \"run_type\": null, \"training_percent\": \"100\", \"start_time\": \"2021-01-30T13:12:32.417557Z\", \"end_time\": \"2021-01-30T13:12:58.292756Z\", \"created_time\": \"2021-01-30T13:12:32.316917Z\", \"created_time_dt\": \"2021-01-30T13:12:32.316917Z\", \"duration\": \"0:00:25\", \"iteration\": \"7\", \"goal\": \"accuracy_max\", \"run_name\": \"StandardScalerWrapper, RandomForest\", \"run_properties\": \"<azureml.automl.runtime.shared.model_wrappers.StandardScalerWrapper object at 0x7fc222a4b3c8\", \"primary_metric\": 0.93142369, \"best_metric\": 0.94722869}, {\"run_id\": \"AutoML_fba1e8bc-dc8d-4760-847e-5bac45aa1792_8\", \"run_number\": 11, \"metric\": null, \"status\": \"Completed\", \"run_type\": null, \"training_percent\": \"100\", \"start_time\": \"2021-01-30T13:12:59.58594Z\", \"end_time\": \"2021-01-30T13:13:29.820735Z\", \"created_time\": \"2021-01-30T13:12:59.463068Z\", \"created_time_dt\": \"2021-01-30T13:12:59.463068Z\", \"duration\": \"0:00:30\", \"iteration\": \"8\", \"goal\": \"accuracy_max\", \"run_name\": \"SparseNormalizer, XGBoostClassifier\", \"run_properties\": \"<azureml.automl.runtime.shared.model_wrappers.SparseNormalizer object at 0x7fc222aeaba8\", \"primary_metric\": 0.93668685, \"best_metric\": 0.94722869}, {\"run_id\": \"AutoML_fba1e8bc-dc8d-4760-847e-5bac45aa1792_9\", \"run_number\": 12, \"metric\": null, \"status\": \"Completed\", \"run_type\": null, \"training_percent\": \"100\", \"start_time\": \"2021-01-30T13:13:31.015292Z\", \"end_time\": \"2021-01-30T13:14:01.284222Z\", \"created_time\": \"2021-01-30T13:13:30.904301Z\", \"created_time_dt\": \"2021-01-30T13:13:30.904301Z\", \"duration\": \"0:00:30\", \"iteration\": \"9\", \"goal\": \"accuracy_max\", \"run_name\": \"SparseNormalizer, LightGBM\", \"run_properties\": \"<azureml.automl.runtime.shared.model_wrappers.SparseNormalizer object at 0x7fc1c996c710\", \"primary_metric\": 0.92088185, \"best_metric\": 0.94722869}, {\"run_id\": \"AutoML_fba1e8bc-dc8d-4760-847e-5bac45aa1792_10\", \"run_number\": 13, \"metric\": null, \"status\": \"Completed\", \"run_type\": null, \"training_percent\": \"100\", \"start_time\": \"2021-01-30T13:14:02.597393Z\", \"end_time\": \"2021-01-30T13:14:28.233504Z\", \"created_time\": \"2021-01-30T13:14:02.50221Z\", \"created_time_dt\": \"2021-01-30T13:14:02.50221Z\", \"duration\": \"0:00:25\", \"iteration\": \"10\", \"goal\": \"accuracy_max\", \"run_name\": \"RobustScaler, RandomForest\", \"run_properties\": \"copy=True, quantile_range=[10, 90], with_centering=True,\\n             with_scaling=True\", \"primary_metric\": 0.91740413, \"best_metric\": 0.94722869}, {\"run_id\": \"AutoML_fba1e8bc-dc8d-4760-847e-5bac45aa1792_11\", \"run_number\": 14, \"metric\": null, \"status\": \"Completed\", \"run_type\": null, \"training_percent\": \"100\", \"start_time\": \"2021-01-30T13:14:29.612913Z\", \"end_time\": \"2021-01-30T13:15:03.345784Z\", \"created_time\": \"2021-01-30T13:14:29.504196Z\", \"created_time_dt\": \"2021-01-30T13:14:29.504196Z\", \"duration\": \"0:00:33\", \"iteration\": \"11\", \"goal\": \"accuracy_max\", \"run_name\": \"MaxAbsScaler, LightGBM\", \"run_properties\": \"copy=True\", \"primary_metric\": 0.93496351, \"best_metric\": 0.94722869}, {\"run_id\": \"AutoML_fba1e8bc-dc8d-4760-847e-5bac45aa1792_12\", \"run_number\": 15, \"metric\": null, \"status\": \"Completed\", \"run_type\": null, \"training_percent\": \"100\", \"start_time\": \"2021-01-30T13:15:05.714202Z\", \"end_time\": \"2021-01-30T13:15:37.416457Z\", \"created_time\": \"2021-01-30T13:15:05.295634Z\", \"created_time_dt\": \"2021-01-30T13:15:05.295634Z\", \"duration\": \"0:00:32\", \"iteration\": \"12\", \"goal\": \"accuracy_max\", \"run_name\": \"SparseNormalizer, XGBoostClassifier\", \"run_properties\": \"<azureml.automl.runtime.shared.model_wrappers.SparseNormalizer object at 0x7fc222b8db70\", \"primary_metric\": 0.92791492, \"best_metric\": 0.94722869}, {\"run_id\": \"AutoML_fba1e8bc-dc8d-4760-847e-5bac45aa1792_13\", \"run_number\": 16, \"metric\": null, \"status\": \"Completed\", \"run_type\": null, \"training_percent\": \"100\", \"start_time\": \"2021-01-30T13:15:38.797164Z\", \"end_time\": \"2021-01-30T13:16:05.117749Z\", \"created_time\": \"2021-01-30T13:15:38.692174Z\", \"created_time_dt\": \"2021-01-30T13:15:38.692174Z\", \"duration\": \"0:00:26\", \"iteration\": \"13\", \"goal\": \"accuracy_max\", \"run_name\": \"RobustScaler, ExtremeRandomTrees\", \"run_properties\": \"copy=True, quantile_range=[25, 75], with_centering=True,\\n             with_scaling=False\", \"primary_metric\": 0.92442167, \"best_metric\": 0.94722869}, {\"run_id\": \"AutoML_fba1e8bc-dc8d-4760-847e-5bac45aa1792_14\", \"run_number\": 17, \"metric\": null, \"status\": \"Completed\", \"run_type\": null, \"training_percent\": \"100\", \"start_time\": \"2021-01-30T13:16:06.366535Z\", \"end_time\": \"2021-01-30T13:16:32.55366Z\", \"created_time\": \"2021-01-30T13:16:06.262418Z\", \"created_time_dt\": \"2021-01-30T13:16:06.262418Z\", \"duration\": \"0:00:26\", \"iteration\": \"14\", \"goal\": \"accuracy_max\", \"run_name\": \"StandardScalerWrapper, ExtremeRandomTrees\", \"run_properties\": \"<azureml.automl.runtime.shared.model_wrappers.StandardScalerWrapper object at 0x7fc222a99780\", \"primary_metric\": 0.91560317, \"best_metric\": 0.94722869}, {\"run_id\": \"AutoML_fba1e8bc-dc8d-4760-847e-5bac45aa1792_15\", \"run_number\": 18, \"metric\": null, \"status\": \"Completed\", \"run_type\": null, \"training_percent\": \"100\", \"start_time\": \"2021-01-30T13:16:33.720338Z\", \"end_time\": \"2021-01-30T13:16:59.974098Z\", \"created_time\": \"2021-01-30T13:16:33.61504Z\", \"created_time_dt\": \"2021-01-30T13:16:33.61504Z\", \"duration\": \"0:00:26\", \"iteration\": \"15\", \"goal\": \"accuracy_max\", \"run_name\": \"StandardScalerWrapper, XGBoostClassifier\", \"run_properties\": \"<azureml.automl.runtime.shared.model_wrappers.StandardScalerWrapper object at 0x7fc2228f10f0\", \"primary_metric\": 0.93496351, \"best_metric\": 0.94722869}, {\"run_id\": \"AutoML_fba1e8bc-dc8d-4760-847e-5bac45aa1792_16\", \"run_number\": 19, \"metric\": null, \"status\": \"Completed\", \"run_type\": null, \"training_percent\": \"100\", \"start_time\": \"2021-01-30T13:17:01.139043Z\", \"end_time\": \"2021-01-30T13:17:27.602015Z\", \"created_time\": \"2021-01-30T13:17:01.014373Z\", \"created_time_dt\": \"2021-01-30T13:17:01.014373Z\", \"duration\": \"0:00:26\", \"iteration\": \"16\", \"goal\": \"accuracy_max\", \"run_name\": \"SparseNormalizer, XGBoostClassifier\", \"run_properties\": \"<azureml.automl.runtime.shared.model_wrappers.SparseNormalizer object at 0x7fc2229bed30\", \"primary_metric\": 0.92965378, \"best_metric\": 0.94722869}, {\"run_id\": \"AutoML_fba1e8bc-dc8d-4760-847e-5bac45aa1792_17\", \"run_number\": 20, \"metric\": null, \"status\": \"Completed\", \"run_type\": null, \"training_percent\": \"100\", \"start_time\": \"2021-01-30T13:17:28.766909Z\", \"end_time\": \"2021-01-30T13:17:59.852081Z\", \"created_time\": \"2021-01-30T13:17:28.644522Z\", \"created_time_dt\": \"2021-01-30T13:17:28.644522Z\", \"duration\": \"0:00:31\", \"iteration\": \"17\", \"goal\": \"accuracy_max\", \"run_name\": \"SparseNormalizer, XGBoostClassifier\", \"run_properties\": \"<azureml.automl.runtime.shared.model_wrappers.SparseNormalizer object at 0x7fc2229c4400\", \"primary_metric\": 0.92263624, \"best_metric\": 0.94722869}, {\"run_id\": \"AutoML_fba1e8bc-dc8d-4760-847e-5bac45aa1792_18\", \"run_number\": 21, \"metric\": null, \"status\": \"Completed\", \"run_type\": null, \"training_percent\": \"100\", \"start_time\": \"2021-01-30T13:18:00.99729Z\", \"end_time\": \"2021-01-30T13:18:32.216617Z\", \"created_time\": \"2021-01-30T13:18:00.893801Z\", \"created_time_dt\": \"2021-01-30T13:18:00.893801Z\", \"duration\": \"0:00:31\", \"iteration\": \"18\", \"goal\": \"accuracy_max\", \"run_name\": \"SparseNormalizer, XGBoostClassifier\", \"run_properties\": \"<azureml.automl.runtime.shared.model_wrappers.SparseNormalizer object at 0x7fc222a00978\", \"primary_metric\": 0.93142369, \"best_metric\": 0.94722869}, {\"run_id\": \"AutoML_fba1e8bc-dc8d-4760-847e-5bac45aa1792_19\", \"run_number\": 22, \"metric\": null, \"status\": \"Completed\", \"run_type\": null, \"training_percent\": \"100\", \"start_time\": \"2021-01-30T13:18:33.550867Z\", \"end_time\": \"2021-01-30T13:19:05.918012Z\", \"created_time\": \"2021-01-30T13:18:33.450193Z\", \"created_time_dt\": \"2021-01-30T13:18:33.450193Z\", \"duration\": \"0:00:32\", \"iteration\": \"19\", \"goal\": \"accuracy_max\", \"run_name\": \"MaxAbsScaler, LogisticRegression\", \"run_properties\": \"copy=True\", \"primary_metric\": 0.94021115, \"best_metric\": 0.94722869}, {\"run_id\": \"AutoML_fba1e8bc-dc8d-4760-847e-5bac45aa1792_20\", \"run_number\": 24, \"metric\": null, \"status\": \"Completed\", \"run_type\": null, \"training_percent\": \"100\", \"start_time\": \"2021-01-30T13:19:08.367648Z\", \"end_time\": \"2021-01-30T13:19:42.121988Z\", \"created_time\": \"2021-01-30T13:19:07.946706Z\", \"created_time_dt\": \"2021-01-30T13:19:07.946706Z\", \"duration\": \"0:00:34\", \"iteration\": \"20\", \"goal\": \"accuracy_max\", \"run_name\": \"StandardScalerWrapper, KNN\", \"run_properties\": \"<azureml.automl.runtime.shared.model_wrappers.StandardScalerWrapper object at 0x7fc2229b3ba8\", \"primary_metric\": 0.89099519, \"best_metric\": 0.94722869}, {\"run_id\": \"AutoML_fba1e8bc-dc8d-4760-847e-5bac45aa1792_21\", \"run_number\": 26, \"metric\": null, \"status\": \"Completed\", \"run_type\": null, \"training_percent\": \"100\", \"start_time\": \"2021-01-30T13:19:44.60305Z\", \"end_time\": \"2021-01-30T13:20:17.046246Z\", \"created_time\": \"2021-01-30T13:19:44.189166Z\", \"created_time_dt\": \"2021-01-30T13:19:44.189166Z\", \"duration\": \"0:00:32\", \"iteration\": \"21\", \"goal\": \"accuracy_max\", \"run_name\": \"SparseNormalizer, RandomForest\", \"run_properties\": \"<azureml.automl.runtime.shared.model_wrappers.SparseNormalizer object at 0x7fc222952ef0\", \"primary_metric\": 0.92612948, \"best_metric\": 0.94722869}, {\"run_id\": \"AutoML_fba1e8bc-dc8d-4760-847e-5bac45aa1792_22\", \"run_number\": 27, \"metric\": null, \"status\": \"Completed\", \"run_type\": null, \"training_percent\": \"100\", \"start_time\": \"2021-01-30T13:20:19.235529Z\", \"end_time\": \"2021-01-30T13:20:56.828847Z\", \"created_time\": \"2021-01-30T13:20:18.807812Z\", \"created_time_dt\": \"2021-01-30T13:20:18.807812Z\", \"duration\": \"0:00:38\", \"iteration\": \"22\", \"goal\": \"accuracy_max\", \"run_name\": \"MinMaxScaler, LightGBM\", \"run_properties\": \"copy=True, feature_range=(0, 1\", \"primary_metric\": 0.94019562, \"best_metric\": 0.94722869}, {\"run_id\": \"AutoML_fba1e8bc-dc8d-4760-847e-5bac45aa1792_23\", \"run_number\": 30, \"metric\": null, \"status\": \"Completed\", \"run_type\": null, \"training_percent\": \"100\", \"start_time\": \"2021-01-30T13:20:58.108818Z\", \"end_time\": \"2021-01-30T13:21:23.474379Z\", \"created_time\": \"2021-01-30T13:20:58.004608Z\", \"created_time_dt\": \"2021-01-30T13:20:58.004608Z\", \"duration\": \"0:00:25\", \"iteration\": \"23\", \"goal\": \"accuracy_max\", \"run_name\": \"StandardScalerWrapper, XGBoostClassifier\", \"run_properties\": \"<azureml.automl.runtime.shared.model_wrappers.StandardScalerWrapper object at 0x7fc1ac06c198\", \"primary_metric\": 0.93491694, \"best_metric\": 0.94722869}, {\"run_id\": \"AutoML_fba1e8bc-dc8d-4760-847e-5bac45aa1792_24\", \"run_number\": 31, \"metric\": null, \"status\": \"Completed\", \"run_type\": null, \"training_percent\": \"100\", \"start_time\": \"2021-01-30T13:21:24.721457Z\", \"end_time\": \"2021-01-30T13:21:54.943477Z\", \"created_time\": \"2021-01-30T13:21:24.617742Z\", \"created_time_dt\": \"2021-01-30T13:21:24.617742Z\", \"duration\": \"0:00:30\", \"iteration\": \"24\", \"goal\": \"accuracy_max\", \"run_name\": \"StandardScalerWrapper, LightGBM\", \"run_properties\": \"<azureml.automl.runtime.shared.model_wrappers.StandardScalerWrapper object at 0x7fc1ab8555f8\", \"primary_metric\": 0.93844124, \"best_metric\": 0.94722869}, {\"run_id\": \"AutoML_fba1e8bc-dc8d-4760-847e-5bac45aa1792_25\", \"run_number\": 32, \"metric\": null, \"status\": \"Completed\", \"run_type\": null, \"training_percent\": \"100\", \"start_time\": \"2021-01-30T13:21:57.077803Z\", \"end_time\": \"2021-01-30T13:22:22.254799Z\", \"created_time\": \"2021-01-30T13:21:56.965812Z\", \"created_time_dt\": \"2021-01-30T13:21:56.965812Z\", \"duration\": \"0:00:25\", \"iteration\": \"25\", \"goal\": \"accuracy_max\", \"run_name\": \"MaxAbsScaler, LightGBM\", \"run_properties\": \"copy=True\", \"primary_metric\": 0.92965378, \"best_metric\": 0.94722869}, {\"run_id\": \"AutoML_fba1e8bc-dc8d-4760-847e-5bac45aa1792_26\", \"run_number\": 33, \"metric\": null, \"status\": \"Completed\", \"run_type\": null, \"training_percent\": \"100\", \"start_time\": \"2021-01-30T13:22:23.518812Z\", \"end_time\": \"2021-01-30T13:22:48.759331Z\", \"created_time\": \"2021-01-30T13:22:23.405341Z\", \"created_time_dt\": \"2021-01-30T13:22:23.405341Z\", \"duration\": \"0:00:25\", \"iteration\": \"26\", \"goal\": \"accuracy_max\", \"run_name\": \"SparseNormalizer, XGBoostClassifier\", \"run_properties\": \"<azureml.automl.runtime.shared.model_wrappers.SparseNormalizer object at 0x7fc1ac86dcc0\", \"primary_metric\": 0.93143922, \"best_metric\": 0.94722869}, {\"run_id\": \"AutoML_fba1e8bc-dc8d-4760-847e-5bac45aa1792_27\", \"run_number\": 34, \"metric\": null, \"status\": \"Completed\", \"run_type\": null, \"training_percent\": \"100\", \"start_time\": \"2021-01-30T13:22:50.755136Z\", \"end_time\": \"2021-01-30T13:23:15.579017Z\", \"created_time\": \"2021-01-30T13:22:50.634204Z\", \"created_time_dt\": \"2021-01-30T13:22:50.634204Z\", \"duration\": \"0:00:24\", \"iteration\": \"27\", \"goal\": \"accuracy_max\", \"run_name\": \"StandardScalerWrapper, LogisticRegression\", \"run_properties\": \"<azureml.automl.runtime.shared.model_wrappers.StandardScalerWrapper object at 0x7fc2229175f8\", \"primary_metric\": 0.9367179, \"best_metric\": 0.94722869}, {\"run_id\": \"AutoML_fba1e8bc-dc8d-4760-847e-5bac45aa1792_28\", \"run_number\": 35, \"metric\": null, \"status\": \"Completed\", \"run_type\": null, \"training_percent\": \"100\", \"start_time\": \"2021-01-30T13:23:16.789262Z\", \"end_time\": \"2021-01-30T13:23:41.561676Z\", \"created_time\": \"2021-01-30T13:23:16.690772Z\", \"created_time_dt\": \"2021-01-30T13:23:16.690772Z\", \"duration\": \"0:00:24\", \"iteration\": \"28\", \"goal\": \"accuracy_max\", \"run_name\": \"SparseNormalizer, XGBoostClassifier\", \"run_properties\": \"<azureml.automl.runtime.shared.model_wrappers.SparseNormalizer object at 0x7fc2228452e8\", \"primary_metric\": 0.93670238, \"best_metric\": 0.94722869}, {\"run_id\": \"AutoML_fba1e8bc-dc8d-4760-847e-5bac45aa1792_29\", \"run_number\": 36, \"metric\": null, \"status\": \"Completed\", \"run_type\": null, \"training_percent\": \"100\", \"start_time\": \"2021-01-30T13:23:42.949967Z\", \"end_time\": \"2021-01-30T13:24:10.677921Z\", \"created_time\": \"2021-01-30T13:23:42.792615Z\", \"created_time_dt\": \"2021-01-30T13:23:42.792615Z\", \"duration\": \"0:00:27\", \"iteration\": \"29\", \"goal\": \"accuracy_max\", \"run_name\": \"StandardScalerWrapper, GradientBoosting\", \"run_properties\": \"<azureml.automl.runtime.shared.model_wrappers.StandardScalerWrapper object at 0x7fc1ac8787b8\", \"primary_metric\": 0.92965378, \"best_metric\": 0.94722869}, {\"run_id\": \"AutoML_fba1e8bc-dc8d-4760-847e-5bac45aa1792_30\", \"run_number\": 37, \"metric\": null, \"status\": \"Completed\", \"run_type\": null, \"training_percent\": \"100\", \"start_time\": \"2021-01-30T13:24:12.968723Z\", \"end_time\": \"2021-01-30T13:24:39.492989Z\", \"created_time\": \"2021-01-30T13:24:12.868164Z\", \"created_time_dt\": \"2021-01-30T13:24:12.868164Z\", \"duration\": \"0:00:26\", \"iteration\": \"30\", \"goal\": \"accuracy_max\", \"run_name\": \"MinMaxScaler, LightGBM\", \"run_properties\": \"copy=True, feature_range=(0, 1\", \"primary_metric\": 0.93842571, \"best_metric\": 0.94722869}, {\"run_id\": \"AutoML_fba1e8bc-dc8d-4760-847e-5bac45aa1792_31\", \"run_number\": 38, \"metric\": null, \"status\": \"Completed\", \"run_type\": null, \"training_percent\": \"100\", \"start_time\": \"2021-01-30T13:24:40.825502Z\", \"end_time\": \"2021-01-30T13:25:11.735303Z\", \"created_time\": \"2021-01-30T13:24:40.714774Z\", \"created_time_dt\": \"2021-01-30T13:24:40.714774Z\", \"duration\": \"0:00:31\", \"iteration\": \"31\", \"goal\": \"accuracy_max\", \"run_name\": \"StandardScalerWrapper, XGBoostClassifier\", \"run_properties\": \"<azureml.automl.runtime.shared.model_wrappers.StandardScalerWrapper object at 0x7fc1b4e4aeb8\", \"primary_metric\": 0.93667132, \"best_metric\": 0.94722869}, {\"run_id\": \"AutoML_fba1e8bc-dc8d-4760-847e-5bac45aa1792_32\", \"run_number\": 39, \"metric\": null, \"status\": \"Completed\", \"run_type\": null, \"training_percent\": \"100\", \"start_time\": \"2021-01-30T13:25:13.01291Z\", \"end_time\": \"2021-01-30T13:25:45.758966Z\", \"created_time\": \"2021-01-30T13:25:12.9069Z\", \"created_time_dt\": \"2021-01-30T13:25:12.9069Z\", \"duration\": \"0:00:32\", \"iteration\": \"32\", \"goal\": \"accuracy_max\", \"run_name\": \"StandardScalerWrapper, XGBoostClassifier\", \"run_properties\": \"<azureml.automl.runtime.shared.model_wrappers.StandardScalerWrapper object at 0x7fc1b5037eb8\", \"primary_metric\": 0.94021115, \"best_metric\": 0.94722869}, {\"run_id\": \"AutoML_fba1e8bc-dc8d-4760-847e-5bac45aa1792_33\", \"run_number\": 44, \"metric\": null, \"status\": \"Completed\", \"run_type\": null, \"training_percent\": \"100\", \"start_time\": \"2021-01-30T13:25:46.958279Z\", \"end_time\": \"2021-01-30T13:26:12.0431Z\", \"created_time\": \"2021-01-30T13:25:46.837986Z\", \"created_time_dt\": \"2021-01-30T13:25:46.837986Z\", \"duration\": \"0:00:25\", \"iteration\": \"33\", \"goal\": \"accuracy_max\", \"run_name\": \"StandardScalerWrapper, XGBoostClassifier\", \"run_properties\": \"<azureml.automl.runtime.shared.model_wrappers.StandardScalerWrapper object at 0x7fc1b4e74630\", \"primary_metric\": 0.94195001, \"best_metric\": 0.94722869}, {\"run_id\": \"AutoML_fba1e8bc-dc8d-4760-847e-5bac45aa1792_34\", \"run_number\": 45, \"metric\": null, \"status\": \"Completed\", \"run_type\": null, \"training_percent\": \"100\", \"start_time\": \"2021-01-30T13:26:13.100572Z\", \"end_time\": \"2021-01-30T13:26:38.080019Z\", \"created_time\": \"2021-01-30T13:26:12.984593Z\", \"created_time_dt\": \"2021-01-30T13:26:12.984593Z\", \"duration\": \"0:00:25\", \"iteration\": \"34\", \"goal\": \"accuracy_max\", \"run_name\": \"StandardScalerWrapper, XGBoostClassifier\", \"run_properties\": \"<azureml.automl.runtime.shared.model_wrappers.StandardScalerWrapper object at 0x7fc1b4f0e080\", \"primary_metric\": 0.93142369, \"best_metric\": 0.94722869}, {\"run_id\": \"AutoML_fba1e8bc-dc8d-4760-847e-5bac45aa1792_35\", \"run_number\": 46, \"metric\": null, \"status\": \"Completed\", \"run_type\": null, \"training_percent\": \"100\", \"start_time\": \"2021-01-30T13:26:40.299863Z\", \"end_time\": \"2021-01-30T13:27:06.552077Z\", \"created_time\": \"2021-01-30T13:26:40.186553Z\", \"created_time_dt\": \"2021-01-30T13:26:40.186553Z\", \"duration\": \"0:00:26\", \"iteration\": \"35\", \"goal\": \"accuracy_max\", \"run_name\": \"RobustScaler, LightGBM\", \"run_properties\": \"copy=True, quantile_range=[25, 75], with_centering=True,\\n             with_scaling=False\", \"primary_metric\": 0.93491694, \"best_metric\": 0.94722869}, {\"run_id\": \"AutoML_fba1e8bc-dc8d-4760-847e-5bac45aa1792_36\", \"run_number\": 47, \"metric\": null, \"status\": \"Completed\", \"run_type\": null, \"training_percent\": \"100\", \"start_time\": \"2021-01-30T13:27:07.772194Z\", \"end_time\": \"2021-01-30T13:27:34.865426Z\", \"created_time\": \"2021-01-30T13:27:07.672145Z\", \"created_time_dt\": \"2021-01-30T13:27:07.672145Z\", \"duration\": \"0:00:27\", \"iteration\": \"36\", \"goal\": \"accuracy_max\", \"run_name\": \"SparseNormalizer, XGBoostClassifier\", \"run_properties\": \"<azureml.automl.runtime.shared.model_wrappers.SparseNormalizer object at 0x7fc222af9da0\", \"primary_metric\": 0.93491694, \"best_metric\": 0.94722869}, {\"run_id\": \"AutoML_fba1e8bc-dc8d-4760-847e-5bac45aa1792_37\", \"run_number\": 49, \"metric\": null, \"status\": \"Completed\", \"run_type\": null, \"training_percent\": \"100\", \"start_time\": \"2021-01-30T13:27:36.290069Z\", \"end_time\": \"2021-01-30T13:28:02.138146Z\", \"created_time\": \"2021-01-30T13:27:36.186414Z\", \"created_time_dt\": \"2021-01-30T13:27:36.186414Z\", \"duration\": \"0:00:25\", \"iteration\": \"37\", \"goal\": \"accuracy_max\", \"run_name\": \"StandardScalerWrapper, XGBoostClassifier\", \"run_properties\": \"<azureml.automl.runtime.shared.model_wrappers.StandardScalerWrapper object at 0x7fc1b4f1dc50\", \"primary_metric\": 0.93842571, \"best_metric\": 0.94722869}, {\"run_id\": \"AutoML_fba1e8bc-dc8d-4760-847e-5bac45aa1792_38\", \"run_number\": 50, \"metric\": null, \"status\": \"Completed\", \"run_type\": null, \"training_percent\": \"100\", \"start_time\": \"2021-01-30T13:28:03.411928Z\", \"end_time\": \"2021-01-30T13:28:30.348546Z\", \"created_time\": \"2021-01-30T13:28:03.318312Z\", \"created_time_dt\": \"2021-01-30T13:28:03.318312Z\", \"duration\": \"0:00:27\", \"iteration\": \"38\", \"goal\": \"accuracy_max\", \"run_name\": \"StandardScalerWrapper, LogisticRegression\", \"run_properties\": \"<azureml.automl.runtime.shared.model_wrappers.StandardScalerWrapper object at 0x7fc1b5013b70\", \"primary_metric\": 0.93317808, \"best_metric\": 0.94722869}, {\"run_id\": \"AutoML_fba1e8bc-dc8d-4760-847e-5bac45aa1792_39\", \"run_number\": 53, \"metric\": null, \"status\": \"Completed\", \"run_type\": null, \"training_percent\": \"100\", \"start_time\": \"2021-01-30T13:28:31.55605Z\", \"end_time\": \"2021-01-30T13:28:57.005974Z\", \"created_time\": \"2021-01-30T13:28:31.461207Z\", \"created_time_dt\": \"2021-01-30T13:28:31.461207Z\", \"duration\": \"0:00:25\", \"iteration\": \"39\", \"goal\": \"accuracy_max\", \"run_name\": \"SparseNormalizer, XGBoostClassifier\", \"run_properties\": \"<azureml.automl.runtime.shared.model_wrappers.SparseNormalizer object at 0x7fc1b4f9e4a8\", \"primary_metric\": 0.9331315, \"best_metric\": 0.94722869}, {\"run_id\": \"AutoML_fba1e8bc-dc8d-4760-847e-5bac45aa1792_40\", \"run_number\": 54, \"metric\": null, \"status\": \"Completed\", \"run_type\": null, \"training_percent\": \"100\", \"start_time\": \"2021-01-30T13:28:59.195908Z\", \"end_time\": \"2021-01-30T13:29:25.589386Z\", \"created_time\": \"2021-01-30T13:28:59.098787Z\", \"created_time_dt\": \"2021-01-30T13:28:59.098787Z\", \"duration\": \"0:00:26\", \"iteration\": \"40\", \"goal\": \"accuracy_max\", \"run_name\": \"MinMaxScaler, LightGBM\", \"run_properties\": \"copy=True, feature_range=(0, 1\", \"primary_metric\": 0.94195001, \"best_metric\": 0.94722869}, {\"run_id\": \"AutoML_fba1e8bc-dc8d-4760-847e-5bac45aa1792_41\", \"run_number\": 57, \"metric\": null, \"status\": \"Completed\", \"run_type\": null, \"training_percent\": \"100\", \"start_time\": \"2021-01-30T13:29:26.918253Z\", \"end_time\": \"2021-01-30T13:29:57.18206Z\", \"created_time\": \"2021-01-30T13:29:26.827447Z\", \"created_time_dt\": \"2021-01-30T13:29:26.827447Z\", \"duration\": \"0:00:30\", \"iteration\": \"41\", \"goal\": \"accuracy_max\", \"run_name\": \"StandardScalerWrapper, XGBoostClassifier\", \"run_properties\": \"<azureml.automl.runtime.shared.model_wrappers.StandardScalerWrapper object at 0x7fc1b4e74b70\", \"primary_metric\": 0.94019562, \"best_metric\": 0.94722869}, {\"run_id\": \"AutoML_fba1e8bc-dc8d-4760-847e-5bac45aa1792_42\", \"run_number\": 58, \"metric\": null, \"status\": \"Completed\", \"run_type\": null, \"training_percent\": \"100\", \"start_time\": \"2021-01-30T13:29:58.42194Z\", \"end_time\": \"2021-01-30T13:30:24.633179Z\", \"created_time\": \"2021-01-30T13:29:58.314453Z\", \"created_time_dt\": \"2021-01-30T13:29:58.314453Z\", \"duration\": \"0:00:26\", \"iteration\": \"42\", \"goal\": \"accuracy_max\", \"run_name\": \"SparseNormalizer, XGBoostClassifier\", \"run_properties\": \"<azureml.automl.runtime.shared.model_wrappers.SparseNormalizer object at 0x7fc1b4dad9e8\", \"primary_metric\": 0.93844124, \"best_metric\": 0.94722869}, {\"run_id\": \"AutoML_fba1e8bc-dc8d-4760-847e-5bac45aa1792_43\", \"run_number\": 59, \"metric\": null, \"status\": \"Completed\", \"run_type\": null, \"training_percent\": \"100\", \"start_time\": \"2021-01-30T13:30:25.879848Z\", \"end_time\": \"2021-01-30T13:30:50.928245Z\", \"created_time\": \"2021-01-30T13:30:25.784141Z\", \"created_time_dt\": \"2021-01-30T13:30:25.784141Z\", \"duration\": \"0:00:25\", \"iteration\": \"43\", \"goal\": \"accuracy_max\", \"run_name\": \"StandardScalerWrapper, XGBoostClassifier\", \"run_properties\": \"<azureml.automl.runtime.shared.model_wrappers.StandardScalerWrapper object at 0x7fc1b4dba6a0\", \"primary_metric\": 0.93316255, \"best_metric\": 0.94722869}, {\"run_id\": \"AutoML_fba1e8bc-dc8d-4760-847e-5bac45aa1792_44\", \"run_number\": 60, \"metric\": null, \"status\": \"Completed\", \"run_type\": null, \"training_percent\": \"100\", \"start_time\": \"2021-01-30T13:30:52.207286Z\", \"end_time\": \"2021-01-30T13:31:24.690751Z\", \"created_time\": \"2021-01-30T13:30:52.081172Z\", \"created_time_dt\": \"2021-01-30T13:30:52.081172Z\", \"duration\": \"0:00:32\", \"iteration\": \"44\", \"goal\": \"accuracy_max\", \"run_name\": \"StandardScalerWrapper, LightGBM\", \"run_properties\": \"<azureml.automl.runtime.shared.model_wrappers.StandardScalerWrapper object at 0x7fc1b4f8a5f8\", \"primary_metric\": 0.93316255, \"best_metric\": 0.94722869}, {\"run_id\": \"AutoML_fba1e8bc-dc8d-4760-847e-5bac45aa1792_45\", \"run_number\": 61, \"metric\": null, \"status\": \"Completed\", \"run_type\": null, \"training_percent\": \"100\", \"start_time\": \"2021-01-30T13:31:26.637079Z\", \"end_time\": \"2021-01-30T13:31:51.408522Z\", \"created_time\": \"2021-01-30T13:31:26.535575Z\", \"created_time_dt\": \"2021-01-30T13:31:26.535575Z\", \"duration\": \"0:00:24\", \"iteration\": \"45\", \"goal\": \"accuracy_max\", \"run_name\": \"PCA, LightGBM\", \"run_properties\": \"copy=True, iterated_power='auto', n_components=0.5047368421052632,\\n    random_state=None, svd_solver='auto', tol=0.0, whiten=False\", \"primary_metric\": 0.89097966, \"best_metric\": 0.94722869}, {\"run_id\": \"AutoML_fba1e8bc-dc8d-4760-847e-5bac45aa1792_46\", \"run_number\": 62, \"metric\": null, \"status\": \"Completed\", \"run_type\": null, \"training_percent\": \"100\", \"start_time\": \"2021-01-30T13:31:52.879707Z\", \"end_time\": \"2021-01-30T13:32:18.094718Z\", \"created_time\": \"2021-01-30T13:31:52.767056Z\", \"created_time_dt\": \"2021-01-30T13:31:52.767056Z\", \"duration\": \"0:00:25\", \"iteration\": \"46\", \"goal\": \"accuracy_max\", \"run_name\": \"SparseNormalizer, XGBoostClassifier\", \"run_properties\": \"<azureml.automl.runtime.shared.model_wrappers.SparseNormalizer object at 0x7fc1b4f4f358\", \"primary_metric\": 0.93140817, \"best_metric\": 0.94722869}, {\"run_id\": \"AutoML_fba1e8bc-dc8d-4760-847e-5bac45aa1792_47\", \"run_number\": 63, \"metric\": null, \"status\": \"Completed\", \"run_type\": null, \"training_percent\": \"100\", \"start_time\": \"2021-01-30T13:32:19.385751Z\", \"end_time\": \"2021-01-30T13:32:44.587052Z\", \"created_time\": \"2021-01-30T13:32:19.245879Z\", \"created_time_dt\": \"2021-01-30T13:32:19.245879Z\", \"duration\": \"0:00:25\", \"iteration\": \"47\", \"goal\": \"accuracy_max\", \"run_name\": \"SparseNormalizer, XGBoostClassifier\", \"run_properties\": \"<azureml.automl.runtime.shared.model_wrappers.SparseNormalizer object at 0x7fc1b4fd9320\", \"primary_metric\": 0.93316255, \"best_metric\": 0.94722869}, {\"run_id\": \"AutoML_fba1e8bc-dc8d-4760-847e-5bac45aa1792_48\", \"run_number\": 64, \"metric\": null, \"status\": \"Completed\", \"run_type\": null, \"training_percent\": \"100\", \"start_time\": \"2021-01-30T13:32:45.747751Z\", \"end_time\": \"2021-01-30T13:33:10.719156Z\", \"created_time\": \"2021-01-30T13:32:45.659607Z\", \"created_time_dt\": \"2021-01-30T13:32:45.659607Z\", \"duration\": \"0:00:25\", \"iteration\": \"48\", \"goal\": \"accuracy_max\", \"run_name\": \"MaxAbsScaler, RandomForest\", \"run_properties\": \"copy=True\", \"primary_metric\": 0.9331936, \"best_metric\": 0.94722869}, {\"run_id\": \"AutoML_fba1e8bc-dc8d-4760-847e-5bac45aa1792_49\", \"run_number\": 65, \"metric\": null, \"status\": \"Completed\", \"run_type\": null, \"training_percent\": \"100\", \"start_time\": \"2021-01-30T13:33:12.607132Z\", \"end_time\": \"2021-01-30T13:33:37.491675Z\", \"created_time\": \"2021-01-30T13:33:12.498628Z\", \"created_time_dt\": \"2021-01-30T13:33:12.498628Z\", \"duration\": \"0:00:24\", \"iteration\": \"49\", \"goal\": \"accuracy_max\", \"run_name\": \"StandardScalerWrapper, XGBoostClassifier\", \"run_properties\": \"<azureml.automl.runtime.shared.model_wrappers.StandardScalerWrapper object at 0x7fc1b501f470\", \"primary_metric\": 0.93139264, \"best_metric\": 0.94722869}, {\"run_id\": \"AutoML_fba1e8bc-dc8d-4760-847e-5bac45aa1792_50\", \"run_number\": 66, \"metric\": null, \"status\": \"Completed\", \"run_type\": null, \"training_percent\": \"100\", \"start_time\": \"2021-01-30T13:33:39.834952Z\", \"end_time\": \"2021-01-30T13:34:06.150402Z\", \"created_time\": \"2021-01-30T13:33:39.727645Z\", \"created_time_dt\": \"2021-01-30T13:33:39.727645Z\", \"duration\": \"0:00:26\", \"iteration\": \"50\", \"goal\": \"accuracy_max\", \"run_name\": \"StandardScalerWrapper, LightGBM\", \"run_properties\": \"<azureml.automl.runtime.shared.model_wrappers.StandardScalerWrapper object at 0x7fc1c99aaa90\", \"primary_metric\": 0.93493246, \"best_metric\": 0.94722869}, {\"run_id\": \"AutoML_fba1e8bc-dc8d-4760-847e-5bac45aa1792_51\", \"run_number\": 67, \"metric\": null, \"status\": \"Completed\", \"run_type\": null, \"training_percent\": \"100\", \"start_time\": \"2021-01-30T13:34:07.364978Z\", \"end_time\": \"2021-01-30T13:34:33.004022Z\", \"created_time\": \"2021-01-30T13:34:07.270484Z\", \"created_time_dt\": \"2021-01-30T13:34:07.270484Z\", \"duration\": \"0:00:25\", \"iteration\": \"51\", \"goal\": \"accuracy_max\", \"run_name\": \"SparseNormalizer, XGBoostClassifier\", \"run_properties\": \"<azureml.automl.runtime.shared.model_wrappers.SparseNormalizer object at 0x7fc1b444cbe0\", \"primary_metric\": 0.94370439, \"best_metric\": 0.94722869}, {\"run_id\": \"AutoML_fba1e8bc-dc8d-4760-847e-5bac45aa1792_52\", \"run_number\": 68, \"metric\": null, \"status\": \"Completed\", \"run_type\": null, \"training_percent\": \"100\", \"start_time\": \"2021-01-30T13:34:34.381616Z\", \"end_time\": \"2021-01-30T13:35:00.124607Z\", \"created_time\": \"2021-01-30T13:34:34.244757Z\", \"created_time_dt\": \"2021-01-30T13:34:34.244757Z\", \"duration\": \"0:00:25\", \"iteration\": \"52\", \"goal\": \"accuracy_max\", \"run_name\": \"SparseNormalizer, XGBoostClassifier\", \"run_properties\": \"<azureml.automl.runtime.shared.model_wrappers.SparseNormalizer object at 0x7fc1b4412710\", \"primary_metric\": 0.93841018, \"best_metric\": 0.94722869}, {\"run_id\": \"AutoML_fba1e8bc-dc8d-4760-847e-5bac45aa1792_53\", \"run_number\": 69, \"metric\": null, \"status\": \"Completed\", \"run_type\": null, \"training_percent\": \"100\", \"start_time\": \"2021-01-30T13:35:01.304227Z\", \"end_time\": \"2021-01-30T13:35:27.156172Z\", \"created_time\": \"2021-01-30T13:35:01.20674Z\", \"created_time_dt\": \"2021-01-30T13:35:01.20674Z\", \"duration\": \"0:00:25\", \"iteration\": \"53\", \"goal\": \"accuracy_max\", \"run_name\": \"SparseNormalizer, XGBoostClassifier\", \"run_properties\": \"<azureml.automl.runtime.shared.model_wrappers.SparseNormalizer object at 0x7fc222a13710\", \"primary_metric\": 0.94014905, \"best_metric\": 0.94722869}, {\"run_id\": \"AutoML_fba1e8bc-dc8d-4760-847e-5bac45aa1792_54\", \"run_number\": 70, \"metric\": null, \"status\": \"Completed\", \"run_type\": null, \"training_percent\": \"100\", \"start_time\": \"2021-01-30T13:35:28.426296Z\", \"end_time\": \"2021-01-30T13:35:54.40492Z\", \"created_time\": \"2021-01-30T13:35:28.309639Z\", \"created_time_dt\": \"2021-01-30T13:35:28.309639Z\", \"duration\": \"0:00:26\", \"iteration\": \"54\", \"goal\": \"accuracy_max\", \"run_name\": \"SparseNormalizer, XGBoostClassifier\", \"run_properties\": \"<azureml.automl.runtime.shared.model_wrappers.SparseNormalizer object at 0x7fc222a86b38\", \"primary_metric\": 0.93493246, \"best_metric\": 0.94722869}, {\"run_id\": \"AutoML_fba1e8bc-dc8d-4760-847e-5bac45aa1792_55\", \"run_number\": 71, \"metric\": null, \"status\": \"Completed\", \"run_type\": null, \"training_percent\": \"100\", \"start_time\": \"2021-01-30T13:35:56.769682Z\", \"end_time\": \"2021-01-30T13:36:22.790539Z\", \"created_time\": \"2021-01-30T13:35:56.618446Z\", \"created_time_dt\": \"2021-01-30T13:35:56.618446Z\", \"duration\": \"0:00:26\", \"iteration\": \"55\", \"goal\": \"accuracy_max\", \"run_name\": \"SparseNormalizer, LightGBM\", \"run_properties\": \"<azureml.automl.runtime.shared.model_wrappers.SparseNormalizer object at 0x7fc1b4432780\", \"primary_metric\": 0.92966931, \"best_metric\": 0.94722869}, {\"run_id\": \"AutoML_fba1e8bc-dc8d-4760-847e-5bac45aa1792_56\", \"run_number\": 72, \"metric\": null, \"status\": \"Completed\", \"run_type\": null, \"training_percent\": \"100\", \"start_time\": \"2021-01-30T13:36:23.93194Z\", \"end_time\": \"2021-01-30T13:36:50.4041Z\", \"created_time\": \"2021-01-30T13:36:23.829941Z\", \"created_time_dt\": \"2021-01-30T13:36:23.829941Z\", \"duration\": \"0:00:26\", \"iteration\": \"56\", \"goal\": \"accuracy_max\", \"run_name\": \"StandardScalerWrapper, XGBoostClassifier\", \"run_properties\": \"<azureml.automl.runtime.shared.model_wrappers.StandardScalerWrapper object at 0x7fc1c40ebd30\", \"primary_metric\": 0.93316255, \"best_metric\": 0.94722869}, {\"run_id\": \"AutoML_fba1e8bc-dc8d-4760-847e-5bac45aa1792_57\", \"run_number\": 73, \"metric\": null, \"status\": \"Completed\", \"run_type\": null, \"training_percent\": \"100\", \"start_time\": \"2021-01-30T13:36:51.644748Z\", \"end_time\": \"2021-01-30T13:37:22.928605Z\", \"created_time\": \"2021-01-30T13:36:51.548333Z\", \"created_time_dt\": \"2021-01-30T13:36:51.548333Z\", \"duration\": \"0:00:31\", \"iteration\": \"57\", \"goal\": \"accuracy_max\", \"run_name\": \"SparseNormalizer, XGBoostClassifier\", \"run_properties\": \"<azureml.automl.runtime.shared.model_wrappers.SparseNormalizer object at 0x7fc1b448af98\", \"primary_metric\": 0.93316255, \"best_metric\": 0.94722869}, {\"run_id\": \"AutoML_fba1e8bc-dc8d-4760-847e-5bac45aa1792_58\", \"run_number\": 74, \"metric\": null, \"status\": \"Completed\", \"run_type\": null, \"training_percent\": \"100\", \"start_time\": \"2021-01-30T13:37:24.209226Z\", \"end_time\": \"2021-01-30T13:37:50.020056Z\", \"created_time\": \"2021-01-30T13:37:24.0985Z\", \"created_time_dt\": \"2021-01-30T13:37:24.0985Z\", \"duration\": \"0:00:25\", \"iteration\": \"58\", \"goal\": \"accuracy_max\", \"run_name\": \"MinMaxScaler, LogisticRegression\", \"run_properties\": \"copy=True, feature_range=(0, 1\", \"primary_metric\": 0.94198106, \"best_metric\": 0.94722869}, {\"run_id\": \"AutoML_fba1e8bc-dc8d-4760-847e-5bac45aa1792_59\", \"run_number\": 75, \"metric\": null, \"status\": \"Completed\", \"run_type\": null, \"training_percent\": \"100\", \"start_time\": \"2021-01-30T13:37:51.396881Z\", \"end_time\": \"2021-01-30T13:38:23.106022Z\", \"created_time\": \"2021-01-30T13:37:51.301671Z\", \"created_time_dt\": \"2021-01-30T13:37:51.301671Z\", \"duration\": \"0:00:31\", \"iteration\": \"59\", \"goal\": \"accuracy_max\", \"run_name\": \"MinMaxScaler, LogisticRegression\", \"run_properties\": \"copy=True, feature_range=(0, 1\", \"primary_metric\": 0.9367179, \"best_metric\": 0.94722869}, {\"run_id\": \"AutoML_fba1e8bc-dc8d-4760-847e-5bac45aa1792_60\", \"run_number\": 76, \"metric\": null, \"status\": \"Completed\", \"run_type\": null, \"training_percent\": \"100\", \"start_time\": \"2021-01-30T13:38:25.403912Z\", \"end_time\": \"2021-01-30T13:38:56.344433Z\", \"created_time\": \"2021-01-30T13:38:25.283464Z\", \"created_time_dt\": \"2021-01-30T13:38:25.283464Z\", \"duration\": \"0:00:31\", \"iteration\": \"60\", \"goal\": \"accuracy_max\", \"run_name\": \"StandardScalerWrapper, LightGBM\", \"run_properties\": \"<azureml.automl.runtime.shared.model_wrappers.StandardScalerWrapper object at 0x7fc1c407ac50\", \"primary_metric\": 0.94019562, \"best_metric\": 0.94722869}, {\"run_id\": \"AutoML_fba1e8bc-dc8d-4760-847e-5bac45aa1792_61\", \"run_number\": 77, \"metric\": null, \"status\": \"Completed\", \"run_type\": null, \"training_percent\": \"100\", \"start_time\": \"2021-01-30T13:38:56.696128Z\", \"end_time\": \"2021-01-30T13:39:34.828969Z\", \"created_time\": \"2021-01-30T13:38:56.587845Z\", \"created_time_dt\": \"2021-01-30T13:38:56.587845Z\", \"duration\": \"0:00:38\", \"iteration\": \"61\", \"goal\": \"accuracy_max\", \"run_name\": \"VotingEnsemble\", \"run_properties\": \"classification_labels=None,\\n                              estimators=[('0',\\n                                           Pipeline(memory=None,\\n                                                    steps=[('maxabsscaler',\\n                                                            MaxAbsScaler(copy=True\", \"primary_metric\": 0.95424624, \"best_metric\": 0.95424624}, {\"run_id\": \"AutoML_fba1e8bc-dc8d-4760-847e-5bac45aa1792_62\", \"run_number\": 78, \"metric\": null, \"status\": \"Completed\", \"run_type\": null, \"training_percent\": \"100\", \"start_time\": \"2021-01-30T13:39:35.242899Z\", \"end_time\": \"2021-01-30T13:40:14.629449Z\", \"created_time\": \"2021-01-30T13:39:35.132782Z\", \"created_time_dt\": \"2021-01-30T13:39:35.132782Z\", \"duration\": \"0:00:39\", \"iteration\": \"62\", \"goal\": \"accuracy_max\", \"run_name\": \"StackEnsemble\", \"run_properties\": \"base_learners=[('0',\\n                                        Pipeline(memory=None,\\n                                                 steps=[('maxabsscaler',\\n                                                         MaxAbsScaler(copy=True\", \"primary_metric\": 0.94547431, \"best_metric\": 0.95424624}], \"children_metrics\": {\"categories\": [0], \"series\": {\"AUC_micro\": [{\"categories\": [\"0\", \"1\", \"2\", \"3\", \"4\", \"5\", \"6\", \"7\", \"8\", \"9\", \"10\", \"11\", \"12\", \"13\", \"14\", \"15\", \"16\", \"17\", \"18\", \"19\", \"20\", \"21\", \"22\", \"23\", \"24\", \"25\", \"26\", \"27\", \"28\", \"29\", \"30\", \"31\", \"32\", \"33\", \"34\", \"35\", \"36\", \"37\", \"38\", \"39\", \"40\", \"41\", \"42\", \"43\", \"44\", \"45\", \"46\", \"47\", \"48\", \"49\", \"50\", \"51\", \"52\", \"53\", \"54\", \"55\", \"56\", \"57\", \"58\", \"59\", \"60\", \"61\", \"62\"], \"mode\": \"markers\", \"name\": \"AUC_micro\", \"stepped\": false, \"type\": \"scatter\", \"data\": [0.9886020327923208, 0.9882533445051654, 0.9790655611402663, 0.9783007445244631, 0.9830848487727846, 0.983058994567411, 0.9856753203531532, 0.9814293649056424, 0.9814176008324254, 0.9773882593223562, 0.9786920442830521, 0.9800655266471022, 0.9754455071761811, 0.9793994072430486, 0.9790923722838771, 0.9809527735071095, 0.9832818322190306, 0.9715161289529473, 0.9785581235487291, 0.9853493394631373, 0.956946072384399, 0.9772669909024099, 0.9890100898169696, 0.9862926045715954, 0.9852793696818971, 0.9856525442589359, 0.9822106652044071, 0.9851017419385366, 0.9848575648052675, 0.9859144368017138, 0.9876303150416639, 0.9874896222217547, 0.9879320145278168, 0.9846668737702771, 0.9846989516898288, 0.985143601357753, 0.986945523289864, 0.9813235545333431, 0.9850747934007706, 0.9851307429521439, 0.985767451570549, 0.9859702489589319, 0.985491537592692, 0.9859690859294622, 0.9859210027960674, 0.9438318846565945, 0.9790901848243045, 0.9829658377147004, 0.9831735595988486, 0.98525543055821, 0.9859938458024434, 0.9852090576204813, 0.9855431773063617, 0.9864646232588393, 0.9846138661411171, 0.978861122253295, 0.9862919887083216, 0.9843953371219893, 0.985456244167829, 0.9851017419385366, 0.9879710694189754, 0.9903586074220178, 0.9853894886866881]}, {\"categories\": [\"0\", \"1\", \"2\", \"3\", \"4\", \"5\", \"6\", \"7\", \"8\", \"9\", \"10\", \"11\", \"12\", \"13\", \"14\", \"15\", \"16\", \"17\", \"18\", \"19\", \"20\", \"21\", \"22\", \"23\", \"24\", \"25\", \"26\", \"27\", \"28\", \"29\", \"30\", \"31\", \"32\", \"33\", \"34\", \"35\", \"36\", \"37\", \"38\", \"39\", \"40\", \"41\", \"42\", \"43\", \"44\", \"45\", \"46\", \"47\", \"48\", \"49\", \"50\", \"51\", \"52\", \"53\", \"54\", \"55\", \"56\", \"57\", \"58\", \"59\", \"60\", \"61\", \"62\"], \"mode\": \"lines\", \"name\": \"AUC_micro_max\", \"stepped\": true, \"type\": \"scatter\", \"data\": [0.9886020327923208, 0.9886020327923208, 0.9886020327923208, 0.9886020327923208, 0.9886020327923208, 0.9886020327923208, 0.9886020327923208, 0.9886020327923208, 0.9886020327923208, 0.9886020327923208, 0.9886020327923208, 0.9886020327923208, 0.9886020327923208, 0.9886020327923208, 0.9886020327923208, 0.9886020327923208, 0.9886020327923208, 0.9886020327923208, 0.9886020327923208, 0.9886020327923208, 0.9886020327923208, 0.9886020327923208, 0.9890100898169696, 0.9890100898169696, 0.9890100898169696, 0.9890100898169696, 0.9890100898169696, 0.9890100898169696, 0.9890100898169696, 0.9890100898169696, 0.9890100898169696, 0.9890100898169696, 0.9890100898169696, 0.9890100898169696, 0.9890100898169696, 0.9890100898169696, 0.9890100898169696, 0.9890100898169696, 0.9890100898169696, 0.9890100898169696, 0.9890100898169696, 0.9890100898169696, 0.9890100898169696, 0.9890100898169696, 0.9890100898169696, 0.9890100898169696, 0.9890100898169696, 0.9890100898169696, 0.9890100898169696, 0.9890100898169696, 0.9890100898169696, 0.9890100898169696, 0.9890100898169696, 0.9890100898169696, 0.9890100898169696, 0.9890100898169696, 0.9890100898169696, 0.9890100898169696, 0.9890100898169696, 0.9890100898169696, 0.9890100898169696, 0.9903586074220178, 0.9903586074220178]}], \"precision_score_micro\": [{\"categories\": [\"0\", \"1\", \"2\", \"3\", \"4\", \"5\", \"6\", \"7\", \"8\", \"9\", \"10\", \"11\", \"12\", \"13\", \"14\", \"15\", \"16\", \"17\", \"18\", \"19\", \"20\", \"21\", \"22\", \"23\", \"24\", \"25\", \"26\", \"27\", \"28\", \"29\", \"30\", \"31\", \"32\", \"33\", \"34\", \"35\", \"36\", \"37\", \"38\", \"39\", \"40\", \"41\", \"42\", \"43\", \"44\", \"45\", \"46\", \"47\", \"48\", \"49\", \"50\", \"51\", \"52\", \"53\", \"54\", \"55\", \"56\", \"57\", \"58\", \"59\", \"60\", \"61\", \"62\"], \"mode\": \"markers\", \"name\": \"precision_score_micro\", \"stepped\": false, \"type\": \"scatter\", \"data\": [0.947228691197019, 0.9437043937276821, 0.9331470268591833, 0.9209129017233348, 0.9331780779382084, 0.9402266728768824, 0.9366713243285204, 0.9314236919732961, 0.936686849868033, 0.9208818506443098, 0.9174041297935103, 0.9349635149821456, 0.9279149200434714, 0.9244216736531594, 0.9156031672100606, 0.9349635149821458, 0.9296537804688713, 0.9226362366092221, 0.9314236919732961, 0.9402111473373699, 0.8909951870827513, 0.9261294829995341, 0.9401956217978575, 0.9349169383636081, 0.9384412358329453, 0.9296537804688713, 0.9314392175128086, 0.9367179009470579, 0.9367023754075454, 0.9296537804688713, 0.9384257102934326, 0.9366713243285204, 0.9402111473373699, 0.9419500077627697, 0.9314236919732961, 0.9349169383636081, 0.9349169383636081, 0.9384257102934326, 0.9331780779382084, 0.9331315013196708, 0.9419500077627697, 0.9401956217978574, 0.9384412358329453, 0.9331625523986959, 0.9331625523986959, 0.8909796615432386, 0.9314081664337837, 0.9331625523986957, 0.9331936034777207, 0.9313926408942711, 0.9349324639031206, 0.9437043937276821, 0.9384101847539202, 0.9401490451793201, 0.9349324639031208, 0.9296693060083838, 0.9331625523986957, 0.9331625523986957, 0.9419810588417947, 0.9367179009470579, 0.9401956217978574, 0.9542462350566682, 0.9454743052321068]}, {\"categories\": [\"0\", \"1\", \"2\", \"3\", \"4\", \"5\", \"6\", \"7\", \"8\", \"9\", \"10\", \"11\", \"12\", \"13\", \"14\", \"15\", \"16\", \"17\", \"18\", \"19\", \"20\", \"21\", \"22\", \"23\", \"24\", \"25\", \"26\", \"27\", \"28\", \"29\", \"30\", \"31\", \"32\", \"33\", \"34\", \"35\", \"36\", \"37\", \"38\", \"39\", \"40\", \"41\", \"42\", \"43\", \"44\", \"45\", \"46\", \"47\", \"48\", \"49\", \"50\", \"51\", \"52\", \"53\", \"54\", \"55\", \"56\", \"57\", \"58\", \"59\", \"60\", \"61\", \"62\"], \"mode\": \"lines\", \"name\": \"precision_score_micro_max\", \"stepped\": true, \"type\": \"scatter\", \"data\": [0.947228691197019, 0.947228691197019, 0.947228691197019, 0.947228691197019, 0.947228691197019, 0.947228691197019, 0.947228691197019, 0.947228691197019, 0.947228691197019, 0.947228691197019, 0.947228691197019, 0.947228691197019, 0.947228691197019, 0.947228691197019, 0.947228691197019, 0.947228691197019, 0.947228691197019, 0.947228691197019, 0.947228691197019, 0.947228691197019, 0.947228691197019, 0.947228691197019, 0.947228691197019, 0.947228691197019, 0.947228691197019, 0.947228691197019, 0.947228691197019, 0.947228691197019, 0.947228691197019, 0.947228691197019, 0.947228691197019, 0.947228691197019, 0.947228691197019, 0.947228691197019, 0.947228691197019, 0.947228691197019, 0.947228691197019, 0.947228691197019, 0.947228691197019, 0.947228691197019, 0.947228691197019, 0.947228691197019, 0.947228691197019, 0.947228691197019, 0.947228691197019, 0.947228691197019, 0.947228691197019, 0.947228691197019, 0.947228691197019, 0.947228691197019, 0.947228691197019, 0.947228691197019, 0.947228691197019, 0.947228691197019, 0.947228691197019, 0.947228691197019, 0.947228691197019, 0.947228691197019, 0.947228691197019, 0.947228691197019, 0.947228691197019, 0.9542462350566682, 0.9542462350566682]}], \"balanced_accuracy\": [{\"categories\": [\"0\", \"1\", \"2\", \"3\", \"4\", \"5\", \"6\", \"7\", \"8\", \"9\", \"10\", \"11\", \"12\", \"13\", \"14\", \"15\", \"16\", \"17\", \"18\", \"19\", \"20\", \"21\", \"22\", \"23\", \"24\", \"25\", \"26\", \"27\", \"28\", \"29\", \"30\", \"31\", \"32\", \"33\", \"34\", \"35\", \"36\", \"37\", \"38\", \"39\", \"40\", \"41\", \"42\", \"43\", \"44\", \"45\", \"46\", \"47\", \"48\", \"49\", \"50\", \"51\", \"52\", \"53\", \"54\", \"55\", \"56\", \"57\", \"58\", \"59\", \"60\", \"61\", \"62\"], \"mode\": \"markers\", \"name\": \"balanced_accuracy\", \"stepped\": false, \"type\": \"scatter\", \"data\": [0.9403747288892879, 0.9342871488275228, 0.9281320031941347, 0.9134772191117726, 0.9317953963901864, 0.9326234738309994, 0.9296865508925178, 0.9232122670856006, 0.9297689069631361, 0.9134829878783002, 0.9129433207250859, 0.9244210808761795, 0.9242956318786841, 0.9109716831547775, 0.9013745761747044, 0.9286940682418516, 0.9208715640428278, 0.91559420340163, 0.9232893504835797, 0.9337402993042044, 0.8685626637647008, 0.9207442036489697, 0.9343897408774982, 0.9291465774343095, 0.9314871571444545, 0.9245425432580747, 0.92669085226434, 0.9302550020055314, 0.930164255809944, 0.9205133134936616, 0.9348189033905993, 0.9297084999706566, 0.9340360810372392, 0.9348931846553412, 0.9246946293225149, 0.9301484277629125, 0.9297011302612171, 0.9335770177477158, 0.9298853971476646, 0.9244410371143454, 0.9379987711133904, 0.9343824130141348, 0.9336811803851027, 0.9265639632078596, 0.9265818882487501, 0.8657057764563543, 0.925980039228795, 0.9247048043990332, 0.931591983733399, 0.922793133903806, 0.9298959867885783, 0.9375194161223156, 0.9310617795559832, 0.9349665533029551, 0.9291023687576214, 0.9232839544353709, 0.9276759891990153, 0.9271340839256524, 0.9343922569074922, 0.9302550020055314, 0.9374140048065962, 0.9477699492749438, 0.9346212651422705]}, {\"categories\": [\"0\", \"1\", \"2\", \"3\", \"4\", \"5\", \"6\", \"7\", \"8\", \"9\", \"10\", \"11\", \"12\", \"13\", \"14\", \"15\", \"16\", \"17\", \"18\", \"19\", \"20\", \"21\", \"22\", \"23\", \"24\", \"25\", \"26\", \"27\", \"28\", \"29\", \"30\", \"31\", \"32\", \"33\", \"34\", \"35\", \"36\", \"37\", \"38\", \"39\", \"40\", \"41\", \"42\", \"43\", \"44\", \"45\", \"46\", \"47\", \"48\", \"49\", \"50\", \"51\", \"52\", \"53\", \"54\", \"55\", \"56\", \"57\", \"58\", \"59\", \"60\", \"61\", \"62\"], \"mode\": \"lines\", \"name\": \"balanced_accuracy_max\", \"stepped\": true, \"type\": \"scatter\", \"data\": [0.9403747288892879, 0.9403747288892879, 0.9403747288892879, 0.9403747288892879, 0.9403747288892879, 0.9403747288892879, 0.9403747288892879, 0.9403747288892879, 0.9403747288892879, 0.9403747288892879, 0.9403747288892879, 0.9403747288892879, 0.9403747288892879, 0.9403747288892879, 0.9403747288892879, 0.9403747288892879, 0.9403747288892879, 0.9403747288892879, 0.9403747288892879, 0.9403747288892879, 0.9403747288892879, 0.9403747288892879, 0.9403747288892879, 0.9403747288892879, 0.9403747288892879, 0.9403747288892879, 0.9403747288892879, 0.9403747288892879, 0.9403747288892879, 0.9403747288892879, 0.9403747288892879, 0.9403747288892879, 0.9403747288892879, 0.9403747288892879, 0.9403747288892879, 0.9403747288892879, 0.9403747288892879, 0.9403747288892879, 0.9403747288892879, 0.9403747288892879, 0.9403747288892879, 0.9403747288892879, 0.9403747288892879, 0.9403747288892879, 0.9403747288892879, 0.9403747288892879, 0.9403747288892879, 0.9403747288892879, 0.9403747288892879, 0.9403747288892879, 0.9403747288892879, 0.9403747288892879, 0.9403747288892879, 0.9403747288892879, 0.9403747288892879, 0.9403747288892879, 0.9403747288892879, 0.9403747288892879, 0.9403747288892879, 0.9403747288892879, 0.9403747288892879, 0.9477699492749438, 0.9477699492749438]}], \"recall_score_weighted\": [{\"categories\": [\"0\", \"1\", \"2\", \"3\", \"4\", \"5\", \"6\", \"7\", \"8\", \"9\", \"10\", \"11\", \"12\", \"13\", \"14\", \"15\", \"16\", \"17\", \"18\", \"19\", \"20\", \"21\", \"22\", \"23\", \"24\", \"25\", \"26\", \"27\", \"28\", \"29\", \"30\", \"31\", \"32\", \"33\", \"34\", \"35\", \"36\", \"37\", \"38\", \"39\", \"40\", \"41\", \"42\", \"43\", \"44\", \"45\", \"46\", \"47\", \"48\", \"49\", \"50\", \"51\", \"52\", \"53\", \"54\", \"55\", \"56\", \"57\", \"58\", \"59\", \"60\", \"61\", \"62\"], \"mode\": \"markers\", \"name\": \"recall_score_weighted\", \"stepped\": false, \"type\": \"scatter\", \"data\": [0.947228691197019, 0.9437043937276821, 0.9331470268591833, 0.9209129017233348, 0.9331780779382084, 0.9402266728768824, 0.9366713243285204, 0.9314236919732961, 0.936686849868033, 0.9208818506443098, 0.9174041297935103, 0.9349635149821456, 0.9279149200434714, 0.9244216736531594, 0.9156031672100606, 0.9349635149821458, 0.9296537804688713, 0.9226362366092221, 0.9314236919732961, 0.9402111473373699, 0.8909951870827513, 0.9261294829995341, 0.9401956217978575, 0.9349169383636081, 0.9384412358329453, 0.9296537804688713, 0.9314392175128086, 0.9367179009470579, 0.9367023754075454, 0.9296537804688713, 0.9384257102934326, 0.9366713243285204, 0.9402111473373699, 0.9419500077627697, 0.9314236919732961, 0.9349169383636081, 0.9349169383636081, 0.9384257102934326, 0.9331780779382084, 0.9331315013196708, 0.9419500077627697, 0.9401956217978574, 0.9384412358329453, 0.9331625523986959, 0.9331625523986959, 0.8909796615432386, 0.9314081664337837, 0.9331625523986957, 0.9331936034777207, 0.9313926408942711, 0.9349324639031206, 0.9437043937276821, 0.9384101847539202, 0.9401490451793201, 0.9349324639031208, 0.9296693060083838, 0.9331625523986957, 0.9331625523986957, 0.9419810588417947, 0.9367179009470579, 0.9401956217978574, 0.9542462350566682, 0.9454743052321068]}, {\"categories\": [\"0\", \"1\", \"2\", \"3\", \"4\", \"5\", \"6\", \"7\", \"8\", \"9\", \"10\", \"11\", \"12\", \"13\", \"14\", \"15\", \"16\", \"17\", \"18\", \"19\", \"20\", \"21\", \"22\", \"23\", \"24\", \"25\", \"26\", \"27\", \"28\", \"29\", \"30\", \"31\", \"32\", \"33\", \"34\", \"35\", \"36\", \"37\", \"38\", \"39\", \"40\", \"41\", \"42\", \"43\", \"44\", \"45\", \"46\", \"47\", \"48\", \"49\", \"50\", \"51\", \"52\", \"53\", \"54\", \"55\", \"56\", \"57\", \"58\", \"59\", \"60\", \"61\", \"62\"], \"mode\": \"lines\", \"name\": \"recall_score_weighted_max\", \"stepped\": true, \"type\": \"scatter\", \"data\": [0.947228691197019, 0.947228691197019, 0.947228691197019, 0.947228691197019, 0.947228691197019, 0.947228691197019, 0.947228691197019, 0.947228691197019, 0.947228691197019, 0.947228691197019, 0.947228691197019, 0.947228691197019, 0.947228691197019, 0.947228691197019, 0.947228691197019, 0.947228691197019, 0.947228691197019, 0.947228691197019, 0.947228691197019, 0.947228691197019, 0.947228691197019, 0.947228691197019, 0.947228691197019, 0.947228691197019, 0.947228691197019, 0.947228691197019, 0.947228691197019, 0.947228691197019, 0.947228691197019, 0.947228691197019, 0.947228691197019, 0.947228691197019, 0.947228691197019, 0.947228691197019, 0.947228691197019, 0.947228691197019, 0.947228691197019, 0.947228691197019, 0.947228691197019, 0.947228691197019, 0.947228691197019, 0.947228691197019, 0.947228691197019, 0.947228691197019, 0.947228691197019, 0.947228691197019, 0.947228691197019, 0.947228691197019, 0.947228691197019, 0.947228691197019, 0.947228691197019, 0.947228691197019, 0.947228691197019, 0.947228691197019, 0.947228691197019, 0.947228691197019, 0.947228691197019, 0.947228691197019, 0.947228691197019, 0.947228691197019, 0.947228691197019, 0.9542462350566682, 0.9542462350566682]}], \"recall_score_macro\": [{\"categories\": [\"0\", \"1\", \"2\", \"3\", \"4\", \"5\", \"6\", \"7\", \"8\", \"9\", \"10\", \"11\", \"12\", \"13\", \"14\", \"15\", \"16\", \"17\", \"18\", \"19\", \"20\", \"21\", \"22\", \"23\", \"24\", \"25\", \"26\", \"27\", \"28\", \"29\", \"30\", \"31\", \"32\", \"33\", \"34\", \"35\", \"36\", \"37\", \"38\", \"39\", \"40\", \"41\", \"42\", \"43\", \"44\", \"45\", \"46\", \"47\", \"48\", \"49\", \"50\", \"51\", \"52\", \"53\", \"54\", \"55\", \"56\", \"57\", \"58\", \"59\", \"60\", \"61\", \"62\"], \"mode\": \"markers\", \"name\": \"recall_score_macro\", \"stepped\": false, \"type\": \"scatter\", \"data\": [0.9403747288892879, 0.9342871488275228, 0.9281320031941347, 0.9134772191117726, 0.9317953963901864, 0.9326234738309994, 0.9296865508925178, 0.9232122670856006, 0.9297689069631361, 0.9134829878783002, 0.9129433207250859, 0.9244210808761795, 0.9242956318786841, 0.9109716831547775, 0.9013745761747044, 0.9286940682418516, 0.9208715640428278, 0.91559420340163, 0.9232893504835797, 0.9337402993042044, 0.8685626637647008, 0.9207442036489697, 0.9343897408774982, 0.9291465774343095, 0.9314871571444545, 0.9245425432580747, 0.92669085226434, 0.9302550020055314, 0.930164255809944, 0.9205133134936616, 0.9348189033905993, 0.9297084999706566, 0.9340360810372392, 0.9348931846553412, 0.9246946293225149, 0.9301484277629125, 0.9297011302612171, 0.9335770177477158, 0.9298853971476646, 0.9244410371143454, 0.9379987711133904, 0.9343824130141348, 0.9336811803851027, 0.9265639632078596, 0.9265818882487501, 0.8657057764563543, 0.925980039228795, 0.9247048043990332, 0.931591983733399, 0.922793133903806, 0.9298959867885783, 0.9375194161223156, 0.9310617795559832, 0.9349665533029551, 0.9291023687576214, 0.9232839544353709, 0.9276759891990153, 0.9271340839256524, 0.9343922569074922, 0.9302550020055314, 0.9374140048065962, 0.9477699492749438, 0.9346212651422705]}, {\"categories\": [\"0\", \"1\", \"2\", \"3\", \"4\", \"5\", \"6\", \"7\", \"8\", \"9\", \"10\", \"11\", \"12\", \"13\", \"14\", \"15\", \"16\", \"17\", \"18\", \"19\", \"20\", \"21\", \"22\", \"23\", \"24\", \"25\", \"26\", \"27\", \"28\", \"29\", \"30\", \"31\", \"32\", \"33\", \"34\", \"35\", \"36\", \"37\", \"38\", \"39\", \"40\", \"41\", \"42\", \"43\", \"44\", \"45\", \"46\", \"47\", \"48\", \"49\", \"50\", \"51\", \"52\", \"53\", \"54\", \"55\", \"56\", \"57\", \"58\", \"59\", \"60\", \"61\", \"62\"], \"mode\": \"lines\", \"name\": \"recall_score_macro_max\", \"stepped\": true, \"type\": \"scatter\", \"data\": [0.9403747288892879, 0.9403747288892879, 0.9403747288892879, 0.9403747288892879, 0.9403747288892879, 0.9403747288892879, 0.9403747288892879, 0.9403747288892879, 0.9403747288892879, 0.9403747288892879, 0.9403747288892879, 0.9403747288892879, 0.9403747288892879, 0.9403747288892879, 0.9403747288892879, 0.9403747288892879, 0.9403747288892879, 0.9403747288892879, 0.9403747288892879, 0.9403747288892879, 0.9403747288892879, 0.9403747288892879, 0.9403747288892879, 0.9403747288892879, 0.9403747288892879, 0.9403747288892879, 0.9403747288892879, 0.9403747288892879, 0.9403747288892879, 0.9403747288892879, 0.9403747288892879, 0.9403747288892879, 0.9403747288892879, 0.9403747288892879, 0.9403747288892879, 0.9403747288892879, 0.9403747288892879, 0.9403747288892879, 0.9403747288892879, 0.9403747288892879, 0.9403747288892879, 0.9403747288892879, 0.9403747288892879, 0.9403747288892879, 0.9403747288892879, 0.9403747288892879, 0.9403747288892879, 0.9403747288892879, 0.9403747288892879, 0.9403747288892879, 0.9403747288892879, 0.9403747288892879, 0.9403747288892879, 0.9403747288892879, 0.9403747288892879, 0.9403747288892879, 0.9403747288892879, 0.9403747288892879, 0.9403747288892879, 0.9403747288892879, 0.9403747288892879, 0.9477699492749438, 0.9477699492749438]}], \"f1_score_macro\": [{\"categories\": [\"0\", \"1\", \"2\", \"3\", \"4\", \"5\", \"6\", \"7\", \"8\", \"9\", \"10\", \"11\", \"12\", \"13\", \"14\", \"15\", \"16\", \"17\", \"18\", \"19\", \"20\", \"21\", \"22\", \"23\", \"24\", \"25\", \"26\", \"27\", \"28\", \"29\", \"30\", \"31\", \"32\", \"33\", \"34\", \"35\", \"36\", \"37\", \"38\", \"39\", \"40\", \"41\", \"42\", \"43\", \"44\", \"45\", \"46\", \"47\", \"48\", \"49\", \"50\", \"51\", \"52\", \"53\", \"54\", \"55\", \"56\", \"57\", \"58\", \"59\", \"60\", \"61\", \"62\"], \"mode\": \"markers\", \"name\": \"f1_score_macro\", \"stepped\": false, \"type\": \"scatter\", \"data\": [0.9431415382362021, 0.9388121768829363, 0.928119588695816, 0.9145013135919896, 0.9288237733681189, 0.9352844045786851, 0.9316385958799179, 0.9255621062558788, 0.9314303860390817, 0.9146202725441801, 0.9111299945234764, 0.9291340961827638, 0.9225906237323283, 0.9172169446821172, 0.9074579797775492, 0.929637472010692, 0.9232617342881706, 0.9165193270433086, 0.9254638660422596, 0.9353399615532343, 0.8788231764256669, 0.9207166407083743, 0.9357653108692838, 0.930050420270654, 0.9336917529120834, 0.9245198016688286, 0.9260186797509167, 0.9316123974983406, 0.9313325635884733, 0.923771716020586, 0.9343323417213995, 0.931565262066111, 0.9356252166360524, 0.9374704476323584, 0.9262308046531812, 0.9303636298273246, 0.929722807206635, 0.9337926051970389, 0.9284618484930529, 0.9273229237797043, 0.9379164948645711, 0.9355573360339049, 0.9336886015377065, 0.9279913732986825, 0.9280565724680929, 0.878008110553741, 0.9262377293224502, 0.9271974268294398, 0.9285512926411235, 0.9258244025266826, 0.9302149031922253, 0.9389490458945838, 0.9332423828982153, 0.935781678681181, 0.9296452047526216, 0.9241324105667637, 0.9282631162808747, 0.9277921798536205, 0.9371518702786634, 0.9316123974983406, 0.936230081169505, 0.9507183852665527, 0.940187024728291]}, {\"categories\": [\"0\", \"1\", \"2\", \"3\", \"4\", \"5\", \"6\", \"7\", \"8\", \"9\", \"10\", \"11\", \"12\", \"13\", \"14\", \"15\", \"16\", \"17\", \"18\", \"19\", \"20\", \"21\", \"22\", \"23\", \"24\", \"25\", \"26\", \"27\", \"28\", \"29\", \"30\", \"31\", \"32\", \"33\", \"34\", \"35\", \"36\", \"37\", \"38\", \"39\", \"40\", \"41\", \"42\", \"43\", \"44\", \"45\", \"46\", \"47\", \"48\", \"49\", \"50\", \"51\", \"52\", \"53\", \"54\", \"55\", \"56\", \"57\", \"58\", \"59\", \"60\", \"61\", \"62\"], \"mode\": \"lines\", \"name\": \"f1_score_macro_max\", \"stepped\": true, \"type\": \"scatter\", \"data\": [0.9431415382362021, 0.9431415382362021, 0.9431415382362021, 0.9431415382362021, 0.9431415382362021, 0.9431415382362021, 0.9431415382362021, 0.9431415382362021, 0.9431415382362021, 0.9431415382362021, 0.9431415382362021, 0.9431415382362021, 0.9431415382362021, 0.9431415382362021, 0.9431415382362021, 0.9431415382362021, 0.9431415382362021, 0.9431415382362021, 0.9431415382362021, 0.9431415382362021, 0.9431415382362021, 0.9431415382362021, 0.9431415382362021, 0.9431415382362021, 0.9431415382362021, 0.9431415382362021, 0.9431415382362021, 0.9431415382362021, 0.9431415382362021, 0.9431415382362021, 0.9431415382362021, 0.9431415382362021, 0.9431415382362021, 0.9431415382362021, 0.9431415382362021, 0.9431415382362021, 0.9431415382362021, 0.9431415382362021, 0.9431415382362021, 0.9431415382362021, 0.9431415382362021, 0.9431415382362021, 0.9431415382362021, 0.9431415382362021, 0.9431415382362021, 0.9431415382362021, 0.9431415382362021, 0.9431415382362021, 0.9431415382362021, 0.9431415382362021, 0.9431415382362021, 0.9431415382362021, 0.9431415382362021, 0.9431415382362021, 0.9431415382362021, 0.9431415382362021, 0.9431415382362021, 0.9431415382362021, 0.9431415382362021, 0.9431415382362021, 0.9431415382362021, 0.9507183852665527, 0.9507183852665527]}], \"log_loss\": [{\"categories\": [\"0\", \"1\", \"2\", \"3\", \"4\", \"5\", \"6\", \"7\", \"8\", \"9\", \"10\", \"11\", \"12\", \"13\", \"14\", \"15\", \"16\", \"17\", \"18\", \"19\", \"20\", \"21\", \"22\", \"23\", \"24\", \"25\", \"26\", \"27\", \"28\", \"29\", \"30\", \"31\", \"32\", \"33\", \"34\", \"35\", \"36\", \"37\", \"38\", \"39\", \"40\", \"41\", \"42\", \"43\", \"44\", \"45\", \"46\", \"47\", \"48\", \"49\", \"50\", \"51\", \"52\", \"53\", \"54\", \"55\", \"56\", \"57\", \"58\", \"59\", \"60\", \"61\", \"62\"], \"mode\": \"markers\", \"name\": \"log_loss\", \"stepped\": false, \"type\": \"scatter\", \"data\": [0.17697879692813806, 0.13932204662050746, 0.24140586598659972, 0.19341440561158776, 0.2679976398968461, 0.16489360011484777, 0.1571226362642487, 0.19040415147351103, 0.18989241634906687, 0.19808583514141537, 0.24606341757159597, 0.24348652031072943, 0.31425696680129567, 0.21201147921876307, 0.23871789133887825, 0.31430818391537346, 0.16692168885335895, 0.3394590255584943, 0.21418360636420034, 0.15628889980332253, 0.3726532715605737, 0.1976067493339745, 0.13648186909206722, 0.14873006202458053, 0.15988476772662538, 0.14978358136821462, 0.17146509855032624, 0.15569260573430385, 0.15824368233788605, 0.14865061915007058, 0.1400825937590173, 0.14230762155691018, 0.15996161515318522, 0.15040039130217644, 0.16391056333245457, 0.15214815342659962, 0.15300107542103966, 0.2052202329661664, 0.17174333791706442, 0.15514142495237235, 0.14804004944875376, 0.15263894840706113, 0.15761096801884494, 0.1546047869764875, 0.156870896018999, 0.30639274223461577, 0.1970423582803784, 0.17245982293852094, 0.217922304508621, 0.15785414219039484, 0.15045050221559542, 0.16118773185162744, 0.15342964387140307, 0.14887478124015868, 0.1601706413570524, 0.19597365319024057, 0.1456671153130738, 0.1574177176298328, 0.15441657123992672, 0.15684438683568852, 0.13679637707462247, 0.12600404089612646, 0.2601318124750426]}, {\"categories\": [\"0\", \"1\", \"2\", \"3\", \"4\", \"5\", \"6\", \"7\", \"8\", \"9\", \"10\", \"11\", \"12\", \"13\", \"14\", \"15\", \"16\", \"17\", \"18\", \"19\", \"20\", \"21\", \"22\", \"23\", \"24\", \"25\", \"26\", \"27\", \"28\", \"29\", \"30\", \"31\", \"32\", \"33\", \"34\", \"35\", \"36\", \"37\", \"38\", \"39\", \"40\", \"41\", \"42\", \"43\", \"44\", \"45\", \"46\", \"47\", \"48\", \"49\", \"50\", \"51\", \"52\", \"53\", \"54\", \"55\", \"56\", \"57\", \"58\", \"59\", \"60\", \"61\", \"62\"], \"mode\": \"lines\", \"name\": \"log_loss_min\", \"stepped\": true, \"type\": \"scatter\", \"data\": [0.17697879692813806, 0.13932204662050746, 0.13932204662050746, 0.13932204662050746, 0.13932204662050746, 0.13932204662050746, 0.13932204662050746, 0.13932204662050746, 0.13932204662050746, 0.13932204662050746, 0.13932204662050746, 0.13932204662050746, 0.13932204662050746, 0.13932204662050746, 0.13932204662050746, 0.13932204662050746, 0.13932204662050746, 0.13932204662050746, 0.13932204662050746, 0.13932204662050746, 0.13932204662050746, 0.13932204662050746, 0.13648186909206722, 0.13648186909206722, 0.13648186909206722, 0.13648186909206722, 0.13648186909206722, 0.13648186909206722, 0.13648186909206722, 0.13648186909206722, 0.13648186909206722, 0.13648186909206722, 0.13648186909206722, 0.13648186909206722, 0.13648186909206722, 0.13648186909206722, 0.13648186909206722, 0.13648186909206722, 0.13648186909206722, 0.13648186909206722, 0.13648186909206722, 0.13648186909206722, 0.13648186909206722, 0.13648186909206722, 0.13648186909206722, 0.13648186909206722, 0.13648186909206722, 0.13648186909206722, 0.13648186909206722, 0.13648186909206722, 0.13648186909206722, 0.13648186909206722, 0.13648186909206722, 0.13648186909206722, 0.13648186909206722, 0.13648186909206722, 0.13648186909206722, 0.13648186909206722, 0.13648186909206722, 0.13648186909206722, 0.13648186909206722, 0.12600404089612646, 0.12600404089612646]}], \"accuracy\": [{\"categories\": [\"0\", \"1\", \"2\", \"3\", \"4\", \"5\", \"6\", \"7\", \"8\", \"9\", \"10\", \"11\", \"12\", \"13\", \"14\", \"15\", \"16\", \"17\", \"18\", \"19\", \"20\", \"21\", \"22\", \"23\", \"24\", \"25\", \"26\", \"27\", \"28\", \"29\", \"30\", \"31\", \"32\", \"33\", \"34\", \"35\", \"36\", \"37\", \"38\", \"39\", \"40\", \"41\", \"42\", \"43\", \"44\", \"45\", \"46\", \"47\", \"48\", \"49\", \"50\", \"51\", \"52\", \"53\", \"54\", \"55\", \"56\", \"57\", \"58\", \"59\", \"60\", \"61\", \"62\"], \"mode\": \"markers\", \"name\": \"accuracy\", \"stepped\": false, \"type\": \"scatter\", \"data\": [0.947228691197019, 0.9437043937276821, 0.9331470268591833, 0.9209129017233348, 0.9331780779382084, 0.9402266728768824, 0.9366713243285204, 0.9314236919732961, 0.936686849868033, 0.9208818506443098, 0.9174041297935103, 0.9349635149821456, 0.9279149200434714, 0.9244216736531594, 0.9156031672100606, 0.9349635149821458, 0.9296537804688713, 0.9226362366092221, 0.9314236919732961, 0.9402111473373699, 0.8909951870827513, 0.9261294829995341, 0.9401956217978575, 0.9349169383636081, 0.9384412358329453, 0.9296537804688713, 0.9314392175128086, 0.9367179009470579, 0.9367023754075454, 0.9296537804688713, 0.9384257102934326, 0.9366713243285204, 0.9402111473373699, 0.9419500077627697, 0.9314236919732961, 0.9349169383636081, 0.9349169383636081, 0.9384257102934326, 0.9331780779382084, 0.9331315013196708, 0.9419500077627697, 0.9401956217978574, 0.9384412358329453, 0.9331625523986959, 0.9331625523986959, 0.8909796615432386, 0.9314081664337837, 0.9331625523986957, 0.9331936034777207, 0.9313926408942711, 0.9349324639031206, 0.9437043937276821, 0.9384101847539202, 0.9401490451793201, 0.9349324639031208, 0.9296693060083838, 0.9331625523986957, 0.9331625523986957, 0.9419810588417947, 0.9367179009470579, 0.9401956217978574, 0.9542462350566682, 0.9454743052321068]}, {\"categories\": [\"0\", \"1\", \"2\", \"3\", \"4\", \"5\", \"6\", \"7\", \"8\", \"9\", \"10\", \"11\", \"12\", \"13\", \"14\", \"15\", \"16\", \"17\", \"18\", \"19\", \"20\", \"21\", \"22\", \"23\", \"24\", \"25\", \"26\", \"27\", \"28\", \"29\", \"30\", \"31\", \"32\", \"33\", \"34\", \"35\", \"36\", \"37\", \"38\", \"39\", \"40\", \"41\", \"42\", \"43\", \"44\", \"45\", \"46\", \"47\", \"48\", \"49\", \"50\", \"51\", \"52\", \"53\", \"54\", \"55\", \"56\", \"57\", \"58\", \"59\", \"60\", \"61\", \"62\"], \"mode\": \"lines\", \"name\": \"accuracy_max\", \"stepped\": true, \"type\": \"scatter\", \"data\": [0.947228691197019, 0.947228691197019, 0.947228691197019, 0.947228691197019, 0.947228691197019, 0.947228691197019, 0.947228691197019, 0.947228691197019, 0.947228691197019, 0.947228691197019, 0.947228691197019, 0.947228691197019, 0.947228691197019, 0.947228691197019, 0.947228691197019, 0.947228691197019, 0.947228691197019, 0.947228691197019, 0.947228691197019, 0.947228691197019, 0.947228691197019, 0.947228691197019, 0.947228691197019, 0.947228691197019, 0.947228691197019, 0.947228691197019, 0.947228691197019, 0.947228691197019, 0.947228691197019, 0.947228691197019, 0.947228691197019, 0.947228691197019, 0.947228691197019, 0.947228691197019, 0.947228691197019, 0.947228691197019, 0.947228691197019, 0.947228691197019, 0.947228691197019, 0.947228691197019, 0.947228691197019, 0.947228691197019, 0.947228691197019, 0.947228691197019, 0.947228691197019, 0.947228691197019, 0.947228691197019, 0.947228691197019, 0.947228691197019, 0.947228691197019, 0.947228691197019, 0.947228691197019, 0.947228691197019, 0.947228691197019, 0.947228691197019, 0.947228691197019, 0.947228691197019, 0.947228691197019, 0.947228691197019, 0.947228691197019, 0.947228691197019, 0.9542462350566682, 0.9542462350566682]}], \"norm_macro_recall\": [{\"categories\": [\"0\", \"1\", \"2\", \"3\", \"4\", \"5\", \"6\", \"7\", \"8\", \"9\", \"10\", \"11\", \"12\", \"13\", \"14\", \"15\", \"16\", \"17\", \"18\", \"19\", \"20\", \"21\", \"22\", \"23\", \"24\", \"25\", \"26\", \"27\", \"28\", \"29\", \"30\", \"31\", \"32\", \"33\", \"34\", \"35\", \"36\", \"37\", \"38\", \"39\", \"40\", \"41\", \"42\", \"43\", \"44\", \"45\", \"46\", \"47\", \"48\", \"49\", \"50\", \"51\", \"52\", \"53\", \"54\", \"55\", \"56\", \"57\", \"58\", \"59\", \"60\", \"61\", \"62\"], \"mode\": \"markers\", \"name\": \"norm_macro_recall\", \"stepped\": false, \"type\": \"scatter\", \"data\": [0.8807494577785757, 0.8685742976550459, 0.8562640063882693, 0.8269544382235452, 0.863590792780373, 0.8652469476619988, 0.8593731017850358, 0.8464245341712011, 0.8595378139262719, 0.8269659757566004, 0.8258866414501718, 0.8488421617523588, 0.848591263757368, 0.821943366309555, 0.802749152349409, 0.8573881364837032, 0.8417431280856554, 0.8311884068032601, 0.846578700967159, 0.8674805986084086, 0.7371253275294017, 0.8414884072979394, 0.8687794817549964, 0.858293154868619, 0.862974314288909, 0.8490850865161494, 0.8533817045286798, 0.8605100040110628, 0.860328511619888, 0.8410266269873233, 0.8696378067811985, 0.8594169999413133, 0.8680721620744786, 0.8697863693106825, 0.8493892586450297, 0.8602968555258249, 0.8594022605224343, 0.8671540354954317, 0.8597707942953292, 0.8488820742286908, 0.8759975422267807, 0.8687648260282697, 0.8673623607702057, 0.8531279264157193, 0.8531637764975002, 0.7314115529127087, 0.85196007845759, 0.8494096087980669, 0.8631839674667979, 0.8455862678076121, 0.8597919735771564, 0.8750388322446311, 0.8621235591119666, 0.8699331066059102, 0.858204737515243, 0.8465679088707416, 0.8553519783980306, 0.8542681678513044, 0.8687845138149843, 0.8605100040110628, 0.8748280096131925, 0.8955398985498876, 0.8692425302845411]}, {\"categories\": [\"0\", \"1\", \"2\", \"3\", \"4\", \"5\", \"6\", \"7\", \"8\", \"9\", \"10\", \"11\", \"12\", \"13\", \"14\", \"15\", \"16\", \"17\", \"18\", \"19\", \"20\", \"21\", \"22\", \"23\", \"24\", \"25\", \"26\", \"27\", \"28\", \"29\", \"30\", \"31\", \"32\", \"33\", \"34\", \"35\", \"36\", \"37\", \"38\", \"39\", \"40\", \"41\", \"42\", \"43\", \"44\", \"45\", \"46\", \"47\", \"48\", \"49\", \"50\", \"51\", \"52\", \"53\", \"54\", \"55\", \"56\", \"57\", \"58\", \"59\", \"60\", \"61\", \"62\"], \"mode\": \"lines\", \"name\": \"norm_macro_recall_max\", \"stepped\": true, \"type\": \"scatter\", \"data\": [0.8807494577785757, 0.8807494577785757, 0.8807494577785757, 0.8807494577785757, 0.8807494577785757, 0.8807494577785757, 0.8807494577785757, 0.8807494577785757, 0.8807494577785757, 0.8807494577785757, 0.8807494577785757, 0.8807494577785757, 0.8807494577785757, 0.8807494577785757, 0.8807494577785757, 0.8807494577785757, 0.8807494577785757, 0.8807494577785757, 0.8807494577785757, 0.8807494577785757, 0.8807494577785757, 0.8807494577785757, 0.8807494577785757, 0.8807494577785757, 0.8807494577785757, 0.8807494577785757, 0.8807494577785757, 0.8807494577785757, 0.8807494577785757, 0.8807494577785757, 0.8807494577785757, 0.8807494577785757, 0.8807494577785757, 0.8807494577785757, 0.8807494577785757, 0.8807494577785757, 0.8807494577785757, 0.8807494577785757, 0.8807494577785757, 0.8807494577785757, 0.8807494577785757, 0.8807494577785757, 0.8807494577785757, 0.8807494577785757, 0.8807494577785757, 0.8807494577785757, 0.8807494577785757, 0.8807494577785757, 0.8807494577785757, 0.8807494577785757, 0.8807494577785757, 0.8807494577785757, 0.8807494577785757, 0.8807494577785757, 0.8807494577785757, 0.8807494577785757, 0.8807494577785757, 0.8807494577785757, 0.8807494577785757, 0.8807494577785757, 0.8807494577785757, 0.8955398985498876, 0.8955398985498876]}], \"recall_score_micro\": [{\"categories\": [\"0\", \"1\", \"2\", \"3\", \"4\", \"5\", \"6\", \"7\", \"8\", \"9\", \"10\", \"11\", \"12\", \"13\", \"14\", \"15\", \"16\", \"17\", \"18\", \"19\", \"20\", \"21\", \"22\", \"23\", \"24\", \"25\", \"26\", \"27\", \"28\", \"29\", \"30\", \"31\", \"32\", \"33\", \"34\", \"35\", \"36\", \"37\", \"38\", \"39\", \"40\", \"41\", \"42\", \"43\", \"44\", \"45\", \"46\", \"47\", \"48\", \"49\", \"50\", \"51\", \"52\", \"53\", \"54\", \"55\", \"56\", \"57\", \"58\", \"59\", \"60\", \"61\", \"62\"], \"mode\": \"markers\", \"name\": \"recall_score_micro\", \"stepped\": false, \"type\": \"scatter\", \"data\": [0.947228691197019, 0.9437043937276821, 0.9331470268591833, 0.9209129017233348, 0.9331780779382084, 0.9402266728768824, 0.9366713243285204, 0.9314236919732961, 0.936686849868033, 0.9208818506443098, 0.9174041297935103, 0.9349635149821456, 0.9279149200434714, 0.9244216736531594, 0.9156031672100606, 0.9349635149821458, 0.9296537804688713, 0.9226362366092221, 0.9314236919732961, 0.9402111473373699, 0.8909951870827513, 0.9261294829995341, 0.9401956217978575, 0.9349169383636081, 0.9384412358329453, 0.9296537804688713, 0.9314392175128086, 0.9367179009470579, 0.9367023754075454, 0.9296537804688713, 0.9384257102934326, 0.9366713243285204, 0.9402111473373699, 0.9419500077627697, 0.9314236919732961, 0.9349169383636081, 0.9349169383636081, 0.9384257102934326, 0.9331780779382084, 0.9331315013196708, 0.9419500077627697, 0.9401956217978574, 0.9384412358329453, 0.9331625523986959, 0.9331625523986959, 0.8909796615432386, 0.9314081664337837, 0.9331625523986957, 0.9331936034777207, 0.9313926408942711, 0.9349324639031206, 0.9437043937276821, 0.9384101847539202, 0.9401490451793201, 0.9349324639031208, 0.9296693060083838, 0.9331625523986957, 0.9331625523986957, 0.9419810588417947, 0.9367179009470579, 0.9401956217978574, 0.9542462350566682, 0.9454743052321068]}, {\"categories\": [\"0\", \"1\", \"2\", \"3\", \"4\", \"5\", \"6\", \"7\", \"8\", \"9\", \"10\", \"11\", \"12\", \"13\", \"14\", \"15\", \"16\", \"17\", \"18\", \"19\", \"20\", \"21\", \"22\", \"23\", \"24\", \"25\", \"26\", \"27\", \"28\", \"29\", \"30\", \"31\", \"32\", \"33\", \"34\", \"35\", \"36\", \"37\", \"38\", \"39\", \"40\", \"41\", \"42\", \"43\", \"44\", \"45\", \"46\", \"47\", \"48\", \"49\", \"50\", \"51\", \"52\", \"53\", \"54\", \"55\", \"56\", \"57\", \"58\", \"59\", \"60\", \"61\", \"62\"], \"mode\": \"lines\", \"name\": \"recall_score_micro_max\", \"stepped\": true, \"type\": \"scatter\", \"data\": [0.947228691197019, 0.947228691197019, 0.947228691197019, 0.947228691197019, 0.947228691197019, 0.947228691197019, 0.947228691197019, 0.947228691197019, 0.947228691197019, 0.947228691197019, 0.947228691197019, 0.947228691197019, 0.947228691197019, 0.947228691197019, 0.947228691197019, 0.947228691197019, 0.947228691197019, 0.947228691197019, 0.947228691197019, 0.947228691197019, 0.947228691197019, 0.947228691197019, 0.947228691197019, 0.947228691197019, 0.947228691197019, 0.947228691197019, 0.947228691197019, 0.947228691197019, 0.947228691197019, 0.947228691197019, 0.947228691197019, 0.947228691197019, 0.947228691197019, 0.947228691197019, 0.947228691197019, 0.947228691197019, 0.947228691197019, 0.947228691197019, 0.947228691197019, 0.947228691197019, 0.947228691197019, 0.947228691197019, 0.947228691197019, 0.947228691197019, 0.947228691197019, 0.947228691197019, 0.947228691197019, 0.947228691197019, 0.947228691197019, 0.947228691197019, 0.947228691197019, 0.947228691197019, 0.947228691197019, 0.947228691197019, 0.947228691197019, 0.947228691197019, 0.947228691197019, 0.947228691197019, 0.947228691197019, 0.947228691197019, 0.947228691197019, 0.9542462350566682, 0.9542462350566682]}], \"matthews_correlation\": [{\"categories\": [\"0\", \"1\", \"2\", \"3\", \"4\", \"5\", \"6\", \"7\", \"8\", \"9\", \"10\", \"11\", \"12\", \"13\", \"14\", \"15\", \"16\", \"17\", \"18\", \"19\", \"20\", \"21\", \"22\", \"23\", \"24\", \"25\", \"26\", \"27\", \"28\", \"29\", \"30\", \"31\", \"32\", \"33\", \"34\", \"35\", \"36\", \"37\", \"38\", \"39\", \"40\", \"41\", \"42\", \"43\", \"44\", \"45\", \"46\", \"47\", \"48\", \"49\", \"50\", \"51\", \"52\", \"53\", \"54\", \"55\", \"56\", \"57\", \"58\", \"59\", \"60\", \"61\", \"62\"], \"mode\": \"markers\", \"name\": \"matthews_correlation\", \"stepped\": false, \"type\": \"scatter\", \"data\": [0.8866993268925161, 0.8789747056615331, 0.8567115269180505, 0.8305303287201898, 0.8583263079429667, 0.8711852026982957, 0.8641770326449849, 0.8520149904289038, 0.8637633832065695, 0.8303632919134643, 0.8228586244879743, 0.8605683673059351, 0.8455380942843045, 0.8370511344019516, 0.8182679790361564, 0.8595680965645359, 0.8484056094832212, 0.8346934674250279, 0.851866604031845, 0.8719168452427196, 0.7686479265259685, 0.8421403605156476, 0.8717902231409906, 0.860464152164535, 0.868118688182036, 0.8491686984686841, 0.8524041283375862, 0.8647257525429085, 0.8638528762336802, 0.8481481719957438, 0.8688962187815242, 0.8640303052752323, 0.8713820375856933, 0.8759829736145204, 0.8530664420573206, 0.8613713247666297, 0.86045321987573, 0.867683448799246, 0.8572482210606763, 0.8559825484089629, 0.8761929549908274, 0.8717408334224782, 0.867937315019131, 0.8567224132390058, 0.8568130732111605, 0.7686516947992067, 0.8529780997191786, 0.855684162499133, 0.8578675076209151, 0.8524439017597516, 0.8606669929529825, 0.8786368076865052, 0.867756313301259, 0.8719071965919362, 0.8602280235304743, 0.8492336561019392, 0.8567936724000245, 0.8561362440622519, 0.876262150223619, 0.8647257525429085, 0.8726618332654109, 0.9019458682216899, 0.8828619250358616]}, {\"categories\": [\"0\", \"1\", \"2\", \"3\", \"4\", \"5\", \"6\", \"7\", \"8\", \"9\", \"10\", \"11\", \"12\", \"13\", \"14\", \"15\", \"16\", \"17\", \"18\", \"19\", \"20\", \"21\", \"22\", \"23\", \"24\", \"25\", \"26\", \"27\", \"28\", \"29\", \"30\", \"31\", \"32\", \"33\", \"34\", \"35\", \"36\", \"37\", \"38\", \"39\", \"40\", \"41\", \"42\", \"43\", \"44\", \"45\", \"46\", \"47\", \"48\", \"49\", \"50\", \"51\", \"52\", \"53\", \"54\", \"55\", \"56\", \"57\", \"58\", \"59\", \"60\", \"61\", \"62\"], \"mode\": \"lines\", \"name\": \"matthews_correlation_max\", \"stepped\": true, \"type\": \"scatter\", \"data\": [0.8866993268925161, 0.8866993268925161, 0.8866993268925161, 0.8866993268925161, 0.8866993268925161, 0.8866993268925161, 0.8866993268925161, 0.8866993268925161, 0.8866993268925161, 0.8866993268925161, 0.8866993268925161, 0.8866993268925161, 0.8866993268925161, 0.8866993268925161, 0.8866993268925161, 0.8866993268925161, 0.8866993268925161, 0.8866993268925161, 0.8866993268925161, 0.8866993268925161, 0.8866993268925161, 0.8866993268925161, 0.8866993268925161, 0.8866993268925161, 0.8866993268925161, 0.8866993268925161, 0.8866993268925161, 0.8866993268925161, 0.8866993268925161, 0.8866993268925161, 0.8866993268925161, 0.8866993268925161, 0.8866993268925161, 0.8866993268925161, 0.8866993268925161, 0.8866993268925161, 0.8866993268925161, 0.8866993268925161, 0.8866993268925161, 0.8866993268925161, 0.8866993268925161, 0.8866993268925161, 0.8866993268925161, 0.8866993268925161, 0.8866993268925161, 0.8866993268925161, 0.8866993268925161, 0.8866993268925161, 0.8866993268925161, 0.8866993268925161, 0.8866993268925161, 0.8866993268925161, 0.8866993268925161, 0.8866993268925161, 0.8866993268925161, 0.8866993268925161, 0.8866993268925161, 0.8866993268925161, 0.8866993268925161, 0.8866993268925161, 0.8866993268925161, 0.9019458682216899, 0.9019458682216899]}], \"AUC_weighted\": [{\"categories\": [\"0\", \"1\", \"2\", \"3\", \"4\", \"5\", \"6\", \"7\", \"8\", \"9\", \"10\", \"11\", \"12\", \"13\", \"14\", \"15\", \"16\", \"17\", \"18\", \"19\", \"20\", \"21\", \"22\", \"23\", \"24\", \"25\", \"26\", \"27\", \"28\", \"29\", \"30\", \"31\", \"32\", \"33\", \"34\", \"35\", \"36\", \"37\", \"38\", \"39\", \"40\", \"41\", \"42\", \"43\", \"44\", \"45\", \"46\", \"47\", \"48\", \"49\", \"50\", \"51\", \"52\", \"53\", \"54\", \"55\", \"56\", \"57\", \"58\", \"59\", \"60\", \"61\", \"62\"], \"mode\": \"markers\", \"name\": \"AUC_weighted\", \"stepped\": false, \"type\": \"scatter\", \"data\": [0.9882890962634558, 0.9878949691302588, 0.9768854278447792, 0.9773468697849083, 0.9819322807854878, 0.979333070070029, 0.9858217140158976, 0.9809753141251804, 0.9793396465259538, 0.9778292514242741, 0.9775416430087548, 0.9815636050009067, 0.9702535441932918, 0.9785078885642008, 0.9794365739582129, 0.9797605043456304, 0.9828795924113536, 0.9686688064350587, 0.9780375323039966, 0.9854559002033729, 0.9534564566334549, 0.9774831194747104, 0.9884569484707896, 0.9856539769120414, 0.9845967449891105, 0.9847252807186558, 0.9808292423803053, 0.9849359934277416, 0.9848193612470342, 0.9851296510792814, 0.9869704125124574, 0.9867236639198484, 0.9863756805226286, 0.9841599711059337, 0.9839241155803803, 0.9851314988659106, 0.9870330785442096, 0.980810776929669, 0.9851658750924607, 0.9850403163577808, 0.9851108554141439, 0.9850986029805588, 0.9848971131543955, 0.98502916660682, 0.9849362572189703, 0.9334947949944178, 0.9786583015382304, 0.9828167273785576, 0.9823432053742953, 0.9843451076357344, 0.985039152046651, 0.9846160257820331, 0.9858682895719024, 0.9859519079613517, 0.9845735389218542, 0.9787956687575669, 0.9853476672275319, 0.9839910685452802, 0.9848795357036751, 0.9851298212315438, 0.9871527402755795, 0.9900709073656063, 0.9885693085022295]}, {\"categories\": [\"0\", \"1\", \"2\", \"3\", \"4\", \"5\", \"6\", \"7\", \"8\", \"9\", \"10\", \"11\", \"12\", \"13\", \"14\", \"15\", \"16\", \"17\", \"18\", \"19\", \"20\", \"21\", \"22\", \"23\", \"24\", \"25\", \"26\", \"27\", \"28\", \"29\", \"30\", \"31\", \"32\", \"33\", \"34\", \"35\", \"36\", \"37\", \"38\", \"39\", \"40\", \"41\", \"42\", \"43\", \"44\", \"45\", \"46\", \"47\", \"48\", \"49\", \"50\", \"51\", \"52\", \"53\", \"54\", \"55\", \"56\", \"57\", \"58\", \"59\", \"60\", \"61\", \"62\"], \"mode\": \"lines\", \"name\": \"AUC_weighted_max\", \"stepped\": true, \"type\": \"scatter\", \"data\": [0.9882890962634558, 0.9882890962634558, 0.9882890962634558, 0.9882890962634558, 0.9882890962634558, 0.9882890962634558, 0.9882890962634558, 0.9882890962634558, 0.9882890962634558, 0.9882890962634558, 0.9882890962634558, 0.9882890962634558, 0.9882890962634558, 0.9882890962634558, 0.9882890962634558, 0.9882890962634558, 0.9882890962634558, 0.9882890962634558, 0.9882890962634558, 0.9882890962634558, 0.9882890962634558, 0.9882890962634558, 0.9884569484707896, 0.9884569484707896, 0.9884569484707896, 0.9884569484707896, 0.9884569484707896, 0.9884569484707896, 0.9884569484707896, 0.9884569484707896, 0.9884569484707896, 0.9884569484707896, 0.9884569484707896, 0.9884569484707896, 0.9884569484707896, 0.9884569484707896, 0.9884569484707896, 0.9884569484707896, 0.9884569484707896, 0.9884569484707896, 0.9884569484707896, 0.9884569484707896, 0.9884569484707896, 0.9884569484707896, 0.9884569484707896, 0.9884569484707896, 0.9884569484707896, 0.9884569484707896, 0.9884569484707896, 0.9884569484707896, 0.9884569484707896, 0.9884569484707896, 0.9884569484707896, 0.9884569484707896, 0.9884569484707896, 0.9884569484707896, 0.9884569484707896, 0.9884569484707896, 0.9884569484707896, 0.9884569484707896, 0.9884569484707896, 0.9900709073656063, 0.9900709073656063]}], \"average_precision_score_micro\": [{\"categories\": [\"0\", \"1\", \"2\", \"3\", \"4\", \"5\", \"6\", \"7\", \"8\", \"9\", \"10\", \"11\", \"12\", \"13\", \"14\", \"15\", \"16\", \"17\", \"18\", \"19\", \"20\", \"21\", \"22\", \"23\", \"24\", \"25\", \"26\", \"27\", \"28\", \"29\", \"30\", \"31\", \"32\", \"33\", \"34\", \"35\", \"36\", \"37\", \"38\", \"39\", \"40\", \"41\", \"42\", \"43\", \"44\", \"45\", \"46\", \"47\", \"48\", \"49\", \"50\", \"51\", \"52\", \"53\", \"54\", \"55\", \"56\", \"57\", \"58\", \"59\", \"60\", \"61\", \"62\"], \"mode\": \"markers\", \"name\": \"average_precision_score_micro\", \"stepped\": false, \"type\": \"scatter\", \"data\": [0.9890383410185679, 0.9885636389105649, 0.97834280930163, 0.9787698473251218, 0.9813157744111335, 0.983502186851361, 0.9856593956789874, 0.98186361508491, 0.9796346326423262, 0.977977235379943, 0.9776844962986617, 0.9784822812915415, 0.9747823495608742, 0.9800084709610275, 0.9796572683105534, 0.9798227837837985, 0.9835059052754975, 0.9681527866378088, 0.9772752525990803, 0.9859719228171059, 0.9565124189166804, 0.9779275484321296, 0.9893559748625641, 0.986199586762346, 0.9854799128457199, 0.9860412717545645, 0.9821273576201056, 0.9857469242724539, 0.9850169189401269, 0.9863924517717788, 0.9877439980114611, 0.9877555817663094, 0.9884634263970572, 0.9839879790114987, 0.9849077795450991, 0.9846665284852778, 0.9872967759822358, 0.9803001116213583, 0.9856656551955687, 0.9855956098442673, 0.985997254927241, 0.986269729271305, 0.985658479178721, 0.9862135786847561, 0.9864146269221251, 0.9387982556703547, 0.9795443201407197, 0.9835231527915992, 0.9820709493348723, 0.9855886876412363, 0.9859254945818836, 0.9856900074666932, 0.9860799617033672, 0.9870096244474157, 0.9848404682871965, 0.9792543209378367, 0.9863193751796082, 0.9846667348255871, 0.9860705115810513, 0.9857498149710683, 0.9879438718080253, 0.990671597479238, 0.9856708775256637]}, {\"categories\": [\"0\", \"1\", \"2\", \"3\", \"4\", \"5\", \"6\", \"7\", \"8\", \"9\", \"10\", \"11\", \"12\", \"13\", \"14\", \"15\", \"16\", \"17\", \"18\", \"19\", \"20\", \"21\", \"22\", \"23\", \"24\", \"25\", \"26\", \"27\", \"28\", \"29\", \"30\", \"31\", \"32\", \"33\", \"34\", \"35\", \"36\", \"37\", \"38\", \"39\", \"40\", \"41\", \"42\", \"43\", \"44\", \"45\", \"46\", \"47\", \"48\", \"49\", \"50\", \"51\", \"52\", \"53\", \"54\", \"55\", \"56\", \"57\", \"58\", \"59\", \"60\", \"61\", \"62\"], \"mode\": \"lines\", \"name\": \"average_precision_score_micro_max\", \"stepped\": true, \"type\": \"scatter\", \"data\": [0.9890383410185679, 0.9890383410185679, 0.9890383410185679, 0.9890383410185679, 0.9890383410185679, 0.9890383410185679, 0.9890383410185679, 0.9890383410185679, 0.9890383410185679, 0.9890383410185679, 0.9890383410185679, 0.9890383410185679, 0.9890383410185679, 0.9890383410185679, 0.9890383410185679, 0.9890383410185679, 0.9890383410185679, 0.9890383410185679, 0.9890383410185679, 0.9890383410185679, 0.9890383410185679, 0.9890383410185679, 0.9893559748625641, 0.9893559748625641, 0.9893559748625641, 0.9893559748625641, 0.9893559748625641, 0.9893559748625641, 0.9893559748625641, 0.9893559748625641, 0.9893559748625641, 0.9893559748625641, 0.9893559748625641, 0.9893559748625641, 0.9893559748625641, 0.9893559748625641, 0.9893559748625641, 0.9893559748625641, 0.9893559748625641, 0.9893559748625641, 0.9893559748625641, 0.9893559748625641, 0.9893559748625641, 0.9893559748625641, 0.9893559748625641, 0.9893559748625641, 0.9893559748625641, 0.9893559748625641, 0.9893559748625641, 0.9893559748625641, 0.9893559748625641, 0.9893559748625641, 0.9893559748625641, 0.9893559748625641, 0.9893559748625641, 0.9893559748625641, 0.9893559748625641, 0.9893559748625641, 0.9893559748625641, 0.9893559748625641, 0.9893559748625641, 0.990671597479238, 0.990671597479238]}], \"f1_score_micro\": [{\"categories\": [\"0\", \"1\", \"2\", \"3\", \"4\", \"5\", \"6\", \"7\", \"8\", \"9\", \"10\", \"11\", \"12\", \"13\", \"14\", \"15\", \"16\", \"17\", \"18\", \"19\", \"20\", \"21\", \"22\", \"23\", \"24\", \"25\", \"26\", \"27\", \"28\", \"29\", \"30\", \"31\", \"32\", \"33\", \"34\", \"35\", \"36\", \"37\", \"38\", \"39\", \"40\", \"41\", \"42\", \"43\", \"44\", \"45\", \"46\", \"47\", \"48\", \"49\", \"50\", \"51\", \"52\", \"53\", \"54\", \"55\", \"56\", \"57\", \"58\", \"59\", \"60\", \"61\", \"62\"], \"mode\": \"markers\", \"name\": \"f1_score_micro\", \"stepped\": false, \"type\": \"scatter\", \"data\": [0.947228691197019, 0.9437043937276821, 0.9331470268591833, 0.9209129017233348, 0.9331780779382084, 0.9402266728768824, 0.9366713243285204, 0.9314236919732961, 0.936686849868033, 0.9208818506443098, 0.9174041297935103, 0.9349635149821456, 0.9279149200434714, 0.9244216736531594, 0.9156031672100606, 0.9349635149821458, 0.9296537804688713, 0.9226362366092221, 0.9314236919732961, 0.9402111473373699, 0.8909951870827513, 0.9261294829995341, 0.9401956217978575, 0.9349169383636081, 0.9384412358329453, 0.9296537804688713, 0.9314392175128086, 0.9367179009470579, 0.9367023754075454, 0.9296537804688713, 0.9384257102934326, 0.9366713243285204, 0.9402111473373699, 0.9419500077627697, 0.9314236919732961, 0.9349169383636081, 0.9349169383636081, 0.9384257102934326, 0.9331780779382084, 0.9331315013196708, 0.9419500077627697, 0.9401956217978574, 0.9384412358329453, 0.9331625523986959, 0.9331625523986959, 0.8909796615432386, 0.9314081664337837, 0.9331625523986957, 0.9331936034777207, 0.9313926408942711, 0.9349324639031206, 0.9437043937276821, 0.9384101847539202, 0.9401490451793201, 0.9349324639031208, 0.9296693060083838, 0.9331625523986957, 0.9331625523986957, 0.9419810588417947, 0.9367179009470579, 0.9401956217978574, 0.9542462350566682, 0.9454743052321068]}, {\"categories\": [\"0\", \"1\", \"2\", \"3\", \"4\", \"5\", \"6\", \"7\", \"8\", \"9\", \"10\", \"11\", \"12\", \"13\", \"14\", \"15\", \"16\", \"17\", \"18\", \"19\", \"20\", \"21\", \"22\", \"23\", \"24\", \"25\", \"26\", \"27\", \"28\", \"29\", \"30\", \"31\", \"32\", \"33\", \"34\", \"35\", \"36\", \"37\", \"38\", \"39\", \"40\", \"41\", \"42\", \"43\", \"44\", \"45\", \"46\", \"47\", \"48\", \"49\", \"50\", \"51\", \"52\", \"53\", \"54\", \"55\", \"56\", \"57\", \"58\", \"59\", \"60\", \"61\", \"62\"], \"mode\": \"lines\", \"name\": \"f1_score_micro_max\", \"stepped\": true, \"type\": \"scatter\", \"data\": [0.947228691197019, 0.947228691197019, 0.947228691197019, 0.947228691197019, 0.947228691197019, 0.947228691197019, 0.947228691197019, 0.947228691197019, 0.947228691197019, 0.947228691197019, 0.947228691197019, 0.947228691197019, 0.947228691197019, 0.947228691197019, 0.947228691197019, 0.947228691197019, 0.947228691197019, 0.947228691197019, 0.947228691197019, 0.947228691197019, 0.947228691197019, 0.947228691197019, 0.947228691197019, 0.947228691197019, 0.947228691197019, 0.947228691197019, 0.947228691197019, 0.947228691197019, 0.947228691197019, 0.947228691197019, 0.947228691197019, 0.947228691197019, 0.947228691197019, 0.947228691197019, 0.947228691197019, 0.947228691197019, 0.947228691197019, 0.947228691197019, 0.947228691197019, 0.947228691197019, 0.947228691197019, 0.947228691197019, 0.947228691197019, 0.947228691197019, 0.947228691197019, 0.947228691197019, 0.947228691197019, 0.947228691197019, 0.947228691197019, 0.947228691197019, 0.947228691197019, 0.947228691197019, 0.947228691197019, 0.947228691197019, 0.947228691197019, 0.947228691197019, 0.947228691197019, 0.947228691197019, 0.947228691197019, 0.947228691197019, 0.947228691197019, 0.9542462350566682, 0.9542462350566682]}], \"precision_score_weighted\": [{\"categories\": [\"0\", \"1\", \"2\", \"3\", \"4\", \"5\", \"6\", \"7\", \"8\", \"9\", \"10\", \"11\", \"12\", \"13\", \"14\", \"15\", \"16\", \"17\", \"18\", \"19\", \"20\", \"21\", \"22\", \"23\", \"24\", \"25\", \"26\", \"27\", \"28\", \"29\", \"30\", \"31\", \"32\", \"33\", \"34\", \"35\", \"36\", \"37\", \"38\", \"39\", \"40\", \"41\", \"42\", \"43\", \"44\", \"45\", \"46\", \"47\", \"48\", \"49\", \"50\", \"51\", \"52\", \"53\", \"54\", \"55\", \"56\", \"57\", \"58\", \"59\", \"60\", \"61\", \"62\"], \"mode\": \"markers\", \"name\": \"precision_score_weighted\", \"stepped\": false, \"type\": \"scatter\", \"data\": [0.9471855038419299, 0.94409011550692, 0.9334118036336554, 0.9220718332332554, 0.9342025507880392, 0.9403937786777693, 0.9369944647073348, 0.9316194229928734, 0.937052827874626, 0.921617598467782, 0.918059797627882, 0.9359703534209555, 0.9284357194956232, 0.925280733607619, 0.9168664746883646, 0.934899343888991, 0.9305713731881593, 0.923624051673332, 0.9316915197875562, 0.9410019061409545, 0.8965211617888403, 0.9266154706741967, 0.9401379970227284, 0.9350036945211346, 0.9387089967708022, 0.9297049922000726, 0.9317460614495788, 0.9377905714662675, 0.9373910594783975, 0.929507130085776, 0.9386347174688691, 0.9369234220025187, 0.940058069299344, 0.9424190407024527, 0.9316042732394859, 0.9352631047891192, 0.9355650563118145, 0.9383598274384735, 0.933636645568107, 0.9335740841633868, 0.9423261065602851, 0.9404265970555992, 0.9387381892638336, 0.9334635360366418, 0.9334403985041704, 0.8969900858556732, 0.9316324550365858, 0.9335457788789092, 0.9342039778545617, 0.9314472913436583, 0.9350049326654373, 0.9440162884055965, 0.9389743765178172, 0.9402141867092484, 0.9354357129973874, 0.9301572995725207, 0.9331930414061336, 0.9334321461536217, 0.9433010709910421, 0.9377905714662675, 0.9404748065393687, 0.9543427568440581, 0.946614433580565]}, {\"categories\": [\"0\", \"1\", \"2\", \"3\", \"4\", \"5\", \"6\", \"7\", \"8\", \"9\", \"10\", \"11\", \"12\", \"13\", \"14\", \"15\", \"16\", \"17\", \"18\", \"19\", \"20\", \"21\", \"22\", \"23\", \"24\", \"25\", \"26\", \"27\", \"28\", \"29\", \"30\", \"31\", \"32\", \"33\", \"34\", \"35\", \"36\", \"37\", \"38\", \"39\", \"40\", \"41\", \"42\", \"43\", \"44\", \"45\", \"46\", \"47\", \"48\", \"49\", \"50\", \"51\", \"52\", \"53\", \"54\", \"55\", \"56\", \"57\", \"58\", \"59\", \"60\", \"61\", \"62\"], \"mode\": \"lines\", \"name\": \"precision_score_weighted_max\", \"stepped\": true, \"type\": \"scatter\", \"data\": [0.9471855038419299, 0.9471855038419299, 0.9471855038419299, 0.9471855038419299, 0.9471855038419299, 0.9471855038419299, 0.9471855038419299, 0.9471855038419299, 0.9471855038419299, 0.9471855038419299, 0.9471855038419299, 0.9471855038419299, 0.9471855038419299, 0.9471855038419299, 0.9471855038419299, 0.9471855038419299, 0.9471855038419299, 0.9471855038419299, 0.9471855038419299, 0.9471855038419299, 0.9471855038419299, 0.9471855038419299, 0.9471855038419299, 0.9471855038419299, 0.9471855038419299, 0.9471855038419299, 0.9471855038419299, 0.9471855038419299, 0.9471855038419299, 0.9471855038419299, 0.9471855038419299, 0.9471855038419299, 0.9471855038419299, 0.9471855038419299, 0.9471855038419299, 0.9471855038419299, 0.9471855038419299, 0.9471855038419299, 0.9471855038419299, 0.9471855038419299, 0.9471855038419299, 0.9471855038419299, 0.9471855038419299, 0.9471855038419299, 0.9471855038419299, 0.9471855038419299, 0.9471855038419299, 0.9471855038419299, 0.9471855038419299, 0.9471855038419299, 0.9471855038419299, 0.9471855038419299, 0.9471855038419299, 0.9471855038419299, 0.9471855038419299, 0.9471855038419299, 0.9471855038419299, 0.9471855038419299, 0.9471855038419299, 0.9471855038419299, 0.9471855038419299, 0.9543427568440581, 0.9543427568440581]}], \"weighted_accuracy\": [{\"categories\": [\"0\", \"1\", \"2\", \"3\", \"4\", \"5\", \"6\", \"7\", \"8\", \"9\", \"10\", \"11\", \"12\", \"13\", \"14\", \"15\", \"16\", \"17\", \"18\", \"19\", \"20\", \"21\", \"22\", \"23\", \"24\", \"25\", \"26\", \"27\", \"28\", \"29\", \"30\", \"31\", \"32\", \"33\", \"34\", \"35\", \"36\", \"37\", \"38\", \"39\", \"40\", \"41\", \"42\", \"43\", \"44\", \"45\", \"46\", \"47\", \"48\", \"49\", \"50\", \"51\", \"52\", \"53\", \"54\", \"55\", \"56\", \"57\", \"58\", \"59\", \"60\", \"61\", \"62\"], \"mode\": \"markers\", \"name\": \"weighted_accuracy\", \"stepped\": false, \"type\": \"scatter\", \"data\": [0.9530714523271362, 0.9516946736754026, 0.9373906962159959, 0.9274507013412284, 0.9342541765507674, 0.9467141018701491, 0.9425614054945699, 0.9384976227732927, 0.9427205918253201, 0.9273519459787856, 0.9210870926367672, 0.9440824842492322, 0.9310402788791767, 0.9360289067044197, 0.9279344050054597, 0.9403313314062878, 0.9372313973629496, 0.9289099922153679, 0.9384459752004451, 0.9458873266847178, 0.9105927350355273, 0.9308715513152663, 0.9452186734585666, 0.9399028131701085, 0.9443632679116648, 0.934010630234047, 0.9354673621050684, 0.9424342270471275, 0.9423130407093673, 0.9374631103941372, 0.9415312429771777, 0.9425444684111177, 0.9455037004438849, 0.9478936032450438, 0.9371055001909621, 0.9390275766985354, 0.9393691537031772, 0.9425848827601042, 0.9360804373007243, 0.9405778399531964, 0.9454485275083844, 0.9450679348396289, 0.9425397481199107, 0.9388201316566637, 0.938822167222027, 0.9130153995016059, 0.9360366729847867, 0.9404705908286954, 0.9344346066060465, 0.9387031782035212, 0.9392463299200606, 0.9489794615411815, 0.9447896455021313, 0.9445639323244436, 0.939985033889857, 0.9352372594091447, 0.9378850090158058, 0.9382843938637071, 0.9486501840141924, 0.9424342270471275, 0.9426305774254938, 0.9597318010372973, 0.9546983372634372]}, {\"categories\": [\"0\", \"1\", \"2\", \"3\", \"4\", \"5\", \"6\", \"7\", \"8\", \"9\", \"10\", \"11\", \"12\", \"13\", \"14\", \"15\", \"16\", \"17\", \"18\", \"19\", \"20\", \"21\", \"22\", \"23\", \"24\", \"25\", \"26\", \"27\", \"28\", \"29\", \"30\", \"31\", \"32\", \"33\", \"34\", \"35\", \"36\", \"37\", \"38\", \"39\", \"40\", \"41\", \"42\", \"43\", \"44\", \"45\", \"46\", \"47\", \"48\", \"49\", \"50\", \"51\", \"52\", \"53\", \"54\", \"55\", \"56\", \"57\", \"58\", \"59\", \"60\", \"61\", \"62\"], \"mode\": \"lines\", \"name\": \"weighted_accuracy_max\", \"stepped\": true, \"type\": \"scatter\", \"data\": [0.9530714523271362, 0.9530714523271362, 0.9530714523271362, 0.9530714523271362, 0.9530714523271362, 0.9530714523271362, 0.9530714523271362, 0.9530714523271362, 0.9530714523271362, 0.9530714523271362, 0.9530714523271362, 0.9530714523271362, 0.9530714523271362, 0.9530714523271362, 0.9530714523271362, 0.9530714523271362, 0.9530714523271362, 0.9530714523271362, 0.9530714523271362, 0.9530714523271362, 0.9530714523271362, 0.9530714523271362, 0.9530714523271362, 0.9530714523271362, 0.9530714523271362, 0.9530714523271362, 0.9530714523271362, 0.9530714523271362, 0.9530714523271362, 0.9530714523271362, 0.9530714523271362, 0.9530714523271362, 0.9530714523271362, 0.9530714523271362, 0.9530714523271362, 0.9530714523271362, 0.9530714523271362, 0.9530714523271362, 0.9530714523271362, 0.9530714523271362, 0.9530714523271362, 0.9530714523271362, 0.9530714523271362, 0.9530714523271362, 0.9530714523271362, 0.9530714523271362, 0.9530714523271362, 0.9530714523271362, 0.9530714523271362, 0.9530714523271362, 0.9530714523271362, 0.9530714523271362, 0.9530714523271362, 0.9530714523271362, 0.9530714523271362, 0.9530714523271362, 0.9530714523271362, 0.9530714523271362, 0.9530714523271362, 0.9530714523271362, 0.9530714523271362, 0.9597318010372973, 0.9597318010372973]}], \"f1_score_weighted\": [{\"categories\": [\"0\", \"1\", \"2\", \"3\", \"4\", \"5\", \"6\", \"7\", \"8\", \"9\", \"10\", \"11\", \"12\", \"13\", \"14\", \"15\", \"16\", \"17\", \"18\", \"19\", \"20\", \"21\", \"22\", \"23\", \"24\", \"25\", \"26\", \"27\", \"28\", \"29\", \"30\", \"31\", \"32\", \"33\", \"34\", \"35\", \"36\", \"37\", \"38\", \"39\", \"40\", \"41\", \"42\", \"43\", \"44\", \"45\", \"46\", \"47\", \"48\", \"49\", \"50\", \"51\", \"52\", \"53\", \"54\", \"55\", \"56\", \"57\", \"58\", \"59\", \"60\", \"61\", \"62\"], \"mode\": \"markers\", \"name\": \"f1_score_weighted\", \"stepped\": false, \"type\": \"scatter\", \"data\": [0.9470166503756123, 0.9432801203077101, 0.9330627699164186, 0.9207758179417119, 0.9333663814189386, 0.9400235147535222, 0.9364213385201747, 0.9311043230884725, 0.936440832256733, 0.9207156806896514, 0.9174507080698554, 0.9343855834616231, 0.9280080430268685, 0.9236217458920543, 0.9146550872235624, 0.9347943042507755, 0.929227812080246, 0.9223399526253406, 0.9311128348643954, 0.9400180748095435, 0.8885250750409076, 0.926037996411846, 0.9400444103689415, 0.9347901722196873, 0.9382379621668905, 0.929618779890184, 0.9314232309538323, 0.9365340819031538, 0.936494159153413, 0.9293016623611727, 0.938422395024786, 0.9363858483541995, 0.9400732034109225, 0.9417107055167866, 0.9312395072782754, 0.9347941206343424, 0.9347707008750807, 0.9383470204943922, 0.9332561340083088, 0.9327331296859127, 0.9419666700932942, 0.940025113176327, 0.9383295428493927, 0.9329710854551134, 0.932980864237235, 0.8879679895114595, 0.9312890443234103, 0.9327438779141841, 0.9333380687269119, 0.931056066009441, 0.9348593208050009, 0.9435187204685196, 0.9380946990386466, 0.9400242314951764, 0.9347415435006399, 0.9294557293020327, 0.933053811364584, 0.9330452806015547, 0.9417097718370604, 0.9365340819031538, 0.9402418104458731, 0.9540634923980221, 0.9449017198396605]}, {\"categories\": [\"0\", \"1\", \"2\", \"3\", \"4\", \"5\", \"6\", \"7\", \"8\", \"9\", \"10\", \"11\", \"12\", \"13\", \"14\", \"15\", \"16\", \"17\", \"18\", \"19\", \"20\", \"21\", \"22\", \"23\", \"24\", \"25\", \"26\", \"27\", \"28\", \"29\", \"30\", \"31\", \"32\", \"33\", \"34\", \"35\", \"36\", \"37\", \"38\", \"39\", \"40\", \"41\", \"42\", \"43\", \"44\", \"45\", \"46\", \"47\", \"48\", \"49\", \"50\", \"51\", \"52\", \"53\", \"54\", \"55\", \"56\", \"57\", \"58\", \"59\", \"60\", \"61\", \"62\"], \"mode\": \"lines\", \"name\": \"f1_score_weighted_max\", \"stepped\": true, \"type\": \"scatter\", \"data\": [0.9470166503756123, 0.9470166503756123, 0.9470166503756123, 0.9470166503756123, 0.9470166503756123, 0.9470166503756123, 0.9470166503756123, 0.9470166503756123, 0.9470166503756123, 0.9470166503756123, 0.9470166503756123, 0.9470166503756123, 0.9470166503756123, 0.9470166503756123, 0.9470166503756123, 0.9470166503756123, 0.9470166503756123, 0.9470166503756123, 0.9470166503756123, 0.9470166503756123, 0.9470166503756123, 0.9470166503756123, 0.9470166503756123, 0.9470166503756123, 0.9470166503756123, 0.9470166503756123, 0.9470166503756123, 0.9470166503756123, 0.9470166503756123, 0.9470166503756123, 0.9470166503756123, 0.9470166503756123, 0.9470166503756123, 0.9470166503756123, 0.9470166503756123, 0.9470166503756123, 0.9470166503756123, 0.9470166503756123, 0.9470166503756123, 0.9470166503756123, 0.9470166503756123, 0.9470166503756123, 0.9470166503756123, 0.9470166503756123, 0.9470166503756123, 0.9470166503756123, 0.9470166503756123, 0.9470166503756123, 0.9470166503756123, 0.9470166503756123, 0.9470166503756123, 0.9470166503756123, 0.9470166503756123, 0.9470166503756123, 0.9470166503756123, 0.9470166503756123, 0.9470166503756123, 0.9470166503756123, 0.9470166503756123, 0.9470166503756123, 0.9470166503756123, 0.9540634923980221, 0.9540634923980221]}], \"average_precision_score_weighted\": [{\"categories\": [\"0\", \"1\", \"2\", \"3\", \"4\", \"5\", \"6\", \"7\", \"8\", \"9\", \"10\", \"11\", \"12\", \"13\", \"14\", \"15\", \"16\", \"17\", \"18\", \"19\", \"20\", \"21\", \"22\", \"23\", \"24\", \"25\", \"26\", \"27\", \"28\", \"29\", \"30\", \"31\", \"32\", \"33\", \"34\", \"35\", \"36\", \"37\", \"38\", \"39\", \"40\", \"41\", \"42\", \"43\", \"44\", \"45\", \"46\", \"47\", \"48\", \"49\", \"50\", \"51\", \"52\", \"53\", \"54\", \"55\", \"56\", \"57\", \"58\", \"59\", \"60\", \"61\", \"62\"], \"mode\": \"markers\", \"name\": \"average_precision_score_weighted\", \"stepped\": false, \"type\": \"scatter\", \"data\": [0.9890928602697009, 0.9887396292696435, 0.9772949320630906, 0.9790086282552697, 0.9813502142837667, 0.98141945967953, 0.9867473109014202, 0.9821460105051825, 0.9795237569763235, 0.979338947792652, 0.9780840478638293, 0.9815479551628794, 0.9705986327952509, 0.9803418508376985, 0.9811507456522124, 0.9802574418654049, 0.9841688138409035, 0.9641772385170408, 0.978630709711189, 0.9867569171683787, 0.9563695117401801, 0.9788857436647118, 0.9893829420872782, 0.9865648578358108, 0.9856028802136405, 0.9858814248733466, 0.9825076606966862, 0.9862411573948444, 0.9858651654863234, 0.9861057936580065, 0.9880245808654256, 0.9876509355235511, 0.9875262219504058, 0.984958531062658, 0.9850757617222117, 0.9857624335060686, 0.9879993221855898, 0.9812894639399333, 0.9862909992085378, 0.9861819409213096, 0.9863748693772756, 0.9862132763210623, 0.9858541143307411, 0.9862247938744477, 0.9861017834329747, 0.931657424993246, 0.9799553647473467, 0.9841558343269945, 0.982421143105808, 0.9854650277338353, 0.9861575832393117, 0.9858914944504878, 0.9868054698788647, 0.9870477610784176, 0.985772707978283, 0.9799664685299895, 0.986302516966435, 0.985288799136986, 0.9861617058753176, 0.9864610128252773, 0.9881839323035247, 0.9908496121086443, 0.9895461768728044]}, {\"categories\": [\"0\", \"1\", \"2\", \"3\", \"4\", \"5\", \"6\", \"7\", \"8\", \"9\", \"10\", \"11\", \"12\", \"13\", \"14\", \"15\", \"16\", \"17\", \"18\", \"19\", \"20\", \"21\", \"22\", \"23\", \"24\", \"25\", \"26\", \"27\", \"28\", \"29\", \"30\", \"31\", \"32\", \"33\", \"34\", \"35\", \"36\", \"37\", \"38\", \"39\", \"40\", \"41\", \"42\", \"43\", \"44\", \"45\", \"46\", \"47\", \"48\", \"49\", \"50\", \"51\", \"52\", \"53\", \"54\", \"55\", \"56\", \"57\", \"58\", \"59\", \"60\", \"61\", \"62\"], \"mode\": \"lines\", \"name\": \"average_precision_score_weighted_max\", \"stepped\": true, \"type\": \"scatter\", \"data\": [0.9890928602697009, 0.9890928602697009, 0.9890928602697009, 0.9890928602697009, 0.9890928602697009, 0.9890928602697009, 0.9890928602697009, 0.9890928602697009, 0.9890928602697009, 0.9890928602697009, 0.9890928602697009, 0.9890928602697009, 0.9890928602697009, 0.9890928602697009, 0.9890928602697009, 0.9890928602697009, 0.9890928602697009, 0.9890928602697009, 0.9890928602697009, 0.9890928602697009, 0.9890928602697009, 0.9890928602697009, 0.9893829420872782, 0.9893829420872782, 0.9893829420872782, 0.9893829420872782, 0.9893829420872782, 0.9893829420872782, 0.9893829420872782, 0.9893829420872782, 0.9893829420872782, 0.9893829420872782, 0.9893829420872782, 0.9893829420872782, 0.9893829420872782, 0.9893829420872782, 0.9893829420872782, 0.9893829420872782, 0.9893829420872782, 0.9893829420872782, 0.9893829420872782, 0.9893829420872782, 0.9893829420872782, 0.9893829420872782, 0.9893829420872782, 0.9893829420872782, 0.9893829420872782, 0.9893829420872782, 0.9893829420872782, 0.9893829420872782, 0.9893829420872782, 0.9893829420872782, 0.9893829420872782, 0.9893829420872782, 0.9893829420872782, 0.9893829420872782, 0.9893829420872782, 0.9893829420872782, 0.9893829420872782, 0.9893829420872782, 0.9893829420872782, 0.9908496121086443, 0.9908496121086443]}], \"AUC_macro\": [{\"categories\": [\"0\", \"1\", \"2\", \"3\", \"4\", \"5\", \"6\", \"7\", \"8\", \"9\", \"10\", \"11\", \"12\", \"13\", \"14\", \"15\", \"16\", \"17\", \"18\", \"19\", \"20\", \"21\", \"22\", \"23\", \"24\", \"25\", \"26\", \"27\", \"28\", \"29\", \"30\", \"31\", \"32\", \"33\", \"34\", \"35\", \"36\", \"37\", \"38\", \"39\", \"40\", \"41\", \"42\", \"43\", \"44\", \"45\", \"46\", \"47\", \"48\", \"49\", \"50\", \"51\", \"52\", \"53\", \"54\", \"55\", \"56\", \"57\", \"58\", \"59\", \"60\", \"61\", \"62\"], \"mode\": \"markers\", \"name\": \"AUC_macro\", \"stepped\": false, \"type\": \"scatter\", \"data\": [0.9882890962634558, 0.9878949691302588, 0.9768854278447792, 0.9773468697849083, 0.9819322807854878, 0.979333070070029, 0.9858217140158978, 0.9809753141251804, 0.9793396465259541, 0.9778292514242741, 0.9775416430087548, 0.9815636050009069, 0.970253544193292, 0.9785078885642008, 0.9794365739582129, 0.9797605043456304, 0.9828795924113536, 0.9686688064350587, 0.9780375323039964, 0.9854559002033731, 0.953456456633455, 0.9774831194747104, 0.9884569484707896, 0.9856539769120414, 0.9845967449891105, 0.9847252807186558, 0.9808292423803053, 0.9849359934277416, 0.9848193612470342, 0.9851296510792814, 0.9869704125124574, 0.9867236639198484, 0.9863756805226286, 0.9841599711059337, 0.9839241155803803, 0.9851314988659106, 0.9870330785442094, 0.980810776929669, 0.9851658750924607, 0.9850403163577808, 0.9851108554141439, 0.9850986029805588, 0.9848971131543957, 0.9850291666068202, 0.9849362572189703, 0.9334947949944178, 0.9786583015382304, 0.9828167273785574, 0.9823432053742953, 0.9843451076357344, 0.985039152046651, 0.9846160257820333, 0.9858682895719024, 0.9859519079613517, 0.9845735389218542, 0.9787956687575669, 0.9853476672275319, 0.98399106854528, 0.9848795357036749, 0.9851298212315441, 0.9871527402755795, 0.9900709073656063, 0.9885693085022295]}, {\"categories\": [\"0\", \"1\", \"2\", \"3\", \"4\", \"5\", \"6\", \"7\", \"8\", \"9\", \"10\", \"11\", \"12\", \"13\", \"14\", \"15\", \"16\", \"17\", \"18\", \"19\", \"20\", \"21\", \"22\", \"23\", \"24\", \"25\", \"26\", \"27\", \"28\", \"29\", \"30\", \"31\", \"32\", \"33\", \"34\", \"35\", \"36\", \"37\", \"38\", \"39\", \"40\", \"41\", \"42\", \"43\", \"44\", \"45\", \"46\", \"47\", \"48\", \"49\", \"50\", \"51\", \"52\", \"53\", \"54\", \"55\", \"56\", \"57\", \"58\", \"59\", \"60\", \"61\", \"62\"], \"mode\": \"lines\", \"name\": \"AUC_macro_max\", \"stepped\": true, \"type\": \"scatter\", \"data\": [0.9882890962634558, 0.9882890962634558, 0.9882890962634558, 0.9882890962634558, 0.9882890962634558, 0.9882890962634558, 0.9882890962634558, 0.9882890962634558, 0.9882890962634558, 0.9882890962634558, 0.9882890962634558, 0.9882890962634558, 0.9882890962634558, 0.9882890962634558, 0.9882890962634558, 0.9882890962634558, 0.9882890962634558, 0.9882890962634558, 0.9882890962634558, 0.9882890962634558, 0.9882890962634558, 0.9882890962634558, 0.9884569484707896, 0.9884569484707896, 0.9884569484707896, 0.9884569484707896, 0.9884569484707896, 0.9884569484707896, 0.9884569484707896, 0.9884569484707896, 0.9884569484707896, 0.9884569484707896, 0.9884569484707896, 0.9884569484707896, 0.9884569484707896, 0.9884569484707896, 0.9884569484707896, 0.9884569484707896, 0.9884569484707896, 0.9884569484707896, 0.9884569484707896, 0.9884569484707896, 0.9884569484707896, 0.9884569484707896, 0.9884569484707896, 0.9884569484707896, 0.9884569484707896, 0.9884569484707896, 0.9884569484707896, 0.9884569484707896, 0.9884569484707896, 0.9884569484707896, 0.9884569484707896, 0.9884569484707896, 0.9884569484707896, 0.9884569484707896, 0.9884569484707896, 0.9884569484707896, 0.9884569484707896, 0.9884569484707896, 0.9884569484707896, 0.9900709073656063, 0.9900709073656063]}], \"average_precision_score_macro\": [{\"categories\": [\"0\", \"1\", \"2\", \"3\", \"4\", \"5\", \"6\", \"7\", \"8\", \"9\", \"10\", \"11\", \"12\", \"13\", \"14\", \"15\", \"16\", \"17\", \"18\", \"19\", \"20\", \"21\", \"22\", \"23\", \"24\", \"25\", \"26\", \"27\", \"28\", \"29\", \"30\", \"31\", \"32\", \"33\", \"34\", \"35\", \"36\", \"37\", \"38\", \"39\", \"40\", \"41\", \"42\", \"43\", \"44\", \"45\", \"46\", \"47\", \"48\", \"49\", \"50\", \"51\", \"52\", \"53\", \"54\", \"55\", \"56\", \"57\", \"58\", \"59\", \"60\", \"61\", \"62\"], \"mode\": \"markers\", \"name\": \"average_precision_score_macro\", \"stepped\": false, \"type\": \"scatter\", \"data\": [0.9878618411403408, 0.9877528148983308, 0.9755176978816269, 0.9767628777843255, 0.980174117238759, 0.9798355835868188, 0.9854087677327928, 0.9800296311957226, 0.9780261895299489, 0.9770510788097688, 0.9762735805887626, 0.9800245763560872, 0.9684658962632786, 0.9781529366059776, 0.9789597556838355, 0.9786076133310008, 0.9823614907622259, 0.9603053883530202, 0.9768505613884078, 0.985071574012132, 0.9521360842928066, 0.9765350000668219, 0.9883183318310632, 0.9853719422829361, 0.9840984259462878, 0.9844089414129529, 0.9808837950346693, 0.9844837020846441, 0.9842658516404132, 0.984522516598344, 0.9869792342913468, 0.9864239230742629, 0.9860343161946032, 0.983938446674349, 0.9836393270630156, 0.9845016001840703, 0.9865412415452, 0.9796666599146672, 0.9845140923104513, 0.9844791259387797, 0.9851482405444729, 0.9849017530085801, 0.9843083357794118, 0.9847030648875105, 0.984639211882849, 0.9260741684257037, 0.9777826204442661, 0.9823402965296945, 0.9811987363605521, 0.983863441611369, 0.9848933924749737, 0.9842596381877293, 0.9851163904207791, 0.9854248888708836, 0.9842696261308135, 0.9776615476917396, 0.9850469730970172, 0.9836067288819871, 0.9844020526680746, 0.9847488365016662, 0.9872535982216515, 0.9899209330690499, 0.9883968980168218]}, {\"categories\": [\"0\", \"1\", \"2\", \"3\", \"4\", \"5\", \"6\", \"7\", \"8\", \"9\", \"10\", \"11\", \"12\", \"13\", \"14\", \"15\", \"16\", \"17\", \"18\", \"19\", \"20\", \"21\", \"22\", \"23\", \"24\", \"25\", \"26\", \"27\", \"28\", \"29\", \"30\", \"31\", \"32\", \"33\", \"34\", \"35\", \"36\", \"37\", \"38\", \"39\", \"40\", \"41\", \"42\", \"43\", \"44\", \"45\", \"46\", \"47\", \"48\", \"49\", \"50\", \"51\", \"52\", \"53\", \"54\", \"55\", \"56\", \"57\", \"58\", \"59\", \"60\", \"61\", \"62\"], \"mode\": \"lines\", \"name\": \"average_precision_score_macro_max\", \"stepped\": true, \"type\": \"scatter\", \"data\": [0.9878618411403408, 0.9878618411403408, 0.9878618411403408, 0.9878618411403408, 0.9878618411403408, 0.9878618411403408, 0.9878618411403408, 0.9878618411403408, 0.9878618411403408, 0.9878618411403408, 0.9878618411403408, 0.9878618411403408, 0.9878618411403408, 0.9878618411403408, 0.9878618411403408, 0.9878618411403408, 0.9878618411403408, 0.9878618411403408, 0.9878618411403408, 0.9878618411403408, 0.9878618411403408, 0.9878618411403408, 0.9883183318310632, 0.9883183318310632, 0.9883183318310632, 0.9883183318310632, 0.9883183318310632, 0.9883183318310632, 0.9883183318310632, 0.9883183318310632, 0.9883183318310632, 0.9883183318310632, 0.9883183318310632, 0.9883183318310632, 0.9883183318310632, 0.9883183318310632, 0.9883183318310632, 0.9883183318310632, 0.9883183318310632, 0.9883183318310632, 0.9883183318310632, 0.9883183318310632, 0.9883183318310632, 0.9883183318310632, 0.9883183318310632, 0.9883183318310632, 0.9883183318310632, 0.9883183318310632, 0.9883183318310632, 0.9883183318310632, 0.9883183318310632, 0.9883183318310632, 0.9883183318310632, 0.9883183318310632, 0.9883183318310632, 0.9883183318310632, 0.9883183318310632, 0.9883183318310632, 0.9883183318310632, 0.9883183318310632, 0.9883183318310632, 0.9899209330690499, 0.9899209330690499]}], \"precision_score_macro\": [{\"categories\": [\"0\", \"1\", \"2\", \"3\", \"4\", \"5\", \"6\", \"7\", \"8\", \"9\", \"10\", \"11\", \"12\", \"13\", \"14\", \"15\", \"16\", \"17\", \"18\", \"19\", \"20\", \"21\", \"22\", \"23\", \"24\", \"25\", \"26\", \"27\", \"28\", \"29\", \"30\", \"31\", \"32\", \"33\", \"34\", \"35\", \"36\", \"37\", \"38\", \"39\", \"40\", \"41\", \"42\", \"43\", \"44\", \"45\", \"46\", \"47\", \"48\", \"49\", \"50\", \"51\", \"52\", \"53\", \"54\", \"55\", \"56\", \"57\", \"58\", \"59\", \"60\", \"61\", \"62\"], \"mode\": \"markers\", \"name\": \"precision_score_macro\", \"stepped\": false, \"type\": \"scatter\", \"data\": [0.9463624725308666, 0.9448256332558085, 0.9286138674130872, 0.9171492292037657, 0.9265538392988418, 0.9386092233775789, 0.934572916647858, 0.9288618765730412, 0.9340435552575294, 0.9169381271064256, 0.9099456373889675, 0.9363172827469883, 0.9212624362753316, 0.9262789171135634, 0.9171460061990173, 0.930892979240738, 0.9276495478828458, 0.9191850943314359, 0.9286308200553204, 0.9382476093451704, 0.9011214909473424, 0.9214320389223264, 0.9374153412059589, 0.9313394526671932, 0.9366957775278705, 0.9246334668004417, 0.9257363155916124, 0.9345538919944112, 0.9337650887640244, 0.9276845099061642, 0.9340913732532712, 0.9344042083286794, 0.9373546102312202, 0.9411952033350094, 0.9284301442514685, 0.9312726861473664, 0.9308104841143846, 0.9341127427559652, 0.9273824660013918, 0.9316409412921042, 0.9382133124865926, 0.9374139734743763, 0.934291595334266, 0.9302108398857623, 0.9302975290571197, 0.9040990365096218, 0.9270334277529055, 0.9310588648214108, 0.9263099182831326, 0.9297232320804676, 0.9307877460729284, 0.9411693840412376, 0.9367737508286064, 0.9369685318419716, 0.9311787086292176, 0.9260039430708205, 0.9291354248109911, 0.9290502892043948, 0.9419936992339839, 0.9345538919944112, 0.9352607909148516, 0.9542279812776966, 0.9485093659651792]}, {\"categories\": [\"0\", \"1\", \"2\", \"3\", \"4\", \"5\", \"6\", \"7\", \"8\", \"9\", \"10\", \"11\", \"12\", \"13\", \"14\", \"15\", \"16\", \"17\", \"18\", \"19\", \"20\", \"21\", \"22\", \"23\", \"24\", \"25\", \"26\", \"27\", \"28\", \"29\", \"30\", \"31\", \"32\", \"33\", \"34\", \"35\", \"36\", \"37\", \"38\", \"39\", \"40\", \"41\", \"42\", \"43\", \"44\", \"45\", \"46\", \"47\", \"48\", \"49\", \"50\", \"51\", \"52\", \"53\", \"54\", \"55\", \"56\", \"57\", \"58\", \"59\", \"60\", \"61\", \"62\"], \"mode\": \"lines\", \"name\": \"precision_score_macro_max\", \"stepped\": true, \"type\": \"scatter\", \"data\": [0.9463624725308666, 0.9463624725308666, 0.9463624725308666, 0.9463624725308666, 0.9463624725308666, 0.9463624725308666, 0.9463624725308666, 0.9463624725308666, 0.9463624725308666, 0.9463624725308666, 0.9463624725308666, 0.9463624725308666, 0.9463624725308666, 0.9463624725308666, 0.9463624725308666, 0.9463624725308666, 0.9463624725308666, 0.9463624725308666, 0.9463624725308666, 0.9463624725308666, 0.9463624725308666, 0.9463624725308666, 0.9463624725308666, 0.9463624725308666, 0.9463624725308666, 0.9463624725308666, 0.9463624725308666, 0.9463624725308666, 0.9463624725308666, 0.9463624725308666, 0.9463624725308666, 0.9463624725308666, 0.9463624725308666, 0.9463624725308666, 0.9463624725308666, 0.9463624725308666, 0.9463624725308666, 0.9463624725308666, 0.9463624725308666, 0.9463624725308666, 0.9463624725308666, 0.9463624725308666, 0.9463624725308666, 0.9463624725308666, 0.9463624725308666, 0.9463624725308666, 0.9463624725308666, 0.9463624725308666, 0.9463624725308666, 0.9463624725308666, 0.9463624725308666, 0.9463624725308666, 0.9463624725308666, 0.9463624725308666, 0.9463624725308666, 0.9463624725308666, 0.9463624725308666, 0.9463624725308666, 0.9463624725308666, 0.9463624725308666, 0.9463624725308666, 0.9542279812776966, 0.9542279812776966]}]}, \"metricName\": null, \"primaryMetricName\": \"accuracy\", \"showLegend\": false}, \"run_metrics\": [{\"name\": \"f1_score_micro\", \"run_id\": \"AutoML_fba1e8bc-dc8d-4760-847e-5bac45aa1792\", \"categories\": [0], \"series\": [{\"data\": [0.9542462350566682]}]}, {\"name\": \"log_loss\", \"run_id\": \"AutoML_fba1e8bc-dc8d-4760-847e-5bac45aa1792\", \"categories\": [0], \"series\": [{\"data\": [0.12600404089612646]}]}, {\"name\": \"precision_score_micro\", \"run_id\": \"AutoML_fba1e8bc-dc8d-4760-847e-5bac45aa1792\", \"categories\": [0], \"series\": [{\"data\": [0.9542462350566682]}]}, {\"name\": \"norm_macro_recall\", \"run_id\": \"AutoML_fba1e8bc-dc8d-4760-847e-5bac45aa1792\", \"categories\": [0], \"series\": [{\"data\": [0.8955398985498876]}]}, {\"name\": \"recall_score_weighted\", \"run_id\": \"AutoML_fba1e8bc-dc8d-4760-847e-5bac45aa1792\", \"categories\": [0], \"series\": [{\"data\": [0.9542462350566682]}]}, {\"name\": \"average_precision_score_macro\", \"run_id\": \"AutoML_fba1e8bc-dc8d-4760-847e-5bac45aa1792\", \"categories\": [0], \"series\": [{\"data\": [0.9899209330690499]}]}, {\"name\": \"precision_score_macro\", \"run_id\": \"AutoML_fba1e8bc-dc8d-4760-847e-5bac45aa1792\", \"categories\": [0], \"series\": [{\"data\": [0.9542279812776966]}]}, {\"name\": \"balanced_accuracy\", \"run_id\": \"AutoML_fba1e8bc-dc8d-4760-847e-5bac45aa1792\", \"categories\": [0], \"series\": [{\"data\": [0.9477699492749438]}]}, {\"name\": \"f1_score_weighted\", \"run_id\": \"AutoML_fba1e8bc-dc8d-4760-847e-5bac45aa1792\", \"categories\": [0], \"series\": [{\"data\": [0.9540634923980221]}]}, {\"name\": \"average_precision_score_weighted\", \"run_id\": \"AutoML_fba1e8bc-dc8d-4760-847e-5bac45aa1792\", \"categories\": [0], \"series\": [{\"data\": [0.9908496121086443]}]}, {\"name\": \"weighted_accuracy\", \"run_id\": \"AutoML_fba1e8bc-dc8d-4760-847e-5bac45aa1792\", \"categories\": [0], \"series\": [{\"data\": [0.9597318010372973]}]}, {\"name\": \"accuracy\", \"run_id\": \"AutoML_fba1e8bc-dc8d-4760-847e-5bac45aa1792\", \"categories\": [0], \"series\": [{\"data\": [0.9542462350566682]}]}, {\"name\": \"f1_score_macro\", \"run_id\": \"AutoML_fba1e8bc-dc8d-4760-847e-5bac45aa1792\", \"categories\": [0], \"series\": [{\"data\": [0.9507183852665527]}]}, {\"name\": \"AUC_macro\", \"run_id\": \"AutoML_fba1e8bc-dc8d-4760-847e-5bac45aa1792\", \"categories\": [0], \"series\": [{\"data\": [0.9900709073656063]}]}, {\"name\": \"AUC_weighted\", \"run_id\": \"AutoML_fba1e8bc-dc8d-4760-847e-5bac45aa1792\", \"categories\": [0], \"series\": [{\"data\": [0.9900709073656063]}]}, {\"name\": \"AUC_micro\", \"run_id\": \"AutoML_fba1e8bc-dc8d-4760-847e-5bac45aa1792\", \"categories\": [0], \"series\": [{\"data\": [0.9903586074220178]}]}, {\"name\": \"recall_score_macro\", \"run_id\": \"AutoML_fba1e8bc-dc8d-4760-847e-5bac45aa1792\", \"categories\": [0], \"series\": [{\"data\": [0.9477699492749438]}]}, {\"name\": \"matthews_correlation\", \"run_id\": \"AutoML_fba1e8bc-dc8d-4760-847e-5bac45aa1792\", \"categories\": [0], \"series\": [{\"data\": [0.9019458682216899]}]}, {\"name\": \"average_precision_score_micro\", \"run_id\": \"AutoML_fba1e8bc-dc8d-4760-847e-5bac45aa1792\", \"categories\": [0], \"series\": [{\"data\": [0.990671597479238]}]}, {\"name\": \"recall_score_micro\", \"run_id\": \"AutoML_fba1e8bc-dc8d-4760-847e-5bac45aa1792\", \"categories\": [0], \"series\": [{\"data\": [0.9542462350566682]}]}, {\"name\": \"precision_score_weighted\", \"run_id\": \"AutoML_fba1e8bc-dc8d-4760-847e-5bac45aa1792\", \"categories\": [0], \"series\": [{\"data\": [0.9543427568440581]}]}], \"run_logs\": \"\\nRun is completed.\", \"graph\": {}, \"widget_settings\": {\"childWidgetDisplay\": \"popup\", \"send_telemetry\": false, \"log_level\": \"INFO\", \"sdk_version\": \"1.20.0\"}, \"loading\": false}"
          },
          "metadata": {}
        }
      ],
      "execution_count": 14,
      "metadata": {
        "gather": {
          "logged": 1612014581763
        },
        "jupyter": {
          "outputs_hidden": false,
          "source_hidden": false
        },
        "nteract": {
          "transient": {
            "deleting": false
          }
        }
      }
    },
    {
      "cell_type": "markdown",
      "source": [
        "## Best Model\n",
        "\n",
        "TODO: In the cell below, get the best model from the automl experiments and display all the properties of the model.\n",
        "\n"
      ],
      "metadata": {}
    },
    {
      "cell_type": "code",
      "source": [
        "best_run, fitted_model = remote_run.get_output()\r\n",
        "print('Best-run model: ',best_run)\r\n",
        "print('\\n fitted model: ',fitted_model)"
      ],
      "outputs": [
        {
          "output_type": "stream",
          "name": "stdout",
          "text": [
            "Best-run model:  Run(Experiment: udacity-capstone,\n",
            "Id: AutoML_fba1e8bc-dc8d-4760-847e-5bac45aa1792_61,\n",
            "Type: None,\n",
            "Status: Completed)\n",
            "\n",
            " fitted model:  Pipeline(memory=None,\n",
            "         steps=[('datatransformer',\n",
            "                 DataTransformer(enable_dnn=None, enable_feature_sweeping=None,\n",
            "                                 feature_sweeping_config=None,\n",
            "                                 feature_sweeping_timeout=None,\n",
            "                                 featurization_config=None, force_text_dnn=None,\n",
            "                                 is_cross_validation=None,\n",
            "                                 is_onnx_compatible=None, logger=None,\n",
            "                                 observer=None, task=None, working_dir=None)),\n",
            "                ('prefittedsoftvotingclassifier',...\n",
            "                                                                                        coef0=0.0,\n",
            "                                                                                        decision_function_shape='ovr',\n",
            "                                                                                        degree=3,\n",
            "                                                                                        gamma='scale',\n",
            "                                                                                        kernel='rbf',\n",
            "                                                                                        max_iter=-1,\n",
            "                                                                                        probability=True,\n",
            "                                                                                        random_state=None,\n",
            "                                                                                        shrinking=True,\n",
            "                                                                                        tol=0.001,\n",
            "                                                                                        verbose=False))],\n",
            "                                                                     verbose=False))],\n",
            "                                               flatten_transform=None,\n",
            "                                               weights=[0.2857142857142857,\n",
            "                                                        0.14285714285714285,\n",
            "                                                        0.14285714285714285,\n",
            "                                                        0.14285714285714285,\n",
            "                                                        0.14285714285714285,\n",
            "                                                        0.14285714285714285]))],\n",
            "         verbose=False)\n",
            "Y_transformer(['LabelEncoder', LabelEncoder()])\n"
          ]
        }
      ],
      "execution_count": 18,
      "metadata": {
        "gather": {
          "logged": 1612016482486
        },
        "jupyter": {
          "outputs_hidden": false,
          "source_hidden": false
        },
        "nteract": {
          "transient": {
            "deleting": false
          }
        }
      }
    },
    {
      "cell_type": "code",
      "source": [
        "#TODO: Save the best model\r\n",
        "import joblib\r\n",
        "joblib.dump(fitted_model,\"best_model.pkl\")"
      ],
      "outputs": [
        {
          "output_type": "execute_result",
          "execution_count": 19,
          "data": {
            "text/plain": "['best_model.pkl']",
            "text/html": "['best_model.pkl']"
          },
          "metadata": {}
        }
      ],
      "execution_count": 19,
      "metadata": {
        "gather": {
          "logged": 1612016491595
        },
        "jupyter": {
          "outputs_hidden": false,
          "source_hidden": false
        },
        "nteract": {
          "transient": {
            "deleting": false
          }
        }
      }
    },
    {
      "cell_type": "markdown",
      "source": [
        "## Model Deployment\n",
        "\n",
        "Remember you have to deploy only one of the two models you trained.. Perform the steps in the rest of this notebook only if you wish to deploy this model.\n",
        "\n",
        "TODO: In the cell below, register the model, create an inference config and deploy the model as a web service."
      ],
      "metadata": {}
    },
    {
      "cell_type": "code",
      "source": [
        "automl_model =remote_run.register_model(model_name = 'automl_best_model')"
      ],
      "outputs": [],
      "execution_count": 16,
      "metadata": {
        "collapsed": true,
        "jupyter": {
          "source_hidden": false,
          "outputs_hidden": false
        },
        "nteract": {
          "transient": {
            "deleting": false
          }
        },
        "gather": {
          "logged": 1611673876419
        }
      }
    },
    {
      "cell_type": "code",
      "source": [
        "script_file_name ='score.py'\r\n",
        "best_run.download_file('outputs/scoring_file_v_1_0_0.py','score.py')\r\n",
        "env=Environment.get(workspace=ws,name=\"AzureML-AutoML\")"
      ],
      "outputs": [],
      "execution_count": 20,
      "metadata": {
        "collapsed": true,
        "jupyter": {
          "source_hidden": false,
          "outputs_hidden": false
        },
        "nteract": {
          "transient": {
            "deleting": false
          }
        },
        "gather": {
          "logged": 1612016498214
        }
      }
    },
    {
      "cell_type": "code",
      "source": [
        "inference_config = InferenceConfig(entry_script=script_file_name, environment=env)"
      ],
      "outputs": [],
      "execution_count": 21,
      "metadata": {
        "collapsed": true,
        "jupyter": {
          "source_hidden": false,
          "outputs_hidden": false
        },
        "nteract": {
          "transient": {
            "deleting": false
          }
        },
        "gather": {
          "logged": 1612016503019
        }
      }
    },
    {
      "cell_type": "code",
      "source": [
        "from azureml.core.model import Model\r\n",
        "import joblib\r\n",
        "model = Model.register(workspace=ws, model_path=\"best_model.pkl\", model_name=\"automl-test-model\")"
      ],
      "outputs": [
        {
          "output_type": "stream",
          "name": "stdout",
          "text": [
            "Registering model automl-test-model\n"
          ]
        }
      ],
      "execution_count": 22,
      "metadata": {
        "gather": {
          "logged": 1612016506579
        },
        "jupyter": {
          "outputs_hidden": false,
          "source_hidden": false
        },
        "nteract": {
          "transient": {
            "deleting": false
          }
        }
      }
    },
    {
      "cell_type": "code",
      "source": [
        "from azureml.core import Workspace, Environment\r\n",
        "\r\n",
        "ws = Workspace.from_config()\r\n",
        "env = Environment.get(workspace=ws, name=\"AzureML-Minimal\")"
      ],
      "outputs": [],
      "execution_count": 23,
      "metadata": {
        "collapsed": true,
        "jupyter": {
          "source_hidden": false,
          "outputs_hidden": false
        },
        "nteract": {
          "transient": {
            "deleting": false
          }
        },
        "gather": {
          "logged": 1612016512943
        }
      }
    },
    {
      "cell_type": "code",
      "source": [
        "\r\n",
        "\r\n",
        "aci_config = AciWebservice.deploy_configuration(cpu_cores = 1, memory_gb = 1)\r\n",
        "\r\n",
        "aci_service_name = 'automl-cancer'\r\n",
        "print(aci_service_name)"
      ],
      "outputs": [
        {
          "output_type": "stream",
          "name": "stdout",
          "text": [
            "automl-cancer\n"
          ]
        }
      ],
      "execution_count": 24,
      "metadata": {
        "collapsed": true,
        "jupyter": {
          "source_hidden": false,
          "outputs_hidden": false
        },
        "nteract": {
          "transient": {
            "deleting": false
          }
        },
        "gather": {
          "logged": 1612016517558
        }
      }
    },
    {
      "cell_type": "code",
      "source": [
        "from azureml.core.model import InferenceConfig\r\n",
        "from azureml.core.webservice import AciWebservice\r\n",
        "\r\n",
        "\r\n",
        "\r\n",
        "service_name = 'custom-env-service'\r\n",
        "\r\n",
        "\r\n",
        "\r\n",
        "service = Model.deploy(workspace=ws,\r\n",
        "                       name=service_name,\r\n",
        "                       models=[automl_model],\r\n",
        "                       inference_config=inference_config,\r\n",
        "                       deployment_config=aci_config,\r\n",
        "                       overwrite=True)\r\n",
        "service.wait_for_deployment(show_output=True)"
      ],
      "outputs": [],
      "execution_count": null,
      "metadata": {
        "collapsed": true,
        "jupyter": {
          "source_hidden": false,
          "outputs_hidden": false
        },
        "nteract": {
          "transient": {
            "deleting": false
          }
        },
        "gather": {
          "logged": 1611673935310
        }
      }
    },
    {
      "cell_type": "code",
      "source": [
        "\r\n",
        "print(\"Scoring uri:\" , service.scoring_uri)"
      ],
      "outputs": [
        {
          "output_type": "stream",
          "name": "stdout",
          "text": [
            "Scoring uri: http://ea0e0ff9-d344-4a54-884e-d6b576d36d61.southcentralus.azurecontainer.io/score\n"
          ]
        }
      ],
      "execution_count": 32,
      "metadata": {
        "collapsed": true,
        "jupyter": {
          "source_hidden": false,
          "outputs_hidden": false
        },
        "nteract": {
          "transient": {
            "deleting": false
          }
        },
        "gather": {
          "logged": 1612016810206
        }
      }
    },
    {
      "cell_type": "markdown",
      "source": [
        "TODO: In the cell below, send a request to the web service you deployed to test it."
      ],
      "metadata": {
        "collapsed": true,
        "gather": {
          "logged": 1598431657736
        },
        "jupyter": {
          "outputs_hidden": false,
          "source_hidden": false
        },
        "nteract": {
          "transient": {
            "deleting": false
          }
        }
      }
    },
    {
      "cell_type": "code",
      "source": [
        "scoring_uri = 'http://ea0e0ff9-d344-4a54-884e-d6b576d36d61.southcentralus.azurecontainer.io/score'\r\n",
        "headers = {'Content-Type':'application/json'}\r\n",
        "\r\n",
        "input_data = json.dumps({'data':[{\r\n",
        "    \t\t\t\t\t\t\t\t\r\n",
        "    'radius_mean':17.99,\r\n",
        "    'texture_mean':10.38,\r\n",
        "    'perimeter_mean':122.80,\t\r\n",
        "    'area_mean':1001.00,\t\r\n",
        "    'smoothness_mean':0.12,\t\r\n",
        "    'compactness_mean':0.28,\r\n",
        "    'concavity_mean':0.30,\t\r\n",
        "    'concave points_mean':0.15\t\r\n",
        "    }\r\n",
        "    ]\r\n",
        "        })\r\n",
        "response = requests.post(scoring_uri, data=input_data, headers=headers)\r\n",
        "\r\n",
        "print(\"Result:\",response.text)"
      ],
      "outputs": [
        {
          "output_type": "stream",
          "name": "stdout",
          "text": [
            "Result: \"{\\\"result\\\": [\\\"M\\\"]}\"\n"
          ]
        }
      ],
      "execution_count": 39,
      "metadata": {
        "gather": {
          "logged": 1612017870555
        },
        "jupyter": {
          "outputs_hidden": false,
          "source_hidden": false
        },
        "nteract": {
          "transient": {
            "deleting": false
          }
        }
      }
    },
    {
      "cell_type": "markdown",
      "source": [
        "TODO: In the cell below, print the logs of the web service and delete the service"
      ],
      "metadata": {
        "collapsed": true,
        "gather": {
          "logged": 1598432765711
        },
        "jupyter": {
          "outputs_hidden": false,
          "source_hidden": false
        },
        "nteract": {
          "transient": {
            "deleting": false
          }
        }
      }
    },
    {
      "cell_type": "code",
      "source": [
        "print(service.get_logs())"
      ],
      "outputs": [
        {
          "output_type": "stream",
          "name": "stdout",
          "text": [
            "2021-01-30T14:26:42,218472904+00:00 - iot-server/run \n",
            "2021-01-30T14:26:42,220589920+00:00 - rsyslog/run \n",
            "2021-01-30T14:26:42,220615920+00:00 - gunicorn/run \n",
            "2021-01-30T14:26:42,221779129+00:00 - nginx/run \n",
            "/usr/sbin/nginx: /azureml-envs/azureml_7ade26eb614f97df8030bc480da59236/lib/libcrypto.so.1.0.0: no version information available (required by /usr/sbin/nginx)\n",
            "/usr/sbin/nginx: /azureml-envs/azureml_7ade26eb614f97df8030bc480da59236/lib/libcrypto.so.1.0.0: no version information available (required by /usr/sbin/nginx)\n",
            "/usr/sbin/nginx: /azureml-envs/azureml_7ade26eb614f97df8030bc480da59236/lib/libssl.so.1.0.0: no version information available (required by /usr/sbin/nginx)\n",
            "/usr/sbin/nginx: /azureml-envs/azureml_7ade26eb614f97df8030bc480da59236/lib/libssl.so.1.0.0: no version information available (required by /usr/sbin/nginx)\n",
            "/usr/sbin/nginx: /azureml-envs/azureml_7ade26eb614f97df8030bc480da59236/lib/libssl.so.1.0.0: no version information available (required by /usr/sbin/nginx)\n",
            "rsyslogd: /azureml-envs/azureml_7ade26eb614f97df8030bc480da59236/lib/libuuid.so.1: no version information available (required by rsyslogd)\n",
            "EdgeHubConnectionString and IOTEDGE_IOTHUBHOSTNAME are not set. Exiting...\n",
            "2021-01-30T14:26:42,345350141+00:00 - iot-server/finish 1 0\n",
            "2021-01-30T14:26:42,346746652+00:00 - Exit code 1 is normal. Not restarting iot-server.\n",
            "Starting gunicorn 19.9.0\n",
            "Listening at: http://127.0.0.1:31311 (11)\n",
            "Using worker: sync\n",
            "worker timeout is set to 300\n",
            "Booting worker with pid: 41\n",
            "SPARK_HOME not set. Skipping PySpark Initialization.\n",
            "Generating new fontManager, this may take some time...\n",
            "Initializing logger\n",
            "2021-01-30 14:26:43,485 | root | INFO | Starting up app insights client\n",
            "2021-01-30 14:26:43,485 | root | INFO | Starting up request id generator\n",
            "2021-01-30 14:26:43,486 | root | INFO | Starting up app insight hooks\n",
            "2021-01-30 14:26:43,486 | root | INFO | Invoking user's init function\n",
            "2021-01-30 14:26:45,813 | root | INFO | Users's init has completed successfully\n",
            "2021-01-30 14:26:45,818 | root | INFO | Skipping middleware: dbg_model_info as it's not enabled.\n",
            "2021-01-30 14:26:45,818 | root | INFO | Skipping middleware: dbg_resource_usage as it's not enabled.\n",
            "2021-01-30 14:26:45,820 | root | INFO | Scoring timeout is found from os.environ: 60000 ms\n",
            "2021-01-30 14:26:47,690 | root | INFO | 200\n",
            "127.0.0.1 - - [30/Jan/2021:14:26:47 +0000] \"GET /swagger.json HTTP/1.0\" 200 2616 \"-\" \"Go-http-client/1.1\"\n",
            "2021-01-30 14:26:49,386 | root | INFO | 200\n",
            "127.0.0.1 - - [30/Jan/2021:14:26:49 +0000] \"GET /swagger.json HTTP/1.0\" 200 2616 \"-\" \"Go-http-client/1.1\"\n",
            "2021-01-30 14:27:34,904 | root | INFO | Validation Request Content-Type\n",
            "2021-01-30 14:27:34,904 | root | INFO | Scoring Timer is set to 60.0 seconds\n",
            "2021-01-30 14:27:34,957 | root | INFO | 200\n",
            "127.0.0.1 - - [30/Jan/2021:14:27:34 +0000] \"POST /score HTTP/1.0\" 200 23 \"-\" \"python-requests/2.25.1\"\n",
            "\n"
          ]
        }
      ],
      "execution_count": 34,
      "metadata": {
        "jupyter": {
          "outputs_hidden": false,
          "source_hidden": false
        },
        "nteract": {
          "transient": {
            "deleting": false
          }
        },
        "gather": {
          "logged": 1612016872568
        }
      }
    },
    {
      "cell_type": "code",
      "source": [
        "service.delete()"
      ],
      "outputs": [],
      "execution_count": 51,
      "metadata": {
        "collapsed": true,
        "jupyter": {
          "source_hidden": false,
          "outputs_hidden": false
        },
        "nteract": {
          "transient": {
            "deleting": false
          }
        },
        "gather": {
          "logged": 1611674676729
        }
      }
    }
  ],
  "metadata": {
    "kernel_info": {
      "name": "python3"
    },
    "kernelspec": {
      "name": "python3",
      "language": "python",
      "display_name": "Python 3"
    },
    "language_info": {
      "name": "python",
      "version": "3.6.9",
      "mimetype": "text/x-python",
      "codemirror_mode": {
        "name": "ipython",
        "version": 3
      },
      "pygments_lexer": "ipython3",
      "nbconvert_exporter": "python",
      "file_extension": ".py"
    },
    "nteract": {
      "version": "nteract-front-end@1.0.0"
    }
  },
  "nbformat": 4,
  "nbformat_minor": 2
}